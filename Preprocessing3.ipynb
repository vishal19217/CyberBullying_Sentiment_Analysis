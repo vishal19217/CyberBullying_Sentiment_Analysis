{
  "cells": [
    {
      "cell_type": "markdown",
      "metadata": {
        "id": "o7QiTH21Kd_2"
      },
      "source": [
        "Importing libraries"
      ]
    },
    {
      "cell_type": "code",
      "execution_count": null,
      "metadata": {
        "colab": {
          "base_uri": "https://localhost:8080/"
        },
        "id": "0kqMJODaX47j",
        "outputId": "6e515eab-d5e9-4ed4-c061-9701bab570c6"
      },
      "outputs": [
        {
          "name": "stdout",
          "output_type": "stream",
          "text": [
            "Mounted at /content/gdrive\n"
          ]
        }
      ],
      "source": [
        "import pandas as pd\n",
        "import numpy as np\n",
        "import matplotlib.pyplot as plt\n",
        "import seaborn as sns\n",
        "from google.colab import drive\n",
        "drive.mount('/content/gdrive')"
      ]
    },
    {
      "cell_type": "markdown",
      "metadata": {
        "id": "CqogiAMAMPKT"
      },
      "source": [
        "### Data Visualization and Cleaning"
      ]
    },
    {
      "cell_type": "code",
      "execution_count": null,
      "metadata": {
        "id": "2CkDIdIYfK78"
      },
      "outputs": [],
      "source": [
        "data = pd.read_csv('/content/gdrive/My Drive/Colab Notebooks/cyberbullying_tweets.csv')"
      ]
    },
    {
      "cell_type": "code",
      "execution_count": null,
      "metadata": {
        "colab": {
          "base_uri": "https://localhost:8080/",
          "height": 206
        },
        "id": "gNgpCKgYOimt",
        "outputId": "ae1e7bdb-858f-4b51-d871-a3552df9942d"
      },
      "outputs": [
        {
          "data": {
            "text/html": [
              "\n",
              "  <div id=\"df-3e3aed2c-6b06-43ca-aa15-d0850d658595\">\n",
              "    <div class=\"colab-df-container\">\n",
              "      <div>\n",
              "<style scoped>\n",
              "    .dataframe tbody tr th:only-of-type {\n",
              "        vertical-align: middle;\n",
              "    }\n",
              "\n",
              "    .dataframe tbody tr th {\n",
              "        vertical-align: top;\n",
              "    }\n",
              "\n",
              "    .dataframe thead th {\n",
              "        text-align: right;\n",
              "    }\n",
              "</style>\n",
              "<table border=\"1\" class=\"dataframe\">\n",
              "  <thead>\n",
              "    <tr style=\"text-align: right;\">\n",
              "      <th></th>\n",
              "      <th>tweet_text</th>\n",
              "      <th>cyberbullying_type</th>\n",
              "    </tr>\n",
              "  </thead>\n",
              "  <tbody>\n",
              "    <tr>\n",
              "      <th>0</th>\n",
              "      <td>In other words #katandandre, your food was cra...</td>\n",
              "      <td>not_cyberbullying</td>\n",
              "    </tr>\n",
              "    <tr>\n",
              "      <th>1</th>\n",
              "      <td>Why is #aussietv so white? #MKR #theblock #ImA...</td>\n",
              "      <td>not_cyberbullying</td>\n",
              "    </tr>\n",
              "    <tr>\n",
              "      <th>2</th>\n",
              "      <td>@XochitlSuckkks a classy whore? Or more red ve...</td>\n",
              "      <td>not_cyberbullying</td>\n",
              "    </tr>\n",
              "    <tr>\n",
              "      <th>3</th>\n",
              "      <td>@Jason_Gio meh. :P  thanks for the heads up, b...</td>\n",
              "      <td>not_cyberbullying</td>\n",
              "    </tr>\n",
              "    <tr>\n",
              "      <th>4</th>\n",
              "      <td>@RudhoeEnglish This is an ISIS account pretend...</td>\n",
              "      <td>not_cyberbullying</td>\n",
              "    </tr>\n",
              "  </tbody>\n",
              "</table>\n",
              "</div>\n",
              "      <button class=\"colab-df-convert\" onclick=\"convertToInteractive('df-3e3aed2c-6b06-43ca-aa15-d0850d658595')\"\n",
              "              title=\"Convert this dataframe to an interactive table.\"\n",
              "              style=\"display:none;\">\n",
              "        \n",
              "  <svg xmlns=\"http://www.w3.org/2000/svg\" height=\"24px\"viewBox=\"0 0 24 24\"\n",
              "       width=\"24px\">\n",
              "    <path d=\"M0 0h24v24H0V0z\" fill=\"none\"/>\n",
              "    <path d=\"M18.56 5.44l.94 2.06.94-2.06 2.06-.94-2.06-.94-.94-2.06-.94 2.06-2.06.94zm-11 1L8.5 8.5l.94-2.06 2.06-.94-2.06-.94L8.5 2.5l-.94 2.06-2.06.94zm10 10l.94 2.06.94-2.06 2.06-.94-2.06-.94-.94-2.06-.94 2.06-2.06.94z\"/><path d=\"M17.41 7.96l-1.37-1.37c-.4-.4-.92-.59-1.43-.59-.52 0-1.04.2-1.43.59L10.3 9.45l-7.72 7.72c-.78.78-.78 2.05 0 2.83L4 21.41c.39.39.9.59 1.41.59.51 0 1.02-.2 1.41-.59l7.78-7.78 2.81-2.81c.8-.78.8-2.07 0-2.86zM5.41 20L4 18.59l7.72-7.72 1.47 1.35L5.41 20z\"/>\n",
              "  </svg>\n",
              "      </button>\n",
              "      \n",
              "  <style>\n",
              "    .colab-df-container {\n",
              "      display:flex;\n",
              "      flex-wrap:wrap;\n",
              "      gap: 12px;\n",
              "    }\n",
              "\n",
              "    .colab-df-convert {\n",
              "      background-color: #E8F0FE;\n",
              "      border: none;\n",
              "      border-radius: 50%;\n",
              "      cursor: pointer;\n",
              "      display: none;\n",
              "      fill: #1967D2;\n",
              "      height: 32px;\n",
              "      padding: 0 0 0 0;\n",
              "      width: 32px;\n",
              "    }\n",
              "\n",
              "    .colab-df-convert:hover {\n",
              "      background-color: #E2EBFA;\n",
              "      box-shadow: 0px 1px 2px rgba(60, 64, 67, 0.3), 0px 1px 3px 1px rgba(60, 64, 67, 0.15);\n",
              "      fill: #174EA6;\n",
              "    }\n",
              "\n",
              "    [theme=dark] .colab-df-convert {\n",
              "      background-color: #3B4455;\n",
              "      fill: #D2E3FC;\n",
              "    }\n",
              "\n",
              "    [theme=dark] .colab-df-convert:hover {\n",
              "      background-color: #434B5C;\n",
              "      box-shadow: 0px 1px 3px 1px rgba(0, 0, 0, 0.15);\n",
              "      filter: drop-shadow(0px 1px 2px rgba(0, 0, 0, 0.3));\n",
              "      fill: #FFFFFF;\n",
              "    }\n",
              "  </style>\n",
              "\n",
              "      <script>\n",
              "        const buttonEl =\n",
              "          document.querySelector('#df-3e3aed2c-6b06-43ca-aa15-d0850d658595 button.colab-df-convert');\n",
              "        buttonEl.style.display =\n",
              "          google.colab.kernel.accessAllowed ? 'block' : 'none';\n",
              "\n",
              "        async function convertToInteractive(key) {\n",
              "          const element = document.querySelector('#df-3e3aed2c-6b06-43ca-aa15-d0850d658595');\n",
              "          const dataTable =\n",
              "            await google.colab.kernel.invokeFunction('convertToInteractive',\n",
              "                                                     [key], {});\n",
              "          if (!dataTable) return;\n",
              "\n",
              "          const docLinkHtml = 'Like what you see? Visit the ' +\n",
              "            '<a target=\"_blank\" href=https://colab.research.google.com/notebooks/data_table.ipynb>data table notebook</a>'\n",
              "            + ' to learn more about interactive tables.';\n",
              "          element.innerHTML = '';\n",
              "          dataTable['output_type'] = 'display_data';\n",
              "          await google.colab.output.renderOutput(dataTable, element);\n",
              "          const docLink = document.createElement('div');\n",
              "          docLink.innerHTML = docLinkHtml;\n",
              "          element.appendChild(docLink);\n",
              "        }\n",
              "      </script>\n",
              "    </div>\n",
              "  </div>\n",
              "  "
            ],
            "text/plain": [
              "                                          tweet_text cyberbullying_type\n",
              "0  In other words #katandandre, your food was cra...  not_cyberbullying\n",
              "1  Why is #aussietv so white? #MKR #theblock #ImA...  not_cyberbullying\n",
              "2  @XochitlSuckkks a classy whore? Or more red ve...  not_cyberbullying\n",
              "3  @Jason_Gio meh. :P  thanks for the heads up, b...  not_cyberbullying\n",
              "4  @RudhoeEnglish This is an ISIS account pretend...  not_cyberbullying"
            ]
          },
          "execution_count": 5,
          "metadata": {},
          "output_type": "execute_result"
        }
      ],
      "source": [
        "data.head()"
      ]
    },
    {
      "cell_type": "code",
      "execution_count": null,
      "metadata": {
        "colab": {
          "base_uri": "https://localhost:8080/"
        },
        "id": "GMtuJ6QMOcm9",
        "outputId": "54772e91-fbe2-4c01-8dde-3a2db65eaf1f"
      },
      "outputs": [
        {
          "name": "stdout",
          "output_type": "stream",
          "text": [
            "<class 'pandas.core.frame.DataFrame'>\n",
            "RangeIndex: 47692 entries, 0 to 47691\n",
            "Data columns (total 2 columns):\n",
            " #   Column              Non-Null Count  Dtype \n",
            "---  ------              --------------  ----- \n",
            " 0   tweet_text          47692 non-null  object\n",
            " 1   cyberbullying_type  47692 non-null  object\n",
            "dtypes: object(2)\n",
            "memory usage: 745.3+ KB\n",
            "None\n"
          ]
        }
      ],
      "source": [
        "print(data.info())"
      ]
    },
    {
      "cell_type": "code",
      "execution_count": null,
      "metadata": {
        "id": "Uk0P6yfU7QCv"
      },
      "outputs": [],
      "source": [
        "data = data.rename(columns={'tweet_text' : 'tweet', 'cyberbullying_type' : 'sentiment'})"
      ]
    },
    {
      "cell_type": "markdown",
      "metadata": {
        "id": "lFdODN_fL349"
      },
      "source": [
        "Removing duplicates from given tweets\n"
      ]
    },
    {
      "cell_type": "code",
      "execution_count": null,
      "metadata": {
        "colab": {
          "base_uri": "https://localhost:8080/"
        },
        "id": "CqfLWM_3RAsm",
        "outputId": "2a8b3da1-b666-409c-cafa-974bcd00d5d9"
      },
      "outputs": [
        {
          "data": {
            "text/plain": [
              "(36, 2)"
            ]
          },
          "execution_count": 8,
          "metadata": {},
          "output_type": "execute_result"
        }
      ],
      "source": [
        "data[data.duplicated()].shape"
      ]
    },
    {
      "cell_type": "code",
      "execution_count": null,
      "metadata": {
        "id": "X5pmNhQj7i5k"
      },
      "outputs": [],
      "source": [
        "data = data[~data.duplicated()]"
      ]
    },
    {
      "cell_type": "code",
      "execution_count": null,
      "metadata": {
        "colab": {
          "base_uri": "https://localhost:8080/"
        },
        "id": "MuVEVGyX8JFQ",
        "outputId": "3b93b756-c9e7-4ca3-e637-715d5b6a187f"
      },
      "outputs": [
        {
          "name": "stdout",
          "output_type": "stream",
          "text": [
            "<class 'pandas.core.frame.DataFrame'>\n",
            "Int64Index: 47656 entries, 0 to 47691\n",
            "Data columns (total 2 columns):\n",
            " #   Column     Non-Null Count  Dtype \n",
            "---  ------     --------------  ----- \n",
            " 0   tweet      47656 non-null  object\n",
            " 1   sentiment  47656 non-null  object\n",
            "dtypes: object(2)\n",
            "memory usage: 1.1+ MB\n"
          ]
        }
      ],
      "source": [
        "data.info()"
      ]
    },
    {
      "cell_type": "markdown",
      "metadata": {
        "id": "CsFdHHECUC00"
      },
      "source": [
        "Showing class balance/imbalance result"
      ]
    },
    {
      "cell_type": "code",
      "execution_count": null,
      "metadata": {
        "colab": {
          "base_uri": "https://localhost:8080/"
        },
        "id": "2CYHASSe8-QM",
        "outputId": "28c3b01a-4995-4d32-e039-59dba949a6aa"
      },
      "outputs": [
        {
          "data": {
            "text/plain": [
              "religion               7997\n",
              "age                    7992\n",
              "ethnicity              7959\n",
              "gender                 7948\n",
              "not_cyberbullying      7937\n",
              "other_cyberbullying    7823\n",
              "Name: sentiment, dtype: int64"
            ]
          },
          "execution_count": 11,
          "metadata": {},
          "output_type": "execute_result"
        }
      ],
      "source": [
        "data.sentiment.value_counts()"
      ]
    },
    {
      "cell_type": "code",
      "execution_count": null,
      "metadata": {
        "colab": {
          "base_uri": "https://localhost:8080/",
          "height": 384
        },
        "id": "k3n1aLGSUKb9",
        "outputId": "b85885e2-3cdd-471e-d4b0-9b5da4533320"
      },
      "outputs": [
        {
          "data": {
            "image/png": "[encoded data removed]",
            "text/plain": [
              "<Figure size 504x360 with 1 Axes>"
            ]
          },
          "metadata": {},
          "output_type": "display_data"
        }
      ],
      "source": [
        "plt.figure(figsize=(7,5))\n",
        "plt.title('Showing class balance/imbalance result');\n",
        "data['sentiment'].value_counts().plot.bar(rot = 20);\n",
        "plt.xlabel('Sentiments');\n",
        "plt.ylabel('Counts of tweet');\n",
        "plt.show();"
      ]
    },
    {
      "cell_type": "markdown",
      "metadata": {
        "id": "AP8yW6YcWfno"
      },
      "source": [
        "From above, we can see that Dataset is **balanced** among different classes of sentiments."
      ]
    },
    {
      "cell_type": "markdown",
      "metadata": {
        "id": "9f51Bp_fMv4B"
      },
      "source": [
        "Importing and downloading different packages for data cleaning"
      ]
    },
    {
      "cell_type": "code",
      "execution_count": null,
      "metadata": {
        "colab": {
          "base_uri": "https://localhost:8080/"
        },
        "id": "syn-OBARIie0",
        "outputId": "c2aa0a2b-db36-413b-ddac-11b6c4ead1ed"
      },
      "outputs": [
        {
          "name": "stdout",
          "output_type": "stream",
          "text": [
            "Collecting emoji\n",
            "  Downloading emoji-1.7.0.tar.gz (175 kB)\n",
            "\u001b[?25l\r\u001b[K     |█▉                              | 10 kB 19.9 MB/s eta 0:00:01\r\u001b[K     |███▊                            | 20 kB 22.7 MB/s eta 0:00:01\r\u001b[K     |█████▋                          | 30 kB 17.7 MB/s eta 0:00:01\r\u001b[K     |███████▌                        | 40 kB 15.1 MB/s eta 0:00:01\r\u001b[K     |█████████▍                      | 51 kB 7.2 MB/s eta 0:00:01\r\u001b[K     |███████████▏                    | 61 kB 8.3 MB/s eta 0:00:01\r\u001b[K     |█████████████                   | 71 kB 9.0 MB/s eta 0:00:01\r\u001b[K     |███████████████                 | 81 kB 9.9 MB/s eta 0:00:01\r\u001b[K     |████████████████▉               | 92 kB 8.8 MB/s eta 0:00:01\r\u001b[K     |██████████████████▊             | 102 kB 9.5 MB/s eta 0:00:01\r\u001b[K     |████████████████████▌           | 112 kB 9.5 MB/s eta 0:00:01\r\u001b[K     |██████████████████████▍         | 122 kB 9.5 MB/s eta 0:00:01\r\u001b[K     |████████████████████████▎       | 133 kB 9.5 MB/s eta 0:00:01\r\u001b[K     |██████████████████████████▏     | 143 kB 9.5 MB/s eta 0:00:01\r\u001b[K     |████████████████████████████    | 153 kB 9.5 MB/s eta 0:00:01\r\u001b[K     |█████████████████████████████▉  | 163 kB 9.5 MB/s eta 0:00:01\r\u001b[K     |███████████████████████████████▊| 174 kB 9.5 MB/s eta 0:00:01\r\u001b[K     |████████████████████████████████| 175 kB 9.5 MB/s \n",
            "\u001b[?25hBuilding wheels for collected packages: emoji\n",
            "  Building wheel for emoji (setup.py) ... \u001b[?25l\u001b[?25hdone\n",
            "  Created wheel for emoji: filename=emoji-1.7.0-py3-none-any.whl size=171046 sha256=4b1125db489b781465d580582888bbfed0ba4620ca16f255b4dd02581cf71b39\n",
            "  Stored in directory: /root/.cache/pip/wheels/8a/4e/b6/57b01db010d17ef6ea9b40300af725ef3e210cb1acfb7ac8b6\n",
            "Successfully built emoji\n",
            "Installing collected packages: emoji\n",
            "Successfully installed emoji-1.7.0\n"
          ]
        }
      ],
      "source": [
        "pip install emoji"
      ]
    },
    {
      "cell_type": "markdown",
      "metadata": {
        "id": "fI7C4yarM7kv"
      },
      "source": [
        "Importing nltk"
      ]
    },
    {
      "cell_type": "code",
      "execution_count": null,
      "metadata": {
        "colab": {
          "base_uri": "https://localhost:8080/"
        },
        "id": "Zx346TICk0XM",
        "outputId": "2a1ad628-b25c-4ce3-f730-a86225ba9252"
      },
      "outputs": [
        {
          "name": "stdout",
          "output_type": "stream",
          "text": [
            "[nltk_data] Downloading package stopwords to /root/nltk_data...\n",
            "[nltk_data]   Unzipping corpora/stopwords.zip.\n"
          ]
        },
        {
          "data": {
            "text/plain": [
              "True"
            ]
          },
          "execution_count": 14,
          "metadata": {},
          "output_type": "execute_result"
        }
      ],
      "source": [
        "import nltk\n",
        "# For removing stopwords\n",
        "nltk.download('stopwords')"
      ]
    },
    {
      "cell_type": "code",
      "execution_count": null,
      "metadata": {
        "colab": {
          "base_uri": "https://localhost:8080/"
        },
        "id": "ACiTq_1r2lJ-",
        "outputId": "60415dc0-c86e-4385-d2a7-ab045d98211c"
      },
      "outputs": [
        {
          "name": "stdout",
          "output_type": "stream",
          "text": [
            "[nltk_data] Downloading package punkt to /root/nltk_data...\n",
            "[nltk_data]   Unzipping tokenizers/punkt.zip.\n"
          ]
        },
        {
          "data": {
            "text/plain": [
              "True"
            ]
          },
          "execution_count": 15,
          "metadata": {},
          "output_type": "execute_result"
        }
      ],
      "source": [
        "nltk.download('punkt')"
      ]
    },
    {
      "cell_type": "markdown",
      "metadata": {
        "id": "N6tAorFrAn2K"
      },
      "source": [
        "### Now, let's proceed towards basic cleaning of tweets"
      ]
    },
    {
      "cell_type": "code",
      "execution_count": null,
      "metadata": {
        "id": "esXr4c_F9IxB"
      },
      "outputs": [],
      "source": [
        "import re, string\n",
        "import emoji\n",
        "from nltk.corpus import stopwords\n",
        "stop_words = set(stopwords.words('english'))\n",
        "\n",
        "\n",
        "def remove_emoji(text):  # For removing the emojis from the text\n",
        "  return re.sub(emoji.get_emoji_regexp(), r\"\", text)\n",
        "\n",
        "\n",
        "def remove_entities(text):\n",
        "  text = text.replace('\\r', '').replace('\\n', ' ').lower() # For removing \\n and \\r from the text and then lowercasing the text\n",
        "  text = re.sub(r\"(?:\\@|https?\\://)\\S+\", \"\", text)\n",
        "  text = re.sub(r'[^\\x00-\\x7f]', r'', text)\n",
        "  punctuation_words = string.punctuation\n",
        "  table = text.maketrans('', '', punctuation_words)\n",
        "  text = text.translate(table)\n",
        "  text = [word for word in text.split() if word not in stop_words]\n",
        "  text = ' '.join(text)\n",
        "  text = ' '.join(word for word in text.split() if len(word)<14)\n",
        "  return text\n",
        "\n",
        "\n",
        "def remove_contractions(text):\n",
        "  text = re.sub(r\"can\\'t\", \"can not\", text)\n",
        "  text = re.sub(r\"n\\'t\", \" not\", text)\n",
        "  text = re.sub(r\"\\'re\", \" are\", text)\n",
        "  text = re.sub(r\"\\'s\", \" is\", text)\n",
        "  text = re.sub(r\"\\'d\", \" would\", text)\n",
        "  text = re.sub(r\"\\'ll\", \" will\", text)\n",
        "  text = re.sub(r\"\\'t\", \" not\", text)\n",
        "  text = re.sub(r\"\\'ve\", \" have\", text)\n",
        "  text = re.sub(r\"\\'m\", \" am\", text)\n",
        "  return text\n",
        "\n",
        "\n",
        "def remove_hashtags(text):\n",
        "  new_text = \" \".join(word.strip() for word in re.split('#(?!(?:hashtag)\\b)[\\w-]+(?=(?:\\s+#[\\w-]+)*\\s*$)', text))\n",
        "  new_text2 = \" \".join(word.strip() for word in re.split('#|_', new_text))\n",
        "  return new_text2\n",
        "\n",
        "\n",
        "def filter_characters(text):\n",
        "  filtered = []\n",
        "  for word in text.split(' '):\n",
        "    if ('$' in word) | ('&' in word):\n",
        "      filtered.append('')\n",
        "    else:\n",
        "      filtered.append(word)\n",
        "  return ' '.join(filtered)\n",
        "\n",
        "\n",
        "def remove_mult_spaces(text):\n",
        "  return re.sub(\"\\s\\s+\", \" \", text)\n",
        "\n",
        "\n",
        "# Basic cleaning  \n",
        "def basic_cleaning(text):\n",
        "  text = remove_emoji(text)\n",
        "  text = remove_contractions(text)\n",
        "  text = remove_entities(text)\n",
        "  text = remove_hashtags(text)\n",
        "  text = filter_characters(text)\n",
        "  text = remove_mult_spaces(text)\n",
        "  return text"
      ]
    },
    {
      "cell_type": "markdown",
      "metadata": {
        "id": "Fq4m3mt6fZyW"
      },
      "source": [
        "Using basic_cleaning() function defined above to do basic cleaning"
      ]
    },
    {
      "cell_type": "code",
      "execution_count": null,
      "metadata": {
        "colab": {
          "base_uri": "https://localhost:8080/"
        },
        "id": "VttL1z8SfR84",
        "outputId": "aa04e48d-0391-4640-bffb-9f5a3085b8b6"
      },
      "outputs": [
        {
          "name": "stderr",
          "output_type": "stream",
          "text": [
            "/usr/local/lib/python3.7/dist-packages/ipykernel_launcher.py:8: DeprecationWarning: 'emoji.get_emoji_regexp()' is deprecated and will be removed in version 2.0.0. If you want to remove emoji from a string, consider the method emoji.replace_emoji(str, replace='').\n",
            "To hide this warning, pin/downgrade the package to 'emoji~=1.6.3'\n",
            "  \n"
          ]
        }
      ],
      "source": [
        "basic_clean_tweets = []\n",
        "for text in data['tweet']:\n",
        "  basic_clean_tweets.append(basic_cleaning(text))"
      ]
    },
    {
      "cell_type": "code",
      "execution_count": null,
      "metadata": {
        "colab": {
          "base_uri": "https://localhost:8080/",
          "height": 206
        },
        "id": "vrjWuvkmgbg3",
        "outputId": "a4fd54d4-dccb-4a84-b9ab-2e1b06ebd913"
      },
      "outputs": [
        {
          "data": {
            "text/html": [
              "\n",
              "  <div id=\"df-0f2ef7d5-30e5-45ff-a61e-f6d4d06a8d7c\">\n",
              "    <div class=\"colab-df-container\">\n",
              "      <div>\n",
              "<style scoped>\n",
              "    .dataframe tbody tr th:only-of-type {\n",
              "        vertical-align: middle;\n",
              "    }\n",
              "\n",
              "    .dataframe tbody tr th {\n",
              "        vertical-align: top;\n",
              "    }\n",
              "\n",
              "    .dataframe thead th {\n",
              "        text-align: right;\n",
              "    }\n",
              "</style>\n",
              "<table border=\"1\" class=\"dataframe\">\n",
              "  <thead>\n",
              "    <tr style=\"text-align: right;\">\n",
              "      <th></th>\n",
              "      <th>Basic clean</th>\n",
              "      <th>sentiment</th>\n",
              "    </tr>\n",
              "  </thead>\n",
              "  <tbody>\n",
              "    <tr>\n",
              "      <th>0</th>\n",
              "      <td>words katandandre food crapilicious mkr</td>\n",
              "      <td>not_cyberbullying</td>\n",
              "    </tr>\n",
              "    <tr>\n",
              "      <th>1</th>\n",
              "      <td>aussietv white mkr theblock today sunrise stud...</td>\n",
              "      <td>not_cyberbullying</td>\n",
              "    </tr>\n",
              "    <tr>\n",
              "      <th>2</th>\n",
              "      <td>classy whore red velvet cupcakes</td>\n",
              "      <td>not_cyberbullying</td>\n",
              "    </tr>\n",
              "    <tr>\n",
              "      <th>3</th>\n",
              "      <td>meh p thanks heads concerned another angry dud...</td>\n",
              "      <td>not_cyberbullying</td>\n",
              "    </tr>\n",
              "    <tr>\n",
              "      <th>4</th>\n",
              "      <td>isis account pretending kurdish account like i...</td>\n",
              "      <td>not_cyberbullying</td>\n",
              "    </tr>\n",
              "  </tbody>\n",
              "</table>\n",
              "</div>\n",
              "      <button class=\"colab-df-convert\" onclick=\"convertToInteractive('df-0f2ef7d5-30e5-45ff-a61e-f6d4d06a8d7c')\"\n",
              "              title=\"Convert this dataframe to an interactive table.\"\n",
              "              style=\"display:none;\">\n",
              "        \n",
              "  <svg xmlns=\"http://www.w3.org/2000/svg\" height=\"24px\"viewBox=\"0 0 24 24\"\n",
              "       width=\"24px\">\n",
              "    <path d=\"M0 0h24v24H0V0z\" fill=\"none\"/>\n",
              "    <path d=\"M18.56 5.44l.94 2.06.94-2.06 2.06-.94-2.06-.94-.94-2.06-.94 2.06-2.06.94zm-11 1L8.5 8.5l.94-2.06 2.06-.94-2.06-.94L8.5 2.5l-.94 2.06-2.06.94zm10 10l.94 2.06.94-2.06 2.06-.94-2.06-.94-.94-2.06-.94 2.06-2.06.94z\"/><path d=\"M17.41 7.96l-1.37-1.37c-.4-.4-.92-.59-1.43-.59-.52 0-1.04.2-1.43.59L10.3 9.45l-7.72 7.72c-.78.78-.78 2.05 0 2.83L4 21.41c.39.39.9.59 1.41.59.51 0 1.02-.2 1.41-.59l7.78-7.78 2.81-2.81c.8-.78.8-2.07 0-2.86zM5.41 20L4 18.59l7.72-7.72 1.47 1.35L5.41 20z\"/>\n",
              "  </svg>\n",
              "      </button>\n",
              "      \n",
              "  <style>\n",
              "    .colab-df-container {\n",
              "      display:flex;\n",
              "      flex-wrap:wrap;\n",
              "      gap: 12px;\n",
              "    }\n",
              "\n",
              "    .colab-df-convert {\n",
              "      background-color: #E8F0FE;\n",
              "      border: none;\n",
              "      border-radius: 50%;\n",
              "      cursor: pointer;\n",
              "      display: none;\n",
              "      fill: #1967D2;\n",
              "      height: 32px;\n",
              "      padding: 0 0 0 0;\n",
              "      width: 32px;\n",
              "    }\n",
              "\n",
              "    .colab-df-convert:hover {\n",
              "      background-color: #E2EBFA;\n",
              "      box-shadow: 0px 1px 2px rgba(60, 64, 67, 0.3), 0px 1px 3px 1px rgba(60, 64, 67, 0.15);\n",
              "      fill: #174EA6;\n",
              "    }\n",
              "\n",
              "    [theme=dark] .colab-df-convert {\n",
              "      background-color: #3B4455;\n",
              "      fill: #D2E3FC;\n",
              "    }\n",
              "\n",
              "    [theme=dark] .colab-df-convert:hover {\n",
              "      background-color: #434B5C;\n",
              "      box-shadow: 0px 1px 3px 1px rgba(0, 0, 0, 0.15);\n",
              "      filter: drop-shadow(0px 1px 2px rgba(0, 0, 0, 0.3));\n",
              "      fill: #FFFFFF;\n",
              "    }\n",
              "  </style>\n",
              "\n",
              "      <script>\n",
              "        const buttonEl =\n",
              "          document.querySelector('#df-0f2ef7d5-30e5-45ff-a61e-f6d4d06a8d7c button.colab-df-convert');\n",
              "        buttonEl.style.display =\n",
              "          google.colab.kernel.accessAllowed ? 'block' : 'none';\n",
              "\n",
              "        async function convertToInteractive(key) {\n",
              "          const element = document.querySelector('#df-0f2ef7d5-30e5-45ff-a61e-f6d4d06a8d7c');\n",
              "          const dataTable =\n",
              "            await google.colab.kernel.invokeFunction('convertToInteractive',\n",
              "                                                     [key], {});\n",
              "          if (!dataTable) return;\n",
              "\n",
              "          const docLinkHtml = 'Like what you see? Visit the ' +\n",
              "            '<a target=\"_blank\" href=https://colab.research.google.com/notebooks/data_table.ipynb>data table notebook</a>'\n",
              "            + ' to learn more about interactive tables.';\n",
              "          element.innerHTML = '';\n",
              "          dataTable['output_type'] = 'display_data';\n",
              "          await google.colab.output.renderOutput(dataTable, element);\n",
              "          const docLink = document.createElement('div');\n",
              "          docLink.innerHTML = docLinkHtml;\n",
              "          element.appendChild(docLink);\n",
              "        }\n",
              "      </script>\n",
              "    </div>\n",
              "  </div>\n",
              "  "
            ],
            "text/plain": [
              "                                         Basic clean          sentiment\n",
              "0            words katandandre food crapilicious mkr  not_cyberbullying\n",
              "1  aussietv white mkr theblock today sunrise stud...  not_cyberbullying\n",
              "2                   classy whore red velvet cupcakes  not_cyberbullying\n",
              "3  meh p thanks heads concerned another angry dud...  not_cyberbullying\n",
              "4  isis account pretending kurdish account like i...  not_cyberbullying"
            ]
          },
          "execution_count": 18,
          "metadata": {},
          "output_type": "execute_result"
        }
      ],
      "source": [
        "basic_clean_df = pd.DataFrame(basic_clean_tweets, columns = ['Basic clean']);\n",
        "basic_clean_df['sentiment'] = data['sentiment'].values\n",
        "basic_clean_df.head()\n",
        "\n",
        "# We can see that basic cleaning of tweets has been done."
      ]
    },
    {
      "cell_type": "markdown",
      "metadata": {
        "id": "OZ7XiS1iWfeb"
      },
      "source": [
        "Removing duplicates from basic cleaned tweets"
      ]
    },
    {
      "cell_type": "code",
      "execution_count": null,
      "metadata": {
        "colab": {
          "base_uri": "https://localhost:8080/"
        },
        "id": "PQjHUGB2YIiU",
        "outputId": "aa859f55-ca58-443a-b0d7-7a997e58f280"
      },
      "outputs": [
        {
          "data": {
            "text/plain": [
              "(47656, 2)"
            ]
          },
          "execution_count": 19,
          "metadata": {},
          "output_type": "execute_result"
        }
      ],
      "source": [
        "basic_clean_df.shape"
      ]
    },
    {
      "cell_type": "code",
      "execution_count": null,
      "metadata": {
        "colab": {
          "base_uri": "https://localhost:8080/"
        },
        "id": "paGs5agW5eMs",
        "outputId": "0030531d-57b5-4886-fd45-4baf210ed8b7"
      },
      "outputs": [
        {
          "data": {
            "text/plain": [
              "2998"
            ]
          },
          "execution_count": 20,
          "metadata": {},
          "output_type": "execute_result"
        }
      ],
      "source": [
        "basic_clean_df['Basic clean'].duplicated().sum()"
      ]
    },
    {
      "cell_type": "code",
      "execution_count": null,
      "metadata": {
        "colab": {
          "base_uri": "https://localhost:8080/"
        },
        "id": "d1P0s8o-5moy",
        "outputId": "d74be7c4-0f5e-4acc-96ec-62b0422a22e4"
      },
      "outputs": [
        {
          "data": {
            "text/plain": [
              "(44658, 2)"
            ]
          },
          "execution_count": 21,
          "metadata": {},
          "output_type": "execute_result"
        }
      ],
      "source": [
        "basic_clean_df.drop_duplicates('Basic clean', inplace = True)\n",
        "# Removed duplicates\n",
        "basic_clean_df.shape"
      ]
    },
    {
      "cell_type": "code",
      "execution_count": null,
      "metadata": {
        "colab": {
          "base_uri": "https://localhost:8080/"
        },
        "id": "_jmSDH6L51Fe",
        "outputId": "5a7e31bc-4213-400d-a93f-8b9b2c080ec5"
      },
      "outputs": [
        {
          "data": {
            "text/plain": [
              "religion               7948\n",
              "age                    7898\n",
              "ethnicity              7751\n",
              "not_cyberbullying      7648\n",
              "gender                 7616\n",
              "other_cyberbullying    5797\n",
              "Name: sentiment, dtype: int64"
            ]
          },
          "execution_count": 22,
          "metadata": {},
          "output_type": "execute_result"
        }
      ],
      "source": [
        "basic_clean_df['sentiment'].value_counts()"
      ]
    },
    {
      "cell_type": "markdown",
      "metadata": {
        "id": "oe71jjGSb7Jc"
      },
      "source": [
        "After basic clean - "
      ]
    },
    {
      "cell_type": "code",
      "execution_count": null,
      "metadata": {
        "colab": {
          "base_uri": "https://localhost:8080/",
          "height": 384
        },
        "id": "gRVS-ND0b_TU",
        "outputId": "4f4354ad-ad9d-4805-9f37-54b18fd888a2"
      },
      "outputs": [
        {
          "data": {
            "image/png": "[encoded data removed]",
            "text/plain": [
              "<Figure size 504x360 with 1 Axes>"
            ]
          },
          "metadata": {},
          "output_type": "display_data"
        }
      ],
      "source": [
        "plt.figure(figsize=(7,5))\n",
        "plt.title('Showing class balance/imbalance result after cleaning');\n",
        "basic_clean_df['sentiment'].value_counts().plot.bar(rot = 20);\n",
        "plt.xlabel('Sentiments');\n",
        "plt.ylabel('Counts of tweet');\n",
        "plt.show();"
      ]
    },
    {
      "cell_type": "markdown",
      "metadata": {
        "id": "ZRcCrPy1Xwpu"
      },
      "source": [
        "Creating tweet_length column for basic cleaned tweets"
      ]
    },
    {
      "cell_type": "code",
      "execution_count": null,
      "metadata": {
        "colab": {
          "base_uri": "https://localhost:8080/",
          "height": 206
        },
        "id": "RfKbAj3d6lPc",
        "outputId": "4fd7f3b2-eee7-4594-c910-ed7d534eb57a"
      },
      "outputs": [
        {
          "data": {
            "text/html": [
              "\n",
              "  <div id=\"df-2776ff96-6d97-4560-ba7a-975662aa3765\">\n",
              "    <div class=\"colab-df-container\">\n",
              "      <div>\n",
              "<style scoped>\n",
              "    .dataframe tbody tr th:only-of-type {\n",
              "        vertical-align: middle;\n",
              "    }\n",
              "\n",
              "    .dataframe tbody tr th {\n",
              "        vertical-align: top;\n",
              "    }\n",
              "\n",
              "    .dataframe thead th {\n",
              "        text-align: right;\n",
              "    }\n",
              "</style>\n",
              "<table border=\"1\" class=\"dataframe\">\n",
              "  <thead>\n",
              "    <tr style=\"text-align: right;\">\n",
              "      <th></th>\n",
              "      <th>Basic clean</th>\n",
              "      <th>sentiment</th>\n",
              "      <th>tweet_length</th>\n",
              "    </tr>\n",
              "  </thead>\n",
              "  <tbody>\n",
              "    <tr>\n",
              "      <th>0</th>\n",
              "      <td>words katandandre food crapilicious mkr</td>\n",
              "      <td>not_cyberbullying</td>\n",
              "      <td>5</td>\n",
              "    </tr>\n",
              "    <tr>\n",
              "      <th>1</th>\n",
              "      <td>aussietv white mkr theblock today sunrise stud...</td>\n",
              "      <td>not_cyberbullying</td>\n",
              "      <td>10</td>\n",
              "    </tr>\n",
              "    <tr>\n",
              "      <th>2</th>\n",
              "      <td>classy whore red velvet cupcakes</td>\n",
              "      <td>not_cyberbullying</td>\n",
              "      <td>5</td>\n",
              "    </tr>\n",
              "    <tr>\n",
              "      <th>3</th>\n",
              "      <td>meh p thanks heads concerned another angry dud...</td>\n",
              "      <td>not_cyberbullying</td>\n",
              "      <td>9</td>\n",
              "    </tr>\n",
              "    <tr>\n",
              "      <th>4</th>\n",
              "      <td>isis account pretending kurdish account like i...</td>\n",
              "      <td>not_cyberbullying</td>\n",
              "      <td>8</td>\n",
              "    </tr>\n",
              "  </tbody>\n",
              "</table>\n",
              "</div>\n",
              "      <button class=\"colab-df-convert\" onclick=\"convertToInteractive('df-2776ff96-6d97-4560-ba7a-975662aa3765')\"\n",
              "              title=\"Convert this dataframe to an interactive table.\"\n",
              "              style=\"display:none;\">\n",
              "        \n",
              "  <svg xmlns=\"http://www.w3.org/2000/svg\" height=\"24px\"viewBox=\"0 0 24 24\"\n",
              "       width=\"24px\">\n",
              "    <path d=\"M0 0h24v24H0V0z\" fill=\"none\"/>\n",
              "    <path d=\"M18.56 5.44l.94 2.06.94-2.06 2.06-.94-2.06-.94-.94-2.06-.94 2.06-2.06.94zm-11 1L8.5 8.5l.94-2.06 2.06-.94-2.06-.94L8.5 2.5l-.94 2.06-2.06.94zm10 10l.94 2.06.94-2.06 2.06-.94-2.06-.94-.94-2.06-.94 2.06-2.06.94z\"/><path d=\"M17.41 7.96l-1.37-1.37c-.4-.4-.92-.59-1.43-.59-.52 0-1.04.2-1.43.59L10.3 9.45l-7.72 7.72c-.78.78-.78 2.05 0 2.83L4 21.41c.39.39.9.59 1.41.59.51 0 1.02-.2 1.41-.59l7.78-7.78 2.81-2.81c.8-.78.8-2.07 0-2.86zM5.41 20L4 18.59l7.72-7.72 1.47 1.35L5.41 20z\"/>\n",
              "  </svg>\n",
              "      </button>\n",
              "      \n",
              "  <style>\n",
              "    .colab-df-container {\n",
              "      display:flex;\n",
              "      flex-wrap:wrap;\n",
              "      gap: 12px;\n",
              "    }\n",
              "\n",
              "    .colab-df-convert {\n",
              "      background-color: #E8F0FE;\n",
              "      border: none;\n",
              "      border-radius: 50%;\n",
              "      cursor: pointer;\n",
              "      display: none;\n",
              "      fill: #1967D2;\n",
              "      height: 32px;\n",
              "      padding: 0 0 0 0;\n",
              "      width: 32px;\n",
              "    }\n",
              "\n",
              "    .colab-df-convert:hover {\n",
              "      background-color: #E2EBFA;\n",
              "      box-shadow: 0px 1px 2px rgba(60, 64, 67, 0.3), 0px 1px 3px 1px rgba(60, 64, 67, 0.15);\n",
              "      fill: #174EA6;\n",
              "    }\n",
              "\n",
              "    [theme=dark] .colab-df-convert {\n",
              "      background-color: #3B4455;\n",
              "      fill: #D2E3FC;\n",
              "    }\n",
              "\n",
              "    [theme=dark] .colab-df-convert:hover {\n",
              "      background-color: #434B5C;\n",
              "      box-shadow: 0px 1px 3px 1px rgba(0, 0, 0, 0.15);\n",
              "      filter: drop-shadow(0px 1px 2px rgba(0, 0, 0, 0.3));\n",
              "      fill: #FFFFFF;\n",
              "    }\n",
              "  </style>\n",
              "\n",
              "      <script>\n",
              "        const buttonEl =\n",
              "          document.querySelector('#df-2776ff96-6d97-4560-ba7a-975662aa3765 button.colab-df-convert');\n",
              "        buttonEl.style.display =\n",
              "          google.colab.kernel.accessAllowed ? 'block' : 'none';\n",
              "\n",
              "        async function convertToInteractive(key) {\n",
              "          const element = document.querySelector('#df-2776ff96-6d97-4560-ba7a-975662aa3765');\n",
              "          const dataTable =\n",
              "            await google.colab.kernel.invokeFunction('convertToInteractive',\n",
              "                                                     [key], {});\n",
              "          if (!dataTable) return;\n",
              "\n",
              "          const docLinkHtml = 'Like what you see? Visit the ' +\n",
              "            '<a target=\"_blank\" href=https://colab.research.google.com/notebooks/data_table.ipynb>data table notebook</a>'\n",
              "            + ' to learn more about interactive tables.';\n",
              "          element.innerHTML = '';\n",
              "          dataTable['output_type'] = 'display_data';\n",
              "          await google.colab.output.renderOutput(dataTable, element);\n",
              "          const docLink = document.createElement('div');\n",
              "          docLink.innerHTML = docLinkHtml;\n",
              "          element.appendChild(docLink);\n",
              "        }\n",
              "      </script>\n",
              "    </div>\n",
              "  </div>\n",
              "  "
            ],
            "text/plain": [
              "                                         Basic clean          sentiment  \\\n",
              "0            words katandandre food crapilicious mkr  not_cyberbullying   \n",
              "1  aussietv white mkr theblock today sunrise stud...  not_cyberbullying   \n",
              "2                   classy whore red velvet cupcakes  not_cyberbullying   \n",
              "3  meh p thanks heads concerned another angry dud...  not_cyberbullying   \n",
              "4  isis account pretending kurdish account like i...  not_cyberbullying   \n",
              "\n",
              "   tweet_length  \n",
              "0             5  \n",
              "1            10  \n",
              "2             5  \n",
              "3             9  \n",
              "4             8  "
            ]
          },
          "execution_count": 24,
          "metadata": {},
          "output_type": "execute_result"
        }
      ],
      "source": [
        "text_length = []\n",
        "for text in basic_clean_df['Basic clean']:\n",
        "  tweet_length = len(text.split())\n",
        "  text_length.append(tweet_length)\n",
        "\n",
        "basic_clean_df['tweet_length'] = text_length\n",
        "basic_clean_df.head()"
      ]
    },
    {
      "cell_type": "markdown",
      "metadata": {
        "id": "pHN__Y40X8aP"
      },
      "source": [
        "Showing Count plot of tweets length "
      ]
    },
    {
      "cell_type": "code",
      "execution_count": null,
      "metadata": {
        "colab": {
          "base_uri": "https://localhost:8080/",
          "height": 351
        },
        "id": "4s1EJse67F2w",
        "outputId": "cc1ccce4-574e-420f-9db9-03feab4dd7ea"
      },
      "outputs": [
        {
          "data": {
            "image/png": "[encoded data removed]",
            "text/plain": [
              "<Figure size 1296x360 with 1 Axes>"
            ]
          },
          "metadata": {},
          "output_type": "display_data"
        }
      ],
      "source": [
        "import matplotlib.pyplot as plt\n",
        "plt.figure(figsize=(18,5))\n",
        "# Using countplot\n",
        "ax = sns.countplot(x='tweet_length', data=basic_clean_df)\n",
        "plt.title('Graph of count of tweets and thier tweet length')\n",
        "plt.ylabel('count')\n",
        "plt.xlabel('Tweet_length')\n",
        "plt.show()"
      ]
    },
    {
      "cell_type": "markdown",
      "metadata": {
        "id": "6HhQrdkNjJDk"
      },
      "source": [
        "From the above graph, we can see the distribution of length of cleaned tweets."
      ]
    },
    {
      "cell_type": "markdown",
      "metadata": {
        "id": "MhflKmOYk0_v"
      },
      "source": [
        "So, removing tweets of length greater than 100 and less than 1."
      ]
    },
    {
      "cell_type": "code",
      "execution_count": null,
      "metadata": {
        "id": "OTath6pb-NSu"
      },
      "outputs": [],
      "source": [
        "basic_clean_df = basic_clean_df[(basic_clean_df['tweet_length'] <= 100) & (basic_clean_df['tweet_length'] > 0)]"
      ]
    },
    {
      "cell_type": "code",
      "execution_count": null,
      "metadata": {
        "colab": {
          "base_uri": "https://localhost:8080/"
        },
        "id": "vWKkJr5gb1Lx",
        "outputId": "d751e628-4170-4e8c-c32c-97e579ea6381"
      },
      "outputs": [
        {
          "data": {
            "text/plain": [
              "(44645, 3)"
            ]
          },
          "execution_count": 27,
          "metadata": {},
          "output_type": "execute_result"
        }
      ],
      "source": [
        "basic_clean_df.shape"
      ]
    },
    {
      "cell_type": "code",
      "execution_count": null,
      "metadata": {
        "colab": {
          "base_uri": "https://localhost:8080/"
        },
        "id": "JunkHLzF-U2l",
        "outputId": "5c87288f-88f0-4a7a-ff5a-6ed8c979776d"
      },
      "outputs": [
        {
          "name": "stdout",
          "output_type": "stream",
          "text": [
            "Maximum length of tweet: 100\n"
          ]
        }
      ],
      "source": [
        "max_length = np.max(basic_clean_df['tweet_length'])\n",
        "print(\"Maximum length of tweet:\",max_length)"
      ]
    },
    {
      "cell_type": "markdown",
      "metadata": {
        "id": "2-cLtAiZhB8D"
      },
      "source": [
        "### Proceeding towards Stemming and Lemmatization techniques."
      ]
    },
    {
      "cell_type": "markdown",
      "metadata": {
        "id": "M3wcUhVdoQbo"
      },
      "source": [
        "For further cleaning in this section, we will be generating three columns.\n",
        "\n",
        "1.   Stemming of basic cleaned tweets\n",
        "2.   Lemmatization of basic cleaned tweets\n",
        "3.   Lemmatization followed by Stemming of cleaned tweets.\n",
        "\n",
        "We will select one techinique from above three based on thier performance.\n"
      ]
    },
    {
      "cell_type": "code",
      "execution_count": null,
      "metadata": {
        "colab": {
          "base_uri": "https://localhost:8080/"
        },
        "id": "MRVc9gzTpu14",
        "outputId": "65916186-db1b-4416-cc17-878f04243f55"
      },
      "outputs": [
        {
          "name": "stdout",
          "output_type": "stream",
          "text": [
            "[nltk_data] Downloading package wordnet to /root/nltk_data...\n",
            "[nltk_data]   Unzipping corpora/wordnet.zip.\n"
          ]
        },
        {
          "data": {
            "text/plain": [
              "True"
            ]
          },
          "execution_count": 29,
          "metadata": {},
          "output_type": "execute_result"
        }
      ],
      "source": [
        "nltk.download('wordnet')"
      ]
    },
    {
      "cell_type": "code",
      "execution_count": null,
      "metadata": {
        "id": "5-Rdwwe4dsfb"
      },
      "outputs": [],
      "source": [
        "# We will use SnowballStemmer\n",
        "\n",
        "from nltk.stem import WordNetLemmatizer,SnowballStemmer\n",
        "\n",
        "def stemming(text):\n",
        "  tokenized = nltk.word_tokenize(text)\n",
        "  sb = SnowballStemmer(language = 'english')\n",
        "  return ' '.join([sb.stem(words) for words in tokenized])\n",
        "\n",
        "\n",
        "def lemmatize(text):\n",
        "  tokenized = nltk.word_tokenize(text)\n",
        "  lm = WordNetLemmatizer()\n",
        "  return ' '.join([lm.lemmatize(words) for words in tokenized])"
      ]
    },
    {
      "cell_type": "markdown",
      "metadata": {
        "id": "S5lA5dIjlRmD"
      },
      "source": [
        "Using above functions to do stemming and lemmatization on basic clean tweets"
      ]
    },
    {
      "cell_type": "code",
      "execution_count": null,
      "metadata": {
        "id": "9tNmgPOOleuh"
      },
      "outputs": [],
      "source": [
        "# For stemming and lemmatization\n",
        "stem_tweets = []\n",
        "lemma_tweets = []\n",
        "lemma_stem_tweets = [];\n",
        "\n",
        "# For stemming and lemmatization\n",
        "for text in basic_clean_df['Basic clean']:\n",
        "  stem_tweets.append(stemming(text));      # Stemming\n",
        "  lemma_tweets.append(lemmatize(text));    # Lemmatize\n",
        "\n",
        "# For lemmatization followed by stemming\n",
        "for text in lemma_tweets:\n",
        "  lemma_stem_tweets.append(stemming(text));"
      ]
    },
    {
      "cell_type": "markdown",
      "metadata": {
        "id": "kk5ot3CDqTqX"
      },
      "source": [
        "Showing three results of Stemming, Lemmatization and Lemma+Stemming"
      ]
    },
    {
      "cell_type": "code",
      "execution_count": null,
      "metadata": {
        "colab": {
          "base_uri": "https://localhost:8080/",
          "height": 320
        },
        "id": "JuI8KAC5qD5H",
        "outputId": "6ed8d5de-d5cc-4486-e255-6a049d357489"
      },
      "outputs": [
        {
          "data": {
            "text/html": [
              "\n",
              "  <div id=\"df-9bebb513-3e4c-4e51-af95-6515900e4123\">\n",
              "    <div class=\"colab-df-container\">\n",
              "      <div>\n",
              "<style scoped>\n",
              "    .dataframe tbody tr th:only-of-type {\n",
              "        vertical-align: middle;\n",
              "    }\n",
              "\n",
              "    .dataframe tbody tr th {\n",
              "        vertical-align: top;\n",
              "    }\n",
              "\n",
              "    .dataframe thead th {\n",
              "        text-align: right;\n",
              "    }\n",
              "</style>\n",
              "<table border=\"1\" class=\"dataframe\">\n",
              "  <thead>\n",
              "    <tr style=\"text-align: right;\">\n",
              "      <th></th>\n",
              "      <th>Basic clean</th>\n",
              "      <th>sentiment</th>\n",
              "      <th>tweet_length</th>\n",
              "      <th>Stemming</th>\n",
              "      <th>Lemmatization</th>\n",
              "      <th>Lemma_Stemming</th>\n",
              "    </tr>\n",
              "  </thead>\n",
              "  <tbody>\n",
              "    <tr>\n",
              "      <th>0</th>\n",
              "      <td>words katandandre food crapilicious mkr</td>\n",
              "      <td>not_cyberbullying</td>\n",
              "      <td>5</td>\n",
              "      <td>word katandandr food crapilici mkr</td>\n",
              "      <td>word katandandre food crapilicious mkr</td>\n",
              "      <td>word katandandr food crapilici mkr</td>\n",
              "    </tr>\n",
              "    <tr>\n",
              "      <th>1</th>\n",
              "      <td>aussietv white mkr theblock today sunrise stud...</td>\n",
              "      <td>not_cyberbullying</td>\n",
              "      <td>10</td>\n",
              "      <td>aussietv white mkr theblock today sunris studi...</td>\n",
              "      <td>aussietv white mkr theblock today sunrise stud...</td>\n",
              "      <td>aussietv white mkr theblock today sunris studi...</td>\n",
              "    </tr>\n",
              "    <tr>\n",
              "      <th>2</th>\n",
              "      <td>classy whore red velvet cupcakes</td>\n",
              "      <td>not_cyberbullying</td>\n",
              "      <td>5</td>\n",
              "      <td>classi whore red velvet cupcak</td>\n",
              "      <td>classy whore red velvet cupcake</td>\n",
              "      <td>classi whore red velvet cupcak</td>\n",
              "    </tr>\n",
              "    <tr>\n",
              "      <th>3</th>\n",
              "      <td>meh p thanks heads concerned another angry dud...</td>\n",
              "      <td>not_cyberbullying</td>\n",
              "      <td>9</td>\n",
              "      <td>meh p thank head concern anoth angri dude twitter</td>\n",
              "      <td>meh p thanks head concerned another angry dude...</td>\n",
              "      <td>meh p thank head concern anoth angri dude twitter</td>\n",
              "    </tr>\n",
              "    <tr>\n",
              "      <th>4</th>\n",
              "      <td>isis account pretending kurdish account like i...</td>\n",
              "      <td>not_cyberbullying</td>\n",
              "      <td>8</td>\n",
              "      <td>isi account pretend kurdish account like islam...</td>\n",
              "      <td>isi account pretending kurdish account like is...</td>\n",
              "      <td>isi account pretend kurdish account like islam...</td>\n",
              "    </tr>\n",
              "  </tbody>\n",
              "</table>\n",
              "</div>\n",
              "      <button class=\"colab-df-convert\" onclick=\"convertToInteractive('df-9bebb513-3e4c-4e51-af95-6515900e4123')\"\n",
              "              title=\"Convert this dataframe to an interactive table.\"\n",
              "              style=\"display:none;\">\n",
              "        \n",
              "  <svg xmlns=\"http://www.w3.org/2000/svg\" height=\"24px\"viewBox=\"0 0 24 24\"\n",
              "       width=\"24px\">\n",
              "    <path d=\"M0 0h24v24H0V0z\" fill=\"none\"/>\n",
              "    <path d=\"M18.56 5.44l.94 2.06.94-2.06 2.06-.94-2.06-.94-.94-2.06-.94 2.06-2.06.94zm-11 1L8.5 8.5l.94-2.06 2.06-.94-2.06-.94L8.5 2.5l-.94 2.06-2.06.94zm10 10l.94 2.06.94-2.06 2.06-.94-2.06-.94-.94-2.06-.94 2.06-2.06.94z\"/><path d=\"M17.41 7.96l-1.37-1.37c-.4-.4-.92-.59-1.43-.59-.52 0-1.04.2-1.43.59L10.3 9.45l-7.72 7.72c-.78.78-.78 2.05 0 2.83L4 21.41c.39.39.9.59 1.41.59.51 0 1.02-.2 1.41-.59l7.78-7.78 2.81-2.81c.8-.78.8-2.07 0-2.86zM5.41 20L4 18.59l7.72-7.72 1.47 1.35L5.41 20z\"/>\n",
              "  </svg>\n",
              "      </button>\n",
              "      \n",
              "  <style>\n",
              "    .colab-df-container {\n",
              "      display:flex;\n",
              "      flex-wrap:wrap;\n",
              "      gap: 12px;\n",
              "    }\n",
              "\n",
              "    .colab-df-convert {\n",
              "      background-color: #E8F0FE;\n",
              "      border: none;\n",
              "      border-radius: 50%;\n",
              "      cursor: pointer;\n",
              "      display: none;\n",
              "      fill: #1967D2;\n",
              "      height: 32px;\n",
              "      padding: 0 0 0 0;\n",
              "      width: 32px;\n",
              "    }\n",
              "\n",
              "    .colab-df-convert:hover {\n",
              "      background-color: #E2EBFA;\n",
              "      box-shadow: 0px 1px 2px rgba(60, 64, 67, 0.3), 0px 1px 3px 1px rgba(60, 64, 67, 0.15);\n",
              "      fill: #174EA6;\n",
              "    }\n",
              "\n",
              "    [theme=dark] .colab-df-convert {\n",
              "      background-color: #3B4455;\n",
              "      fill: #D2E3FC;\n",
              "    }\n",
              "\n",
              "    [theme=dark] .colab-df-convert:hover {\n",
              "      background-color: #434B5C;\n",
              "      box-shadow: 0px 1px 3px 1px rgba(0, 0, 0, 0.15);\n",
              "      filter: drop-shadow(0px 1px 2px rgba(0, 0, 0, 0.3));\n",
              "      fill: #FFFFFF;\n",
              "    }\n",
              "  </style>\n",
              "\n",
              "      <script>\n",
              "        const buttonEl =\n",
              "          document.querySelector('#df-9bebb513-3e4c-4e51-af95-6515900e4123 button.colab-df-convert');\n",
              "        buttonEl.style.display =\n",
              "          google.colab.kernel.accessAllowed ? 'block' : 'none';\n",
              "\n",
              "        async function convertToInteractive(key) {\n",
              "          const element = document.querySelector('#df-9bebb513-3e4c-4e51-af95-6515900e4123');\n",
              "          const dataTable =\n",
              "            await google.colab.kernel.invokeFunction('convertToInteractive',\n",
              "                                                     [key], {});\n",
              "          if (!dataTable) return;\n",
              "\n",
              "          const docLinkHtml = 'Like what you see? Visit the ' +\n",
              "            '<a target=\"_blank\" href=https://colab.research.google.com/notebooks/data_table.ipynb>data table notebook</a>'\n",
              "            + ' to learn more about interactive tables.';\n",
              "          element.innerHTML = '';\n",
              "          dataTable['output_type'] = 'display_data';\n",
              "          await google.colab.output.renderOutput(dataTable, element);\n",
              "          const docLink = document.createElement('div');\n",
              "          docLink.innerHTML = docLinkHtml;\n",
              "          element.appendChild(docLink);\n",
              "        }\n",
              "      </script>\n",
              "    </div>\n",
              "  </div>\n",
              "  "
            ],
            "text/plain": [
              "                                         Basic clean          sentiment  \\\n",
              "0            words katandandre food crapilicious mkr  not_cyberbullying   \n",
              "1  aussietv white mkr theblock today sunrise stud...  not_cyberbullying   \n",
              "2                   classy whore red velvet cupcakes  not_cyberbullying   \n",
              "3  meh p thanks heads concerned another angry dud...  not_cyberbullying   \n",
              "4  isis account pretending kurdish account like i...  not_cyberbullying   \n",
              "\n",
              "   tweet_length                                           Stemming  \\\n",
              "0             5                 word katandandr food crapilici mkr   \n",
              "1            10  aussietv white mkr theblock today sunris studi...   \n",
              "2             5                     classi whore red velvet cupcak   \n",
              "3             9  meh p thank head concern anoth angri dude twitter   \n",
              "4             8  isi account pretend kurdish account like islam...   \n",
              "\n",
              "                                       Lemmatization  \\\n",
              "0             word katandandre food crapilicious mkr   \n",
              "1  aussietv white mkr theblock today sunrise stud...   \n",
              "2                    classy whore red velvet cupcake   \n",
              "3  meh p thanks head concerned another angry dude...   \n",
              "4  isi account pretending kurdish account like is...   \n",
              "\n",
              "                                      Lemma_Stemming  \n",
              "0                 word katandandr food crapilici mkr  \n",
              "1  aussietv white mkr theblock today sunris studi...  \n",
              "2                     classi whore red velvet cupcak  \n",
              "3  meh p thank head concern anoth angri dude twitter  \n",
              "4  isi account pretend kurdish account like islam...  "
            ]
          },
          "execution_count": 32,
          "metadata": {},
          "output_type": "execute_result"
        }
      ],
      "source": [
        "basic_clean_df['Stemming'] = stem_tweets;\n",
        "basic_clean_df['Lemmatization'] = lemma_tweets;\n",
        "basic_clean_df['Lemma_Stemming'] = lemma_stem_tweets;\n",
        "basic_clean_df.head()\n",
        "\n",
        "# We can see that in stemming is just removing last few characters of words.\n",
        "# Whereas lemmatization is considering context of words and converting to its\n",
        "# meaningful baseform."
      ]
    },
    {
      "cell_type": "markdown",
      "metadata": {
        "id": "c9H2qB3-bS3u"
      },
      "source": [
        "Encoding the sentiment column."
      ]
    },
    {
      "cell_type": "code",
      "execution_count": null,
      "metadata": {
        "id": "rdLsARD4bSSt"
      },
      "outputs": [],
      "source": [
        "basic_clean_df['sentiment'] = basic_clean_df['sentiment'].replace({'religion':0,'age':1,'ethnicity':2,'gender':3,'not_cyberbullying':4,'other_cyberbullying':5})"
      ]
    },
    {
      "cell_type": "markdown",
      "metadata": {
        "id": "YMUIoubmDyTq"
      },
      "source": [
        "Word Cloud for religion sentiment"
      ]
    },
    {
      "cell_type": "code",
      "execution_count": null,
      "metadata": {
        "colab": {
          "base_uri": "https://localhost:8080/",
          "height": 219
        },
        "id": "2yc52qnNAdXu",
        "outputId": "fbe7463f-bfb6-4e2e-8e09-bc5a1264b543"
      },
      "outputs": [
        {
          "data": {
            "image/png": "[encoded data removed]",
            "text/plain": [
              "<Figure size 432x288 with 1 Axes>"
            ]
          },
          "metadata": {},
          "output_type": "display_data"
        }
      ],
      "source": [
        "import matplotlib.pyplot as plt\n",
        "from wordcloud import WordCloud\n",
        "\n",
        "text = basic_clean_df[basic_clean_df['sentiment']==0]['Stemming'].values\n",
        "wordCloud = WordCloud().generate(str(text))\n",
        "plt.imshow(wordCloud)\n",
        "plt.savefig('religion.png')"
      ]
    },
    {
      "cell_type": "markdown",
      "metadata": {
        "id": "LSIIqHO7D9s-"
      },
      "source": [
        "Word Cloud for age sentiment"
      ]
    },
    {
      "cell_type": "code",
      "execution_count": null,
      "metadata": {
        "colab": {
          "base_uri": "https://localhost:8080/",
          "height": 219
        },
        "id": "TIWA1Y2ZD3w9",
        "outputId": "b9484364-421f-4d0c-bec2-f0fcf86bf50e"
      },
      "outputs": [
        {
          "data": {
            "image/png": "[encoded data removed]",
            "text/plain": [
              "<Figure size 432x288 with 1 Axes>"
            ]
          },
          "metadata": {},
          "output_type": "display_data"
        }
      ],
      "source": [
        "text = basic_clean_df[basic_clean_df['sentiment']==1]['Stemming'].values\n",
        "wordCloud = WordCloud().generate(str(text))\n",
        "plt.imshow(wordCloud)\n",
        "plt.savefig('age.png')"
      ]
    },
    {
      "cell_type": "markdown",
      "metadata": {
        "id": "vTDgbE_2ECaO"
      },
      "source": [
        "Word Cloud for ethnicity sentiment"
      ]
    },
    {
      "cell_type": "code",
      "execution_count": null,
      "metadata": {
        "colab": {
          "base_uri": "https://localhost:8080/",
          "height": 219
        },
        "id": "ch5ss5GFEIHy",
        "outputId": "7a73ba24-4175-4a48-bfcf-4a42590b6bf6"
      },
      "outputs": [
        {
          "data": {
            "image/png": "[encoded data removed]",
            "text/plain": [
              "<Figure size 432x288 with 1 Axes>"
            ]
          },
          "metadata": {},
          "output_type": "display_data"
        }
      ],
      "source": [
        "text = basic_clean_df[basic_clean_df['sentiment']==2]['Stemming'].values\n",
        "wordCloud = WordCloud().generate(str(text))\n",
        "plt.imshow(wordCloud)\n",
        "plt.savefig('ethnicity.png')"
      ]
    },
    {
      "cell_type": "markdown",
      "metadata": {
        "id": "OG18xAVLEOuu"
      },
      "source": [
        "Word Cloud for not_cyberbullying sentiment"
      ]
    },
    {
      "cell_type": "code",
      "execution_count": null,
      "metadata": {
        "colab": {
          "base_uri": "https://localhost:8080/",
          "height": 219
        },
        "id": "WrovFpxvEUkg",
        "outputId": "d662660d-fe20-48e7-f66d-610a3d637a19"
      },
      "outputs": [
        {
          "data": {
            "image/png": "[encoded data removed]",
            "text/plain": [
              "<Figure size 432x288 with 1 Axes>"
            ]
          },
          "metadata": {},
          "output_type": "display_data"
        }
      ],
      "source": [
        "text = basic_clean_df[basic_clean_df['sentiment']==3]['Stemming'].values\n",
        "wordCloud = WordCloud().generate(str(text))\n",
        "plt.imshow(wordCloud)\n",
        "plt.savefig('not_cyberbullying.png')"
      ]
    },
    {
      "cell_type": "markdown",
      "metadata": {
        "id": "FvZNYuhpEiYv"
      },
      "source": [
        "Word Cloud for gender sentiment"
      ]
    },
    {
      "cell_type": "code",
      "execution_count": null,
      "metadata": {
        "colab": {
          "base_uri": "https://localhost:8080/",
          "height": 219
        },
        "id": "z0HSEqdvEn4o",
        "outputId": "31291574-be7c-4b86-f4d0-b43d1bab53b1"
      },
      "outputs": [
        {
          "data": {
            "image/png": "[encoded data removed]",
            "text/plain": [
              "<Figure size 432x288 with 1 Axes>"
            ]
          },
          "metadata": {},
          "output_type": "display_data"
        }
      ],
      "source": [
        "text = basic_clean_df[basic_clean_df['sentiment']==4]['Stemming'].values\n",
        "wordCloud = WordCloud().generate(str(text))\n",
        "plt.imshow(wordCloud)\n",
        "plt.savefig('gender.png')"
      ]
    },
    {
      "cell_type": "markdown",
      "metadata": {
        "id": "XCx89ZRGacV2"
      },
      "source": [
        "Word Cloud for other_cyberbullying sentiment"
      ]
    },
    {
      "cell_type": "code",
      "execution_count": null,
      "metadata": {
        "colab": {
          "base_uri": "https://localhost:8080/",
          "height": 219
        },
        "id": "QS5v2yu5adUl",
        "outputId": "6e3a704e-93d1-4bf0-b9d4-db97c4290d90"
      },
      "outputs": [
        {
          "data": {
            "image/png": "[encoded data removed]",
            "text/plain": [
              "<Figure size 432x288 with 1 Axes>"
            ]
          },
          "metadata": {},
          "output_type": "display_data"
        }
      ],
      "source": [
        "text = basic_clean_df[basic_clean_df['sentiment']==5]['Stemming'].values\n",
        "wordCloud = WordCloud().generate(str(text))\n",
        "plt.imshow(wordCloud)\n",
        "plt.savefig('other_cyberbullying.png')"
      ]
    },
    {
      "cell_type": "markdown",
      "metadata": {
        "id": "Vy3x4BjSdT4l"
      },
      "source": [
        "## Proceeding towards Word embeddings"
      ]
    },
    {
      "cell_type": "markdown",
      "metadata": {
        "id": "KeVgwA8Ydivp"
      },
      "source": [
        "For further processing, we will convert our results of - \n",
        "\n",
        "*   Stemming\n",
        "*   Lemmatization\n",
        "*   Lemmatization followed by stemming\n",
        "\n",
        "to vectors.\n",
        "To achieve this, we will be using following word-embeddings -\n",
        "\n",
        "\n",
        "1.   Bag of words\n",
        "2.   Tf-idf (Term Frequency-Inverse Document Frequency)\n",
        "3.   GloVe word embedding\n",
        "4.   Word2vec embedding\n",
        "\n",
        "\n",
        "Before going for these, lets first split the dataset in training and testing.\n"
      ]
    },
    {
      "cell_type": "markdown",
      "metadata": {
        "id": "q9_NEH3fepnc"
      },
      "source": [
        "importing libraries"
      ]
    },
    {
      "cell_type": "code",
      "execution_count": null,
      "metadata": {
        "id": "XwSyuVhveniE"
      },
      "outputs": [],
      "source": [
        "from sklearn.model_selection import train_test_split"
      ]
    },
    {
      "cell_type": "code",
      "execution_count": null,
      "metadata": {
        "colab": {
          "base_uri": "https://localhost:8080/"
        },
        "id": "XuXppoZ0dLj-",
        "outputId": "baa00b06-aa54-4425-b56a-c9bde69c8c30"
      },
      "outputs": [
        {
          "data": {
            "text/plain": [
              "0    7948\n",
              "1    7897\n",
              "2    7748\n",
              "4    7645\n",
              "3    7613\n",
              "5    5794\n",
              "Name: sentiment, dtype: int64"
            ]
          },
          "execution_count": 41,
          "metadata": {},
          "output_type": "execute_result"
        }
      ],
      "source": [
        "basic_clean_df['sentiment'].value_counts()"
      ]
    },
    {
      "cell_type": "markdown",
      "metadata": {
        "id": "NkLD2rB5dWK0"
      },
      "source": [
        "Train/test split"
      ]
    },
    {
      "cell_type": "code",
      "execution_count": null,
      "metadata": {
        "colab": {
          "base_uri": "https://localhost:8080/"
        },
        "id": "03hUKLEvbLKd",
        "outputId": "904ef849-df9c-422e-fbdc-180606bb072a"
      },
      "outputs": [
        {
          "name": "stdout",
          "output_type": "stream",
          "text": [
            "(27811, 5) (6953, 5) (27811,) (6953,)\n"
          ]
        }
      ],
      "source": [
        "# For X - dropping sentiment column \n",
        "sampled_df = basic_clean_df.sample(34764) # Here, we are performing random sampling to get rid of class imbalance\n",
        "X = sampled_df.drop(columns='sentiment');\n",
        "# y = sentiments\n",
        "y = sampled_df['sentiment']\n",
        "# Splitting 20% test and 80% train\n",
        "X_train,X_test,y_train,y_test = train_test_split(X, y, test_size=0.2, stratify=y, random_state = 42);\n",
        "print(X_train.shape, X_test.shape, y_train.shape, y_test.shape);"
      ]
    },
    {
      "cell_type": "markdown",
      "metadata": {
        "id": "nH9sR31jtSe_"
      },
      "source": [
        "Defining different varaiables for Stemming,lemmatization and lemma_stem\n"
      ]
    },
    {
      "cell_type": "code",
      "execution_count": null,
      "metadata": {
        "colab": {
          "base_uri": "https://localhost:8080/"
        },
        "id": "OoGRKtZHtw7x",
        "outputId": "694bf6e9-fbd5-4bef-e553-a2ae32f37c9b"
      },
      "outputs": [
        {
          "name": "stdout",
          "output_type": "stream",
          "text": [
            "(27811,) (27811,) (27811,)\n",
            "(6953,) (6953,) (6953,)\n"
          ]
        }
      ],
      "source": [
        "# For training -\n",
        "X_stem_train = X_train['Stemming']\n",
        "X_lemma_train = X_train['Lemmatization']\n",
        "X_lemmaStem_train = X_train['Lemma_Stemming']\n",
        "\n",
        "# For testing -\n",
        "X_stem_test = X_test['Stemming']\n",
        "X_lemma_test = X_test['Lemmatization']\n",
        "X_lemmaStem_test = X_test['Lemma_Stemming']\n",
        "\n",
        "print(X_stem_train.shape,X_lemma_train.shape,X_lemmaStem_train.shape)\n",
        "print(X_stem_test.shape,X_lemma_test.shape,X_lemmaStem_test.shape)"
      ]
    },
    {
      "cell_type": "markdown",
      "metadata": {
        "id": "YvQNE57yuevn"
      },
      "source": [
        "Now, we will use above vairables for different embedings."
      ]
    },
    {
      "cell_type": "markdown",
      "metadata": {
        "id": "6-WZIFUJfBWa"
      },
      "source": [
        "### Bag of words"
      ]
    },
    {
      "cell_type": "markdown",
      "metadata": {
        "id": "AkyzFCYAgHbf"
      },
      "source": [
        "importing CountVectorizer"
      ]
    },
    {
      "cell_type": "code",
      "execution_count": null,
      "metadata": {
        "id": "7Fv6MMUTgGiv"
      },
      "outputs": [],
      "source": [
        "from sklearn.feature_extraction.text import CountVectorizer"
      ]
    },
    {
      "cell_type": "markdown",
      "metadata": {
        "id": "_q0oM582vBgp"
      },
      "source": [
        "Creating objects of CountVectorizer"
      ]
    },
    {
      "cell_type": "code",
      "execution_count": null,
      "metadata": {
        "colab": {
          "base_uri": "https://localhost:8080/"
        },
        "id": "g8y5bWgGfQyR",
        "outputId": "9099a917-3132-4c9f-94be-3d5e674baab5"
      },
      "outputs": [
        {
          "name": "stdout",
          "output_type": "stream",
          "text": [
            "(27811, 26483)\n",
            "(27811, 31724)\n",
            "(27811, 26334)\n"
          ]
        }
      ],
      "source": [
        "bow1 = CountVectorizer();\n",
        "bow2 = CountVectorizer();\n",
        "bow3 = CountVectorizer();\n",
        "# for stemming\n",
        "bow_cv1 = bow1.fit_transform(X_stem_train);\n",
        "# for lemmatization\n",
        "bow_cv2 = bow2.fit_transform(X_lemma_train);\n",
        "# for lemma-stemming\n",
        "bow_cv3 = bow3.fit_transform(X_lemmaStem_train);\n",
        "\n",
        "print(bow_cv1.shape);\n",
        "print(bow_cv2.shape);\n",
        "print(bow_cv3.shape);"
      ]
    },
    {
      "cell_type": "markdown",
      "metadata": {
        "id": "BaEUGpJPfF1K"
      },
      "source": [
        "### Tf-idf (Term Frequency-Inverse Document Frequency)"
      ]
    },
    {
      "cell_type": "markdown",
      "metadata": {
        "id": "hiaHOCPexV4v"
      },
      "source": [
        "importing TfidfTransformer"
      ]
    },
    {
      "cell_type": "code",
      "execution_count": null,
      "metadata": {
        "id": "yV69lxLSdh7K"
      },
      "outputs": [],
      "source": [
        "from sklearn.feature_extraction.text import TfidfTransformer"
      ]
    },
    {
      "cell_type": "markdown",
      "metadata": {
        "id": "lIpw0Kajxt8_"
      },
      "source": [
        "Creating objects of TfidfTransformer"
      ]
    },
    {
      "cell_type": "code",
      "execution_count": null,
      "metadata": {
        "colab": {
          "base_uri": "https://localhost:8080/"
        },
        "id": "D7uEUDGIx6ES",
        "outputId": "eb7fadaa-6a38-4d59-8590-863e3b2fc1a2"
      },
      "outputs": [
        {
          "name": "stdout",
          "output_type": "stream",
          "text": [
            "(27811, 26483)\n",
            "(27811, 31724)\n",
            "(27811, 26334)\n"
          ]
        }
      ],
      "source": [
        "tfid1 = TfidfTransformer(use_idf=True).fit(bow_cv1)\n",
        "tfid2 = TfidfTransformer(use_idf=True).fit(bow_cv2)\n",
        "tfid3 = TfidfTransformer(use_idf=True).fit(bow_cv3)\n",
        "# for stemming\n",
        "tf_cv1 = tfid1.transform(bow_cv1);\n",
        "# for lemmatization\n",
        "tf_cv2 = tfid2.transform(bow_cv2);\n",
        "# for lemma-stemming\n",
        "tf_cv3 = tfid3.transform(bow_cv3);\n",
        "\n",
        "print(tf_cv1.shape);\n",
        "print(tf_cv2.shape);\n",
        "print(tf_cv3.shape);"
      ]
    },
    {
      "cell_type": "markdown",
      "metadata": {
        "id": "mAtChbWFNQ3-"
      },
      "source": [
        "### GloVe (Global Vectors) Word Embedding"
      ]
    },
    {
      "cell_type": "markdown",
      "metadata": {
        "id": "zY3w3NPSP4qC"
      },
      "source": [
        "Downloading glove python library"
      ]
    },
    {
      "cell_type": "code",
      "execution_count": null,
      "metadata": {
        "colab": {
          "base_uri": "https://localhost:8080/"
        },
        "id": "ouIy51pgNv5u",
        "outputId": "52cdc841-aff5-4fdb-f69d-4a4ca8485670"
      },
      "outputs": [
        {
          "name": "stdout",
          "output_type": "stream",
          "text": [
            "Collecting glove-python-binary\n",
            "  Downloading glove_python_binary-0.2.0-cp37-cp37m-manylinux1_x86_64.whl (948 kB)\n",
            "\u001b[K     |████████████████████████████████| 948 kB 8.4 MB/s \n",
            "\u001b[?25hRequirement already satisfied: numpy in /usr/local/lib/python3.7/dist-packages (from glove-python-binary) (1.21.5)\n",
            "Requirement already satisfied: scipy in /usr/local/lib/python3.7/dist-packages (from glove-python-binary) (1.4.1)\n",
            "Installing collected packages: glove-python-binary\n",
            "Successfully installed glove-python-binary-0.2.0\n"
          ]
        }
      ],
      "source": [
        "! pip install glove-python-binary"
      ]
    },
    {
      "cell_type": "markdown",
      "metadata": {
        "id": "V5F3Q2YQRn2n"
      },
      "source": [
        "Creating two lists- tweet_text and tweet_sentiment to store stemmed tweets and its corresponding sentiment so that we can train glove embeddings."
      ]
    },
    {
      "cell_type": "code",
      "execution_count": null,
      "metadata": {
        "id": "pLXw_koKQFvf"
      },
      "outputs": [],
      "source": [
        "size = len(basic_clean_df)\n",
        "tweet_text = []\n",
        "tweet_sentiment = []\n",
        "for key, value in basic_clean_df.iterrows():\n",
        "  tweet = value['Stemming'].split()\n",
        "  tweet_text.append(tweet)\n",
        "  tweet_sentiment.append(value['sentiment'])"
      ]
    },
    {
      "cell_type": "markdown",
      "metadata": {
        "id": "QDukWrtuSnCt"
      },
      "source": [
        "Now training glove to create embeddings"
      ]
    },
    {
      "cell_type": "code",
      "execution_count": null,
      "metadata": {
        "colab": {
          "base_uri": "https://localhost:8080/"
        },
        "id": "7pdapjaMSWGG",
        "outputId": "d66ca9f9-25f1-4dc9-acd5-150a2fb38fec"
      },
      "outputs": [
        {
          "name": "stdout",
          "output_type": "stream",
          "text": [
            "Performing 30 training epochs with 4 threads\n",
            "Epoch 0\n",
            "Epoch 1\n",
            "Epoch 2\n",
            "Epoch 3\n",
            "Epoch 4\n",
            "Epoch 5\n",
            "Epoch 6\n",
            "Epoch 7\n",
            "Epoch 8\n",
            "Epoch 9\n",
            "Epoch 10\n",
            "Epoch 11\n",
            "Epoch 12\n",
            "Epoch 13\n",
            "Epoch 14\n",
            "Epoch 15\n",
            "Epoch 16\n",
            "Epoch 17\n",
            "Epoch 18\n",
            "Epoch 19\n",
            "Epoch 20\n",
            "Epoch 21\n",
            "Epoch 22\n",
            "Epoch 23\n",
            "Epoch 24\n",
            "Epoch 25\n",
            "Epoch 26\n",
            "Epoch 27\n",
            "Epoch 28\n",
            "Epoch 29\n"
          ]
        }
      ],
      "source": [
        "from glove import Corpus, Glove\n",
        "\n",
        "corpus = Corpus()  # Creating a corpus object that will generate the co-occurence matrix\n",
        "corpus.fit(tweet_text, window = 10)  # Training the corpus to generate the co-occurence matrix that will be used by GloVe\n",
        "glove = Glove(no_components=500, learning_rate=0.05)  # Creating a glove object that will use the matrix created above to create embeddings\n",
        "glove.fit(corpus.matrix, epochs=30, no_threads=4, verbose=True)  # Training glove to create embeddings\n",
        "glove.add_dictionary(corpus.dictionary)  # Adding corpus dictionary to glove dictionary\n",
        "glove.save('glove.model')  # Saving the model"
      ]
    },
    {
      "cell_type": "markdown",
      "metadata": {
        "id": "VJ5ExAOLVQgF"
      },
      "source": [
        "Iterating over stemmed tweets and storing the word embeddings in a list"
      ]
    },
    {
      "cell_type": "code",
      "execution_count": null,
      "metadata": {
        "id": "6hKsv5QEU9rV"
      },
      "outputs": [],
      "source": [
        "word_embeddings = []\n",
        "for key, value in basic_clean_df.iterrows():\n",
        "  words = value['Stemming'].split()\n",
        "  embedding = np.zeros(500)\n",
        "  for j in range(len(words)):  # Iterating over all words in the tweet to calculate mean of GloVe embedding\n",
        "    embedding += np.array(glove.word_vectors[glove.dictionary[words[j]]])\n",
        "  embedding = embedding/len(words)\n",
        "  word_embeddings.append(embedding)"
      ]
    },
    {
      "cell_type": "markdown",
      "metadata": {
        "id": "lbgSXivQWTz7"
      },
      "source": [
        "Creating a dataframe for word embeddings and their corresponding sentiment"
      ]
    },
    {
      "cell_type": "code",
      "execution_count": null,
      "metadata": {
        "colab": {
          "base_uri": "https://localhost:8080/",
          "height": 488
        },
        "id": "PYUYwnsaWbz9",
        "outputId": "dd1e763c-f45a-4167-81a7-9db5c7b24647"
      },
      "outputs": [
        {
          "data": {
            "text/html": [
              "\n",
              "  <div id=\"df-acaeb131-8aef-4eb0-9db4-7696e12979c8\">\n",
              "    <div class=\"colab-df-container\">\n",
              "      <div>\n",
              "<style scoped>\n",
              "    .dataframe tbody tr th:only-of-type {\n",
              "        vertical-align: middle;\n",
              "    }\n",
              "\n",
              "    .dataframe tbody tr th {\n",
              "        vertical-align: top;\n",
              "    }\n",
              "\n",
              "    .dataframe thead th {\n",
              "        text-align: right;\n",
              "    }\n",
              "</style>\n",
              "<table border=\"1\" class=\"dataframe\">\n",
              "  <thead>\n",
              "    <tr style=\"text-align: right;\">\n",
              "      <th></th>\n",
              "      <th>col1</th>\n",
              "      <th>col2</th>\n",
              "      <th>col3</th>\n",
              "      <th>col4</th>\n",
              "      <th>col5</th>\n",
              "      <th>col6</th>\n",
              "      <th>col7</th>\n",
              "      <th>col8</th>\n",
              "      <th>col9</th>\n",
              "      <th>col10</th>\n",
              "      <th>...</th>\n",
              "      <th>col492</th>\n",
              "      <th>col493</th>\n",
              "      <th>col494</th>\n",
              "      <th>col495</th>\n",
              "      <th>col496</th>\n",
              "      <th>col497</th>\n",
              "      <th>col498</th>\n",
              "      <th>col499</th>\n",
              "      <th>col500</th>\n",
              "      <th>sentiments</th>\n",
              "    </tr>\n",
              "  </thead>\n",
              "  <tbody>\n",
              "    <tr>\n",
              "      <th>0</th>\n",
              "      <td>0.019736</td>\n",
              "      <td>0.063623</td>\n",
              "      <td>0.093786</td>\n",
              "      <td>0.053503</td>\n",
              "      <td>0.072188</td>\n",
              "      <td>-0.007255</td>\n",
              "      <td>0.024286</td>\n",
              "      <td>-0.043402</td>\n",
              "      <td>0.028725</td>\n",
              "      <td>-0.008322</td>\n",
              "      <td>...</td>\n",
              "      <td>-0.043327</td>\n",
              "      <td>0.030238</td>\n",
              "      <td>0.028848</td>\n",
              "      <td>0.005487</td>\n",
              "      <td>0.082328</td>\n",
              "      <td>0.026524</td>\n",
              "      <td>0.078571</td>\n",
              "      <td>-0.018215</td>\n",
              "      <td>0.006912</td>\n",
              "      <td>4</td>\n",
              "    </tr>\n",
              "    <tr>\n",
              "      <th>1</th>\n",
              "      <td>0.016895</td>\n",
              "      <td>0.034463</td>\n",
              "      <td>0.043737</td>\n",
              "      <td>0.038722</td>\n",
              "      <td>0.027165</td>\n",
              "      <td>-0.028135</td>\n",
              "      <td>0.010722</td>\n",
              "      <td>-0.003873</td>\n",
              "      <td>0.008051</td>\n",
              "      <td>0.014961</td>\n",
              "      <td>...</td>\n",
              "      <td>-0.008373</td>\n",
              "      <td>0.015451</td>\n",
              "      <td>-0.010375</td>\n",
              "      <td>0.017591</td>\n",
              "      <td>-0.006090</td>\n",
              "      <td>0.025487</td>\n",
              "      <td>0.039223</td>\n",
              "      <td>-0.029498</td>\n",
              "      <td>-0.015677</td>\n",
              "      <td>4</td>\n",
              "    </tr>\n",
              "    <tr>\n",
              "      <th>2</th>\n",
              "      <td>0.016155</td>\n",
              "      <td>0.037128</td>\n",
              "      <td>0.041845</td>\n",
              "      <td>-0.020181</td>\n",
              "      <td>-0.002968</td>\n",
              "      <td>0.016966</td>\n",
              "      <td>-0.018386</td>\n",
              "      <td>0.011242</td>\n",
              "      <td>0.020369</td>\n",
              "      <td>0.017366</td>\n",
              "      <td>...</td>\n",
              "      <td>-0.026178</td>\n",
              "      <td>0.018573</td>\n",
              "      <td>0.019481</td>\n",
              "      <td>0.030882</td>\n",
              "      <td>0.006109</td>\n",
              "      <td>0.013594</td>\n",
              "      <td>0.007568</td>\n",
              "      <td>0.000283</td>\n",
              "      <td>-0.012984</td>\n",
              "      <td>4</td>\n",
              "    </tr>\n",
              "    <tr>\n",
              "      <th>3</th>\n",
              "      <td>0.004146</td>\n",
              "      <td>0.034469</td>\n",
              "      <td>0.017916</td>\n",
              "      <td>0.072165</td>\n",
              "      <td>0.018802</td>\n",
              "      <td>-0.046472</td>\n",
              "      <td>-0.011112</td>\n",
              "      <td>-0.019270</td>\n",
              "      <td>0.048606</td>\n",
              "      <td>-0.013570</td>\n",
              "      <td>...</td>\n",
              "      <td>-0.008191</td>\n",
              "      <td>0.025468</td>\n",
              "      <td>-0.033302</td>\n",
              "      <td>0.028923</td>\n",
              "      <td>0.013351</td>\n",
              "      <td>0.039570</td>\n",
              "      <td>0.019008</td>\n",
              "      <td>-0.056254</td>\n",
              "      <td>-0.051122</td>\n",
              "      <td>4</td>\n",
              "    </tr>\n",
              "    <tr>\n",
              "      <th>4</th>\n",
              "      <td>0.062444</td>\n",
              "      <td>0.025396</td>\n",
              "      <td>0.050578</td>\n",
              "      <td>0.094545</td>\n",
              "      <td>0.057984</td>\n",
              "      <td>-0.033283</td>\n",
              "      <td>-0.054835</td>\n",
              "      <td>0.072743</td>\n",
              "      <td>0.008042</td>\n",
              "      <td>0.067667</td>\n",
              "      <td>...</td>\n",
              "      <td>-0.039546</td>\n",
              "      <td>0.076290</td>\n",
              "      <td>-0.065705</td>\n",
              "      <td>-0.080171</td>\n",
              "      <td>-0.029299</td>\n",
              "      <td>0.069297</td>\n",
              "      <td>0.009882</td>\n",
              "      <td>-0.081083</td>\n",
              "      <td>-0.041311</td>\n",
              "      <td>4</td>\n",
              "    </tr>\n",
              "    <tr>\n",
              "      <th>...</th>\n",
              "      <td>...</td>\n",
              "      <td>...</td>\n",
              "      <td>...</td>\n",
              "      <td>...</td>\n",
              "      <td>...</td>\n",
              "      <td>...</td>\n",
              "      <td>...</td>\n",
              "      <td>...</td>\n",
              "      <td>...</td>\n",
              "      <td>...</td>\n",
              "      <td>...</td>\n",
              "      <td>...</td>\n",
              "      <td>...</td>\n",
              "      <td>...</td>\n",
              "      <td>...</td>\n",
              "      <td>...</td>\n",
              "      <td>...</td>\n",
              "      <td>...</td>\n",
              "      <td>...</td>\n",
              "      <td>...</td>\n",
              "      <td>...</td>\n",
              "    </tr>\n",
              "    <tr>\n",
              "      <th>44640</th>\n",
              "      <td>0.019551</td>\n",
              "      <td>0.018088</td>\n",
              "      <td>0.003229</td>\n",
              "      <td>0.085659</td>\n",
              "      <td>-0.009349</td>\n",
              "      <td>-0.059062</td>\n",
              "      <td>0.021719</td>\n",
              "      <td>-0.000981</td>\n",
              "      <td>0.001531</td>\n",
              "      <td>0.016205</td>\n",
              "      <td>...</td>\n",
              "      <td>-0.016175</td>\n",
              "      <td>-0.022113</td>\n",
              "      <td>-0.044708</td>\n",
              "      <td>-0.028121</td>\n",
              "      <td>-0.001768</td>\n",
              "      <td>0.034155</td>\n",
              "      <td>0.050573</td>\n",
              "      <td>-0.064865</td>\n",
              "      <td>-0.021019</td>\n",
              "      <td>2</td>\n",
              "    </tr>\n",
              "    <tr>\n",
              "      <th>44641</th>\n",
              "      <td>0.011472</td>\n",
              "      <td>0.038963</td>\n",
              "      <td>0.032056</td>\n",
              "      <td>0.045868</td>\n",
              "      <td>0.013465</td>\n",
              "      <td>-0.021447</td>\n",
              "      <td>0.020337</td>\n",
              "      <td>0.020327</td>\n",
              "      <td>0.010596</td>\n",
              "      <td>0.017961</td>\n",
              "      <td>...</td>\n",
              "      <td>-0.021469</td>\n",
              "      <td>0.001608</td>\n",
              "      <td>-0.025049</td>\n",
              "      <td>0.001799</td>\n",
              "      <td>-0.009587</td>\n",
              "      <td>0.052008</td>\n",
              "      <td>0.022727</td>\n",
              "      <td>-0.049897</td>\n",
              "      <td>-0.018576</td>\n",
              "      <td>2</td>\n",
              "    </tr>\n",
              "    <tr>\n",
              "      <th>44642</th>\n",
              "      <td>0.061285</td>\n",
              "      <td>0.082268</td>\n",
              "      <td>0.094258</td>\n",
              "      <td>0.047605</td>\n",
              "      <td>0.009959</td>\n",
              "      <td>-0.019036</td>\n",
              "      <td>-0.044593</td>\n",
              "      <td>-0.011368</td>\n",
              "      <td>0.050195</td>\n",
              "      <td>0.005064</td>\n",
              "      <td>...</td>\n",
              "      <td>-0.054839</td>\n",
              "      <td>0.044148</td>\n",
              "      <td>0.020212</td>\n",
              "      <td>0.026607</td>\n",
              "      <td>0.004331</td>\n",
              "      <td>0.052849</td>\n",
              "      <td>0.060661</td>\n",
              "      <td>-0.082955</td>\n",
              "      <td>-0.043424</td>\n",
              "      <td>2</td>\n",
              "    </tr>\n",
              "    <tr>\n",
              "      <th>44643</th>\n",
              "      <td>0.154848</td>\n",
              "      <td>0.137020</td>\n",
              "      <td>0.229877</td>\n",
              "      <td>0.059948</td>\n",
              "      <td>0.012662</td>\n",
              "      <td>-0.006666</td>\n",
              "      <td>-0.111244</td>\n",
              "      <td>-0.030376</td>\n",
              "      <td>0.105038</td>\n",
              "      <td>-0.025223</td>\n",
              "      <td>...</td>\n",
              "      <td>-0.116492</td>\n",
              "      <td>0.064433</td>\n",
              "      <td>0.055142</td>\n",
              "      <td>0.058497</td>\n",
              "      <td>-0.010124</td>\n",
              "      <td>0.106548</td>\n",
              "      <td>0.085419</td>\n",
              "      <td>-0.112321</td>\n",
              "      <td>-0.028288</td>\n",
              "      <td>2</td>\n",
              "    </tr>\n",
              "    <tr>\n",
              "      <th>44644</th>\n",
              "      <td>0.102375</td>\n",
              "      <td>0.100252</td>\n",
              "      <td>0.097630</td>\n",
              "      <td>0.070539</td>\n",
              "      <td>0.031889</td>\n",
              "      <td>-0.017322</td>\n",
              "      <td>-0.096143</td>\n",
              "      <td>0.012993</td>\n",
              "      <td>0.070111</td>\n",
              "      <td>-0.023925</td>\n",
              "      <td>...</td>\n",
              "      <td>-0.064121</td>\n",
              "      <td>0.054758</td>\n",
              "      <td>0.014294</td>\n",
              "      <td>0.073892</td>\n",
              "      <td>0.003195</td>\n",
              "      <td>0.077774</td>\n",
              "      <td>0.093725</td>\n",
              "      <td>-0.095994</td>\n",
              "      <td>-0.038748</td>\n",
              "      <td>2</td>\n",
              "    </tr>\n",
              "  </tbody>\n",
              "</table>\n",
              "<p>44645 rows × 501 columns</p>\n",
              "</div>\n",
              "      <button class=\"colab-df-convert\" onclick=\"convertToInteractive('df-acaeb131-8aef-4eb0-9db4-7696e12979c8')\"\n",
              "              title=\"Convert this dataframe to an interactive table.\"\n",
              "              style=\"display:none;\">\n",
              "        \n",
              "  <svg xmlns=\"http://www.w3.org/2000/svg\" height=\"24px\"viewBox=\"0 0 24 24\"\n",
              "       width=\"24px\">\n",
              "    <path d=\"M0 0h24v24H0V0z\" fill=\"none\"/>\n",
              "    <path d=\"M18.56 5.44l.94 2.06.94-2.06 2.06-.94-2.06-.94-.94-2.06-.94 2.06-2.06.94zm-11 1L8.5 8.5l.94-2.06 2.06-.94-2.06-.94L8.5 2.5l-.94 2.06-2.06.94zm10 10l.94 2.06.94-2.06 2.06-.94-2.06-.94-.94-2.06-.94 2.06-2.06.94z\"/><path d=\"M17.41 7.96l-1.37-1.37c-.4-.4-.92-.59-1.43-.59-.52 0-1.04.2-1.43.59L10.3 9.45l-7.72 7.72c-.78.78-.78 2.05 0 2.83L4 21.41c.39.39.9.59 1.41.59.51 0 1.02-.2 1.41-.59l7.78-7.78 2.81-2.81c.8-.78.8-2.07 0-2.86zM5.41 20L4 18.59l7.72-7.72 1.47 1.35L5.41 20z\"/>\n",
              "  </svg>\n",
              "      </button>\n",
              "      \n",
              "  <style>\n",
              "    .colab-df-container {\n",
              "      display:flex;\n",
              "      flex-wrap:wrap;\n",
              "      gap: 12px;\n",
              "    }\n",
              "\n",
              "    .colab-df-convert {\n",
              "      background-color: #E8F0FE;\n",
              "      border: none;\n",
              "      border-radius: 50%;\n",
              "      cursor: pointer;\n",
              "      display: none;\n",
              "      fill: #1967D2;\n",
              "      height: 32px;\n",
              "      padding: 0 0 0 0;\n",
              "      width: 32px;\n",
              "    }\n",
              "\n",
              "    .colab-df-convert:hover {\n",
              "      background-color: #E2EBFA;\n",
              "      box-shadow: 0px 1px 2px rgba(60, 64, 67, 0.3), 0px 1px 3px 1px rgba(60, 64, 67, 0.15);\n",
              "      fill: #174EA6;\n",
              "    }\n",
              "\n",
              "    [theme=dark] .colab-df-convert {\n",
              "      background-color: #3B4455;\n",
              "      fill: #D2E3FC;\n",
              "    }\n",
              "\n",
              "    [theme=dark] .colab-df-convert:hover {\n",
              "      background-color: #434B5C;\n",
              "      box-shadow: 0px 1px 3px 1px rgba(0, 0, 0, 0.15);\n",
              "      filter: drop-shadow(0px 1px 2px rgba(0, 0, 0, 0.3));\n",
              "      fill: #FFFFFF;\n",
              "    }\n",
              "  </style>\n",
              "\n",
              "      <script>\n",
              "        const buttonEl =\n",
              "          document.querySelector('#df-acaeb131-8aef-4eb0-9db4-7696e12979c8 button.colab-df-convert');\n",
              "        buttonEl.style.display =\n",
              "          google.colab.kernel.accessAllowed ? 'block' : 'none';\n",
              "\n",
              "        async function convertToInteractive(key) {\n",
              "          const element = document.querySelector('#df-acaeb131-8aef-4eb0-9db4-7696e12979c8');\n",
              "          const dataTable =\n",
              "            await google.colab.kernel.invokeFunction('convertToInteractive',\n",
              "                                                     [key], {});\n",
              "          if (!dataTable) return;\n",
              "\n",
              "          const docLinkHtml = 'Like what you see? Visit the ' +\n",
              "            '<a target=\"_blank\" href=https://colab.research.google.com/notebooks/data_table.ipynb>data table notebook</a>'\n",
              "            + ' to learn more about interactive tables.';\n",
              "          element.innerHTML = '';\n",
              "          dataTable['output_type'] = 'display_data';\n",
              "          await google.colab.output.renderOutput(dataTable, element);\n",
              "          const docLink = document.createElement('div');\n",
              "          docLink.innerHTML = docLinkHtml;\n",
              "          element.appendChild(docLink);\n",
              "        }\n",
              "      </script>\n",
              "    </div>\n",
              "  </div>\n",
              "  "
            ],
            "text/plain": [
              "           col1      col2      col3      col4      col5      col6      col7  \\\n",
              "0      0.019736  0.063623  0.093786  0.053503  0.072188 -0.007255  0.024286   \n",
              "1      0.016895  0.034463  0.043737  0.038722  0.027165 -0.028135  0.010722   \n",
              "2      0.016155  0.037128  0.041845 -0.020181 -0.002968  0.016966 -0.018386   \n",
              "3      0.004146  0.034469  0.017916  0.072165  0.018802 -0.046472 -0.011112   \n",
              "4      0.062444  0.025396  0.050578  0.094545  0.057984 -0.033283 -0.054835   \n",
              "...         ...       ...       ...       ...       ...       ...       ...   \n",
              "44640  0.019551  0.018088  0.003229  0.085659 -0.009349 -0.059062  0.021719   \n",
              "44641  0.011472  0.038963  0.032056  0.045868  0.013465 -0.021447  0.020337   \n",
              "44642  0.061285  0.082268  0.094258  0.047605  0.009959 -0.019036 -0.044593   \n",
              "44643  0.154848  0.137020  0.229877  0.059948  0.012662 -0.006666 -0.111244   \n",
              "44644  0.102375  0.100252  0.097630  0.070539  0.031889 -0.017322 -0.096143   \n",
              "\n",
              "           col8      col9     col10  ...    col492    col493    col494  \\\n",
              "0     -0.043402  0.028725 -0.008322  ... -0.043327  0.030238  0.028848   \n",
              "1     -0.003873  0.008051  0.014961  ... -0.008373  0.015451 -0.010375   \n",
              "2      0.011242  0.020369  0.017366  ... -0.026178  0.018573  0.019481   \n",
              "3     -0.019270  0.048606 -0.013570  ... -0.008191  0.025468 -0.033302   \n",
              "4      0.072743  0.008042  0.067667  ... -0.039546  0.076290 -0.065705   \n",
              "...         ...       ...       ...  ...       ...       ...       ...   \n",
              "44640 -0.000981  0.001531  0.016205  ... -0.016175 -0.022113 -0.044708   \n",
              "44641  0.020327  0.010596  0.017961  ... -0.021469  0.001608 -0.025049   \n",
              "44642 -0.011368  0.050195  0.005064  ... -0.054839  0.044148  0.020212   \n",
              "44643 -0.030376  0.105038 -0.025223  ... -0.116492  0.064433  0.055142   \n",
              "44644  0.012993  0.070111 -0.023925  ... -0.064121  0.054758  0.014294   \n",
              "\n",
              "         col495    col496    col497    col498    col499    col500  sentiments  \n",
              "0      0.005487  0.082328  0.026524  0.078571 -0.018215  0.006912           4  \n",
              "1      0.017591 -0.006090  0.025487  0.039223 -0.029498 -0.015677           4  \n",
              "2      0.030882  0.006109  0.013594  0.007568  0.000283 -0.012984           4  \n",
              "3      0.028923  0.013351  0.039570  0.019008 -0.056254 -0.051122           4  \n",
              "4     -0.080171 -0.029299  0.069297  0.009882 -0.081083 -0.041311           4  \n",
              "...         ...       ...       ...       ...       ...       ...         ...  \n",
              "44640 -0.028121 -0.001768  0.034155  0.050573 -0.064865 -0.021019           2  \n",
              "44641  0.001799 -0.009587  0.052008  0.022727 -0.049897 -0.018576           2  \n",
              "44642  0.026607  0.004331  0.052849  0.060661 -0.082955 -0.043424           2  \n",
              "44643  0.058497 -0.010124  0.106548  0.085419 -0.112321 -0.028288           2  \n",
              "44644  0.073892  0.003195  0.077774  0.093725 -0.095994 -0.038748           2  \n",
              "\n",
              "[44645 rows x 501 columns]"
            ]
          },
          "execution_count": 138,
          "metadata": {},
          "output_type": "execute_result"
        }
      ],
      "source": [
        "cols = []\n",
        "for i in range(500):\n",
        "  col_name = \"col\"+str(i+1)\n",
        "  cols.append(col_name)\n",
        "embeddings_df = pd.DataFrame(word_embeddings, columns = cols)\n",
        "embeddings_df['sentiments'] = tweet_sentiment\n",
        "embeddings_df"
      ]
    },
    {
      "cell_type": "markdown",
      "metadata": {
        "id": "mMOo_42f78PK"
      },
      "source": [
        "# Baseline technique - Naive Bayes"
      ]
    },
    {
      "cell_type": "markdown",
      "metadata": {
        "id": "cLG86h5arDuA"
      },
      "source": [
        "## Training Multinomial Naive Bayes using Bag of words and Tf-idf Embedding"
      ]
    },
    {
      "cell_type": "markdown",
      "metadata": {
        "id": "WB0YkX3y8R_b"
      },
      "source": [
        "Importing multinomial naive bayes"
      ]
    },
    {
      "cell_type": "code",
      "execution_count": null,
      "metadata": {
        "id": "HbG47j9K8syz"
      },
      "outputs": [],
      "source": [
        "from sklearn.naive_bayes import MultinomialNB,GaussianNB"
      ]
    },
    {
      "cell_type": "markdown",
      "metadata": {
        "id": "nYAbIyWZEvVt"
      },
      "source": [
        "Importing evaluation metrics"
      ]
    },
    {
      "cell_type": "code",
      "execution_count": null,
      "metadata": {
        "id": "sIe8QBYNBfhq"
      },
      "outputs": [],
      "source": [
        "from sklearn.metrics import classification_report,accuracy_score\n"
      ]
    },
    {
      "cell_type": "markdown",
      "metadata": {
        "id": "SzFNNQ6vBFPs"
      },
      "source": [
        "k fold cross validation (k=5)"
      ]
    },
    {
      "cell_type": "code",
      "execution_count": null,
      "metadata": {
        "id": "xeZ4EssuUz5M"
      },
      "outputs": [],
      "source": [
        "from sklearn.model_selection import KFold"
      ]
    },
    {
      "cell_type": "markdown",
      "metadata": {
        "id": "R4dJcHgoV9yT"
      },
      "source": [
        "For bag of words\n"
      ]
    },
    {
      "cell_type": "code",
      "execution_count": null,
      "metadata": {
        "colab": {
          "base_uri": "https://localhost:8080/"
        },
        "id": "hGqiJAiBU5Q0",
        "outputId": "59eaebd3-eb8e-4581-c8d6-03f35133b3d1"
      },
      "outputs": [
        {
          "name": "stdout",
          "output_type": "stream",
          "text": [
            "Classification report for K-Fold model 1\n",
            "For validation set -\n",
            "              precision    recall  f1-score   support\n",
            "\n",
            "           0       0.80      0.97      0.88      1008\n",
            "           1       0.72      0.99      0.83       956\n",
            "           2       0.81      0.95      0.87       941\n",
            "           3       0.79      0.81      0.80       972\n",
            "           4       0.68      0.41      0.51       956\n",
            "           5       0.60      0.28      0.38       730\n",
            "\n",
            "    accuracy                           0.76      5563\n",
            "   macro avg       0.73      0.74      0.71      5563\n",
            "weighted avg       0.74      0.76      0.73      5563\n",
            "\n",
            "For training set -\n",
            "              precision    recall  f1-score   support\n",
            "\n",
            "           0       0.84      0.99      0.90      3934\n",
            "           1       0.76      0.99      0.86      3947\n",
            "           2       0.85      0.98      0.91      3909\n",
            "           3       0.87      0.87      0.87      3722\n",
            "           4       0.84      0.57      0.68      3851\n",
            "           5       0.84      0.49      0.62      2885\n",
            "\n",
            "    accuracy                           0.83     22248\n",
            "   macro avg       0.83      0.81      0.81     22248\n",
            "weighted avg       0.83      0.83      0.82     22248\n",
            "\n",
            "Classification report for K-Fold model 2\n",
            "For validation set -\n",
            "              precision    recall  f1-score   support\n",
            "\n",
            "           0       0.80      0.97      0.88       978\n",
            "           1       0.71      0.99      0.83       961\n",
            "           2       0.82      0.96      0.89       985\n",
            "           3       0.81      0.81      0.81       933\n",
            "           4       0.66      0.40      0.50       954\n",
            "           5       0.57      0.28      0.37       751\n",
            "\n",
            "    accuracy                           0.75      5562\n",
            "   macro avg       0.73      0.74      0.71      5562\n",
            "weighted avg       0.73      0.75      0.73      5562\n",
            "\n",
            "For training set -\n",
            "              precision    recall  f1-score   support\n",
            "\n",
            "           0       0.84      0.99      0.91      3964\n",
            "           1       0.76      0.99      0.86      3942\n",
            "           2       0.86      0.98      0.92      3865\n",
            "           3       0.86      0.87      0.87      3761\n",
            "           4       0.85      0.57      0.68      3853\n",
            "           5       0.84      0.49      0.62      2864\n",
            "\n",
            "    accuracy                           0.83     22249\n",
            "   macro avg       0.84      0.82      0.81     22249\n",
            "weighted avg       0.84      0.83      0.82     22249\n",
            "\n",
            "Classification report for K-Fold model 3\n",
            "For validation set -\n",
            "              precision    recall  f1-score   support\n",
            "\n",
            "           0       0.81      0.97      0.88      1004\n",
            "           1       0.70      0.99      0.82       977\n",
            "           2       0.81      0.95      0.87       959\n",
            "           3       0.81      0.81      0.81       941\n",
            "           4       0.70      0.39      0.50       979\n",
            "           5       0.57      0.27      0.37       702\n",
            "\n",
            "    accuracy                           0.75      5562\n",
            "   macro avg       0.73      0.73      0.71      5562\n",
            "weighted avg       0.74      0.75      0.72      5562\n",
            "\n",
            "For training set -\n",
            "              precision    recall  f1-score   support\n",
            "\n",
            "           0       0.84      0.99      0.91      3938\n",
            "           1       0.77      0.99      0.87      3926\n",
            "           2       0.85      0.98      0.91      3891\n",
            "           3       0.87      0.87      0.87      3753\n",
            "           4       0.84      0.57      0.68      3828\n",
            "           5       0.84      0.49      0.62      2913\n",
            "\n",
            "    accuracy                           0.83     22249\n",
            "   macro avg       0.84      0.82      0.81     22249\n",
            "weighted avg       0.83      0.83      0.82     22249\n",
            "\n",
            "Classification report for K-Fold model 4\n",
            "For validation set -\n",
            "              precision    recall  f1-score   support\n",
            "\n",
            "           0       0.79      0.98      0.88       976\n",
            "           1       0.72      0.98      0.83      1036\n",
            "           2       0.82      0.94      0.87       968\n",
            "           3       0.78      0.81      0.80       889\n",
            "           4       0.67      0.40      0.50       961\n",
            "           5       0.54      0.24      0.34       732\n",
            "\n",
            "    accuracy                           0.75      5562\n",
            "   macro avg       0.72      0.73      0.70      5562\n",
            "weighted avg       0.73      0.75      0.72      5562\n",
            "\n",
            "For training set -\n",
            "              precision    recall  f1-score   support\n",
            "\n",
            "           0       0.84      0.98      0.91      3966\n",
            "           1       0.77      0.99      0.87      3867\n",
            "           2       0.85      0.98      0.91      3882\n",
            "           3       0.86      0.88      0.87      3805\n",
            "           4       0.85      0.57      0.69      3846\n",
            "           5       0.84      0.49      0.62      2883\n",
            "\n",
            "    accuracy                           0.83     22249\n",
            "   macro avg       0.84      0.82      0.81     22249\n",
            "weighted avg       0.84      0.83      0.82     22249\n",
            "\n",
            "Classification report for K-Fold model 5\n",
            "For validation set -\n",
            "              precision    recall  f1-score   support\n",
            "\n",
            "           0       0.79      0.97      0.87       976\n",
            "           1       0.72      0.99      0.83       973\n",
            "           2       0.82      0.94      0.88       997\n",
            "           3       0.82      0.82      0.82       959\n",
            "           4       0.71      0.42      0.53       957\n",
            "           5       0.57      0.29      0.38       700\n",
            "\n",
            "    accuracy                           0.76      5562\n",
            "   macro avg       0.74      0.74      0.72      5562\n",
            "weighted avg       0.75      0.76      0.74      5562\n",
            "\n",
            "For training set -\n",
            "              precision    recall  f1-score   support\n",
            "\n",
            "           0       0.84      0.99      0.91      3966\n",
            "           1       0.77      0.99      0.86      3930\n",
            "           2       0.86      0.98      0.91      3853\n",
            "           3       0.86      0.87      0.87      3735\n",
            "           4       0.84      0.57      0.68      3850\n",
            "           5       0.83      0.49      0.62      2915\n",
            "\n",
            "    accuracy                           0.83     22249\n",
            "   macro avg       0.83      0.81      0.81     22249\n",
            "weighted avg       0.83      0.83      0.82     22249\n",
            "\n"
          ]
        }
      ],
      "source": [
        "y_train = np.array(y_train)\n",
        "model = 1\n",
        "accuracy_val = 0\n",
        "accuracy_train = 0\n",
        "kf = KFold(n_splits = 5)\n",
        "for train_index, val_index in kf.split(bow_cv1):\n",
        "  X_KFold_train, X_KFold_val = bow_cv1[train_index], bow_cv1[val_index]\n",
        "  Y_KFold_train, Y_KFold_val = y_train[train_index], y_train[val_index]\n",
        "  mnb = MultinomialNB()\n",
        "  mnb.fit(X_KFold_train, Y_KFold_train)\n",
        "  Y_pred = mnb.predict(X_KFold_val)\n",
        "  YY_pred = mnb.predict(X_KFold_train)\n",
        "  print(\"Classification report for K-Fold model \"+str(model))\n",
        "  print(\"For validation set -\")\n",
        "  print(classification_report(Y_KFold_val, Y_pred))\n",
        "  print(\"For training set -\")\n",
        "  accuracy_val += accuracy_score(Y_KFold_val, Y_pred)\n",
        "  print(classification_report(Y_KFold_train, YY_pred))\n",
        "  accuracy_train += accuracy_score(Y_KFold_train, YY_pred)\n",
        "  model += 1"
      ]
    },
    {
      "cell_type": "code",
      "execution_count": null,
      "metadata": {
        "colab": {
          "base_uri": "https://localhost:8080/"
        },
        "id": "xvSguBRUbZwW",
        "outputId": "167d2a3f-b65d-417f-ce7c-932d1fa9b040"
      },
      "outputs": [
        {
          "name": "stdout",
          "output_type": "stream",
          "text": [
            "Average accuracy obtained on vaidation set= 0.7549890008230395\n",
            "Average accuracy obtained on training set= 0.8308942396742023\n"
          ]
        }
      ],
      "source": [
        "avg_accuracy1 = accuracy_val/5\n",
        "print(\"Average accuracy obtained on vaidation set= \"+str(avg_accuracy1))\n",
        "avg_accuracy2 = accuracy_train/5\n",
        "print(\"Average accuracy obtained on training set= \"+str(avg_accuracy2))"
      ]
    },
    {
      "cell_type": "markdown",
      "metadata": {
        "id": "5gud_zShb7Kq"
      },
      "source": [
        "We can see that, on training set we are getting 89% accuracy and on validation set we are getting 84% accuracy for Bag of words"
      ]
    },
    {
      "cell_type": "markdown",
      "metadata": {
        "id": "sMqXxU6OcasB"
      },
      "source": [
        "For Tf-idf"
      ]
    },
    {
      "cell_type": "code",
      "execution_count": null,
      "metadata": {
        "colab": {
          "base_uri": "https://localhost:8080/"
        },
        "id": "_WL24WIycVDp",
        "outputId": "1866364f-aae5-444c-f834-7cd6894ab507"
      },
      "outputs": [
        {
          "name": "stdout",
          "output_type": "stream",
          "text": [
            "Classification report for K-Fold model 1\n",
            "For validation set -\n",
            "              precision    recall  f1-score   support\n",
            "\n",
            "           0       0.77      0.97      0.86      1008\n",
            "           1       0.65      0.98      0.78       956\n",
            "           2       0.79      0.92      0.85       941\n",
            "           3       0.79      0.83      0.81       972\n",
            "           4       0.68      0.41      0.51       956\n",
            "           5       0.65      0.12      0.21       730\n",
            "\n",
            "    accuracy                           0.73      5563\n",
            "   macro avg       0.72      0.71      0.67      5563\n",
            "weighted avg       0.72      0.73      0.69      5563\n",
            "\n",
            "For training set -\n",
            "              precision    recall  f1-score   support\n",
            "\n",
            "           0       0.82      0.99      0.89      3934\n",
            "           1       0.72      0.99      0.84      3947\n",
            "           2       0.84      0.96      0.90      3909\n",
            "           3       0.86      0.88      0.87      3722\n",
            "           4       0.84      0.60      0.70      3851\n",
            "           5       0.93      0.35      0.50      2885\n",
            "\n",
            "    accuracy                           0.81     22248\n",
            "   macro avg       0.84      0.79      0.78     22248\n",
            "weighted avg       0.83      0.81      0.80     22248\n",
            "\n",
            "Classification report for K-Fold model 2\n",
            "For validation set -\n",
            "              precision    recall  f1-score   support\n",
            "\n",
            "           0       0.76      0.97      0.85       978\n",
            "           1       0.66      0.98      0.79       961\n",
            "           2       0.80      0.93      0.86       985\n",
            "           3       0.78      0.82      0.80       933\n",
            "           4       0.64      0.40      0.49       954\n",
            "           5       0.64      0.13      0.21       751\n",
            "\n",
            "    accuracy                           0.73      5562\n",
            "   macro avg       0.71      0.71      0.67      5562\n",
            "weighted avg       0.72      0.73      0.69      5562\n",
            "\n",
            "For training set -\n",
            "              precision    recall  f1-score   support\n",
            "\n",
            "           0       0.82      0.99      0.89      3964\n",
            "           1       0.73      0.99      0.84      3942\n",
            "           2       0.85      0.96      0.90      3865\n",
            "           3       0.85      0.89      0.87      3761\n",
            "           4       0.84      0.60      0.70      3853\n",
            "           5       0.91      0.34      0.49      2864\n",
            "\n",
            "    accuracy                           0.82     22249\n",
            "   macro avg       0.83      0.79      0.78     22249\n",
            "weighted avg       0.83      0.82      0.80     22249\n",
            "\n",
            "Classification report for K-Fold model 3\n",
            "For validation set -\n",
            "              precision    recall  f1-score   support\n",
            "\n",
            "           0       0.77      0.97      0.86      1004\n",
            "           1       0.64      0.98      0.78       977\n",
            "           2       0.78      0.93      0.85       959\n",
            "           3       0.80      0.81      0.80       941\n",
            "           4       0.68      0.39      0.50       979\n",
            "           5       0.67      0.14      0.23       702\n",
            "\n",
            "    accuracy                           0.73      5562\n",
            "   macro avg       0.72      0.70      0.67      5562\n",
            "weighted avg       0.73      0.73      0.69      5562\n",
            "\n",
            "For training set -\n",
            "              precision    recall  f1-score   support\n",
            "\n",
            "           0       0.82      0.99      0.90      3938\n",
            "           1       0.73      0.99      0.84      3926\n",
            "           2       0.84      0.96      0.90      3891\n",
            "           3       0.85      0.89      0.87      3753\n",
            "           4       0.84      0.60      0.70      3828\n",
            "           5       0.93      0.35      0.51      2913\n",
            "\n",
            "    accuracy                           0.82     22249\n",
            "   macro avg       0.84      0.80      0.79     22249\n",
            "weighted avg       0.83      0.82      0.80     22249\n",
            "\n",
            "Classification report for K-Fold model 4\n",
            "For validation set -\n",
            "              precision    recall  f1-score   support\n",
            "\n",
            "           0       0.76      0.98      0.85       976\n",
            "           1       0.68      0.98      0.80      1036\n",
            "           2       0.80      0.92      0.85       968\n",
            "           3       0.76      0.82      0.79       889\n",
            "           4       0.66      0.40      0.50       961\n",
            "           5       0.54      0.11      0.18       732\n",
            "\n",
            "    accuracy                           0.73      5562\n",
            "   macro avg       0.70      0.70      0.66      5562\n",
            "weighted avg       0.70      0.73      0.68      5562\n",
            "\n",
            "For training set -\n",
            "              precision    recall  f1-score   support\n",
            "\n",
            "           0       0.82      0.99      0.89      3966\n",
            "           1       0.74      0.99      0.84      3867\n",
            "           2       0.84      0.96      0.90      3882\n",
            "           3       0.84      0.90      0.87      3805\n",
            "           4       0.84      0.60      0.70      3846\n",
            "           5       0.94      0.35      0.51      2883\n",
            "\n",
            "    accuracy                           0.82     22249\n",
            "   macro avg       0.84      0.80      0.79     22249\n",
            "weighted avg       0.83      0.82      0.80     22249\n",
            "\n",
            "Classification report for K-Fold model 5\n",
            "For validation set -\n",
            "              precision    recall  f1-score   support\n",
            "\n",
            "           0       0.75      0.97      0.84       976\n",
            "           1       0.65      0.98      0.79       973\n",
            "           2       0.80      0.91      0.86       997\n",
            "           3       0.81      0.82      0.81       959\n",
            "           4       0.68      0.42      0.52       957\n",
            "           5       0.61      0.13      0.21       700\n",
            "\n",
            "    accuracy                           0.73      5562\n",
            "   macro avg       0.72      0.71      0.67      5562\n",
            "weighted avg       0.72      0.73      0.70      5562\n",
            "\n",
            "For training set -\n",
            "              precision    recall  f1-score   support\n",
            "\n",
            "           0       0.81      0.99      0.89      3966\n",
            "           1       0.73      0.99      0.84      3930\n",
            "           2       0.84      0.96      0.90      3853\n",
            "           3       0.86      0.89      0.87      3735\n",
            "           4       0.84      0.59      0.70      3850\n",
            "           5       0.92      0.36      0.52      2915\n",
            "\n",
            "    accuracy                           0.82     22249\n",
            "   macro avg       0.83      0.80      0.79     22249\n",
            "weighted avg       0.83      0.82      0.80     22249\n",
            "\n"
          ]
        }
      ],
      "source": [
        "y_train = np.array(y_train)\n",
        "model = 1\n",
        "accuracy_val = 0\n",
        "accuracy_train = 0\n",
        "kf = KFold(n_splits = 5)\n",
        "for train_index, val_index in kf.split(tf_cv1):\n",
        "  X_KFold_train, X_KFold_val = tf_cv1[train_index], tf_cv1[val_index]\n",
        "  Y_KFold_train, Y_KFold_val = y_train[train_index], y_train[val_index]\n",
        "  mnb = MultinomialNB()\n",
        "  mnb.fit(X_KFold_train, Y_KFold_train)\n",
        "  Y_pred = mnb.predict(X_KFold_val)\n",
        "  YY_pred = mnb.predict(X_KFold_train)\n",
        "  print(\"Classification report for K-Fold model \"+str(model))\n",
        "  print(\"For validation set -\")\n",
        "  print(classification_report(Y_KFold_val, Y_pred))\n",
        "  print(\"For training set -\")\n",
        "  accuracy_val += accuracy_score(Y_KFold_val, Y_pred)\n",
        "  print(classification_report(Y_KFold_train, YY_pred))\n",
        "  accuracy_train += accuracy_score(Y_KFold_train, YY_pred)\n",
        "  model += 1"
      ]
    },
    {
      "cell_type": "code",
      "execution_count": null,
      "metadata": {
        "colab": {
          "base_uri": "https://localhost:8080/"
        },
        "id": "n922ANBWcprF",
        "outputId": "ac6bc02b-4af4-4a99-a05c-a7d8f25b8507"
      },
      "outputs": [
        {
          "name": "stdout",
          "output_type": "stream",
          "text": [
            "Average accuracy obtained on vaidation set= 0.7315809889182152\n",
            "Average accuracy obtained on training set= 0.8159001720079407\n"
          ]
        }
      ],
      "source": [
        "avg_accuracy1 = accuracy_val/5\n",
        "print(\"Average accuracy obtained on vaidation set= \"+str(avg_accuracy1))\n",
        "avg_accuracy2 = accuracy_train/5\n",
        "print(\"Average accuracy obtained on training set= \"+str(avg_accuracy2))"
      ]
    },
    {
      "cell_type": "markdown",
      "metadata": {
        "id": "Z8d8_u0t87Zo"
      },
      "source": [
        " Transforming set testing for different word embeddings\n"
      ]
    },
    {
      "cell_type": "code",
      "execution_count": null,
      "metadata": {
        "colab": {
          "base_uri": "https://localhost:8080/"
        },
        "id": "71KWnskP9QL1",
        "outputId": "12d41b2b-42ea-4938-c1e9-cba702801581"
      },
      "outputs": [
        {
          "name": "stdout",
          "output_type": "stream",
          "text": [
            "(6953, 26483) (6953, 31724) (6953, 26334)\n",
            "(6953, 26483) (6953, 31724) (6953, 26334)\n"
          ]
        }
      ],
      "source": [
        "# For Bag of words \n",
        "bow_cv1_test = bow1.transform(X_stem_test)\n",
        "bow_cv2_test = bow2.transform(X_lemma_test)\n",
        "bow_cv3_test = bow3.transform(X_lemmaStem_test)\n",
        "\n",
        "# For Tf-idf\n",
        "tf_cv1_test = tfid1.transform(bow_cv1_test);\n",
        "tf_cv2_test = tfid2.transform(bow_cv2_test);\n",
        "tf_cv3_test = tfid3.transform(bow_cv3_test);\n",
        "\n",
        "print(bow_cv1_test.shape,bow_cv2_test.shape,bow_cv3_test.shape);\n",
        "print(tf_cv1_test.shape,tf_cv2_test.shape,tf_cv3_test.shape);"
      ]
    },
    {
      "cell_type": "code",
      "execution_count": null,
      "metadata": {
        "colab": {
          "base_uri": "https://localhost:8080/",
          "height": 297
        },
        "id": "ywDeNuz2u0Bv",
        "outputId": "e4118a24-c10b-41b3-90b0-03c8819205f8"
      },
      "outputs": [
        {
          "data": {
            "image/png": "[encoded data removed]",
            "text/plain": [
              "<Figure size 432x288 with 1 Axes>"
            ]
          },
          "metadata": {},
          "output_type": "display_data"
        }
      ],
      "source": [
        "from sklearn.model_selection import learning_curve\n",
        "\n",
        "sizes, training_scores, testing_scores = learning_curve(MultinomialNB(), bow_cv1, y_train, cv=10, scoring='accuracy', train_sizes=np.linspace(100, 25000, 270, dtype=int))\n",
        "  \n",
        "# Mean and Standard Deviation of training scores\n",
        "mean_training = np.mean(training_scores, axis=1)\n",
        "Standard_Deviation_training = np.std(training_scores, axis=1)\n",
        "  \n",
        "# Mean and Standard Deviation of testing scores\n",
        "mean_testing = np.mean(testing_scores, axis=1)\n",
        "Standard_Deviation_testing = np.std(testing_scores, axis=1)\n",
        "  \n",
        "# Dotted blue line is for training scores and green line is for cross-validation score\n",
        "plt.plot(sizes, mean_training, '--', color=\"b\",  label=\"Training score\")\n",
        "plt.plot(sizes, mean_testing, color=\"g\", label=\"Cross-validation score\")\n",
        "  \n",
        "# Drawing plot\n",
        "plt.title(\"Learning Curve for MultinomialNB with bag of words embeddings\")\n",
        "plt.xlabel(\"Training Set Size\"), plt.ylabel(\"Accuracy Score\"), plt.legend(loc=\"best\")\n",
        "plt.tight_layout()\n",
        "plt.show()"
      ]
    },
    {
      "cell_type": "code",
      "execution_count": null,
      "metadata": {
        "colab": {
          "base_uri": "https://localhost:8080/",
          "height": 297
        },
        "id": "kfp1M84yv_S-",
        "outputId": "06ed3276-c1aa-4f91-917f-350e155931b7"
      },
      "outputs": [
        {
          "data": {
            "image/png": "[encoded data removed]",
            "text/plain": [
              "<Figure size 432x288 with 1 Axes>"
            ]
          },
          "metadata": {},
          "output_type": "display_data"
        }
      ],
      "source": [
        "sizes, training_scores, testing_scores = learning_curve(MultinomialNB(), tf_cv1, y_train, cv=10, scoring='accuracy', train_sizes=np.linspace(100, 25000, 270, dtype=int))\n",
        "  \n",
        "# Mean and Standard Deviation of training scores\n",
        "mean_training = np.mean(training_scores, axis=1)\n",
        "Standard_Deviation_training = np.std(training_scores, axis=1)\n",
        "  \n",
        "# Mean and Standard Deviation of testing scores\n",
        "mean_testing = np.mean(testing_scores, axis=1)\n",
        "Standard_Deviation_testing = np.std(testing_scores, axis=1)\n",
        "  \n",
        "# Dotted blue line is for training scores and green line is for cross-validation score\n",
        "plt.plot(sizes, mean_training, '--', color=\"b\",  label=\"Training score\")\n",
        "plt.plot(sizes, mean_testing, color=\"g\", label=\"Cross-validation score\")\n",
        "  \n",
        "# Drawing plot\n",
        "plt.title(\"Learning Curve for MultinomialNB with TF_IDF embeddings\")\n",
        "plt.xlabel(\"Training Set Size\"), plt.ylabel(\"Accuracy Score\"), plt.legend(loc=\"best\")\n",
        "plt.tight_layout()\n",
        "plt.show()"
      ]
    },
    {
      "cell_type": "markdown",
      "metadata": {
        "id": "9TmKjke3Acts"
      },
      "source": [
        "Creating models"
      ]
    },
    {
      "cell_type": "code",
      "execution_count": null,
      "metadata": {
        "id": "9RnwDAEfAfKm"
      },
      "outputs": [],
      "source": [
        "# For bag of words - \n",
        "nb_bow_stem = MultinomialNB();\n",
        "nb_bow_lemma = MultinomialNB();\n",
        "nb_bow_lemmaStem = MultinomialNB();\n",
        "\n",
        "# for tf-idf - \n",
        "nb_tf_stem = MultinomialNB();\n",
        "nb_tf_lemma = MultinomialNB();\n",
        "nb_tf_lemmaStem = MultinomialNB();"
      ]
    },
    {
      "cell_type": "markdown",
      "metadata": {
        "id": "p19fAhFvBY2K"
      },
      "source": [
        "Training the models "
      ]
    },
    {
      "cell_type": "code",
      "execution_count": null,
      "metadata": {
        "id": "KtQQf0GoBbNI"
      },
      "outputs": [],
      "source": [
        "# For bag of words - \n",
        "nb_bow_stem.fit(bow_cv1,y_train);\n",
        "nb_bow_lemma.fit(bow_cv2,y_train);\n",
        "nb_bow_lemmaStem.fit(bow_cv3,y_train);\n",
        "\n",
        "# For tf-idf - \n",
        "nb_tf_stem.fit(tf_cv1,y_train);\n",
        "nb_tf_lemma.fit(tf_cv2,y_train);\n",
        "nb_tf_lemmaStem.fit(tf_cv3,y_train);"
      ]
    },
    {
      "cell_type": "markdown",
      "metadata": {
        "id": "sgEl4GQMBKyM"
      },
      "source": [
        "Prediction on test set"
      ]
    },
    {
      "cell_type": "code",
      "execution_count": null,
      "metadata": {
        "id": "XHtfy11NBVAg"
      },
      "outputs": [],
      "source": [
        "# For bag of words - \n",
        "nb_bow_stem_pred = nb_bow_stem.predict(bow_cv1_test);\n",
        "nb_bow_lemma_pred = nb_bow_lemma.predict(bow_cv2_test);\n",
        "nb_bow_lemmaStem_pred = nb_bow_lemmaStem.predict(bow_cv3_test);\n",
        "\n",
        "# For tf-idf - \n",
        "nb_tf_stem_pred = nb_tf_stem.predict(tf_cv1_test);\n",
        "nb_tf_lemma_pred = nb_tf_lemma.predict(tf_cv2_test);\n",
        "nb_tf_lemmaStem_pred = nb_tf_lemmaStem.predict(tf_cv3_test);"
      ]
    },
    {
      "cell_type": "markdown",
      "metadata": {
        "id": "Udo8WdlVDs1D"
      },
      "source": [
        "Evaluation metrics"
      ]
    },
    {
      "cell_type": "code",
      "execution_count": null,
      "metadata": {
        "id": "kNy85tb0FPz0"
      },
      "outputs": [],
      "source": [
        "from sklearn.metrics import classification_report, confusion_matrix"
      ]
    },
    {
      "cell_type": "markdown",
      "metadata": {
        "id": "0jAJSSxxFTfl"
      },
      "source": [
        "Printing reports"
      ]
    },
    {
      "cell_type": "code",
      "execution_count": null,
      "metadata": {
        "colab": {
          "base_uri": "https://localhost:8080/"
        },
        "id": "sRGxsrt5EXfm",
        "outputId": "ce30173f-8c43-4a92-b1b7-c1e56fa95875"
      },
      "outputs": [
        {
          "name": "stdout",
          "output_type": "stream",
          "text": [
            "Classification Report for Naive Bayes on bag of word with stemming:\n",
            "               precision    recall  f1-score   support\n",
            "\n",
            "           0       0.80      0.98      0.88      1235\n",
            "           1       0.71      0.99      0.83      1226\n",
            "           2       0.81      0.95      0.87      1213\n",
            "           3       0.82      0.81      0.82      1173\n",
            "           4       0.70      0.41      0.52      1202\n",
            "           5       0.59      0.30      0.40       904\n",
            "\n",
            "    accuracy                           0.76      6953\n",
            "   macro avg       0.74      0.74      0.72      6953\n",
            "weighted avg       0.74      0.76      0.73      6953\n",
            "\n",
            "Classification Report for Naive Bayes on bag of word with lemmatization:\n",
            "               precision    recall  f1-score   support\n",
            "\n",
            "           0       0.80      0.98      0.88      1235\n",
            "           1       0.72      0.99      0.83      1226\n",
            "           2       0.83      0.95      0.88      1213\n",
            "           3       0.81      0.83      0.82      1173\n",
            "           4       0.70      0.43      0.53      1202\n",
            "           5       0.60      0.29      0.39       904\n",
            "\n",
            "    accuracy                           0.77      6953\n",
            "   macro avg       0.74      0.74      0.72      6953\n",
            "weighted avg       0.75      0.77      0.74      6953\n",
            "\n",
            "Classification Report for Naive Bayes on bag of word with lemma_stemming:\n",
            "               precision    recall  f1-score   support\n",
            "\n",
            "           0       0.80      0.97      0.88      1235\n",
            "           1       0.72      0.99      0.83      1226\n",
            "           2       0.81      0.95      0.87      1213\n",
            "           3       0.82      0.81      0.82      1173\n",
            "           4       0.70      0.41      0.52      1202\n",
            "           5       0.59      0.30      0.40       904\n",
            "\n",
            "    accuracy                           0.76      6953\n",
            "   macro avg       0.74      0.74      0.72      6953\n",
            "weighted avg       0.75      0.76      0.73      6953\n",
            "\n"
          ]
        }
      ],
      "source": [
        "# For Bag of words - \n",
        "print('Classification Report for Naive Bayes on bag of word with stemming:\\n',classification_report(y_test, nb_bow_stem_pred))\n",
        "print('Classification Report for Naive Bayes on bag of word with lemmatization:\\n',classification_report(y_test, nb_bow_lemma_pred))\n",
        "print('Classification Report for Naive Bayes on bag of word with lemma_stemming:\\n',classification_report(y_test, nb_bow_lemmaStem_pred))"
      ]
    },
    {
      "cell_type": "code",
      "execution_count": null,
      "metadata": {
        "colab": {
          "base_uri": "https://localhost:8080/"
        },
        "id": "2SaE0j7covku",
        "outputId": "d02981d8-a359-4ae1-f4dc-4367a4e83113"
      },
      "outputs": [
        {
          "name": "stdout",
          "output_type": "stream",
          "text": [
            "Classification Report for Naive Bayes on Ti-idf with stemming:\n",
            "               precision    recall  f1-score   support\n",
            "\n",
            "           0       0.77      0.97      0.86      1235\n",
            "           1       0.66      0.98      0.79      1226\n",
            "           2       0.80      0.92      0.85      1213\n",
            "           3       0.80      0.83      0.81      1173\n",
            "           4       0.68      0.42      0.52      1202\n",
            "           5       0.68      0.16      0.26       904\n",
            "\n",
            "    accuracy                           0.74      6953\n",
            "   macro avg       0.73      0.71      0.68      6953\n",
            "weighted avg       0.73      0.74      0.70      6953\n",
            "\n",
            "Classification Report for Naive Bayes on Ti-idf with lemmatization:\n",
            "               precision    recall  f1-score   support\n",
            "\n",
            "           0       0.78      0.97      0.86      1235\n",
            "           1       0.67      0.99      0.79      1226\n",
            "           2       0.80      0.92      0.86      1213\n",
            "           3       0.78      0.83      0.81      1173\n",
            "           4       0.67      0.43      0.52      1202\n",
            "           5       0.67      0.14      0.23       904\n",
            "\n",
            "    accuracy                           0.74      6953\n",
            "   macro avg       0.73      0.71      0.68      6953\n",
            "weighted avg       0.73      0.74      0.70      6953\n",
            "\n",
            "Classification Report for Naive Bayes on Ti-idf with lemma_stemming:\n",
            "               precision    recall  f1-score   support\n",
            "\n",
            "           0       0.76      0.97      0.85      1235\n",
            "           1       0.66      0.98      0.79      1226\n",
            "           2       0.80      0.92      0.85      1213\n",
            "           3       0.80      0.82      0.81      1173\n",
            "           4       0.68      0.42      0.52      1202\n",
            "           5       0.68      0.16      0.26       904\n",
            "\n",
            "    accuracy                           0.74      6953\n",
            "   macro avg       0.73      0.71      0.68      6953\n",
            "weighted avg       0.73      0.74      0.70      6953\n",
            "\n"
          ]
        }
      ],
      "source": [
        "# For Tf-idf - \n",
        "print('Classification Report for Naive Bayes on Ti-idf with stemming:\\n',classification_report(y_test, nb_tf_stem_pred))\n",
        "print('Classification Report for Naive Bayes on Ti-idf with lemmatization:\\n',classification_report(y_test, nb_tf_lemma_pred))\n",
        "print('Classification Report for Naive Bayes on Ti-idf with lemma_stemming:\\n',classification_report(y_test, nb_tf_lemmaStem_pred))"
      ]
    },
    {
      "cell_type": "markdown",
      "metadata": {
        "id": "AVisoDVMzKC9"
      },
      "source": [
        "Analysis about stemming and lemmatization : We can see that accuracy is very less affected by stemming and lemmatization. And since stemming is performing little better than lemmatization and it is much optimized as well, So we will be going for stemming for rest of analysis."
      ]
    },
    {
      "cell_type": "markdown",
      "metadata": {
        "id": "4y6vKr7J0Iyy"
      },
      "source": [
        "Morever, we can see that test accuracy of bag of words is 85% and that of Tf-idf is 83%."
      ]
    },
    {
      "cell_type": "markdown",
      "metadata": {
        "id": "GB9y06AD4yO3"
      },
      "source": [
        "## Training Gaussian Naive Bayes using GloVe Embedding"
      ]
    },
    {
      "cell_type": "markdown",
      "metadata": {
        "id": "Qgy1ZmUWYw-C"
      },
      "source": [
        "Performing train-test split for using Gaussian Naive Bayes on glove embeddings"
      ]
    },
    {
      "cell_type": "code",
      "execution_count": null,
      "metadata": {
        "colab": {
          "base_uri": "https://localhost:8080/"
        },
        "id": "g-6auuq-X1WU",
        "outputId": "90e5a5e2-25ad-4180-9447-2cd9c12a86ce"
      },
      "outputs": [
        {
          "name": "stdout",
          "output_type": "stream",
          "text": [
            "(35716, 500) (8929, 500)\n"
          ]
        }
      ],
      "source": [
        "X = embeddings_df.drop(['sentiments'], axis=1)\n",
        "Y = embeddings_df['sentiments']\n",
        "X_train, X_test, Y_train, Y_test = train_test_split(X, Y, test_size = 0.2, random_state = 0)\n",
        "print(X_train.shape, X_test.shape)"
      ]
    },
    {
      "cell_type": "markdown",
      "metadata": {
        "id": "Bwb9zRkGY-bq"
      },
      "source": [
        "Creating an object and training Gaussian Naive Bayes"
      ]
    },
    {
      "cell_type": "code",
      "execution_count": null,
      "metadata": {
        "colab": {
          "base_uri": "https://localhost:8080/"
        },
        "id": "Dgnu0NzeX5bb",
        "outputId": "06bb17d4-5676-40bf-bbf4-ea6b442eb2d2"
      },
      "outputs": [
        {
          "data": {
            "text/plain": [
              "GaussianNB()"
            ]
          },
          "execution_count": 156,
          "metadata": {},
          "output_type": "execute_result"
        }
      ],
      "source": [
        "gnb = GaussianNB()\n",
        "gnb.fit(X_train, Y_train)"
      ]
    },
    {
      "cell_type": "markdown",
      "metadata": {
        "id": "xF7BRavoZL6I"
      },
      "source": [
        "Performing predictions on the test set"
      ]
    },
    {
      "cell_type": "code",
      "execution_count": null,
      "metadata": {
        "id": "rwHvc6IGYhqA"
      },
      "outputs": [],
      "source": [
        "Y_pred = gnb.predict(X_test)"
      ]
    },
    {
      "cell_type": "markdown",
      "metadata": {
        "id": "xhCdNsPWZpdd"
      },
      "source": [
        "Evaluating the performance of the model"
      ]
    },
    {
      "cell_type": "code",
      "execution_count": null,
      "metadata": {
        "colab": {
          "base_uri": "https://localhost:8080/"
        },
        "id": "tAee61E2Yn77",
        "outputId": "7d59bf11-8983-44d6-cb22-17b3a62d656e"
      },
      "outputs": [
        {
          "name": "stdout",
          "output_type": "stream",
          "text": [
            "0.7057901220741405\n"
          ]
        }
      ],
      "source": [
        "from sklearn.metrics import accuracy_score\n",
        "\n",
        "accuracy = accuracy_score(Y_test, Y_pred)\n",
        "print(accuracy)"
      ]
    },
    {
      "cell_type": "markdown",
      "metadata": {
        "id": "qiV35Q5PZw66"
      },
      "source": [
        "Displaying the classification report"
      ]
    },
    {
      "cell_type": "code",
      "execution_count": null,
      "metadata": {
        "colab": {
          "base_uri": "https://localhost:8080/"
        },
        "id": "8o1fGPlWYtGb",
        "outputId": "f9998b5f-000b-419c-f797-27a04df0950b"
      },
      "outputs": [
        {
          "name": "stdout",
          "output_type": "stream",
          "text": [
            "              precision    recall  f1-score   support\n",
            "\n",
            "           0       0.76      0.91      0.83      1558\n",
            "           1       0.90      0.89      0.89      1630\n",
            "           2       0.86      0.73      0.79      1538\n",
            "           3       0.82      0.69      0.75      1533\n",
            "           4       0.53      0.57      0.55      1535\n",
            "           5       0.32      0.34      0.33      1135\n",
            "\n",
            "    accuracy                           0.71      8929\n",
            "   macro avg       0.70      0.69      0.69      8929\n",
            "weighted avg       0.72      0.71      0.71      8929\n",
            "\n"
          ]
        }
      ],
      "source": [
        "from sklearn.metrics import classification_report\n",
        "\n",
        "print(classification_report(Y_test, Y_pred))"
      ]
    },
    {
      "cell_type": "markdown",
      "metadata": {
        "id": "dUC61jLg54n7"
      },
      "source": [
        "Using K-Fold validation on the training set"
      ]
    },
    {
      "cell_type": "code",
      "execution_count": null,
      "metadata": {
        "colab": {
          "base_uri": "https://localhost:8080/"
        },
        "id": "OAbMfmiD4tfw",
        "outputId": "78e8ab26-a449-4104-dd14-edddddfe36eb"
      },
      "outputs": [
        {
          "name": "stdout",
          "output_type": "stream",
          "text": [
            "Classification report for K-Fold model 1\n",
            "For validation set -\n",
            "              precision    recall  f1-score   support\n",
            "\n",
            "           0       0.78      0.92      0.84      1311\n",
            "           1       0.90      0.90      0.90      1295\n",
            "           2       0.86      0.73      0.79      1186\n",
            "           3       0.79      0.70      0.75      1171\n",
            "           4       0.49      0.55      0.52      1192\n",
            "           5       0.36      0.33      0.34       989\n",
            "\n",
            "    accuracy                           0.71      7144\n",
            "   macro avg       0.70      0.69      0.69      7144\n",
            "weighted avg       0.71      0.71      0.71      7144\n",
            "\n",
            "For training set -\n",
            "              precision    recall  f1-score   support\n",
            "\n",
            "           0       0.76      0.92      0.83      5079\n",
            "           1       0.90      0.89      0.89      4972\n",
            "           2       0.87      0.73      0.80      5024\n",
            "           3       0.81      0.70      0.75      4909\n",
            "           4       0.51      0.56      0.53      4918\n",
            "           5       0.33      0.33      0.33      3670\n",
            "\n",
            "    accuracy                           0.71     28572\n",
            "   macro avg       0.70      0.69      0.69     28572\n",
            "weighted avg       0.71      0.71      0.71     28572\n",
            "\n",
            "Classification report for K-Fold model 2\n",
            "For validation set -\n",
            "              precision    recall  f1-score   support\n",
            "\n",
            "           0       0.77      0.91      0.83      1274\n",
            "           1       0.89      0.88      0.89      1246\n",
            "           2       0.88      0.74      0.80      1274\n",
            "           3       0.80      0.71      0.75      1205\n",
            "           4       0.50      0.54      0.52      1231\n",
            "           5       0.32      0.33      0.33       913\n",
            "\n",
            "    accuracy                           0.70      7143\n",
            "   macro avg       0.69      0.68      0.69      7143\n",
            "weighted avg       0.71      0.70      0.70      7143\n",
            "\n",
            "For training set -\n",
            "              precision    recall  f1-score   support\n",
            "\n",
            "           0       0.77      0.92      0.84      5116\n",
            "           1       0.90      0.89      0.89      5021\n",
            "           2       0.86      0.73      0.79      4936\n",
            "           3       0.81      0.69      0.75      4875\n",
            "           4       0.51      0.56      0.54      4879\n",
            "           5       0.34      0.35      0.34      3746\n",
            "\n",
            "    accuracy                           0.71     28573\n",
            "   macro avg       0.70      0.69      0.69     28573\n",
            "weighted avg       0.71      0.71      0.71     28573\n",
            "\n",
            "Classification report for K-Fold model 3\n",
            "For validation set -\n",
            "              precision    recall  f1-score   support\n",
            "\n",
            "           0       0.77      0.91      0.83      1274\n",
            "           1       0.91      0.90      0.91      1259\n",
            "           2       0.87      0.72      0.79      1238\n",
            "           3       0.80      0.68      0.74      1237\n",
            "           4       0.53      0.54      0.53      1228\n",
            "           5       0.32      0.37      0.35       907\n",
            "\n",
            "    accuracy                           0.70      7143\n",
            "   macro avg       0.70      0.69      0.69      7143\n",
            "weighted avg       0.72      0.70      0.71      7143\n",
            "\n",
            "For training set -\n",
            "              precision    recall  f1-score   support\n",
            "\n",
            "           0       0.77      0.92      0.84      5116\n",
            "           1       0.89      0.88      0.89      5008\n",
            "           2       0.86      0.73      0.79      4972\n",
            "           3       0.81      0.69      0.75      4843\n",
            "           4       0.52      0.54      0.53      4882\n",
            "           5       0.33      0.36      0.34      3752\n",
            "\n",
            "    accuracy                           0.70     28573\n",
            "   macro avg       0.70      0.69      0.69     28573\n",
            "weighted avg       0.71      0.70      0.71     28573\n",
            "\n",
            "Classification report for K-Fold model 4\n",
            "For validation set -\n",
            "              precision    recall  f1-score   support\n",
            "\n",
            "           0       0.77      0.92      0.84      1250\n",
            "           1       0.89      0.87      0.88      1219\n",
            "           2       0.87      0.74      0.80      1285\n",
            "           3       0.81      0.68      0.74      1230\n",
            "           4       0.51      0.56      0.54      1223\n",
            "           5       0.35      0.38      0.36       936\n",
            "\n",
            "    accuracy                           0.71      7143\n",
            "   macro avg       0.70      0.69      0.69      7143\n",
            "weighted avg       0.72      0.71      0.71      7143\n",
            "\n",
            "For training set -\n",
            "              precision    recall  f1-score   support\n",
            "\n",
            "           0       0.77      0.91      0.84      5140\n",
            "           1       0.90      0.89      0.89      5048\n",
            "           2       0.86      0.73      0.79      4925\n",
            "           3       0.80      0.70      0.74      4850\n",
            "           4       0.51      0.55      0.53      4887\n",
            "           5       0.33      0.34      0.33      3723\n",
            "\n",
            "    accuracy                           0.70     28573\n",
            "   macro avg       0.69      0.69      0.69     28573\n",
            "weighted avg       0.71      0.70      0.70     28573\n",
            "\n",
            "Classification report for K-Fold model 5\n",
            "For validation set -\n",
            "              precision    recall  f1-score   support\n",
            "\n",
            "           0       0.76      0.92      0.83      1281\n",
            "           1       0.89      0.89      0.89      1248\n",
            "           2       0.84      0.72      0.78      1227\n",
            "           3       0.82      0.70      0.76      1237\n",
            "           4       0.54      0.55      0.54      1236\n",
            "           5       0.32      0.34      0.33       914\n",
            "\n",
            "    accuracy                           0.70      7143\n",
            "   macro avg       0.70      0.69      0.69      7143\n",
            "weighted avg       0.71      0.70      0.71      7143\n",
            "\n",
            "For training set -\n",
            "              precision    recall  f1-score   support\n",
            "\n",
            "           0       0.77      0.92      0.84      5109\n",
            "           1       0.90      0.89      0.89      5019\n",
            "           2       0.87      0.73      0.79      4983\n",
            "           3       0.80      0.69      0.74      4843\n",
            "           4       0.52      0.54      0.53      4874\n",
            "           5       0.34      0.37      0.35      3745\n",
            "\n",
            "    accuracy                           0.70     28573\n",
            "   macro avg       0.70      0.69      0.69     28573\n",
            "weighted avg       0.72      0.70      0.71     28573\n",
            "\n"
          ]
        }
      ],
      "source": [
        "from sklearn.model_selection import KFold\n",
        "\n",
        "X_train_numpy = np.array(X_train)\n",
        "Y_train_numpy = np.array(Y_train)\n",
        "\n",
        "model = 1\n",
        "accuracy_val = 0\n",
        "accuracy_train = 0\n",
        "kf = KFold(n_splits = 5)\n",
        "for train_index, val_index in kf.split(X_train_numpy):\n",
        "  X_KFold_train, X_KFold_val = X_train_numpy[train_index], X_train_numpy[val_index]\n",
        "  Y_KFold_train, Y_KFold_val = Y_train_numpy[train_index], Y_train_numpy[val_index]\n",
        "  gnb = GaussianNB()\n",
        "  gnb.fit(X_KFold_train, Y_KFold_train)\n",
        "  Y_pred = gnb.predict(X_KFold_val)\n",
        "  YY_pred = gnb.predict(X_KFold_train)\n",
        "  print(\"Classification report for K-Fold model \"+str(model))\n",
        "  print(\"For validation set -\")\n",
        "  print(classification_report(Y_KFold_val, Y_pred))\n",
        "  print(\"For training set -\")\n",
        "  accuracy_val += accuracy_score(Y_KFold_val, Y_pred)\n",
        "  print(classification_report(Y_KFold_train, YY_pred))\n",
        "  accuracy_train += accuracy_score(Y_KFold_train, YY_pred)\n",
        "  model += 1"
      ]
    },
    {
      "cell_type": "code",
      "execution_count": null,
      "metadata": {
        "colab": {
          "base_uri": "https://localhost:8080/"
        },
        "id": "bugF876vc0Xr",
        "outputId": "156c235a-ce3c-418b-9520-1a38f79aab5a"
      },
      "outputs": [
        {
          "name": "stdout",
          "output_type": "stream",
          "text": [
            "Average accuracy obtained on vaidation set= 0.7044461417602554\n",
            "Average accuracy obtained on training set= 0.7045861849010876\n"
          ]
        }
      ],
      "source": [
        "avg_accuracy1 = accuracy_val/5\n",
        "print(\"Average accuracy obtained on vaidation set= \"+str(avg_accuracy1))\n",
        "avg_accuracy2 = accuracy_train/5\n",
        "print(\"Average accuracy obtained on training set= \"+str(avg_accuracy2))"
      ]
    },
    {
      "cell_type": "code",
      "execution_count": null,
      "metadata": {
        "colab": {
          "base_uri": "https://localhost:8080/",
          "height": 297
        },
        "id": "Bp02R6YhrGFw",
        "outputId": "97d42f1b-c771-4e03-b6e6-bc13d30f6c70"
      },
      "outputs": [
        {
          "data": {
            "image/png": "[encoded data removed]",
            "text/plain": [
              "<Figure size 432x288 with 1 Axes>"
            ]
          },
          "metadata": {},
          "output_type": "display_data"
        }
      ],
      "source": [
        "sizes, training_scores, testing_scores = learning_curve(GaussianNB(), X_train, Y_train, cv=10, scoring='accuracy', train_sizes=np.linspace(100, 27000, 270, dtype=int))\n",
        "  \n",
        "# Mean and Standard Deviation of training scores\n",
        "mean_training = np.mean(training_scores, axis=1)\n",
        "Standard_Deviation_training = np.std(training_scores, axis=1)\n",
        "  \n",
        "# Mean and Standard Deviation of testing scores\n",
        "mean_testing = np.mean(testing_scores, axis=1)\n",
        "Standard_Deviation_testing = np.std(testing_scores, axis=1)\n",
        "  \n",
        "# Dotted blue line is for training scores and green line is for cross-validation score\n",
        "plt.plot(sizes, mean_training, '--', color=\"b\",  label=\"Training score\")\n",
        "plt.plot(sizes, mean_testing, color=\"g\", label=\"Cross-validation score\")\n",
        "  \n",
        "# Drawing plot\n",
        "plt.title(\"Learning Curve for GaussianNB with GloVe embeddings\")\n",
        "plt.xlabel(\"Training Set Size\"), plt.ylabel(\"Accuracy Score\"), plt.legend(loc=\"best\")\n",
        "plt.tight_layout()\n",
        "plt.show()"
      ]
    },
    {
      "cell_type": "markdown",
      "metadata": {
        "id": "0yruIHeLGcNZ"
      },
      "source": [
        "# Baseline Technique 2 - Logistic Regression"
      ]
    },
    {
      "cell_type": "code",
      "execution_count": null,
      "metadata": {
        "id": "6L5bUIi_ppdt"
      },
      "outputs": [],
      "source": [
        "from sklearn.linear_model import LogisticRegression"
      ]
    },
    {
      "cell_type": "markdown",
      "metadata": {
        "id": "vedqcP-movuQ"
      },
      "source": [
        "## For bag of words"
      ]
    },
    {
      "cell_type": "code",
      "execution_count": null,
      "metadata": {
        "colab": {
          "base_uri": "https://localhost:8080/"
        },
        "id": "S9ZB139eGhIc",
        "outputId": "bc6ba175-f863-40f9-d299-d571061dd2a7"
      },
      "outputs": [
        {
          "name": "stdout",
          "output_type": "stream",
          "text": [
            "Classification report for K-Fold model 1\n",
            "For validation set -\n",
            "              precision    recall  f1-score   support\n",
            "\n",
            "           0       0.96      0.93      0.94      1008\n",
            "           1       0.96      0.97      0.96       956\n",
            "           2       0.98      0.97      0.98       941\n",
            "           3       0.90      0.85      0.88       972\n",
            "           4       0.60      0.64      0.62       956\n",
            "           5       0.56      0.57      0.57       730\n",
            "\n",
            "    accuracy                           0.83      5563\n",
            "   macro avg       0.83      0.82      0.82      5563\n",
            "weighted avg       0.84      0.83      0.84      5563\n",
            "\n",
            "For training set -\n",
            "              precision    recall  f1-score   support\n",
            "\n",
            "           0       0.99      0.99      0.99      3934\n",
            "           1       0.99      0.99      0.99      3947\n",
            "           2       1.00      1.00      1.00      3909\n",
            "           3       0.98      0.95      0.96      3722\n",
            "           4       0.89      0.93      0.91      3851\n",
            "           5       0.90      0.89      0.90      2885\n",
            "\n",
            "    accuracy                           0.96     22248\n",
            "   macro avg       0.96      0.96      0.96     22248\n",
            "weighted avg       0.96      0.96      0.96     22248\n",
            "\n",
            "Classification report for K-Fold model 2\n",
            "For validation set -\n",
            "              precision    recall  f1-score   support\n",
            "\n",
            "           0       0.96      0.93      0.94       978\n",
            "           1       0.97      0.98      0.97       961\n",
            "           2       0.98      0.98      0.98       985\n",
            "           3       0.89      0.83      0.86       933\n",
            "           4       0.59      0.64      0.62       954\n",
            "           5       0.54      0.54      0.54       751\n",
            "\n",
            "    accuracy                           0.83      5562\n",
            "   macro avg       0.82      0.82      0.82      5562\n",
            "weighted avg       0.83      0.83      0.83      5562\n",
            "\n",
            "For training set -\n",
            "              precision    recall  f1-score   support\n",
            "\n",
            "           0       0.99      0.99      0.99      3964\n",
            "           1       0.99      0.99      0.99      3942\n",
            "           2       1.00      1.00      1.00      3865\n",
            "           3       0.98      0.95      0.97      3761\n",
            "           4       0.90      0.93      0.91      3853\n",
            "           5       0.91      0.90      0.90      2864\n",
            "\n",
            "    accuracy                           0.96     22249\n",
            "   macro avg       0.96      0.96      0.96     22249\n",
            "weighted avg       0.96      0.96      0.96     22249\n",
            "\n",
            "Classification report for K-Fold model 3\n",
            "For validation set -\n",
            "              precision    recall  f1-score   support\n",
            "\n",
            "           0       0.96      0.92      0.94      1004\n",
            "           1       0.97      0.97      0.97       977\n",
            "           2       0.98      0.97      0.98       959\n",
            "           3       0.90      0.82      0.86       941\n",
            "           4       0.61      0.63      0.62       979\n",
            "           5       0.53      0.60      0.56       702\n",
            "\n",
            "    accuracy                           0.83      5562\n",
            "   macro avg       0.83      0.82      0.82      5562\n",
            "weighted avg       0.84      0.83      0.83      5562\n",
            "\n",
            "For training set -\n",
            "              precision    recall  f1-score   support\n",
            "\n",
            "           0       0.99      0.99      0.99      3938\n",
            "           1       0.99      0.99      0.99      3926\n",
            "           2       1.00      1.00      1.00      3891\n",
            "           3       0.98      0.95      0.96      3753\n",
            "           4       0.90      0.93      0.91      3828\n",
            "           5       0.91      0.90      0.90      2913\n",
            "\n",
            "    accuracy                           0.96     22249\n",
            "   macro avg       0.96      0.96      0.96     22249\n",
            "weighted avg       0.96      0.96      0.96     22249\n",
            "\n",
            "Classification report for K-Fold model 4\n",
            "For validation set -\n",
            "              precision    recall  f1-score   support\n",
            "\n",
            "           0       0.96      0.95      0.96       976\n",
            "           1       0.97      0.95      0.96      1036\n",
            "           2       0.98      0.97      0.98       968\n",
            "           3       0.89      0.82      0.86       889\n",
            "           4       0.60      0.66      0.63       961\n",
            "           5       0.56      0.57      0.56       732\n",
            "\n",
            "    accuracy                           0.83      5562\n",
            "   macro avg       0.83      0.82      0.82      5562\n",
            "weighted avg       0.84      0.83      0.84      5562\n",
            "\n",
            "For training set -\n",
            "              precision    recall  f1-score   support\n",
            "\n",
            "           0       0.99      0.99      0.99      3966\n",
            "           1       0.99      0.99      0.99      3867\n",
            "           2       1.00      1.00      1.00      3882\n",
            "           3       0.98      0.95      0.96      3805\n",
            "           4       0.89      0.92      0.90      3846\n",
            "           5       0.90      0.89      0.89      2883\n",
            "\n",
            "    accuracy                           0.96     22249\n",
            "   macro avg       0.96      0.96      0.96     22249\n",
            "weighted avg       0.96      0.96      0.96     22249\n",
            "\n",
            "Classification report for K-Fold model 5\n",
            "For validation set -\n",
            "              precision    recall  f1-score   support\n",
            "\n",
            "           0       0.96      0.93      0.94       976\n",
            "           1       0.97      0.97      0.97       973\n",
            "           2       0.99      0.98      0.98       997\n",
            "           3       0.90      0.84      0.87       959\n",
            "           4       0.60      0.65      0.62       957\n",
            "           5       0.53      0.56      0.55       700\n",
            "\n",
            "    accuracy                           0.83      5562\n",
            "   macro avg       0.82      0.82      0.82      5562\n",
            "weighted avg       0.84      0.83      0.84      5562\n",
            "\n",
            "For training set -\n",
            "              precision    recall  f1-score   support\n",
            "\n",
            "           0       0.99      0.99      0.99      3966\n",
            "           1       0.99      0.99      0.99      3930\n",
            "           2       1.00      1.00      1.00      3853\n",
            "           3       0.98      0.95      0.96      3735\n",
            "           4       0.90      0.92      0.91      3850\n",
            "           5       0.90      0.90      0.90      2915\n",
            "\n",
            "    accuracy                           0.96     22249\n",
            "   macro avg       0.96      0.96      0.96     22249\n",
            "weighted avg       0.96      0.96      0.96     22249\n",
            "\n"
          ]
        }
      ],
      "source": [
        "y_train = np.array(y_train)\n",
        "model = 1\n",
        "accuracy_val = 0\n",
        "accuracy_train = 0\n",
        "kf = KFold(n_splits = 5)\n",
        "for train_index, val_index in kf.split(bow_cv1):\n",
        "  X_KFold_train, X_KFold_val = bow_cv1[train_index], bow_cv1[val_index]\n",
        "  Y_KFold_train, Y_KFold_val = y_train[train_index], y_train[val_index]\n",
        "  logistic_reg = LogisticRegression(max_iter=300)\n",
        "  logistic_reg.fit(X_KFold_train, Y_KFold_train)\n",
        "  Y_pred = logistic_reg.predict(X_KFold_val)\n",
        "  YY_pred = logistic_reg.predict(X_KFold_train)\n",
        "  print(\"Classification report for K-Fold model \"+str(model))\n",
        "  print(\"For validation set -\")\n",
        "  print(classification_report(Y_KFold_val, Y_pred))\n",
        "  print(\"For training set -\")\n",
        "  accuracy_val += accuracy_score(Y_KFold_val, Y_pred)\n",
        "  print(classification_report(Y_KFold_train, YY_pred))\n",
        "  accuracy_train += accuracy_score(Y_KFold_train, YY_pred)\n",
        "  model += 1"
      ]
    },
    {
      "cell_type": "code",
      "execution_count": null,
      "metadata": {
        "colab": {
          "base_uri": "https://localhost:8080/"
        },
        "id": "5xqc4mIxq9nP",
        "outputId": "3eb06464-1c3c-4532-8f11-a04719083b39"
      },
      "outputs": [
        {
          "name": "stdout",
          "output_type": "stream",
          "text": [
            "Average accuracy obtained on vaidation set= 0.8326920567216629\n",
            "Average accuracy obtained on training set= 0.9612383562435097\n"
          ]
        }
      ],
      "source": [
        "avg_accuracy1 = accuracy_val/5\n",
        "print(\"Average accuracy obtained on vaidation set= \"+str(avg_accuracy1))\n",
        "avg_accuracy2 = accuracy_train/5\n",
        "print(\"Average accuracy obtained on training set= \"+str(avg_accuracy2))"
      ]
    },
    {
      "cell_type": "markdown",
      "metadata": {
        "id": "rNtGDEhhryT4"
      },
      "source": [
        "Learning curve"
      ]
    },
    {
      "cell_type": "code",
      "execution_count": null,
      "metadata": {
        "colab": {
          "base_uri": "https://localhost:8080/",
          "height": 297
        },
        "id": "Yzqt6cNcr14V",
        "outputId": "fdb506be-6767-469f-f9c0-008021a0a2e6"
      },
      "outputs": [
        {
          "data": {
            "image/png": "[encoded data removed]",
            "text/plain": [
              "<Figure size 432x288 with 1 Axes>"
            ]
          },
          "metadata": {},
          "output_type": "display_data"
        }
      ],
      "source": [
        "from sklearn.model_selection import learning_curve\n",
        "\n",
        "sizes, training_scores, testing_scores = learning_curve(LogisticRegression(max_iter = 300), bow_cv1, y_train, cv=5, scoring='accuracy', train_sizes=np.linspace(100, 20000, 10\n",
        "                                                                                                                                                                , dtype=int))\n",
        "  \n",
        "# Mean and Standard Deviation of training scores\n",
        "mean_training = np.mean(training_scores, axis=1)\n",
        "Standard_Deviation_training = np.std(training_scores, axis=1)\n",
        "  \n",
        "# Mean and Standard Deviation of testing scores\n",
        "mean_testing = np.mean(testing_scores, axis=1)\n",
        "Standard_Deviation_testing = np.std(testing_scores, axis=1)\n",
        "  \n",
        "# Dotted blue line is for training scores and green line is for cross-validation score\n",
        "plt.plot(sizes, mean_training, '--', color=\"b\",  label=\"Training score\")\n",
        "plt.plot(sizes, mean_testing, color=\"g\", label=\"Cross-validation score\")\n",
        "  \n",
        "# Drawing plot\n",
        "plt.title(\"Learning Curve for Logisitic regression with bag of words embeddings\")\n",
        "plt.xlabel(\"Training Set Size\"), plt.ylabel(\"Accuracy Score\"), plt.legend(loc=\"best\")\n",
        "plt.tight_layout()\n",
        "plt.show()"
      ]
    },
    {
      "cell_type": "markdown",
      "metadata": {
        "id": "R7pKQBKuo1Vm"
      },
      "source": [
        "## For Tf-idf word embedding"
      ]
    },
    {
      "cell_type": "code",
      "execution_count": null,
      "metadata": {
        "colab": {
          "base_uri": "https://localhost:8080/"
        },
        "id": "VG9I4Bm6syV-",
        "outputId": "53e0d04b-3fe1-4de9-8c69-07540a8c51dc"
      },
      "outputs": [
        {
          "name": "stdout",
          "output_type": "stream",
          "text": [
            "Classification report for K-Fold model 1\n",
            "For validation set -\n",
            "              precision    recall  f1-score   support\n",
            "\n",
            "           0       0.96      0.94      0.95      1008\n",
            "           1       0.94      0.95      0.95       956\n",
            "           2       0.97      0.97      0.97       941\n",
            "           3       0.92      0.83      0.87       972\n",
            "           4       0.59      0.68      0.63       956\n",
            "           5       0.59      0.56      0.57       730\n",
            "\n",
            "    accuracy                           0.83      5563\n",
            "   macro avg       0.83      0.82      0.82      5563\n",
            "weighted avg       0.84      0.83      0.84      5563\n",
            "\n",
            "For training set -\n",
            "              precision    recall  f1-score   support\n",
            "\n",
            "           0       0.97      0.96      0.96      3934\n",
            "           1       0.96      0.98      0.97      3947\n",
            "           2       0.98      0.99      0.99      3909\n",
            "           3       0.95      0.88      0.91      3722\n",
            "           4       0.81      0.85      0.83      3851\n",
            "           5       0.82      0.82      0.82      2885\n",
            "\n",
            "    accuracy                           0.92     22248\n",
            "   macro avg       0.91      0.91      0.91     22248\n",
            "weighted avg       0.92      0.92      0.92     22248\n",
            "\n",
            "Classification report for K-Fold model 2\n",
            "For validation set -\n",
            "              precision    recall  f1-score   support\n",
            "\n",
            "           0       0.94      0.94      0.94       978\n",
            "           1       0.94      0.97      0.96       961\n",
            "           2       0.97      0.98      0.98       985\n",
            "           3       0.91      0.81      0.86       933\n",
            "           4       0.57      0.65      0.61       954\n",
            "           5       0.55      0.50      0.52       751\n",
            "\n",
            "    accuracy                           0.82      5562\n",
            "   macro avg       0.81      0.81      0.81      5562\n",
            "weighted avg       0.83      0.82      0.82      5562\n",
            "\n",
            "For training set -\n",
            "              precision    recall  f1-score   support\n",
            "\n",
            "           0       0.97      0.97      0.97      3964\n",
            "           1       0.96      0.98      0.97      3942\n",
            "           2       0.98      0.99      0.98      3865\n",
            "           3       0.95      0.88      0.92      3761\n",
            "           4       0.81      0.85      0.83      3853\n",
            "           5       0.83      0.82      0.83      2864\n",
            "\n",
            "    accuracy                           0.92     22249\n",
            "   macro avg       0.92      0.91      0.91     22249\n",
            "weighted avg       0.92      0.92      0.92     22249\n",
            "\n",
            "Classification report for K-Fold model 3\n",
            "For validation set -\n",
            "              precision    recall  f1-score   support\n",
            "\n",
            "           0       0.95      0.93      0.94      1004\n",
            "           1       0.94      0.97      0.95       977\n",
            "           2       0.97      0.98      0.98       959\n",
            "           3       0.92      0.81      0.86       941\n",
            "           4       0.59      0.65      0.62       979\n",
            "           5       0.56      0.56      0.56       702\n",
            "\n",
            "    accuracy                           0.83      5562\n",
            "   macro avg       0.82      0.82      0.82      5562\n",
            "weighted avg       0.83      0.83      0.83      5562\n",
            "\n",
            "For training set -\n",
            "              precision    recall  f1-score   support\n",
            "\n",
            "           0       0.97      0.97      0.97      3938\n",
            "           1       0.96      0.98      0.97      3926\n",
            "           2       0.98      0.98      0.98      3891\n",
            "           3       0.95      0.88      0.92      3753\n",
            "           4       0.81      0.85      0.83      3828\n",
            "           5       0.82      0.82      0.82      2913\n",
            "\n",
            "    accuracy                           0.92     22249\n",
            "   macro avg       0.92      0.92      0.92     22249\n",
            "weighted avg       0.92      0.92      0.92     22249\n",
            "\n",
            "Classification report for K-Fold model 4\n",
            "For validation set -\n",
            "              precision    recall  f1-score   support\n",
            "\n",
            "           0       0.95      0.95      0.95       976\n",
            "           1       0.95      0.94      0.94      1036\n",
            "           2       0.98      0.96      0.97       968\n",
            "           3       0.90      0.81      0.86       889\n",
            "           4       0.58      0.69      0.63       961\n",
            "           5       0.57      0.52      0.54       732\n",
            "\n",
            "    accuracy                           0.83      5562\n",
            "   macro avg       0.82      0.81      0.82      5562\n",
            "weighted avg       0.83      0.83      0.83      5562\n",
            "\n",
            "For training set -\n",
            "              precision    recall  f1-score   support\n",
            "\n",
            "           0       0.97      0.96      0.97      3966\n",
            "           1       0.96      0.98      0.97      3867\n",
            "           2       0.98      0.99      0.98      3882\n",
            "           3       0.95      0.88      0.91      3805\n",
            "           4       0.80      0.84      0.82      3846\n",
            "           5       0.82      0.82      0.82      2883\n",
            "\n",
            "    accuracy                           0.92     22249\n",
            "   macro avg       0.91      0.91      0.91     22249\n",
            "weighted avg       0.92      0.92      0.92     22249\n",
            "\n",
            "Classification report for K-Fold model 5\n",
            "For validation set -\n",
            "              precision    recall  f1-score   support\n",
            "\n",
            "           0       0.95      0.93      0.94       976\n",
            "           1       0.95      0.97      0.96       973\n",
            "           2       0.97      0.97      0.97       997\n",
            "           3       0.92      0.82      0.87       959\n",
            "           4       0.60      0.68      0.64       957\n",
            "           5       0.55      0.54      0.55       700\n",
            "\n",
            "    accuracy                           0.83      5562\n",
            "   macro avg       0.82      0.82      0.82      5562\n",
            "weighted avg       0.84      0.83      0.83      5562\n",
            "\n",
            "For training set -\n",
            "              precision    recall  f1-score   support\n",
            "\n",
            "           0       0.97      0.97      0.97      3966\n",
            "           1       0.96      0.98      0.97      3930\n",
            "           2       0.98      0.99      0.98      3853\n",
            "           3       0.95      0.88      0.91      3735\n",
            "           4       0.80      0.84      0.82      3850\n",
            "           5       0.82      0.82      0.82      2915\n",
            "\n",
            "    accuracy                           0.92     22249\n",
            "   macro avg       0.91      0.91      0.91     22249\n",
            "weighted avg       0.92      0.92      0.92     22249\n",
            "\n"
          ]
        }
      ],
      "source": [
        "y_train = np.array(y_train)\n",
        "model = 1\n",
        "accuracy_val = 0\n",
        "accuracy_train = 0\n",
        "kf = KFold(n_splits = 5)\n",
        "for train_index, val_index in kf.split(tf_cv1):\n",
        "  X_KFold_train, X_KFold_val = tf_cv1[train_index], tf_cv1[val_index]\n",
        "  Y_KFold_train, Y_KFold_val = y_train[train_index], y_train[val_index]\n",
        "  logistic_reg = LogisticRegression(max_iter = 300)\n",
        "  logistic_reg.fit(X_KFold_train, Y_KFold_train)\n",
        "  Y_pred = logistic_reg.predict(X_KFold_val)\n",
        "  YY_pred = logistic_reg.predict(X_KFold_train)\n",
        "  print(\"Classification report for K-Fold model \"+str(model))\n",
        "  print(\"For validation set -\")\n",
        "  print(classification_report(Y_KFold_val, Y_pred))\n",
        "  print(\"For training set -\")\n",
        "  accuracy_val += accuracy_score(Y_KFold_val, Y_pred)\n",
        "  print(classification_report(Y_KFold_train, YY_pred))\n",
        "  accuracy_train += accuracy_score(Y_KFold_train, YY_pred)\n",
        "  model += 1"
      ]
    },
    {
      "cell_type": "code",
      "execution_count": null,
      "metadata": {
        "colab": {
          "base_uri": "https://localhost:8080/"
        },
        "id": "6Nk5w0ZKs28q",
        "outputId": "f9a76be6-d118-4a8c-d193-d5b889f46f7b"
      },
      "outputs": [
        {
          "name": "stdout",
          "output_type": "stream",
          "text": [
            "Average accuracy obtained on vaidation set= 0.828269206641741\n",
            "Average accuracy obtained on training set= 0.9182787362587306\n"
          ]
        }
      ],
      "source": [
        "avg_accuracy1 = accuracy_val/5\n",
        "print(\"Average accuracy obtained on vaidation set= \"+str(avg_accuracy1))\n",
        "avg_accuracy2 = accuracy_train/5\n",
        "print(\"Average accuracy obtained on training set= \"+str(avg_accuracy2))"
      ]
    },
    {
      "cell_type": "markdown",
      "metadata": {
        "id": "u9zc_Hi4tMPV"
      },
      "source": [
        "Learning curve"
      ]
    },
    {
      "cell_type": "code",
      "execution_count": null,
      "metadata": {
        "colab": {
          "base_uri": "https://localhost:8080/",
          "height": 297
        },
        "id": "f-0XDuTgtWm0",
        "outputId": "d7f34654-772f-48cd-a7be-539f0ed53379"
      },
      "outputs": [
        {
          "data": {
            "image/png": "[encoded data removed]",
            "text/plain": [
              "<Figure size 432x288 with 1 Axes>"
            ]
          },
          "metadata": {},
          "output_type": "display_data"
        }
      ],
      "source": [
        "from sklearn.model_selection import learning_curve\n",
        "\n",
        "sizes, training_scores, testing_scores = learning_curve(LogisticRegression(max_iter = 300), tf_cv1, y_train, cv=5, scoring='accuracy', train_sizes=np.linspace(100, 20000, 10, dtype=int))\n",
        "  \n",
        "# Mean and Standard Deviation of training scores\n",
        "mean_training = np.mean(training_scores, axis=1)\n",
        "Standard_Deviation_training = np.std(training_scores, axis=1)\n",
        "  \n",
        "# Mean and Standard Deviation of testing scores\n",
        "mean_testing = np.mean(testing_scores, axis=1)\n",
        "Standard_Deviation_testing = np.std(testing_scores, axis=1)\n",
        "  \n",
        "# Dotted blue line is for training scores and green line is for cross-validation score\n",
        "plt.plot(sizes, mean_training, '--', color=\"b\",  label=\"Training score\")\n",
        "plt.plot(sizes, mean_testing, color=\"g\", label=\"Cross-validation score\")\n",
        "  \n",
        "# Drawing plot\n",
        "plt.title(\"Learning Curve for Logistic regression with TF-idf embeddings\")\n",
        "plt.xlabel(\"Training Set Size\"), plt.ylabel(\"Accuracy Score\"), plt.legend(loc=\"best\")\n",
        "plt.tight_layout()\n",
        "plt.show()"
      ]
    },
    {
      "cell_type": "markdown",
      "metadata": {
        "id": "2gIf35FFtNml"
      },
      "source": [
        "## Test set accuracy of Logistic regression on Bag of words and TF-idf"
      ]
    },
    {
      "cell_type": "markdown",
      "metadata": {
        "id": "ddzwBpdxueDh"
      },
      "source": [
        "Creating models"
      ]
    },
    {
      "cell_type": "code",
      "execution_count": null,
      "metadata": {
        "id": "1t1zlFQQueDi"
      },
      "outputs": [],
      "source": [
        "# For bag of words - \n",
        "nb_bow_stem = LogisticRegression(max_iter = 300);\n",
        "\n",
        "# for tf-idf - \n",
        "nb_tf_stem = LogisticRegression(max_iter = 300);"
      ]
    },
    {
      "cell_type": "markdown",
      "metadata": {
        "id": "7zFP4DFgueDi"
      },
      "source": [
        "Training the models "
      ]
    },
    {
      "cell_type": "code",
      "execution_count": null,
      "metadata": {
        "id": "G_5pCb9mueDi"
      },
      "outputs": [],
      "source": [
        "# For bag of words - \n",
        "nb_bow_stem.fit(bow_cv1,y_train);\n",
        "\n",
        "# For tf-idf - \n",
        "nb_tf_stem.fit(tf_cv1,y_train);"
      ]
    },
    {
      "cell_type": "markdown",
      "metadata": {
        "id": "FyMxhAyJueDj"
      },
      "source": [
        "Prediction on test set"
      ]
    },
    {
      "cell_type": "code",
      "execution_count": null,
      "metadata": {
        "id": "qBE1Xko6ueDj"
      },
      "outputs": [],
      "source": [
        "# For bag of words - \n",
        "nb_bow_stem_pred = nb_bow_stem.predict(bow_cv1_test);\n",
        "\n",
        "# For tf-idf - \n",
        "nb_tf_stem_pred = nb_tf_stem.predict(tf_cv1_test);"
      ]
    },
    {
      "cell_type": "markdown",
      "metadata": {
        "id": "x4iPkuJ6ueDk"
      },
      "source": [
        "Evaluation metrics"
      ]
    },
    {
      "cell_type": "code",
      "execution_count": null,
      "metadata": {
        "colab": {
          "base_uri": "https://localhost:8080/"
        },
        "id": "GqiMXAUnv4um",
        "outputId": "7e4d1d49-3063-49f1-8e1c-7865c8d9b986"
      },
      "outputs": [
        {
          "name": "stdout",
          "output_type": "stream",
          "text": [
            "Classification Report for Naive Bayes on bag of word with stemming:\n",
            "               precision    recall  f1-score   support\n",
            "\n",
            "           0       0.97      0.94      0.95      1235\n",
            "           1       0.97      0.97      0.97      1226\n",
            "           2       0.99      0.98      0.98      1213\n",
            "           3       0.89      0.83      0.86      1173\n",
            "           4       0.63      0.67      0.65      1202\n",
            "           5       0.56      0.58      0.57       904\n",
            "\n",
            "    accuracy                           0.84      6953\n",
            "   macro avg       0.83      0.83      0.83      6953\n",
            "weighted avg       0.85      0.84      0.84      6953\n",
            "\n"
          ]
        }
      ],
      "source": [
        "print('Classification Report for Naive Bayes on bag of word with stemming:\\n',classification_report(y_test, nb_bow_stem_pred))"
      ]
    },
    {
      "cell_type": "code",
      "execution_count": null,
      "metadata": {
        "colab": {
          "base_uri": "https://localhost:8080/"
        },
        "id": "ci1oikOCv6i_",
        "outputId": "496c7952-25f8-41c2-84c4-68f973661778"
      },
      "outputs": [
        {
          "name": "stdout",
          "output_type": "stream",
          "text": [
            "Classification Report for Naive Bayes on bag of word with stemming:\n",
            "               precision    recall  f1-score   support\n",
            "\n",
            "           0       0.95      0.95      0.95      1235\n",
            "           1       0.93      0.97      0.95      1226\n",
            "           2       0.98      0.97      0.97      1213\n",
            "           3       0.91      0.83      0.87      1173\n",
            "           4       0.62      0.65      0.64      1202\n",
            "           5       0.57      0.57      0.57       904\n",
            "\n",
            "    accuracy                           0.84      6953\n",
            "   macro avg       0.83      0.82      0.82      6953\n",
            "weighted avg       0.84      0.84      0.84      6953\n",
            "\n"
          ]
        }
      ],
      "source": [
        "print('Classification Report for Naive Bayes on bag of word with stemming:\\n',classification_report(y_test, nb_tf_stem_pred))"
      ]
    },
    {
      "cell_type": "markdown",
      "metadata": {
        "id": "b1jMWhbjHhSv"
      },
      "source": [
        "# Baseline Technique 3 - SVM"
      ]
    },
    {
      "cell_type": "code",
      "execution_count": null,
      "metadata": {
        "id": "35HBkLdvHlBZ"
      },
      "outputs": [],
      "source": [
        "from sklearn import svm"
      ]
    },
    {
      "cell_type": "markdown",
      "metadata": {
        "id": "5AxpyZmd3KEH"
      },
      "source": [
        "## For Bag of words - "
      ]
    },
    {
      "cell_type": "code",
      "execution_count": null,
      "metadata": {
        "colab": {
          "base_uri": "https://localhost:8080/"
        },
        "id": "cNuT25ScFUs3",
        "outputId": "9b304059-4a63-4592-b3d0-770f806a9ed5"
      },
      "outputs": [
        {
          "name": "stdout",
          "output_type": "stream",
          "text": [
            "Classification report for K-Fold model 1\n",
            "For validation set -\n",
            "              precision    recall  f1-score   support\n",
            "\n",
            "           0       0.95      0.94      0.94      1008\n",
            "           1       0.97      0.96      0.97       956\n",
            "           2       0.98      0.97      0.98       941\n",
            "           3       0.91      0.84      0.87       972\n",
            "           4       0.57      0.74      0.64       956\n",
            "           5       0.62      0.46      0.53       730\n",
            "\n",
            "    accuracy                           0.84      5563\n",
            "   macro avg       0.83      0.82      0.82      5563\n",
            "weighted avg       0.84      0.84      0.84      5563\n",
            "\n",
            "For training set -\n",
            "              precision    recall  f1-score   support\n",
            "\n",
            "           0       0.98      0.96      0.97      3934\n",
            "           1       0.99      0.99      0.99      3947\n",
            "           2       1.00      0.99      0.99      3909\n",
            "           3       0.96      0.89      0.93      3722\n",
            "           4       0.76      0.92      0.83      3851\n",
            "           5       0.87      0.74      0.80      2885\n",
            "\n",
            "    accuracy                           0.92     22248\n",
            "   macro avg       0.93      0.91      0.92     22248\n",
            "weighted avg       0.93      0.92      0.92     22248\n",
            "\n",
            "Classification report for K-Fold model 2\n",
            "For validation set -\n",
            "              precision    recall  f1-score   support\n",
            "\n",
            "           0       0.96      0.94      0.95       978\n",
            "           1       0.97      0.98      0.98       961\n",
            "           2       0.98      0.98      0.98       985\n",
            "           3       0.91      0.82      0.86       933\n",
            "           4       0.57      0.75      0.65       954\n",
            "           5       0.59      0.44      0.51       751\n",
            "\n",
            "    accuracy                           0.83      5562\n",
            "   macro avg       0.83      0.82      0.82      5562\n",
            "weighted avg       0.84      0.83      0.83      5562\n",
            "\n",
            "For training set -\n",
            "              precision    recall  f1-score   support\n",
            "\n",
            "           0       0.98      0.97      0.97      3964\n",
            "           1       0.99      0.98      0.98      3942\n",
            "           2       1.00      0.99      0.99      3865\n",
            "           3       0.97      0.89      0.93      3761\n",
            "           4       0.76      0.91      0.83      3853\n",
            "           5       0.87      0.75      0.81      2864\n",
            "\n",
            "    accuracy                           0.92     22249\n",
            "   macro avg       0.93      0.92      0.92     22249\n",
            "weighted avg       0.93      0.92      0.93     22249\n",
            "\n",
            "Classification report for K-Fold model 3\n",
            "For validation set -\n",
            "              precision    recall  f1-score   support\n",
            "\n",
            "           0       0.95      0.93      0.94      1004\n",
            "           1       0.97      0.98      0.97       977\n",
            "           2       0.98      0.98      0.98       959\n",
            "           3       0.92      0.80      0.85       941\n",
            "           4       0.59      0.71      0.65       979\n",
            "           5       0.58      0.53      0.56       702\n",
            "\n",
            "    accuracy                           0.84      5562\n",
            "   macro avg       0.83      0.82      0.82      5562\n",
            "weighted avg       0.84      0.84      0.84      5562\n",
            "\n",
            "For training set -\n",
            "              precision    recall  f1-score   support\n",
            "\n",
            "           0       0.98      0.97      0.98      3938\n",
            "           1       0.99      0.98      0.98      3926\n",
            "           2       1.00      0.99      0.99      3891\n",
            "           3       0.96      0.90      0.93      3753\n",
            "           4       0.78      0.90      0.83      3828\n",
            "           5       0.85      0.77      0.81      2913\n",
            "\n",
            "    accuracy                           0.93     22249\n",
            "   macro avg       0.93      0.92      0.92     22249\n",
            "weighted avg       0.93      0.93      0.93     22249\n",
            "\n",
            "Classification report for K-Fold model 4\n",
            "For validation set -\n",
            "              precision    recall  f1-score   support\n",
            "\n",
            "           0       0.95      0.95      0.95       976\n",
            "           1       0.97      0.96      0.96      1036\n",
            "           2       0.99      0.98      0.98       968\n",
            "           3       0.91      0.83      0.87       889\n",
            "           4       0.58      0.76      0.66       961\n",
            "           5       0.62      0.47      0.53       732\n",
            "\n",
            "    accuracy                           0.84      5562\n",
            "   macro avg       0.84      0.82      0.83      5562\n",
            "weighted avg       0.85      0.84      0.84      5562\n",
            "\n",
            "For training set -\n",
            "              precision    recall  f1-score   support\n",
            "\n",
            "           0       0.98      0.96      0.97      3966\n",
            "           1       0.99      0.98      0.98      3867\n",
            "           2       1.00      0.99      0.99      3882\n",
            "           3       0.96      0.90      0.93      3805\n",
            "           4       0.76      0.91      0.83      3846\n",
            "           5       0.87      0.74      0.80      2883\n",
            "\n",
            "    accuracy                           0.92     22249\n",
            "   macro avg       0.93      0.92      0.92     22249\n",
            "weighted avg       0.93      0.92      0.92     22249\n",
            "\n",
            "Classification report for K-Fold model 5\n",
            "For validation set -\n",
            "              precision    recall  f1-score   support\n",
            "\n",
            "           0       0.94      0.94      0.94       976\n",
            "           1       0.98      0.96      0.97       973\n",
            "           2       0.99      0.97      0.98       997\n",
            "           3       0.91      0.82      0.87       959\n",
            "           4       0.60      0.73      0.66       957\n",
            "           5       0.58      0.50      0.54       700\n",
            "\n",
            "    accuracy                           0.84      5562\n",
            "   macro avg       0.83      0.82      0.82      5562\n",
            "weighted avg       0.85      0.84      0.84      5562\n",
            "\n",
            "For training set -\n",
            "              precision    recall  f1-score   support\n",
            "\n",
            "           0       0.98      0.97      0.97      3966\n",
            "           1       0.99      0.99      0.99      3930\n",
            "           2       1.00      0.99      0.99      3853\n",
            "           3       0.96      0.90      0.93      3735\n",
            "           4       0.77      0.90      0.83      3850\n",
            "           5       0.86      0.77      0.81      2915\n",
            "\n",
            "    accuracy                           0.92     22249\n",
            "   macro avg       0.93      0.92      0.92     22249\n",
            "weighted avg       0.93      0.92      0.93     22249\n",
            "\n"
          ]
        }
      ],
      "source": [
        "y_train = np.array(y_train)\n",
        "model = 1\n",
        "accuracy_val = 0\n",
        "accuracy_train = 0\n",
        "kf = KFold(n_splits = 5)\n",
        "for train_index, val_index in kf.split(bow_cv1):\n",
        "  X_KFold_train, X_KFold_val = bow_cv1[train_index], bow_cv1[val_index]\n",
        "  Y_KFold_train, Y_KFold_val = y_train[train_index], y_train[val_index]\n",
        "  modele = svm.SVC()\n",
        "  modele.fit(X_KFold_train, Y_KFold_train)\n",
        "  Y_pred = modele.predict(X_KFold_val)\n",
        "  YY_pred = modele.predict(X_KFold_train)\n",
        "  print(\"Classification report for K-Fold model \"+str(model))\n",
        "  print(\"For validation set -\")\n",
        "  print(classification_report(Y_KFold_val, Y_pred))\n",
        "  print(\"For training set -\")\n",
        "  accuracy_val += accuracy_score(Y_KFold_val, Y_pred)\n",
        "  print(classification_report(Y_KFold_train, YY_pred))\n",
        "  accuracy_train += accuracy_score(Y_KFold_train, YY_pred)\n",
        "  model += 1"
      ]
    },
    {
      "cell_type": "code",
      "execution_count": null,
      "metadata": {
        "colab": {
          "base_uri": "https://localhost:8080/"
        },
        "id": "gkCOwETWbaO2",
        "outputId": "2cf7f0d2-1c2b-4d2b-e8d7-6aabd7ab4448"
      },
      "outputs": [
        {
          "name": "stdout",
          "output_type": "stream",
          "text": [
            "Average accuracy obtained on vaidation set= 0.8366474231972523\n",
            "Average accuracy obtained on training set= 0.9242206215943446\n"
          ]
        }
      ],
      "source": [
        "avg_accuracy1 = accuracy_val/5\n",
        "print(\"Average accuracy obtained on vaidation set= \"+str(avg_accuracy1))\n",
        "avg_accuracy2 = accuracy_train/5\n",
        "print(\"Average accuracy obtained on training set= \"+str(avg_accuracy2))"
      ]
    },
    {
      "cell_type": "code",
      "execution_count": null,
      "metadata": {
        "colab": {
          "background_save": true
        },
        "id": "BMrMrIYjiAE_",
        "outputId": "30cde03d-34b8-482d-d890-a83e2a2c0892"
      },
      "outputs": [
        {
          "ename": "KeyboardInterrupt",
          "evalue": "ignored",
          "output_type": "error",
          "traceback": [
            "\u001b[0;31m---------------------------------------------------------------------------\u001b[0m",
            "\u001b[0;31mKeyboardInterrupt\u001b[0m                         Traceback (most recent call last)",
            "\u001b[0;32m<ipython-input-106-2800d2e8b99c>\u001b[0m in \u001b[0;36m<module>\u001b[0;34m()\u001b[0m\n\u001b[1;32m      1\u001b[0m \u001b[0;32mfrom\u001b[0m \u001b[0msklearn\u001b[0m\u001b[0;34m.\u001b[0m\u001b[0mmodel_selection\u001b[0m \u001b[0;32mimport\u001b[0m \u001b[0mlearning_curve\u001b[0m\u001b[0;34m\u001b[0m\u001b[0;34m\u001b[0m\u001b[0m\n\u001b[1;32m      2\u001b[0m \u001b[0;34m\u001b[0m\u001b[0m\n\u001b[0;32m----> 3\u001b[0;31m \u001b[0msizes\u001b[0m\u001b[0;34m,\u001b[0m \u001b[0mtraining_scores\u001b[0m\u001b[0;34m,\u001b[0m \u001b[0mtesting_scores\u001b[0m \u001b[0;34m=\u001b[0m \u001b[0mlearning_curve\u001b[0m\u001b[0;34m(\u001b[0m\u001b[0msvm\u001b[0m\u001b[0;34m.\u001b[0m\u001b[0mSVC\u001b[0m\u001b[0;34m(\u001b[0m\u001b[0;34m)\u001b[0m\u001b[0;34m,\u001b[0m \u001b[0mbow_cv1\u001b[0m\u001b[0;34m,\u001b[0m \u001b[0my_train\u001b[0m\u001b[0;34m,\u001b[0m \u001b[0mcv\u001b[0m\u001b[0;34m=\u001b[0m\u001b[0;36m5\u001b[0m\u001b[0;34m,\u001b[0m \u001b[0mscoring\u001b[0m\u001b[0;34m=\u001b[0m\u001b[0;34m'accuracy'\u001b[0m\u001b[0;34m,\u001b[0m \u001b[0mtrain_sizes\u001b[0m\u001b[0;34m=\u001b[0m\u001b[0mnp\u001b[0m\u001b[0;34m.\u001b[0m\u001b[0mlinspace\u001b[0m\u001b[0;34m(\u001b[0m\u001b[0;36m100\u001b[0m\u001b[0;34m,\u001b[0m \u001b[0;36m20000\u001b[0m\u001b[0;34m,\u001b[0m \u001b[0;36m2\u001b[0m \u001b[0;34m,\u001b[0m \u001b[0mdtype\u001b[0m\u001b[0;34m=\u001b[0m\u001b[0mint\u001b[0m\u001b[0;34m)\u001b[0m\u001b[0;34m)\u001b[0m\u001b[0;34m\u001b[0m\u001b[0;34m\u001b[0m\u001b[0m\n\u001b[0m\u001b[1;32m      4\u001b[0m \u001b[0;34m\u001b[0m\u001b[0m\n\u001b[1;32m      5\u001b[0m \u001b[0;31m# Mean and Standard Deviation of training scores\u001b[0m\u001b[0;34m\u001b[0m\u001b[0;34m\u001b[0m\u001b[0;34m\u001b[0m\u001b[0m\n",
            "\u001b[0;32m/usr/local/lib/python3.7/dist-packages/sklearn/model_selection/_validation.py\u001b[0m in \u001b[0;36mlearning_curve\u001b[0;34m(estimator, X, y, groups, train_sizes, cv, scoring, exploit_incremental_learning, n_jobs, pre_dispatch, verbose, shuffle, random_state, error_score, return_times, fit_params)\u001b[0m\n\u001b[1;32m   1566\u001b[0m                 \u001b[0mreturn_times\u001b[0m\u001b[0;34m=\u001b[0m\u001b[0mreturn_times\u001b[0m\u001b[0;34m,\u001b[0m\u001b[0;34m\u001b[0m\u001b[0;34m\u001b[0m\u001b[0m\n\u001b[1;32m   1567\u001b[0m             )\n\u001b[0;32m-> 1568\u001b[0;31m             \u001b[0;32mfor\u001b[0m \u001b[0mtrain\u001b[0m\u001b[0;34m,\u001b[0m \u001b[0mtest\u001b[0m \u001b[0;32min\u001b[0m \u001b[0mtrain_test_proportions\u001b[0m\u001b[0;34m\u001b[0m\u001b[0;34m\u001b[0m\u001b[0m\n\u001b[0m\u001b[1;32m   1569\u001b[0m         )\n\u001b[1;32m   1570\u001b[0m         \u001b[0mresults\u001b[0m \u001b[0;34m=\u001b[0m \u001b[0m_aggregate_score_dicts\u001b[0m\u001b[0;34m(\u001b[0m\u001b[0mresults\u001b[0m\u001b[0;34m)\u001b[0m\u001b[0;34m\u001b[0m\u001b[0;34m\u001b[0m\u001b[0m\n",
            "\u001b[0;32m/usr/local/lib/python3.7/dist-packages/joblib/parallel.py\u001b[0m in \u001b[0;36m__call__\u001b[0;34m(self, iterable)\u001b[0m\n\u001b[1;32m   1044\u001b[0m                 \u001b[0mself\u001b[0m\u001b[0;34m.\u001b[0m\u001b[0m_iterating\u001b[0m \u001b[0;34m=\u001b[0m \u001b[0mself\u001b[0m\u001b[0;34m.\u001b[0m\u001b[0m_original_iterator\u001b[0m \u001b[0;32mis\u001b[0m \u001b[0;32mnot\u001b[0m \u001b[0;32mNone\u001b[0m\u001b[0;34m\u001b[0m\u001b[0;34m\u001b[0m\u001b[0m\n\u001b[1;32m   1045\u001b[0m \u001b[0;34m\u001b[0m\u001b[0m\n\u001b[0;32m-> 1046\u001b[0;31m             \u001b[0;32mwhile\u001b[0m \u001b[0mself\u001b[0m\u001b[0;34m.\u001b[0m\u001b[0mdispatch_one_batch\u001b[0m\u001b[0;34m(\u001b[0m\u001b[0miterator\u001b[0m\u001b[0;34m)\u001b[0m\u001b[0;34m:\u001b[0m\u001b[0;34m\u001b[0m\u001b[0;34m\u001b[0m\u001b[0m\n\u001b[0m\u001b[1;32m   1047\u001b[0m                 \u001b[0;32mpass\u001b[0m\u001b[0;34m\u001b[0m\u001b[0;34m\u001b[0m\u001b[0m\n\u001b[1;32m   1048\u001b[0m \u001b[0;34m\u001b[0m\u001b[0m\n",
            "\u001b[0;32m/usr/local/lib/python3.7/dist-packages/joblib/parallel.py\u001b[0m in \u001b[0;36mdispatch_one_batch\u001b[0;34m(self, iterator)\u001b[0m\n\u001b[1;32m    859\u001b[0m                 \u001b[0;32mreturn\u001b[0m \u001b[0;32mFalse\u001b[0m\u001b[0;34m\u001b[0m\u001b[0;34m\u001b[0m\u001b[0m\n\u001b[1;32m    860\u001b[0m             \u001b[0;32melse\u001b[0m\u001b[0;34m:\u001b[0m\u001b[0;34m\u001b[0m\u001b[0;34m\u001b[0m\u001b[0m\n\u001b[0;32m--> 861\u001b[0;31m                 \u001b[0mself\u001b[0m\u001b[0;34m.\u001b[0m\u001b[0m_dispatch\u001b[0m\u001b[0;34m(\u001b[0m\u001b[0mtasks\u001b[0m\u001b[0;34m)\u001b[0m\u001b[0;34m\u001b[0m\u001b[0;34m\u001b[0m\u001b[0m\n\u001b[0m\u001b[1;32m    862\u001b[0m                 \u001b[0;32mreturn\u001b[0m \u001b[0;32mTrue\u001b[0m\u001b[0;34m\u001b[0m\u001b[0;34m\u001b[0m\u001b[0m\n\u001b[1;32m    863\u001b[0m \u001b[0;34m\u001b[0m\u001b[0m\n",
            "\u001b[0;32m/usr/local/lib/python3.7/dist-packages/joblib/parallel.py\u001b[0m in \u001b[0;36m_dispatch\u001b[0;34m(self, batch)\u001b[0m\n\u001b[1;32m    777\u001b[0m         \u001b[0;32mwith\u001b[0m \u001b[0mself\u001b[0m\u001b[0;34m.\u001b[0m\u001b[0m_lock\u001b[0m\u001b[0;34m:\u001b[0m\u001b[0;34m\u001b[0m\u001b[0;34m\u001b[0m\u001b[0m\n\u001b[1;32m    778\u001b[0m             \u001b[0mjob_idx\u001b[0m \u001b[0;34m=\u001b[0m \u001b[0mlen\u001b[0m\u001b[0;34m(\u001b[0m\u001b[0mself\u001b[0m\u001b[0;34m.\u001b[0m\u001b[0m_jobs\u001b[0m\u001b[0;34m)\u001b[0m\u001b[0;34m\u001b[0m\u001b[0;34m\u001b[0m\u001b[0m\n\u001b[0;32m--> 779\u001b[0;31m             \u001b[0mjob\u001b[0m \u001b[0;34m=\u001b[0m \u001b[0mself\u001b[0m\u001b[0;34m.\u001b[0m\u001b[0m_backend\u001b[0m\u001b[0;34m.\u001b[0m\u001b[0mapply_async\u001b[0m\u001b[0;34m(\u001b[0m\u001b[0mbatch\u001b[0m\u001b[0;34m,\u001b[0m \u001b[0mcallback\u001b[0m\u001b[0;34m=\u001b[0m\u001b[0mcb\u001b[0m\u001b[0;34m)\u001b[0m\u001b[0;34m\u001b[0m\u001b[0;34m\u001b[0m\u001b[0m\n\u001b[0m\u001b[1;32m    780\u001b[0m             \u001b[0;31m# A job can complete so quickly than its callback is\u001b[0m\u001b[0;34m\u001b[0m\u001b[0;34m\u001b[0m\u001b[0;34m\u001b[0m\u001b[0m\n\u001b[1;32m    781\u001b[0m             \u001b[0;31m# called before we get here, causing self._jobs to\u001b[0m\u001b[0;34m\u001b[0m\u001b[0;34m\u001b[0m\u001b[0;34m\u001b[0m\u001b[0m\n",
            "\u001b[0;32m/usr/local/lib/python3.7/dist-packages/joblib/_parallel_backends.py\u001b[0m in \u001b[0;36mapply_async\u001b[0;34m(self, func, callback)\u001b[0m\n\u001b[1;32m    206\u001b[0m     \u001b[0;32mdef\u001b[0m \u001b[0mapply_async\u001b[0m\u001b[0;34m(\u001b[0m\u001b[0mself\u001b[0m\u001b[0;34m,\u001b[0m \u001b[0mfunc\u001b[0m\u001b[0;34m,\u001b[0m \u001b[0mcallback\u001b[0m\u001b[0;34m=\u001b[0m\u001b[0;32mNone\u001b[0m\u001b[0;34m)\u001b[0m\u001b[0;34m:\u001b[0m\u001b[0;34m\u001b[0m\u001b[0;34m\u001b[0m\u001b[0m\n\u001b[1;32m    207\u001b[0m         \u001b[0;34m\"\"\"Schedule a func to be run\"\"\"\u001b[0m\u001b[0;34m\u001b[0m\u001b[0;34m\u001b[0m\u001b[0m\n\u001b[0;32m--> 208\u001b[0;31m         \u001b[0mresult\u001b[0m \u001b[0;34m=\u001b[0m \u001b[0mImmediateResult\u001b[0m\u001b[0;34m(\u001b[0m\u001b[0mfunc\u001b[0m\u001b[0;34m)\u001b[0m\u001b[0;34m\u001b[0m\u001b[0;34m\u001b[0m\u001b[0m\n\u001b[0m\u001b[1;32m    209\u001b[0m         \u001b[0;32mif\u001b[0m \u001b[0mcallback\u001b[0m\u001b[0;34m:\u001b[0m\u001b[0;34m\u001b[0m\u001b[0;34m\u001b[0m\u001b[0m\n\u001b[1;32m    210\u001b[0m             \u001b[0mcallback\u001b[0m\u001b[0;34m(\u001b[0m\u001b[0mresult\u001b[0m\u001b[0;34m)\u001b[0m\u001b[0;34m\u001b[0m\u001b[0;34m\u001b[0m\u001b[0m\n",
            "\u001b[0;32m/usr/local/lib/python3.7/dist-packages/joblib/_parallel_backends.py\u001b[0m in \u001b[0;36m__init__\u001b[0;34m(self, batch)\u001b[0m\n\u001b[1;32m    570\u001b[0m         \u001b[0;31m# Don't delay the application, to avoid keeping the input\u001b[0m\u001b[0;34m\u001b[0m\u001b[0;34m\u001b[0m\u001b[0;34m\u001b[0m\u001b[0m\n\u001b[1;32m    571\u001b[0m         \u001b[0;31m# arguments in memory\u001b[0m\u001b[0;34m\u001b[0m\u001b[0;34m\u001b[0m\u001b[0;34m\u001b[0m\u001b[0m\n\u001b[0;32m--> 572\u001b[0;31m         \u001b[0mself\u001b[0m\u001b[0;34m.\u001b[0m\u001b[0mresults\u001b[0m \u001b[0;34m=\u001b[0m \u001b[0mbatch\u001b[0m\u001b[0;34m(\u001b[0m\u001b[0;34m)\u001b[0m\u001b[0;34m\u001b[0m\u001b[0;34m\u001b[0m\u001b[0m\n\u001b[0m\u001b[1;32m    573\u001b[0m \u001b[0;34m\u001b[0m\u001b[0m\n\u001b[1;32m    574\u001b[0m     \u001b[0;32mdef\u001b[0m \u001b[0mget\u001b[0m\u001b[0;34m(\u001b[0m\u001b[0mself\u001b[0m\u001b[0;34m)\u001b[0m\u001b[0;34m:\u001b[0m\u001b[0;34m\u001b[0m\u001b[0;34m\u001b[0m\u001b[0m\n",
            "\u001b[0;32m/usr/local/lib/python3.7/dist-packages/joblib/parallel.py\u001b[0m in \u001b[0;36m__call__\u001b[0;34m(self)\u001b[0m\n\u001b[1;32m    261\u001b[0m         \u001b[0;32mwith\u001b[0m \u001b[0mparallel_backend\u001b[0m\u001b[0;34m(\u001b[0m\u001b[0mself\u001b[0m\u001b[0;34m.\u001b[0m\u001b[0m_backend\u001b[0m\u001b[0;34m,\u001b[0m \u001b[0mn_jobs\u001b[0m\u001b[0;34m=\u001b[0m\u001b[0mself\u001b[0m\u001b[0;34m.\u001b[0m\u001b[0m_n_jobs\u001b[0m\u001b[0;34m)\u001b[0m\u001b[0;34m:\u001b[0m\u001b[0;34m\u001b[0m\u001b[0;34m\u001b[0m\u001b[0m\n\u001b[1;32m    262\u001b[0m             return [func(*args, **kwargs)\n\u001b[0;32m--> 263\u001b[0;31m                     for func, args, kwargs in self.items]\n\u001b[0m\u001b[1;32m    264\u001b[0m \u001b[0;34m\u001b[0m\u001b[0m\n\u001b[1;32m    265\u001b[0m     \u001b[0;32mdef\u001b[0m \u001b[0m__reduce__\u001b[0m\u001b[0;34m(\u001b[0m\u001b[0mself\u001b[0m\u001b[0;34m)\u001b[0m\u001b[0;34m:\u001b[0m\u001b[0;34m\u001b[0m\u001b[0;34m\u001b[0m\u001b[0m\n",
            "\u001b[0;32m/usr/local/lib/python3.7/dist-packages/joblib/parallel.py\u001b[0m in \u001b[0;36m<listcomp>\u001b[0;34m(.0)\u001b[0m\n\u001b[1;32m    261\u001b[0m         \u001b[0;32mwith\u001b[0m \u001b[0mparallel_backend\u001b[0m\u001b[0;34m(\u001b[0m\u001b[0mself\u001b[0m\u001b[0;34m.\u001b[0m\u001b[0m_backend\u001b[0m\u001b[0;34m,\u001b[0m \u001b[0mn_jobs\u001b[0m\u001b[0;34m=\u001b[0m\u001b[0mself\u001b[0m\u001b[0;34m.\u001b[0m\u001b[0m_n_jobs\u001b[0m\u001b[0;34m)\u001b[0m\u001b[0;34m:\u001b[0m\u001b[0;34m\u001b[0m\u001b[0;34m\u001b[0m\u001b[0m\n\u001b[1;32m    262\u001b[0m             return [func(*args, **kwargs)\n\u001b[0;32m--> 263\u001b[0;31m                     for func, args, kwargs in self.items]\n\u001b[0m\u001b[1;32m    264\u001b[0m \u001b[0;34m\u001b[0m\u001b[0m\n\u001b[1;32m    265\u001b[0m     \u001b[0;32mdef\u001b[0m \u001b[0m__reduce__\u001b[0m\u001b[0;34m(\u001b[0m\u001b[0mself\u001b[0m\u001b[0;34m)\u001b[0m\u001b[0;34m:\u001b[0m\u001b[0;34m\u001b[0m\u001b[0;34m\u001b[0m\u001b[0m\n",
            "\u001b[0;32m/usr/local/lib/python3.7/dist-packages/sklearn/utils/fixes.py\u001b[0m in \u001b[0;36m__call__\u001b[0;34m(self, *args, **kwargs)\u001b[0m\n\u001b[1;32m    214\u001b[0m     \u001b[0;32mdef\u001b[0m \u001b[0m__call__\u001b[0m\u001b[0;34m(\u001b[0m\u001b[0mself\u001b[0m\u001b[0;34m,\u001b[0m \u001b[0;34m*\u001b[0m\u001b[0margs\u001b[0m\u001b[0;34m,\u001b[0m \u001b[0;34m**\u001b[0m\u001b[0mkwargs\u001b[0m\u001b[0;34m)\u001b[0m\u001b[0;34m:\u001b[0m\u001b[0;34m\u001b[0m\u001b[0;34m\u001b[0m\u001b[0m\n\u001b[1;32m    215\u001b[0m         \u001b[0;32mwith\u001b[0m \u001b[0mconfig_context\u001b[0m\u001b[0;34m(\u001b[0m\u001b[0;34m**\u001b[0m\u001b[0mself\u001b[0m\u001b[0;34m.\u001b[0m\u001b[0mconfig\u001b[0m\u001b[0;34m)\u001b[0m\u001b[0;34m:\u001b[0m\u001b[0;34m\u001b[0m\u001b[0;34m\u001b[0m\u001b[0m\n\u001b[0;32m--> 216\u001b[0;31m             \u001b[0;32mreturn\u001b[0m \u001b[0mself\u001b[0m\u001b[0;34m.\u001b[0m\u001b[0mfunction\u001b[0m\u001b[0;34m(\u001b[0m\u001b[0;34m*\u001b[0m\u001b[0margs\u001b[0m\u001b[0;34m,\u001b[0m \u001b[0;34m**\u001b[0m\u001b[0mkwargs\u001b[0m\u001b[0;34m)\u001b[0m\u001b[0;34m\u001b[0m\u001b[0;34m\u001b[0m\u001b[0m\n\u001b[0m\u001b[1;32m    217\u001b[0m \u001b[0;34m\u001b[0m\u001b[0m\n\u001b[1;32m    218\u001b[0m \u001b[0;34m\u001b[0m\u001b[0m\n",
            "\u001b[0;32m/usr/local/lib/python3.7/dist-packages/sklearn/model_selection/_validation.py\u001b[0m in \u001b[0;36m_fit_and_score\u001b[0;34m(estimator, X, y, scorer, train, test, verbose, parameters, fit_params, return_train_score, return_parameters, return_n_test_samples, return_times, return_estimator, split_progress, candidate_progress, error_score)\u001b[0m\n\u001b[1;32m    678\u001b[0m             \u001b[0mestimator\u001b[0m\u001b[0;34m.\u001b[0m\u001b[0mfit\u001b[0m\u001b[0;34m(\u001b[0m\u001b[0mX_train\u001b[0m\u001b[0;34m,\u001b[0m \u001b[0;34m**\u001b[0m\u001b[0mfit_params\u001b[0m\u001b[0;34m)\u001b[0m\u001b[0;34m\u001b[0m\u001b[0;34m\u001b[0m\u001b[0m\n\u001b[1;32m    679\u001b[0m         \u001b[0;32melse\u001b[0m\u001b[0;34m:\u001b[0m\u001b[0;34m\u001b[0m\u001b[0;34m\u001b[0m\u001b[0m\n\u001b[0;32m--> 680\u001b[0;31m             \u001b[0mestimator\u001b[0m\u001b[0;34m.\u001b[0m\u001b[0mfit\u001b[0m\u001b[0;34m(\u001b[0m\u001b[0mX_train\u001b[0m\u001b[0;34m,\u001b[0m \u001b[0my_train\u001b[0m\u001b[0;34m,\u001b[0m \u001b[0;34m**\u001b[0m\u001b[0mfit_params\u001b[0m\u001b[0;34m)\u001b[0m\u001b[0;34m\u001b[0m\u001b[0;34m\u001b[0m\u001b[0m\n\u001b[0m\u001b[1;32m    681\u001b[0m \u001b[0;34m\u001b[0m\u001b[0m\n\u001b[1;32m    682\u001b[0m     \u001b[0;32mexcept\u001b[0m \u001b[0mException\u001b[0m\u001b[0;34m:\u001b[0m\u001b[0;34m\u001b[0m\u001b[0;34m\u001b[0m\u001b[0m\n",
            "\u001b[0;32m/usr/local/lib/python3.7/dist-packages/sklearn/svm/_base.py\u001b[0m in \u001b[0;36mfit\u001b[0;34m(self, X, y, sample_weight)\u001b[0m\n\u001b[1;32m    253\u001b[0m \u001b[0;34m\u001b[0m\u001b[0m\n\u001b[1;32m    254\u001b[0m         \u001b[0mseed\u001b[0m \u001b[0;34m=\u001b[0m \u001b[0mrnd\u001b[0m\u001b[0;34m.\u001b[0m\u001b[0mrandint\u001b[0m\u001b[0;34m(\u001b[0m\u001b[0mnp\u001b[0m\u001b[0;34m.\u001b[0m\u001b[0miinfo\u001b[0m\u001b[0;34m(\u001b[0m\u001b[0;34m\"i\"\u001b[0m\u001b[0;34m)\u001b[0m\u001b[0;34m.\u001b[0m\u001b[0mmax\u001b[0m\u001b[0;34m)\u001b[0m\u001b[0;34m\u001b[0m\u001b[0;34m\u001b[0m\u001b[0m\n\u001b[0;32m--> 255\u001b[0;31m         \u001b[0mfit\u001b[0m\u001b[0;34m(\u001b[0m\u001b[0mX\u001b[0m\u001b[0;34m,\u001b[0m \u001b[0my\u001b[0m\u001b[0;34m,\u001b[0m \u001b[0msample_weight\u001b[0m\u001b[0;34m,\u001b[0m \u001b[0msolver_type\u001b[0m\u001b[0;34m,\u001b[0m \u001b[0mkernel\u001b[0m\u001b[0;34m,\u001b[0m \u001b[0mrandom_seed\u001b[0m\u001b[0;34m=\u001b[0m\u001b[0mseed\u001b[0m\u001b[0;34m)\u001b[0m\u001b[0;34m\u001b[0m\u001b[0;34m\u001b[0m\u001b[0m\n\u001b[0m\u001b[1;32m    256\u001b[0m         \u001b[0;31m# see comment on the other call to np.iinfo in this file\u001b[0m\u001b[0;34m\u001b[0m\u001b[0;34m\u001b[0m\u001b[0;34m\u001b[0m\u001b[0m\n\u001b[1;32m    257\u001b[0m \u001b[0;34m\u001b[0m\u001b[0m\n",
            "\u001b[0;32m/usr/local/lib/python3.7/dist-packages/sklearn/svm/_base.py\u001b[0m in \u001b[0;36m_sparse_fit\u001b[0;34m(self, X, y, sample_weight, solver_type, kernel, random_seed)\u001b[0m\n\u001b[1;32m    374\u001b[0m             \u001b[0mint\u001b[0m\u001b[0;34m(\u001b[0m\u001b[0mself\u001b[0m\u001b[0;34m.\u001b[0m\u001b[0mprobability\u001b[0m\u001b[0;34m)\u001b[0m\u001b[0;34m,\u001b[0m\u001b[0;34m\u001b[0m\u001b[0;34m\u001b[0m\u001b[0m\n\u001b[1;32m    375\u001b[0m             \u001b[0mself\u001b[0m\u001b[0;34m.\u001b[0m\u001b[0mmax_iter\u001b[0m\u001b[0;34m,\u001b[0m\u001b[0;34m\u001b[0m\u001b[0;34m\u001b[0m\u001b[0m\n\u001b[0;32m--> 376\u001b[0;31m             \u001b[0mrandom_seed\u001b[0m\u001b[0;34m,\u001b[0m\u001b[0;34m\u001b[0m\u001b[0;34m\u001b[0m\u001b[0m\n\u001b[0m\u001b[1;32m    377\u001b[0m         )\n\u001b[1;32m    378\u001b[0m \u001b[0;34m\u001b[0m\u001b[0m\n",
            "\u001b[0;32msklearn/svm/_libsvm_sparse.pyx\u001b[0m in \u001b[0;36msklearn.svm._libsvm_sparse.libsvm_sparse_train\u001b[0;34m()\u001b[0m\n",
            "\u001b[0;32m/usr/local/lib/python3.7/dist-packages/scipy/sparse/compressed.py\u001b[0m in \u001b[0;36m__init__\u001b[0;34m(self, arg1, shape, dtype, copy)\u001b[0m\n\u001b[1;32m     28\u001b[0m     \u001b[0;34m\"\"\"base matrix class for compressed row and column oriented matrices\"\"\"\u001b[0m\u001b[0;34m\u001b[0m\u001b[0;34m\u001b[0m\u001b[0m\n\u001b[1;32m     29\u001b[0m \u001b[0;34m\u001b[0m\u001b[0m\n\u001b[0;32m---> 30\u001b[0;31m     \u001b[0;32mdef\u001b[0m \u001b[0m__init__\u001b[0m\u001b[0;34m(\u001b[0m\u001b[0mself\u001b[0m\u001b[0;34m,\u001b[0m \u001b[0marg1\u001b[0m\u001b[0;34m,\u001b[0m \u001b[0mshape\u001b[0m\u001b[0;34m=\u001b[0m\u001b[0;32mNone\u001b[0m\u001b[0;34m,\u001b[0m \u001b[0mdtype\u001b[0m\u001b[0;34m=\u001b[0m\u001b[0;32mNone\u001b[0m\u001b[0;34m,\u001b[0m \u001b[0mcopy\u001b[0m\u001b[0;34m=\u001b[0m\u001b[0;32mFalse\u001b[0m\u001b[0;34m)\u001b[0m\u001b[0;34m:\u001b[0m\u001b[0;34m\u001b[0m\u001b[0;34m\u001b[0m\u001b[0m\n\u001b[0m\u001b[1;32m     31\u001b[0m         \u001b[0m_data_matrix\u001b[0m\u001b[0;34m.\u001b[0m\u001b[0m__init__\u001b[0m\u001b[0;34m(\u001b[0m\u001b[0mself\u001b[0m\u001b[0;34m)\u001b[0m\u001b[0;34m\u001b[0m\u001b[0;34m\u001b[0m\u001b[0m\n\u001b[1;32m     32\u001b[0m \u001b[0;34m\u001b[0m\u001b[0m\n",
            "\u001b[0;31mKeyboardInterrupt\u001b[0m: "
          ]
        }
      ],
      "source": [
        "from sklearn.model_selection import learning_curve\n",
        "\n",
        "sizes, training_scores, testing_scores = learning_curve(svm.SVC(), bow_cv1, y_train, cv=5, scoring='accuracy', train_sizes=np.linspace(100, 20000, 2 , dtype=int))\n",
        "  \n",
        "# Mean and Standard Deviation of training scores\n",
        "mean_training = np.mean(training_scores, axis=1)\n",
        "Standard_Deviation_training = np.std(training_scores, axis=1)\n",
        "  \n",
        "# Mean and Standard Deviation of testing scores\n",
        "mean_testing = np.mean(testing_scores, axis=1)\n",
        "Standard_Deviation_testing = np.std(testing_scores, axis=1)\n",
        "  \n",
        "# Dotted blue line is for training scores and green line is for cross-validation score\n",
        "plt.plot(sizes, mean_training, '--', color=\"b\",  label=\"Training score\")\n",
        "plt.plot(sizes, mean_testing, color=\"g\", label=\"Cross-validation score\")\n",
        "  \n",
        "# Drawing plot\n",
        "plt.title(\"Learning Curve for SVM with bag of words embeddings\")\n",
        "plt.xlabel(\"Training Set Size\"), plt.ylabel(\"Accuracy Score\"), plt.legend(loc=\"best\")\n",
        "plt.tight_layout()\n",
        "plt.show()"
      ]
    },
    {
      "cell_type": "markdown",
      "metadata": {
        "id": "rgfnGZRC46Ob"
      },
      "source": [
        "## For Tf-idf - "
      ]
    },
    {
      "cell_type": "code",
      "execution_count": null,
      "metadata": {
        "colab": {
          "base_uri": "https://localhost:8080/"
        },
        "id": "ffjvrN8OblYF",
        "outputId": "dc87fa41-9cb5-47f2-d2d3-caaa6fb0ac72"
      },
      "outputs": [
        {
          "name": "stdout",
          "output_type": "stream",
          "text": [
            "Classification report for K-Fold model 1\n",
            "For validation set -\n",
            "              precision    recall  f1-score   support\n",
            "\n",
            "           0       0.96      0.94      0.95      1008\n",
            "           1       0.95      0.96      0.96       956\n",
            "           2       0.98      0.97      0.97       941\n",
            "           3       0.94      0.82      0.87       972\n",
            "           4       0.56      0.71      0.63       956\n",
            "           5       0.60      0.51      0.55       730\n",
            "\n",
            "    accuracy                           0.83      5563\n",
            "   macro avg       0.83      0.82      0.82      5563\n",
            "weighted avg       0.84      0.83      0.83      5563\n",
            "\n",
            "For training set -\n",
            "              precision    recall  f1-score   support\n",
            "\n",
            "           0       0.99      0.99      0.99      3934\n",
            "           1       0.98      0.99      0.99      3947\n",
            "           2       1.00      1.00      1.00      3909\n",
            "           3       0.99      0.96      0.97      3722\n",
            "           4       0.95      0.96      0.95      3851\n",
            "           5       0.96      0.95      0.96      2885\n",
            "\n",
            "    accuracy                           0.98     22248\n",
            "   macro avg       0.98      0.98      0.98     22248\n",
            "weighted avg       0.98      0.98      0.98     22248\n",
            "\n",
            "Classification report for K-Fold model 2\n",
            "For validation set -\n",
            "              precision    recall  f1-score   support\n",
            "\n",
            "           0       0.96      0.94      0.95       978\n",
            "           1       0.95      0.98      0.96       961\n",
            "           2       0.98      0.98      0.98       985\n",
            "           3       0.93      0.80      0.86       933\n",
            "           4       0.56      0.69      0.62       954\n",
            "           5       0.56      0.47      0.51       751\n",
            "\n",
            "    accuracy                           0.82      5562\n",
            "   macro avg       0.82      0.81      0.81      5562\n",
            "weighted avg       0.83      0.82      0.83      5562\n",
            "\n",
            "For training set -\n",
            "              precision    recall  f1-score   support\n",
            "\n",
            "           0       0.99      0.99      0.99      3964\n",
            "           1       0.98      0.99      0.99      3942\n",
            "           2       1.00      1.00      1.00      3865\n",
            "           3       0.99      0.97      0.98      3761\n",
            "           4       0.95      0.95      0.95      3853\n",
            "           5       0.96      0.96      0.96      2864\n",
            "\n",
            "    accuracy                           0.98     22249\n",
            "   macro avg       0.98      0.98      0.98     22249\n",
            "weighted avg       0.98      0.98      0.98     22249\n",
            "\n",
            "Classification report for K-Fold model 3\n",
            "For validation set -\n",
            "              precision    recall  f1-score   support\n",
            "\n",
            "           0       0.95      0.93      0.94      1004\n",
            "           1       0.94      0.97      0.96       977\n",
            "           2       0.98      0.98      0.98       959\n",
            "           3       0.93      0.79      0.86       941\n",
            "           4       0.59      0.69      0.64       979\n",
            "           5       0.59      0.57      0.58       702\n",
            "\n",
            "    accuracy                           0.83      5562\n",
            "   macro avg       0.83      0.82      0.82      5562\n",
            "weighted avg       0.84      0.83      0.84      5562\n",
            "\n",
            "For training set -\n",
            "              precision    recall  f1-score   support\n",
            "\n",
            "           0       0.99      1.00      0.99      3938\n",
            "           1       0.98      0.99      0.99      3926\n",
            "           2       1.00      1.00      1.00      3891\n",
            "           3       0.99      0.96      0.97      3753\n",
            "           4       0.94      0.95      0.95      3828\n",
            "           5       0.96      0.95      0.96      2913\n",
            "\n",
            "    accuracy                           0.98     22249\n",
            "   macro avg       0.98      0.98      0.98     22249\n",
            "weighted avg       0.98      0.98      0.98     22249\n",
            "\n",
            "Classification report for K-Fold model 4\n",
            "For validation set -\n",
            "              precision    recall  f1-score   support\n",
            "\n",
            "           0       0.96      0.95      0.95       976\n",
            "           1       0.95      0.95      0.95      1036\n",
            "           2       0.98      0.96      0.97       968\n",
            "           3       0.92      0.81      0.86       889\n",
            "           4       0.57      0.72      0.64       961\n",
            "           5       0.59      0.49      0.53       732\n",
            "\n",
            "    accuracy                           0.83      5562\n",
            "   macro avg       0.83      0.81      0.82      5562\n",
            "weighted avg       0.84      0.83      0.83      5562\n",
            "\n",
            "For training set -\n",
            "              precision    recall  f1-score   support\n",
            "\n",
            "           0       0.99      0.99      0.99      3966\n",
            "           1       0.98      0.99      0.99      3867\n",
            "           2       1.00      1.00      1.00      3882\n",
            "           3       0.98      0.97      0.97      3805\n",
            "           4       0.95      0.96      0.95      3846\n",
            "           5       0.96      0.95      0.96      2883\n",
            "\n",
            "    accuracy                           0.98     22249\n",
            "   macro avg       0.98      0.98      0.98     22249\n",
            "weighted avg       0.98      0.98      0.98     22249\n",
            "\n",
            "Classification report for K-Fold model 5\n",
            "For validation set -\n",
            "              precision    recall  f1-score   support\n",
            "\n",
            "           0       0.96      0.93      0.94       976\n",
            "           1       0.95      0.97      0.96       973\n",
            "           2       0.97      0.97      0.97       997\n",
            "           3       0.93      0.81      0.87       959\n",
            "           4       0.60      0.71      0.65       957\n",
            "           5       0.56      0.53      0.55       700\n",
            "\n",
            "    accuracy                           0.83      5562\n",
            "   macro avg       0.83      0.82      0.82      5562\n",
            "weighted avg       0.84      0.83      0.84      5562\n",
            "\n",
            "For training set -\n",
            "              precision    recall  f1-score   support\n",
            "\n",
            "           0       0.99      0.99      0.99      3966\n",
            "           1       0.98      0.99      0.99      3930\n",
            "           2       1.00      1.00      1.00      3853\n",
            "           3       0.99      0.97      0.98      3735\n",
            "           4       0.94      0.96      0.95      3850\n",
            "           5       0.96      0.95      0.96      2915\n",
            "\n",
            "    accuracy                           0.98     22249\n",
            "   macro avg       0.98      0.98      0.98     22249\n",
            "weighted avg       0.98      0.98      0.98     22249\n",
            "\n"
          ]
        }
      ],
      "source": [
        "y_train = np.array(y_train)\n",
        "model = 1\n",
        "accuracy_val = 0\n",
        "accuracy_train = 0\n",
        "kf = KFold(n_splits = 5)\n",
        "for train_index, val_index in kf.split(tf_cv1):\n",
        "  X_KFold_train, X_KFold_val = tf_cv1[train_index], tf_cv1[val_index]\n",
        "  Y_KFold_train, Y_KFold_val = y_train[train_index], y_train[val_index]\n",
        "  modele = svm.SVC()\n",
        "  modele.fit(X_KFold_train, Y_KFold_train)\n",
        "  Y_pred = modele.predict(X_KFold_val)\n",
        "  YY_pred = modele.predict(X_KFold_train)\n",
        "  print(\"Classification report for K-Fold model \"+str(model))\n",
        "  print(\"For validation set -\")\n",
        "  print(classification_report(Y_KFold_val, Y_pred))\n",
        "  print(\"For training set -\")\n",
        "  accuracy_val += accuracy_score(Y_KFold_val, Y_pred)\n",
        "  print(classification_report(Y_KFold_train, YY_pred))\n",
        "  accuracy_train += accuracy_score(Y_KFold_train, YY_pred)\n",
        "  model += 1"
      ]
    },
    {
      "cell_type": "code",
      "execution_count": null,
      "metadata": {
        "colab": {
          "base_uri": "https://localhost:8080/"
        },
        "id": "s7zvzdtYbwLr",
        "outputId": "e89b3331-a8bf-47cc-d5f7-e2cad20734af"
      },
      "outputs": [
        {
          "name": "stdout",
          "output_type": "stream",
          "text": [
            "Average accuracy obtained on vaidation set= 0.8308223097554132\n",
            "Average accuracy obtained on training set= 0.9776796953198904\n"
          ]
        }
      ],
      "source": [
        "avg_accuracy1 = accuracy_val/5\n",
        "print(\"Average accuracy obtained on vaidation set= \"+str(avg_accuracy1))\n",
        "avg_accuracy2 = accuracy_train/5\n",
        "print(\"Average accuracy obtained on training set= \"+str(avg_accuracy2))"
      ]
    },
    {
      "cell_type": "code",
      "execution_count": null,
      "metadata": {
        "id": "rhDlbdPG0-5I"
      },
      "outputs": [],
      "source": [
        "from sklearn.model_selection import learning_curve\n",
        "\n",
        "sizes, training_scores, testing_scores = learning_curve(svm.SVC(), tf_cv1, y_train, cv=5, scoring='accuracy', train_sizes=np.linspace(100, 20000, 5 , dtype=int))\n",
        "  \n",
        "# Mean and Standard Deviation of training scores\n",
        "mean_training = np.mean(training_scores, axis=1)\n",
        "Standard_Deviation_training = np.std(training_scores, axis=1)\n",
        "  \n",
        "# Mean and Standard Deviation of testing scores\n",
        "mean_testing = np.mean(testing_scores, axis=1)\n",
        "Standard_Deviation_testing = np.std(testing_scores, axis=1)\n",
        "  \n",
        "# Dotted blue line is for training scores and green line is for cross-validation score\n",
        "plt.plot(sizes, mean_training, '--', color=\"b\",  label=\"Training score\")\n",
        "plt.plot(sizes, mean_testing, color=\"g\", label=\"Cross-validation score\")\n",
        "  \n",
        "# Drawing plot\n",
        "plt.title(\"Learning Curve for SVM with bag of TF-idf embeddings\")\n",
        "plt.xlabel(\"Training Set Size\"), plt.ylabel(\"Accuracy Score\"), plt.legend(loc=\"best\")\n",
        "plt.tight_layout()\n",
        "plt.show()"
      ]
    },
    {
      "cell_type": "markdown",
      "metadata": {
        "id": "yWTmEyJtcN0T"
      },
      "source": [
        "## Test set accuracy of SVM on Bag of words and TF-idf"
      ]
    },
    {
      "cell_type": "markdown",
      "metadata": {
        "id": "mIdJB0kkcE-H"
      },
      "source": [
        "Creating models"
      ]
    },
    {
      "cell_type": "code",
      "execution_count": null,
      "metadata": {
        "id": "YVpAVwJxcE-J"
      },
      "outputs": [],
      "source": [
        "# For bag of words - \n",
        "nb_bow_stem = svm.SVC();\n",
        "\n",
        "# for tf-idf - \n",
        "nb_tf_stem = svm.SVC();"
      ]
    },
    {
      "cell_type": "markdown",
      "metadata": {
        "id": "sY0OS-wwcE-T"
      },
      "source": [
        "Training the models "
      ]
    },
    {
      "cell_type": "code",
      "execution_count": null,
      "metadata": {
        "id": "FUbQk64XcE-U"
      },
      "outputs": [],
      "source": [
        "# For bag of words - \n",
        "nb_bow_stem.fit(bow_cv1,y_train);\n",
        "\n",
        "# For tf-idf - \n",
        "nb_tf_stem.fit(tf_cv1,y_train);"
      ]
    },
    {
      "cell_type": "markdown",
      "metadata": {
        "id": "1xattUuXcE-V"
      },
      "source": [
        "Prediction on test set"
      ]
    },
    {
      "cell_type": "code",
      "execution_count": null,
      "metadata": {
        "id": "BW9ylS2FcE-h"
      },
      "outputs": [],
      "source": [
        "# For bag of words - \n",
        "nb_bow_stem_pred = nb_bow_stem.predict(bow_cv1_test);\n",
        "\n",
        "# For tf-idf - \n",
        "nb_tf_stem_pred = nb_tf_stem.predict(tf_cv1_test);"
      ]
    },
    {
      "cell_type": "markdown",
      "metadata": {
        "id": "AZNPCIY0cE-i"
      },
      "source": [
        "Evaluation metrics"
      ]
    },
    {
      "cell_type": "code",
      "execution_count": null,
      "metadata": {
        "colab": {
          "base_uri": "https://localhost:8080/"
        },
        "id": "3mI4kQa7cE-k",
        "outputId": "9a16259f-8787-47f6-9422-a589c09a4573"
      },
      "outputs": [
        {
          "name": "stdout",
          "output_type": "stream",
          "text": [
            "Classification Report for Naive Bayes on bag of word with stemming:\n",
            "               precision    recall  f1-score   support\n",
            "\n",
            "           0       0.96      0.94      0.95      1235\n",
            "           1       0.98      0.97      0.98      1226\n",
            "           2       0.99      0.98      0.98      1213\n",
            "           3       0.92      0.82      0.87      1173\n",
            "           4       0.61      0.74      0.67      1202\n",
            "           5       0.60      0.55      0.57       904\n",
            "\n",
            "    accuracy                           0.85      6953\n",
            "   macro avg       0.84      0.83      0.84      6953\n",
            "weighted avg       0.85      0.85      0.85      6953\n",
            "\n"
          ]
        }
      ],
      "source": [
        "print('Classification Report for Naive Bayes on bag of word with stemming:\\n',classification_report(y_test, nb_bow_stem_pred))"
      ]
    },
    {
      "cell_type": "code",
      "execution_count": null,
      "metadata": {
        "colab": {
          "base_uri": "https://localhost:8080/"
        },
        "id": "Qs3fHFcPcE-m",
        "outputId": "d61c9343-512f-471f-9a55-1d03652e734a"
      },
      "outputs": [
        {
          "name": "stdout",
          "output_type": "stream",
          "text": [
            "Classification Report for Naive Bayes on bag of word with stemming:\n",
            "               precision    recall  f1-score   support\n",
            "\n",
            "           0       0.96      0.95      0.96      1235\n",
            "           1       0.94      0.97      0.96      1226\n",
            "           2       0.98      0.97      0.97      1213\n",
            "           3       0.93      0.81      0.87      1173\n",
            "           4       0.62      0.68      0.64      1202\n",
            "           5       0.58      0.58      0.58       904\n",
            "\n",
            "    accuracy                           0.84      6953\n",
            "   macro avg       0.83      0.83      0.83      6953\n",
            "weighted avg       0.85      0.84      0.84      6953\n",
            "\n"
          ]
        }
      ],
      "source": [
        "print('Classification Report for Naive Bayes on bag of word with stemming:\\n',classification_report(y_test, nb_tf_stem_pred))"
      ]
    }
  ],
  "metadata": {
    "colab": {
      "collapsed_sections": [],
      "name": "Preprocessing3.ipynb",
      "provenance": []
    },
    "kernelspec": {
      "display_name": "Python 3",
      "language": "python",
      "name": "python3"
    },
    "language_info": {
      "codemirror_mode": {
        "name": "ipython",
        "version": 3
      },
      "file_extension": ".py",
      "mimetype": "text/x-python",
      "name": "python",
      "nbconvert_exporter": "python",
      "pygments_lexer": "ipython3",
      "version": "3.6.9"
    }
  },
  "nbformat": 4,
  "nbformat_minor": 0
}