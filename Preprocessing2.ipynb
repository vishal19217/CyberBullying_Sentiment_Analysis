{
  "nbformat": 4,
  "nbformat_minor": 0,
  "metadata": {
    "colab": {
      "name": "Preprocessing2.ipynb",
      "provenance": [],
      "collapsed_sections": [],
      "mount_file_id": "1mqOsX5oPUNOJtYXBUlCeOa1qoMhpdtdp",
      "authorship_tag": "ABX9TyOIKMSIyVQPhYLyre/RYhJP",
      "include_colab_link": true
    },
    "kernelspec": {
      "name": "python3",
      "display_name": "Python 3"
    },
    "language_info": {
      "name": "python"
    }
  },
  "cells": [
    {
      "cell_type": "markdown",
      "metadata": {
        "id": "view-in-github",
        "colab_type": "text"
      },
      "source": [
        "<a href=\"https://colab.research.google.com/github/vishal19217/CyberBullying_Sentiment_Analysis/blob/main/Preprocessing2.ipynb\" target=\"_parent\"><img src=\"https://colab.research.google.com/assets/colab-badge.svg\" alt=\"Open In Colab\"/></a>"
      ]
    },
    {
      "cell_type": "code",
      "execution_count": 1,
      "metadata": {
        "colab": {
          "base_uri": "https://localhost:8080/",
          "height": 138
        },
        "id": "vVN2L8MmgD3D",
        "outputId": "400af3e0-b416-47a0-c1d3-cb06f00a8b16"
      },
      "outputs": [
        {
          "output_type": "stream",
          "name": "stdout",
          "text": [
            "Requirement already satisfied: emoji in /usr/local/lib/python3.7/dist-packages (1.7.0)\n",
            "Requirement already satisfied: unidecode in /usr/local/lib/python3.7/dist-packages (1.3.4)\n",
            "[nltk_data] Downloading package stopwords to /root/nltk_data...\n",
            "[nltk_data]   Package stopwords is already up-to-date!\n",
            "[nltk_data] Downloading package punkt to /root/nltk_data...\n",
            "[nltk_data]   Package punkt is already up-to-date!\n"
          ]
        },
        {
          "output_type": "display_data",
          "data": {
            "text/plain": [
              "<Figure size 432x288 with 0 Axes>"
            ]
          },
          "metadata": {}
        }
      ],
      "source": [
        "# !pip install matplotlib --upgrade\n",
        "#Libraries for general purpose\n",
        "import pandas as pd\n",
        "import numpy as np\n",
        "import matplotlib.pyplot as plt\n",
        "import seaborn as sns\n",
        "!pip install emoji\n",
        "!pip install unidecode\n",
        "#Text cleaning\n",
        "import re, string\n",
        "import emoji\n",
        "import unidecode \n",
        "import nltk\n",
        "from nltk.stem import WordNetLemmatizer,PorterStemmer\n",
        "from nltk.corpus import stopwords\n",
        "nltk.download('stopwords')\n",
        "nltk.download('punkt')\n",
        "stop_words = set(stopwords.words('english'))\n",
        "\n",
        "\n",
        "#set style for plots\n",
        "sns.set_style(\"whitegrid\")\n",
        "sns.despine()\n",
        "plt.style.use(\"seaborn-whitegrid\")\n",
        "plt.rc(\"figure\", autolayout=True)\n",
        "plt.rc(\"axes\", labelweight=\"bold\", labelsize=\"large\", titleweight=\"bold\", titlepad=10)"
      ]
    },
    {
      "cell_type": "code",
      "source": [
        "df = pd.read_csv(\"/content/drive/MyDrive/Colab Notebooks/cyberbullying_tweets.csv\")\n",
        "df = df.rename(columns={'tweet_text': 'text', 'cyberbullying_type': 'sentiment'})\n",
        "df.duplicated().sum()\n",
        "df = df[~df.duplicated()]\n",
        "df.sentiment.value_counts()"
      ],
      "metadata": {
        "colab": {
          "base_uri": "https://localhost:8080/"
        },
        "id": "5T0kDUwzgxW8",
        "outputId": "bcd67e94-a269-41cc-ff88-99a4a4ace075"
      },
      "execution_count": 2,
      "outputs": [
        {
          "output_type": "execute_result",
          "data": {
            "text/plain": [
              "religion               7997\n",
              "age                    7992\n",
              "ethnicity              7959\n",
              "gender                 7948\n",
              "not_cyberbullying      7937\n",
              "other_cyberbullying    7823\n",
              "Name: sentiment, dtype: int64"
            ]
          },
          "metadata": {},
          "execution_count": 2
        }
      ]
    },
    {
      "cell_type": "code",
      "source": [
        "##CUSTOM DEFINED FUNCTIONS TO CLEAN THE TWEETS\n",
        "\n",
        "#Clean emojis from text\n",
        "def strip_emoji(text):\n",
        "    return re.sub(emoji.get_emoji_regexp(), r\"\", text) #remove emoji\n",
        "\n",
        "#Remove punctuations, links, stopwords, mentions and \\r\\n new line characters\n",
        "def strip_all_entities(text): \n",
        "    text = unidecode.unidecode(text) #remove texts such as  àéêöhello\n",
        "    text = text.replace('\\r', '').replace('\\n', ' ').lower() #remove \\n and \\r and lowercase\n",
        "    text = re.sub(r\"(?:\\@|https?\\://)\\S+\", \"\", text) #remove links and mentions\n",
        "    text = re.sub(r'[^\\x00-\\x7f]',r'', text) #remove non utf8/ascii characters such as '\\x9a\\x91\\x97\\x9a\\x97'\n",
        "    banned_list= string.punctuation\n",
        "    table = str.maketrans('', '', banned_list)\n",
        "    text = text.translate(table)\n",
        "    text = [word for word in text.split() if word not in stop_words]\n",
        "    text = ' '.join(text)\n",
        "    text =' '.join(word for word in text.split() if len(word) < 14) # remove words longer than 14 characters\n",
        "    return text\n",
        "\n",
        "#remove contractions\n",
        "def decontract(text):\n",
        "    text = re.sub(r\"can\\'t\", \"can not\", text)\n",
        "    text = re.sub(r\"n\\'t\", \" not\", text)\n",
        "    text = re.sub(r\"\\'re\", \" are\", text)\n",
        "    text = re.sub(r\"\\'s\", \" is\", text)\n",
        "    text = re.sub(r\"\\'d\", \" would\", text)\n",
        "    text = re.sub(r\"\\'ll\", \" will\", text)\n",
        "    text = re.sub(r\"\\'t\", \" not\", text)\n",
        "    text = re.sub(r\"\\'ve\", \" have\", text)\n",
        "    text = re.sub(r\"\\'m\", \" am\", text)\n",
        "    return text\n",
        "\n",
        "#clean hashtags at the end of the sentence, and keep those in the middle of the sentence by removing just the \"#\" symbol\n",
        "def clean_hashtags(tweet):\n",
        "    new_tweet = \" \".join(word.strip() for word in re.split('#(?!(?:hashtag)\\b)[\\w-]+(?=(?:\\s+#[\\w-]+)*\\s*$)', tweet)) #remove last hashtags\n",
        "    new_tweet2 = \" \".join(word.strip() for word in re.split('#|_', new_tweet)) #remove hashtags symbol from words in the middle of the sentence\n",
        "    return new_tweet2\n",
        "\n",
        "#Filter special characters such as \"&\" and \"$\" present in some words\n",
        "def filter_chars(a):\n",
        "    sent = []\n",
        "    for word in a.split(' '):\n",
        "        if ('$' in word) | ('&' in word):\n",
        "            sent.append('')\n",
        "        else:\n",
        "            sent.append(word)\n",
        "    return ' '.join(sent)\n",
        "\n",
        "#Remove multiple sequential spaces\n",
        "def remove_mult_spaces(text):\n",
        "    return re.sub(\"\\s\\s+\" , \" \", text)\n",
        "\n",
        "# Stemming just removes or stems the last few characters of a word, often leading to incorrect meanings and spelling. \n",
        "# Lemmatization considers the context and converts the word to its meaningful base form, which is called Lemma. \n",
        "# Sometimes, the same word can have multiple different Lemmas.\n",
        "#Stemming\n",
        "def stemmer(text):\n",
        "    tokenized = nltk.word_tokenize(text)\n",
        "    ps = PorterStemmer()\n",
        "    return ' '.join([ps.stem(words) for words in tokenized])\n",
        "\n",
        "#Lemmatization \n",
        "#NOTE:Stemming seems to work better for this dataset\n",
        "def lemmatize(text):\n",
        "    tokenized = nltk.word_tokenize(text)\n",
        "    lm = WordNetLemmatizer()\n",
        "    return ' '.join([lm.lemmatize(words) for words in tokenized])\n",
        "\n",
        "#Then we apply all the defined functions in the following order\n",
        "def deep_clean(text):\n",
        "    text = strip_emoji(text)\n",
        "    text = decontract(text)\n",
        "    text = strip_all_entities(text)\n",
        "    text = clean_hashtags(text)\n",
        "    text = filter_chars(text)\n",
        "    text = remove_mult_spaces(text)\n",
        "    text = stemmer(text)\n",
        "    return text"
      ],
      "metadata": {
        "id": "CQ0qNrOeg1QJ"
      },
      "execution_count": 3,
      "outputs": []
    },
    {
      "cell_type": "code",
      "source": [
        "texts_new = []\n",
        "for t in df.text:\n",
        "    texts_new.append(deep_clean(t))\n",
        "df['text_clean'] = texts_new"
      ],
      "metadata": {
        "colab": {
          "base_uri": "https://localhost:8080/"
        },
        "id": "78zed0J9g6T3",
        "outputId": "f848aab2-aa89-4603-beb1-c0745da73448"
      },
      "execution_count": 4,
      "outputs": [
        {
          "output_type": "stream",
          "name": "stderr",
          "text": [
            "/usr/local/lib/python3.7/dist-packages/ipykernel_launcher.py:5: DeprecationWarning: 'emoji.get_emoji_regexp()' is deprecated and will be removed in version 2.0.0. If you want to remove emoji from a string, consider the method emoji.replace_emoji(str, replace='').\n",
            "To hide this warning, pin/downgrade the package to 'emoji~=1.6.3'\n",
            "  \"\"\"\n"
          ]
        }
      ]
    },
    {
      "cell_type": "code",
      "source": [
        "df.head()\n",
        "display(df[\"text_clean\"].duplicated().sum())\n",
        "df.drop_duplicates(\"text_clean\", inplace=True)\n",
        "# display(df.sentiment.value_counts())\n",
        "\n",
        "display(df.head())\n",
        "plt.figure(figsize=(7,5))\n",
        "plt.title('Showing class balance/imbalance result');\n",
        "ax = sns.countplot(x='sentiment', data=df, palette='mako');\n",
        "ax.bar_label(ax.containers[0])\n",
        "plt.xlabel('Sentiments');\n",
        "plt.ylabel('Counts of tweet');\n",
        "plt.show();\n",
        "\n",
        "\n",
        "# df = df[df[\"sentiment\"]!=\"other_cyberbullying\"]\n",
        "# sentiments = [\"religion\",\"age\",\"ethnicity\",\"gender\",\"not bullying\"]\n",
        "sentiments = [\"religion\",\"age\",\"ethnicity\",\"gender\",\"not bullying\",\"other_cyberbullying\"]\n",
        "\n",
        "text_len = []\n",
        "for text in df.text_clean:\n",
        "    tweet_len = len(text.split())\n",
        "    text_len.append(tweet_len)\n",
        "df['text_len'] = text_len\n",
        "\n",
        "plt.figure(figsize=(7,5))\n",
        "ax = sns.countplot(x='text_len', data=df[df['text_len']<10], palette='mako')\n",
        "plt.title('Count of tweets with less than 10 words', fontsize=20)\n",
        "ax.bar_label(ax.containers[0])\n",
        "plt.yticks([])\n",
        "plt.ylabel('count')\n",
        "plt.xlabel('')\n",
        "plt.show()\n",
        "df.head()\n"
      ],
      "metadata": {
        "colab": {
          "base_uri": "https://localhost:8080/",
          "height": 1000
        },
        "id": "ZZNuK1SZg6WR",
        "outputId": "05b56531-1fde-4858-d2fb-5864532eed5b"
      },
      "execution_count": 5,
      "outputs": [
        {
          "output_type": "display_data",
          "data": {
            "text/plain": [
              "3023"
            ]
          },
          "metadata": {}
        },
        {
          "output_type": "display_data",
          "data": {
            "text/plain": [
              "                                                text          sentiment  \\\n",
              "0  In other words #katandandre, your food was cra...  not_cyberbullying   \n",
              "1  Why is #aussietv so white? #MKR #theblock #ImA...  not_cyberbullying   \n",
              "2  @XochitlSuckkks a classy whore? Or more red ve...  not_cyberbullying   \n",
              "3  @Jason_Gio meh. :P  thanks for the heads up, b...  not_cyberbullying   \n",
              "4  @RudhoeEnglish This is an ISIS account pretend...  not_cyberbullying   \n",
              "\n",
              "                                          text_clean  \n",
              "0                 word katandandr food crapilici mkr  \n",
              "1  aussietv white mkr theblock today sunris studi...  \n",
              "2                     classi whore red velvet cupcak  \n",
              "3  meh p thank head concern anoth angri dude twitter  \n",
              "4  isi account pretend kurdish account like islam...  "
            ],
            "text/html": [
              "\n",
              "  <div id=\"df-1ff1783b-8fe0-4752-a358-35269ed9aeff\">\n",
              "    <div class=\"colab-df-container\">\n",
              "      <div>\n",
              "<style scoped>\n",
              "    .dataframe tbody tr th:only-of-type {\n",
              "        vertical-align: middle;\n",
              "    }\n",
              "\n",
              "    .dataframe tbody tr th {\n",
              "        vertical-align: top;\n",
              "    }\n",
              "\n",
              "    .dataframe thead th {\n",
              "        text-align: right;\n",
              "    }\n",
              "</style>\n",
              "<table border=\"1\" class=\"dataframe\">\n",
              "  <thead>\n",
              "    <tr style=\"text-align: right;\">\n",
              "      <th></th>\n",
              "      <th>text</th>\n",
              "      <th>sentiment</th>\n",
              "      <th>text_clean</th>\n",
              "    </tr>\n",
              "  </thead>\n",
              "  <tbody>\n",
              "    <tr>\n",
              "      <th>0</th>\n",
              "      <td>In other words #katandandre, your food was cra...</td>\n",
              "      <td>not_cyberbullying</td>\n",
              "      <td>word katandandr food crapilici mkr</td>\n",
              "    </tr>\n",
              "    <tr>\n",
              "      <th>1</th>\n",
              "      <td>Why is #aussietv so white? #MKR #theblock #ImA...</td>\n",
              "      <td>not_cyberbullying</td>\n",
              "      <td>aussietv white mkr theblock today sunris studi...</td>\n",
              "    </tr>\n",
              "    <tr>\n",
              "      <th>2</th>\n",
              "      <td>@XochitlSuckkks a classy whore? Or more red ve...</td>\n",
              "      <td>not_cyberbullying</td>\n",
              "      <td>classi whore red velvet cupcak</td>\n",
              "    </tr>\n",
              "    <tr>\n",
              "      <th>3</th>\n",
              "      <td>@Jason_Gio meh. :P  thanks for the heads up, b...</td>\n",
              "      <td>not_cyberbullying</td>\n",
              "      <td>meh p thank head concern anoth angri dude twitter</td>\n",
              "    </tr>\n",
              "    <tr>\n",
              "      <th>4</th>\n",
              "      <td>@RudhoeEnglish This is an ISIS account pretend...</td>\n",
              "      <td>not_cyberbullying</td>\n",
              "      <td>isi account pretend kurdish account like islam...</td>\n",
              "    </tr>\n",
              "  </tbody>\n",
              "</table>\n",
              "</div>\n",
              "      <button class=\"colab-df-convert\" onclick=\"convertToInteractive('df-1ff1783b-8fe0-4752-a358-35269ed9aeff')\"\n",
              "              title=\"Convert this dataframe to an interactive table.\"\n",
              "              style=\"display:none;\">\n",
              "        \n",
              "  <svg xmlns=\"http://www.w3.org/2000/svg\" height=\"24px\"viewBox=\"0 0 24 24\"\n",
              "       width=\"24px\">\n",
              "    <path d=\"M0 0h24v24H0V0z\" fill=\"none\"/>\n",
              "    <path d=\"M18.56 5.44l.94 2.06.94-2.06 2.06-.94-2.06-.94-.94-2.06-.94 2.06-2.06.94zm-11 1L8.5 8.5l.94-2.06 2.06-.94-2.06-.94L8.5 2.5l-.94 2.06-2.06.94zm10 10l.94 2.06.94-2.06 2.06-.94-2.06-.94-.94-2.06-.94 2.06-2.06.94z\"/><path d=\"M17.41 7.96l-1.37-1.37c-.4-.4-.92-.59-1.43-.59-.52 0-1.04.2-1.43.59L10.3 9.45l-7.72 7.72c-.78.78-.78 2.05 0 2.83L4 21.41c.39.39.9.59 1.41.59.51 0 1.02-.2 1.41-.59l7.78-7.78 2.81-2.81c.8-.78.8-2.07 0-2.86zM5.41 20L4 18.59l7.72-7.72 1.47 1.35L5.41 20z\"/>\n",
              "  </svg>\n",
              "      </button>\n",
              "      \n",
              "  <style>\n",
              "    .colab-df-container {\n",
              "      display:flex;\n",
              "      flex-wrap:wrap;\n",
              "      gap: 12px;\n",
              "    }\n",
              "\n",
              "    .colab-df-convert {\n",
              "      background-color: #E8F0FE;\n",
              "      border: none;\n",
              "      border-radius: 50%;\n",
              "      cursor: pointer;\n",
              "      display: none;\n",
              "      fill: #1967D2;\n",
              "      height: 32px;\n",
              "      padding: 0 0 0 0;\n",
              "      width: 32px;\n",
              "    }\n",
              "\n",
              "    .colab-df-convert:hover {\n",
              "      background-color: #E2EBFA;\n",
              "      box-shadow: 0px 1px 2px rgba(60, 64, 67, 0.3), 0px 1px 3px 1px rgba(60, 64, 67, 0.15);\n",
              "      fill: #174EA6;\n",
              "    }\n",
              "\n",
              "    [theme=dark] .colab-df-convert {\n",
              "      background-color: #3B4455;\n",
              "      fill: #D2E3FC;\n",
              "    }\n",
              "\n",
              "    [theme=dark] .colab-df-convert:hover {\n",
              "      background-color: #434B5C;\n",
              "      box-shadow: 0px 1px 3px 1px rgba(0, 0, 0, 0.15);\n",
              "      filter: drop-shadow(0px 1px 2px rgba(0, 0, 0, 0.3));\n",
              "      fill: #FFFFFF;\n",
              "    }\n",
              "  </style>\n",
              "\n",
              "      <script>\n",
              "        const buttonEl =\n",
              "          document.querySelector('#df-1ff1783b-8fe0-4752-a358-35269ed9aeff button.colab-df-convert');\n",
              "        buttonEl.style.display =\n",
              "          google.colab.kernel.accessAllowed ? 'block' : 'none';\n",
              "\n",
              "        async function convertToInteractive(key) {\n",
              "          const element = document.querySelector('#df-1ff1783b-8fe0-4752-a358-35269ed9aeff');\n",
              "          const dataTable =\n",
              "            await google.colab.kernel.invokeFunction('convertToInteractive',\n",
              "                                                     [key], {});\n",
              "          if (!dataTable) return;\n",
              "\n",
              "          const docLinkHtml = 'Like what you see? Visit the ' +\n",
              "            '<a target=\"_blank\" href=https://colab.research.google.com/notebooks/data_table.ipynb>data table notebook</a>'\n",
              "            + ' to learn more about interactive tables.';\n",
              "          element.innerHTML = '';\n",
              "          dataTable['output_type'] = 'display_data';\n",
              "          await google.colab.output.renderOutput(dataTable, element);\n",
              "          const docLink = document.createElement('div');\n",
              "          docLink.innerHTML = docLinkHtml;\n",
              "          element.appendChild(docLink);\n",
              "        }\n",
              "      </script>\n",
              "    </div>\n",
              "  </div>\n",
              "  "
            ]
          },
          "metadata": {}
        },
        {
          "output_type": "display_data",
          "data": {
            "text/plain": [
              "<Figure size 504x360 with 1 Axes>"
            ],
            "image/png": "[encoded data removed]"
          },
          "metadata": {
            "needs_background": "light"
          }
        },
        {
          "output_type": "display_data",
          "data": {
            "text/plain": [
              "<Figure size 504x360 with 1 Axes>"
            ],
            "image/png": "[encoded data removed]"
          },
          "metadata": {
            "needs_background": "light"
          }
        },
        {
          "output_type": "execute_result",
          "data": {
            "text/plain": [
              "                                                text          sentiment  \\\n",
              "0  In other words #katandandre, your food was cra...  not_cyberbullying   \n",
              "1  Why is #aussietv so white? #MKR #theblock #ImA...  not_cyberbullying   \n",
              "2  @XochitlSuckkks a classy whore? Or more red ve...  not_cyberbullying   \n",
              "3  @Jason_Gio meh. :P  thanks for the heads up, b...  not_cyberbullying   \n",
              "4  @RudhoeEnglish This is an ISIS account pretend...  not_cyberbullying   \n",
              "\n",
              "                                          text_clean  text_len  \n",
              "0                 word katandandr food crapilici mkr         5  \n",
              "1  aussietv white mkr theblock today sunris studi...        10  \n",
              "2                     classi whore red velvet cupcak         5  \n",
              "3  meh p thank head concern anoth angri dude twitter         9  \n",
              "4  isi account pretend kurdish account like islam...         8  "
            ],
            "text/html": [
              "\n",
              "  <div id=\"df-81943975-cb4f-45bb-93c3-9bc02886900b\">\n",
              "    <div class=\"colab-df-container\">\n",
              "      <div>\n",
              "<style scoped>\n",
              "    .dataframe tbody tr th:only-of-type {\n",
              "        vertical-align: middle;\n",
              "    }\n",
              "\n",
              "    .dataframe tbody tr th {\n",
              "        vertical-align: top;\n",
              "    }\n",
              "\n",
              "    .dataframe thead th {\n",
              "        text-align: right;\n",
              "    }\n",
              "</style>\n",
              "<table border=\"1\" class=\"dataframe\">\n",
              "  <thead>\n",
              "    <tr style=\"text-align: right;\">\n",
              "      <th></th>\n",
              "      <th>text</th>\n",
              "      <th>sentiment</th>\n",
              "      <th>text_clean</th>\n",
              "      <th>text_len</th>\n",
              "    </tr>\n",
              "  </thead>\n",
              "  <tbody>\n",
              "    <tr>\n",
              "      <th>0</th>\n",
              "      <td>In other words #katandandre, your food was cra...</td>\n",
              "      <td>not_cyberbullying</td>\n",
              "      <td>word katandandr food crapilici mkr</td>\n",
              "      <td>5</td>\n",
              "    </tr>\n",
              "    <tr>\n",
              "      <th>1</th>\n",
              "      <td>Why is #aussietv so white? #MKR #theblock #ImA...</td>\n",
              "      <td>not_cyberbullying</td>\n",
              "      <td>aussietv white mkr theblock today sunris studi...</td>\n",
              "      <td>10</td>\n",
              "    </tr>\n",
              "    <tr>\n",
              "      <th>2</th>\n",
              "      <td>@XochitlSuckkks a classy whore? Or more red ve...</td>\n",
              "      <td>not_cyberbullying</td>\n",
              "      <td>classi whore red velvet cupcak</td>\n",
              "      <td>5</td>\n",
              "    </tr>\n",
              "    <tr>\n",
              "      <th>3</th>\n",
              "      <td>@Jason_Gio meh. :P  thanks for the heads up, b...</td>\n",
              "      <td>not_cyberbullying</td>\n",
              "      <td>meh p thank head concern anoth angri dude twitter</td>\n",
              "      <td>9</td>\n",
              "    </tr>\n",
              "    <tr>\n",
              "      <th>4</th>\n",
              "      <td>@RudhoeEnglish This is an ISIS account pretend...</td>\n",
              "      <td>not_cyberbullying</td>\n",
              "      <td>isi account pretend kurdish account like islam...</td>\n",
              "      <td>8</td>\n",
              "    </tr>\n",
              "  </tbody>\n",
              "</table>\n",
              "</div>\n",
              "      <button class=\"colab-df-convert\" onclick=\"convertToInteractive('df-81943975-cb4f-45bb-93c3-9bc02886900b')\"\n",
              "              title=\"Convert this dataframe to an interactive table.\"\n",
              "              style=\"display:none;\">\n",
              "        \n",
              "  <svg xmlns=\"http://www.w3.org/2000/svg\" height=\"24px\"viewBox=\"0 0 24 24\"\n",
              "       width=\"24px\">\n",
              "    <path d=\"M0 0h24v24H0V0z\" fill=\"none\"/>\n",
              "    <path d=\"M18.56 5.44l.94 2.06.94-2.06 2.06-.94-2.06-.94-.94-2.06-.94 2.06-2.06.94zm-11 1L8.5 8.5l.94-2.06 2.06-.94-2.06-.94L8.5 2.5l-.94 2.06-2.06.94zm10 10l.94 2.06.94-2.06 2.06-.94-2.06-.94-.94-2.06-.94 2.06-2.06.94z\"/><path d=\"M17.41 7.96l-1.37-1.37c-.4-.4-.92-.59-1.43-.59-.52 0-1.04.2-1.43.59L10.3 9.45l-7.72 7.72c-.78.78-.78 2.05 0 2.83L4 21.41c.39.39.9.59 1.41.59.51 0 1.02-.2 1.41-.59l7.78-7.78 2.81-2.81c.8-.78.8-2.07 0-2.86zM5.41 20L4 18.59l7.72-7.72 1.47 1.35L5.41 20z\"/>\n",
              "  </svg>\n",
              "      </button>\n",
              "      \n",
              "  <style>\n",
              "    .colab-df-container {\n",
              "      display:flex;\n",
              "      flex-wrap:wrap;\n",
              "      gap: 12px;\n",
              "    }\n",
              "\n",
              "    .colab-df-convert {\n",
              "      background-color: #E8F0FE;\n",
              "      border: none;\n",
              "      border-radius: 50%;\n",
              "      cursor: pointer;\n",
              "      display: none;\n",
              "      fill: #1967D2;\n",
              "      height: 32px;\n",
              "      padding: 0 0 0 0;\n",
              "      width: 32px;\n",
              "    }\n",
              "\n",
              "    .colab-df-convert:hover {\n",
              "      background-color: #E2EBFA;\n",
              "      box-shadow: 0px 1px 2px rgba(60, 64, 67, 0.3), 0px 1px 3px 1px rgba(60, 64, 67, 0.15);\n",
              "      fill: #174EA6;\n",
              "    }\n",
              "\n",
              "    [theme=dark] .colab-df-convert {\n",
              "      background-color: #3B4455;\n",
              "      fill: #D2E3FC;\n",
              "    }\n",
              "\n",
              "    [theme=dark] .colab-df-convert:hover {\n",
              "      background-color: #434B5C;\n",
              "      box-shadow: 0px 1px 3px 1px rgba(0, 0, 0, 0.15);\n",
              "      filter: drop-shadow(0px 1px 2px rgba(0, 0, 0, 0.3));\n",
              "      fill: #FFFFFF;\n",
              "    }\n",
              "  </style>\n",
              "\n",
              "      <script>\n",
              "        const buttonEl =\n",
              "          document.querySelector('#df-81943975-cb4f-45bb-93c3-9bc02886900b button.colab-df-convert');\n",
              "        buttonEl.style.display =\n",
              "          google.colab.kernel.accessAllowed ? 'block' : 'none';\n",
              "\n",
              "        async function convertToInteractive(key) {\n",
              "          const element = document.querySelector('#df-81943975-cb4f-45bb-93c3-9bc02886900b');\n",
              "          const dataTable =\n",
              "            await google.colab.kernel.invokeFunction('convertToInteractive',\n",
              "                                                     [key], {});\n",
              "          if (!dataTable) return;\n",
              "\n",
              "          const docLinkHtml = 'Like what you see? Visit the ' +\n",
              "            '<a target=\"_blank\" href=https://colab.research.google.com/notebooks/data_table.ipynb>data table notebook</a>'\n",
              "            + ' to learn more about interactive tables.';\n",
              "          element.innerHTML = '';\n",
              "          dataTable['output_type'] = 'display_data';\n",
              "          await google.colab.output.renderOutput(dataTable, element);\n",
              "          const docLink = document.createElement('div');\n",
              "          docLink.innerHTML = docLinkHtml;\n",
              "          element.appendChild(docLink);\n",
              "        }\n",
              "      </script>\n",
              "    </div>\n",
              "  </div>\n",
              "  "
            ]
          },
          "metadata": {},
          "execution_count": 5
        }
      ]
    },
    {
      "cell_type": "code",
      "source": [
        "#removing the text lines with <2 words and >100 words\n",
        "df = df[df['text_len'] > 2]\n",
        "df.sort_values(by=['text_len'], ascending=False)\n",
        "plt.figure(figsize=(16,5))\n",
        "ax = sns.countplot(x='text_len', data=df[(df['text_len']<=1000) & (df['text_len']>10)], palette='Blues_r')\n",
        "plt.title('Count of tweets with high number of words', fontsize=25)\n",
        "plt.yticks([])\n",
        "ax.bar_label(ax.containers[0])\n",
        "plt.ylabel('count')\n",
        "plt.xlabel('')\n",
        "plt.show()\n",
        "df = df[df['text_len'] < 100]\n",
        "df.sort_values(by=[\"text_len\"], ascending=False)"
      ],
      "metadata": {
        "colab": {
          "base_uri": "https://localhost:8080/",
          "height": 775
        },
        "id": "v9WZwuZZhSb-",
        "outputId": "c28b5183-5130-4d76-cae8-00b39e5bd222"
      },
      "execution_count": 6,
      "outputs": [
        {
          "output_type": "display_data",
          "data": {
            "text/plain": [
              "<Figure size 1152x360 with 1 Axes>"
            ],
            "image/png": "[encoded data removed]"
          },
          "metadata": {
            "needs_background": "light"
          }
        },
        {
          "output_type": "execute_result",
          "data": {
            "text/plain": [
              "                                                    text            sentiment  \\\n",
              "25411  @Sweetie_Niesha: So Im getting bullied via twi...  other_cyberbullying   \n",
              "4846   @andrea_gcav: @viviaanajim recuerdas como noso...    not_cyberbullying   \n",
              "44294  @JasmineLovvee If He Dont Want You Well Fuck H...            ethnicity   \n",
              "25939  If cats looked like frogs we'd realize what na...  other_cyberbullying   \n",
              "45930  Get off ur ego trip, take off ur rose colored ...            ethnicity   \n",
              "...                                                  ...                  ...   \n",
              "3322                                    Happy bday samya    not_cyberbullying   \n",
              "46614  Then why are you bringing up his past? What do...            ethnicity   \n",
              "29107                      @bullysteria Gracias Bully :3  other_cyberbullying   \n",
              "7060   Biting of the lip is a turn on. #RandomThought...    not_cyberbullying   \n",
              "28346  @shakamunyi mission is more expensive. this is...  other_cyberbullying   \n",
              "\n",
              "                                              text_clean  text_len  \n",
              "25411  im get bulli via twitter read breitbart rt lt3...        82  \n",
              "4846   recuerda como nosotra tambien eramo victima de...        79  \n",
              "44294  dont want well fuck aint worth tear never swea...        73  \n",
              "25939  cat look like frog would realiz nasti cruel li...        71  \n",
              "45930  get ur ego trip take ur rose color glass amp g...        45  \n",
              "...                                                  ...       ...  \n",
              "3322                                    happi bday samya         3  \n",
              "46614                                   bring past anyth         3  \n",
              "29107                                     gracia bulli 3         3  \n",
              "7060                                       bite lip turn         3  \n",
              "28346                             mission expens oakland         3  \n",
              "\n",
              "[43172 rows x 4 columns]"
            ],
            "text/html": [
              "\n",
              "  <div id=\"df-769fa190-3b99-49f8-baf0-29ad3b071b35\">\n",
              "    <div class=\"colab-df-container\">\n",
              "      <div>\n",
              "<style scoped>\n",
              "    .dataframe tbody tr th:only-of-type {\n",
              "        vertical-align: middle;\n",
              "    }\n",
              "\n",
              "    .dataframe tbody tr th {\n",
              "        vertical-align: top;\n",
              "    }\n",
              "\n",
              "    .dataframe thead th {\n",
              "        text-align: right;\n",
              "    }\n",
              "</style>\n",
              "<table border=\"1\" class=\"dataframe\">\n",
              "  <thead>\n",
              "    <tr style=\"text-align: right;\">\n",
              "      <th></th>\n",
              "      <th>text</th>\n",
              "      <th>sentiment</th>\n",
              "      <th>text_clean</th>\n",
              "      <th>text_len</th>\n",
              "    </tr>\n",
              "  </thead>\n",
              "  <tbody>\n",
              "    <tr>\n",
              "      <th>25411</th>\n",
              "      <td>@Sweetie_Niesha: So Im getting bullied via twi...</td>\n",
              "      <td>other_cyberbullying</td>\n",
              "      <td>im get bulli via twitter read breitbart rt lt3...</td>\n",
              "      <td>82</td>\n",
              "    </tr>\n",
              "    <tr>\n",
              "      <th>4846</th>\n",
              "      <td>@andrea_gcav: @viviaanajim recuerdas como noso...</td>\n",
              "      <td>not_cyberbullying</td>\n",
              "      <td>recuerda como nosotra tambien eramo victima de...</td>\n",
              "      <td>79</td>\n",
              "    </tr>\n",
              "    <tr>\n",
              "      <th>44294</th>\n",
              "      <td>@JasmineLovvee If He Dont Want You Well Fuck H...</td>\n",
              "      <td>ethnicity</td>\n",
              "      <td>dont want well fuck aint worth tear never swea...</td>\n",
              "      <td>73</td>\n",
              "    </tr>\n",
              "    <tr>\n",
              "      <th>25939</th>\n",
              "      <td>If cats looked like frogs we'd realize what na...</td>\n",
              "      <td>other_cyberbullying</td>\n",
              "      <td>cat look like frog would realiz nasti cruel li...</td>\n",
              "      <td>71</td>\n",
              "    </tr>\n",
              "    <tr>\n",
              "      <th>45930</th>\n",
              "      <td>Get off ur ego trip, take off ur rose colored ...</td>\n",
              "      <td>ethnicity</td>\n",
              "      <td>get ur ego trip take ur rose color glass amp g...</td>\n",
              "      <td>45</td>\n",
              "    </tr>\n",
              "    <tr>\n",
              "      <th>...</th>\n",
              "      <td>...</td>\n",
              "      <td>...</td>\n",
              "      <td>...</td>\n",
              "      <td>...</td>\n",
              "    </tr>\n",
              "    <tr>\n",
              "      <th>3322</th>\n",
              "      <td>Happy bday samya</td>\n",
              "      <td>not_cyberbullying</td>\n",
              "      <td>happi bday samya</td>\n",
              "      <td>3</td>\n",
              "    </tr>\n",
              "    <tr>\n",
              "      <th>46614</th>\n",
              "      <td>Then why are you bringing up his past? What do...</td>\n",
              "      <td>ethnicity</td>\n",
              "      <td>bring past anyth</td>\n",
              "      <td>3</td>\n",
              "    </tr>\n",
              "    <tr>\n",
              "      <th>29107</th>\n",
              "      <td>@bullysteria Gracias Bully :3</td>\n",
              "      <td>other_cyberbullying</td>\n",
              "      <td>gracia bulli 3</td>\n",
              "      <td>3</td>\n",
              "    </tr>\n",
              "    <tr>\n",
              "      <th>7060</th>\n",
              "      <td>Biting of the lip is a turn on. #RandomThought...</td>\n",
              "      <td>not_cyberbullying</td>\n",
              "      <td>bite lip turn</td>\n",
              "      <td>3</td>\n",
              "    </tr>\n",
              "    <tr>\n",
              "      <th>28346</th>\n",
              "      <td>@shakamunyi mission is more expensive. this is...</td>\n",
              "      <td>other_cyberbullying</td>\n",
              "      <td>mission expens oakland</td>\n",
              "      <td>3</td>\n",
              "    </tr>\n",
              "  </tbody>\n",
              "</table>\n",
              "<p>43172 rows × 4 columns</p>\n",
              "</div>\n",
              "      <button class=\"colab-df-convert\" onclick=\"convertToInteractive('df-769fa190-3b99-49f8-baf0-29ad3b071b35')\"\n",
              "              title=\"Convert this dataframe to an interactive table.\"\n",
              "              style=\"display:none;\">\n",
              "        \n",
              "  <svg xmlns=\"http://www.w3.org/2000/svg\" height=\"24px\"viewBox=\"0 0 24 24\"\n",
              "       width=\"24px\">\n",
              "    <path d=\"M0 0h24v24H0V0z\" fill=\"none\"/>\n",
              "    <path d=\"M18.56 5.44l.94 2.06.94-2.06 2.06-.94-2.06-.94-.94-2.06-.94 2.06-2.06.94zm-11 1L8.5 8.5l.94-2.06 2.06-.94-2.06-.94L8.5 2.5l-.94 2.06-2.06.94zm10 10l.94 2.06.94-2.06 2.06-.94-2.06-.94-.94-2.06-.94 2.06-2.06.94z\"/><path d=\"M17.41 7.96l-1.37-1.37c-.4-.4-.92-.59-1.43-.59-.52 0-1.04.2-1.43.59L10.3 9.45l-7.72 7.72c-.78.78-.78 2.05 0 2.83L4 21.41c.39.39.9.59 1.41.59.51 0 1.02-.2 1.41-.59l7.78-7.78 2.81-2.81c.8-.78.8-2.07 0-2.86zM5.41 20L4 18.59l7.72-7.72 1.47 1.35L5.41 20z\"/>\n",
              "  </svg>\n",
              "      </button>\n",
              "      \n",
              "  <style>\n",
              "    .colab-df-container {\n",
              "      display:flex;\n",
              "      flex-wrap:wrap;\n",
              "      gap: 12px;\n",
              "    }\n",
              "\n",
              "    .colab-df-convert {\n",
              "      background-color: #E8F0FE;\n",
              "      border: none;\n",
              "      border-radius: 50%;\n",
              "      cursor: pointer;\n",
              "      display: none;\n",
              "      fill: #1967D2;\n",
              "      height: 32px;\n",
              "      padding: 0 0 0 0;\n",
              "      width: 32px;\n",
              "    }\n",
              "\n",
              "    .colab-df-convert:hover {\n",
              "      background-color: #E2EBFA;\n",
              "      box-shadow: 0px 1px 2px rgba(60, 64, 67, 0.3), 0px 1px 3px 1px rgba(60, 64, 67, 0.15);\n",
              "      fill: #174EA6;\n",
              "    }\n",
              "\n",
              "    [theme=dark] .colab-df-convert {\n",
              "      background-color: #3B4455;\n",
              "      fill: #D2E3FC;\n",
              "    }\n",
              "\n",
              "    [theme=dark] .colab-df-convert:hover {\n",
              "      background-color: #434B5C;\n",
              "      box-shadow: 0px 1px 3px 1px rgba(0, 0, 0, 0.15);\n",
              "      filter: drop-shadow(0px 1px 2px rgba(0, 0, 0, 0.3));\n",
              "      fill: #FFFFFF;\n",
              "    }\n",
              "  </style>\n",
              "\n",
              "      <script>\n",
              "        const buttonEl =\n",
              "          document.querySelector('#df-769fa190-3b99-49f8-baf0-29ad3b071b35 button.colab-df-convert');\n",
              "        buttonEl.style.display =\n",
              "          google.colab.kernel.accessAllowed ? 'block' : 'none';\n",
              "\n",
              "        async function convertToInteractive(key) {\n",
              "          const element = document.querySelector('#df-769fa190-3b99-49f8-baf0-29ad3b071b35');\n",
              "          const dataTable =\n",
              "            await google.colab.kernel.invokeFunction('convertToInteractive',\n",
              "                                                     [key], {});\n",
              "          if (!dataTable) return;\n",
              "\n",
              "          const docLinkHtml = 'Like what you see? Visit the ' +\n",
              "            '<a target=\"_blank\" href=https://colab.research.google.com/notebooks/data_table.ipynb>data table notebook</a>'\n",
              "            + ' to learn more about interactive tables.';\n",
              "          element.innerHTML = '';\n",
              "          dataTable['output_type'] = 'display_data';\n",
              "          await google.colab.output.renderOutput(dataTable, element);\n",
              "          const docLink = document.createElement('div');\n",
              "          docLink.innerHTML = docLinkHtml;\n",
              "          element.appendChild(docLink);\n",
              "        }\n",
              "      </script>\n",
              "    </div>\n",
              "  </div>\n",
              "  "
            ]
          },
          "metadata": {},
          "execution_count": 6
        }
      ]
    },
    {
      "cell_type": "code",
      "source": [
        "#Encoding the numerically encoding the labels\n",
        "df['sentiment'] = df['sentiment'].replace({'religion':0,'age':1,'ethnicity':2,'gender':3,'not_cyberbullying':4,'other_cyberbullying':5})\n",
        "display(df.sentiment.value_counts())\n",
        "df.head()\n"
      ],
      "metadata": {
        "colab": {
          "base_uri": "https://localhost:8080/",
          "height": 327
        },
        "id": "W_iU413WhWw1",
        "outputId": "3a447ecb-df61-4c7f-babc-9a505bf35d32"
      },
      "execution_count": 7,
      "outputs": [
        {
          "output_type": "display_data",
          "data": {
            "text/plain": [
              "0    7937\n",
              "1    7869\n",
              "2    7732\n",
              "3    7464\n",
              "4    6967\n",
              "5    5203\n",
              "Name: sentiment, dtype: int64"
            ]
          },
          "metadata": {}
        },
        {
          "output_type": "execute_result",
          "data": {
            "text/plain": [
              "                                                text  sentiment  \\\n",
              "0  In other words #katandandre, your food was cra...          4   \n",
              "1  Why is #aussietv so white? #MKR #theblock #ImA...          4   \n",
              "2  @XochitlSuckkks a classy whore? Or more red ve...          4   \n",
              "3  @Jason_Gio meh. :P  thanks for the heads up, b...          4   \n",
              "4  @RudhoeEnglish This is an ISIS account pretend...          4   \n",
              "\n",
              "                                          text_clean  text_len  \n",
              "0                 word katandandr food crapilici mkr         5  \n",
              "1  aussietv white mkr theblock today sunris studi...        10  \n",
              "2                     classi whore red velvet cupcak         5  \n",
              "3  meh p thank head concern anoth angri dude twitter         9  \n",
              "4  isi account pretend kurdish account like islam...         8  "
            ],
            "text/html": [
              "\n",
              "  <div id=\"df-37efa0e8-070a-4032-b1fb-89dcd303cfdc\">\n",
              "    <div class=\"colab-df-container\">\n",
              "      <div>\n",
              "<style scoped>\n",
              "    .dataframe tbody tr th:only-of-type {\n",
              "        vertical-align: middle;\n",
              "    }\n",
              "\n",
              "    .dataframe tbody tr th {\n",
              "        vertical-align: top;\n",
              "    }\n",
              "\n",
              "    .dataframe thead th {\n",
              "        text-align: right;\n",
              "    }\n",
              "</style>\n",
              "<table border=\"1\" class=\"dataframe\">\n",
              "  <thead>\n",
              "    <tr style=\"text-align: right;\">\n",
              "      <th></th>\n",
              "      <th>text</th>\n",
              "      <th>sentiment</th>\n",
              "      <th>text_clean</th>\n",
              "      <th>text_len</th>\n",
              "    </tr>\n",
              "  </thead>\n",
              "  <tbody>\n",
              "    <tr>\n",
              "      <th>0</th>\n",
              "      <td>In other words #katandandre, your food was cra...</td>\n",
              "      <td>4</td>\n",
              "      <td>word katandandr food crapilici mkr</td>\n",
              "      <td>5</td>\n",
              "    </tr>\n",
              "    <tr>\n",
              "      <th>1</th>\n",
              "      <td>Why is #aussietv so white? #MKR #theblock #ImA...</td>\n",
              "      <td>4</td>\n",
              "      <td>aussietv white mkr theblock today sunris studi...</td>\n",
              "      <td>10</td>\n",
              "    </tr>\n",
              "    <tr>\n",
              "      <th>2</th>\n",
              "      <td>@XochitlSuckkks a classy whore? Or more red ve...</td>\n",
              "      <td>4</td>\n",
              "      <td>classi whore red velvet cupcak</td>\n",
              "      <td>5</td>\n",
              "    </tr>\n",
              "    <tr>\n",
              "      <th>3</th>\n",
              "      <td>@Jason_Gio meh. :P  thanks for the heads up, b...</td>\n",
              "      <td>4</td>\n",
              "      <td>meh p thank head concern anoth angri dude twitter</td>\n",
              "      <td>9</td>\n",
              "    </tr>\n",
              "    <tr>\n",
              "      <th>4</th>\n",
              "      <td>@RudhoeEnglish This is an ISIS account pretend...</td>\n",
              "      <td>4</td>\n",
              "      <td>isi account pretend kurdish account like islam...</td>\n",
              "      <td>8</td>\n",
              "    </tr>\n",
              "  </tbody>\n",
              "</table>\n",
              "</div>\n",
              "      <button class=\"colab-df-convert\" onclick=\"convertToInteractive('df-37efa0e8-070a-4032-b1fb-89dcd303cfdc')\"\n",
              "              title=\"Convert this dataframe to an interactive table.\"\n",
              "              style=\"display:none;\">\n",
              "        \n",
              "  <svg xmlns=\"http://www.w3.org/2000/svg\" height=\"24px\"viewBox=\"0 0 24 24\"\n",
              "       width=\"24px\">\n",
              "    <path d=\"M0 0h24v24H0V0z\" fill=\"none\"/>\n",
              "    <path d=\"M18.56 5.44l.94 2.06.94-2.06 2.06-.94-2.06-.94-.94-2.06-.94 2.06-2.06.94zm-11 1L8.5 8.5l.94-2.06 2.06-.94-2.06-.94L8.5 2.5l-.94 2.06-2.06.94zm10 10l.94 2.06.94-2.06 2.06-.94-2.06-.94-.94-2.06-.94 2.06-2.06.94z\"/><path d=\"M17.41 7.96l-1.37-1.37c-.4-.4-.92-.59-1.43-.59-.52 0-1.04.2-1.43.59L10.3 9.45l-7.72 7.72c-.78.78-.78 2.05 0 2.83L4 21.41c.39.39.9.59 1.41.59.51 0 1.02-.2 1.41-.59l7.78-7.78 2.81-2.81c.8-.78.8-2.07 0-2.86zM5.41 20L4 18.59l7.72-7.72 1.47 1.35L5.41 20z\"/>\n",
              "  </svg>\n",
              "      </button>\n",
              "      \n",
              "  <style>\n",
              "    .colab-df-container {\n",
              "      display:flex;\n",
              "      flex-wrap:wrap;\n",
              "      gap: 12px;\n",
              "    }\n",
              "\n",
              "    .colab-df-convert {\n",
              "      background-color: #E8F0FE;\n",
              "      border: none;\n",
              "      border-radius: 50%;\n",
              "      cursor: pointer;\n",
              "      display: none;\n",
              "      fill: #1967D2;\n",
              "      height: 32px;\n",
              "      padding: 0 0 0 0;\n",
              "      width: 32px;\n",
              "    }\n",
              "\n",
              "    .colab-df-convert:hover {\n",
              "      background-color: #E2EBFA;\n",
              "      box-shadow: 0px 1px 2px rgba(60, 64, 67, 0.3), 0px 1px 3px 1px rgba(60, 64, 67, 0.15);\n",
              "      fill: #174EA6;\n",
              "    }\n",
              "\n",
              "    [theme=dark] .colab-df-convert {\n",
              "      background-color: #3B4455;\n",
              "      fill: #D2E3FC;\n",
              "    }\n",
              "\n",
              "    [theme=dark] .colab-df-convert:hover {\n",
              "      background-color: #434B5C;\n",
              "      box-shadow: 0px 1px 3px 1px rgba(0, 0, 0, 0.15);\n",
              "      filter: drop-shadow(0px 1px 2px rgba(0, 0, 0, 0.3));\n",
              "      fill: #FFFFFF;\n",
              "    }\n",
              "  </style>\n",
              "\n",
              "      <script>\n",
              "        const buttonEl =\n",
              "          document.querySelector('#df-37efa0e8-070a-4032-b1fb-89dcd303cfdc button.colab-df-convert');\n",
              "        buttonEl.style.display =\n",
              "          google.colab.kernel.accessAllowed ? 'block' : 'none';\n",
              "\n",
              "        async function convertToInteractive(key) {\n",
              "          const element = document.querySelector('#df-37efa0e8-070a-4032-b1fb-89dcd303cfdc');\n",
              "          const dataTable =\n",
              "            await google.colab.kernel.invokeFunction('convertToInteractive',\n",
              "                                                     [key], {});\n",
              "          if (!dataTable) return;\n",
              "\n",
              "          const docLinkHtml = 'Like what you see? Visit the ' +\n",
              "            '<a target=\"_blank\" href=https://colab.research.google.com/notebooks/data_table.ipynb>data table notebook</a>'\n",
              "            + ' to learn more about interactive tables.';\n",
              "          element.innerHTML = '';\n",
              "          dataTable['output_type'] = 'display_data';\n",
              "          await google.colab.output.renderOutput(dataTable, element);\n",
              "          const docLink = document.createElement('div');\n",
              "          docLink.innerHTML = docLinkHtml;\n",
              "          element.appendChild(docLink);\n",
              "        }\n",
              "      </script>\n",
              "    </div>\n",
              "  </div>\n",
              "  "
            ]
          },
          "metadata": {},
          "execution_count": 7
        }
      ]
    },
    {
      "cell_type": "code",
      "source": [
        "#Word2Vec Embedding\n",
        "from nltk.tokenize import TweetTokenizer\n",
        "from gensim.models import Word2Vec\n",
        "tokenizer = TweetTokenizer(preserve_case=False,strip_handles=True,reduce_len=True)\n",
        "\n",
        "\n",
        "df[\"tokenized\"] = [tokenizer.tokenize(i) for i in df['text_clean']]\n",
        "\n"
      ],
      "metadata": {
        "id": "FOvF6aLYhbx6"
      },
      "execution_count": 8,
      "outputs": []
    },
    {
      "cell_type": "code",
      "source": [
        "class MeanEmbeddingVectorizer():\n",
        "    def __init__(self, word2vec):\n",
        "        self.word2vec = word2vec\n",
        "        self.dim = len(next(iter(word2vec.values())))\n",
        "\n",
        "    def transform(self, X):\n",
        "        return np.array([np.mean([self.word2vec[w] for w in words if w in self.word2vec] or [np.zeros(self.dim)], axis=0) for words in X])\n",
        "    \n",
        "    def fit(self, X, y):\n",
        "        return self\n",
        "model = Word2Vec(df[\"tokenized\"], min_count=1)\n",
        "keys_dict = model.wv.vocab\n",
        "w2v={}\n",
        "for word in keys_dict:\n",
        "  w2v[word] = model.wv[word]\n",
        "modelw = MeanEmbeddingVectorizer(w2v)\n"
      ],
      "metadata": {
        "id": "UK6wGIpohgt3"
      },
      "execution_count": null,
      "outputs": []
    },
    {
      "cell_type": "code",
      "source": [
        "#ClassAppendTrimVectorizer()\n",
        "class AppendTrimVectorizer():\n",
        "    def __init__(self, word2vec,seqLen):\n",
        "        self.word2vec = word2vec\n",
        "        self.seqLen = seqLen\n",
        "        self.dim = len(next(iter(word2vec.values())))\n",
        "\n",
        "    def transform(self, X):\n",
        "        # First we need to split the text into its tokens and learn the length\n",
        "        # If length is shorter than the max len we'll add some spaces (100D vectors which has only zero values)\n",
        "        # If it's longer than the max len we'll trim from the end.\n",
        "        res = []\n",
        "        for sent in X:\n",
        "          len_v = len(sent) if len(sent) < self.seqLen else self.seqLen\n",
        "          vec = []\n",
        "          for tok in sent[:len_v]:\n",
        "            try:\n",
        "                vec.append(self.word2vec[tok])\n",
        "            except Exception as E:\n",
        "                pass\n",
        "          last_pieces = self.seqLen - len(vec)\n",
        "          for i in range(last_pieces):\n",
        "              vec.append(np.zeros(100,))\n",
        "          vec = np.array(vec).flatten()\n",
        "          res.append(vec)\n",
        "        return np.array(res)\n",
        "\n",
        "\n",
        "        # return np.array([np.mean([self.word2vec[w] for w in words if w in self.word2vec] or [np.zeros(self.dim)], axis=0) for words in X])\n",
        "    \n",
        "    def fit(self, X, y):\n",
        "        return self\n",
        "#Model contains embedding for words and corresponding vectors\n",
        "model = Word2Vec(df[\"tokenized\"], min_count=1)\n",
        "\n",
        "keys_dict = model.wv.vocab\n",
        "w2v={}\n",
        "for word in keys_dict:\n",
        "  w2v[word] = model.wv[word]\n",
        "modelw = AppendTrimVectorizer(w2v,40)\n"
      ],
      "metadata": {
        "id": "jotZ0y6-D12C"
      },
      "execution_count": 20,
      "outputs": []
    },
    {
      "cell_type": "code",
      "source": [
        "#Train and Splitting the dataset\n",
        "#Seed for reproducibility\n",
        "import random\n",
        "import torch\n",
        "\n",
        "from sklearn import preprocessing\n",
        "from sklearn.model_selection import train_test_split\n",
        "from imblearn.over_sampling import RandomOverSampler\n",
        "\n",
        "seed_value=42\n",
        "random.seed(seed_value)\n",
        "np.random.seed(seed_value)\n",
        "torch.manual_seed(seed_value)\n",
        "torch.cuda.manual_seed_all(seed_value)\n",
        "# df2 = df\n",
        "X1 = df['text_clean']\n",
        "X = df['tokenized']\n",
        "y1 = df['sentiment']\n",
        "#Training and Splitting the dataset\n",
        "X_train, X_test, y_train, y_test = train_test_split(X1, y1, test_size=0.2, stratify=y1, random_state=seed_value)\n",
        "display(df.sentiment.value_counts())\n",
        "ros = RandomOverSampler()\n",
        "# display(X_train)\n",
        "X_train, y_train = ros.fit_resample(np.array(X_train).reshape(-1, 1), np.array(y_train).reshape(-1, 1));\n",
        "\n",
        "train_os = pd.DataFrame(list(zip(np.array([x[0] for x in X_train]), y_train)), columns = ['text_clean', 'sentiment']);\n",
        "X_train = list(train_os['text_clean'].values)\n",
        "\n",
        "display(train_os.sentiment.value_counts())\n"
      ],
      "metadata": {
        "colab": {
          "base_uri": "https://localhost:8080/",
          "height": 260
        },
        "id": "7zeOSV7GiMqP",
        "outputId": "6cc5abdd-2cd3-45cd-c33d-43e0b623fa55"
      },
      "execution_count": 21,
      "outputs": [
        {
          "output_type": "display_data",
          "data": {
            "text/plain": [
              "0    7937\n",
              "1    7869\n",
              "2    7732\n",
              "3    7464\n",
              "4    6967\n",
              "5    5203\n",
              "Name: sentiment, dtype: int64"
            ]
          },
          "metadata": {}
        },
        {
          "output_type": "display_data",
          "data": {
            "text/plain": [
              "2    6349\n",
              "1    6349\n",
              "5    6349\n",
              "4    6349\n",
              "3    6349\n",
              "0    6349\n",
              "Name: sentiment, dtype: int64"
            ]
          },
          "metadata": {}
        }
      ]
    },
    {
      "cell_type": "code",
      "source": [
        "#Splitting the validation dataset\n",
        "X_train, X_valid, y_train, y_valid = train_test_split(X_train, y_train, test_size=0.1, stratify=y_train, random_state=seed_value)\n",
        "(unique, counts) = np.unique(y_train, return_counts=True)\n",
        "np.asarray((unique, counts)).T"
      ],
      "metadata": {
        "colab": {
          "base_uri": "https://localhost:8080/"
        },
        "id": "6mlNf9WtitRK",
        "outputId": "ec35f147-c144-4849-a886-a61495e081ba"
      },
      "execution_count": 22,
      "outputs": [
        {
          "output_type": "execute_result",
          "data": {
            "text/plain": [
              "array([[   0, 5714],\n",
              "       [   1, 5714],\n",
              "       [   2, 5714],\n",
              "       [   3, 5714],\n",
              "       [   4, 5714],\n",
              "       [   5, 5714]])"
            ]
          },
          "metadata": {},
          "execution_count": 22
        }
      ]
    },
    {
      "cell_type": "code",
      "source": [
        "#Naive Bayes with TFID with other_cyberbullying class\n",
        "from sklearn.feature_extraction.text import CountVectorizer\n",
        "from sklearn.feature_extraction.text import TfidfTransformer\n",
        "from sklearn.naive_bayes import MultinomialNB\n",
        "from sklearn.metrics import classification_report, confusion_matrix\n",
        "clf = CountVectorizer()\n",
        "# display(X_train)\n",
        "X_train_cv =  clf.fit_transform(X_train)\n",
        "X_test_cv = clf.transform(X_test)\n",
        "# X_train_cv\n",
        "\n",
        "#associating weights to the different words based on their frequency\n",
        "tf_transformer = TfidfTransformer(use_idf=True).fit(X_train_cv)\n",
        "X_train_tf = tf_transformer.transform(X_train_cv)\n",
        "X_test_tf = tf_transformer.transform(X_test_cv)\n",
        "nb_clf = MultinomialNB()\n",
        "nb_clf.fit(X_train_tf, y_train)\n",
        "nb_pred = nb_clf.predict(X_test_tf)\n",
        "print('Classification Report for Naive Bayes:\\n',classification_report(y_test, nb_pred, target_names=sentiments))\n"
      ],
      "metadata": {
        "colab": {
          "base_uri": "https://localhost:8080/"
        },
        "id": "BPwx8bEawRG4",
        "outputId": "528f8da8-6976-4b4a-b1c6-876d9049cd62"
      },
      "execution_count": 23,
      "outputs": [
        {
          "output_type": "stream",
          "name": "stdout",
          "text": [
            "Classification Report for Naive Bayes:\n",
            "                      precision    recall  f1-score   support\n",
            "\n",
            "           religion       0.83      0.97      0.89      1588\n",
            "                age       0.74      0.98      0.84      1574\n",
            "          ethnicity       0.85      0.92      0.88      1546\n",
            "             gender       0.83      0.82      0.82      1493\n",
            "       not bullying       0.73      0.39      0.51      1393\n",
            "other_cyberbullying       0.56      0.44      0.49      1041\n",
            "\n",
            "           accuracy                           0.78      8635\n",
            "          macro avg       0.76      0.75      0.74      8635\n",
            "       weighted avg       0.77      0.78      0.76      8635\n",
            "\n"
          ]
        }
      ]
    },
    {
      "cell_type": "code",
      "source": [
        "#SVM with Bag of Word Embedding\n",
        "from sklearn.svm import SVC\n",
        "svm_classifier = SVC()\n",
        "svm_classifier.fit(X_train_cv, y_train)\n",
        "pred = svm_classifier.predict(X_test_cv)\n",
        "\n",
        "print('Classification Report for Logistic Regression:\\n',classification_report(y_test, pred, target_names=sentiments))\n"
      ],
      "metadata": {
        "colab": {
          "base_uri": "https://localhost:8080/"
        },
        "id": "_7SraOwVHvHG",
        "outputId": "82e57463-879e-4a16-c7dd-c28cc64a8c99"
      },
      "execution_count": 44,
      "outputs": [
        {
          "output_type": "stream",
          "name": "stdout",
          "text": [
            "Classification Report for Logistic Regression:\n",
            "                      precision    recall  f1-score   support\n",
            "\n",
            "           religion       0.96      0.95      0.95      1588\n",
            "                age       0.98      0.98      0.98      1574\n",
            "          ethnicity       0.98      0.98      0.98      1546\n",
            "             gender       0.93      0.84      0.88      1493\n",
            "       not bullying       0.67      0.56      0.61      1393\n",
            "other_cyberbullying       0.54      0.76      0.63      1041\n",
            "\n",
            "           accuracy                           0.85      8635\n",
            "          macro avg       0.84      0.84      0.84      8635\n",
            "       weighted avg       0.87      0.85      0.86      8635\n",
            "\n"
          ]
        }
      ]
    },
    {
      "cell_type": "code",
      "source": [
        "#SVM with TFID Word Embedding\n",
        "from sklearn.svm import SVC\n",
        "svm_classifier = SVC()\n",
        "svm_classifier.fit(X_train_tf, y_train)\n",
        "pred = svm_classifier.predict(X_test_tf)\n",
        "\n",
        "print('Classification Report for Logistic Regression:\\n',classification_report(y_test, pred, target_names=sentiments))"
      ],
      "metadata": {
        "colab": {
          "base_uri": "https://localhost:8080/"
        },
        "id": "HMB0LBjpESxk",
        "outputId": "e14d3e7c-98cd-4279-f779-1de69f36b7d4"
      },
      "execution_count": 43,
      "outputs": [
        {
          "output_type": "stream",
          "name": "stdout",
          "text": [
            "Classification Report for Logistic Regression:\n",
            "                      precision    recall  f1-score   support\n",
            "\n",
            "           religion       0.96      0.95      0.95      1588\n",
            "                age       0.94      0.97      0.96      1574\n",
            "          ethnicity       0.98      0.98      0.98      1546\n",
            "             gender       0.93      0.83      0.88      1493\n",
            "       not bullying       0.62      0.63      0.63      1393\n",
            "other_cyberbullying       0.57      0.63      0.60      1041\n",
            "\n",
            "           accuracy                           0.85      8635\n",
            "          macro avg       0.83      0.83      0.83      8635\n",
            "       weighted avg       0.85      0.85      0.85      8635\n",
            "\n"
          ]
        }
      ]
    },
    {
      "cell_type": "code",
      "source": [
        "#Naive Bayes  with Gaussian Naive Bayes with word2Vec Embedding\n",
        "from sklearn.feature_extraction.text import CountVectorizer\n",
        "from sklearn.feature_extraction.text import TfidfTransformer\n",
        "from sklearn.naive_bayes import GaussianNB\n",
        "from sklearn.naive_bayes import MultinomialNB\n",
        "from sklearn.decomposition import PCA\n",
        "\n",
        "#Training and Splitting the dataset\n",
        "X_w2v = modelw.transform(X)\n",
        "pca_model = PCA(n_components=500)\n",
        "pca_model.fit(X_w2v)\n",
        "\n",
        "print(\"Sum of variance ratios: \",sum(pca_model.explained_variance_ratio_))\n",
        "X_w2v = pca_model.transform(X_w2v)"
      ],
      "metadata": {
        "colab": {
          "base_uri": "https://localhost:8080/"
        },
        "id": "RnjIqqL4jE0g",
        "outputId": "5d5ba732-88ae-4a16-8883-5f36d0a3f1c6"
      },
      "execution_count": 37,
      "outputs": [
        {
          "output_type": "stream",
          "name": "stdout",
          "text": [
            "Sum of variance ratios:  0.9900948358576586\n"
          ]
        }
      ]
    },
    {
      "cell_type": "code",
      "source": [
        "# X_w2v = pca_model.transform(X_w2v)\n",
        "X_train2, X_test2, y_train2, y_test2 = train_test_split(X_w2v, y1, test_size=0.2, stratify=y1, random_state=seed_value)\n",
        "# # X_train_vectors_w2v = \n",
        "# # X_test_vectors_w2v = modelw.transform(X_test2)\n",
        "\n",
        "\n",
        "# display(df.sentiment.value_counts())\n",
        "\n",
        "# #Splitting the validation dataset\n",
        "X_train2, X_valid2, y_train2, y_valid2 = train_test_split(X_train2, y_train2, test_size=0.1, stratify=y_train2, random_state=seed_value)\n",
        "(unique, counts) = np.unique(y_train, return_counts=True)\n",
        "np.asarray((unique, counts)).T\n",
        "\n",
        "\n",
        "# X_train_vectors_w2v = modelw.transform(X_train2)\n",
        "# X_test_vectors_w2v = modelw.transform(X_test2)\n",
        "nb_clf = GaussianNB()\n",
        "display(X_train2)\n",
        "nb_clf.fit(X_train2, y_train2)\n",
        "nb_pred = nb_clf.predict(X_test2)\n",
        "print(X_train2.shape)\n",
        "print('Classification Report for Naive Bayes:\\n',classification_report(y_test2, nb_pred, target_names=sentiments))\n",
        "# # conf_matrix(y_test,nb_pred,'Naive Bayes Sentiment Analysis\\nConfusion Matrix', sentiments)"
      ],
      "metadata": {
        "colab": {
          "base_uri": "https://localhost:8080/",
          "height": 503
        },
        "id": "45fU99Ba8noL",
        "outputId": "5d976e36-924a-4417-8289-0452d247b8fe"
      },
      "execution_count": 38,
      "outputs": [
        {
          "output_type": "display_data",
          "data": {
            "text/plain": [
              "array([[-9.63048357e-01, -3.97042859e+00,  1.38497288e+00, ...,\n",
              "        -8.82479869e-04, -1.29696989e-01,  7.77898272e-02],\n",
              "       [-7.94340309e+00,  6.18871953e+00, -4.68353364e-01, ...,\n",
              "        -6.80853739e-04,  1.69920032e-02, -4.04595483e-03],\n",
              "       [-6.76930843e+00,  3.08376863e+00, -2.33297789e+00, ...,\n",
              "        -2.70942535e-02,  4.91600285e-03, -1.41287542e-02],\n",
              "       ...,\n",
              "       [ 1.41791869e+00, -2.56091149e+00, -6.61557332e-01, ...,\n",
              "        -2.48069013e-02, -4.05860980e-02, -3.52346750e-02],\n",
              "       [-8.09974975e+00,  5.57231208e+00,  8.36738741e-01, ...,\n",
              "        -3.21452897e-03,  5.99360403e-02,  1.99507231e-02],\n",
              "       [-1.31539181e+00, -1.62728975e+00, -2.63022070e+00, ...,\n",
              "        -7.44430300e-02, -1.45974657e-01, -1.75502665e-01]])"
            ]
          },
          "metadata": {}
        },
        {
          "output_type": "stream",
          "name": "stdout",
          "text": [
            "(31083, 500)\n",
            "Classification Report for Naive Bayes:\n",
            "                      precision    recall  f1-score   support\n",
            "\n",
            "           religion       0.54      0.46      0.50      1588\n",
            "                age       0.79      0.47      0.59      1574\n",
            "          ethnicity       0.52      0.35      0.42      1546\n",
            "             gender       0.48      0.37      0.42      1493\n",
            "       not bullying       0.21      0.29      0.25      1393\n",
            "other_cyberbullying       0.34      0.74      0.46      1041\n",
            "\n",
            "           accuracy                           0.43      8635\n",
            "          macro avg       0.48      0.45      0.44      8635\n",
            "       weighted avg       0.50      0.43      0.44      8635\n",
            "\n"
          ]
        }
      ]
    },
    {
      "cell_type": "code",
      "source": [
        "# Logistic Regression with Word2Vec Embedding\n",
        "# print(len(w2v['classi']))\n",
        "from sklearn.linear_model import LogisticRegression\n",
        "logisticRegr = LogisticRegression()\n",
        "logisticRegr.fit(X_train2, y_train2)\n",
        "pred = logisticRegr.predict(X_test2)\n",
        "print('Classification Report for Logistic Regression:\\n',classification_report(y_test2, pred, target_names=sentiments))\n",
        "\n",
        "\n"
      ],
      "metadata": {
        "colab": {
          "base_uri": "https://localhost:8080/"
        },
        "id": "Vk6L2av6nhmp",
        "outputId": "6ce221ab-6827-420d-b5e3-9217fbcaa180"
      },
      "execution_count": 39,
      "outputs": [
        {
          "output_type": "stream",
          "name": "stdout",
          "text": [
            "Classification Report for Logistic Regression:\n",
            "                      precision    recall  f1-score   support\n",
            "\n",
            "           religion       0.85      0.86      0.86      1588\n",
            "                age       0.95      0.96      0.95      1574\n",
            "          ethnicity       0.84      0.83      0.84      1546\n",
            "             gender       0.76      0.67      0.71      1493\n",
            "       not bullying       0.53      0.65      0.58      1393\n",
            "other_cyberbullying       0.47      0.40      0.43      1041\n",
            "\n",
            "           accuracy                           0.75      8635\n",
            "          macro avg       0.73      0.73      0.73      8635\n",
            "       weighted avg       0.75      0.75      0.75      8635\n",
            "\n"
          ]
        },
        {
          "output_type": "stream",
          "name": "stderr",
          "text": [
            "/usr/local/lib/python3.7/dist-packages/sklearn/linear_model/_logistic.py:818: ConvergenceWarning: lbfgs failed to converge (status=1):\n",
            "STOP: TOTAL NO. of ITERATIONS REACHED LIMIT.\n",
            "\n",
            "Increase the number of iterations (max_iter) or scale the data as shown in:\n",
            "    https://scikit-learn.org/stable/modules/preprocessing.html\n",
            "Please also refer to the documentation for alternative solver options:\n",
            "    https://scikit-learn.org/stable/modules/linear_model.html#logistic-regression\n",
            "  extra_warning_msg=_LOGISTIC_SOLVER_CONVERGENCE_MSG,\n"
          ]
        }
      ]
    },
    {
      "cell_type": "code",
      "source": [
        "# SVM with Word2vec Embedding\n",
        "from sklearn.svm import SVC\n",
        "svm_classifier = SVC()\n",
        "svm_classifier.fit(X_train2, y_train2)\n",
        "pred = svm_classifier.predict(X_test2)\n",
        "\n",
        "print('Classification Report for Logistic Regression:\\n',classification_report(y_test2, pred, target_names=sentiments))"
      ],
      "metadata": {
        "colab": {
          "base_uri": "https://localhost:8080/"
        },
        "id": "4zQYu1dYDCUW",
        "outputId": "b78a38e2-ed35-43ec-f928-f74b251e636a"
      },
      "execution_count": 41,
      "outputs": [
        {
          "output_type": "stream",
          "name": "stdout",
          "text": [
            "Classification Report for Logistic Regression:\n",
            "                      precision    recall  f1-score   support\n",
            "\n",
            "           religion       0.87      0.91      0.89      1588\n",
            "                age       0.95      0.96      0.96      1574\n",
            "          ethnicity       0.90      0.92      0.91      1546\n",
            "             gender       0.93      0.69      0.79      1493\n",
            "       not bullying       0.55      0.69      0.62      1393\n",
            "other_cyberbullying       0.52      0.47      0.49      1041\n",
            "\n",
            "           accuracy                           0.80      8635\n",
            "          macro avg       0.79      0.77      0.78      8635\n",
            "       weighted avg       0.81      0.80      0.80      8635\n",
            "\n"
          ]
        }
      ]
    },
    {
      "cell_type": "code",
      "source": [
        "# Creating CV training and test scores for various training set sizes\n",
        "from sklearn.model_selection import learning_curve\n",
        "from sklearn.svm import SVC\n",
        "from sklearn.datasets import load_digits\n",
        "from matplotlib import pyplot as plt\n",
        "import numpy as np\n",
        "X_train = X1\n",
        "y_train = y1\n",
        "# X_train, X_test, y_train, y_test = train_test_split(X1, y1, test_size=0.2, stratify=y1, random_state=seed_value)\n",
        "display(df.sentiment.value_counts())\n",
        "ros = RandomOverSampler()\n",
        "# display(X_train)\n",
        "X_train, y_train = ros.fit_resample(np.array(X_train).reshape(-1, 1), np.array(y_train).reshape(-1, 1));\n",
        "\n",
        "train_os = pd.DataFrame(list(zip(np.array([x[0] for x in X_train]), y_train)), columns = ['text_clean', 'sentiment']);\n",
        "X_train = list(train_os['text_clean'].values)\n",
        "\n",
        "\n",
        "X_train_cv =  clf.fit_transform(X_train)\n",
        "# X_test_cv = clf.transform(X_test)\n",
        "X_train_cv\n",
        "#associating weights to the different words based on their frequency\n",
        "tf_transformer = TfidfTransformer(use_idf=True).fit(X_train_cv)\n",
        "X_train_tf = tf_transformer.transform(X_train_cv)\n",
        "# X_test_tf = tf_transformer.transform(X_test_cv)\n",
        "\n",
        "train_sizes, train_scores, test_scores = learning_curve(MultinomialNB(),\n",
        "                                               X_train_tf, y_train, cv=10, scoring='accuracy', n_jobs=-1,\n",
        "                                               # 50 different sizes of the training set\n",
        "                                               train_sizes=np.linspace(0.01, 1.0, 50))\n",
        "\n",
        "    # Creating means and standard deviations of training set scores\n",
        "train_mean = np.mean(train_scores, axis=1)\n",
        "train_std = np.std(train_scores, axis=1)\n",
        "\n",
        "    # Creating means and standard deviations of test set scores\n",
        "test_mean = np.mean(test_scores, axis=1)\n",
        "test_std = np.std(test_scores, axis=1)\n",
        "# Drawing lines\n",
        "plt.subplots(1, figsize=(10,10))\n",
        "plt.plot(train_sizes, train_mean, '--', color=\"#111111\",  label=\"Training score\")\n",
        "plt.plot(train_sizes, test_mean, color=\"#111111\", label=\"Cross-validation score\")\n",
        "# Drawing bands\n",
        "plt.fill_between(train_sizes, train_mean - train_std, train_mean + train_std, color=\"#DDDDDD\")\n",
        "plt.fill_between(train_sizes, test_mean - test_std, test_mean + test_std, color=\"#DDDDDD\")\n",
        "# Creating plot\n",
        "plt.title(\"Learning Curve\")\n",
        "plt.xlabel(\"Training Set Size\"), plt.ylabel(\"Accuracy Score\"), plt.legend(loc=\"best\")\n",
        "plt.tight_layout(); plt.show()\n",
        "\n",
        "# ProjectPro_Ex_57()"
      ],
      "metadata": {
        "colab": {
          "base_uri": "https://localhost:8080/",
          "height": 833
        },
        "id": "asQGoiz5sNYl",
        "outputId": "9b804920-af66-423f-a132-f89a9838a0b2"
      },
      "execution_count": null,
      "outputs": [
        {
          "output_type": "display_data",
          "data": {
            "text/plain": [
              "0    7893\n",
              "1    7830\n",
              "2    7708\n",
              "3    7326\n",
              "4    6380\n",
              "Name: sentiment, dtype: int64"
            ]
          },
          "metadata": {}
        },
        {
          "output_type": "display_data",
          "data": {
            "text/plain": [
              "<Figure size 720x720 with 1 Axes>"
            ],
            "image/png": "[encoded data removed]"
          },
          "metadata": {}
        }
      ]
    },
    {
      "cell_type": "code",
      "source": [
        "from sklearn.model_selection import learning_curve\n",
        "# X_train, X_test, y_train, y_test = train_test_split(X, y1, test_size=0.2, stratify=y1, random_state=seed_value)\n",
        "\n",
        "\n",
        "X_train_vectors_w2v = modelw.transform(X)\n",
        "# X_test_vectors_w2v = modelw.transform(X_test)\n",
        "\n",
        "arr = np.linspace(100, 31000, 310, dtype=int)\n",
        "\n",
        "sizes, training_scores, testing_scores = learning_curve(GaussianNB(), X_train_vectors_w2v, y1, cv=10, scoring='accuracy', train_sizes=np.linspace(100, 27000, 270, dtype=int))\n",
        "  \n",
        "# Mean and Standard Deviation of training scores\n",
        "mean_training = np.mean(training_scores, axis=1)\n",
        "Standard_Deviation_training = np.std(training_scores, axis=1)\n",
        "  \n",
        "# Mean and Standard Deviation of testing scores\n",
        "mean_testing = np.mean(testing_scores, axis=1)\n",
        "Standard_Deviation_testing = np.std(testing_scores, axis=1)\n",
        "  \n",
        "# dotted blue line is for training scores and green line is for cross-validation score\n",
        "plt.plot(sizes, mean_training, '--', color=\"b\",  label=\"Training score\")\n",
        "plt.plot(sizes, mean_testing, color=\"g\", label=\"Cross-validation score\")\n",
        "  \n",
        "# Drawing plot\n",
        "plt.title(\"LEARNING CURVE FOR Gaussian MODEL for Word2Vec Embedding\")\n",
        "plt.xlabel(\"Training Set Size\"), plt.ylabel(\"Accuracy Score\"), plt.legend(loc=\"best\")\n",
        "plt.tight_layout()\n",
        "plt.show()"
      ],
      "metadata": {
        "colab": {
          "base_uri": "https://localhost:8080/",
          "height": 297
        },
        "id": "Aj2N_G_kx7Kl",
        "outputId": "a287d100-0fa3-4079-debb-081b4cf8f525"
      },
      "execution_count": null,
      "outputs": [
        {
          "output_type": "display_data",
          "data": {
            "text/plain": [
              "<Figure size 432x288 with 1 Axes>"
            ],
            "image/png": "[encoded data removed]"
          },
          "metadata": {}
        }
      ]
    },
    {
      "cell_type": "code",
      "source": [
        "# !pip uninstall matplotlib\n",
        "# !pip install matplotlib==3.1.3\n",
        "from sklearn.model_selection import learning_curve\n",
        "from sklearn.svm import SVC\n",
        "from sklearn.datasets import load_digits\n",
        "from matplotlib import pyplot as plt\n",
        "import numpy as np\n",
        "\n",
        "\n",
        "X_train, X_test, y_train, y_test = train_test_split(X1, y1, test_size=0.2, stratify=y1, random_state=seed_value)\n",
        "display(df.sentiment.value_counts())\n",
        "ros = RandomOverSampler()\n",
        "# display(X_train)\n",
        "X_train, y_train = ros.fit_resample(np.array(X_train).reshape(-1, 1), np.array(y_train).reshape(-1, 1));\n",
        "\n",
        "train_os = pd.DataFrame(list(zip(np.array([x[0] for x in X_train]), y_train)), columns = ['text_clean', 'sentiment']);\n",
        "X_train = list(train_os['text_clean'].values)\n",
        "\n",
        "\n",
        "X_train_cv =  clf.fit_transform(X_train)\n",
        "X_test_cv = clf.transform(X_test)\n",
        "X_train_cv\n",
        "#associating weights to the different words based on their frequency\n",
        "tf_transformer = TfidfTransformer(use_idf=True).fit(X_train_cv)\n",
        "X_train_tf = tf_transformer.transform(X_train_cv)\n",
        "X_test_tf = tf_transformer.transform(X_test_cv)\n",
        "nb_clf = MultinomialNB()\n",
        "# nb_clf.fit(X_train_tf, y_train)\n",
        "# nb_pred = nb_clf.predict(X_test_tf)\n",
        "\n",
        "# X, y = load_digits(return_X_y=True)\n",
        "train_sizes, train_scores, test_scores, fit_times, _ = learning_curve(nb_clf, X_train_tf, y_train, cv=30,return_times=True)\n",
        "\n",
        "plt.plot(train_sizes,np.mean(train_scores,axis=1))"
      ],
      "metadata": {
        "colab": {
          "base_uri": "https://localhost:8080/",
          "height": 418
        },
        "id": "rknwGmYo0Roi",
        "outputId": "ec224940-8eb3-42f7-b369-c14a479a78c2"
      },
      "execution_count": null,
      "outputs": [
        {
          "output_type": "display_data",
          "data": {
            "text/plain": [
              "0    7893\n",
              "1    7830\n",
              "2    7708\n",
              "3    7326\n",
              "4    6380\n",
              "Name: sentiment, dtype: int64"
            ]
          },
          "metadata": {}
        },
        {
          "output_type": "execute_result",
          "data": {
            "text/plain": [
              "[<matplotlib.lines.Line2D at 0x7fe1b1206ad0>]"
            ]
          },
          "metadata": {},
          "execution_count": 16
        },
        {
          "output_type": "display_data",
          "data": {
            "text/plain": [
              "<Figure size 432x288 with 1 Axes>"
            ],
            "image/png": "[encoded data removed]"
          },
          "metadata": {}
        }
      ]
    }
  ]
}