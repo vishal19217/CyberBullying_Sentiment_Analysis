{
  "cells": [
    {
      "cell_type": "markdown",
      "source": [
        "Importing libraries"
      ],
      "metadata": {
        "id": "o7QiTH21Kd_2"
      }
    },
    {
      "cell_type": "code",
      "execution_count": 57,
      "metadata": {
        "colab": {
          "base_uri": "https://localhost:8080/"
        },
        "id": "0kqMJODaX47j",
        "outputId": "d087f80e-7d81-4b27-adc3-59c919d28444"
      },
      "outputs": [
        {
          "output_type": "stream",
          "name": "stdout",
          "text": [
            "Drive already mounted at /content/gdrive; to attempt to forcibly remount, call drive.mount(\"/content/gdrive\", force_remount=True).\n"
          ]
        }
      ],
      "source": [
        "import pandas as pd\n",
        "import numpy as np\n",
        "import matplotlib.pyplot as plt\n",
        "import seaborn as sns\n",
        "from google.colab import drive\n",
        "drive.mount('/content/gdrive')"
      ]
    },
    {
      "cell_type": "markdown",
      "source": [
        "### Data Visualization and Cleaning"
      ],
      "metadata": {
        "id": "CqogiAMAMPKT"
      }
    },
    {
      "cell_type": "code",
      "execution_count": 58,
      "metadata": {
        "id": "2CkDIdIYfK78"
      },
      "outputs": [],
      "source": [
        "data = pd.read_csv('/content/gdrive/My Drive/Colab Notebooks/cyberbullying_tweets.csv')"
      ]
    },
    {
      "cell_type": "code",
      "source": [
        "data.head()"
      ],
      "metadata": {
        "colab": {
          "base_uri": "https://localhost:8080/",
          "height": 206
        },
        "id": "gNgpCKgYOimt",
        "outputId": "af9bce2b-35a9-48a8-89e2-fe9ad1c87f91"
      },
      "execution_count": 59,
      "outputs": [
        {
          "output_type": "execute_result",
          "data": {
            "text/plain": [
              "                                          tweet_text cyberbullying_type\n",
              "0  In other words #katandandre, your food was cra...  not_cyberbullying\n",
              "1  Why is #aussietv so white? #MKR #theblock #ImA...  not_cyberbullying\n",
              "2  @XochitlSuckkks a classy whore? Or more red ve...  not_cyberbullying\n",
              "3  @Jason_Gio meh. :P  thanks for the heads up, b...  not_cyberbullying\n",
              "4  @RudhoeEnglish This is an ISIS account pretend...  not_cyberbullying"
            ],
            "text/html": [
              "\n",
              "  <div id=\"df-d25d1456-f967-4746-b793-69e3a4e61042\">\n",
              "    <div class=\"colab-df-container\">\n",
              "      <div>\n",
              "<style scoped>\n",
              "    .dataframe tbody tr th:only-of-type {\n",
              "        vertical-align: middle;\n",
              "    }\n",
              "\n",
              "    .dataframe tbody tr th {\n",
              "        vertical-align: top;\n",
              "    }\n",
              "\n",
              "    .dataframe thead th {\n",
              "        text-align: right;\n",
              "    }\n",
              "</style>\n",
              "<table border=\"1\" class=\"dataframe\">\n",
              "  <thead>\n",
              "    <tr style=\"text-align: right;\">\n",
              "      <th></th>\n",
              "      <th>tweet_text</th>\n",
              "      <th>cyberbullying_type</th>\n",
              "    </tr>\n",
              "  </thead>\n",
              "  <tbody>\n",
              "    <tr>\n",
              "      <th>0</th>\n",
              "      <td>In other words #katandandre, your food was cra...</td>\n",
              "      <td>not_cyberbullying</td>\n",
              "    </tr>\n",
              "    <tr>\n",
              "      <th>1</th>\n",
              "      <td>Why is #aussietv so white? #MKR #theblock #ImA...</td>\n",
              "      <td>not_cyberbullying</td>\n",
              "    </tr>\n",
              "    <tr>\n",
              "      <th>2</th>\n",
              "      <td>@XochitlSuckkks a classy whore? Or more red ve...</td>\n",
              "      <td>not_cyberbullying</td>\n",
              "    </tr>\n",
              "    <tr>\n",
              "      <th>3</th>\n",
              "      <td>@Jason_Gio meh. :P  thanks for the heads up, b...</td>\n",
              "      <td>not_cyberbullying</td>\n",
              "    </tr>\n",
              "    <tr>\n",
              "      <th>4</th>\n",
              "      <td>@RudhoeEnglish This is an ISIS account pretend...</td>\n",
              "      <td>not_cyberbullying</td>\n",
              "    </tr>\n",
              "  </tbody>\n",
              "</table>\n",
              "</div>\n",
              "      <button class=\"colab-df-convert\" onclick=\"convertToInteractive('df-d25d1456-f967-4746-b793-69e3a4e61042')\"\n",
              "              title=\"Convert this dataframe to an interactive table.\"\n",
              "              style=\"display:none;\">\n",
              "        \n",
              "  <svg xmlns=\"http://www.w3.org/2000/svg\" height=\"24px\"viewBox=\"0 0 24 24\"\n",
              "       width=\"24px\">\n",
              "    <path d=\"M0 0h24v24H0V0z\" fill=\"none\"/>\n",
              "    <path d=\"M18.56 5.44l.94 2.06.94-2.06 2.06-.94-2.06-.94-.94-2.06-.94 2.06-2.06.94zm-11 1L8.5 8.5l.94-2.06 2.06-.94-2.06-.94L8.5 2.5l-.94 2.06-2.06.94zm10 10l.94 2.06.94-2.06 2.06-.94-2.06-.94-.94-2.06-.94 2.06-2.06.94z\"/><path d=\"M17.41 7.96l-1.37-1.37c-.4-.4-.92-.59-1.43-.59-.52 0-1.04.2-1.43.59L10.3 9.45l-7.72 7.72c-.78.78-.78 2.05 0 2.83L4 21.41c.39.39.9.59 1.41.59.51 0 1.02-.2 1.41-.59l7.78-7.78 2.81-2.81c.8-.78.8-2.07 0-2.86zM5.41 20L4 18.59l7.72-7.72 1.47 1.35L5.41 20z\"/>\n",
              "  </svg>\n",
              "      </button>\n",
              "      \n",
              "  <style>\n",
              "    .colab-df-container {\n",
              "      display:flex;\n",
              "      flex-wrap:wrap;\n",
              "      gap: 12px;\n",
              "    }\n",
              "\n",
              "    .colab-df-convert {\n",
              "      background-color: #E8F0FE;\n",
              "      border: none;\n",
              "      border-radius: 50%;\n",
              "      cursor: pointer;\n",
              "      display: none;\n",
              "      fill: #1967D2;\n",
              "      height: 32px;\n",
              "      padding: 0 0 0 0;\n",
              "      width: 32px;\n",
              "    }\n",
              "\n",
              "    .colab-df-convert:hover {\n",
              "      background-color: #E2EBFA;\n",
              "      box-shadow: 0px 1px 2px rgba(60, 64, 67, 0.3), 0px 1px 3px 1px rgba(60, 64, 67, 0.15);\n",
              "      fill: #174EA6;\n",
              "    }\n",
              "\n",
              "    [theme=dark] .colab-df-convert {\n",
              "      background-color: #3B4455;\n",
              "      fill: #D2E3FC;\n",
              "    }\n",
              "\n",
              "    [theme=dark] .colab-df-convert:hover {\n",
              "      background-color: #434B5C;\n",
              "      box-shadow: 0px 1px 3px 1px rgba(0, 0, 0, 0.15);\n",
              "      filter: drop-shadow(0px 1px 2px rgba(0, 0, 0, 0.3));\n",
              "      fill: #FFFFFF;\n",
              "    }\n",
              "  </style>\n",
              "\n",
              "      <script>\n",
              "        const buttonEl =\n",
              "          document.querySelector('#df-d25d1456-f967-4746-b793-69e3a4e61042 button.colab-df-convert');\n",
              "        buttonEl.style.display =\n",
              "          google.colab.kernel.accessAllowed ? 'block' : 'none';\n",
              "\n",
              "        async function convertToInteractive(key) {\n",
              "          const element = document.querySelector('#df-d25d1456-f967-4746-b793-69e3a4e61042');\n",
              "          const dataTable =\n",
              "            await google.colab.kernel.invokeFunction('convertToInteractive',\n",
              "                                                     [key], {});\n",
              "          if (!dataTable) return;\n",
              "\n",
              "          const docLinkHtml = 'Like what you see? Visit the ' +\n",
              "            '<a target=\"_blank\" href=https://colab.research.google.com/notebooks/data_table.ipynb>data table notebook</a>'\n",
              "            + ' to learn more about interactive tables.';\n",
              "          element.innerHTML = '';\n",
              "          dataTable['output_type'] = 'display_data';\n",
              "          await google.colab.output.renderOutput(dataTable, element);\n",
              "          const docLink = document.createElement('div');\n",
              "          docLink.innerHTML = docLinkHtml;\n",
              "          element.appendChild(docLink);\n",
              "        }\n",
              "      </script>\n",
              "    </div>\n",
              "  </div>\n",
              "  "
            ]
          },
          "metadata": {},
          "execution_count": 59
        }
      ]
    },
    {
      "cell_type": "code",
      "source": [
        "print(data.info())"
      ],
      "metadata": {
        "colab": {
          "base_uri": "https://localhost:8080/"
        },
        "id": "GMtuJ6QMOcm9",
        "outputId": "0faeb0c9-7a8e-4f10-e236-6631e5bcad0f"
      },
      "execution_count": 60,
      "outputs": [
        {
          "output_type": "stream",
          "name": "stdout",
          "text": [
            "<class 'pandas.core.frame.DataFrame'>\n",
            "RangeIndex: 47692 entries, 0 to 47691\n",
            "Data columns (total 2 columns):\n",
            " #   Column              Non-Null Count  Dtype \n",
            "---  ------              --------------  ----- \n",
            " 0   tweet_text          47692 non-null  object\n",
            " 1   cyberbullying_type  47692 non-null  object\n",
            "dtypes: object(2)\n",
            "memory usage: 745.3+ KB\n",
            "None\n"
          ]
        }
      ]
    },
    {
      "cell_type": "code",
      "execution_count": 61,
      "metadata": {
        "id": "Uk0P6yfU7QCv"
      },
      "outputs": [],
      "source": [
        "data = data.rename(columns={'tweet_text' : 'tweet', 'cyberbullying_type' : 'sentiment'})"
      ]
    },
    {
      "cell_type": "markdown",
      "source": [
        "Removing duplicates from given tweets\n"
      ],
      "metadata": {
        "id": "lFdODN_fL349"
      }
    },
    {
      "cell_type": "code",
      "source": [
        "data[data.duplicated()].shape"
      ],
      "metadata": {
        "colab": {
          "base_uri": "https://localhost:8080/"
        },
        "id": "CqfLWM_3RAsm",
        "outputId": "568e5c28-0202-47c4-89ad-4a2c788ca1cf"
      },
      "execution_count": 62,
      "outputs": [
        {
          "output_type": "execute_result",
          "data": {
            "text/plain": [
              "(36, 2)"
            ]
          },
          "metadata": {},
          "execution_count": 62
        }
      ]
    },
    {
      "cell_type": "code",
      "execution_count": 63,
      "metadata": {
        "id": "X5pmNhQj7i5k"
      },
      "outputs": [],
      "source": [
        "data = data[~data.duplicated()]"
      ]
    },
    {
      "cell_type": "code",
      "execution_count": 64,
      "metadata": {
        "colab": {
          "base_uri": "https://localhost:8080/"
        },
        "id": "MuVEVGyX8JFQ",
        "outputId": "bff58705-41ac-412d-e16b-c5559bfec259"
      },
      "outputs": [
        {
          "output_type": "stream",
          "name": "stdout",
          "text": [
            "<class 'pandas.core.frame.DataFrame'>\n",
            "Int64Index: 47656 entries, 0 to 47691\n",
            "Data columns (total 2 columns):\n",
            " #   Column     Non-Null Count  Dtype \n",
            "---  ------     --------------  ----- \n",
            " 0   tweet      47656 non-null  object\n",
            " 1   sentiment  47656 non-null  object\n",
            "dtypes: object(2)\n",
            "memory usage: 1.1+ MB\n"
          ]
        }
      ],
      "source": [
        "data.info()"
      ]
    },
    {
      "cell_type": "markdown",
      "source": [
        "Showing class balance/imbalance result"
      ],
      "metadata": {
        "id": "CsFdHHECUC00"
      }
    },
    {
      "cell_type": "code",
      "execution_count": 65,
      "metadata": {
        "colab": {
          "base_uri": "https://localhost:8080/"
        },
        "id": "2CYHASSe8-QM",
        "outputId": "32405461-0111-463d-cda1-a8cadcaddd8a"
      },
      "outputs": [
        {
          "output_type": "execute_result",
          "data": {
            "text/plain": [
              "religion               7997\n",
              "age                    7992\n",
              "ethnicity              7959\n",
              "gender                 7948\n",
              "not_cyberbullying      7937\n",
              "other_cyberbullying    7823\n",
              "Name: sentiment, dtype: int64"
            ]
          },
          "metadata": {},
          "execution_count": 65
        }
      ],
      "source": [
        "data.sentiment.value_counts()"
      ]
    },
    {
      "cell_type": "code",
      "source": [
        "plt.figure(figsize=(7,5))\n",
        "plt.title('Showing class balance/imbalance result');\n",
        "data['sentiment'].value_counts().plot.bar(rot = 20);\n",
        "plt.xlabel('Sentiments');\n",
        "plt.ylabel('Counts of tweet');\n",
        "plt.show();"
      ],
      "metadata": {
        "colab": {
          "base_uri": "https://localhost:8080/",
          "height": 384
        },
        "id": "k3n1aLGSUKb9",
        "outputId": "d4c1dd24-e69b-4328-bac2-3aa31a1108cd"
      },
      "execution_count": 66,
      "outputs": [
        {
          "output_type": "display_data",
          "data": {
            "text/plain": [
              "<Figure size 504x360 with 1 Axes>"
            ],
            "image/png": "[encoded data removed]"
          },
          "metadata": {
            "needs_background": "light"
          }
        }
      ]
    },
    {
      "cell_type": "markdown",
      "source": [
        "From above, we can see that Dataset is **balanced** among different classes of sentiments."
      ],
      "metadata": {
        "id": "AP8yW6YcWfno"
      }
    },
    {
      "cell_type": "markdown",
      "source": [
        "Importing and downloading different packages for data cleaning"
      ],
      "metadata": {
        "id": "9f51Bp_fMv4B"
      }
    },
    {
      "cell_type": "code",
      "execution_count": 67,
      "metadata": {
        "colab": {
          "base_uri": "https://localhost:8080/"
        },
        "id": "syn-OBARIie0",
        "outputId": "356b8a10-efbd-497e-9862-6d5ccafd50d9"
      },
      "outputs": [
        {
          "output_type": "stream",
          "name": "stdout",
          "text": [
            "Requirement already satisfied: emoji in /usr/local/lib/python3.7/dist-packages (1.7.0)\n"
          ]
        }
      ],
      "source": [
        "pip install emoji"
      ]
    },
    {
      "cell_type": "markdown",
      "source": [
        "Importing nltk"
      ],
      "metadata": {
        "id": "fI7C4yarM7kv"
      }
    },
    {
      "cell_type": "code",
      "execution_count": 68,
      "metadata": {
        "colab": {
          "base_uri": "https://localhost:8080/"
        },
        "id": "Zx346TICk0XM",
        "outputId": "00a1db40-4025-4247-c60d-e71506f8890d"
      },
      "outputs": [
        {
          "output_type": "stream",
          "name": "stdout",
          "text": [
            "[nltk_data] Downloading package stopwords to /root/nltk_data...\n",
            "[nltk_data]   Package stopwords is already up-to-date!\n"
          ]
        },
        {
          "output_type": "execute_result",
          "data": {
            "text/plain": [
              "True"
            ]
          },
          "metadata": {},
          "execution_count": 68
        }
      ],
      "source": [
        "import nltk\n",
        "# For removing stopwords\n",
        "nltk.download('stopwords')"
      ]
    },
    {
      "cell_type": "code",
      "execution_count": 69,
      "metadata": {
        "colab": {
          "base_uri": "https://localhost:8080/"
        },
        "id": "ACiTq_1r2lJ-",
        "outputId": "c8fc20ff-1ec3-4c9d-8d3e-727335f0bd47"
      },
      "outputs": [
        {
          "output_type": "stream",
          "name": "stdout",
          "text": [
            "[nltk_data] Downloading package punkt to /root/nltk_data...\n",
            "[nltk_data]   Package punkt is already up-to-date!\n"
          ]
        },
        {
          "output_type": "execute_result",
          "data": {
            "text/plain": [
              "True"
            ]
          },
          "metadata": {},
          "execution_count": 69
        }
      ],
      "source": [
        "nltk.download('punkt')"
      ]
    },
    {
      "cell_type": "markdown",
      "metadata": {
        "id": "N6tAorFrAn2K"
      },
      "source": [
        "### Now, let's proceed towards basic cleaning of tweets"
      ]
    },
    {
      "cell_type": "code",
      "execution_count": 70,
      "metadata": {
        "id": "esXr4c_F9IxB"
      },
      "outputs": [],
      "source": [
        "import re, string\n",
        "import emoji\n",
        "from nltk.corpus import stopwords\n",
        "stop_words = set(stopwords.words('english'))\n",
        "\n",
        "\n",
        "def remove_emoji(text):  # For removing the emojis from the text\n",
        "  return re.sub(emoji.get_emoji_regexp(), r\"\", text)\n",
        "\n",
        "\n",
        "def remove_entities(text):\n",
        "  text = text.replace('\\r', '').replace('\\n', ' ').lower() # For removing \\n and \\r from the text and then lowercasing the text\n",
        "  text = re.sub(r\"(?:\\@|https?\\://)\\S+\", \"\", text)\n",
        "  text = re.sub(r'[^\\x00-\\x7f]', r'', text)\n",
        "  punctuation_words = string.punctuation\n",
        "  table = text.maketrans('', '', punctuation_words)\n",
        "  text = text.translate(table)\n",
        "  text = [word for word in text.split() if word not in stop_words]\n",
        "  text = ' '.join(text)\n",
        "  text = ' '.join(word for word in text.split() if len(word)<14)\n",
        "  return text\n",
        "\n",
        "\n",
        "def remove_contractions(text):\n",
        "  text = re.sub(r\"can\\'t\", \"can not\", text)\n",
        "  text = re.sub(r\"n\\'t\", \" not\", text)\n",
        "  text = re.sub(r\"\\'re\", \" are\", text)\n",
        "  text = re.sub(r\"\\'s\", \" is\", text)\n",
        "  text = re.sub(r\"\\'d\", \" would\", text)\n",
        "  text = re.sub(r\"\\'ll\", \" will\", text)\n",
        "  text = re.sub(r\"\\'t\", \" not\", text)\n",
        "  text = re.sub(r\"\\'ve\", \" have\", text)\n",
        "  text = re.sub(r\"\\'m\", \" am\", text)\n",
        "  return text\n",
        "\n",
        "\n",
        "def remove_hashtags(text):\n",
        "  new_text = \" \".join(word.strip() for word in re.split('#(?!(?:hashtag)\\b)[\\w-]+(?=(?:\\s+#[\\w-]+)*\\s*$)', text))\n",
        "  new_text2 = \" \".join(word.strip() for word in re.split('#|_', new_text))\n",
        "  return new_text2\n",
        "\n",
        "\n",
        "def filter_characters(text):\n",
        "  filtered = []\n",
        "  for word in text.split(' '):\n",
        "    if ('$' in word) | ('&' in word):\n",
        "      filtered.append('')\n",
        "    else:\n",
        "      filtered.append(word)\n",
        "  return ' '.join(filtered)\n",
        "\n",
        "\n",
        "def remove_mult_spaces(text):\n",
        "  return re.sub(\"\\s\\s+\", \" \", text)\n",
        "\n",
        "\n",
        "# Basic cleaning  \n",
        "def basic_cleaning(text):\n",
        "  text = remove_emoji(text)\n",
        "  text = remove_contractions(text)\n",
        "  text = remove_entities(text)\n",
        "  text = remove_hashtags(text)\n",
        "  text = filter_characters(text)\n",
        "  text = remove_mult_spaces(text)\n",
        "  return text"
      ]
    },
    {
      "cell_type": "markdown",
      "source": [
        "Using basic_cleaning() function defined above to do basic cleaning"
      ],
      "metadata": {
        "id": "Fq4m3mt6fZyW"
      }
    },
    {
      "cell_type": "code",
      "source": [
        "basic_clean_tweets = []\n",
        "for text in data['tweet']:\n",
        "  basic_clean_tweets.append(basic_cleaning(text))"
      ],
      "metadata": {
        "colab": {
          "base_uri": "https://localhost:8080/"
        },
        "id": "VttL1z8SfR84",
        "outputId": "53a7fd22-8270-4565-ec66-2d26be4debd3"
      },
      "execution_count": 15,
      "outputs": [
        {
          "output_type": "stream",
          "name": "stderr",
          "text": [
            "/usr/local/lib/python3.7/dist-packages/ipykernel_launcher.py:8: DeprecationWarning: 'emoji.get_emoji_regexp()' is deprecated and will be removed in version 2.0.0. If you want to remove emoji from a string, consider the method emoji.replace_emoji(str, replace='').\n",
            "To hide this warning, pin/downgrade the package to 'emoji~=1.6.3'\n",
            "  \n"
          ]
        }
      ]
    },
    {
      "cell_type": "code",
      "source": [
        "basic_clean_df = pd.DataFrame(basic_clean_tweets, columns = ['Basic clean']);\n",
        "basic_clean_df['sentiment'] = data['sentiment'].values\n",
        "basic_clean_df.head()\n",
        "\n",
        "# We can see that basic cleaning of tweets has been done."
      ],
      "metadata": {
        "colab": {
          "base_uri": "https://localhost:8080/",
          "height": 206
        },
        "id": "vrjWuvkmgbg3",
        "outputId": "d6f9d0f0-0b85-4326-e1fb-aebd9ec94d54"
      },
      "execution_count": 16,
      "outputs": [
        {
          "output_type": "execute_result",
          "data": {
            "text/plain": [
              "                                         Basic clean          sentiment\n",
              "0            words katandandre food crapilicious mkr  not_cyberbullying\n",
              "1  aussietv white mkr theblock today sunrise stud...  not_cyberbullying\n",
              "2                   classy whore red velvet cupcakes  not_cyberbullying\n",
              "3  meh p thanks heads concerned another angry dud...  not_cyberbullying\n",
              "4  isis account pretending kurdish account like i...  not_cyberbullying"
            ],
            "text/html": [
              "\n",
              "  <div id=\"df-40ef8244-4982-48bc-bf90-ae9d8c9f9529\">\n",
              "    <div class=\"colab-df-container\">\n",
              "      <div>\n",
              "<style scoped>\n",
              "    .dataframe tbody tr th:only-of-type {\n",
              "        vertical-align: middle;\n",
              "    }\n",
              "\n",
              "    .dataframe tbody tr th {\n",
              "        vertical-align: top;\n",
              "    }\n",
              "\n",
              "    .dataframe thead th {\n",
              "        text-align: right;\n",
              "    }\n",
              "</style>\n",
              "<table border=\"1\" class=\"dataframe\">\n",
              "  <thead>\n",
              "    <tr style=\"text-align: right;\">\n",
              "      <th></th>\n",
              "      <th>Basic clean</th>\n",
              "      <th>sentiment</th>\n",
              "    </tr>\n",
              "  </thead>\n",
              "  <tbody>\n",
              "    <tr>\n",
              "      <th>0</th>\n",
              "      <td>words katandandre food crapilicious mkr</td>\n",
              "      <td>not_cyberbullying</td>\n",
              "    </tr>\n",
              "    <tr>\n",
              "      <th>1</th>\n",
              "      <td>aussietv white mkr theblock today sunrise stud...</td>\n",
              "      <td>not_cyberbullying</td>\n",
              "    </tr>\n",
              "    <tr>\n",
              "      <th>2</th>\n",
              "      <td>classy whore red velvet cupcakes</td>\n",
              "      <td>not_cyberbullying</td>\n",
              "    </tr>\n",
              "    <tr>\n",
              "      <th>3</th>\n",
              "      <td>meh p thanks heads concerned another angry dud...</td>\n",
              "      <td>not_cyberbullying</td>\n",
              "    </tr>\n",
              "    <tr>\n",
              "      <th>4</th>\n",
              "      <td>isis account pretending kurdish account like i...</td>\n",
              "      <td>not_cyberbullying</td>\n",
              "    </tr>\n",
              "  </tbody>\n",
              "</table>\n",
              "</div>\n",
              "      <button class=\"colab-df-convert\" onclick=\"convertToInteractive('df-40ef8244-4982-48bc-bf90-ae9d8c9f9529')\"\n",
              "              title=\"Convert this dataframe to an interactive table.\"\n",
              "              style=\"display:none;\">\n",
              "        \n",
              "  <svg xmlns=\"http://www.w3.org/2000/svg\" height=\"24px\"viewBox=\"0 0 24 24\"\n",
              "       width=\"24px\">\n",
              "    <path d=\"M0 0h24v24H0V0z\" fill=\"none\"/>\n",
              "    <path d=\"M18.56 5.44l.94 2.06.94-2.06 2.06-.94-2.06-.94-.94-2.06-.94 2.06-2.06.94zm-11 1L8.5 8.5l.94-2.06 2.06-.94-2.06-.94L8.5 2.5l-.94 2.06-2.06.94zm10 10l.94 2.06.94-2.06 2.06-.94-2.06-.94-.94-2.06-.94 2.06-2.06.94z\"/><path d=\"M17.41 7.96l-1.37-1.37c-.4-.4-.92-.59-1.43-.59-.52 0-1.04.2-1.43.59L10.3 9.45l-7.72 7.72c-.78.78-.78 2.05 0 2.83L4 21.41c.39.39.9.59 1.41.59.51 0 1.02-.2 1.41-.59l7.78-7.78 2.81-2.81c.8-.78.8-2.07 0-2.86zM5.41 20L4 18.59l7.72-7.72 1.47 1.35L5.41 20z\"/>\n",
              "  </svg>\n",
              "      </button>\n",
              "      \n",
              "  <style>\n",
              "    .colab-df-container {\n",
              "      display:flex;\n",
              "      flex-wrap:wrap;\n",
              "      gap: 12px;\n",
              "    }\n",
              "\n",
              "    .colab-df-convert {\n",
              "      background-color: #E8F0FE;\n",
              "      border: none;\n",
              "      border-radius: 50%;\n",
              "      cursor: pointer;\n",
              "      display: none;\n",
              "      fill: #1967D2;\n",
              "      height: 32px;\n",
              "      padding: 0 0 0 0;\n",
              "      width: 32px;\n",
              "    }\n",
              "\n",
              "    .colab-df-convert:hover {\n",
              "      background-color: #E2EBFA;\n",
              "      box-shadow: 0px 1px 2px rgba(60, 64, 67, 0.3), 0px 1px 3px 1px rgba(60, 64, 67, 0.15);\n",
              "      fill: #174EA6;\n",
              "    }\n",
              "\n",
              "    [theme=dark] .colab-df-convert {\n",
              "      background-color: #3B4455;\n",
              "      fill: #D2E3FC;\n",
              "    }\n",
              "\n",
              "    [theme=dark] .colab-df-convert:hover {\n",
              "      background-color: #434B5C;\n",
              "      box-shadow: 0px 1px 3px 1px rgba(0, 0, 0, 0.15);\n",
              "      filter: drop-shadow(0px 1px 2px rgba(0, 0, 0, 0.3));\n",
              "      fill: #FFFFFF;\n",
              "    }\n",
              "  </style>\n",
              "\n",
              "      <script>\n",
              "        const buttonEl =\n",
              "          document.querySelector('#df-40ef8244-4982-48bc-bf90-ae9d8c9f9529 button.colab-df-convert');\n",
              "        buttonEl.style.display =\n",
              "          google.colab.kernel.accessAllowed ? 'block' : 'none';\n",
              "\n",
              "        async function convertToInteractive(key) {\n",
              "          const element = document.querySelector('#df-40ef8244-4982-48bc-bf90-ae9d8c9f9529');\n",
              "          const dataTable =\n",
              "            await google.colab.kernel.invokeFunction('convertToInteractive',\n",
              "                                                     [key], {});\n",
              "          if (!dataTable) return;\n",
              "\n",
              "          const docLinkHtml = 'Like what you see? Visit the ' +\n",
              "            '<a target=\"_blank\" href=https://colab.research.google.com/notebooks/data_table.ipynb>data table notebook</a>'\n",
              "            + ' to learn more about interactive tables.';\n",
              "          element.innerHTML = '';\n",
              "          dataTable['output_type'] = 'display_data';\n",
              "          await google.colab.output.renderOutput(dataTable, element);\n",
              "          const docLink = document.createElement('div');\n",
              "          docLink.innerHTML = docLinkHtml;\n",
              "          element.appendChild(docLink);\n",
              "        }\n",
              "      </script>\n",
              "    </div>\n",
              "  </div>\n",
              "  "
            ]
          },
          "metadata": {},
          "execution_count": 16
        }
      ]
    },
    {
      "cell_type": "markdown",
      "source": [
        "Removing duplicates from basic cleaned tweets"
      ],
      "metadata": {
        "id": "OZ7XiS1iWfeb"
      }
    },
    {
      "cell_type": "code",
      "source": [
        "basic_clean_df.shape"
      ],
      "metadata": {
        "colab": {
          "base_uri": "https://localhost:8080/"
        },
        "id": "PQjHUGB2YIiU",
        "outputId": "daa187de-0a18-42ea-8e24-7a8e6804cc91"
      },
      "execution_count": 17,
      "outputs": [
        {
          "output_type": "execute_result",
          "data": {
            "text/plain": [
              "(47656, 2)"
            ]
          },
          "metadata": {},
          "execution_count": 17
        }
      ]
    },
    {
      "cell_type": "code",
      "execution_count": 18,
      "metadata": {
        "colab": {
          "base_uri": "https://localhost:8080/"
        },
        "id": "paGs5agW5eMs",
        "outputId": "09f22150-0794-487e-ad24-1ada252c7db2"
      },
      "outputs": [
        {
          "output_type": "execute_result",
          "data": {
            "text/plain": [
              "2998"
            ]
          },
          "metadata": {},
          "execution_count": 18
        }
      ],
      "source": [
        "basic_clean_df['Basic clean'].duplicated().sum()"
      ]
    },
    {
      "cell_type": "code",
      "execution_count": 19,
      "metadata": {
        "colab": {
          "base_uri": "https://localhost:8080/"
        },
        "id": "d1P0s8o-5moy",
        "outputId": "fd2bf1fd-f8b5-4ec8-b40a-fed1bc3b93f1"
      },
      "outputs": [
        {
          "output_type": "execute_result",
          "data": {
            "text/plain": [
              "(44658, 2)"
            ]
          },
          "metadata": {},
          "execution_count": 19
        }
      ],
      "source": [
        "basic_clean_df.drop_duplicates('Basic clean', inplace = True)\n",
        "# Removed duplicates\n",
        "basic_clean_df.shape"
      ]
    },
    {
      "cell_type": "markdown",
      "source": [
        "Dropping other_cyberbullying"
      ],
      "metadata": {
        "id": "dtAa6KqrXnEn"
      }
    },
    {
      "cell_type": "code",
      "execution_count": 20,
      "metadata": {
        "id": "iVCHqtlg6Jz0"
      },
      "outputs": [],
      "source": [
        "basic_clean_df = basic_clean_df[basic_clean_df['sentiment'] != \"other_cyberbullying\"]"
      ]
    },
    {
      "cell_type": "code",
      "execution_count": 21,
      "metadata": {
        "colab": {
          "base_uri": "https://localhost:8080/"
        },
        "id": "_jmSDH6L51Fe",
        "outputId": "64ddac38-4c76-4b34-9bc1-35e30f368e09"
      },
      "outputs": [
        {
          "output_type": "execute_result",
          "data": {
            "text/plain": [
              "religion             7948\n",
              "age                  7898\n",
              "ethnicity            7751\n",
              "not_cyberbullying    7648\n",
              "gender               7616\n",
              "Name: sentiment, dtype: int64"
            ]
          },
          "metadata": {},
          "execution_count": 21
        }
      ],
      "source": [
        "basic_clean_df['sentiment'].value_counts()"
      ]
    },
    {
      "cell_type": "markdown",
      "source": [
        "Creating tweet_length column for basic cleaned tweets"
      ],
      "metadata": {
        "id": "ZRcCrPy1Xwpu"
      }
    },
    {
      "cell_type": "code",
      "execution_count": 22,
      "metadata": {
        "colab": {
          "base_uri": "https://localhost:8080/",
          "height": 206
        },
        "id": "RfKbAj3d6lPc",
        "outputId": "49f1d4b3-6189-4c5b-b82c-774f6b65648b"
      },
      "outputs": [
        {
          "output_type": "execute_result",
          "data": {
            "text/plain": [
              "                                         Basic clean          sentiment  \\\n",
              "0            words katandandre food crapilicious mkr  not_cyberbullying   \n",
              "1  aussietv white mkr theblock today sunrise stud...  not_cyberbullying   \n",
              "2                   classy whore red velvet cupcakes  not_cyberbullying   \n",
              "3  meh p thanks heads concerned another angry dud...  not_cyberbullying   \n",
              "4  isis account pretending kurdish account like i...  not_cyberbullying   \n",
              "\n",
              "   tweet_length  \n",
              "0             5  \n",
              "1            10  \n",
              "2             5  \n",
              "3             9  \n",
              "4             8  "
            ],
            "text/html": [
              "\n",
              "  <div id=\"df-01366ccb-b96b-457e-98c1-8c05f07d9a52\">\n",
              "    <div class=\"colab-df-container\">\n",
              "      <div>\n",
              "<style scoped>\n",
              "    .dataframe tbody tr th:only-of-type {\n",
              "        vertical-align: middle;\n",
              "    }\n",
              "\n",
              "    .dataframe tbody tr th {\n",
              "        vertical-align: top;\n",
              "    }\n",
              "\n",
              "    .dataframe thead th {\n",
              "        text-align: right;\n",
              "    }\n",
              "</style>\n",
              "<table border=\"1\" class=\"dataframe\">\n",
              "  <thead>\n",
              "    <tr style=\"text-align: right;\">\n",
              "      <th></th>\n",
              "      <th>Basic clean</th>\n",
              "      <th>sentiment</th>\n",
              "      <th>tweet_length</th>\n",
              "    </tr>\n",
              "  </thead>\n",
              "  <tbody>\n",
              "    <tr>\n",
              "      <th>0</th>\n",
              "      <td>words katandandre food crapilicious mkr</td>\n",
              "      <td>not_cyberbullying</td>\n",
              "      <td>5</td>\n",
              "    </tr>\n",
              "    <tr>\n",
              "      <th>1</th>\n",
              "      <td>aussietv white mkr theblock today sunrise stud...</td>\n",
              "      <td>not_cyberbullying</td>\n",
              "      <td>10</td>\n",
              "    </tr>\n",
              "    <tr>\n",
              "      <th>2</th>\n",
              "      <td>classy whore red velvet cupcakes</td>\n",
              "      <td>not_cyberbullying</td>\n",
              "      <td>5</td>\n",
              "    </tr>\n",
              "    <tr>\n",
              "      <th>3</th>\n",
              "      <td>meh p thanks heads concerned another angry dud...</td>\n",
              "      <td>not_cyberbullying</td>\n",
              "      <td>9</td>\n",
              "    </tr>\n",
              "    <tr>\n",
              "      <th>4</th>\n",
              "      <td>isis account pretending kurdish account like i...</td>\n",
              "      <td>not_cyberbullying</td>\n",
              "      <td>8</td>\n",
              "    </tr>\n",
              "  </tbody>\n",
              "</table>\n",
              "</div>\n",
              "      <button class=\"colab-df-convert\" onclick=\"convertToInteractive('df-01366ccb-b96b-457e-98c1-8c05f07d9a52')\"\n",
              "              title=\"Convert this dataframe to an interactive table.\"\n",
              "              style=\"display:none;\">\n",
              "        \n",
              "  <svg xmlns=\"http://www.w3.org/2000/svg\" height=\"24px\"viewBox=\"0 0 24 24\"\n",
              "       width=\"24px\">\n",
              "    <path d=\"M0 0h24v24H0V0z\" fill=\"none\"/>\n",
              "    <path d=\"M18.56 5.44l.94 2.06.94-2.06 2.06-.94-2.06-.94-.94-2.06-.94 2.06-2.06.94zm-11 1L8.5 8.5l.94-2.06 2.06-.94-2.06-.94L8.5 2.5l-.94 2.06-2.06.94zm10 10l.94 2.06.94-2.06 2.06-.94-2.06-.94-.94-2.06-.94 2.06-2.06.94z\"/><path d=\"M17.41 7.96l-1.37-1.37c-.4-.4-.92-.59-1.43-.59-.52 0-1.04.2-1.43.59L10.3 9.45l-7.72 7.72c-.78.78-.78 2.05 0 2.83L4 21.41c.39.39.9.59 1.41.59.51 0 1.02-.2 1.41-.59l7.78-7.78 2.81-2.81c.8-.78.8-2.07 0-2.86zM5.41 20L4 18.59l7.72-7.72 1.47 1.35L5.41 20z\"/>\n",
              "  </svg>\n",
              "      </button>\n",
              "      \n",
              "  <style>\n",
              "    .colab-df-container {\n",
              "      display:flex;\n",
              "      flex-wrap:wrap;\n",
              "      gap: 12px;\n",
              "    }\n",
              "\n",
              "    .colab-df-convert {\n",
              "      background-color: #E8F0FE;\n",
              "      border: none;\n",
              "      border-radius: 50%;\n",
              "      cursor: pointer;\n",
              "      display: none;\n",
              "      fill: #1967D2;\n",
              "      height: 32px;\n",
              "      padding: 0 0 0 0;\n",
              "      width: 32px;\n",
              "    }\n",
              "\n",
              "    .colab-df-convert:hover {\n",
              "      background-color: #E2EBFA;\n",
              "      box-shadow: 0px 1px 2px rgba(60, 64, 67, 0.3), 0px 1px 3px 1px rgba(60, 64, 67, 0.15);\n",
              "      fill: #174EA6;\n",
              "    }\n",
              "\n",
              "    [theme=dark] .colab-df-convert {\n",
              "      background-color: #3B4455;\n",
              "      fill: #D2E3FC;\n",
              "    }\n",
              "\n",
              "    [theme=dark] .colab-df-convert:hover {\n",
              "      background-color: #434B5C;\n",
              "      box-shadow: 0px 1px 3px 1px rgba(0, 0, 0, 0.15);\n",
              "      filter: drop-shadow(0px 1px 2px rgba(0, 0, 0, 0.3));\n",
              "      fill: #FFFFFF;\n",
              "    }\n",
              "  </style>\n",
              "\n",
              "      <script>\n",
              "        const buttonEl =\n",
              "          document.querySelector('#df-01366ccb-b96b-457e-98c1-8c05f07d9a52 button.colab-df-convert');\n",
              "        buttonEl.style.display =\n",
              "          google.colab.kernel.accessAllowed ? 'block' : 'none';\n",
              "\n",
              "        async function convertToInteractive(key) {\n",
              "          const element = document.querySelector('#df-01366ccb-b96b-457e-98c1-8c05f07d9a52');\n",
              "          const dataTable =\n",
              "            await google.colab.kernel.invokeFunction('convertToInteractive',\n",
              "                                                     [key], {});\n",
              "          if (!dataTable) return;\n",
              "\n",
              "          const docLinkHtml = 'Like what you see? Visit the ' +\n",
              "            '<a target=\"_blank\" href=https://colab.research.google.com/notebooks/data_table.ipynb>data table notebook</a>'\n",
              "            + ' to learn more about interactive tables.';\n",
              "          element.innerHTML = '';\n",
              "          dataTable['output_type'] = 'display_data';\n",
              "          await google.colab.output.renderOutput(dataTable, element);\n",
              "          const docLink = document.createElement('div');\n",
              "          docLink.innerHTML = docLinkHtml;\n",
              "          element.appendChild(docLink);\n",
              "        }\n",
              "      </script>\n",
              "    </div>\n",
              "  </div>\n",
              "  "
            ]
          },
          "metadata": {},
          "execution_count": 22
        }
      ],
      "source": [
        "text_length = []\n",
        "for text in basic_clean_df['Basic clean']:\n",
        "  tweet_length = len(text.split())\n",
        "  text_length.append(tweet_length)\n",
        "\n",
        "basic_clean_df['tweet_length'] = text_length\n",
        "basic_clean_df.head()"
      ]
    },
    {
      "cell_type": "markdown",
      "source": [
        "Showing Count plot of tweets length "
      ],
      "metadata": {
        "id": "pHN__Y40X8aP"
      }
    },
    {
      "cell_type": "code",
      "execution_count": 23,
      "metadata": {
        "colab": {
          "base_uri": "https://localhost:8080/",
          "height": 351
        },
        "id": "4s1EJse67F2w",
        "outputId": "aa3ee4c9-3f7c-4fbc-be4c-69a67e082e42"
      },
      "outputs": [
        {
          "output_type": "display_data",
          "data": {
            "text/plain": [
              "<Figure size 1296x360 with 1 Axes>"
            ],
            "image/png": "[encoded data removed]"
          },
          "metadata": {
            "needs_background": "light"
          }
        }
      ],
      "source": [
        "import matplotlib.pyplot as plt\n",
        "plt.figure(figsize=(18,5))\n",
        "# Using countplot\n",
        "ax = sns.countplot(x='tweet_length', data=basic_clean_df)\n",
        "plt.title('Graph of count of tweets and thier tweet length')\n",
        "plt.ylabel('count')\n",
        "plt.xlabel('Tweet_length')\n",
        "plt.show()"
      ]
    },
    {
      "cell_type": "markdown",
      "source": [
        "From the above graph, we can see the distribution of length of cleaned tweets."
      ],
      "metadata": {
        "id": "6HhQrdkNjJDk"
      }
    },
    {
      "cell_type": "markdown",
      "source": [
        "So, removing tweets of length greater than 100 and less than 1."
      ],
      "metadata": {
        "id": "MhflKmOYk0_v"
      }
    },
    {
      "cell_type": "code",
      "execution_count": 24,
      "metadata": {
        "id": "OTath6pb-NSu"
      },
      "outputs": [],
      "source": [
        "basic_clean_df = basic_clean_df[(basic_clean_df['tweet_length'] <= 100) & (basic_clean_df['tweet_length'] > 0)]"
      ]
    },
    {
      "cell_type": "code",
      "source": [
        "basic_clean_df.shape"
      ],
      "metadata": {
        "colab": {
          "base_uri": "https://localhost:8080/"
        },
        "id": "vWKkJr5gb1Lx",
        "outputId": "77a51943-91e6-4931-f8a6-b5d7be8b6a87"
      },
      "execution_count": 25,
      "outputs": [
        {
          "output_type": "execute_result",
          "data": {
            "text/plain": [
              "(38851, 3)"
            ]
          },
          "metadata": {},
          "execution_count": 25
        }
      ]
    },
    {
      "cell_type": "code",
      "execution_count": 26,
      "metadata": {
        "colab": {
          "base_uri": "https://localhost:8080/"
        },
        "id": "JunkHLzF-U2l",
        "outputId": "2390aa4a-3444-4fdc-ba73-720f487864cc"
      },
      "outputs": [
        {
          "output_type": "stream",
          "name": "stdout",
          "text": [
            "Maximum length of tweet: 79\n"
          ]
        }
      ],
      "source": [
        "max_length = np.max(basic_clean_df['tweet_length'])\n",
        "print(\"Maximum length of tweet:\",max_length)"
      ]
    },
    {
      "cell_type": "markdown",
      "source": [
        "### Proceeding towards Stemming and Lemmatization techniques."
      ],
      "metadata": {
        "id": "2-cLtAiZhB8D"
      }
    },
    {
      "cell_type": "markdown",
      "source": [
        "For further cleaning in this section, we will be generating three columns.\n",
        "\n",
        "1.   Stemming of basic cleaned tweets\n",
        "2.   Lemmatization of basic cleaned tweets\n",
        "3.   Lemmatization followed by Stemming of cleaned tweets.\n",
        "\n",
        "We will select one techinique from above three based on thier performance.\n"
      ],
      "metadata": {
        "id": "M3wcUhVdoQbo"
      }
    },
    {
      "cell_type": "code",
      "source": [
        "nltk.download('wordnet')"
      ],
      "metadata": {
        "colab": {
          "base_uri": "https://localhost:8080/"
        },
        "id": "MRVc9gzTpu14",
        "outputId": "a7de0d4f-e8b9-43f6-eb7f-af5e742fff66"
      },
      "execution_count": 27,
      "outputs": [
        {
          "output_type": "stream",
          "name": "stdout",
          "text": [
            "[nltk_data] Downloading package wordnet to /root/nltk_data...\n",
            "[nltk_data]   Unzipping corpora/wordnet.zip.\n"
          ]
        },
        {
          "output_type": "execute_result",
          "data": {
            "text/plain": [
              "True"
            ]
          },
          "metadata": {},
          "execution_count": 27
        }
      ]
    },
    {
      "cell_type": "code",
      "source": [
        "# We will use SnowballStemmer\n",
        "\n",
        "from nltk.stem import WordNetLemmatizer,SnowballStemmer\n",
        "\n",
        "def stemming(text):\n",
        "  tokenized = nltk.word_tokenize(text)\n",
        "  sb = SnowballStemmer(language = 'english')\n",
        "  return ' '.join([sb.stem(words) for words in tokenized])\n",
        "\n",
        "\n",
        "def lemmatize(text):\n",
        "  tokenized = nltk.word_tokenize(text)\n",
        "  lm = WordNetLemmatizer()\n",
        "  return ' '.join([lm.lemmatize(words) for words in tokenized])"
      ],
      "metadata": {
        "id": "5-Rdwwe4dsfb"
      },
      "execution_count": 28,
      "outputs": []
    },
    {
      "cell_type": "markdown",
      "source": [
        "Using above functions to do stemming and lemmatization on basic clean tweets"
      ],
      "metadata": {
        "id": "S5lA5dIjlRmD"
      }
    },
    {
      "cell_type": "code",
      "source": [
        "# For stemming and lemmatization\n",
        "stem_tweets = []\n",
        "lemma_tweets = []\n",
        "lemma_stem_tweets = [];\n",
        "\n",
        "# For stemming and lemmatization\n",
        "for text in basic_clean_df['Basic clean']:\n",
        "  stem_tweets.append(stemming(text));      # Stemming\n",
        "  lemma_tweets.append(lemmatize(text));    # Lemmatize\n",
        "\n",
        "# For lemmatization followed by stemming\n",
        "for text in lemma_tweets:\n",
        "  lemma_stem_tweets.append(stemming(text));"
      ],
      "metadata": {
        "id": "9tNmgPOOleuh"
      },
      "execution_count": 29,
      "outputs": []
    },
    {
      "cell_type": "markdown",
      "source": [
        "Showing three results of Stemming, Lemmatization and Lemma+Stemming"
      ],
      "metadata": {
        "id": "kk5ot3CDqTqX"
      }
    },
    {
      "cell_type": "code",
      "source": [
        "basic_clean_df['Stemming'] = stem_tweets;\n",
        "basic_clean_df['Lemmatization'] = lemma_tweets;\n",
        "basic_clean_df['Lemma_Stemming'] = lemma_stem_tweets;\n",
        "basic_clean_df.head()\n",
        "\n",
        "# We can see that in stemming is just removing last few characters of words.\n",
        "# Whereas lemmatization is considering context of words and converting to its\n",
        "# meaningful baseform."
      ],
      "metadata": {
        "colab": {
          "base_uri": "https://localhost:8080/",
          "height": 302
        },
        "id": "JuI8KAC5qD5H",
        "outputId": "7ed0df46-78c3-4d62-c6ab-8e480b6dcf74"
      },
      "execution_count": 30,
      "outputs": [
        {
          "output_type": "execute_result",
          "data": {
            "text/plain": [
              "                                         Basic clean          sentiment  \\\n",
              "0            words katandandre food crapilicious mkr  not_cyberbullying   \n",
              "1  aussietv white mkr theblock today sunrise stud...  not_cyberbullying   \n",
              "2                   classy whore red velvet cupcakes  not_cyberbullying   \n",
              "3  meh p thanks heads concerned another angry dud...  not_cyberbullying   \n",
              "4  isis account pretending kurdish account like i...  not_cyberbullying   \n",
              "\n",
              "   tweet_length                                           Stemming  \\\n",
              "0             5                 word katandandr food crapilici mkr   \n",
              "1            10  aussietv white mkr theblock today sunris studi...   \n",
              "2             5                     classi whore red velvet cupcak   \n",
              "3             9  meh p thank head concern anoth angri dude twitter   \n",
              "4             8  isi account pretend kurdish account like islam...   \n",
              "\n",
              "                                       Lemmatization  \\\n",
              "0             word katandandre food crapilicious mkr   \n",
              "1  aussietv white mkr theblock today sunrise stud...   \n",
              "2                    classy whore red velvet cupcake   \n",
              "3  meh p thanks head concerned another angry dude...   \n",
              "4  isi account pretending kurdish account like is...   \n",
              "\n",
              "                                      Lemma_Stemming  \n",
              "0                 word katandandr food crapilici mkr  \n",
              "1  aussietv white mkr theblock today sunris studi...  \n",
              "2                     classi whore red velvet cupcak  \n",
              "3  meh p thank head concern anoth angri dude twitter  \n",
              "4  isi account pretend kurdish account like islam...  "
            ],
            "text/html": [
              "\n",
              "  <div id=\"df-20d095ed-88b2-48a5-9803-8ffb0885540e\">\n",
              "    <div class=\"colab-df-container\">\n",
              "      <div>\n",
              "<style scoped>\n",
              "    .dataframe tbody tr th:only-of-type {\n",
              "        vertical-align: middle;\n",
              "    }\n",
              "\n",
              "    .dataframe tbody tr th {\n",
              "        vertical-align: top;\n",
              "    }\n",
              "\n",
              "    .dataframe thead th {\n",
              "        text-align: right;\n",
              "    }\n",
              "</style>\n",
              "<table border=\"1\" class=\"dataframe\">\n",
              "  <thead>\n",
              "    <tr style=\"text-align: right;\">\n",
              "      <th></th>\n",
              "      <th>Basic clean</th>\n",
              "      <th>sentiment</th>\n",
              "      <th>tweet_length</th>\n",
              "      <th>Stemming</th>\n",
              "      <th>Lemmatization</th>\n",
              "      <th>Lemma_Stemming</th>\n",
              "    </tr>\n",
              "  </thead>\n",
              "  <tbody>\n",
              "    <tr>\n",
              "      <th>0</th>\n",
              "      <td>words katandandre food crapilicious mkr</td>\n",
              "      <td>not_cyberbullying</td>\n",
              "      <td>5</td>\n",
              "      <td>word katandandr food crapilici mkr</td>\n",
              "      <td>word katandandre food crapilicious mkr</td>\n",
              "      <td>word katandandr food crapilici mkr</td>\n",
              "    </tr>\n",
              "    <tr>\n",
              "      <th>1</th>\n",
              "      <td>aussietv white mkr theblock today sunrise stud...</td>\n",
              "      <td>not_cyberbullying</td>\n",
              "      <td>10</td>\n",
              "      <td>aussietv white mkr theblock today sunris studi...</td>\n",
              "      <td>aussietv white mkr theblock today sunrise stud...</td>\n",
              "      <td>aussietv white mkr theblock today sunris studi...</td>\n",
              "    </tr>\n",
              "    <tr>\n",
              "      <th>2</th>\n",
              "      <td>classy whore red velvet cupcakes</td>\n",
              "      <td>not_cyberbullying</td>\n",
              "      <td>5</td>\n",
              "      <td>classi whore red velvet cupcak</td>\n",
              "      <td>classy whore red velvet cupcake</td>\n",
              "      <td>classi whore red velvet cupcak</td>\n",
              "    </tr>\n",
              "    <tr>\n",
              "      <th>3</th>\n",
              "      <td>meh p thanks heads concerned another angry dud...</td>\n",
              "      <td>not_cyberbullying</td>\n",
              "      <td>9</td>\n",
              "      <td>meh p thank head concern anoth angri dude twitter</td>\n",
              "      <td>meh p thanks head concerned another angry dude...</td>\n",
              "      <td>meh p thank head concern anoth angri dude twitter</td>\n",
              "    </tr>\n",
              "    <tr>\n",
              "      <th>4</th>\n",
              "      <td>isis account pretending kurdish account like i...</td>\n",
              "      <td>not_cyberbullying</td>\n",
              "      <td>8</td>\n",
              "      <td>isi account pretend kurdish account like islam...</td>\n",
              "      <td>isi account pretending kurdish account like is...</td>\n",
              "      <td>isi account pretend kurdish account like islam...</td>\n",
              "    </tr>\n",
              "  </tbody>\n",
              "</table>\n",
              "</div>\n",
              "      <button class=\"colab-df-convert\" onclick=\"convertToInteractive('df-20d095ed-88b2-48a5-9803-8ffb0885540e')\"\n",
              "              title=\"Convert this dataframe to an interactive table.\"\n",
              "              style=\"display:none;\">\n",
              "        \n",
              "  <svg xmlns=\"http://www.w3.org/2000/svg\" height=\"24px\"viewBox=\"0 0 24 24\"\n",
              "       width=\"24px\">\n",
              "    <path d=\"M0 0h24v24H0V0z\" fill=\"none\"/>\n",
              "    <path d=\"M18.56 5.44l.94 2.06.94-2.06 2.06-.94-2.06-.94-.94-2.06-.94 2.06-2.06.94zm-11 1L8.5 8.5l.94-2.06 2.06-.94-2.06-.94L8.5 2.5l-.94 2.06-2.06.94zm10 10l.94 2.06.94-2.06 2.06-.94-2.06-.94-.94-2.06-.94 2.06-2.06.94z\"/><path d=\"M17.41 7.96l-1.37-1.37c-.4-.4-.92-.59-1.43-.59-.52 0-1.04.2-1.43.59L10.3 9.45l-7.72 7.72c-.78.78-.78 2.05 0 2.83L4 21.41c.39.39.9.59 1.41.59.51 0 1.02-.2 1.41-.59l7.78-7.78 2.81-2.81c.8-.78.8-2.07 0-2.86zM5.41 20L4 18.59l7.72-7.72 1.47 1.35L5.41 20z\"/>\n",
              "  </svg>\n",
              "      </button>\n",
              "      \n",
              "  <style>\n",
              "    .colab-df-container {\n",
              "      display:flex;\n",
              "      flex-wrap:wrap;\n",
              "      gap: 12px;\n",
              "    }\n",
              "\n",
              "    .colab-df-convert {\n",
              "      background-color: #E8F0FE;\n",
              "      border: none;\n",
              "      border-radius: 50%;\n",
              "      cursor: pointer;\n",
              "      display: none;\n",
              "      fill: #1967D2;\n",
              "      height: 32px;\n",
              "      padding: 0 0 0 0;\n",
              "      width: 32px;\n",
              "    }\n",
              "\n",
              "    .colab-df-convert:hover {\n",
              "      background-color: #E2EBFA;\n",
              "      box-shadow: 0px 1px 2px rgba(60, 64, 67, 0.3), 0px 1px 3px 1px rgba(60, 64, 67, 0.15);\n",
              "      fill: #174EA6;\n",
              "    }\n",
              "\n",
              "    [theme=dark] .colab-df-convert {\n",
              "      background-color: #3B4455;\n",
              "      fill: #D2E3FC;\n",
              "    }\n",
              "\n",
              "    [theme=dark] .colab-df-convert:hover {\n",
              "      background-color: #434B5C;\n",
              "      box-shadow: 0px 1px 3px 1px rgba(0, 0, 0, 0.15);\n",
              "      filter: drop-shadow(0px 1px 2px rgba(0, 0, 0, 0.3));\n",
              "      fill: #FFFFFF;\n",
              "    }\n",
              "  </style>\n",
              "\n",
              "      <script>\n",
              "        const buttonEl =\n",
              "          document.querySelector('#df-20d095ed-88b2-48a5-9803-8ffb0885540e button.colab-df-convert');\n",
              "        buttonEl.style.display =\n",
              "          google.colab.kernel.accessAllowed ? 'block' : 'none';\n",
              "\n",
              "        async function convertToInteractive(key) {\n",
              "          const element = document.querySelector('#df-20d095ed-88b2-48a5-9803-8ffb0885540e');\n",
              "          const dataTable =\n",
              "            await google.colab.kernel.invokeFunction('convertToInteractive',\n",
              "                                                     [key], {});\n",
              "          if (!dataTable) return;\n",
              "\n",
              "          const docLinkHtml = 'Like what you see? Visit the ' +\n",
              "            '<a target=\"_blank\" href=https://colab.research.google.com/notebooks/data_table.ipynb>data table notebook</a>'\n",
              "            + ' to learn more about interactive tables.';\n",
              "          element.innerHTML = '';\n",
              "          dataTable['output_type'] = 'display_data';\n",
              "          await google.colab.output.renderOutput(dataTable, element);\n",
              "          const docLink = document.createElement('div');\n",
              "          docLink.innerHTML = docLinkHtml;\n",
              "          element.appendChild(docLink);\n",
              "        }\n",
              "      </script>\n",
              "    </div>\n",
              "  </div>\n",
              "  "
            ]
          },
          "metadata": {},
          "execution_count": 30
        }
      ]
    },
    {
      "cell_type": "markdown",
      "source": [
        "Word Cloud for religion sentiment"
      ],
      "metadata": {
        "id": "YMUIoubmDyTq"
      }
    },
    {
      "cell_type": "code",
      "source": [
        "import matplotlib.pyplot as plt\n",
        "from wordcloud import WordCloud\n",
        "\n",
        "text = basic_clean_df[basic_clean_df['sentiment']==0]['Stemming'].values\n",
        "wordCloud = WordCloud().generate(str(text))\n",
        "plt.imshow(wordCloud)\n",
        "plt.savefig('religion.png')"
      ],
      "metadata": {
        "id": "2yc52qnNAdXu",
        "outputId": "9dc2cda6-7ce6-4848-a69e-5ac4eb47754d",
        "colab": {
          "base_uri": "https://localhost:8080/",
          "height": 219
        }
      },
      "execution_count": 95,
      "outputs": [
        {
          "output_type": "display_data",
          "data": {
            "text/plain": [
              "<Figure size 432x288 with 1 Axes>"
            ],
            "image/png": "[encoded data removed]"
          },
          "metadata": {
            "needs_background": "light"
          }
        }
      ]
    },
    {
      "cell_type": "markdown",
      "source": [
        "Word Cloud for age sentiment"
      ],
      "metadata": {
        "id": "LSIIqHO7D9s-"
      }
    },
    {
      "cell_type": "code",
      "source": [
        "text = basic_clean_df[basic_clean_df['sentiment']==1]['Stemming'].values\n",
        "wordCloud = WordCloud().generate(str(text))\n",
        "plt.imshow(wordCloud)\n",
        "plt.savefig('age.png')"
      ],
      "metadata": {
        "id": "TIWA1Y2ZD3w9",
        "outputId": "4ba35ab8-4982-4bcc-87d4-6dd11eda89ab",
        "colab": {
          "base_uri": "https://localhost:8080/",
          "height": 219
        }
      },
      "execution_count": 96,
      "outputs": [
        {
          "output_type": "display_data",
          "data": {
            "text/plain": [
              "<Figure size 432x288 with 1 Axes>"
            ],
            "image/png": "[encoded data removed]"
          },
          "metadata": {
            "needs_background": "light"
          }
        }
      ]
    },
    {
      "cell_type": "markdown",
      "source": [
        "Word Cloud for ethnicity sentiment"
      ],
      "metadata": {
        "id": "vTDgbE_2ECaO"
      }
    },
    {
      "cell_type": "code",
      "source": [
        "text = basic_clean_df[basic_clean_df['sentiment']==2]['Stemming'].values\n",
        "wordCloud = WordCloud().generate(str(text))\n",
        "plt.imshow(wordCloud)\n",
        "plt.savefig('ethnicity.png')"
      ],
      "metadata": {
        "id": "ch5ss5GFEIHy",
        "outputId": "fa540205-06e4-469f-a648-1cd214291d64",
        "colab": {
          "base_uri": "https://localhost:8080/",
          "height": 219
        }
      },
      "execution_count": 97,
      "outputs": [
        {
          "output_type": "display_data",
          "data": {
            "text/plain": [
              "<Figure size 432x288 with 1 Axes>"
            ],
            "image/png": "[encoded data removed]"
          },
          "metadata": {
            "needs_background": "light"
          }
        }
      ]
    },
    {
      "cell_type": "markdown",
      "source": [
        "Word Cloud for not_cyberbullying sentiment"
      ],
      "metadata": {
        "id": "OG18xAVLEOuu"
      }
    },
    {
      "cell_type": "code",
      "source": [
        "text = basic_clean_df[basic_clean_df['sentiment']==3]['Stemming'].values\n",
        "wordCloud = WordCloud().generate(str(text))\n",
        "plt.imshow(wordCloud)\n",
        "plt.savefig('not_cyberbullying.png')"
      ],
      "metadata": {
        "id": "WrovFpxvEUkg",
        "outputId": "9d247a9a-53c0-4424-d6d5-595109954bd4",
        "colab": {
          "base_uri": "https://localhost:8080/",
          "height": 219
        }
      },
      "execution_count": 98,
      "outputs": [
        {
          "output_type": "display_data",
          "data": {
            "text/plain": [
              "<Figure size 432x288 with 1 Axes>"
            ],
            "image/png": "[encoded data removed]"
          },
          "metadata": {
            "needs_background": "light"
          }
        }
      ]
    },
    {
      "cell_type": "markdown",
      "source": [
        "Word Cloud for gender sentiment"
      ],
      "metadata": {
        "id": "FvZNYuhpEiYv"
      }
    },
    {
      "cell_type": "code",
      "source": [
        "text = basic_clean_df[basic_clean_df['sentiment']==4]['Stemming'].values\n",
        "wordCloud = WordCloud().generate(str(text))\n",
        "plt.imshow(wordCloud)\n",
        "plt.savefig('gender.png')"
      ],
      "metadata": {
        "id": "z0HSEqdvEn4o",
        "outputId": "56fddda1-8d90-48a3-dbf2-78e661c8120c",
        "colab": {
          "base_uri": "https://localhost:8080/",
          "height": 219
        }
      },
      "execution_count": 99,
      "outputs": [
        {
          "output_type": "display_data",
          "data": {
            "text/plain": [
              "<Figure size 432x288 with 1 Axes>"
            ],
            "image/png": "[encoded data removed]"
          },
          "metadata": {
            "needs_background": "light"
          }
        }
      ]
    },
    {
      "cell_type": "markdown",
      "source": [
        "## Proceeding towards Word embeddings"
      ],
      "metadata": {
        "id": "Vy3x4BjSdT4l"
      }
    },
    {
      "cell_type": "markdown",
      "source": [
        "For further processing, we will convert our results of - \n",
        "\n",
        "*   Stemming\n",
        "*   Lemmatization\n",
        "*   Lemmatization followed by stemming\n",
        "\n",
        "to vectors.\n",
        "To achieve this, we will be using following word-embeddings -\n",
        "\n",
        "\n",
        "1.   Bag of words\n",
        "2.   Tf-idf (Term Frequency-Inverse Document Frequency)\n",
        "3.   GloVe word embedding\n",
        "4.   Word2vec embedding\n",
        "\n",
        "\n",
        "Before going for these, lets first split the dataset in training and testing.\n"
      ],
      "metadata": {
        "id": "KeVgwA8Ydivp"
      }
    },
    {
      "cell_type": "markdown",
      "source": [
        "importing libraries"
      ],
      "metadata": {
        "id": "q9_NEH3fepnc"
      }
    },
    {
      "cell_type": "code",
      "source": [
        "from sklearn.model_selection import train_test_split"
      ],
      "metadata": {
        "id": "XwSyuVhveniE"
      },
      "execution_count": 31,
      "outputs": []
    },
    {
      "cell_type": "markdown",
      "source": [
        "Firstly, encoding the sentiment column."
      ],
      "metadata": {
        "id": "c9H2qB3-bS3u"
      }
    },
    {
      "cell_type": "code",
      "source": [
        "basic_clean_df['sentiment'] = basic_clean_df['sentiment'].replace({'religion':0,'age':1,'ethnicity':2,'gender':3,'not_cyberbullying':4})"
      ],
      "metadata": {
        "id": "rdLsARD4bSSt"
      },
      "execution_count": 32,
      "outputs": []
    },
    {
      "cell_type": "code",
      "source": [
        "basic_clean_df['sentiment'].value_counts()"
      ],
      "metadata": {
        "colab": {
          "base_uri": "https://localhost:8080/"
        },
        "id": "XuXppoZ0dLj-",
        "outputId": "9ad5e9bc-bc66-40e3-f9aa-01dde5506a54"
      },
      "execution_count": 33,
      "outputs": [
        {
          "output_type": "execute_result",
          "data": {
            "text/plain": [
              "0    7948\n",
              "1    7897\n",
              "2    7748\n",
              "4    7645\n",
              "3    7613\n",
              "Name: sentiment, dtype: int64"
            ]
          },
          "metadata": {},
          "execution_count": 33
        }
      ]
    },
    {
      "cell_type": "markdown",
      "source": [
        "Train/test split"
      ],
      "metadata": {
        "id": "NkLD2rB5dWK0"
      }
    },
    {
      "cell_type": "code",
      "source": [
        "# For X - dropping sentiment column \n",
        "X = basic_clean_df.drop(columns='sentiment');\n",
        "# y = sentiments\n",
        "y = basic_clean_df['sentiment']\n",
        "# Splitting 20% test and 80% train\n",
        "X_train,X_test,y_train,y_test = train_test_split(X, y, test_size=0.2, stratify=y, random_state = 42);\n",
        "print(X_train.shape, X_test.shape, y_train.shape, y_test.shape);"
      ],
      "metadata": {
        "colab": {
          "base_uri": "https://localhost:8080/"
        },
        "id": "03hUKLEvbLKd",
        "outputId": "f2fc6043-6c60-4fee-dc73-5932c32c65fc"
      },
      "execution_count": 34,
      "outputs": [
        {
          "output_type": "stream",
          "name": "stdout",
          "text": [
            "(31080, 5) (7771, 5) (31080,) (7771,)\n"
          ]
        }
      ]
    },
    {
      "cell_type": "markdown",
      "source": [
        "Defining different varaiables for Stemming,lemmatization and lemma_stem\n"
      ],
      "metadata": {
        "id": "nH9sR31jtSe_"
      }
    },
    {
      "cell_type": "code",
      "source": [
        "# For training -\n",
        "X_stem_train = X_train['Stemming']\n",
        "X_lemma_train = X_train['Lemmatization']\n",
        "X_lemmaStem_train = X_train['Lemma_Stemming']\n",
        "\n",
        "# For testing -\n",
        "X_stem_test = X_test['Stemming']\n",
        "X_lemma_test = X_test['Lemmatization']\n",
        "X_lemmaStem_test = X_test['Lemma_Stemming']\n",
        "\n",
        "print(X_stem_train.shape,X_lemma_train.shape,X_lemmaStem_train.shape)\n",
        "print(X_stem_test.shape,X_lemma_test.shape,X_lemmaStem_test.shape)"
      ],
      "metadata": {
        "colab": {
          "base_uri": "https://localhost:8080/"
        },
        "id": "OoGRKtZHtw7x",
        "outputId": "b1a261b8-e95c-46c8-881d-e98932d84a14"
      },
      "execution_count": 35,
      "outputs": [
        {
          "output_type": "stream",
          "name": "stdout",
          "text": [
            "(31080,) (31080,) (31080,)\n",
            "(7771,) (7771,) (7771,)\n"
          ]
        }
      ]
    },
    {
      "cell_type": "markdown",
      "source": [
        "Now, we will use above vairables for different embedings."
      ],
      "metadata": {
        "id": "YvQNE57yuevn"
      }
    },
    {
      "cell_type": "markdown",
      "source": [
        "### Bag of words"
      ],
      "metadata": {
        "id": "6-WZIFUJfBWa"
      }
    },
    {
      "cell_type": "markdown",
      "source": [
        "importing CountVectorizer"
      ],
      "metadata": {
        "id": "AkyzFCYAgHbf"
      }
    },
    {
      "cell_type": "code",
      "source": [
        "from sklearn.feature_extraction.text import CountVectorizer"
      ],
      "metadata": {
        "id": "7Fv6MMUTgGiv"
      },
      "execution_count": 36,
      "outputs": []
    },
    {
      "cell_type": "markdown",
      "source": [
        "Creating objects of CountVectorizer"
      ],
      "metadata": {
        "id": "_q0oM582vBgp"
      }
    },
    {
      "cell_type": "code",
      "source": [
        "bow1 = CountVectorizer();\n",
        "bow2 = CountVectorizer();\n",
        "bow3 = CountVectorizer();\n",
        "# for stemming\n",
        "bow_cv1 = bow1.fit_transform(X_stem_train);\n",
        "# for lemmatization\n",
        "bow_cv2 = bow2.fit_transform(X_lemma_train);\n",
        "# for lemma-stemming\n",
        "bow_cv3 = bow3.fit_transform(X_lemmaStem_train);\n",
        "\n",
        "print(bow_cv1.shape);\n",
        "print(bow_cv2.shape);\n",
        "print(bow_cv3.shape);"
      ],
      "metadata": {
        "id": "g8y5bWgGfQyR",
        "colab": {
          "base_uri": "https://localhost:8080/"
        },
        "outputId": "b5078ad1-9ab1-47b8-924b-11798f5a291b"
      },
      "execution_count": 37,
      "outputs": [
        {
          "output_type": "stream",
          "name": "stdout",
          "text": [
            "(31080, 29153)\n",
            "(31080, 34843)\n",
            "(31080, 28992)\n"
          ]
        }
      ]
    },
    {
      "cell_type": "markdown",
      "source": [
        "### Tf-idf (Term Frequency-Inverse Document Frequency)"
      ],
      "metadata": {
        "id": "BaEUGpJPfF1K"
      }
    },
    {
      "cell_type": "markdown",
      "source": [
        "importing TfidfTransformer"
      ],
      "metadata": {
        "id": "hiaHOCPexV4v"
      }
    },
    {
      "cell_type": "code",
      "source": [
        "from sklearn.feature_extraction.text import TfidfTransformer"
      ],
      "metadata": {
        "id": "yV69lxLSdh7K"
      },
      "execution_count": 38,
      "outputs": []
    },
    {
      "cell_type": "markdown",
      "source": [
        "Creating objects of TfidfTransformer"
      ],
      "metadata": {
        "id": "lIpw0Kajxt8_"
      }
    },
    {
      "cell_type": "code",
      "source": [
        "tfid1 = TfidfTransformer(use_idf=True).fit(bow_cv1)\n",
        "tfid2 = TfidfTransformer(use_idf=True).fit(bow_cv2)\n",
        "tfid3 = TfidfTransformer(use_idf=True).fit(bow_cv3)\n",
        "# for stemming\n",
        "tf_cv1 = tfid1.transform(bow_cv1);\n",
        "# for lemmatization\n",
        "tf_cv2 = tfid2.transform(bow_cv2);\n",
        "# for lemma-stemming\n",
        "tf_cv3 = tfid3.transform(bow_cv3);\n",
        "\n",
        "print(tf_cv1.shape);\n",
        "print(tf_cv2.shape);\n",
        "print(tf_cv3.shape);"
      ],
      "metadata": {
        "id": "D7uEUDGIx6ES",
        "colab": {
          "base_uri": "https://localhost:8080/"
        },
        "outputId": "e39addaf-aa85-4a20-b653-f31d51515e5d"
      },
      "execution_count": 39,
      "outputs": [
        {
          "output_type": "stream",
          "name": "stdout",
          "text": [
            "(31080, 29153)\n",
            "(31080, 34843)\n",
            "(31080, 28992)\n"
          ]
        }
      ]
    },
    {
      "cell_type": "markdown",
      "source": [
        "### GloVe (Global Vectors) Word Embedding"
      ],
      "metadata": {
        "id": "mAtChbWFNQ3-"
      }
    },
    {
      "cell_type": "markdown",
      "source": [
        "Downloading glove python library"
      ],
      "metadata": {
        "id": "zY3w3NPSP4qC"
      }
    },
    {
      "cell_type": "code",
      "source": [
        "! pip install glove-python-binary"
      ],
      "metadata": {
        "id": "ouIy51pgNv5u",
        "outputId": "59d2b4bf-82aa-4ef5-bda0-3c3e2e1eb7da",
        "colab": {
          "base_uri": "https://localhost:8080/"
        }
      },
      "execution_count": 40,
      "outputs": [
        {
          "output_type": "stream",
          "name": "stdout",
          "text": [
            "Collecting glove-python-binary\n",
            "  Downloading glove_python_binary-0.2.0-cp37-cp37m-manylinux1_x86_64.whl (948 kB)\n",
            "\u001b[?25l\r\u001b[K     |▍                               | 10 kB 23.0 MB/s eta 0:00:01\r\u001b[K     |▊                               | 20 kB 15.7 MB/s eta 0:00:01\r\u001b[K     |█                               | 30 kB 10.9 MB/s eta 0:00:01\r\u001b[K     |█▍                              | 40 kB 9.3 MB/s eta 0:00:01\r\u001b[K     |█▊                              | 51 kB 4.3 MB/s eta 0:00:01\r\u001b[K     |██                              | 61 kB 5.1 MB/s eta 0:00:01\r\u001b[K     |██▍                             | 71 kB 5.6 MB/s eta 0:00:01\r\u001b[K     |██▊                             | 81 kB 5.8 MB/s eta 0:00:01\r\u001b[K     |███                             | 92 kB 6.4 MB/s eta 0:00:01\r\u001b[K     |███▌                            | 102 kB 4.8 MB/s eta 0:00:01\r\u001b[K     |███▉                            | 112 kB 4.8 MB/s eta 0:00:01\r\u001b[K     |████▏                           | 122 kB 4.8 MB/s eta 0:00:01\r\u001b[K     |████▌                           | 133 kB 4.8 MB/s eta 0:00:01\r\u001b[K     |████▉                           | 143 kB 4.8 MB/s eta 0:00:01\r\u001b[K     |█████▏                          | 153 kB 4.8 MB/s eta 0:00:01\r\u001b[K     |█████▌                          | 163 kB 4.8 MB/s eta 0:00:01\r\u001b[K     |█████▉                          | 174 kB 4.8 MB/s eta 0:00:01\r\u001b[K     |██████▏                         | 184 kB 4.8 MB/s eta 0:00:01\r\u001b[K     |██████▋                         | 194 kB 4.8 MB/s eta 0:00:01\r\u001b[K     |███████                         | 204 kB 4.8 MB/s eta 0:00:01\r\u001b[K     |███████▎                        | 215 kB 4.8 MB/s eta 0:00:01\r\u001b[K     |███████▋                        | 225 kB 4.8 MB/s eta 0:00:01\r\u001b[K     |████████                        | 235 kB 4.8 MB/s eta 0:00:01\r\u001b[K     |████████▎                       | 245 kB 4.8 MB/s eta 0:00:01\r\u001b[K     |████████▋                       | 256 kB 4.8 MB/s eta 0:00:01\r\u001b[K     |█████████                       | 266 kB 4.8 MB/s eta 0:00:01\r\u001b[K     |█████████▎                      | 276 kB 4.8 MB/s eta 0:00:01\r\u001b[K     |█████████▊                      | 286 kB 4.8 MB/s eta 0:00:01\r\u001b[K     |██████████                      | 296 kB 4.8 MB/s eta 0:00:01\r\u001b[K     |██████████▍                     | 307 kB 4.8 MB/s eta 0:00:01\r\u001b[K     |██████████▊                     | 317 kB 4.8 MB/s eta 0:00:01\r\u001b[K     |███████████                     | 327 kB 4.8 MB/s eta 0:00:01\r\u001b[K     |███████████▍                    | 337 kB 4.8 MB/s eta 0:00:01\r\u001b[K     |███████████▊                    | 348 kB 4.8 MB/s eta 0:00:01\r\u001b[K     |████████████                    | 358 kB 4.8 MB/s eta 0:00:01\r\u001b[K     |████████████▍                   | 368 kB 4.8 MB/s eta 0:00:01\r\u001b[K     |████████████▊                   | 378 kB 4.8 MB/s eta 0:00:01\r\u001b[K     |█████████████▏                  | 389 kB 4.8 MB/s eta 0:00:01\r\u001b[K     |█████████████▌                  | 399 kB 4.8 MB/s eta 0:00:01\r\u001b[K     |█████████████▉                  | 409 kB 4.8 MB/s eta 0:00:01\r\u001b[K     |██████████████▏                 | 419 kB 4.8 MB/s eta 0:00:01\r\u001b[K     |██████████████▌                 | 430 kB 4.8 MB/s eta 0:00:01\r\u001b[K     |██████████████▉                 | 440 kB 4.8 MB/s eta 0:00:01\r\u001b[K     |███████████████▏                | 450 kB 4.8 MB/s eta 0:00:01\r\u001b[K     |███████████████▌                | 460 kB 4.8 MB/s eta 0:00:01\r\u001b[K     |███████████████▉                | 471 kB 4.8 MB/s eta 0:00:01\r\u001b[K     |████████████████▎               | 481 kB 4.8 MB/s eta 0:00:01\r\u001b[K     |████████████████▋               | 491 kB 4.8 MB/s eta 0:00:01\r\u001b[K     |█████████████████               | 501 kB 4.8 MB/s eta 0:00:01\r\u001b[K     |█████████████████▎              | 512 kB 4.8 MB/s eta 0:00:01\r\u001b[K     |█████████████████▋              | 522 kB 4.8 MB/s eta 0:00:01\r\u001b[K     |██████████████████              | 532 kB 4.8 MB/s eta 0:00:01\r\u001b[K     |██████████████████▎             | 542 kB 4.8 MB/s eta 0:00:01\r\u001b[K     |██████████████████▋             | 552 kB 4.8 MB/s eta 0:00:01\r\u001b[K     |███████████████████             | 563 kB 4.8 MB/s eta 0:00:01\r\u001b[K     |███████████████████▍            | 573 kB 4.8 MB/s eta 0:00:01\r\u001b[K     |███████████████████▊            | 583 kB 4.8 MB/s eta 0:00:01\r\u001b[K     |████████████████████            | 593 kB 4.8 MB/s eta 0:00:01\r\u001b[K     |████████████████████▍           | 604 kB 4.8 MB/s eta 0:00:01\r\u001b[K     |████████████████████▊           | 614 kB 4.8 MB/s eta 0:00:01\r\u001b[K     |█████████████████████           | 624 kB 4.8 MB/s eta 0:00:01\r\u001b[K     |█████████████████████▍          | 634 kB 4.8 MB/s eta 0:00:01\r\u001b[K     |█████████████████████▊          | 645 kB 4.8 MB/s eta 0:00:01\r\u001b[K     |██████████████████████          | 655 kB 4.8 MB/s eta 0:00:01\r\u001b[K     |██████████████████████▌         | 665 kB 4.8 MB/s eta 0:00:01\r\u001b[K     |██████████████████████▉         | 675 kB 4.8 MB/s eta 0:00:01\r\u001b[K     |███████████████████████▏        | 686 kB 4.8 MB/s eta 0:00:01\r\u001b[K     |███████████████████████▌        | 696 kB 4.8 MB/s eta 0:00:01\r\u001b[K     |███████████████████████▉        | 706 kB 4.8 MB/s eta 0:00:01\r\u001b[K     |████████████████████████▏       | 716 kB 4.8 MB/s eta 0:00:01\r\u001b[K     |████████████████████████▌       | 727 kB 4.8 MB/s eta 0:00:01\r\u001b[K     |████████████████████████▉       | 737 kB 4.8 MB/s eta 0:00:01\r\u001b[K     |█████████████████████████▏      | 747 kB 4.8 MB/s eta 0:00:01\r\u001b[K     |█████████████████████████▌      | 757 kB 4.8 MB/s eta 0:00:01\r\u001b[K     |██████████████████████████      | 768 kB 4.8 MB/s eta 0:00:01\r\u001b[K     |██████████████████████████▎     | 778 kB 4.8 MB/s eta 0:00:01\r\u001b[K     |██████████████████████████▋     | 788 kB 4.8 MB/s eta 0:00:01\r\u001b[K     |███████████████████████████     | 798 kB 4.8 MB/s eta 0:00:01\r\u001b[K     |███████████████████████████▎    | 808 kB 4.8 MB/s eta 0:00:01\r\u001b[K     |███████████████████████████▋    | 819 kB 4.8 MB/s eta 0:00:01\r\u001b[K     |████████████████████████████    | 829 kB 4.8 MB/s eta 0:00:01\r\u001b[K     |████████████████████████████▎   | 839 kB 4.8 MB/s eta 0:00:01\r\u001b[K     |████████████████████████████▋   | 849 kB 4.8 MB/s eta 0:00:01\r\u001b[K     |█████████████████████████████   | 860 kB 4.8 MB/s eta 0:00:01\r\u001b[K     |█████████████████████████████▍  | 870 kB 4.8 MB/s eta 0:00:01\r\u001b[K     |█████████████████████████████▊  | 880 kB 4.8 MB/s eta 0:00:01\r\u001b[K     |██████████████████████████████  | 890 kB 4.8 MB/s eta 0:00:01\r\u001b[K     |██████████████████████████████▍ | 901 kB 4.8 MB/s eta 0:00:01\r\u001b[K     |██████████████████████████████▊ | 911 kB 4.8 MB/s eta 0:00:01\r\u001b[K     |███████████████████████████████ | 921 kB 4.8 MB/s eta 0:00:01\r\u001b[K     |███████████████████████████████▍| 931 kB 4.8 MB/s eta 0:00:01\r\u001b[K     |███████████████████████████████▊| 942 kB 4.8 MB/s eta 0:00:01\r\u001b[K     |████████████████████████████████| 948 kB 4.8 MB/s \n",
            "\u001b[?25hRequirement already satisfied: numpy in /usr/local/lib/python3.7/dist-packages (from glove-python-binary) (1.21.5)\n",
            "Requirement already satisfied: scipy in /usr/local/lib/python3.7/dist-packages (from glove-python-binary) (1.4.1)\n",
            "Installing collected packages: glove-python-binary\n",
            "Successfully installed glove-python-binary-0.2.0\n"
          ]
        }
      ]
    },
    {
      "cell_type": "markdown",
      "source": [
        "Creating two lists- tweet_text and tweet_sentiment to store stemmed tweets and its corresponding sentiment so that we can train glove embeddings."
      ],
      "metadata": {
        "id": "V5F3Q2YQRn2n"
      }
    },
    {
      "cell_type": "code",
      "source": [
        "size = len(basic_clean_df)\n",
        "tweet_text = []\n",
        "tweet_sentiment = []\n",
        "for key, value in basic_clean_df.iterrows():\n",
        "  tweet = value['Stemming'].split()\n",
        "  tweet_text.append(tweet)\n",
        "  tweet_sentiment.append(value['sentiment'])"
      ],
      "metadata": {
        "id": "pLXw_koKQFvf"
      },
      "execution_count": 41,
      "outputs": []
    },
    {
      "cell_type": "markdown",
      "source": [
        "Now training glove to create embeddings"
      ],
      "metadata": {
        "id": "QDukWrtuSnCt"
      }
    },
    {
      "cell_type": "code",
      "source": [
        "from glove import Corpus, Glove\n",
        "\n",
        "corpus = Corpus()  # Creating a corpus object that will generate the co-occurence matrix\n",
        "corpus.fit(tweet_text, window = 10)  # Training the corpus to generate the co-occurence matrix that will be used by GloVe\n",
        "glove = Glove(no_components=5, learning_rate=0.05)  # Creating a glove object that will use the matrix created above to create embeddings\n",
        "glove.fit(corpus.matrix, epochs=30, no_threads=4, verbose=True)  # Training glove to create embeddings\n",
        "glove.add_dictionary(corpus.dictionary)  # Adding corpus dictionary to glove dictionary\n",
        "glove.save('glove.model')  # Saving the model"
      ],
      "metadata": {
        "id": "7pdapjaMSWGG",
        "outputId": "06bcf8a6-8809-4aba-98f3-10620a5ddb11",
        "colab": {
          "base_uri": "https://localhost:8080/"
        }
      },
      "execution_count": 42,
      "outputs": [
        {
          "output_type": "stream",
          "name": "stdout",
          "text": [
            "Performing 30 training epochs with 4 threads\n",
            "Epoch 0\n",
            "Epoch 1\n",
            "Epoch 2\n",
            "Epoch 3\n",
            "Epoch 4\n",
            "Epoch 5\n",
            "Epoch 6\n",
            "Epoch 7\n",
            "Epoch 8\n",
            "Epoch 9\n",
            "Epoch 10\n",
            "Epoch 11\n",
            "Epoch 12\n",
            "Epoch 13\n",
            "Epoch 14\n",
            "Epoch 15\n",
            "Epoch 16\n",
            "Epoch 17\n",
            "Epoch 18\n",
            "Epoch 19\n",
            "Epoch 20\n",
            "Epoch 21\n",
            "Epoch 22\n",
            "Epoch 23\n",
            "Epoch 24\n",
            "Epoch 25\n",
            "Epoch 26\n",
            "Epoch 27\n",
            "Epoch 28\n",
            "Epoch 29\n"
          ]
        }
      ]
    },
    {
      "cell_type": "markdown",
      "source": [
        "Iterating over stemmed tweets and storing the word embeddings in a list"
      ],
      "metadata": {
        "id": "VJ5ExAOLVQgF"
      }
    },
    {
      "cell_type": "code",
      "source": [
        "word_embeddings = []\n",
        "for key, value in basic_clean_df.iterrows():\n",
        "  words = value['Stemming'].split()\n",
        "  embedding = np.zeros(5)\n",
        "  for j in range(len(words)):  # Iterating over all words in the tweet to calculate mean of GloVe embedding\n",
        "    embedding += np.array(glove.word_vectors[glove.dictionary[words[j]]])\n",
        "  embedding = embedding/len(words)\n",
        "  word_embeddings.append(embedding)"
      ],
      "metadata": {
        "id": "6hKsv5QEU9rV"
      },
      "execution_count": 43,
      "outputs": []
    },
    {
      "cell_type": "markdown",
      "source": [
        "Creating a dataframe for word embeddings and their corresponding sentiment"
      ],
      "metadata": {
        "id": "lbgSXivQWTz7"
      }
    },
    {
      "cell_type": "code",
      "source": [
        "embeddings_df = pd.DataFrame(word_embeddings, columns = ['col1', 'col2', 'col3', 'col4', 'col5'])\n",
        "embeddings_df['sentiments'] = tweet_sentiment\n",
        "embeddings_df"
      ],
      "metadata": {
        "id": "PYUYwnsaWbz9",
        "outputId": "b3eca49e-2b85-40e4-9093-b64ee5f662de",
        "colab": {
          "base_uri": "https://localhost:8080/",
          "height": 423
        }
      },
      "execution_count": 44,
      "outputs": [
        {
          "output_type": "execute_result",
          "data": {
            "text/plain": [
              "           col1      col2      col3      col4      col5  sentiments\n",
              "0     -0.377986 -0.179136  0.087465  0.423714 -0.134994           4\n",
              "1     -0.262162 -0.164333 -0.069281  0.309156 -0.037773           4\n",
              "2     -0.048713 -0.021333 -0.224801 -0.002403  0.229371           4\n",
              "3     -0.393981 -0.230026 -0.293935  0.305426 -0.094712           4\n",
              "4     -0.610697 -0.434995  0.105873  0.617753  0.049282           4\n",
              "...         ...       ...       ...       ...       ...         ...\n",
              "38846 -0.395493 -0.338645 -0.056625  0.486092 -0.024259           2\n",
              "38847 -0.324317 -0.252943 -0.165310  0.366207  0.073252           2\n",
              "38848 -0.595994 -0.314715 -0.681478  0.522364  0.357187           2\n",
              "38849 -0.988321 -0.634914 -1.135660  0.789943  0.876314           2\n",
              "38850 -0.752880 -0.444715 -0.859000  0.671246  0.479347           2\n",
              "\n",
              "[38851 rows x 6 columns]"
            ],
            "text/html": [
              "\n",
              "  <div id=\"df-06f4709d-0838-4c68-811e-34228f826367\">\n",
              "    <div class=\"colab-df-container\">\n",
              "      <div>\n",
              "<style scoped>\n",
              "    .dataframe tbody tr th:only-of-type {\n",
              "        vertical-align: middle;\n",
              "    }\n",
              "\n",
              "    .dataframe tbody tr th {\n",
              "        vertical-align: top;\n",
              "    }\n",
              "\n",
              "    .dataframe thead th {\n",
              "        text-align: right;\n",
              "    }\n",
              "</style>\n",
              "<table border=\"1\" class=\"dataframe\">\n",
              "  <thead>\n",
              "    <tr style=\"text-align: right;\">\n",
              "      <th></th>\n",
              "      <th>col1</th>\n",
              "      <th>col2</th>\n",
              "      <th>col3</th>\n",
              "      <th>col4</th>\n",
              "      <th>col5</th>\n",
              "      <th>sentiments</th>\n",
              "    </tr>\n",
              "  </thead>\n",
              "  <tbody>\n",
              "    <tr>\n",
              "      <th>0</th>\n",
              "      <td>-0.377986</td>\n",
              "      <td>-0.179136</td>\n",
              "      <td>0.087465</td>\n",
              "      <td>0.423714</td>\n",
              "      <td>-0.134994</td>\n",
              "      <td>4</td>\n",
              "    </tr>\n",
              "    <tr>\n",
              "      <th>1</th>\n",
              "      <td>-0.262162</td>\n",
              "      <td>-0.164333</td>\n",
              "      <td>-0.069281</td>\n",
              "      <td>0.309156</td>\n",
              "      <td>-0.037773</td>\n",
              "      <td>4</td>\n",
              "    </tr>\n",
              "    <tr>\n",
              "      <th>2</th>\n",
              "      <td>-0.048713</td>\n",
              "      <td>-0.021333</td>\n",
              "      <td>-0.224801</td>\n",
              "      <td>-0.002403</td>\n",
              "      <td>0.229371</td>\n",
              "      <td>4</td>\n",
              "    </tr>\n",
              "    <tr>\n",
              "      <th>3</th>\n",
              "      <td>-0.393981</td>\n",
              "      <td>-0.230026</td>\n",
              "      <td>-0.293935</td>\n",
              "      <td>0.305426</td>\n",
              "      <td>-0.094712</td>\n",
              "      <td>4</td>\n",
              "    </tr>\n",
              "    <tr>\n",
              "      <th>4</th>\n",
              "      <td>-0.610697</td>\n",
              "      <td>-0.434995</td>\n",
              "      <td>0.105873</td>\n",
              "      <td>0.617753</td>\n",
              "      <td>0.049282</td>\n",
              "      <td>4</td>\n",
              "    </tr>\n",
              "    <tr>\n",
              "      <th>...</th>\n",
              "      <td>...</td>\n",
              "      <td>...</td>\n",
              "      <td>...</td>\n",
              "      <td>...</td>\n",
              "      <td>...</td>\n",
              "      <td>...</td>\n",
              "    </tr>\n",
              "    <tr>\n",
              "      <th>38846</th>\n",
              "      <td>-0.395493</td>\n",
              "      <td>-0.338645</td>\n",
              "      <td>-0.056625</td>\n",
              "      <td>0.486092</td>\n",
              "      <td>-0.024259</td>\n",
              "      <td>2</td>\n",
              "    </tr>\n",
              "    <tr>\n",
              "      <th>38847</th>\n",
              "      <td>-0.324317</td>\n",
              "      <td>-0.252943</td>\n",
              "      <td>-0.165310</td>\n",
              "      <td>0.366207</td>\n",
              "      <td>0.073252</td>\n",
              "      <td>2</td>\n",
              "    </tr>\n",
              "    <tr>\n",
              "      <th>38848</th>\n",
              "      <td>-0.595994</td>\n",
              "      <td>-0.314715</td>\n",
              "      <td>-0.681478</td>\n",
              "      <td>0.522364</td>\n",
              "      <td>0.357187</td>\n",
              "      <td>2</td>\n",
              "    </tr>\n",
              "    <tr>\n",
              "      <th>38849</th>\n",
              "      <td>-0.988321</td>\n",
              "      <td>-0.634914</td>\n",
              "      <td>-1.135660</td>\n",
              "      <td>0.789943</td>\n",
              "      <td>0.876314</td>\n",
              "      <td>2</td>\n",
              "    </tr>\n",
              "    <tr>\n",
              "      <th>38850</th>\n",
              "      <td>-0.752880</td>\n",
              "      <td>-0.444715</td>\n",
              "      <td>-0.859000</td>\n",
              "      <td>0.671246</td>\n",
              "      <td>0.479347</td>\n",
              "      <td>2</td>\n",
              "    </tr>\n",
              "  </tbody>\n",
              "</table>\n",
              "<p>38851 rows × 6 columns</p>\n",
              "</div>\n",
              "      <button class=\"colab-df-convert\" onclick=\"convertToInteractive('df-06f4709d-0838-4c68-811e-34228f826367')\"\n",
              "              title=\"Convert this dataframe to an interactive table.\"\n",
              "              style=\"display:none;\">\n",
              "        \n",
              "  <svg xmlns=\"http://www.w3.org/2000/svg\" height=\"24px\"viewBox=\"0 0 24 24\"\n",
              "       width=\"24px\">\n",
              "    <path d=\"M0 0h24v24H0V0z\" fill=\"none\"/>\n",
              "    <path d=\"M18.56 5.44l.94 2.06.94-2.06 2.06-.94-2.06-.94-.94-2.06-.94 2.06-2.06.94zm-11 1L8.5 8.5l.94-2.06 2.06-.94-2.06-.94L8.5 2.5l-.94 2.06-2.06.94zm10 10l.94 2.06.94-2.06 2.06-.94-2.06-.94-.94-2.06-.94 2.06-2.06.94z\"/><path d=\"M17.41 7.96l-1.37-1.37c-.4-.4-.92-.59-1.43-.59-.52 0-1.04.2-1.43.59L10.3 9.45l-7.72 7.72c-.78.78-.78 2.05 0 2.83L4 21.41c.39.39.9.59 1.41.59.51 0 1.02-.2 1.41-.59l7.78-7.78 2.81-2.81c.8-.78.8-2.07 0-2.86zM5.41 20L4 18.59l7.72-7.72 1.47 1.35L5.41 20z\"/>\n",
              "  </svg>\n",
              "      </button>\n",
              "      \n",
              "  <style>\n",
              "    .colab-df-container {\n",
              "      display:flex;\n",
              "      flex-wrap:wrap;\n",
              "      gap: 12px;\n",
              "    }\n",
              "\n",
              "    .colab-df-convert {\n",
              "      background-color: #E8F0FE;\n",
              "      border: none;\n",
              "      border-radius: 50%;\n",
              "      cursor: pointer;\n",
              "      display: none;\n",
              "      fill: #1967D2;\n",
              "      height: 32px;\n",
              "      padding: 0 0 0 0;\n",
              "      width: 32px;\n",
              "    }\n",
              "\n",
              "    .colab-df-convert:hover {\n",
              "      background-color: #E2EBFA;\n",
              "      box-shadow: 0px 1px 2px rgba(60, 64, 67, 0.3), 0px 1px 3px 1px rgba(60, 64, 67, 0.15);\n",
              "      fill: #174EA6;\n",
              "    }\n",
              "\n",
              "    [theme=dark] .colab-df-convert {\n",
              "      background-color: #3B4455;\n",
              "      fill: #D2E3FC;\n",
              "    }\n",
              "\n",
              "    [theme=dark] .colab-df-convert:hover {\n",
              "      background-color: #434B5C;\n",
              "      box-shadow: 0px 1px 3px 1px rgba(0, 0, 0, 0.15);\n",
              "      filter: drop-shadow(0px 1px 2px rgba(0, 0, 0, 0.3));\n",
              "      fill: #FFFFFF;\n",
              "    }\n",
              "  </style>\n",
              "\n",
              "      <script>\n",
              "        const buttonEl =\n",
              "          document.querySelector('#df-06f4709d-0838-4c68-811e-34228f826367 button.colab-df-convert');\n",
              "        buttonEl.style.display =\n",
              "          google.colab.kernel.accessAllowed ? 'block' : 'none';\n",
              "\n",
              "        async function convertToInteractive(key) {\n",
              "          const element = document.querySelector('#df-06f4709d-0838-4c68-811e-34228f826367');\n",
              "          const dataTable =\n",
              "            await google.colab.kernel.invokeFunction('convertToInteractive',\n",
              "                                                     [key], {});\n",
              "          if (!dataTable) return;\n",
              "\n",
              "          const docLinkHtml = 'Like what you see? Visit the ' +\n",
              "            '<a target=\"_blank\" href=https://colab.research.google.com/notebooks/data_table.ipynb>data table notebook</a>'\n",
              "            + ' to learn more about interactive tables.';\n",
              "          element.innerHTML = '';\n",
              "          dataTable['output_type'] = 'display_data';\n",
              "          await google.colab.output.renderOutput(dataTable, element);\n",
              "          const docLink = document.createElement('div');\n",
              "          docLink.innerHTML = docLinkHtml;\n",
              "          element.appendChild(docLink);\n",
              "        }\n",
              "      </script>\n",
              "    </div>\n",
              "  </div>\n",
              "  "
            ]
          },
          "metadata": {},
          "execution_count": 44
        }
      ]
    },
    {
      "cell_type": "markdown",
      "source": [
        "# Baseline technique - Naive Bayes"
      ],
      "metadata": {
        "id": "mMOo_42f78PK"
      }
    },
    {
      "cell_type": "markdown",
      "source": [
        "### Importing multinomial naive bayes"
      ],
      "metadata": {
        "id": "WB0YkX3y8R_b"
      }
    },
    {
      "cell_type": "code",
      "source": [
        "from sklearn.naive_bayes import MultinomialNB"
      ],
      "metadata": {
        "id": "HbG47j9K8syz"
      },
      "execution_count": 45,
      "outputs": []
    },
    {
      "cell_type": "markdown",
      "source": [
        "## Transforming set testing for different word embeddings\n"
      ],
      "metadata": {
        "id": "Z8d8_u0t87Zo"
      }
    },
    {
      "cell_type": "code",
      "source": [
        "# For Bag of words \n",
        "bow_cv1_test = bow1.transform(X_stem_test)\n",
        "bow_cv2_test = bow2.transform(X_lemma_test)\n",
        "bow_cv3_test = bow3.transform(X_lemmaStem_test)\n",
        "\n",
        "# For Tf-idf\n",
        "tf_cv1_test = tfid1.transform(bow_cv1_test);\n",
        "tf_cv2_test = tfid2.transform(bow_cv2_test);\n",
        "tf_cv3_test = tfid3.transform(bow_cv3_test);\n",
        "\n",
        "print(bow_cv1_test.shape,bow_cv2_test.shape,bow_cv3_test.shape);\n",
        "print(tf_cv1_test.shape,tf_cv2_test.shape,tf_cv3_test.shape);"
      ],
      "metadata": {
        "colab": {
          "base_uri": "https://localhost:8080/"
        },
        "id": "71KWnskP9QL1",
        "outputId": "aa6c4eb2-2d54-4925-8a3d-d2129c5081e9"
      },
      "execution_count": 46,
      "outputs": [
        {
          "output_type": "stream",
          "name": "stdout",
          "text": [
            "(7771, 29153) (7771, 34843) (7771, 28992)\n",
            "(7771, 29153) (7771, 34843) (7771, 28992)\n"
          ]
        }
      ]
    },
    {
      "cell_type": "markdown",
      "source": [
        "## Creating models"
      ],
      "metadata": {
        "id": "9TmKjke3Acts"
      }
    },
    {
      "cell_type": "code",
      "source": [
        "# For bag of words - \n",
        "nb_bow_stem = MultinomialNB();\n",
        "nb_bow_lemma = MultinomialNB();\n",
        "nb_bow_lemmaStem = MultinomialNB();\n",
        "\n",
        "# for tf-idf - \n",
        "nb_tf_stem = MultinomialNB();\n",
        "nb_tf_lemma = MultinomialNB();\n",
        "nb_tf_lemmaStem = MultinomialNB();"
      ],
      "metadata": {
        "id": "9RnwDAEfAfKm"
      },
      "execution_count": 47,
      "outputs": []
    },
    {
      "cell_type": "markdown",
      "source": [
        "## Training the models "
      ],
      "metadata": {
        "id": "p19fAhFvBY2K"
      }
    },
    {
      "cell_type": "code",
      "source": [
        "# For bag of words - \n",
        "nb_bow_stem.fit(bow_cv1,y_train);\n",
        "nb_bow_lemma.fit(bow_cv2,y_train);\n",
        "nb_bow_lemmaStem.fit(bow_cv3,y_train);\n",
        "\n",
        "# For tf-idf - \n",
        "nb_tf_stem.fit(tf_cv1,y_train);\n",
        "nb_tf_lemma.fit(tf_cv1,y_train);\n",
        "nb_tf_lemmaStem.fit(tf_cv1,y_train);"
      ],
      "metadata": {
        "id": "KtQQf0GoBbNI"
      },
      "execution_count": 48,
      "outputs": []
    },
    {
      "cell_type": "markdown",
      "source": [
        "## Predicting - "
      ],
      "metadata": {
        "id": "sgEl4GQMBKyM"
      }
    },
    {
      "cell_type": "code",
      "source": [
        "# For bag of words - \n",
        "nb_bow_stem_pred = nb_bow_stem.predict(bow_cv1_test);\n",
        "nb_bow_lemma_pred = nb_bow_lemma.predict(bow_cv2_test);\n",
        "nb_bow_lemmaStem_pred = nb_bow_lemmaStem.predict(bow_cv3_test);\n",
        "\n",
        "# For tf-idf - \n",
        "nb_tf_stem_pred = nb_tf_stem.predict(tf_cv1_test);\n",
        "nb_tf_lemma_pred = nb_tf_lemma.predict(tf_cv1_test);\n",
        "nb_tf_lemmaStem_pred = nb_tf_lemmaStem.predict(tf_cv1_test);"
      ],
      "metadata": {
        "id": "XHtfy11NBVAg"
      },
      "execution_count": 49,
      "outputs": []
    },
    {
      "cell_type": "markdown",
      "source": [
        "## Evaluation metrics"
      ],
      "metadata": {
        "id": "Udo8WdlVDs1D"
      }
    },
    {
      "cell_type": "markdown",
      "source": [
        "Importing evaluation metrics"
      ],
      "metadata": {
        "id": "nYAbIyWZEvVt"
      }
    },
    {
      "cell_type": "code",
      "source": [
        "from sklearn.metrics import classification_report, confusion_matrix"
      ],
      "metadata": {
        "id": "kNy85tb0FPz0"
      },
      "execution_count": 50,
      "outputs": []
    },
    {
      "cell_type": "markdown",
      "source": [
        "Printing reports"
      ],
      "metadata": {
        "id": "0jAJSSxxFTfl"
      }
    },
    {
      "cell_type": "code",
      "source": [
        "# For Bag of words - \n",
        "print('Classification Report for Naive Bayes on bag of word with stemming:\\n',classification_report(y_test, nb_bow_stem_pred))\n",
        "print('Classification Report for Naive Bayes on bag of word with lemmatization:\\n',classification_report(y_test, nb_bow_lemma_pred))\n",
        "print('Classification Report for Naive Bayes on bag of word with lemma_stemming:\\n',classification_report(y_test, nb_bow_lemmaStem_pred))\n",
        "\n",
        "\n",
        "# For Tf-idf - \n",
        "print('Classification Report for Naive Bayes on Ti-idf with stemming:\\n',classification_report(y_test, nb_tf_stem_pred))\n",
        "print('Classification Report for Naive Bayes on Ti-idf with lemmatization:\\n',classification_report(y_test, nb_tf_lemma_pred))\n",
        "print('Classification Report for Naive Bayes on Ti-idf with lemma_stemming:\\n',classification_report(y_test, nb_tf_lemmaStem_pred))"
      ],
      "metadata": {
        "colab": {
          "base_uri": "https://localhost:8080/"
        },
        "id": "sRGxsrt5EXfm",
        "outputId": "caac47ff-58a5-4b1b-acdf-2b2b2790169f"
      },
      "execution_count": 51,
      "outputs": [
        {
          "output_type": "stream",
          "name": "stdout",
          "text": [
            "Classification Report for Naive Bayes on bag of word with stemming:\n",
            "               precision    recall  f1-score   support\n",
            "\n",
            "           0       0.83      0.98      0.90      1590\n",
            "           1       0.81      0.99      0.89      1579\n",
            "           2       0.90      0.95      0.92      1550\n",
            "           3       0.87      0.84      0.86      1523\n",
            "           4       0.86      0.47      0.61      1529\n",
            "\n",
            "    accuracy                           0.85      7771\n",
            "   macro avg       0.85      0.85      0.84      7771\n",
            "weighted avg       0.85      0.85      0.84      7771\n",
            "\n",
            "Classification Report for Naive Bayes on bag of word with lemmatization:\n",
            "               precision    recall  f1-score   support\n",
            "\n",
            "           0       0.82      0.97      0.89      1590\n",
            "           1       0.82      0.99      0.89      1579\n",
            "           2       0.90      0.96      0.93      1550\n",
            "           3       0.87      0.85      0.86      1523\n",
            "           4       0.86      0.48      0.61      1529\n",
            "\n",
            "    accuracy                           0.85      7771\n",
            "   macro avg       0.85      0.85      0.84      7771\n",
            "weighted avg       0.85      0.85      0.84      7771\n",
            "\n",
            "Classification Report for Naive Bayes on bag of word with lemma_stemming:\n",
            "               precision    recall  f1-score   support\n",
            "\n",
            "           0       0.83      0.98      0.90      1590\n",
            "           1       0.81      0.99      0.89      1579\n",
            "           2       0.90      0.95      0.92      1550\n",
            "           3       0.88      0.84      0.86      1523\n",
            "           4       0.85      0.48      0.61      1529\n",
            "\n",
            "    accuracy                           0.85      7771\n",
            "   macro avg       0.85      0.85      0.84      7771\n",
            "weighted avg       0.85      0.85      0.84      7771\n",
            "\n",
            "Classification Report for Naive Bayes on Ti-idf with stemming:\n",
            "               precision    recall  f1-score   support\n",
            "\n",
            "           0       0.80      0.97      0.88      1590\n",
            "           1       0.77      0.98      0.86      1579\n",
            "           2       0.89      0.91      0.90      1550\n",
            "           3       0.87      0.84      0.86      1523\n",
            "           4       0.87      0.43      0.58      1529\n",
            "\n",
            "    accuracy                           0.83      7771\n",
            "   macro avg       0.84      0.83      0.82      7771\n",
            "weighted avg       0.84      0.83      0.82      7771\n",
            "\n",
            "Classification Report for Naive Bayes on Ti-idf with lemmatization:\n",
            "               precision    recall  f1-score   support\n",
            "\n",
            "           0       0.80      0.97      0.88      1590\n",
            "           1       0.77      0.98      0.86      1579\n",
            "           2       0.89      0.91      0.90      1550\n",
            "           3       0.87      0.84      0.86      1523\n",
            "           4       0.87      0.43      0.58      1529\n",
            "\n",
            "    accuracy                           0.83      7771\n",
            "   macro avg       0.84      0.83      0.82      7771\n",
            "weighted avg       0.84      0.83      0.82      7771\n",
            "\n",
            "Classification Report for Naive Bayes on Ti-idf with lemma_stemming:\n",
            "               precision    recall  f1-score   support\n",
            "\n",
            "           0       0.80      0.97      0.88      1590\n",
            "           1       0.77      0.98      0.86      1579\n",
            "           2       0.89      0.91      0.90      1550\n",
            "           3       0.87      0.84      0.86      1523\n",
            "           4       0.87      0.43      0.58      1529\n",
            "\n",
            "    accuracy                           0.83      7771\n",
            "   macro avg       0.84      0.83      0.82      7771\n",
            "weighted avg       0.84      0.83      0.82      7771\n",
            "\n"
          ]
        }
      ]
    },
    {
      "cell_type": "markdown",
      "source": [
        "## Training Gaussian Naive Bayes using GloVe Embedding"
      ],
      "metadata": {
        "id": "GB9y06AD4yO3"
      }
    },
    {
      "cell_type": "markdown",
      "source": [
        "Performing train-test split for using Gaussian Naive Bayes on glove embeddings"
      ],
      "metadata": {
        "id": "Qgy1ZmUWYw-C"
      }
    },
    {
      "cell_type": "code",
      "source": [
        "X = embeddings_df.drop(['sentiments'], axis=1)\n",
        "Y = embeddings_df['sentiments']\n",
        "X_train, X_test, Y_train, Y_test = train_test_split(X, Y, test_size = 0.2, random_state = 0)\n",
        "print(X_train.shape, X_test.shape)"
      ],
      "metadata": {
        "id": "g-6auuq-X1WU",
        "outputId": "d088fbdb-6d09-4027-941a-d42f02a1bbbc",
        "colab": {
          "base_uri": "https://localhost:8080/"
        }
      },
      "execution_count": 52,
      "outputs": [
        {
          "output_type": "stream",
          "name": "stdout",
          "text": [
            "(31080, 5) (7771, 5)\n"
          ]
        }
      ]
    },
    {
      "cell_type": "markdown",
      "source": [
        "Creating an object and training Gaussian Naive Bayes"
      ],
      "metadata": {
        "id": "Bwb9zRkGY-bq"
      }
    },
    {
      "cell_type": "code",
      "source": [
        "from sklearn.naive_bayes import GaussianNB\n",
        "\n",
        "gnb = GaussianNB()\n",
        "gnb.fit(X_train, Y_train)"
      ],
      "metadata": {
        "id": "Dgnu0NzeX5bb",
        "outputId": "36ffb279-5d34-47ee-9f51-66a335258809",
        "colab": {
          "base_uri": "https://localhost:8080/"
        }
      },
      "execution_count": 53,
      "outputs": [
        {
          "output_type": "execute_result",
          "data": {
            "text/plain": [
              "GaussianNB()"
            ]
          },
          "metadata": {},
          "execution_count": 53
        }
      ]
    },
    {
      "cell_type": "markdown",
      "source": [
        "Performing predictions on the test set"
      ],
      "metadata": {
        "id": "xF7BRavoZL6I"
      }
    },
    {
      "cell_type": "code",
      "source": [
        "Y_pred = gnb.predict(X_test)"
      ],
      "metadata": {
        "id": "rwHvc6IGYhqA"
      },
      "execution_count": 54,
      "outputs": []
    },
    {
      "cell_type": "markdown",
      "source": [
        "Evaluating the performance of the model"
      ],
      "metadata": {
        "id": "xhCdNsPWZpdd"
      }
    },
    {
      "cell_type": "code",
      "source": [
        "from sklearn.metrics import accuracy_score\n",
        "\n",
        "accuracy = accuracy_score(Y_test, Y_pred)\n",
        "print(accuracy)"
      ],
      "metadata": {
        "id": "tAee61E2Yn77",
        "outputId": "40da7edc-bef3-4ded-ed89-9bcf703e982e",
        "colab": {
          "base_uri": "https://localhost:8080/"
        }
      },
      "execution_count": 55,
      "outputs": [
        {
          "output_type": "stream",
          "name": "stdout",
          "text": [
            "0.6705700682022906\n"
          ]
        }
      ]
    },
    {
      "cell_type": "markdown",
      "source": [
        "Displaying the classification report"
      ],
      "metadata": {
        "id": "qiV35Q5PZw66"
      }
    },
    {
      "cell_type": "code",
      "source": [
        "from sklearn.metrics import classification_report\n",
        "\n",
        "print(classification_report(Y_test, Y_pred))"
      ],
      "metadata": {
        "id": "8o1fGPlWYtGb",
        "outputId": "7dfa94cc-0b0a-4706-843e-10a69a39ea92",
        "colab": {
          "base_uri": "https://localhost:8080/"
        }
      },
      "execution_count": 56,
      "outputs": [
        {
          "output_type": "stream",
          "name": "stdout",
          "text": [
            "              precision    recall  f1-score   support\n",
            "\n",
            "           0       0.79      0.85      0.82      1600\n",
            "           1       0.72      0.81      0.76      1598\n",
            "           2       0.76      0.68      0.72      1549\n",
            "           3       0.54      0.37      0.44      1497\n",
            "           4       0.52      0.61      0.56      1527\n",
            "\n",
            "    accuracy                           0.67      7771\n",
            "   macro avg       0.66      0.67      0.66      7771\n",
            "weighted avg       0.67      0.67      0.66      7771\n",
            "\n"
          ]
        }
      ]
    },
    {
      "cell_type": "markdown",
      "source": [
        "Using K-Fold validation on the training set"
      ],
      "metadata": {
        "id": "dUC61jLg54n7"
      }
    },
    {
      "cell_type": "code",
      "source": [
        "from sklearn.model_selection import KFold\n",
        "\n",
        "X_train_numpy = np.array(X_train)\n",
        "Y_train_numpy = np.array(Y_train)\n",
        "\n",
        "model = 1\n",
        "accuracy = 0\n",
        "kf = KFold(n_splits = 5)\n",
        "for train_index, val_index in kf.split(X_train_numpy):\n",
        "  X_KFold_train, X_KFold_val = X_train_numpy[train_index], X_train_numpy[val_index]\n",
        "  Y_KFold_train, Y_KFold_val = Y_train_numpy[train_index], Y_train_numpy[val_index]\n",
        "  gnb.fit(X_KFold_train, Y_KFold_train)\n",
        "  Y_pred = gnb.predict(X_KFold_val)\n",
        "  print(\"Classification report for K-Fold model \"+str(model))\n",
        "  print(classification_report(Y_KFold_val, Y_pred))\n",
        "  accuracy += accuracy_score(Y_KFold_val, Y_pred)\n",
        "  model += 1\n",
        "avg_accuracy = accuracy/5\n",
        "print(\"Average accuracy obtained = \"+str(avg_accuracy))"
      ],
      "metadata": {
        "id": "OAbMfmiD4tfw",
        "outputId": "a22154dd-df4e-4996-ad17-543aa0b0b223",
        "colab": {
          "base_uri": "https://localhost:8080/"
        }
      },
      "execution_count": 74,
      "outputs": [
        {
          "output_type": "stream",
          "name": "stdout",
          "text": [
            "Classification report for K-Fold model 1\n",
            "              precision    recall  f1-score   support\n",
            "\n",
            "           0       0.80      0.84      0.82      1284\n",
            "           1       0.73      0.83      0.77      1284\n",
            "           2       0.77      0.74      0.76      1198\n",
            "           3       0.56      0.37      0.45      1219\n",
            "           4       0.54      0.64      0.58      1231\n",
            "\n",
            "    accuracy                           0.69      6216\n",
            "   macro avg       0.68      0.68      0.68      6216\n",
            "weighted avg       0.68      0.69      0.68      6216\n",
            "\n",
            "Classification report for K-Fold model 2\n",
            "              precision    recall  f1-score   support\n",
            "\n",
            "           0       0.79      0.83      0.81      1284\n",
            "           1       0.70      0.81      0.75      1252\n",
            "           2       0.78      0.70      0.73      1237\n",
            "           3       0.54      0.36      0.43      1219\n",
            "           4       0.53      0.65      0.58      1224\n",
            "\n",
            "    accuracy                           0.67      6216\n",
            "   macro avg       0.67      0.67      0.66      6216\n",
            "weighted avg       0.67      0.67      0.66      6216\n",
            "\n",
            "Classification report for K-Fold model 3\n",
            "              precision    recall  f1-score   support\n",
            "\n",
            "           0       0.79      0.84      0.82      1260\n",
            "           1       0.72      0.81      0.77      1261\n",
            "           2       0.77      0.69      0.73      1237\n",
            "           3       0.53      0.37      0.44      1223\n",
            "           4       0.52      0.62      0.56      1235\n",
            "\n",
            "    accuracy                           0.67      6216\n",
            "   macro avg       0.66      0.67      0.66      6216\n",
            "weighted avg       0.67      0.67      0.66      6216\n",
            "\n",
            "Classification report for K-Fold model 4\n",
            "              precision    recall  f1-score   support\n",
            "\n",
            "           0       0.78      0.87      0.82      1248\n",
            "           1       0.71      0.83      0.76      1270\n",
            "           2       0.78      0.68      0.73      1271\n",
            "           3       0.53      0.34      0.41      1228\n",
            "           4       0.52      0.64      0.57      1199\n",
            "\n",
            "    accuracy                           0.67      6216\n",
            "   macro avg       0.66      0.67      0.66      6216\n",
            "weighted avg       0.67      0.67      0.66      6216\n",
            "\n",
            "Classification report for K-Fold model 5\n",
            "              precision    recall  f1-score   support\n",
            "\n",
            "           0       0.78      0.85      0.82      1272\n",
            "           1       0.70      0.82      0.76      1232\n",
            "           2       0.77      0.70      0.73      1256\n",
            "           3       0.57      0.37      0.45      1227\n",
            "           4       0.53      0.63      0.57      1229\n",
            "\n",
            "    accuracy                           0.68      6216\n",
            "   macro avg       0.67      0.67      0.67      6216\n",
            "weighted avg       0.67      0.68      0.67      6216\n",
            "\n",
            "Average accuracy obtained = 0.6746782496782497\n"
          ]
        }
      ]
    }
  ],
  "metadata": {
    "colab": {
      "collapsed_sections": [],
      "name": "ML_Project_PreProcessing.ipynb",
      "provenance": []
    },
    "kernelspec": {
      "display_name": "Python 3",
      "language": "python",
      "name": "python3"
    },
    "language_info": {
      "codemirror_mode": {
        "name": "ipython",
        "version": 3
      },
      "file_extension": ".py",
      "mimetype": "text/x-python",
      "name": "python",
      "nbconvert_exporter": "python",
      "pygments_lexer": "ipython3",
      "version": "3.6.9"
    }
  },
  "nbformat": 4,
  "nbformat_minor": 0
}