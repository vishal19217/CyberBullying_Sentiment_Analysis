{
  "cells": [
    {
      "cell_type": "markdown",
      "source": [
        "Importing libraries"
      ],
      "metadata": {
        "id": "o7QiTH21Kd_2"
      }
    },
    {
      "cell_type": "code",
      "execution_count": 5,
      "metadata": {
        "colab": {
          "base_uri": "https://localhost:8080/"
        },
        "id": "0kqMJODaX47j",
        "outputId": "718a4b1d-a911-4a9b-9bed-eb0c369c141d"
      },
      "outputs": [
        {
          "output_type": "stream",
          "name": "stdout",
          "text": [
            "Mounted at /content/gdrive\n"
          ]
        }
      ],
      "source": [
        "import pandas as pd\n",
        "import numpy as np\n",
        "import matplotlib.pyplot as plt\n",
        "import seaborn as sns\n",
        "from google.colab import drive\n",
        "drive.mount('/content/gdrive')"
      ]
    },
    {
      "cell_type": "markdown",
      "source": [
        "### Data Visualization and Cleaning"
      ],
      "metadata": {
        "id": "CqogiAMAMPKT"
      }
    },
    {
      "cell_type": "code",
      "execution_count": 6,
      "metadata": {
        "id": "2CkDIdIYfK78"
      },
      "outputs": [],
      "source": [
        "data = pd.read_csv('/content/gdrive/My Drive/Colab Notebooks/cyberbullying_tweets.csv')"
      ]
    },
    {
      "cell_type": "code",
      "source": [
        "data.head()"
      ],
      "metadata": {
        "colab": {
          "base_uri": "https://localhost:8080/",
          "height": 206
        },
        "id": "gNgpCKgYOimt",
        "outputId": "8011e142-83fd-4857-971f-10c5c102930a"
      },
      "execution_count": 7,
      "outputs": [
        {
          "output_type": "execute_result",
          "data": {
            "text/plain": [
              "                                          tweet_text cyberbullying_type\n",
              "0  In other words #katandandre, your food was cra...  not_cyberbullying\n",
              "1  Why is #aussietv so white? #MKR #theblock #ImA...  not_cyberbullying\n",
              "2  @XochitlSuckkks a classy whore? Or more red ve...  not_cyberbullying\n",
              "3  @Jason_Gio meh. :P  thanks for the heads up, b...  not_cyberbullying\n",
              "4  @RudhoeEnglish This is an ISIS account pretend...  not_cyberbullying"
            ],
            "text/html": [
              "\n",
              "  <div id=\"df-6b1295b3-8645-4041-bccb-f138b1f552a5\">\n",
              "    <div class=\"colab-df-container\">\n",
              "      <div>\n",
              "<style scoped>\n",
              "    .dataframe tbody tr th:only-of-type {\n",
              "        vertical-align: middle;\n",
              "    }\n",
              "\n",
              "    .dataframe tbody tr th {\n",
              "        vertical-align: top;\n",
              "    }\n",
              "\n",
              "    .dataframe thead th {\n",
              "        text-align: right;\n",
              "    }\n",
              "</style>\n",
              "<table border=\"1\" class=\"dataframe\">\n",
              "  <thead>\n",
              "    <tr style=\"text-align: right;\">\n",
              "      <th></th>\n",
              "      <th>tweet_text</th>\n",
              "      <th>cyberbullying_type</th>\n",
              "    </tr>\n",
              "  </thead>\n",
              "  <tbody>\n",
              "    <tr>\n",
              "      <th>0</th>\n",
              "      <td>In other words #katandandre, your food was cra...</td>\n",
              "      <td>not_cyberbullying</td>\n",
              "    </tr>\n",
              "    <tr>\n",
              "      <th>1</th>\n",
              "      <td>Why is #aussietv so white? #MKR #theblock #ImA...</td>\n",
              "      <td>not_cyberbullying</td>\n",
              "    </tr>\n",
              "    <tr>\n",
              "      <th>2</th>\n",
              "      <td>@XochitlSuckkks a classy whore? Or more red ve...</td>\n",
              "      <td>not_cyberbullying</td>\n",
              "    </tr>\n",
              "    <tr>\n",
              "      <th>3</th>\n",
              "      <td>@Jason_Gio meh. :P  thanks for the heads up, b...</td>\n",
              "      <td>not_cyberbullying</td>\n",
              "    </tr>\n",
              "    <tr>\n",
              "      <th>4</th>\n",
              "      <td>@RudhoeEnglish This is an ISIS account pretend...</td>\n",
              "      <td>not_cyberbullying</td>\n",
              "    </tr>\n",
              "  </tbody>\n",
              "</table>\n",
              "</div>\n",
              "      <button class=\"colab-df-convert\" onclick=\"convertToInteractive('df-6b1295b3-8645-4041-bccb-f138b1f552a5')\"\n",
              "              title=\"Convert this dataframe to an interactive table.\"\n",
              "              style=\"display:none;\">\n",
              "        \n",
              "  <svg xmlns=\"http://www.w3.org/2000/svg\" height=\"24px\"viewBox=\"0 0 24 24\"\n",
              "       width=\"24px\">\n",
              "    <path d=\"M0 0h24v24H0V0z\" fill=\"none\"/>\n",
              "    <path d=\"M18.56 5.44l.94 2.06.94-2.06 2.06-.94-2.06-.94-.94-2.06-.94 2.06-2.06.94zm-11 1L8.5 8.5l.94-2.06 2.06-.94-2.06-.94L8.5 2.5l-.94 2.06-2.06.94zm10 10l.94 2.06.94-2.06 2.06-.94-2.06-.94-.94-2.06-.94 2.06-2.06.94z\"/><path d=\"M17.41 7.96l-1.37-1.37c-.4-.4-.92-.59-1.43-.59-.52 0-1.04.2-1.43.59L10.3 9.45l-7.72 7.72c-.78.78-.78 2.05 0 2.83L4 21.41c.39.39.9.59 1.41.59.51 0 1.02-.2 1.41-.59l7.78-7.78 2.81-2.81c.8-.78.8-2.07 0-2.86zM5.41 20L4 18.59l7.72-7.72 1.47 1.35L5.41 20z\"/>\n",
              "  </svg>\n",
              "      </button>\n",
              "      \n",
              "  <style>\n",
              "    .colab-df-container {\n",
              "      display:flex;\n",
              "      flex-wrap:wrap;\n",
              "      gap: 12px;\n",
              "    }\n",
              "\n",
              "    .colab-df-convert {\n",
              "      background-color: #E8F0FE;\n",
              "      border: none;\n",
              "      border-radius: 50%;\n",
              "      cursor: pointer;\n",
              "      display: none;\n",
              "      fill: #1967D2;\n",
              "      height: 32px;\n",
              "      padding: 0 0 0 0;\n",
              "      width: 32px;\n",
              "    }\n",
              "\n",
              "    .colab-df-convert:hover {\n",
              "      background-color: #E2EBFA;\n",
              "      box-shadow: 0px 1px 2px rgba(60, 64, 67, 0.3), 0px 1px 3px 1px rgba(60, 64, 67, 0.15);\n",
              "      fill: #174EA6;\n",
              "    }\n",
              "\n",
              "    [theme=dark] .colab-df-convert {\n",
              "      background-color: #3B4455;\n",
              "      fill: #D2E3FC;\n",
              "    }\n",
              "\n",
              "    [theme=dark] .colab-df-convert:hover {\n",
              "      background-color: #434B5C;\n",
              "      box-shadow: 0px 1px 3px 1px rgba(0, 0, 0, 0.15);\n",
              "      filter: drop-shadow(0px 1px 2px rgba(0, 0, 0, 0.3));\n",
              "      fill: #FFFFFF;\n",
              "    }\n",
              "  </style>\n",
              "\n",
              "      <script>\n",
              "        const buttonEl =\n",
              "          document.querySelector('#df-6b1295b3-8645-4041-bccb-f138b1f552a5 button.colab-df-convert');\n",
              "        buttonEl.style.display =\n",
              "          google.colab.kernel.accessAllowed ? 'block' : 'none';\n",
              "\n",
              "        async function convertToInteractive(key) {\n",
              "          const element = document.querySelector('#df-6b1295b3-8645-4041-bccb-f138b1f552a5');\n",
              "          const dataTable =\n",
              "            await google.colab.kernel.invokeFunction('convertToInteractive',\n",
              "                                                     [key], {});\n",
              "          if (!dataTable) return;\n",
              "\n",
              "          const docLinkHtml = 'Like what you see? Visit the ' +\n",
              "            '<a target=\"_blank\" href=https://colab.research.google.com/notebooks/data_table.ipynb>data table notebook</a>'\n",
              "            + ' to learn more about interactive tables.';\n",
              "          element.innerHTML = '';\n",
              "          dataTable['output_type'] = 'display_data';\n",
              "          await google.colab.output.renderOutput(dataTable, element);\n",
              "          const docLink = document.createElement('div');\n",
              "          docLink.innerHTML = docLinkHtml;\n",
              "          element.appendChild(docLink);\n",
              "        }\n",
              "      </script>\n",
              "    </div>\n",
              "  </div>\n",
              "  "
            ]
          },
          "metadata": {},
          "execution_count": 7
        }
      ]
    },
    {
      "cell_type": "code",
      "source": [
        "print(data.info())"
      ],
      "metadata": {
        "colab": {
          "base_uri": "https://localhost:8080/"
        },
        "id": "GMtuJ6QMOcm9",
        "outputId": "1ad9af96-891b-4883-af19-0b0446157377"
      },
      "execution_count": 8,
      "outputs": [
        {
          "output_type": "stream",
          "name": "stdout",
          "text": [
            "<class 'pandas.core.frame.DataFrame'>\n",
            "RangeIndex: 47692 entries, 0 to 47691\n",
            "Data columns (total 2 columns):\n",
            " #   Column              Non-Null Count  Dtype \n",
            "---  ------              --------------  ----- \n",
            " 0   tweet_text          47692 non-null  object\n",
            " 1   cyberbullying_type  47692 non-null  object\n",
            "dtypes: object(2)\n",
            "memory usage: 745.3+ KB\n",
            "None\n"
          ]
        }
      ]
    },
    {
      "cell_type": "code",
      "execution_count": 9,
      "metadata": {
        "id": "Uk0P6yfU7QCv"
      },
      "outputs": [],
      "source": [
        "data = data.rename(columns={'tweet_text' : 'tweet', 'cyberbullying_type' : 'sentiment'})"
      ]
    },
    {
      "cell_type": "markdown",
      "source": [
        "Removing duplicates from given tweets\n"
      ],
      "metadata": {
        "id": "lFdODN_fL349"
      }
    },
    {
      "cell_type": "code",
      "source": [
        "data[data.duplicated()].shape"
      ],
      "metadata": {
        "colab": {
          "base_uri": "https://localhost:8080/"
        },
        "id": "CqfLWM_3RAsm",
        "outputId": "6ecbb752-b512-4ad1-d7bc-67521a942584"
      },
      "execution_count": 10,
      "outputs": [
        {
          "output_type": "execute_result",
          "data": {
            "text/plain": [
              "(36, 2)"
            ]
          },
          "metadata": {},
          "execution_count": 10
        }
      ]
    },
    {
      "cell_type": "code",
      "execution_count": 11,
      "metadata": {
        "id": "X5pmNhQj7i5k"
      },
      "outputs": [],
      "source": [
        "data = data[~data.duplicated()]"
      ]
    },
    {
      "cell_type": "code",
      "execution_count": 12,
      "metadata": {
        "colab": {
          "base_uri": "https://localhost:8080/"
        },
        "id": "MuVEVGyX8JFQ",
        "outputId": "fbbfd595-54cc-46a8-982b-70faf0b0542c"
      },
      "outputs": [
        {
          "output_type": "stream",
          "name": "stdout",
          "text": [
            "<class 'pandas.core.frame.DataFrame'>\n",
            "Int64Index: 47656 entries, 0 to 47691\n",
            "Data columns (total 2 columns):\n",
            " #   Column     Non-Null Count  Dtype \n",
            "---  ------     --------------  ----- \n",
            " 0   tweet      47656 non-null  object\n",
            " 1   sentiment  47656 non-null  object\n",
            "dtypes: object(2)\n",
            "memory usage: 1.1+ MB\n"
          ]
        }
      ],
      "source": [
        "data.info()"
      ]
    },
    {
      "cell_type": "markdown",
      "source": [
        "Showing class balance/imbalance result"
      ],
      "metadata": {
        "id": "CsFdHHECUC00"
      }
    },
    {
      "cell_type": "code",
      "execution_count": 13,
      "metadata": {
        "colab": {
          "base_uri": "https://localhost:8080/"
        },
        "id": "2CYHASSe8-QM",
        "outputId": "7efc5e0b-c189-48b6-abac-11b69737ea12"
      },
      "outputs": [
        {
          "output_type": "execute_result",
          "data": {
            "text/plain": [
              "religion               7997\n",
              "age                    7992\n",
              "ethnicity              7959\n",
              "gender                 7948\n",
              "not_cyberbullying      7937\n",
              "other_cyberbullying    7823\n",
              "Name: sentiment, dtype: int64"
            ]
          },
          "metadata": {},
          "execution_count": 13
        }
      ],
      "source": [
        "data.sentiment.value_counts()"
      ]
    },
    {
      "cell_type": "code",
      "source": [
        "plt.figure(figsize=(7,5))\n",
        "plt.title('Showing class balance/imbalance result');\n",
        "data['sentiment'].value_counts().plot.bar(rot = 20);\n",
        "plt.xlabel('Sentiments');\n",
        "plt.ylabel('Counts of tweet');\n",
        "plt.show();"
      ],
      "metadata": {
        "colab": {
          "base_uri": "https://localhost:8080/",
          "height": 384
        },
        "id": "k3n1aLGSUKb9",
        "outputId": "9866edfe-9e3f-4257-bdd7-2102a0682aac"
      },
      "execution_count": 14,
      "outputs": [
        {
          "output_type": "display_data",
          "data": {
            "text/plain": [
              "<Figure size 504x360 with 1 Axes>"
            ],
            "image/png": "[encoded data removed]"
          },
          "metadata": {
            "needs_background": "light"
          }
        }
      ]
    },
    {
      "cell_type": "markdown",
      "source": [
        "From above, we can see that Dataset is **balanced** among different classes of sentiments."
      ],
      "metadata": {
        "id": "AP8yW6YcWfno"
      }
    },
    {
      "cell_type": "markdown",
      "source": [
        "Importing and downloading different packages for data cleaning"
      ],
      "metadata": {
        "id": "9f51Bp_fMv4B"
      }
    },
    {
      "cell_type": "code",
      "execution_count": 15,
      "metadata": {
        "colab": {
          "base_uri": "https://localhost:8080/"
        },
        "id": "syn-OBARIie0",
        "outputId": "589d7154-cf2f-4b3c-a5ef-7801ec562bd8"
      },
      "outputs": [
        {
          "output_type": "stream",
          "name": "stdout",
          "text": [
            "Collecting emoji\n",
            "  Downloading emoji-1.7.0.tar.gz (175 kB)\n",
            "\u001b[K     |████████████████████████████████| 175 kB 4.0 MB/s \n",
            "\u001b[?25hBuilding wheels for collected packages: emoji\n",
            "  Building wheel for emoji (setup.py) ... \u001b[?25l\u001b[?25hdone\n",
            "  Created wheel for emoji: filename=emoji-1.7.0-py3-none-any.whl size=171046 sha256=ebeb4000dd036cfc91387fe643f088cf1e17d1266f2e6d6995f143b8cfa6453b\n",
            "  Stored in directory: /root/.cache/pip/wheels/8a/4e/b6/57b01db010d17ef6ea9b40300af725ef3e210cb1acfb7ac8b6\n",
            "Successfully built emoji\n",
            "Installing collected packages: emoji\n",
            "Successfully installed emoji-1.7.0\n"
          ]
        }
      ],
      "source": [
        "pip install emoji"
      ]
    },
    {
      "cell_type": "markdown",
      "source": [
        "Importing nltk"
      ],
      "metadata": {
        "id": "fI7C4yarM7kv"
      }
    },
    {
      "cell_type": "code",
      "execution_count": 16,
      "metadata": {
        "colab": {
          "base_uri": "https://localhost:8080/"
        },
        "id": "Zx346TICk0XM",
        "outputId": "6ff8cbda-0507-4013-cb8b-f4a554c49d14"
      },
      "outputs": [
        {
          "output_type": "stream",
          "name": "stdout",
          "text": [
            "[nltk_data] Downloading package stopwords to /root/nltk_data...\n",
            "[nltk_data]   Unzipping corpora/stopwords.zip.\n"
          ]
        },
        {
          "output_type": "execute_result",
          "data": {
            "text/plain": [
              "True"
            ]
          },
          "metadata": {},
          "execution_count": 16
        }
      ],
      "source": [
        "import nltk\n",
        "# For removing stopwords\n",
        "nltk.download('stopwords')"
      ]
    },
    {
      "cell_type": "code",
      "execution_count": 17,
      "metadata": {
        "colab": {
          "base_uri": "https://localhost:8080/"
        },
        "id": "ACiTq_1r2lJ-",
        "outputId": "1c078bf6-6cec-4077-b8d4-c5de47e666d8"
      },
      "outputs": [
        {
          "output_type": "stream",
          "name": "stdout",
          "text": [
            "[nltk_data] Downloading package punkt to /root/nltk_data...\n",
            "[nltk_data]   Unzipping tokenizers/punkt.zip.\n"
          ]
        },
        {
          "output_type": "execute_result",
          "data": {
            "text/plain": [
              "True"
            ]
          },
          "metadata": {},
          "execution_count": 17
        }
      ],
      "source": [
        "nltk.download('punkt')"
      ]
    },
    {
      "cell_type": "markdown",
      "metadata": {
        "id": "N6tAorFrAn2K"
      },
      "source": [
        "### Now, let's proceed towards basic cleaning of tweets"
      ]
    },
    {
      "cell_type": "code",
      "execution_count": 18,
      "metadata": {
        "id": "esXr4c_F9IxB"
      },
      "outputs": [],
      "source": [
        "import re, string\n",
        "import emoji\n",
        "from nltk.corpus import stopwords\n",
        "stop_words = set(stopwords.words('english'))\n",
        "\n",
        "\n",
        "def remove_emoji(text):  # For removing the emojis from the text\n",
        "  return re.sub(emoji.get_emoji_regexp(), r\"\", text)\n",
        "\n",
        "\n",
        "def remove_entities(text):\n",
        "  text = text.replace('\\r', '').replace('\\n', ' ').lower() # For removing \\n and \\r from the text and then lowercasing the text\n",
        "  text = re.sub(r\"(?:\\@|https?\\://)\\S+\", \"\", text)\n",
        "  text = re.sub(r'[^\\x00-\\x7f]', r'', text)\n",
        "  punctuation_words = string.punctuation\n",
        "  table = text.maketrans('', '', punctuation_words)\n",
        "  text = text.translate(table)\n",
        "  text = [word for word in text.split() if word not in stop_words]\n",
        "  text = ' '.join(text)\n",
        "  text = ' '.join(word for word in text.split() if len(word)<14)\n",
        "  return text\n",
        "\n",
        "\n",
        "def remove_contractions(text):\n",
        "  text = re.sub(r\"can\\'t\", \"can not\", text)\n",
        "  text = re.sub(r\"n\\'t\", \" not\", text)\n",
        "  text = re.sub(r\"\\'re\", \" are\", text)\n",
        "  text = re.sub(r\"\\'s\", \" is\", text)\n",
        "  text = re.sub(r\"\\'d\", \" would\", text)\n",
        "  text = re.sub(r\"\\'ll\", \" will\", text)\n",
        "  text = re.sub(r\"\\'t\", \" not\", text)\n",
        "  text = re.sub(r\"\\'ve\", \" have\", text)\n",
        "  text = re.sub(r\"\\'m\", \" am\", text)\n",
        "  return text\n",
        "\n",
        "\n",
        "def remove_hashtags(text):\n",
        "  new_text = \" \".join(word.strip() for word in re.split('#(?!(?:hashtag)\\b)[\\w-]+(?=(?:\\s+#[\\w-]+)*\\s*$)', text))\n",
        "  new_text2 = \" \".join(word.strip() for word in re.split('#|_', new_text))\n",
        "  return new_text2\n",
        "\n",
        "\n",
        "def filter_characters(text):\n",
        "  filtered = []\n",
        "  for word in text.split(' '):\n",
        "    if ('$' in word) | ('&' in word):\n",
        "      filtered.append('')\n",
        "    else:\n",
        "      filtered.append(word)\n",
        "  return ' '.join(filtered)\n",
        "\n",
        "\n",
        "def remove_mult_spaces(text):\n",
        "  return re.sub(\"\\s\\s+\", \" \", text)\n",
        "\n",
        "\n",
        "# Basic cleaning  \n",
        "def basic_cleaning(text):\n",
        "  text = remove_emoji(text)\n",
        "  text = remove_contractions(text)\n",
        "  text = remove_entities(text)\n",
        "  text = remove_hashtags(text)\n",
        "  text = filter_characters(text)\n",
        "  text = remove_mult_spaces(text)\n",
        "  return text"
      ]
    },
    {
      "cell_type": "markdown",
      "source": [
        "Using basic_cleaning() function defined above to do basic cleaning"
      ],
      "metadata": {
        "id": "Fq4m3mt6fZyW"
      }
    },
    {
      "cell_type": "code",
      "source": [
        "basic_clean_tweets = []\n",
        "for text in data['tweet']:\n",
        "  basic_clean_tweets.append(basic_cleaning(text))"
      ],
      "metadata": {
        "colab": {
          "base_uri": "https://localhost:8080/"
        },
        "id": "VttL1z8SfR84",
        "outputId": "f9542109-476a-4ecd-ee84-7b8ba818ff7a"
      },
      "execution_count": 19,
      "outputs": [
        {
          "output_type": "stream",
          "name": "stderr",
          "text": [
            "/usr/local/lib/python3.7/dist-packages/ipykernel_launcher.py:8: DeprecationWarning: 'emoji.get_emoji_regexp()' is deprecated and will be removed in version 2.0.0. If you want to remove emoji from a string, consider the method emoji.replace_emoji(str, replace='').\n",
            "To hide this warning, pin/downgrade the package to 'emoji~=1.6.3'\n",
            "  \n"
          ]
        }
      ]
    },
    {
      "cell_type": "code",
      "source": [
        "basic_clean_df = pd.DataFrame(basic_clean_tweets, columns = ['Basic clean']);\n",
        "basic_clean_df['sentiment'] = data['sentiment'].values\n",
        "basic_clean_df.head()\n",
        "\n",
        "# We can see that basic cleaning of tweets has been done."
      ],
      "metadata": {
        "colab": {
          "base_uri": "https://localhost:8080/",
          "height": 206
        },
        "id": "vrjWuvkmgbg3",
        "outputId": "3958b938-d299-497c-a558-b057b38511e6"
      },
      "execution_count": 20,
      "outputs": [
        {
          "output_type": "execute_result",
          "data": {
            "text/plain": [
              "                                         Basic clean          sentiment\n",
              "0            words katandandre food crapilicious mkr  not_cyberbullying\n",
              "1  aussietv white mkr theblock today sunrise stud...  not_cyberbullying\n",
              "2                   classy whore red velvet cupcakes  not_cyberbullying\n",
              "3  meh p thanks heads concerned another angry dud...  not_cyberbullying\n",
              "4  isis account pretending kurdish account like i...  not_cyberbullying"
            ],
            "text/html": [
              "\n",
              "  <div id=\"df-a342889f-2ecf-4288-802e-95011da0cadd\">\n",
              "    <div class=\"colab-df-container\">\n",
              "      <div>\n",
              "<style scoped>\n",
              "    .dataframe tbody tr th:only-of-type {\n",
              "        vertical-align: middle;\n",
              "    }\n",
              "\n",
              "    .dataframe tbody tr th {\n",
              "        vertical-align: top;\n",
              "    }\n",
              "\n",
              "    .dataframe thead th {\n",
              "        text-align: right;\n",
              "    }\n",
              "</style>\n",
              "<table border=\"1\" class=\"dataframe\">\n",
              "  <thead>\n",
              "    <tr style=\"text-align: right;\">\n",
              "      <th></th>\n",
              "      <th>Basic clean</th>\n",
              "      <th>sentiment</th>\n",
              "    </tr>\n",
              "  </thead>\n",
              "  <tbody>\n",
              "    <tr>\n",
              "      <th>0</th>\n",
              "      <td>words katandandre food crapilicious mkr</td>\n",
              "      <td>not_cyberbullying</td>\n",
              "    </tr>\n",
              "    <tr>\n",
              "      <th>1</th>\n",
              "      <td>aussietv white mkr theblock today sunrise stud...</td>\n",
              "      <td>not_cyberbullying</td>\n",
              "    </tr>\n",
              "    <tr>\n",
              "      <th>2</th>\n",
              "      <td>classy whore red velvet cupcakes</td>\n",
              "      <td>not_cyberbullying</td>\n",
              "    </tr>\n",
              "    <tr>\n",
              "      <th>3</th>\n",
              "      <td>meh p thanks heads concerned another angry dud...</td>\n",
              "      <td>not_cyberbullying</td>\n",
              "    </tr>\n",
              "    <tr>\n",
              "      <th>4</th>\n",
              "      <td>isis account pretending kurdish account like i...</td>\n",
              "      <td>not_cyberbullying</td>\n",
              "    </tr>\n",
              "  </tbody>\n",
              "</table>\n",
              "</div>\n",
              "      <button class=\"colab-df-convert\" onclick=\"convertToInteractive('df-a342889f-2ecf-4288-802e-95011da0cadd')\"\n",
              "              title=\"Convert this dataframe to an interactive table.\"\n",
              "              style=\"display:none;\">\n",
              "        \n",
              "  <svg xmlns=\"http://www.w3.org/2000/svg\" height=\"24px\"viewBox=\"0 0 24 24\"\n",
              "       width=\"24px\">\n",
              "    <path d=\"M0 0h24v24H0V0z\" fill=\"none\"/>\n",
              "    <path d=\"M18.56 5.44l.94 2.06.94-2.06 2.06-.94-2.06-.94-.94-2.06-.94 2.06-2.06.94zm-11 1L8.5 8.5l.94-2.06 2.06-.94-2.06-.94L8.5 2.5l-.94 2.06-2.06.94zm10 10l.94 2.06.94-2.06 2.06-.94-2.06-.94-.94-2.06-.94 2.06-2.06.94z\"/><path d=\"M17.41 7.96l-1.37-1.37c-.4-.4-.92-.59-1.43-.59-.52 0-1.04.2-1.43.59L10.3 9.45l-7.72 7.72c-.78.78-.78 2.05 0 2.83L4 21.41c.39.39.9.59 1.41.59.51 0 1.02-.2 1.41-.59l7.78-7.78 2.81-2.81c.8-.78.8-2.07 0-2.86zM5.41 20L4 18.59l7.72-7.72 1.47 1.35L5.41 20z\"/>\n",
              "  </svg>\n",
              "      </button>\n",
              "      \n",
              "  <style>\n",
              "    .colab-df-container {\n",
              "      display:flex;\n",
              "      flex-wrap:wrap;\n",
              "      gap: 12px;\n",
              "    }\n",
              "\n",
              "    .colab-df-convert {\n",
              "      background-color: #E8F0FE;\n",
              "      border: none;\n",
              "      border-radius: 50%;\n",
              "      cursor: pointer;\n",
              "      display: none;\n",
              "      fill: #1967D2;\n",
              "      height: 32px;\n",
              "      padding: 0 0 0 0;\n",
              "      width: 32px;\n",
              "    }\n",
              "\n",
              "    .colab-df-convert:hover {\n",
              "      background-color: #E2EBFA;\n",
              "      box-shadow: 0px 1px 2px rgba(60, 64, 67, 0.3), 0px 1px 3px 1px rgba(60, 64, 67, 0.15);\n",
              "      fill: #174EA6;\n",
              "    }\n",
              "\n",
              "    [theme=dark] .colab-df-convert {\n",
              "      background-color: #3B4455;\n",
              "      fill: #D2E3FC;\n",
              "    }\n",
              "\n",
              "    [theme=dark] .colab-df-convert:hover {\n",
              "      background-color: #434B5C;\n",
              "      box-shadow: 0px 1px 3px 1px rgba(0, 0, 0, 0.15);\n",
              "      filter: drop-shadow(0px 1px 2px rgba(0, 0, 0, 0.3));\n",
              "      fill: #FFFFFF;\n",
              "    }\n",
              "  </style>\n",
              "\n",
              "      <script>\n",
              "        const buttonEl =\n",
              "          document.querySelector('#df-a342889f-2ecf-4288-802e-95011da0cadd button.colab-df-convert');\n",
              "        buttonEl.style.display =\n",
              "          google.colab.kernel.accessAllowed ? 'block' : 'none';\n",
              "\n",
              "        async function convertToInteractive(key) {\n",
              "          const element = document.querySelector('#df-a342889f-2ecf-4288-802e-95011da0cadd');\n",
              "          const dataTable =\n",
              "            await google.colab.kernel.invokeFunction('convertToInteractive',\n",
              "                                                     [key], {});\n",
              "          if (!dataTable) return;\n",
              "\n",
              "          const docLinkHtml = 'Like what you see? Visit the ' +\n",
              "            '<a target=\"_blank\" href=https://colab.research.google.com/notebooks/data_table.ipynb>data table notebook</a>'\n",
              "            + ' to learn more about interactive tables.';\n",
              "          element.innerHTML = '';\n",
              "          dataTable['output_type'] = 'display_data';\n",
              "          await google.colab.output.renderOutput(dataTable, element);\n",
              "          const docLink = document.createElement('div');\n",
              "          docLink.innerHTML = docLinkHtml;\n",
              "          element.appendChild(docLink);\n",
              "        }\n",
              "      </script>\n",
              "    </div>\n",
              "  </div>\n",
              "  "
            ]
          },
          "metadata": {},
          "execution_count": 20
        }
      ]
    },
    {
      "cell_type": "markdown",
      "source": [
        "Removing duplicates from basic cleaned tweets"
      ],
      "metadata": {
        "id": "OZ7XiS1iWfeb"
      }
    },
    {
      "cell_type": "code",
      "source": [
        "basic_clean_df.shape"
      ],
      "metadata": {
        "colab": {
          "base_uri": "https://localhost:8080/"
        },
        "id": "PQjHUGB2YIiU",
        "outputId": "6acc390d-297e-4ab2-d72e-1a5d8c45c45d"
      },
      "execution_count": 21,
      "outputs": [
        {
          "output_type": "execute_result",
          "data": {
            "text/plain": [
              "(47656, 2)"
            ]
          },
          "metadata": {},
          "execution_count": 21
        }
      ]
    },
    {
      "cell_type": "code",
      "execution_count": 22,
      "metadata": {
        "colab": {
          "base_uri": "https://localhost:8080/"
        },
        "id": "paGs5agW5eMs",
        "outputId": "757f78fb-a7f1-4176-8278-84266aa6cc66"
      },
      "outputs": [
        {
          "output_type": "execute_result",
          "data": {
            "text/plain": [
              "2998"
            ]
          },
          "metadata": {},
          "execution_count": 22
        }
      ],
      "source": [
        "basic_clean_df['Basic clean'].duplicated().sum()"
      ]
    },
    {
      "cell_type": "code",
      "execution_count": 23,
      "metadata": {
        "colab": {
          "base_uri": "https://localhost:8080/"
        },
        "id": "d1P0s8o-5moy",
        "outputId": "2049e60e-7710-491c-99a5-8390b86d6cb2"
      },
      "outputs": [
        {
          "output_type": "execute_result",
          "data": {
            "text/plain": [
              "(44658, 2)"
            ]
          },
          "metadata": {},
          "execution_count": 23
        }
      ],
      "source": [
        "basic_clean_df.drop_duplicates('Basic clean', inplace = True)\n",
        "# Removed duplicates\n",
        "basic_clean_df.shape"
      ]
    },
    {
      "cell_type": "markdown",
      "source": [
        "Dropping other_cyberbullying"
      ],
      "metadata": {
        "id": "dtAa6KqrXnEn"
      }
    },
    {
      "cell_type": "code",
      "execution_count": 24,
      "metadata": {
        "id": "iVCHqtlg6Jz0"
      },
      "outputs": [],
      "source": [
        "basic_clean_df = basic_clean_df[basic_clean_df['sentiment'] != \"other_cyberbullying\"]"
      ]
    },
    {
      "cell_type": "code",
      "execution_count": 25,
      "metadata": {
        "colab": {
          "base_uri": "https://localhost:8080/"
        },
        "id": "_jmSDH6L51Fe",
        "outputId": "c675d364-8868-4cc9-a1af-cae62993cd6a"
      },
      "outputs": [
        {
          "output_type": "execute_result",
          "data": {
            "text/plain": [
              "religion             7948\n",
              "age                  7898\n",
              "ethnicity            7751\n",
              "not_cyberbullying    7648\n",
              "gender               7616\n",
              "Name: sentiment, dtype: int64"
            ]
          },
          "metadata": {},
          "execution_count": 25
        }
      ],
      "source": [
        "basic_clean_df['sentiment'].value_counts()"
      ]
    },
    {
      "cell_type": "markdown",
      "source": [
        "Creating tweet_length column for basic cleaned tweets"
      ],
      "metadata": {
        "id": "ZRcCrPy1Xwpu"
      }
    },
    {
      "cell_type": "code",
      "execution_count": 26,
      "metadata": {
        "colab": {
          "base_uri": "https://localhost:8080/",
          "height": 310
        },
        "id": "RfKbAj3d6lPc",
        "outputId": "3d914b57-97fe-4888-fd63-08af1096f0e4"
      },
      "outputs": [
        {
          "output_type": "stream",
          "name": "stderr",
          "text": [
            "/usr/local/lib/python3.7/dist-packages/ipykernel_launcher.py:6: SettingWithCopyWarning: \n",
            "A value is trying to be set on a copy of a slice from a DataFrame.\n",
            "Try using .loc[row_indexer,col_indexer] = value instead\n",
            "\n",
            "See the caveats in the documentation: https://pandas.pydata.org/pandas-docs/stable/user_guide/indexing.html#returning-a-view-versus-a-copy\n",
            "  \n"
          ]
        },
        {
          "output_type": "execute_result",
          "data": {
            "text/plain": [
              "                                         Basic clean          sentiment  \\\n",
              "0            words katandandre food crapilicious mkr  not_cyberbullying   \n",
              "1  aussietv white mkr theblock today sunrise stud...  not_cyberbullying   \n",
              "2                   classy whore red velvet cupcakes  not_cyberbullying   \n",
              "3  meh p thanks heads concerned another angry dud...  not_cyberbullying   \n",
              "4  isis account pretending kurdish account like i...  not_cyberbullying   \n",
              "\n",
              "   tweet_length  \n",
              "0             5  \n",
              "1            10  \n",
              "2             5  \n",
              "3             9  \n",
              "4             8  "
            ],
            "text/html": [
              "\n",
              "  <div id=\"df-9920b575-8e8e-4364-8c76-fa51091d421d\">\n",
              "    <div class=\"colab-df-container\">\n",
              "      <div>\n",
              "<style scoped>\n",
              "    .dataframe tbody tr th:only-of-type {\n",
              "        vertical-align: middle;\n",
              "    }\n",
              "\n",
              "    .dataframe tbody tr th {\n",
              "        vertical-align: top;\n",
              "    }\n",
              "\n",
              "    .dataframe thead th {\n",
              "        text-align: right;\n",
              "    }\n",
              "</style>\n",
              "<table border=\"1\" class=\"dataframe\">\n",
              "  <thead>\n",
              "    <tr style=\"text-align: right;\">\n",
              "      <th></th>\n",
              "      <th>Basic clean</th>\n",
              "      <th>sentiment</th>\n",
              "      <th>tweet_length</th>\n",
              "    </tr>\n",
              "  </thead>\n",
              "  <tbody>\n",
              "    <tr>\n",
              "      <th>0</th>\n",
              "      <td>words katandandre food crapilicious mkr</td>\n",
              "      <td>not_cyberbullying</td>\n",
              "      <td>5</td>\n",
              "    </tr>\n",
              "    <tr>\n",
              "      <th>1</th>\n",
              "      <td>aussietv white mkr theblock today sunrise stud...</td>\n",
              "      <td>not_cyberbullying</td>\n",
              "      <td>10</td>\n",
              "    </tr>\n",
              "    <tr>\n",
              "      <th>2</th>\n",
              "      <td>classy whore red velvet cupcakes</td>\n",
              "      <td>not_cyberbullying</td>\n",
              "      <td>5</td>\n",
              "    </tr>\n",
              "    <tr>\n",
              "      <th>3</th>\n",
              "      <td>meh p thanks heads concerned another angry dud...</td>\n",
              "      <td>not_cyberbullying</td>\n",
              "      <td>9</td>\n",
              "    </tr>\n",
              "    <tr>\n",
              "      <th>4</th>\n",
              "      <td>isis account pretending kurdish account like i...</td>\n",
              "      <td>not_cyberbullying</td>\n",
              "      <td>8</td>\n",
              "    </tr>\n",
              "  </tbody>\n",
              "</table>\n",
              "</div>\n",
              "      <button class=\"colab-df-convert\" onclick=\"convertToInteractive('df-9920b575-8e8e-4364-8c76-fa51091d421d')\"\n",
              "              title=\"Convert this dataframe to an interactive table.\"\n",
              "              style=\"display:none;\">\n",
              "        \n",
              "  <svg xmlns=\"http://www.w3.org/2000/svg\" height=\"24px\"viewBox=\"0 0 24 24\"\n",
              "       width=\"24px\">\n",
              "    <path d=\"M0 0h24v24H0V0z\" fill=\"none\"/>\n",
              "    <path d=\"M18.56 5.44l.94 2.06.94-2.06 2.06-.94-2.06-.94-.94-2.06-.94 2.06-2.06.94zm-11 1L8.5 8.5l.94-2.06 2.06-.94-2.06-.94L8.5 2.5l-.94 2.06-2.06.94zm10 10l.94 2.06.94-2.06 2.06-.94-2.06-.94-.94-2.06-.94 2.06-2.06.94z\"/><path d=\"M17.41 7.96l-1.37-1.37c-.4-.4-.92-.59-1.43-.59-.52 0-1.04.2-1.43.59L10.3 9.45l-7.72 7.72c-.78.78-.78 2.05 0 2.83L4 21.41c.39.39.9.59 1.41.59.51 0 1.02-.2 1.41-.59l7.78-7.78 2.81-2.81c.8-.78.8-2.07 0-2.86zM5.41 20L4 18.59l7.72-7.72 1.47 1.35L5.41 20z\"/>\n",
              "  </svg>\n",
              "      </button>\n",
              "      \n",
              "  <style>\n",
              "    .colab-df-container {\n",
              "      display:flex;\n",
              "      flex-wrap:wrap;\n",
              "      gap: 12px;\n",
              "    }\n",
              "\n",
              "    .colab-df-convert {\n",
              "      background-color: #E8F0FE;\n",
              "      border: none;\n",
              "      border-radius: 50%;\n",
              "      cursor: pointer;\n",
              "      display: none;\n",
              "      fill: #1967D2;\n",
              "      height: 32px;\n",
              "      padding: 0 0 0 0;\n",
              "      width: 32px;\n",
              "    }\n",
              "\n",
              "    .colab-df-convert:hover {\n",
              "      background-color: #E2EBFA;\n",
              "      box-shadow: 0px 1px 2px rgba(60, 64, 67, 0.3), 0px 1px 3px 1px rgba(60, 64, 67, 0.15);\n",
              "      fill: #174EA6;\n",
              "    }\n",
              "\n",
              "    [theme=dark] .colab-df-convert {\n",
              "      background-color: #3B4455;\n",
              "      fill: #D2E3FC;\n",
              "    }\n",
              "\n",
              "    [theme=dark] .colab-df-convert:hover {\n",
              "      background-color: #434B5C;\n",
              "      box-shadow: 0px 1px 3px 1px rgba(0, 0, 0, 0.15);\n",
              "      filter: drop-shadow(0px 1px 2px rgba(0, 0, 0, 0.3));\n",
              "      fill: #FFFFFF;\n",
              "    }\n",
              "  </style>\n",
              "\n",
              "      <script>\n",
              "        const buttonEl =\n",
              "          document.querySelector('#df-9920b575-8e8e-4364-8c76-fa51091d421d button.colab-df-convert');\n",
              "        buttonEl.style.display =\n",
              "          google.colab.kernel.accessAllowed ? 'block' : 'none';\n",
              "\n",
              "        async function convertToInteractive(key) {\n",
              "          const element = document.querySelector('#df-9920b575-8e8e-4364-8c76-fa51091d421d');\n",
              "          const dataTable =\n",
              "            await google.colab.kernel.invokeFunction('convertToInteractive',\n",
              "                                                     [key], {});\n",
              "          if (!dataTable) return;\n",
              "\n",
              "          const docLinkHtml = 'Like what you see? Visit the ' +\n",
              "            '<a target=\"_blank\" href=https://colab.research.google.com/notebooks/data_table.ipynb>data table notebook</a>'\n",
              "            + ' to learn more about interactive tables.';\n",
              "          element.innerHTML = '';\n",
              "          dataTable['output_type'] = 'display_data';\n",
              "          await google.colab.output.renderOutput(dataTable, element);\n",
              "          const docLink = document.createElement('div');\n",
              "          docLink.innerHTML = docLinkHtml;\n",
              "          element.appendChild(docLink);\n",
              "        }\n",
              "      </script>\n",
              "    </div>\n",
              "  </div>\n",
              "  "
            ]
          },
          "metadata": {},
          "execution_count": 26
        }
      ],
      "source": [
        "text_length = []\n",
        "for text in basic_clean_df['Basic clean']:\n",
        "  tweet_length = len(text.split())\n",
        "  text_length.append(tweet_length)\n",
        "\n",
        "basic_clean_df['tweet_length'] = text_length\n",
        "basic_clean_df.head()"
      ]
    },
    {
      "cell_type": "markdown",
      "source": [
        "Showing Count plot of tweets length "
      ],
      "metadata": {
        "id": "pHN__Y40X8aP"
      }
    },
    {
      "cell_type": "code",
      "execution_count": 27,
      "metadata": {
        "colab": {
          "base_uri": "https://localhost:8080/",
          "height": 351
        },
        "id": "4s1EJse67F2w",
        "outputId": "757a011b-ef6f-4972-af19-713e0e8a74aa"
      },
      "outputs": [
        {
          "output_type": "display_data",
          "data": {
            "text/plain": [
              "<Figure size 1296x360 with 1 Axes>"
            ],
            "image/png": "[encoded data removed]"
          },
          "metadata": {
            "needs_background": "light"
          }
        }
      ],
      "source": [
        "import matplotlib.pyplot as plt\n",
        "plt.figure(figsize=(18,5))\n",
        "# Using countplot\n",
        "ax = sns.countplot(x='tweet_length', data=basic_clean_df)\n",
        "plt.title('Graph of count of tweets and thier tweet length')\n",
        "plt.ylabel('count')\n",
        "plt.xlabel('Tweet_length')\n",
        "plt.show()"
      ]
    },
    {
      "cell_type": "markdown",
      "source": [
        "From the above graph, we can see the distribution of length of cleaned tweets."
      ],
      "metadata": {
        "id": "6HhQrdkNjJDk"
      }
    },
    {
      "cell_type": "markdown",
      "source": [
        "So, removing tweets of length greater than 100 and less than 1."
      ],
      "metadata": {
        "id": "MhflKmOYk0_v"
      }
    },
    {
      "cell_type": "code",
      "execution_count": 28,
      "metadata": {
        "id": "OTath6pb-NSu"
      },
      "outputs": [],
      "source": [
        "basic_clean_df = basic_clean_df[(basic_clean_df['tweet_length'] <= 100) & (basic_clean_df['tweet_length'] > 0)]"
      ]
    },
    {
      "cell_type": "code",
      "source": [
        "basic_clean_df.shape"
      ],
      "metadata": {
        "colab": {
          "base_uri": "https://localhost:8080/"
        },
        "id": "vWKkJr5gb1Lx",
        "outputId": "1889ac07-8bd7-44e0-9f5e-c3295c4c2c9c"
      },
      "execution_count": 29,
      "outputs": [
        {
          "output_type": "execute_result",
          "data": {
            "text/plain": [
              "(38851, 3)"
            ]
          },
          "metadata": {},
          "execution_count": 29
        }
      ]
    },
    {
      "cell_type": "code",
      "execution_count": 30,
      "metadata": {
        "colab": {
          "base_uri": "https://localhost:8080/"
        },
        "id": "JunkHLzF-U2l",
        "outputId": "67aeb4e7-f2bf-46d2-cb0f-3c0ab3393d80"
      },
      "outputs": [
        {
          "output_type": "stream",
          "name": "stdout",
          "text": [
            "Maximum length of tweet: 79\n"
          ]
        }
      ],
      "source": [
        "max_length = np.max(basic_clean_df['tweet_length'])\n",
        "print(\"Maximum length of tweet:\",max_length)"
      ]
    },
    {
      "cell_type": "markdown",
      "source": [
        "### Proceeding towards Stemming and Lemmatization techniques."
      ],
      "metadata": {
        "id": "2-cLtAiZhB8D"
      }
    },
    {
      "cell_type": "markdown",
      "source": [
        "For further cleaning in this section, we will be generating three columns.\n",
        "\n",
        "1.   Stemming of basic cleaned tweets\n",
        "2.   Lemmatization of basic cleaned tweets\n",
        "3.   Lemmatization followed by Stemming of cleaned tweets.\n",
        "\n",
        "We will select one techinique from above three based on thier performance.\n"
      ],
      "metadata": {
        "id": "M3wcUhVdoQbo"
      }
    },
    {
      "cell_type": "code",
      "source": [
        "nltk.download('wordnet')"
      ],
      "metadata": {
        "colab": {
          "base_uri": "https://localhost:8080/"
        },
        "id": "MRVc9gzTpu14",
        "outputId": "50a8450d-f591-45f6-e86d-76ec5142a888"
      },
      "execution_count": 31,
      "outputs": [
        {
          "output_type": "stream",
          "name": "stdout",
          "text": [
            "[nltk_data] Downloading package wordnet to /root/nltk_data...\n",
            "[nltk_data]   Unzipping corpora/wordnet.zip.\n"
          ]
        },
        {
          "output_type": "execute_result",
          "data": {
            "text/plain": [
              "True"
            ]
          },
          "metadata": {},
          "execution_count": 31
        }
      ]
    },
    {
      "cell_type": "code",
      "source": [
        "# We will use SnowballStemmer\n",
        "\n",
        "from nltk.stem import WordNetLemmatizer,SnowballStemmer\n",
        "\n",
        "def stemming(text):\n",
        "  tokenized = nltk.word_tokenize(text)\n",
        "  sb = SnowballStemmer(language = 'english')\n",
        "  return ' '.join([sb.stem(words) for words in tokenized])\n",
        "\n",
        "\n",
        "def lemmatize(text):\n",
        "  tokenized = nltk.word_tokenize(text)\n",
        "  lm = WordNetLemmatizer()\n",
        "  return ' '.join([lm.lemmatize(words) for words in tokenized])"
      ],
      "metadata": {
        "id": "5-Rdwwe4dsfb"
      },
      "execution_count": 32,
      "outputs": []
    },
    {
      "cell_type": "markdown",
      "source": [
        "Using above functions to do stemming and lemmatization on basic clean tweets"
      ],
      "metadata": {
        "id": "S5lA5dIjlRmD"
      }
    },
    {
      "cell_type": "code",
      "source": [
        "# For stemming and lemmatization\n",
        "stem_tweets = []\n",
        "lemma_tweets = []\n",
        "lemma_stem_tweets = [];\n",
        "\n",
        "# For stemming and lemmatization\n",
        "for text in basic_clean_df['Basic clean']:\n",
        "  stem_tweets.append(stemming(text));      # Stemming\n",
        "  lemma_tweets.append(lemmatize(text));    # Lemmatize\n",
        "\n",
        "# For lemmatization followed by stemming\n",
        "for text in lemma_tweets:\n",
        "  lemma_stem_tweets.append(stemming(text));"
      ],
      "metadata": {
        "id": "9tNmgPOOleuh"
      },
      "execution_count": 33,
      "outputs": []
    },
    {
      "cell_type": "markdown",
      "source": [
        "Showing three results of Stemming, Lemmatization and Lemma+Stemming"
      ],
      "metadata": {
        "id": "kk5ot3CDqTqX"
      }
    },
    {
      "cell_type": "code",
      "source": [
        "basic_clean_df['Stemming'] = stem_tweets;\n",
        "basic_clean_df['Lemmatization'] = lemma_tweets;\n",
        "basic_clean_df['Lemma_Stemming'] = lemma_stem_tweets;\n",
        "basic_clean_df.head()\n",
        "\n",
        "# We can see that in stemming is just removing last few characters of words.\n",
        "# Whereas lemmatization is considering context of words and converting to its\n",
        "# meaningful baseform."
      ],
      "metadata": {
        "colab": {
          "base_uri": "https://localhost:8080/",
          "height": 302
        },
        "id": "JuI8KAC5qD5H",
        "outputId": "e185e2a5-5e06-4593-f9f7-502abd8a446d"
      },
      "execution_count": 34,
      "outputs": [
        {
          "output_type": "execute_result",
          "data": {
            "text/plain": [
              "                                         Basic clean          sentiment  \\\n",
              "0            words katandandre food crapilicious mkr  not_cyberbullying   \n",
              "1  aussietv white mkr theblock today sunrise stud...  not_cyberbullying   \n",
              "2                   classy whore red velvet cupcakes  not_cyberbullying   \n",
              "3  meh p thanks heads concerned another angry dud...  not_cyberbullying   \n",
              "4  isis account pretending kurdish account like i...  not_cyberbullying   \n",
              "\n",
              "   tweet_length                                           Stemming  \\\n",
              "0             5                 word katandandr food crapilici mkr   \n",
              "1            10  aussietv white mkr theblock today sunris studi...   \n",
              "2             5                     classi whore red velvet cupcak   \n",
              "3             9  meh p thank head concern anoth angri dude twitter   \n",
              "4             8  isi account pretend kurdish account like islam...   \n",
              "\n",
              "                                       Lemmatization  \\\n",
              "0             word katandandre food crapilicious mkr   \n",
              "1  aussietv white mkr theblock today sunrise stud...   \n",
              "2                    classy whore red velvet cupcake   \n",
              "3  meh p thanks head concerned another angry dude...   \n",
              "4  isi account pretending kurdish account like is...   \n",
              "\n",
              "                                      Lemma_Stemming  \n",
              "0                 word katandandr food crapilici mkr  \n",
              "1  aussietv white mkr theblock today sunris studi...  \n",
              "2                     classi whore red velvet cupcak  \n",
              "3  meh p thank head concern anoth angri dude twitter  \n",
              "4  isi account pretend kurdish account like islam...  "
            ],
            "text/html": [
              "\n",
              "  <div id=\"df-dcaf8530-f9f1-4c63-9bfb-2b7793683e03\">\n",
              "    <div class=\"colab-df-container\">\n",
              "      <div>\n",
              "<style scoped>\n",
              "    .dataframe tbody tr th:only-of-type {\n",
              "        vertical-align: middle;\n",
              "    }\n",
              "\n",
              "    .dataframe tbody tr th {\n",
              "        vertical-align: top;\n",
              "    }\n",
              "\n",
              "    .dataframe thead th {\n",
              "        text-align: right;\n",
              "    }\n",
              "</style>\n",
              "<table border=\"1\" class=\"dataframe\">\n",
              "  <thead>\n",
              "    <tr style=\"text-align: right;\">\n",
              "      <th></th>\n",
              "      <th>Basic clean</th>\n",
              "      <th>sentiment</th>\n",
              "      <th>tweet_length</th>\n",
              "      <th>Stemming</th>\n",
              "      <th>Lemmatization</th>\n",
              "      <th>Lemma_Stemming</th>\n",
              "    </tr>\n",
              "  </thead>\n",
              "  <tbody>\n",
              "    <tr>\n",
              "      <th>0</th>\n",
              "      <td>words katandandre food crapilicious mkr</td>\n",
              "      <td>not_cyberbullying</td>\n",
              "      <td>5</td>\n",
              "      <td>word katandandr food crapilici mkr</td>\n",
              "      <td>word katandandre food crapilicious mkr</td>\n",
              "      <td>word katandandr food crapilici mkr</td>\n",
              "    </tr>\n",
              "    <tr>\n",
              "      <th>1</th>\n",
              "      <td>aussietv white mkr theblock today sunrise stud...</td>\n",
              "      <td>not_cyberbullying</td>\n",
              "      <td>10</td>\n",
              "      <td>aussietv white mkr theblock today sunris studi...</td>\n",
              "      <td>aussietv white mkr theblock today sunrise stud...</td>\n",
              "      <td>aussietv white mkr theblock today sunris studi...</td>\n",
              "    </tr>\n",
              "    <tr>\n",
              "      <th>2</th>\n",
              "      <td>classy whore red velvet cupcakes</td>\n",
              "      <td>not_cyberbullying</td>\n",
              "      <td>5</td>\n",
              "      <td>classi whore red velvet cupcak</td>\n",
              "      <td>classy whore red velvet cupcake</td>\n",
              "      <td>classi whore red velvet cupcak</td>\n",
              "    </tr>\n",
              "    <tr>\n",
              "      <th>3</th>\n",
              "      <td>meh p thanks heads concerned another angry dud...</td>\n",
              "      <td>not_cyberbullying</td>\n",
              "      <td>9</td>\n",
              "      <td>meh p thank head concern anoth angri dude twitter</td>\n",
              "      <td>meh p thanks head concerned another angry dude...</td>\n",
              "      <td>meh p thank head concern anoth angri dude twitter</td>\n",
              "    </tr>\n",
              "    <tr>\n",
              "      <th>4</th>\n",
              "      <td>isis account pretending kurdish account like i...</td>\n",
              "      <td>not_cyberbullying</td>\n",
              "      <td>8</td>\n",
              "      <td>isi account pretend kurdish account like islam...</td>\n",
              "      <td>isi account pretending kurdish account like is...</td>\n",
              "      <td>isi account pretend kurdish account like islam...</td>\n",
              "    </tr>\n",
              "  </tbody>\n",
              "</table>\n",
              "</div>\n",
              "      <button class=\"colab-df-convert\" onclick=\"convertToInteractive('df-dcaf8530-f9f1-4c63-9bfb-2b7793683e03')\"\n",
              "              title=\"Convert this dataframe to an interactive table.\"\n",
              "              style=\"display:none;\">\n",
              "        \n",
              "  <svg xmlns=\"http://www.w3.org/2000/svg\" height=\"24px\"viewBox=\"0 0 24 24\"\n",
              "       width=\"24px\">\n",
              "    <path d=\"M0 0h24v24H0V0z\" fill=\"none\"/>\n",
              "    <path d=\"M18.56 5.44l.94 2.06.94-2.06 2.06-.94-2.06-.94-.94-2.06-.94 2.06-2.06.94zm-11 1L8.5 8.5l.94-2.06 2.06-.94-2.06-.94L8.5 2.5l-.94 2.06-2.06.94zm10 10l.94 2.06.94-2.06 2.06-.94-2.06-.94-.94-2.06-.94 2.06-2.06.94z\"/><path d=\"M17.41 7.96l-1.37-1.37c-.4-.4-.92-.59-1.43-.59-.52 0-1.04.2-1.43.59L10.3 9.45l-7.72 7.72c-.78.78-.78 2.05 0 2.83L4 21.41c.39.39.9.59 1.41.59.51 0 1.02-.2 1.41-.59l7.78-7.78 2.81-2.81c.8-.78.8-2.07 0-2.86zM5.41 20L4 18.59l7.72-7.72 1.47 1.35L5.41 20z\"/>\n",
              "  </svg>\n",
              "      </button>\n",
              "      \n",
              "  <style>\n",
              "    .colab-df-container {\n",
              "      display:flex;\n",
              "      flex-wrap:wrap;\n",
              "      gap: 12px;\n",
              "    }\n",
              "\n",
              "    .colab-df-convert {\n",
              "      background-color: #E8F0FE;\n",
              "      border: none;\n",
              "      border-radius: 50%;\n",
              "      cursor: pointer;\n",
              "      display: none;\n",
              "      fill: #1967D2;\n",
              "      height: 32px;\n",
              "      padding: 0 0 0 0;\n",
              "      width: 32px;\n",
              "    }\n",
              "\n",
              "    .colab-df-convert:hover {\n",
              "      background-color: #E2EBFA;\n",
              "      box-shadow: 0px 1px 2px rgba(60, 64, 67, 0.3), 0px 1px 3px 1px rgba(60, 64, 67, 0.15);\n",
              "      fill: #174EA6;\n",
              "    }\n",
              "\n",
              "    [theme=dark] .colab-df-convert {\n",
              "      background-color: #3B4455;\n",
              "      fill: #D2E3FC;\n",
              "    }\n",
              "\n",
              "    [theme=dark] .colab-df-convert:hover {\n",
              "      background-color: #434B5C;\n",
              "      box-shadow: 0px 1px 3px 1px rgba(0, 0, 0, 0.15);\n",
              "      filter: drop-shadow(0px 1px 2px rgba(0, 0, 0, 0.3));\n",
              "      fill: #FFFFFF;\n",
              "    }\n",
              "  </style>\n",
              "\n",
              "      <script>\n",
              "        const buttonEl =\n",
              "          document.querySelector('#df-dcaf8530-f9f1-4c63-9bfb-2b7793683e03 button.colab-df-convert');\n",
              "        buttonEl.style.display =\n",
              "          google.colab.kernel.accessAllowed ? 'block' : 'none';\n",
              "\n",
              "        async function convertToInteractive(key) {\n",
              "          const element = document.querySelector('#df-dcaf8530-f9f1-4c63-9bfb-2b7793683e03');\n",
              "          const dataTable =\n",
              "            await google.colab.kernel.invokeFunction('convertToInteractive',\n",
              "                                                     [key], {});\n",
              "          if (!dataTable) return;\n",
              "\n",
              "          const docLinkHtml = 'Like what you see? Visit the ' +\n",
              "            '<a target=\"_blank\" href=https://colab.research.google.com/notebooks/data_table.ipynb>data table notebook</a>'\n",
              "            + ' to learn more about interactive tables.';\n",
              "          element.innerHTML = '';\n",
              "          dataTable['output_type'] = 'display_data';\n",
              "          await google.colab.output.renderOutput(dataTable, element);\n",
              "          const docLink = document.createElement('div');\n",
              "          docLink.innerHTML = docLinkHtml;\n",
              "          element.appendChild(docLink);\n",
              "        }\n",
              "      </script>\n",
              "    </div>\n",
              "  </div>\n",
              "  "
            ]
          },
          "metadata": {},
          "execution_count": 34
        }
      ]
    },
    {
      "cell_type": "markdown",
      "source": [
        "Encoding the sentiment column."
      ],
      "metadata": {
        "id": "c9H2qB3-bS3u"
      }
    },
    {
      "cell_type": "code",
      "source": [
        "basic_clean_df['sentiment'] = basic_clean_df['sentiment'].replace({'religion':0,'age':1,'ethnicity':2,'gender':3,'not_cyberbullying':4})"
      ],
      "metadata": {
        "id": "rdLsARD4bSSt"
      },
      "execution_count": 35,
      "outputs": []
    },
    {
      "cell_type": "markdown",
      "source": [
        "Word Cloud for religion sentiment"
      ],
      "metadata": {
        "id": "YMUIoubmDyTq"
      }
    },
    {
      "cell_type": "code",
      "source": [
        "import matplotlib.pyplot as plt\n",
        "from wordcloud import WordCloud\n",
        "\n",
        "text = basic_clean_df[basic_clean_df['sentiment']==0]['Stemming'].values\n",
        "wordCloud = WordCloud().generate(str(text))\n",
        "plt.imshow(wordCloud)\n",
        "plt.savefig('religion.png')"
      ],
      "metadata": {
        "id": "2yc52qnNAdXu",
        "outputId": "761cac3c-fa7d-4a4e-b178-37b87ad6d308",
        "colab": {
          "base_uri": "https://localhost:8080/",
          "height": 219
        }
      },
      "execution_count": 36,
      "outputs": [
        {
          "output_type": "display_data",
          "data": {
            "text/plain": [
              "<Figure size 432x288 with 1 Axes>"
            ],
            "image/png": "[encoded data removed]"
          },
          "metadata": {
            "needs_background": "light"
          }
        }
      ]
    },
    {
      "cell_type": "markdown",
      "source": [
        "Word Cloud for age sentiment"
      ],
      "metadata": {
        "id": "LSIIqHO7D9s-"
      }
    },
    {
      "cell_type": "code",
      "source": [
        "text = basic_clean_df[basic_clean_df['sentiment']==1]['Stemming'].values\n",
        "wordCloud = WordCloud().generate(str(text))\n",
        "plt.imshow(wordCloud)\n",
        "plt.savefig('age.png')"
      ],
      "metadata": {
        "id": "TIWA1Y2ZD3w9",
        "outputId": "48a346b2-bb95-42d7-ce38-088416b03551",
        "colab": {
          "base_uri": "https://localhost:8080/",
          "height": 219
        }
      },
      "execution_count": 37,
      "outputs": [
        {
          "output_type": "display_data",
          "data": {
            "text/plain": [
              "<Figure size 432x288 with 1 Axes>"
            ],
            "image/png": "[encoded data removed]"
          },
          "metadata": {
            "needs_background": "light"
          }
        }
      ]
    },
    {
      "cell_type": "markdown",
      "source": [
        "Word Cloud for ethnicity sentiment"
      ],
      "metadata": {
        "id": "vTDgbE_2ECaO"
      }
    },
    {
      "cell_type": "code",
      "source": [
        "text = basic_clean_df[basic_clean_df['sentiment']==2]['Stemming'].values\n",
        "wordCloud = WordCloud().generate(str(text))\n",
        "plt.imshow(wordCloud)\n",
        "plt.savefig('ethnicity.png')"
      ],
      "metadata": {
        "id": "ch5ss5GFEIHy",
        "outputId": "0ca55a98-919a-4fce-853d-72a5193303ab",
        "colab": {
          "base_uri": "https://localhost:8080/",
          "height": 219
        }
      },
      "execution_count": 38,
      "outputs": [
        {
          "output_type": "display_data",
          "data": {
            "text/plain": [
              "<Figure size 432x288 with 1 Axes>"
            ],
            "image/png": "[encoded data removed]"
          },
          "metadata": {
            "needs_background": "light"
          }
        }
      ]
    },
    {
      "cell_type": "markdown",
      "source": [
        "Word Cloud for not_cyberbullying sentiment"
      ],
      "metadata": {
        "id": "OG18xAVLEOuu"
      }
    },
    {
      "cell_type": "code",
      "source": [
        "text = basic_clean_df[basic_clean_df['sentiment']==3]['Stemming'].values\n",
        "wordCloud = WordCloud().generate(str(text))\n",
        "plt.imshow(wordCloud)\n",
        "plt.savefig('not_cyberbullying.png')"
      ],
      "metadata": {
        "id": "WrovFpxvEUkg",
        "outputId": "f1391afd-dccf-4d4e-8dbd-d4a84cb25f72",
        "colab": {
          "base_uri": "https://localhost:8080/",
          "height": 219
        }
      },
      "execution_count": 39,
      "outputs": [
        {
          "output_type": "display_data",
          "data": {
            "text/plain": [
              "<Figure size 432x288 with 1 Axes>"
            ],
            "image/png": "[encoded data removed]"
          },
          "metadata": {
            "needs_background": "light"
          }
        }
      ]
    },
    {
      "cell_type": "markdown",
      "source": [
        "Word Cloud for gender sentiment"
      ],
      "metadata": {
        "id": "FvZNYuhpEiYv"
      }
    },
    {
      "cell_type": "code",
      "source": [
        "text = basic_clean_df[basic_clean_df['sentiment']==4]['Stemming'].values\n",
        "wordCloud = WordCloud().generate(str(text))\n",
        "plt.imshow(wordCloud)\n",
        "plt.savefig('gender.png')"
      ],
      "metadata": {
        "id": "z0HSEqdvEn4o",
        "outputId": "872e0d0f-f8f9-4206-b231-49b8a8e9ee53",
        "colab": {
          "base_uri": "https://localhost:8080/",
          "height": 219
        }
      },
      "execution_count": 40,
      "outputs": [
        {
          "output_type": "display_data",
          "data": {
            "text/plain": [
              "<Figure size 432x288 with 1 Axes>"
            ],
            "image/png": "[encoded data removed]"
          },
          "metadata": {
            "needs_background": "light"
          }
        }
      ]
    },
    {
      "cell_type": "markdown",
      "source": [
        "## Proceeding towards Word embeddings"
      ],
      "metadata": {
        "id": "Vy3x4BjSdT4l"
      }
    },
    {
      "cell_type": "markdown",
      "source": [
        "For further processing, we will convert our results of - \n",
        "\n",
        "*   Stemming\n",
        "*   Lemmatization\n",
        "*   Lemmatization followed by stemming\n",
        "\n",
        "to vectors.\n",
        "To achieve this, we will be using following word-embeddings -\n",
        "\n",
        "\n",
        "1.   Bag of words\n",
        "2.   Tf-idf (Term Frequency-Inverse Document Frequency)\n",
        "3.   GloVe word embedding\n",
        "4.   Word2vec embedding\n",
        "\n",
        "\n",
        "Before going for these, lets first split the dataset in training and testing.\n"
      ],
      "metadata": {
        "id": "KeVgwA8Ydivp"
      }
    },
    {
      "cell_type": "markdown",
      "source": [
        "importing libraries"
      ],
      "metadata": {
        "id": "q9_NEH3fepnc"
      }
    },
    {
      "cell_type": "code",
      "source": [
        "from sklearn.model_selection import train_test_split"
      ],
      "metadata": {
        "id": "XwSyuVhveniE"
      },
      "execution_count": 41,
      "outputs": []
    },
    {
      "cell_type": "code",
      "source": [
        "basic_clean_df['sentiment'].value_counts()"
      ],
      "metadata": {
        "colab": {
          "base_uri": "https://localhost:8080/"
        },
        "id": "XuXppoZ0dLj-",
        "outputId": "f94f69dd-cccc-478c-e00d-5156e13a905e"
      },
      "execution_count": 42,
      "outputs": [
        {
          "output_type": "execute_result",
          "data": {
            "text/plain": [
              "0    7948\n",
              "1    7897\n",
              "2    7748\n",
              "4    7645\n",
              "3    7613\n",
              "Name: sentiment, dtype: int64"
            ]
          },
          "metadata": {},
          "execution_count": 42
        }
      ]
    },
    {
      "cell_type": "markdown",
      "source": [
        "Train/test split"
      ],
      "metadata": {
        "id": "NkLD2rB5dWK0"
      }
    },
    {
      "cell_type": "code",
      "source": [
        "# For X - dropping sentiment column \n",
        "X = basic_clean_df.drop(columns='sentiment');\n",
        "# y = sentiments\n",
        "y = basic_clean_df['sentiment']\n",
        "# Splitting 20% test and 80% train\n",
        "X_train,X_test,y_train,y_test = train_test_split(X, y, test_size=0.2, stratify=y, random_state = 42);\n",
        "print(X_train.shape, X_test.shape, y_train.shape, y_test.shape);"
      ],
      "metadata": {
        "colab": {
          "base_uri": "https://localhost:8080/"
        },
        "id": "03hUKLEvbLKd",
        "outputId": "3a958d2b-3432-47ff-9312-d31078b75276"
      },
      "execution_count": 43,
      "outputs": [
        {
          "output_type": "stream",
          "name": "stdout",
          "text": [
            "(31080, 5) (7771, 5) (31080,) (7771,)\n"
          ]
        }
      ]
    },
    {
      "cell_type": "markdown",
      "source": [
        "Defining different varaiables for Stemming,lemmatization and lemma_stem\n"
      ],
      "metadata": {
        "id": "nH9sR31jtSe_"
      }
    },
    {
      "cell_type": "code",
      "source": [
        "# For training -\n",
        "X_stem_train = X_train['Stemming']\n",
        "X_lemma_train = X_train['Lemmatization']\n",
        "X_lemmaStem_train = X_train['Lemma_Stemming']\n",
        "\n",
        "# For testing -\n",
        "X_stem_test = X_test['Stemming']\n",
        "X_lemma_test = X_test['Lemmatization']\n",
        "X_lemmaStem_test = X_test['Lemma_Stemming']\n",
        "\n",
        "print(X_stem_train.shape,X_lemma_train.shape,X_lemmaStem_train.shape)\n",
        "print(X_stem_test.shape,X_lemma_test.shape,X_lemmaStem_test.shape)"
      ],
      "metadata": {
        "colab": {
          "base_uri": "https://localhost:8080/"
        },
        "id": "OoGRKtZHtw7x",
        "outputId": "516d6f82-8b22-4a88-97a1-73014fe8e2e8"
      },
      "execution_count": 44,
      "outputs": [
        {
          "output_type": "stream",
          "name": "stdout",
          "text": [
            "(31080,) (31080,) (31080,)\n",
            "(7771,) (7771,) (7771,)\n"
          ]
        }
      ]
    },
    {
      "cell_type": "markdown",
      "source": [
        "Now, we will use above vairables for different embedings."
      ],
      "metadata": {
        "id": "YvQNE57yuevn"
      }
    },
    {
      "cell_type": "markdown",
      "source": [
        "### Bag of words"
      ],
      "metadata": {
        "id": "6-WZIFUJfBWa"
      }
    },
    {
      "cell_type": "markdown",
      "source": [
        "importing CountVectorizer"
      ],
      "metadata": {
        "id": "AkyzFCYAgHbf"
      }
    },
    {
      "cell_type": "code",
      "source": [
        "from sklearn.feature_extraction.text import CountVectorizer"
      ],
      "metadata": {
        "id": "7Fv6MMUTgGiv"
      },
      "execution_count": 45,
      "outputs": []
    },
    {
      "cell_type": "markdown",
      "source": [
        "Creating objects of CountVectorizer"
      ],
      "metadata": {
        "id": "_q0oM582vBgp"
      }
    },
    {
      "cell_type": "code",
      "source": [
        "bow1 = CountVectorizer();\n",
        "bow2 = CountVectorizer();\n",
        "bow3 = CountVectorizer();\n",
        "# for stemming\n",
        "bow_cv1 = bow1.fit_transform(X_stem_train);\n",
        "# for lemmatization\n",
        "bow_cv2 = bow2.fit_transform(X_lemma_train);\n",
        "# for lemma-stemming\n",
        "bow_cv3 = bow3.fit_transform(X_lemmaStem_train);\n",
        "\n",
        "print(bow_cv1.shape);\n",
        "print(bow_cv2.shape);\n",
        "print(bow_cv3.shape);"
      ],
      "metadata": {
        "id": "g8y5bWgGfQyR",
        "colab": {
          "base_uri": "https://localhost:8080/"
        },
        "outputId": "e93f337e-91dd-434c-cf2c-98baed8b6949"
      },
      "execution_count": 46,
      "outputs": [
        {
          "output_type": "stream",
          "name": "stdout",
          "text": [
            "(31080, 29153)\n",
            "(31080, 34843)\n",
            "(31080, 28992)\n"
          ]
        }
      ]
    },
    {
      "cell_type": "markdown",
      "source": [
        "### Tf-idf (Term Frequency-Inverse Document Frequency)"
      ],
      "metadata": {
        "id": "BaEUGpJPfF1K"
      }
    },
    {
      "cell_type": "markdown",
      "source": [
        "importing TfidfTransformer"
      ],
      "metadata": {
        "id": "hiaHOCPexV4v"
      }
    },
    {
      "cell_type": "code",
      "source": [
        "from sklearn.feature_extraction.text import TfidfTransformer"
      ],
      "metadata": {
        "id": "yV69lxLSdh7K"
      },
      "execution_count": 47,
      "outputs": []
    },
    {
      "cell_type": "markdown",
      "source": [
        "Creating objects of TfidfTransformer"
      ],
      "metadata": {
        "id": "lIpw0Kajxt8_"
      }
    },
    {
      "cell_type": "code",
      "source": [
        "tfid1 = TfidfTransformer(use_idf=True).fit(bow_cv1)\n",
        "tfid2 = TfidfTransformer(use_idf=True).fit(bow_cv2)\n",
        "tfid3 = TfidfTransformer(use_idf=True).fit(bow_cv3)\n",
        "# for stemming\n",
        "tf_cv1 = tfid1.transform(bow_cv1);\n",
        "# for lemmatization\n",
        "tf_cv2 = tfid2.transform(bow_cv2);\n",
        "# for lemma-stemming\n",
        "tf_cv3 = tfid3.transform(bow_cv3);\n",
        "\n",
        "print(tf_cv1.shape);\n",
        "print(tf_cv2.shape);\n",
        "print(tf_cv3.shape);"
      ],
      "metadata": {
        "id": "D7uEUDGIx6ES",
        "colab": {
          "base_uri": "https://localhost:8080/"
        },
        "outputId": "169f6584-40b4-4b1b-d9aa-b346e0052f66"
      },
      "execution_count": 48,
      "outputs": [
        {
          "output_type": "stream",
          "name": "stdout",
          "text": [
            "(31080, 29153)\n",
            "(31080, 34843)\n",
            "(31080, 28992)\n"
          ]
        }
      ]
    },
    {
      "cell_type": "markdown",
      "source": [
        "### GloVe (Global Vectors) Word Embedding"
      ],
      "metadata": {
        "id": "mAtChbWFNQ3-"
      }
    },
    {
      "cell_type": "markdown",
      "source": [
        "Downloading glove python library"
      ],
      "metadata": {
        "id": "zY3w3NPSP4qC"
      }
    },
    {
      "cell_type": "code",
      "source": [
        "! pip install glove-python-binary"
      ],
      "metadata": {
        "id": "ouIy51pgNv5u",
        "outputId": "890a4a59-28e9-41ed-ebb8-58644b4c4055",
        "colab": {
          "base_uri": "https://localhost:8080/"
        }
      },
      "execution_count": 49,
      "outputs": [
        {
          "output_type": "stream",
          "name": "stdout",
          "text": [
            "Collecting glove-python-binary\n",
            "  Downloading glove_python_binary-0.2.0-cp37-cp37m-manylinux1_x86_64.whl (948 kB)\n",
            "\u001b[?25l\r\u001b[K     |▍                               | 10 kB 26.5 MB/s eta 0:00:01\r\u001b[K     |▊                               | 20 kB 11.6 MB/s eta 0:00:01\r\u001b[K     |█                               | 30 kB 8.4 MB/s eta 0:00:01\r\u001b[K     |█▍                              | 40 kB 3.6 MB/s eta 0:00:01\r\u001b[K     |█▊                              | 51 kB 3.6 MB/s eta 0:00:01\r\u001b[K     |██                              | 61 kB 4.3 MB/s eta 0:00:01\r\u001b[K     |██▍                             | 71 kB 4.5 MB/s eta 0:00:01\r\u001b[K     |██▊                             | 81 kB 4.5 MB/s eta 0:00:01\r\u001b[K     |███                             | 92 kB 5.0 MB/s eta 0:00:01\r\u001b[K     |███▌                            | 102 kB 4.0 MB/s eta 0:00:01\r\u001b[K     |███▉                            | 112 kB 4.0 MB/s eta 0:00:01\r\u001b[K     |████▏                           | 122 kB 4.0 MB/s eta 0:00:01\r\u001b[K     |████▌                           | 133 kB 4.0 MB/s eta 0:00:01\r\u001b[K     |████▉                           | 143 kB 4.0 MB/s eta 0:00:01\r\u001b[K     |█████▏                          | 153 kB 4.0 MB/s eta 0:00:01\r\u001b[K     |█████▌                          | 163 kB 4.0 MB/s eta 0:00:01\r\u001b[K     |█████▉                          | 174 kB 4.0 MB/s eta 0:00:01\r\u001b[K     |██████▏                         | 184 kB 4.0 MB/s eta 0:00:01\r\u001b[K     |██████▋                         | 194 kB 4.0 MB/s eta 0:00:01\r\u001b[K     |███████                         | 204 kB 4.0 MB/s eta 0:00:01\r\u001b[K     |███████▎                        | 215 kB 4.0 MB/s eta 0:00:01\r\u001b[K     |███████▋                        | 225 kB 4.0 MB/s eta 0:00:01\r\u001b[K     |████████                        | 235 kB 4.0 MB/s eta 0:00:01\r\u001b[K     |████████▎                       | 245 kB 4.0 MB/s eta 0:00:01\r\u001b[K     |████████▋                       | 256 kB 4.0 MB/s eta 0:00:01\r\u001b[K     |█████████                       | 266 kB 4.0 MB/s eta 0:00:01\r\u001b[K     |█████████▎                      | 276 kB 4.0 MB/s eta 0:00:01\r\u001b[K     |█████████▊                      | 286 kB 4.0 MB/s eta 0:00:01\r\u001b[K     |██████████                      | 296 kB 4.0 MB/s eta 0:00:01\r\u001b[K     |██████████▍                     | 307 kB 4.0 MB/s eta 0:00:01\r\u001b[K     |██████████▊                     | 317 kB 4.0 MB/s eta 0:00:01\r\u001b[K     |███████████                     | 327 kB 4.0 MB/s eta 0:00:01\r\u001b[K     |███████████▍                    | 337 kB 4.0 MB/s eta 0:00:01\r\u001b[K     |███████████▊                    | 348 kB 4.0 MB/s eta 0:00:01\r\u001b[K     |████████████                    | 358 kB 4.0 MB/s eta 0:00:01\r\u001b[K     |████████████▍                   | 368 kB 4.0 MB/s eta 0:00:01\r\u001b[K     |████████████▊                   | 378 kB 4.0 MB/s eta 0:00:01\r\u001b[K     |█████████████▏                  | 389 kB 4.0 MB/s eta 0:00:01\r\u001b[K     |█████████████▌                  | 399 kB 4.0 MB/s eta 0:00:01\r\u001b[K     |█████████████▉                  | 409 kB 4.0 MB/s eta 0:00:01\r\u001b[K     |██████████████▏                 | 419 kB 4.0 MB/s eta 0:00:01\r\u001b[K     |██████████████▌                 | 430 kB 4.0 MB/s eta 0:00:01\r\u001b[K     |██████████████▉                 | 440 kB 4.0 MB/s eta 0:00:01\r\u001b[K     |███████████████▏                | 450 kB 4.0 MB/s eta 0:00:01\r\u001b[K     |███████████████▌                | 460 kB 4.0 MB/s eta 0:00:01\r\u001b[K     |███████████████▉                | 471 kB 4.0 MB/s eta 0:00:01\r\u001b[K     |████████████████▎               | 481 kB 4.0 MB/s eta 0:00:01\r\u001b[K     |████████████████▋               | 491 kB 4.0 MB/s eta 0:00:01\r\u001b[K     |█████████████████               | 501 kB 4.0 MB/s eta 0:00:01\r\u001b[K     |█████████████████▎              | 512 kB 4.0 MB/s eta 0:00:01\r\u001b[K     |█████████████████▋              | 522 kB 4.0 MB/s eta 0:00:01\r\u001b[K     |██████████████████              | 532 kB 4.0 MB/s eta 0:00:01\r\u001b[K     |██████████████████▎             | 542 kB 4.0 MB/s eta 0:00:01\r\u001b[K     |██████████████████▋             | 552 kB 4.0 MB/s eta 0:00:01\r\u001b[K     |███████████████████             | 563 kB 4.0 MB/s eta 0:00:01\r\u001b[K     |███████████████████▍            | 573 kB 4.0 MB/s eta 0:00:01\r\u001b[K     |███████████████████▊            | 583 kB 4.0 MB/s eta 0:00:01\r\u001b[K     |████████████████████            | 593 kB 4.0 MB/s eta 0:00:01\r\u001b[K     |████████████████████▍           | 604 kB 4.0 MB/s eta 0:00:01\r\u001b[K     |████████████████████▊           | 614 kB 4.0 MB/s eta 0:00:01\r\u001b[K     |█████████████████████           | 624 kB 4.0 MB/s eta 0:00:01\r\u001b[K     |█████████████████████▍          | 634 kB 4.0 MB/s eta 0:00:01\r\u001b[K     |█████████████████████▊          | 645 kB 4.0 MB/s eta 0:00:01\r\u001b[K     |██████████████████████          | 655 kB 4.0 MB/s eta 0:00:01\r\u001b[K     |██████████████████████▌         | 665 kB 4.0 MB/s eta 0:00:01\r\u001b[K     |██████████████████████▉         | 675 kB 4.0 MB/s eta 0:00:01\r\u001b[K     |███████████████████████▏        | 686 kB 4.0 MB/s eta 0:00:01\r\u001b[K     |███████████████████████▌        | 696 kB 4.0 MB/s eta 0:00:01\r\u001b[K     |███████████████████████▉        | 706 kB 4.0 MB/s eta 0:00:01\r\u001b[K     |████████████████████████▏       | 716 kB 4.0 MB/s eta 0:00:01\r\u001b[K     |████████████████████████▌       | 727 kB 4.0 MB/s eta 0:00:01\r\u001b[K     |████████████████████████▉       | 737 kB 4.0 MB/s eta 0:00:01\r\u001b[K     |█████████████████████████▏      | 747 kB 4.0 MB/s eta 0:00:01\r\u001b[K     |█████████████████████████▌      | 757 kB 4.0 MB/s eta 0:00:01\r\u001b[K     |██████████████████████████      | 768 kB 4.0 MB/s eta 0:00:01\r\u001b[K     |██████████████████████████▎     | 778 kB 4.0 MB/s eta 0:00:01\r\u001b[K     |██████████████████████████▋     | 788 kB 4.0 MB/s eta 0:00:01\r\u001b[K     |███████████████████████████     | 798 kB 4.0 MB/s eta 0:00:01\r\u001b[K     |███████████████████████████▎    | 808 kB 4.0 MB/s eta 0:00:01\r\u001b[K     |███████████████████████████▋    | 819 kB 4.0 MB/s eta 0:00:01\r\u001b[K     |████████████████████████████    | 829 kB 4.0 MB/s eta 0:00:01\r\u001b[K     |████████████████████████████▎   | 839 kB 4.0 MB/s eta 0:00:01\r\u001b[K     |████████████████████████████▋   | 849 kB 4.0 MB/s eta 0:00:01\r\u001b[K     |█████████████████████████████   | 860 kB 4.0 MB/s eta 0:00:01\r\u001b[K     |█████████████████████████████▍  | 870 kB 4.0 MB/s eta 0:00:01\r\u001b[K     |█████████████████████████████▊  | 880 kB 4.0 MB/s eta 0:00:01\r\u001b[K     |██████████████████████████████  | 890 kB 4.0 MB/s eta 0:00:01\r\u001b[K     |██████████████████████████████▍ | 901 kB 4.0 MB/s eta 0:00:01\r\u001b[K     |██████████████████████████████▊ | 911 kB 4.0 MB/s eta 0:00:01\r\u001b[K     |███████████████████████████████ | 921 kB 4.0 MB/s eta 0:00:01\r\u001b[K     |███████████████████████████████▍| 931 kB 4.0 MB/s eta 0:00:01\r\u001b[K     |███████████████████████████████▊| 942 kB 4.0 MB/s eta 0:00:01\r\u001b[K     |████████████████████████████████| 948 kB 4.0 MB/s \n",
            "\u001b[?25hRequirement already satisfied: numpy in /usr/local/lib/python3.7/dist-packages (from glove-python-binary) (1.21.5)\n",
            "Requirement already satisfied: scipy in /usr/local/lib/python3.7/dist-packages (from glove-python-binary) (1.4.1)\n",
            "Installing collected packages: glove-python-binary\n",
            "Successfully installed glove-python-binary-0.2.0\n"
          ]
        }
      ]
    },
    {
      "cell_type": "markdown",
      "source": [
        "Creating two lists- tweet_text and tweet_sentiment to store stemmed tweets and its corresponding sentiment so that we can train glove embeddings."
      ],
      "metadata": {
        "id": "V5F3Q2YQRn2n"
      }
    },
    {
      "cell_type": "code",
      "source": [
        "size = len(basic_clean_df)\n",
        "tweet_text = []\n",
        "tweet_sentiment = []\n",
        "for key, value in basic_clean_df.iterrows():\n",
        "  tweet = value['Stemming'].split()\n",
        "  tweet_text.append(tweet)\n",
        "  tweet_sentiment.append(value['sentiment'])"
      ],
      "metadata": {
        "id": "pLXw_koKQFvf"
      },
      "execution_count": 50,
      "outputs": []
    },
    {
      "cell_type": "markdown",
      "source": [
        "Now training glove to create embeddings"
      ],
      "metadata": {
        "id": "QDukWrtuSnCt"
      }
    },
    {
      "cell_type": "code",
      "source": [
        "from glove import Corpus, Glove\n",
        "\n",
        "corpus = Corpus()  # Creating a corpus object that will generate the co-occurence matrix\n",
        "corpus.fit(tweet_text, window = 10)  # Training the corpus to generate the co-occurence matrix that will be used by GloVe\n",
        "glove = Glove(no_components=5, learning_rate=0.05)  # Creating a glove object that will use the matrix created above to create embeddings\n",
        "glove.fit(corpus.matrix, epochs=30, no_threads=4, verbose=True)  # Training glove to create embeddings\n",
        "glove.add_dictionary(corpus.dictionary)  # Adding corpus dictionary to glove dictionary\n",
        "glove.save('glove.model')  # Saving the model"
      ],
      "metadata": {
        "id": "7pdapjaMSWGG",
        "outputId": "a349230a-f3aa-40c9-aab2-d1bc8ffb7d77",
        "colab": {
          "base_uri": "https://localhost:8080/"
        }
      },
      "execution_count": 51,
      "outputs": [
        {
          "output_type": "stream",
          "name": "stdout",
          "text": [
            "Performing 30 training epochs with 4 threads\n",
            "Epoch 0\n",
            "Epoch 1\n",
            "Epoch 2\n",
            "Epoch 3\n",
            "Epoch 4\n",
            "Epoch 5\n",
            "Epoch 6\n",
            "Epoch 7\n",
            "Epoch 8\n",
            "Epoch 9\n",
            "Epoch 10\n",
            "Epoch 11\n",
            "Epoch 12\n",
            "Epoch 13\n",
            "Epoch 14\n",
            "Epoch 15\n",
            "Epoch 16\n",
            "Epoch 17\n",
            "Epoch 18\n",
            "Epoch 19\n",
            "Epoch 20\n",
            "Epoch 21\n",
            "Epoch 22\n",
            "Epoch 23\n",
            "Epoch 24\n",
            "Epoch 25\n",
            "Epoch 26\n",
            "Epoch 27\n",
            "Epoch 28\n",
            "Epoch 29\n"
          ]
        }
      ]
    },
    {
      "cell_type": "markdown",
      "source": [
        "Iterating over stemmed tweets and storing the word embeddings in a list"
      ],
      "metadata": {
        "id": "VJ5ExAOLVQgF"
      }
    },
    {
      "cell_type": "code",
      "source": [
        "word_embeddings = []\n",
        "for key, value in basic_clean_df.iterrows():\n",
        "  words = value['Stemming'].split()\n",
        "  embedding = np.zeros(5)\n",
        "  for j in range(len(words)):  # Iterating over all words in the tweet to calculate mean of GloVe embedding\n",
        "    embedding += np.array(glove.word_vectors[glove.dictionary[words[j]]])\n",
        "  embedding = embedding/len(words)\n",
        "  word_embeddings.append(embedding)"
      ],
      "metadata": {
        "id": "6hKsv5QEU9rV"
      },
      "execution_count": 52,
      "outputs": []
    },
    {
      "cell_type": "markdown",
      "source": [
        "Creating a dataframe for word embeddings and their corresponding sentiment"
      ],
      "metadata": {
        "id": "lbgSXivQWTz7"
      }
    },
    {
      "cell_type": "code",
      "source": [
        "embeddings_df = pd.DataFrame(word_embeddings, columns = ['col1', 'col2', 'col3', 'col4', 'col5'])\n",
        "embeddings_df['sentiments'] = tweet_sentiment\n",
        "embeddings_df"
      ],
      "metadata": {
        "id": "PYUYwnsaWbz9",
        "outputId": "fed1ad31-0786-499c-ba19-0af13891ab9c",
        "colab": {
          "base_uri": "https://localhost:8080/",
          "height": 423
        }
      },
      "execution_count": 53,
      "outputs": [
        {
          "output_type": "execute_result",
          "data": {
            "text/plain": [
              "           col1      col2      col3      col4      col5  sentiments\n",
              "0      0.212204 -0.465484  0.054564  0.427029  0.383327           4\n",
              "1      0.203359 -0.241591 -0.090975  0.201154  0.279825           4\n",
              "2      0.050247 -0.037837 -0.067568  0.247621  0.005327           4\n",
              "3      0.297791 -0.404150 -0.237460  0.052676  0.299204           4\n",
              "4      0.345922 -0.574660 -0.595951 -0.148217  0.481822           4\n",
              "...         ...       ...       ...       ...       ...         ...\n",
              "38846  0.339146 -0.432387 -0.300704 -0.178953  0.381869           2\n",
              "38847  0.263691 -0.325146 -0.207747  0.118321  0.332876           2\n",
              "38848  0.516327 -0.695772 -0.381337  0.493326  0.335804           2\n",
              "38849  0.862241 -1.112247 -0.564244  1.131946  0.556689           2\n",
              "38850  0.605366 -0.869773 -0.507410  0.662178  0.488184           2\n",
              "\n",
              "[38851 rows x 6 columns]"
            ],
            "text/html": [
              "\n",
              "  <div id=\"df-6f68dbe1-27e1-4195-8438-48a93bd51554\">\n",
              "    <div class=\"colab-df-container\">\n",
              "      <div>\n",
              "<style scoped>\n",
              "    .dataframe tbody tr th:only-of-type {\n",
              "        vertical-align: middle;\n",
              "    }\n",
              "\n",
              "    .dataframe tbody tr th {\n",
              "        vertical-align: top;\n",
              "    }\n",
              "\n",
              "    .dataframe thead th {\n",
              "        text-align: right;\n",
              "    }\n",
              "</style>\n",
              "<table border=\"1\" class=\"dataframe\">\n",
              "  <thead>\n",
              "    <tr style=\"text-align: right;\">\n",
              "      <th></th>\n",
              "      <th>col1</th>\n",
              "      <th>col2</th>\n",
              "      <th>col3</th>\n",
              "      <th>col4</th>\n",
              "      <th>col5</th>\n",
              "      <th>sentiments</th>\n",
              "    </tr>\n",
              "  </thead>\n",
              "  <tbody>\n",
              "    <tr>\n",
              "      <th>0</th>\n",
              "      <td>0.212204</td>\n",
              "      <td>-0.465484</td>\n",
              "      <td>0.054564</td>\n",
              "      <td>0.427029</td>\n",
              "      <td>0.383327</td>\n",
              "      <td>4</td>\n",
              "    </tr>\n",
              "    <tr>\n",
              "      <th>1</th>\n",
              "      <td>0.203359</td>\n",
              "      <td>-0.241591</td>\n",
              "      <td>-0.090975</td>\n",
              "      <td>0.201154</td>\n",
              "      <td>0.279825</td>\n",
              "      <td>4</td>\n",
              "    </tr>\n",
              "    <tr>\n",
              "      <th>2</th>\n",
              "      <td>0.050247</td>\n",
              "      <td>-0.037837</td>\n",
              "      <td>-0.067568</td>\n",
              "      <td>0.247621</td>\n",
              "      <td>0.005327</td>\n",
              "      <td>4</td>\n",
              "    </tr>\n",
              "    <tr>\n",
              "      <th>3</th>\n",
              "      <td>0.297791</td>\n",
              "      <td>-0.404150</td>\n",
              "      <td>-0.237460</td>\n",
              "      <td>0.052676</td>\n",
              "      <td>0.299204</td>\n",
              "      <td>4</td>\n",
              "    </tr>\n",
              "    <tr>\n",
              "      <th>4</th>\n",
              "      <td>0.345922</td>\n",
              "      <td>-0.574660</td>\n",
              "      <td>-0.595951</td>\n",
              "      <td>-0.148217</td>\n",
              "      <td>0.481822</td>\n",
              "      <td>4</td>\n",
              "    </tr>\n",
              "    <tr>\n",
              "      <th>...</th>\n",
              "      <td>...</td>\n",
              "      <td>...</td>\n",
              "      <td>...</td>\n",
              "      <td>...</td>\n",
              "      <td>...</td>\n",
              "      <td>...</td>\n",
              "    </tr>\n",
              "    <tr>\n",
              "      <th>38846</th>\n",
              "      <td>0.339146</td>\n",
              "      <td>-0.432387</td>\n",
              "      <td>-0.300704</td>\n",
              "      <td>-0.178953</td>\n",
              "      <td>0.381869</td>\n",
              "      <td>2</td>\n",
              "    </tr>\n",
              "    <tr>\n",
              "      <th>38847</th>\n",
              "      <td>0.263691</td>\n",
              "      <td>-0.325146</td>\n",
              "      <td>-0.207747</td>\n",
              "      <td>0.118321</td>\n",
              "      <td>0.332876</td>\n",
              "      <td>2</td>\n",
              "    </tr>\n",
              "    <tr>\n",
              "      <th>38848</th>\n",
              "      <td>0.516327</td>\n",
              "      <td>-0.695772</td>\n",
              "      <td>-0.381337</td>\n",
              "      <td>0.493326</td>\n",
              "      <td>0.335804</td>\n",
              "      <td>2</td>\n",
              "    </tr>\n",
              "    <tr>\n",
              "      <th>38849</th>\n",
              "      <td>0.862241</td>\n",
              "      <td>-1.112247</td>\n",
              "      <td>-0.564244</td>\n",
              "      <td>1.131946</td>\n",
              "      <td>0.556689</td>\n",
              "      <td>2</td>\n",
              "    </tr>\n",
              "    <tr>\n",
              "      <th>38850</th>\n",
              "      <td>0.605366</td>\n",
              "      <td>-0.869773</td>\n",
              "      <td>-0.507410</td>\n",
              "      <td>0.662178</td>\n",
              "      <td>0.488184</td>\n",
              "      <td>2</td>\n",
              "    </tr>\n",
              "  </tbody>\n",
              "</table>\n",
              "<p>38851 rows × 6 columns</p>\n",
              "</div>\n",
              "      <button class=\"colab-df-convert\" onclick=\"convertToInteractive('df-6f68dbe1-27e1-4195-8438-48a93bd51554')\"\n",
              "              title=\"Convert this dataframe to an interactive table.\"\n",
              "              style=\"display:none;\">\n",
              "        \n",
              "  <svg xmlns=\"http://www.w3.org/2000/svg\" height=\"24px\"viewBox=\"0 0 24 24\"\n",
              "       width=\"24px\">\n",
              "    <path d=\"M0 0h24v24H0V0z\" fill=\"none\"/>\n",
              "    <path d=\"M18.56 5.44l.94 2.06.94-2.06 2.06-.94-2.06-.94-.94-2.06-.94 2.06-2.06.94zm-11 1L8.5 8.5l.94-2.06 2.06-.94-2.06-.94L8.5 2.5l-.94 2.06-2.06.94zm10 10l.94 2.06.94-2.06 2.06-.94-2.06-.94-.94-2.06-.94 2.06-2.06.94z\"/><path d=\"M17.41 7.96l-1.37-1.37c-.4-.4-.92-.59-1.43-.59-.52 0-1.04.2-1.43.59L10.3 9.45l-7.72 7.72c-.78.78-.78 2.05 0 2.83L4 21.41c.39.39.9.59 1.41.59.51 0 1.02-.2 1.41-.59l7.78-7.78 2.81-2.81c.8-.78.8-2.07 0-2.86zM5.41 20L4 18.59l7.72-7.72 1.47 1.35L5.41 20z\"/>\n",
              "  </svg>\n",
              "      </button>\n",
              "      \n",
              "  <style>\n",
              "    .colab-df-container {\n",
              "      display:flex;\n",
              "      flex-wrap:wrap;\n",
              "      gap: 12px;\n",
              "    }\n",
              "\n",
              "    .colab-df-convert {\n",
              "      background-color: #E8F0FE;\n",
              "      border: none;\n",
              "      border-radius: 50%;\n",
              "      cursor: pointer;\n",
              "      display: none;\n",
              "      fill: #1967D2;\n",
              "      height: 32px;\n",
              "      padding: 0 0 0 0;\n",
              "      width: 32px;\n",
              "    }\n",
              "\n",
              "    .colab-df-convert:hover {\n",
              "      background-color: #E2EBFA;\n",
              "      box-shadow: 0px 1px 2px rgba(60, 64, 67, 0.3), 0px 1px 3px 1px rgba(60, 64, 67, 0.15);\n",
              "      fill: #174EA6;\n",
              "    }\n",
              "\n",
              "    [theme=dark] .colab-df-convert {\n",
              "      background-color: #3B4455;\n",
              "      fill: #D2E3FC;\n",
              "    }\n",
              "\n",
              "    [theme=dark] .colab-df-convert:hover {\n",
              "      background-color: #434B5C;\n",
              "      box-shadow: 0px 1px 3px 1px rgba(0, 0, 0, 0.15);\n",
              "      filter: drop-shadow(0px 1px 2px rgba(0, 0, 0, 0.3));\n",
              "      fill: #FFFFFF;\n",
              "    }\n",
              "  </style>\n",
              "\n",
              "      <script>\n",
              "        const buttonEl =\n",
              "          document.querySelector('#df-6f68dbe1-27e1-4195-8438-48a93bd51554 button.colab-df-convert');\n",
              "        buttonEl.style.display =\n",
              "          google.colab.kernel.accessAllowed ? 'block' : 'none';\n",
              "\n",
              "        async function convertToInteractive(key) {\n",
              "          const element = document.querySelector('#df-6f68dbe1-27e1-4195-8438-48a93bd51554');\n",
              "          const dataTable =\n",
              "            await google.colab.kernel.invokeFunction('convertToInteractive',\n",
              "                                                     [key], {});\n",
              "          if (!dataTable) return;\n",
              "\n",
              "          const docLinkHtml = 'Like what you see? Visit the ' +\n",
              "            '<a target=\"_blank\" href=https://colab.research.google.com/notebooks/data_table.ipynb>data table notebook</a>'\n",
              "            + ' to learn more about interactive tables.';\n",
              "          element.innerHTML = '';\n",
              "          dataTable['output_type'] = 'display_data';\n",
              "          await google.colab.output.renderOutput(dataTable, element);\n",
              "          const docLink = document.createElement('div');\n",
              "          docLink.innerHTML = docLinkHtml;\n",
              "          element.appendChild(docLink);\n",
              "        }\n",
              "      </script>\n",
              "    </div>\n",
              "  </div>\n",
              "  "
            ]
          },
          "metadata": {},
          "execution_count": 53
        }
      ]
    },
    {
      "cell_type": "markdown",
      "source": [
        "# Baseline technique - Naive Bayes"
      ],
      "metadata": {
        "id": "mMOo_42f78PK"
      }
    },
    {
      "cell_type": "markdown",
      "source": [
        "## Training Multinomial Naive Bayes using Bag of words and Tf-idf Embedding"
      ],
      "metadata": {
        "id": "cLG86h5arDuA"
      }
    },
    {
      "cell_type": "markdown",
      "source": [
        "Importing multinomial naive bayes"
      ],
      "metadata": {
        "id": "WB0YkX3y8R_b"
      }
    },
    {
      "cell_type": "code",
      "source": [
        "from sklearn.naive_bayes import MultinomialNB,GaussianNB"
      ],
      "metadata": {
        "id": "HbG47j9K8syz"
      },
      "execution_count": 54,
      "outputs": []
    },
    {
      "cell_type": "markdown",
      "source": [
        "Importing evaluation metrics"
      ],
      "metadata": {
        "id": "nYAbIyWZEvVt"
      }
    },
    {
      "cell_type": "code",
      "source": [
        "from sklearn.metrics import classification_report,accuracy_score\n"
      ],
      "metadata": {
        "id": "sIe8QBYNBfhq"
      },
      "execution_count": 55,
      "outputs": []
    },
    {
      "cell_type": "markdown",
      "source": [
        "k fold cross validation (k=5)"
      ],
      "metadata": {
        "id": "SzFNNQ6vBFPs"
      }
    },
    {
      "cell_type": "code",
      "source": [
        "from sklearn.model_selection import KFold"
      ],
      "metadata": {
        "id": "xeZ4EssuUz5M"
      },
      "execution_count": 56,
      "outputs": []
    },
    {
      "cell_type": "markdown",
      "source": [
        "For bag of words\n"
      ],
      "metadata": {
        "id": "R4dJcHgoV9yT"
      }
    },
    {
      "cell_type": "code",
      "source": [
        "y_train = np.array(y_train)\n",
        "model = 1\n",
        "accuracy_val = 0\n",
        "accuracy_train = 0\n",
        "kf = KFold(n_splits = 5)\n",
        "for train_index, val_index in kf.split(bow_cv1):\n",
        "  X_KFold_train, X_KFold_val = bow_cv1[train_index], bow_cv1[val_index]\n",
        "  Y_KFold_train, Y_KFold_val = y_train[train_index], y_train[val_index]\n",
        "  mnb = MultinomialNB()\n",
        "  mnb.fit(X_KFold_train, Y_KFold_train)\n",
        "  Y_pred = mnb.predict(X_KFold_val)\n",
        "  YY_pred = mnb.predict(X_KFold_train)\n",
        "  print(\"Classification report for K-Fold model \"+str(model))\n",
        "  print(\"For validation set -\")\n",
        "  print(classification_report(Y_KFold_val, Y_pred))\n",
        "  print(\"For training set -\")\n",
        "  accuracy_val += accuracy_score(Y_KFold_val, Y_pred)\n",
        "  print(classification_report(Y_KFold_train, YY_pred))\n",
        "  accuracy_train += accuracy_score(Y_KFold_train, YY_pred)\n",
        "  model += 1"
      ],
      "metadata": {
        "colab": {
          "base_uri": "https://localhost:8080/"
        },
        "id": "hGqiJAiBU5Q0",
        "outputId": "d38fb72a-524c-4121-da0a-abc3101c2dfe"
      },
      "execution_count": 57,
      "outputs": [
        {
          "output_type": "stream",
          "name": "stdout",
          "text": [
            "Classification report for K-Fold model 1\n",
            "For validation set -\n",
            "              precision    recall  f1-score   support\n",
            "\n",
            "           0       0.83      0.97      0.90      1241\n",
            "           1       0.78      0.99      0.87      1221\n",
            "           2       0.89      0.95      0.92      1266\n",
            "           3       0.88      0.82      0.85      1252\n",
            "           4       0.84      0.48      0.61      1236\n",
            "\n",
            "    accuracy                           0.84      6216\n",
            "   macro avg       0.85      0.84      0.83      6216\n",
            "weighted avg       0.85      0.84      0.83      6216\n",
            "\n",
            "For training set -\n",
            "              precision    recall  f1-score   support\n",
            "\n",
            "           0       0.88      0.99      0.93      5117\n",
            "           1       0.84      0.99      0.91      5097\n",
            "           2       0.92      0.98      0.95      4932\n",
            "           3       0.92      0.88      0.90      4838\n",
            "           4       0.90      0.61      0.73      4880\n",
            "\n",
            "    accuracy                           0.89     24864\n",
            "   macro avg       0.89      0.89      0.88     24864\n",
            "weighted avg       0.89      0.89      0.88     24864\n",
            "\n",
            "Classification report for K-Fold model 2\n",
            "For validation set -\n",
            "              precision    recall  f1-score   support\n",
            "\n",
            "           0       0.84      0.98      0.90      1311\n",
            "           1       0.81      0.99      0.89      1306\n",
            "           2       0.88      0.95      0.92      1173\n",
            "           3       0.88      0.82      0.85      1211\n",
            "           4       0.84      0.48      0.61      1215\n",
            "\n",
            "    accuracy                           0.85      6216\n",
            "   macro avg       0.85      0.84      0.83      6216\n",
            "weighted avg       0.85      0.85      0.83      6216\n",
            "\n",
            "For training set -\n",
            "              precision    recall  f1-score   support\n",
            "\n",
            "           0       0.88      0.98      0.93      5047\n",
            "           1       0.85      0.99      0.91      5012\n",
            "           2       0.92      0.98      0.95      5025\n",
            "           3       0.93      0.88      0.90      4879\n",
            "           4       0.90      0.62      0.73      4901\n",
            "\n",
            "    accuracy                           0.89     24864\n",
            "   macro avg       0.89      0.89      0.88     24864\n",
            "weighted avg       0.89      0.89      0.89     24864\n",
            "\n",
            "Classification report for K-Fold model 3\n",
            "For validation set -\n",
            "              precision    recall  f1-score   support\n",
            "\n",
            "           0       0.84      0.98      0.90      1249\n",
            "           1       0.79      0.99      0.88      1252\n",
            "           2       0.89      0.93      0.91      1273\n",
            "           3       0.90      0.84      0.87      1235\n",
            "           4       0.84      0.48      0.61      1207\n",
            "\n",
            "    accuracy                           0.85      6216\n",
            "   macro avg       0.85      0.84      0.83      6216\n",
            "weighted avg       0.85      0.85      0.84      6216\n",
            "\n",
            "For training set -\n",
            "              precision    recall  f1-score   support\n",
            "\n",
            "           0       0.88      0.98      0.93      5109\n",
            "           1       0.85      0.99      0.91      5066\n",
            "           2       0.92      0.98      0.95      4925\n",
            "           3       0.92      0.88      0.90      4855\n",
            "           4       0.90      0.61      0.73      4909\n",
            "\n",
            "    accuracy                           0.89     24864\n",
            "   macro avg       0.89      0.89      0.88     24864\n",
            "weighted avg       0.89      0.89      0.88     24864\n",
            "\n",
            "Classification report for K-Fold model 4\n",
            "For validation set -\n",
            "              precision    recall  f1-score   support\n",
            "\n",
            "           0       0.85      0.98      0.91      1292\n",
            "           1       0.81      0.99      0.89      1253\n",
            "           2       0.88      0.95      0.92      1226\n",
            "           3       0.87      0.82      0.84      1216\n",
            "           4       0.84      0.51      0.63      1229\n",
            "\n",
            "    accuracy                           0.85      6216\n",
            "   macro avg       0.85      0.85      0.84      6216\n",
            "weighted avg       0.85      0.85      0.84      6216\n",
            "\n",
            "For training set -\n",
            "              precision    recall  f1-score   support\n",
            "\n",
            "           0       0.88      0.98      0.93      5066\n",
            "           1       0.84      1.00      0.91      5065\n",
            "           2       0.92      0.98      0.95      4972\n",
            "           3       0.92      0.88      0.90      4874\n",
            "           4       0.90      0.60      0.72      4887\n",
            "\n",
            "    accuracy                           0.89     24864\n",
            "   macro avg       0.89      0.89      0.88     24864\n",
            "weighted avg       0.89      0.89      0.88     24864\n",
            "\n",
            "Classification report for K-Fold model 5\n",
            "For validation set -\n",
            "              precision    recall  f1-score   support\n",
            "\n",
            "           0       0.84      0.97      0.90      1265\n",
            "           1       0.81      0.99      0.89      1286\n",
            "           2       0.89      0.95      0.92      1260\n",
            "           3       0.88      0.83      0.86      1176\n",
            "           4       0.82      0.49      0.61      1229\n",
            "\n",
            "    accuracy                           0.85      6216\n",
            "   macro avg       0.85      0.85      0.84      6216\n",
            "weighted avg       0.85      0.85      0.84      6216\n",
            "\n",
            "For training set -\n",
            "              precision    recall  f1-score   support\n",
            "\n",
            "           0       0.88      0.99      0.93      5093\n",
            "           1       0.84      0.99      0.91      5032\n",
            "           2       0.92      0.98      0.95      4938\n",
            "           3       0.92      0.88      0.90      4914\n",
            "           4       0.90      0.61      0.73      4887\n",
            "\n",
            "    accuracy                           0.89     24864\n",
            "   macro avg       0.89      0.89      0.88     24864\n",
            "weighted avg       0.89      0.89      0.88     24864\n",
            "\n"
          ]
        }
      ]
    },
    {
      "cell_type": "code",
      "source": [
        "avg_accuracy1 = accuracy_val/5\n",
        "print(\"Average accuracy obtained on vaidation set= \"+str(avg_accuracy1))\n",
        "avg_accuracy2 = accuracy_train/5\n",
        "print(\"Average accuracy obtained on training set= \"+str(avg_accuracy2))"
      ],
      "metadata": {
        "colab": {
          "base_uri": "https://localhost:8080/"
        },
        "id": "xvSguBRUbZwW",
        "outputId": "5de74873-8f4e-4a74-cdaf-f72e395a9c76"
      },
      "execution_count": 58,
      "outputs": [
        {
          "output_type": "stream",
          "name": "stdout",
          "text": [
            "Average accuracy obtained on vaidation set= 0.8473294723294723\n",
            "Average accuracy obtained on training set= 0.8905485842985843\n"
          ]
        }
      ]
    },
    {
      "cell_type": "markdown",
      "source": [
        "We can see that, on training set we are getting 89% accuracy and on validation set we are getting 84% accuracy for Bag of words"
      ],
      "metadata": {
        "id": "5gud_zShb7Kq"
      }
    },
    {
      "cell_type": "markdown",
      "source": [
        "For Tf-idf"
      ],
      "metadata": {
        "id": "sMqXxU6OcasB"
      }
    },
    {
      "cell_type": "code",
      "source": [
        "y_train = np.array(y_train)\n",
        "model = 1\n",
        "accuracy_val = 0\n",
        "accuracy_train = 0\n",
        "kf = KFold(n_splits = 5)\n",
        "for train_index, val_index in kf.split(tf_cv1):\n",
        "  X_KFold_train, X_KFold_val = tf_cv1[train_index], tf_cv1[val_index]\n",
        "  Y_KFold_train, Y_KFold_val = y_train[train_index], y_train[val_index]\n",
        "  mnb = MultinomialNB()\n",
        "  mnb.fit(X_KFold_train, Y_KFold_train)\n",
        "  Y_pred = mnb.predict(X_KFold_val)\n",
        "  YY_pred = mnb.predict(X_KFold_train)\n",
        "  print(\"Classification report for K-Fold model \"+str(model))\n",
        "  print(\"For validation set -\")\n",
        "  print(classification_report(Y_KFold_val, Y_pred))\n",
        "  print(\"For training set -\")\n",
        "  accuracy_val += accuracy_score(Y_KFold_val, Y_pred)\n",
        "  print(classification_report(Y_KFold_train, YY_pred))\n",
        "  accuracy_train += accuracy_score(Y_KFold_train, YY_pred)\n",
        "  model += 1"
      ],
      "metadata": {
        "colab": {
          "base_uri": "https://localhost:8080/"
        },
        "id": "_WL24WIycVDp",
        "outputId": "a8f8539a-46dd-4680-888d-4cece61f06a6"
      },
      "execution_count": 59,
      "outputs": [
        {
          "output_type": "stream",
          "name": "stdout",
          "text": [
            "Classification report for K-Fold model 1\n",
            "For validation set -\n",
            "              precision    recall  f1-score   support\n",
            "\n",
            "           0       0.80      0.96      0.88      1241\n",
            "           1       0.74      0.98      0.85      1221\n",
            "           2       0.89      0.92      0.91      1266\n",
            "           3       0.88      0.82      0.85      1252\n",
            "           4       0.86      0.44      0.58      1236\n",
            "\n",
            "    accuracy                           0.83      6216\n",
            "   macro avg       0.84      0.83      0.81      6216\n",
            "weighted avg       0.84      0.83      0.81      6216\n",
            "\n",
            "For training set -\n",
            "              precision    recall  f1-score   support\n",
            "\n",
            "           0       0.86      0.98      0.92      5117\n",
            "           1       0.82      0.99      0.90      5097\n",
            "           2       0.92      0.95      0.94      4932\n",
            "           3       0.93      0.89      0.91      4838\n",
            "           4       0.93      0.59      0.72      4880\n",
            "\n",
            "    accuracy                           0.88     24864\n",
            "   macro avg       0.89      0.88      0.88     24864\n",
            "weighted avg       0.89      0.88      0.88     24864\n",
            "\n",
            "Classification report for K-Fold model 2\n",
            "For validation set -\n",
            "              precision    recall  f1-score   support\n",
            "\n",
            "           0       0.83      0.98      0.89      1311\n",
            "           1       0.78      0.98      0.87      1306\n",
            "           2       0.87      0.93      0.90      1173\n",
            "           3       0.87      0.82      0.84      1211\n",
            "           4       0.85      0.44      0.58      1215\n",
            "\n",
            "    accuracy                           0.83      6216\n",
            "   macro avg       0.84      0.83      0.82      6216\n",
            "weighted avg       0.84      0.83      0.82      6216\n",
            "\n",
            "For training set -\n",
            "              precision    recall  f1-score   support\n",
            "\n",
            "           0       0.87      0.98      0.92      5047\n",
            "           1       0.83      0.99      0.90      5012\n",
            "           2       0.92      0.96      0.94      5025\n",
            "           3       0.93      0.89      0.91      4879\n",
            "           4       0.93      0.60      0.73      4901\n",
            "\n",
            "    accuracy                           0.89     24864\n",
            "   macro avg       0.89      0.89      0.88     24864\n",
            "weighted avg       0.89      0.89      0.88     24864\n",
            "\n",
            "Classification report for K-Fold model 3\n",
            "For validation set -\n",
            "              precision    recall  f1-score   support\n",
            "\n",
            "           0       0.81      0.97      0.88      1249\n",
            "           1       0.75      0.98      0.85      1252\n",
            "           2       0.89      0.90      0.90      1273\n",
            "           3       0.89      0.84      0.87      1235\n",
            "           4       0.87      0.44      0.58      1207\n",
            "\n",
            "    accuracy                           0.83      6216\n",
            "   macro avg       0.84      0.83      0.81      6216\n",
            "weighted avg       0.84      0.83      0.82      6216\n",
            "\n",
            "For training set -\n",
            "              precision    recall  f1-score   support\n",
            "\n",
            "           0       0.86      0.98      0.92      5109\n",
            "           1       0.82      0.99      0.90      5066\n",
            "           2       0.92      0.95      0.94      4925\n",
            "           3       0.93      0.89      0.91      4855\n",
            "           4       0.93      0.60      0.73      4909\n",
            "\n",
            "    accuracy                           0.89     24864\n",
            "   macro avg       0.89      0.88      0.88     24864\n",
            "weighted avg       0.89      0.89      0.88     24864\n",
            "\n",
            "Classification report for K-Fold model 4\n",
            "For validation set -\n",
            "              precision    recall  f1-score   support\n",
            "\n",
            "           0       0.81      0.97      0.88      1292\n",
            "           1       0.78      0.98      0.87      1253\n",
            "           2       0.87      0.91      0.89      1226\n",
            "           3       0.87      0.82      0.84      1216\n",
            "           4       0.88      0.47      0.61      1229\n",
            "\n",
            "    accuracy                           0.83      6216\n",
            "   macro avg       0.84      0.83      0.82      6216\n",
            "weighted avg       0.84      0.83      0.82      6216\n",
            "\n",
            "For training set -\n",
            "              precision    recall  f1-score   support\n",
            "\n",
            "           0       0.86      0.98      0.92      5066\n",
            "           1       0.82      0.99      0.90      5065\n",
            "           2       0.92      0.95      0.94      4972\n",
            "           3       0.92      0.89      0.91      4874\n",
            "           4       0.92      0.59      0.72      4887\n",
            "\n",
            "    accuracy                           0.88     24864\n",
            "   macro avg       0.89      0.88      0.88     24864\n",
            "weighted avg       0.89      0.88      0.88     24864\n",
            "\n",
            "Classification report for K-Fold model 5\n",
            "For validation set -\n",
            "              precision    recall  f1-score   support\n",
            "\n",
            "           0       0.83      0.97      0.89      1265\n",
            "           1       0.77      0.98      0.86      1286\n",
            "           2       0.88      0.92      0.90      1260\n",
            "           3       0.87      0.83      0.85      1176\n",
            "           4       0.84      0.45      0.59      1229\n",
            "\n",
            "    accuracy                           0.83      6216\n",
            "   macro avg       0.84      0.83      0.82      6216\n",
            "weighted avg       0.84      0.83      0.82      6216\n",
            "\n",
            "For training set -\n",
            "              precision    recall  f1-score   support\n",
            "\n",
            "           0       0.86      0.98      0.92      5093\n",
            "           1       0.83      0.99      0.90      5032\n",
            "           2       0.92      0.95      0.94      4938\n",
            "           3       0.92      0.89      0.91      4914\n",
            "           4       0.93      0.60      0.73      4887\n",
            "\n",
            "    accuracy                           0.89     24864\n",
            "   macro avg       0.89      0.88      0.88     24864\n",
            "weighted avg       0.89      0.89      0.88     24864\n",
            "\n"
          ]
        }
      ]
    },
    {
      "cell_type": "code",
      "source": [
        "avg_accuracy1 = accuracy_val/5\n",
        "print(\"Average accuracy obtained on vaidation set= \"+str(avg_accuracy1))\n",
        "avg_accuracy2 = accuracy_train/5\n",
        "print(\"Average accuracy obtained on training set= \"+str(avg_accuracy2))"
      ],
      "metadata": {
        "colab": {
          "base_uri": "https://localhost:8080/"
        },
        "id": "n922ANBWcprF",
        "outputId": "8840a314-c02b-4b7b-aa4c-5d150cdf2909"
      },
      "execution_count": 60,
      "outputs": [
        {
          "output_type": "stream",
          "name": "stdout",
          "text": [
            "Average accuracy obtained on vaidation set= 0.8308236808236809\n",
            "Average accuracy obtained on training set= 0.8852799227799227\n"
          ]
        }
      ]
    },
    {
      "cell_type": "markdown",
      "source": [
        " Transforming set testing for different word embeddings\n"
      ],
      "metadata": {
        "id": "Z8d8_u0t87Zo"
      }
    },
    {
      "cell_type": "code",
      "source": [
        "# For Bag of words \n",
        "bow_cv1_test = bow1.transform(X_stem_test)\n",
        "bow_cv2_test = bow2.transform(X_lemma_test)\n",
        "bow_cv3_test = bow3.transform(X_lemmaStem_test)\n",
        "\n",
        "# For Tf-idf\n",
        "tf_cv1_test = tfid1.transform(bow_cv1_test);\n",
        "tf_cv2_test = tfid2.transform(bow_cv2_test);\n",
        "tf_cv3_test = tfid3.transform(bow_cv3_test);\n",
        "\n",
        "print(bow_cv1_test.shape,bow_cv2_test.shape,bow_cv3_test.shape);\n",
        "print(tf_cv1_test.shape,tf_cv2_test.shape,tf_cv3_test.shape);"
      ],
      "metadata": {
        "colab": {
          "base_uri": "https://localhost:8080/"
        },
        "id": "71KWnskP9QL1",
        "outputId": "197ceaeb-a6b0-4641-c31c-05774b54ee48"
      },
      "execution_count": 61,
      "outputs": [
        {
          "output_type": "stream",
          "name": "stdout",
          "text": [
            "(7771, 29153) (7771, 34843) (7771, 28992)\n",
            "(7771, 29153) (7771, 34843) (7771, 28992)\n"
          ]
        }
      ]
    },
    {
      "cell_type": "code",
      "source": [
        "from sklearn.model_selection import learning_curve\n",
        "\n",
        "sizes, training_scores, testing_scores = learning_curve(MultinomialNB(), bow_cv1, y_train, cv=10, scoring='accuracy', train_sizes=np.linspace(100, 27000, 270, dtype=int))\n",
        "  \n",
        "# Mean and Standard Deviation of training scores\n",
        "mean_training = np.mean(training_scores, axis=1)\n",
        "Standard_Deviation_training = np.std(training_scores, axis=1)\n",
        "  \n",
        "# Mean and Standard Deviation of testing scores\n",
        "mean_testing = np.mean(testing_scores, axis=1)\n",
        "Standard_Deviation_testing = np.std(testing_scores, axis=1)\n",
        "  \n",
        "# Dotted blue line is for training scores and green line is for cross-validation score\n",
        "plt.plot(sizes, mean_training, '--', color=\"b\",  label=\"Training score\")\n",
        "plt.plot(sizes, mean_testing, color=\"g\", label=\"Cross-validation score\")\n",
        "  \n",
        "# Drawing plot\n",
        "plt.title(\"Learning Curve for MultinomialNB with bag of words embeddings\")\n",
        "plt.xlabel(\"Training Set Size\"), plt.ylabel(\"Accuracy Score\"), plt.legend(loc=\"best\")\n",
        "plt.tight_layout()\n",
        "plt.show()"
      ],
      "metadata": {
        "id": "ywDeNuz2u0Bv",
        "outputId": "e2dad519-0bc5-4dfe-adcd-dd01346e95c2",
        "colab": {
          "base_uri": "https://localhost:8080/",
          "height": 297
        }
      },
      "execution_count": 109,
      "outputs": [
        {
          "output_type": "display_data",
          "data": {
            "text/plain": [
              "<Figure size 432x288 with 1 Axes>"
            ],
            "image/png": "[encoded data removed]"
          },
          "metadata": {
            "needs_background": "light"
          }
        }
      ]
    },
    {
      "cell_type": "code",
      "source": [
        "sizes, training_scores, testing_scores = learning_curve(MultinomialNB(), tf_cv1, y_train, cv=10, scoring='accuracy', train_sizes=np.linspace(100, 27000, 270, dtype=int))\n",
        "  \n",
        "# Mean and Standard Deviation of training scores\n",
        "mean_training = np.mean(training_scores, axis=1)\n",
        "Standard_Deviation_training = np.std(training_scores, axis=1)\n",
        "  \n",
        "# Mean and Standard Deviation of testing scores\n",
        "mean_testing = np.mean(testing_scores, axis=1)\n",
        "Standard_Deviation_testing = np.std(testing_scores, axis=1)\n",
        "  \n",
        "# Dotted blue line is for training scores and green line is for cross-validation score\n",
        "plt.plot(sizes, mean_training, '--', color=\"b\",  label=\"Training score\")\n",
        "plt.plot(sizes, mean_testing, color=\"g\", label=\"Cross-validation score\")\n",
        "  \n",
        "# Drawing plot\n",
        "plt.title(\"Learning Curve for MultinomialNB with TF_IDF embeddings\")\n",
        "plt.xlabel(\"Training Set Size\"), plt.ylabel(\"Accuracy Score\"), plt.legend(loc=\"best\")\n",
        "plt.tight_layout()\n",
        "plt.show()"
      ],
      "metadata": {
        "id": "kfp1M84yv_S-",
        "outputId": "ebd5bc0c-a9e9-4420-c809-7eeb7fd5e3e3",
        "colab": {
          "base_uri": "https://localhost:8080/",
          "height": 297
        }
      },
      "execution_count": 108,
      "outputs": [
        {
          "output_type": "display_data",
          "data": {
            "text/plain": [
              "<Figure size 432x288 with 1 Axes>"
            ],
            "image/png": "[encoded data removed]"
          },
          "metadata": {
            "needs_background": "light"
          }
        }
      ]
    },
    {
      "cell_type": "markdown",
      "source": [
        "Creating models"
      ],
      "metadata": {
        "id": "9TmKjke3Acts"
      }
    },
    {
      "cell_type": "code",
      "source": [
        "# For bag of words - \n",
        "nb_bow_stem = MultinomialNB();\n",
        "nb_bow_lemma = MultinomialNB();\n",
        "nb_bow_lemmaStem = MultinomialNB();\n",
        "\n",
        "# for tf-idf - \n",
        "nb_tf_stem = MultinomialNB();\n",
        "nb_tf_lemma = MultinomialNB();\n",
        "nb_tf_lemmaStem = MultinomialNB();"
      ],
      "metadata": {
        "id": "9RnwDAEfAfKm"
      },
      "execution_count": 62,
      "outputs": []
    },
    {
      "cell_type": "markdown",
      "source": [
        "Training the models "
      ],
      "metadata": {
        "id": "p19fAhFvBY2K"
      }
    },
    {
      "cell_type": "code",
      "source": [
        "# For bag of words - \n",
        "nb_bow_stem.fit(bow_cv1,y_train);\n",
        "nb_bow_lemma.fit(bow_cv2,y_train);\n",
        "nb_bow_lemmaStem.fit(bow_cv3,y_train);\n",
        "\n",
        "# For tf-idf - \n",
        "nb_tf_stem.fit(tf_cv1,y_train);\n",
        "nb_tf_lemma.fit(tf_cv1,y_train);\n",
        "nb_tf_lemmaStem.fit(tf_cv1,y_train);"
      ],
      "metadata": {
        "id": "KtQQf0GoBbNI"
      },
      "execution_count": 63,
      "outputs": []
    },
    {
      "cell_type": "markdown",
      "source": [
        "Prediction on test set"
      ],
      "metadata": {
        "id": "sgEl4GQMBKyM"
      }
    },
    {
      "cell_type": "code",
      "source": [
        "# For bag of words - \n",
        "nb_bow_stem_pred = nb_bow_stem.predict(bow_cv1_test);\n",
        "nb_bow_lemma_pred = nb_bow_lemma.predict(bow_cv2_test);\n",
        "nb_bow_lemmaStem_pred = nb_bow_lemmaStem.predict(bow_cv3_test);\n",
        "\n",
        "# For tf-idf - \n",
        "nb_tf_stem_pred = nb_tf_stem.predict(tf_cv1_test);\n",
        "nb_tf_lemma_pred = nb_tf_lemma.predict(tf_cv1_test);\n",
        "nb_tf_lemmaStem_pred = nb_tf_lemmaStem.predict(tf_cv1_test);"
      ],
      "metadata": {
        "id": "XHtfy11NBVAg"
      },
      "execution_count": 64,
      "outputs": []
    },
    {
      "cell_type": "markdown",
      "source": [
        "Evaluation metrics"
      ],
      "metadata": {
        "id": "Udo8WdlVDs1D"
      }
    },
    {
      "cell_type": "code",
      "source": [
        "from sklearn.metrics import classification_report, confusion_matrix"
      ],
      "metadata": {
        "id": "kNy85tb0FPz0"
      },
      "execution_count": 65,
      "outputs": []
    },
    {
      "cell_type": "markdown",
      "source": [
        "Printing reports"
      ],
      "metadata": {
        "id": "0jAJSSxxFTfl"
      }
    },
    {
      "cell_type": "code",
      "source": [
        "# For Bag of words - \n",
        "print('Classification Report for Naive Bayes on bag of word with stemming:\\n',classification_report(y_test, nb_bow_stem_pred))\n",
        "print('Classification Report for Naive Bayes on bag of word with lemmatization:\\n',classification_report(y_test, nb_bow_lemma_pred))\n",
        "print('Classification Report for Naive Bayes on bag of word with lemma_stemming:\\n',classification_report(y_test, nb_bow_lemmaStem_pred))"
      ],
      "metadata": {
        "colab": {
          "base_uri": "https://localhost:8080/"
        },
        "id": "sRGxsrt5EXfm",
        "outputId": "30de0c03-140d-4ff8-e30c-84a01c2b1f3c"
      },
      "execution_count": 66,
      "outputs": [
        {
          "output_type": "stream",
          "name": "stdout",
          "text": [
            "Classification Report for Naive Bayes on bag of word with stemming:\n",
            "               precision    recall  f1-score   support\n",
            "\n",
            "           0       0.83      0.98      0.90      1590\n",
            "           1       0.81      0.99      0.89      1579\n",
            "           2       0.90      0.95      0.92      1550\n",
            "           3       0.87      0.84      0.86      1523\n",
            "           4       0.86      0.47      0.61      1529\n",
            "\n",
            "    accuracy                           0.85      7771\n",
            "   macro avg       0.85      0.85      0.84      7771\n",
            "weighted avg       0.85      0.85      0.84      7771\n",
            "\n",
            "Classification Report for Naive Bayes on bag of word with lemmatization:\n",
            "               precision    recall  f1-score   support\n",
            "\n",
            "           0       0.82      0.97      0.89      1590\n",
            "           1       0.82      0.99      0.89      1579\n",
            "           2       0.90      0.96      0.93      1550\n",
            "           3       0.87      0.85      0.86      1523\n",
            "           4       0.86      0.48      0.61      1529\n",
            "\n",
            "    accuracy                           0.85      7771\n",
            "   macro avg       0.85      0.85      0.84      7771\n",
            "weighted avg       0.85      0.85      0.84      7771\n",
            "\n",
            "Classification Report for Naive Bayes on bag of word with lemma_stemming:\n",
            "               precision    recall  f1-score   support\n",
            "\n",
            "           0       0.83      0.98      0.90      1590\n",
            "           1       0.81      0.99      0.89      1579\n",
            "           2       0.90      0.95      0.92      1550\n",
            "           3       0.88      0.84      0.86      1523\n",
            "           4       0.85      0.48      0.61      1529\n",
            "\n",
            "    accuracy                           0.85      7771\n",
            "   macro avg       0.85      0.85      0.84      7771\n",
            "weighted avg       0.85      0.85      0.84      7771\n",
            "\n"
          ]
        }
      ]
    },
    {
      "cell_type": "code",
      "source": [
        "# For Tf-idf - \n",
        "print('Classification Report for Naive Bayes on Ti-idf with stemming:\\n',classification_report(y_test, nb_tf_stem_pred))\n",
        "print('Classification Report for Naive Bayes on Ti-idf with lemmatization:\\n',classification_report(y_test, nb_tf_lemma_pred))\n",
        "print('Classification Report for Naive Bayes on Ti-idf with lemma_stemming:\\n',classification_report(y_test, nb_tf_lemmaStem_pred))"
      ],
      "metadata": {
        "colab": {
          "base_uri": "https://localhost:8080/"
        },
        "id": "2SaE0j7covku",
        "outputId": "baa4d371-1546-4b92-b39d-27cd25fc24d7"
      },
      "execution_count": 67,
      "outputs": [
        {
          "output_type": "stream",
          "name": "stdout",
          "text": [
            "Classification Report for Naive Bayes on Ti-idf with stemming:\n",
            "               precision    recall  f1-score   support\n",
            "\n",
            "           0       0.80      0.97      0.88      1590\n",
            "           1       0.77      0.98      0.86      1579\n",
            "           2       0.89      0.91      0.90      1550\n",
            "           3       0.87      0.84      0.86      1523\n",
            "           4       0.87      0.43      0.58      1529\n",
            "\n",
            "    accuracy                           0.83      7771\n",
            "   macro avg       0.84      0.83      0.82      7771\n",
            "weighted avg       0.84      0.83      0.82      7771\n",
            "\n",
            "Classification Report for Naive Bayes on Ti-idf with lemmatization:\n",
            "               precision    recall  f1-score   support\n",
            "\n",
            "           0       0.80      0.97      0.88      1590\n",
            "           1       0.77      0.98      0.86      1579\n",
            "           2       0.89      0.91      0.90      1550\n",
            "           3       0.87      0.84      0.86      1523\n",
            "           4       0.87      0.43      0.58      1529\n",
            "\n",
            "    accuracy                           0.83      7771\n",
            "   macro avg       0.84      0.83      0.82      7771\n",
            "weighted avg       0.84      0.83      0.82      7771\n",
            "\n",
            "Classification Report for Naive Bayes on Ti-idf with lemma_stemming:\n",
            "               precision    recall  f1-score   support\n",
            "\n",
            "           0       0.80      0.97      0.88      1590\n",
            "           1       0.77      0.98      0.86      1579\n",
            "           2       0.89      0.91      0.90      1550\n",
            "           3       0.87      0.84      0.86      1523\n",
            "           4       0.87      0.43      0.58      1529\n",
            "\n",
            "    accuracy                           0.83      7771\n",
            "   macro avg       0.84      0.83      0.82      7771\n",
            "weighted avg       0.84      0.83      0.82      7771\n",
            "\n"
          ]
        }
      ]
    },
    {
      "cell_type": "markdown",
      "source": [
        "Analysis about stemming and lemmatization : We can see that accuracy is very less affected by stemming and lemmatization. And since stemming is performing little better than lemmatization and it is much optimized as well, So we will be going for stemming for rest of analysis."
      ],
      "metadata": {
        "id": "AVisoDVMzKC9"
      }
    },
    {
      "cell_type": "markdown",
      "source": [
        "Morever, we can see that test accuracy of bag of words is 85% and that of Tf-idf is 83%."
      ],
      "metadata": {
        "id": "4y6vKr7J0Iyy"
      }
    },
    {
      "cell_type": "markdown",
      "source": [
        "## Training Gaussian Naive Bayes using GloVe Embedding"
      ],
      "metadata": {
        "id": "GB9y06AD4yO3"
      }
    },
    {
      "cell_type": "markdown",
      "source": [
        "Performing train-test split for using Gaussian Naive Bayes on glove embeddings"
      ],
      "metadata": {
        "id": "Qgy1ZmUWYw-C"
      }
    },
    {
      "cell_type": "code",
      "source": [
        "X = embeddings_df.drop(['sentiments'], axis=1)\n",
        "Y = embeddings_df['sentiments']\n",
        "X_train, X_test, Y_train, Y_test = train_test_split(X, Y, test_size = 0.2, random_state = 0)\n",
        "print(X_train.shape, X_test.shape)"
      ],
      "metadata": {
        "id": "g-6auuq-X1WU",
        "outputId": "d8e7fb20-0a6b-4c95-f161-71dcd13b1ef9",
        "colab": {
          "base_uri": "https://localhost:8080/"
        }
      },
      "execution_count": 68,
      "outputs": [
        {
          "output_type": "stream",
          "name": "stdout",
          "text": [
            "(31080, 5) (7771, 5)\n"
          ]
        }
      ]
    },
    {
      "cell_type": "markdown",
      "source": [
        "Creating an object and training Gaussian Naive Bayes"
      ],
      "metadata": {
        "id": "Bwb9zRkGY-bq"
      }
    },
    {
      "cell_type": "code",
      "source": [
        "gnb = GaussianNB()\n",
        "gnb.fit(X_train, Y_train)"
      ],
      "metadata": {
        "id": "Dgnu0NzeX5bb",
        "outputId": "42576c9b-6194-4141-ecf0-f85c48c9f280",
        "colab": {
          "base_uri": "https://localhost:8080/"
        }
      },
      "execution_count": 69,
      "outputs": [
        {
          "output_type": "execute_result",
          "data": {
            "text/plain": [
              "GaussianNB()"
            ]
          },
          "metadata": {},
          "execution_count": 69
        }
      ]
    },
    {
      "cell_type": "markdown",
      "source": [
        "Performing predictions on the test set"
      ],
      "metadata": {
        "id": "xF7BRavoZL6I"
      }
    },
    {
      "cell_type": "code",
      "source": [
        "Y_pred = gnb.predict(X_test)"
      ],
      "metadata": {
        "id": "rwHvc6IGYhqA"
      },
      "execution_count": 70,
      "outputs": []
    },
    {
      "cell_type": "markdown",
      "source": [
        "Evaluating the performance of the model"
      ],
      "metadata": {
        "id": "xhCdNsPWZpdd"
      }
    },
    {
      "cell_type": "code",
      "source": [
        "from sklearn.metrics import accuracy_score\n",
        "\n",
        "accuracy = accuracy_score(Y_test, Y_pred)\n",
        "print(accuracy)"
      ],
      "metadata": {
        "id": "tAee61E2Yn77",
        "outputId": "ea687453-7961-4825-ba17-7bb80ee79b10",
        "colab": {
          "base_uri": "https://localhost:8080/"
        }
      },
      "execution_count": 71,
      "outputs": [
        {
          "output_type": "stream",
          "name": "stdout",
          "text": [
            "0.6194826920602239\n"
          ]
        }
      ]
    },
    {
      "cell_type": "markdown",
      "source": [
        "Displaying the classification report"
      ],
      "metadata": {
        "id": "qiV35Q5PZw66"
      }
    },
    {
      "cell_type": "code",
      "source": [
        "from sklearn.metrics import classification_report\n",
        "\n",
        "print(classification_report(Y_test, Y_pred))"
      ],
      "metadata": {
        "id": "8o1fGPlWYtGb",
        "outputId": "52ba144b-ddc6-4a50-e96a-736c18aefc43",
        "colab": {
          "base_uri": "https://localhost:8080/"
        }
      },
      "execution_count": 72,
      "outputs": [
        {
          "output_type": "stream",
          "name": "stdout",
          "text": [
            "              precision    recall  f1-score   support\n",
            "\n",
            "           0       0.48      0.69      0.57      1600\n",
            "           1       0.69      0.65      0.67      1598\n",
            "           2       0.74      0.65      0.69      1549\n",
            "           3       0.77      0.57      0.65      1497\n",
            "           4       0.54      0.53      0.54      1527\n",
            "\n",
            "    accuracy                           0.62      7771\n",
            "   macro avg       0.64      0.62      0.62      7771\n",
            "weighted avg       0.64      0.62      0.62      7771\n",
            "\n"
          ]
        }
      ]
    },
    {
      "cell_type": "markdown",
      "source": [
        "Using K-Fold validation on the training set"
      ],
      "metadata": {
        "id": "dUC61jLg54n7"
      }
    },
    {
      "cell_type": "code",
      "source": [
        "from sklearn.model_selection import KFold\n",
        "\n",
        "X_train_numpy = np.array(X_train)\n",
        "Y_train_numpy = np.array(Y_train)\n",
        "\n",
        "model = 1\n",
        "accuracy_val = 0\n",
        "accuracy_train = 0\n",
        "kf = KFold(n_splits = 5)\n",
        "for train_index, val_index in kf.split(X_train_numpy):\n",
        "  X_KFold_train, X_KFold_val = X_train_numpy[train_index], X_train_numpy[val_index]\n",
        "  Y_KFold_train, Y_KFold_val = Y_train_numpy[train_index], Y_train_numpy[val_index]\n",
        "  gnb = GaussianNB()\n",
        "  gnb.fit(X_KFold_train, Y_KFold_train)\n",
        "  Y_pred = gnb.predict(X_KFold_val)\n",
        "  YY_pred = gnb.predict(X_KFold_train)\n",
        "  print(\"Classification report for K-Fold model \"+str(model))\n",
        "  print(\"For validation set -\")\n",
        "  print(classification_report(Y_KFold_val, Y_pred))\n",
        "  print(\"For training set -\")\n",
        "  accuracy_val += accuracy_score(Y_KFold_val, Y_pred)\n",
        "  print(classification_report(Y_KFold_train, YY_pred))\n",
        "  accuracy_train += accuracy_score(Y_KFold_train, YY_pred)\n",
        "  model += 1"
      ],
      "metadata": {
        "id": "OAbMfmiD4tfw",
        "outputId": "3f608a17-9e77-4991-f47a-013268a3e0cd",
        "colab": {
          "base_uri": "https://localhost:8080/"
        }
      },
      "execution_count": 73,
      "outputs": [
        {
          "output_type": "stream",
          "name": "stdout",
          "text": [
            "Classification report for K-Fold model 1\n",
            "For validation set -\n",
            "              precision    recall  f1-score   support\n",
            "\n",
            "           0       0.48      0.67      0.56      1284\n",
            "           1       0.69      0.67      0.68      1284\n",
            "           2       0.73      0.72      0.72      1198\n",
            "           3       0.79      0.56      0.65      1219\n",
            "           4       0.56      0.52      0.54      1231\n",
            "\n",
            "    accuracy                           0.63      6216\n",
            "   macro avg       0.65      0.63      0.63      6216\n",
            "weighted avg       0.65      0.63      0.63      6216\n",
            "\n",
            "For training set -\n",
            "              precision    recall  f1-score   support\n",
            "\n",
            "           0       0.48      0.69      0.57      5064\n",
            "           1       0.70      0.67      0.68      5015\n",
            "           2       0.74      0.68      0.71      5001\n",
            "           3       0.79      0.56      0.65      4897\n",
            "           4       0.55      0.53      0.54      4887\n",
            "\n",
            "    accuracy                           0.63     24864\n",
            "   macro avg       0.65      0.63      0.63     24864\n",
            "weighted avg       0.65      0.63      0.63     24864\n",
            "\n",
            "Classification report for K-Fold model 2\n",
            "For validation set -\n",
            "              precision    recall  f1-score   support\n",
            "\n",
            "           0       0.48      0.67      0.56      1284\n",
            "           1       0.71      0.68      0.69      1252\n",
            "           2       0.76      0.68      0.72      1237\n",
            "           3       0.78      0.58      0.67      1219\n",
            "           4       0.54      0.54      0.54      1224\n",
            "\n",
            "    accuracy                           0.63      6216\n",
            "   macro avg       0.66      0.63      0.64      6216\n",
            "weighted avg       0.65      0.63      0.64      6216\n",
            "\n",
            "For training set -\n",
            "              precision    recall  f1-score   support\n",
            "\n",
            "           0       0.48      0.68      0.57      5064\n",
            "           1       0.69      0.66      0.68      5047\n",
            "           2       0.74      0.67      0.71      4962\n",
            "           3       0.77      0.57      0.65      4897\n",
            "           4       0.55      0.54      0.54      4894\n",
            "\n",
            "    accuracy                           0.63     24864\n",
            "   macro avg       0.65      0.63      0.63     24864\n",
            "weighted avg       0.65      0.63      0.63     24864\n",
            "\n",
            "Classification report for K-Fold model 3\n",
            "For validation set -\n",
            "              precision    recall  f1-score   support\n",
            "\n",
            "           0       0.47      0.67      0.55      1260\n",
            "           1       0.68      0.65      0.67      1261\n",
            "           2       0.74      0.67      0.70      1237\n",
            "           3       0.78      0.54      0.64      1223\n",
            "           4       0.54      0.53      0.54      1235\n",
            "\n",
            "    accuracy                           0.61      6216\n",
            "   macro avg       0.64      0.61      0.62      6216\n",
            "weighted avg       0.64      0.61      0.62      6216\n",
            "\n",
            "For training set -\n",
            "              precision    recall  f1-score   support\n",
            "\n",
            "           0       0.49      0.69      0.57      5088\n",
            "           1       0.70      0.67      0.68      5038\n",
            "           2       0.75      0.68      0.71      4962\n",
            "           3       0.78      0.57      0.66      4893\n",
            "           4       0.55      0.54      0.54      4883\n",
            "\n",
            "    accuracy                           0.63     24864\n",
            "   macro avg       0.65      0.63      0.63     24864\n",
            "weighted avg       0.65      0.63      0.63     24864\n",
            "\n",
            "Classification report for K-Fold model 4\n",
            "For validation set -\n",
            "              precision    recall  f1-score   support\n",
            "\n",
            "           0       0.49      0.70      0.58      1248\n",
            "           1       0.71      0.67      0.69      1270\n",
            "           2       0.75      0.66      0.70      1271\n",
            "           3       0.76      0.57      0.65      1228\n",
            "           4       0.55      0.54      0.54      1199\n",
            "\n",
            "    accuracy                           0.63      6216\n",
            "   macro avg       0.65      0.63      0.63      6216\n",
            "weighted avg       0.65      0.63      0.63      6216\n",
            "\n",
            "For training set -\n",
            "              precision    recall  f1-score   support\n",
            "\n",
            "           0       0.48      0.68      0.56      5100\n",
            "           1       0.69      0.67      0.68      5029\n",
            "           2       0.74      0.69      0.71      4928\n",
            "           3       0.79      0.56      0.65      4888\n",
            "           4       0.55      0.54      0.54      4919\n",
            "\n",
            "    accuracy                           0.63     24864\n",
            "   macro avg       0.65      0.63      0.63     24864\n",
            "weighted avg       0.65      0.63      0.63     24864\n",
            "\n",
            "Classification report for K-Fold model 5\n",
            "For validation set -\n",
            "              precision    recall  f1-score   support\n",
            "\n",
            "           0       0.49      0.70      0.58      1272\n",
            "           1       0.69      0.66      0.68      1232\n",
            "           2       0.74      0.68      0.71      1256\n",
            "           3       0.79      0.57      0.66      1227\n",
            "           4       0.56      0.54      0.55      1229\n",
            "\n",
            "    accuracy                           0.63      6216\n",
            "   macro avg       0.65      0.63      0.63      6216\n",
            "weighted avg       0.65      0.63      0.63      6216\n",
            "\n",
            "For training set -\n",
            "              precision    recall  f1-score   support\n",
            "\n",
            "           0       0.48      0.68      0.56      5076\n",
            "           1       0.70      0.67      0.68      5067\n",
            "           2       0.75      0.68      0.71      4943\n",
            "           3       0.77      0.57      0.66      4889\n",
            "           4       0.55      0.53      0.54      4889\n",
            "\n",
            "    accuracy                           0.63     24864\n",
            "   macro avg       0.65      0.63      0.63     24864\n",
            "weighted avg       0.65      0.63      0.63     24864\n",
            "\n"
          ]
        }
      ]
    },
    {
      "cell_type": "code",
      "source": [
        "avg_accuracy1 = accuracy_val/5\n",
        "print(\"Average accuracy obtained on vaidation set= \"+str(avg_accuracy1))\n",
        "avg_accuracy2 = accuracy_train/5\n",
        "print(\"Average accuracy obtained on training set= \"+str(avg_accuracy2))"
      ],
      "metadata": {
        "colab": {
          "base_uri": "https://localhost:8080/"
        },
        "id": "bugF876vc0Xr",
        "outputId": "be80cd17-8520-4792-c9e2-f33ab2a566f8"
      },
      "execution_count": 74,
      "outputs": [
        {
          "output_type": "stream",
          "name": "stdout",
          "text": [
            "Average accuracy obtained on vaidation set= 0.6272522522522523\n",
            "Average accuracy obtained on training set= 0.6273970398970399\n"
          ]
        }
      ]
    },
    {
      "cell_type": "code",
      "source": [
        "sizes, training_scores, testing_scores = learning_curve(GaussianNB(), X_train, Y_train, cv=10, scoring='accuracy', train_sizes=np.linspace(100, 27000, 270, dtype=int))\n",
        "  \n",
        "# Mean and Standard Deviation of training scores\n",
        "mean_training = np.mean(training_scores, axis=1)\n",
        "Standard_Deviation_training = np.std(training_scores, axis=1)\n",
        "  \n",
        "# Mean and Standard Deviation of testing scores\n",
        "mean_testing = np.mean(testing_scores, axis=1)\n",
        "Standard_Deviation_testing = np.std(testing_scores, axis=1)\n",
        "  \n",
        "# Dotted blue line is for training scores and green line is for cross-validation score\n",
        "plt.plot(sizes, mean_training, '--', color=\"b\",  label=\"Training score\")\n",
        "plt.plot(sizes, mean_testing, color=\"g\", label=\"Cross-validation score\")\n",
        "  \n",
        "# Drawing plot\n",
        "plt.title(\"Learning Curve for GaussianNB with GloVe embeddings\")\n",
        "plt.xlabel(\"Training Set Size\"), plt.ylabel(\"Accuracy Score\"), plt.legend(loc=\"best\")\n",
        "plt.tight_layout()\n",
        "plt.show()"
      ],
      "metadata": {
        "id": "Bp02R6YhrGFw",
        "outputId": "7ac7bbe2-229f-4e51-b10a-9d0f9d8a2995",
        "colab": {
          "base_uri": "https://localhost:8080/",
          "height": 297
        }
      },
      "execution_count": 112,
      "outputs": [
        {
          "output_type": "display_data",
          "data": {
            "text/plain": [
              "<Figure size 432x288 with 1 Axes>"
            ],
            "image/png": "[encoded data removed]"
          },
          "metadata": {
            "needs_background": "light"
          }
        }
      ]
    }
  ],
  "metadata": {
    "colab": {
      "collapsed_sections": [],
      "name": "ML_Project_PreProcessing.ipynb",
      "provenance": []
    },
    "kernelspec": {
      "display_name": "Python 3",
      "language": "python",
      "name": "python3"
    },
    "language_info": {
      "codemirror_mode": {
        "name": "ipython",
        "version": 3
      },
      "file_extension": ".py",
      "mimetype": "text/x-python",
      "name": "python",
      "nbconvert_exporter": "python",
      "pygments_lexer": "ipython3",
      "version": "3.6.9"
    }
  },
  "nbformat": 4,
  "nbformat_minor": 0
}