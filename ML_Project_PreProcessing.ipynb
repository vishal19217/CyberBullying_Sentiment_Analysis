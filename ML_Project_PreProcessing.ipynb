{
  "cells": [
    {
      "cell_type": "markdown",
      "source": [
        "Importing libraries"
      ],
      "metadata": {
        "id": "o7QiTH21Kd_2"
      }
    },
    {
      "cell_type": "code",
      "execution_count": 84,
      "metadata": {
        "colab": {
          "base_uri": "https://localhost:8080/"
        },
        "id": "0kqMJODaX47j",
        "outputId": "3c2e1d67-bf3d-497d-a83a-1e10d5200f62"
      },
      "outputs": [
        {
          "output_type": "stream",
          "name": "stdout",
          "text": [
            "Drive already mounted at /content/gdrive; to attempt to forcibly remount, call drive.mount(\"/content/gdrive\", force_remount=True).\n"
          ]
        }
      ],
      "source": [
        "import pandas as pd\n",
        "import numpy as np\n",
        "import matplotlib.pyplot as plt\n",
        "import seaborn as sns\n",
        "from google.colab import drive\n",
        "drive.mount('/content/gdrive')"
      ]
    },
    {
      "cell_type": "markdown",
      "source": [
        "### Data Visualization and Cleaning"
      ],
      "metadata": {
        "id": "CqogiAMAMPKT"
      }
    },
    {
      "cell_type": "code",
      "execution_count": 85,
      "metadata": {
        "id": "2CkDIdIYfK78"
      },
      "outputs": [],
      "source": [
        "data = pd.read_csv('/content/gdrive/My Drive/Colab Notebooks/cyberbullying_tweets.csv')"
      ]
    },
    {
      "cell_type": "code",
      "source": [
        "data.head()"
      ],
      "metadata": {
        "colab": {
          "base_uri": "https://localhost:8080/",
          "height": 206
        },
        "id": "gNgpCKgYOimt",
        "outputId": "ee0c31de-5678-446b-8de5-a7e237812917"
      },
      "execution_count": 86,
      "outputs": [
        {
          "output_type": "execute_result",
          "data": {
            "text/plain": [
              "                                          tweet_text cyberbullying_type\n",
              "0  In other words #katandandre, your food was cra...  not_cyberbullying\n",
              "1  Why is #aussietv so white? #MKR #theblock #ImA...  not_cyberbullying\n",
              "2  @XochitlSuckkks a classy whore? Or more red ve...  not_cyberbullying\n",
              "3  @Jason_Gio meh. :P  thanks for the heads up, b...  not_cyberbullying\n",
              "4  @RudhoeEnglish This is an ISIS account pretend...  not_cyberbullying"
            ],
            "text/html": [
              "\n",
              "  <div id=\"df-3227b53f-4427-423b-88e9-5d089ed879d0\">\n",
              "    <div class=\"colab-df-container\">\n",
              "      <div>\n",
              "<style scoped>\n",
              "    .dataframe tbody tr th:only-of-type {\n",
              "        vertical-align: middle;\n",
              "    }\n",
              "\n",
              "    .dataframe tbody tr th {\n",
              "        vertical-align: top;\n",
              "    }\n",
              "\n",
              "    .dataframe thead th {\n",
              "        text-align: right;\n",
              "    }\n",
              "</style>\n",
              "<table border=\"1\" class=\"dataframe\">\n",
              "  <thead>\n",
              "    <tr style=\"text-align: right;\">\n",
              "      <th></th>\n",
              "      <th>tweet_text</th>\n",
              "      <th>cyberbullying_type</th>\n",
              "    </tr>\n",
              "  </thead>\n",
              "  <tbody>\n",
              "    <tr>\n",
              "      <th>0</th>\n",
              "      <td>In other words #katandandre, your food was cra...</td>\n",
              "      <td>not_cyberbullying</td>\n",
              "    </tr>\n",
              "    <tr>\n",
              "      <th>1</th>\n",
              "      <td>Why is #aussietv so white? #MKR #theblock #ImA...</td>\n",
              "      <td>not_cyberbullying</td>\n",
              "    </tr>\n",
              "    <tr>\n",
              "      <th>2</th>\n",
              "      <td>@XochitlSuckkks a classy whore? Or more red ve...</td>\n",
              "      <td>not_cyberbullying</td>\n",
              "    </tr>\n",
              "    <tr>\n",
              "      <th>3</th>\n",
              "      <td>@Jason_Gio meh. :P  thanks for the heads up, b...</td>\n",
              "      <td>not_cyberbullying</td>\n",
              "    </tr>\n",
              "    <tr>\n",
              "      <th>4</th>\n",
              "      <td>@RudhoeEnglish This is an ISIS account pretend...</td>\n",
              "      <td>not_cyberbullying</td>\n",
              "    </tr>\n",
              "  </tbody>\n",
              "</table>\n",
              "</div>\n",
              "      <button class=\"colab-df-convert\" onclick=\"convertToInteractive('df-3227b53f-4427-423b-88e9-5d089ed879d0')\"\n",
              "              title=\"Convert this dataframe to an interactive table.\"\n",
              "              style=\"display:none;\">\n",
              "        \n",
              "  <svg xmlns=\"http://www.w3.org/2000/svg\" height=\"24px\"viewBox=\"0 0 24 24\"\n",
              "       width=\"24px\">\n",
              "    <path d=\"M0 0h24v24H0V0z\" fill=\"none\"/>\n",
              "    <path d=\"M18.56 5.44l.94 2.06.94-2.06 2.06-.94-2.06-.94-.94-2.06-.94 2.06-2.06.94zm-11 1L8.5 8.5l.94-2.06 2.06-.94-2.06-.94L8.5 2.5l-.94 2.06-2.06.94zm10 10l.94 2.06.94-2.06 2.06-.94-2.06-.94-.94-2.06-.94 2.06-2.06.94z\"/><path d=\"M17.41 7.96l-1.37-1.37c-.4-.4-.92-.59-1.43-.59-.52 0-1.04.2-1.43.59L10.3 9.45l-7.72 7.72c-.78.78-.78 2.05 0 2.83L4 21.41c.39.39.9.59 1.41.59.51 0 1.02-.2 1.41-.59l7.78-7.78 2.81-2.81c.8-.78.8-2.07 0-2.86zM5.41 20L4 18.59l7.72-7.72 1.47 1.35L5.41 20z\"/>\n",
              "  </svg>\n",
              "      </button>\n",
              "      \n",
              "  <style>\n",
              "    .colab-df-container {\n",
              "      display:flex;\n",
              "      flex-wrap:wrap;\n",
              "      gap: 12px;\n",
              "    }\n",
              "\n",
              "    .colab-df-convert {\n",
              "      background-color: #E8F0FE;\n",
              "      border: none;\n",
              "      border-radius: 50%;\n",
              "      cursor: pointer;\n",
              "      display: none;\n",
              "      fill: #1967D2;\n",
              "      height: 32px;\n",
              "      padding: 0 0 0 0;\n",
              "      width: 32px;\n",
              "    }\n",
              "\n",
              "    .colab-df-convert:hover {\n",
              "      background-color: #E2EBFA;\n",
              "      box-shadow: 0px 1px 2px rgba(60, 64, 67, 0.3), 0px 1px 3px 1px rgba(60, 64, 67, 0.15);\n",
              "      fill: #174EA6;\n",
              "    }\n",
              "\n",
              "    [theme=dark] .colab-df-convert {\n",
              "      background-color: #3B4455;\n",
              "      fill: #D2E3FC;\n",
              "    }\n",
              "\n",
              "    [theme=dark] .colab-df-convert:hover {\n",
              "      background-color: #434B5C;\n",
              "      box-shadow: 0px 1px 3px 1px rgba(0, 0, 0, 0.15);\n",
              "      filter: drop-shadow(0px 1px 2px rgba(0, 0, 0, 0.3));\n",
              "      fill: #FFFFFF;\n",
              "    }\n",
              "  </style>\n",
              "\n",
              "      <script>\n",
              "        const buttonEl =\n",
              "          document.querySelector('#df-3227b53f-4427-423b-88e9-5d089ed879d0 button.colab-df-convert');\n",
              "        buttonEl.style.display =\n",
              "          google.colab.kernel.accessAllowed ? 'block' : 'none';\n",
              "\n",
              "        async function convertToInteractive(key) {\n",
              "          const element = document.querySelector('#df-3227b53f-4427-423b-88e9-5d089ed879d0');\n",
              "          const dataTable =\n",
              "            await google.colab.kernel.invokeFunction('convertToInteractive',\n",
              "                                                     [key], {});\n",
              "          if (!dataTable) return;\n",
              "\n",
              "          const docLinkHtml = 'Like what you see? Visit the ' +\n",
              "            '<a target=\"_blank\" href=https://colab.research.google.com/notebooks/data_table.ipynb>data table notebook</a>'\n",
              "            + ' to learn more about interactive tables.';\n",
              "          element.innerHTML = '';\n",
              "          dataTable['output_type'] = 'display_data';\n",
              "          await google.colab.output.renderOutput(dataTable, element);\n",
              "          const docLink = document.createElement('div');\n",
              "          docLink.innerHTML = docLinkHtml;\n",
              "          element.appendChild(docLink);\n",
              "        }\n",
              "      </script>\n",
              "    </div>\n",
              "  </div>\n",
              "  "
            ]
          },
          "metadata": {},
          "execution_count": 86
        }
      ]
    },
    {
      "cell_type": "code",
      "source": [
        "print(data.info())"
      ],
      "metadata": {
        "colab": {
          "base_uri": "https://localhost:8080/"
        },
        "id": "GMtuJ6QMOcm9",
        "outputId": "e4b6d47f-652e-430d-db84-8071a084507f"
      },
      "execution_count": 87,
      "outputs": [
        {
          "output_type": "stream",
          "name": "stdout",
          "text": [
            "<class 'pandas.core.frame.DataFrame'>\n",
            "RangeIndex: 47692 entries, 0 to 47691\n",
            "Data columns (total 2 columns):\n",
            " #   Column              Non-Null Count  Dtype \n",
            "---  ------              --------------  ----- \n",
            " 0   tweet_text          47692 non-null  object\n",
            " 1   cyberbullying_type  47692 non-null  object\n",
            "dtypes: object(2)\n",
            "memory usage: 745.3+ KB\n",
            "None\n"
          ]
        }
      ]
    },
    {
      "cell_type": "code",
      "execution_count": 88,
      "metadata": {
        "id": "Uk0P6yfU7QCv"
      },
      "outputs": [],
      "source": [
        "data = data.rename(columns={'tweet_text' : 'tweet', 'cyberbullying_type' : 'sentiment'})"
      ]
    },
    {
      "cell_type": "markdown",
      "source": [
        "Removing duplicates from given tweets\n"
      ],
      "metadata": {
        "id": "lFdODN_fL349"
      }
    },
    {
      "cell_type": "code",
      "source": [
        "data[data.duplicated()].shape"
      ],
      "metadata": {
        "colab": {
          "base_uri": "https://localhost:8080/"
        },
        "id": "CqfLWM_3RAsm",
        "outputId": "d3c72395-1938-48a3-d5e8-748fc35807e4"
      },
      "execution_count": 89,
      "outputs": [
        {
          "output_type": "execute_result",
          "data": {
            "text/plain": [
              "(36, 2)"
            ]
          },
          "metadata": {},
          "execution_count": 89
        }
      ]
    },
    {
      "cell_type": "code",
      "execution_count": 90,
      "metadata": {
        "id": "X5pmNhQj7i5k"
      },
      "outputs": [],
      "source": [
        "data = data[~data.duplicated()]"
      ]
    },
    {
      "cell_type": "code",
      "execution_count": 91,
      "metadata": {
        "colab": {
          "base_uri": "https://localhost:8080/"
        },
        "id": "MuVEVGyX8JFQ",
        "outputId": "a6f7b841-0de2-4ba6-f5dd-7f595031158a"
      },
      "outputs": [
        {
          "output_type": "stream",
          "name": "stdout",
          "text": [
            "<class 'pandas.core.frame.DataFrame'>\n",
            "Int64Index: 47656 entries, 0 to 47691\n",
            "Data columns (total 2 columns):\n",
            " #   Column     Non-Null Count  Dtype \n",
            "---  ------     --------------  ----- \n",
            " 0   tweet      47656 non-null  object\n",
            " 1   sentiment  47656 non-null  object\n",
            "dtypes: object(2)\n",
            "memory usage: 1.1+ MB\n"
          ]
        }
      ],
      "source": [
        "data.info()"
      ]
    },
    {
      "cell_type": "markdown",
      "source": [
        "Showing class balance/imbalance result"
      ],
      "metadata": {
        "id": "CsFdHHECUC00"
      }
    },
    {
      "cell_type": "code",
      "execution_count": 92,
      "metadata": {
        "colab": {
          "base_uri": "https://localhost:8080/"
        },
        "id": "2CYHASSe8-QM",
        "outputId": "d2f924be-b64a-4ec9-a778-e368c53bdd99"
      },
      "outputs": [
        {
          "output_type": "execute_result",
          "data": {
            "text/plain": [
              "religion               7997\n",
              "age                    7992\n",
              "ethnicity              7959\n",
              "gender                 7948\n",
              "not_cyberbullying      7937\n",
              "other_cyberbullying    7823\n",
              "Name: sentiment, dtype: int64"
            ]
          },
          "metadata": {},
          "execution_count": 92
        }
      ],
      "source": [
        "data.sentiment.value_counts()"
      ]
    },
    {
      "cell_type": "code",
      "source": [
        "plt.figure(figsize=(7,5))\n",
        "plt.title('Showing class balance/imbalance result');\n",
        "data['sentiment'].value_counts().plot.bar(rot = 20);\n",
        "plt.xlabel('Sentiments');\n",
        "plt.ylabel('Count of tweets');\n",
        "plt.show();"
      ],
      "metadata": {
        "colab": {
          "base_uri": "https://localhost:8080/",
          "height": 384
        },
        "id": "k3n1aLGSUKb9",
        "outputId": "ef3d2eb6-3b2b-4ebd-b77a-15fd607405af"
      },
      "execution_count": 93,
      "outputs": [
        {
          "output_type": "display_data",
          "data": {
            "text/plain": [
              "<Figure size 504x360 with 1 Axes>"
            ],
            "image/png": "[encoded data removed]"
          },
          "metadata": {
            "needs_background": "light"
          }
        }
      ]
    },
    {
      "cell_type": "markdown",
      "source": [
        "From above, we can see that Dataset is **balanced** among different classes of sentiments."
      ],
      "metadata": {
        "id": "AP8yW6YcWfno"
      }
    },
    {
      "cell_type": "markdown",
      "source": [
        "Importing and downloading different packages for data cleaning"
      ],
      "metadata": {
        "id": "9f51Bp_fMv4B"
      }
    },
    {
      "cell_type": "code",
      "execution_count": 94,
      "metadata": {
        "colab": {
          "base_uri": "https://localhost:8080/"
        },
        "id": "syn-OBARIie0",
        "outputId": "de60c12b-dae2-4870-b2b9-9eb2e23ca310"
      },
      "outputs": [
        {
          "output_type": "stream",
          "name": "stdout",
          "text": [
            "Requirement already satisfied: emoji in /usr/local/lib/python3.7/dist-packages (1.7.0)\n"
          ]
        }
      ],
      "source": [
        "pip install emoji"
      ]
    },
    {
      "cell_type": "markdown",
      "source": [
        "Importing nltk"
      ],
      "metadata": {
        "id": "fI7C4yarM7kv"
      }
    },
    {
      "cell_type": "code",
      "execution_count": 95,
      "metadata": {
        "colab": {
          "base_uri": "https://localhost:8080/"
        },
        "id": "Zx346TICk0XM",
        "outputId": "e14ec935-ccb5-44a6-a575-239994de3652"
      },
      "outputs": [
        {
          "output_type": "stream",
          "name": "stdout",
          "text": [
            "[nltk_data] Downloading package stopwords to /root/nltk_data...\n",
            "[nltk_data]   Package stopwords is already up-to-date!\n"
          ]
        },
        {
          "output_type": "execute_result",
          "data": {
            "text/plain": [
              "True"
            ]
          },
          "metadata": {},
          "execution_count": 95
        }
      ],
      "source": [
        "import nltk\n",
        "nltk.download('stopwords')"
      ]
    },
    {
      "cell_type": "code",
      "execution_count": 96,
      "metadata": {
        "colab": {
          "base_uri": "https://localhost:8080/"
        },
        "id": "ACiTq_1r2lJ-",
        "outputId": "abb6e8db-c63a-4c0d-ae32-89c981bd6751"
      },
      "outputs": [
        {
          "output_type": "stream",
          "name": "stdout",
          "text": [
            "[nltk_data] Downloading package punkt to /root/nltk_data...\n",
            "[nltk_data]   Package punkt is already up-to-date!\n"
          ]
        },
        {
          "output_type": "execute_result",
          "data": {
            "text/plain": [
              "True"
            ]
          },
          "metadata": {},
          "execution_count": 96
        }
      ],
      "source": [
        "nltk.download('punkt')"
      ]
    },
    {
      "cell_type": "markdown",
      "metadata": {
        "id": "N6tAorFrAn2K"
      },
      "source": [
        "### Now, let's proceed towards basic cleaning of tweets"
      ]
    },
    {
      "cell_type": "code",
      "execution_count": 97,
      "metadata": {
        "id": "esXr4c_F9IxB"
      },
      "outputs": [],
      "source": [
        "import re, string\n",
        "import emoji\n",
        "from nltk.corpus import stopwords\n",
        "stop_words = set(stopwords.words('english'))\n",
        "\n",
        "\n",
        "def remove_emoji(text):  # For removing the emojis from the text\n",
        "  return re.sub(emoji.get_emoji_regexp(), r\"\", text)\n",
        "\n",
        "\n",
        "def remove_entities(text):\n",
        "  text = text.replace('\\r', '').replace('\\n', ' ').lower() # For removing \\n and \\r from the text and then lowercasing the text\n",
        "  text = re.sub(r\"(?:\\@|https?\\://)\\S+\", \"\", text)\n",
        "  text = re.sub(r'[^\\x00-\\x7f]', r'', text)\n",
        "  punctuation_words = string.punctuation\n",
        "  table = text.maketrans('', '', punctuation_words)\n",
        "  text = text.translate(table)\n",
        "  text = [word for word in text.split() if word not in stop_words]\n",
        "  text = ' '.join(text)\n",
        "  text = ' '.join(word for word in text.split() if len(word)<14)\n",
        "  return text\n",
        "\n",
        "\n",
        "def remove_contractions(text):\n",
        "  text = re.sub(r\"can\\'t\", \"can not\", text)\n",
        "  text = re.sub(r\"n\\'t\", \" not\", text)\n",
        "  text = re.sub(r\"\\'re\", \" are\", text)\n",
        "  text = re.sub(r\"\\'s\", \" is\", text)\n",
        "  text = re.sub(r\"\\'d\", \" would\", text)\n",
        "  text = re.sub(r\"\\'ll\", \" will\", text)\n",
        "  text = re.sub(r\"\\'t\", \" not\", text)\n",
        "  text = re.sub(r\"\\'ve\", \" have\", text)\n",
        "  text = re.sub(r\"\\'m\", \" am\", text)\n",
        "  return text\n",
        "\n",
        "\n",
        "def remove_hashtags(text):\n",
        "  new_text = \" \".join(word.strip() for word in re.split('#(?!(?:hashtag)\\b)[\\w-]+(?=(?:\\s+#[\\w-]+)*\\s*$)', text))\n",
        "  new_text2 = \" \".join(word.strip() for word in re.split('#|_', new_text))\n",
        "  return new_text2\n",
        "\n",
        "\n",
        "def filter_characters(text):\n",
        "  filtered = []\n",
        "  for word in text.split(' '):\n",
        "    if ('$' in word) | ('&' in word):\n",
        "      filtered.append('')\n",
        "    else:\n",
        "      filtered.append(word)\n",
        "  return ' '.join(filtered)\n",
        "\n",
        "\n",
        "def remove_mult_spaces(text):\n",
        "  return re.sub(\"\\s\\s+\", \" \", text)\n",
        "\n",
        "\n",
        "# Basic cleaning  \n",
        "def basic_cleaning(text):\n",
        "  text = remove_emoji(text)\n",
        "  text = remove_contractions(text)\n",
        "  text = remove_entities(text)\n",
        "  text = remove_hashtags(text)\n",
        "  text = filter_characters(text)\n",
        "  text = remove_mult_spaces(text)\n",
        "  return text"
      ]
    },
    {
      "cell_type": "markdown",
      "source": [
        "Using basic_cleaning() function defined above to do basic cleaning"
      ],
      "metadata": {
        "id": "Fq4m3mt6fZyW"
      }
    },
    {
      "cell_type": "code",
      "source": [
        "basic_clean_tweets = []\n",
        "for text in data['tweet']:\n",
        "  basic_clean_tweets.append(basic_cleaning(text))"
      ],
      "metadata": {
        "colab": {
          "base_uri": "https://localhost:8080/"
        },
        "id": "VttL1z8SfR84",
        "outputId": "7e30a8f7-539b-4e1f-a4ea-872802cd3f78"
      },
      "execution_count": 98,
      "outputs": [
        {
          "output_type": "stream",
          "name": "stderr",
          "text": [
            "/usr/local/lib/python3.7/dist-packages/ipykernel_launcher.py:8: DeprecationWarning: 'emoji.get_emoji_regexp()' is deprecated and will be removed in version 2.0.0. If you want to remove emoji from a string, consider the method emoji.replace_emoji(str, replace='').\n",
            "To hide this warning, pin/downgrade the package to 'emoji~=1.6.3'\n",
            "  \n"
          ]
        }
      ]
    },
    {
      "cell_type": "code",
      "source": [
        "basic_clean_df = pd.DataFrame(basic_clean_tweets, columns = ['Basic clean']);\n",
        "basic_clean_df['sentiment'] = data['sentiment'].values\n",
        "basic_clean_df.head()\n",
        "\n",
        "# We can see that basic cleaning of tweets has been done."
      ],
      "metadata": {
        "colab": {
          "base_uri": "https://localhost:8080/",
          "height": 206
        },
        "id": "vrjWuvkmgbg3",
        "outputId": "083123d1-e7d8-497f-89df-3c2bd0b26e9d"
      },
      "execution_count": 99,
      "outputs": [
        {
          "output_type": "execute_result",
          "data": {
            "text/plain": [
              "                                         Basic clean          sentiment\n",
              "0            words katandandre food crapilicious mkr  not_cyberbullying\n",
              "1  aussietv white mkr theblock today sunrise stud...  not_cyberbullying\n",
              "2                   classy whore red velvet cupcakes  not_cyberbullying\n",
              "3  meh p thanks heads concerned another angry dud...  not_cyberbullying\n",
              "4  isis account pretending kurdish account like i...  not_cyberbullying"
            ],
            "text/html": [
              "\n",
              "  <div id=\"df-70712fdb-6b54-4e69-acb7-5624451a46be\">\n",
              "    <div class=\"colab-df-container\">\n",
              "      <div>\n",
              "<style scoped>\n",
              "    .dataframe tbody tr th:only-of-type {\n",
              "        vertical-align: middle;\n",
              "    }\n",
              "\n",
              "    .dataframe tbody tr th {\n",
              "        vertical-align: top;\n",
              "    }\n",
              "\n",
              "    .dataframe thead th {\n",
              "        text-align: right;\n",
              "    }\n",
              "</style>\n",
              "<table border=\"1\" class=\"dataframe\">\n",
              "  <thead>\n",
              "    <tr style=\"text-align: right;\">\n",
              "      <th></th>\n",
              "      <th>Basic clean</th>\n",
              "      <th>sentiment</th>\n",
              "    </tr>\n",
              "  </thead>\n",
              "  <tbody>\n",
              "    <tr>\n",
              "      <th>0</th>\n",
              "      <td>words katandandre food crapilicious mkr</td>\n",
              "      <td>not_cyberbullying</td>\n",
              "    </tr>\n",
              "    <tr>\n",
              "      <th>1</th>\n",
              "      <td>aussietv white mkr theblock today sunrise stud...</td>\n",
              "      <td>not_cyberbullying</td>\n",
              "    </tr>\n",
              "    <tr>\n",
              "      <th>2</th>\n",
              "      <td>classy whore red velvet cupcakes</td>\n",
              "      <td>not_cyberbullying</td>\n",
              "    </tr>\n",
              "    <tr>\n",
              "      <th>3</th>\n",
              "      <td>meh p thanks heads concerned another angry dud...</td>\n",
              "      <td>not_cyberbullying</td>\n",
              "    </tr>\n",
              "    <tr>\n",
              "      <th>4</th>\n",
              "      <td>isis account pretending kurdish account like i...</td>\n",
              "      <td>not_cyberbullying</td>\n",
              "    </tr>\n",
              "  </tbody>\n",
              "</table>\n",
              "</div>\n",
              "      <button class=\"colab-df-convert\" onclick=\"convertToInteractive('df-70712fdb-6b54-4e69-acb7-5624451a46be')\"\n",
              "              title=\"Convert this dataframe to an interactive table.\"\n",
              "              style=\"display:none;\">\n",
              "        \n",
              "  <svg xmlns=\"http://www.w3.org/2000/svg\" height=\"24px\"viewBox=\"0 0 24 24\"\n",
              "       width=\"24px\">\n",
              "    <path d=\"M0 0h24v24H0V0z\" fill=\"none\"/>\n",
              "    <path d=\"M18.56 5.44l.94 2.06.94-2.06 2.06-.94-2.06-.94-.94-2.06-.94 2.06-2.06.94zm-11 1L8.5 8.5l.94-2.06 2.06-.94-2.06-.94L8.5 2.5l-.94 2.06-2.06.94zm10 10l.94 2.06.94-2.06 2.06-.94-2.06-.94-.94-2.06-.94 2.06-2.06.94z\"/><path d=\"M17.41 7.96l-1.37-1.37c-.4-.4-.92-.59-1.43-.59-.52 0-1.04.2-1.43.59L10.3 9.45l-7.72 7.72c-.78.78-.78 2.05 0 2.83L4 21.41c.39.39.9.59 1.41.59.51 0 1.02-.2 1.41-.59l7.78-7.78 2.81-2.81c.8-.78.8-2.07 0-2.86zM5.41 20L4 18.59l7.72-7.72 1.47 1.35L5.41 20z\"/>\n",
              "  </svg>\n",
              "      </button>\n",
              "      \n",
              "  <style>\n",
              "    .colab-df-container {\n",
              "      display:flex;\n",
              "      flex-wrap:wrap;\n",
              "      gap: 12px;\n",
              "    }\n",
              "\n",
              "    .colab-df-convert {\n",
              "      background-color: #E8F0FE;\n",
              "      border: none;\n",
              "      border-radius: 50%;\n",
              "      cursor: pointer;\n",
              "      display: none;\n",
              "      fill: #1967D2;\n",
              "      height: 32px;\n",
              "      padding: 0 0 0 0;\n",
              "      width: 32px;\n",
              "    }\n",
              "\n",
              "    .colab-df-convert:hover {\n",
              "      background-color: #E2EBFA;\n",
              "      box-shadow: 0px 1px 2px rgba(60, 64, 67, 0.3), 0px 1px 3px 1px rgba(60, 64, 67, 0.15);\n",
              "      fill: #174EA6;\n",
              "    }\n",
              "\n",
              "    [theme=dark] .colab-df-convert {\n",
              "      background-color: #3B4455;\n",
              "      fill: #D2E3FC;\n",
              "    }\n",
              "\n",
              "    [theme=dark] .colab-df-convert:hover {\n",
              "      background-color: #434B5C;\n",
              "      box-shadow: 0px 1px 3px 1px rgba(0, 0, 0, 0.15);\n",
              "      filter: drop-shadow(0px 1px 2px rgba(0, 0, 0, 0.3));\n",
              "      fill: #FFFFFF;\n",
              "    }\n",
              "  </style>\n",
              "\n",
              "      <script>\n",
              "        const buttonEl =\n",
              "          document.querySelector('#df-70712fdb-6b54-4e69-acb7-5624451a46be button.colab-df-convert');\n",
              "        buttonEl.style.display =\n",
              "          google.colab.kernel.accessAllowed ? 'block' : 'none';\n",
              "\n",
              "        async function convertToInteractive(key) {\n",
              "          const element = document.querySelector('#df-70712fdb-6b54-4e69-acb7-5624451a46be');\n",
              "          const dataTable =\n",
              "            await google.colab.kernel.invokeFunction('convertToInteractive',\n",
              "                                                     [key], {});\n",
              "          if (!dataTable) return;\n",
              "\n",
              "          const docLinkHtml = 'Like what you see? Visit the ' +\n",
              "            '<a target=\"_blank\" href=https://colab.research.google.com/notebooks/data_table.ipynb>data table notebook</a>'\n",
              "            + ' to learn more about interactive tables.';\n",
              "          element.innerHTML = '';\n",
              "          dataTable['output_type'] = 'display_data';\n",
              "          await google.colab.output.renderOutput(dataTable, element);\n",
              "          const docLink = document.createElement('div');\n",
              "          docLink.innerHTML = docLinkHtml;\n",
              "          element.appendChild(docLink);\n",
              "        }\n",
              "      </script>\n",
              "    </div>\n",
              "  </div>\n",
              "  "
            ]
          },
          "metadata": {},
          "execution_count": 99
        }
      ]
    },
    {
      "cell_type": "markdown",
      "source": [
        "Removing duplicates from basic cleaned tweets"
      ],
      "metadata": {
        "id": "OZ7XiS1iWfeb"
      }
    },
    {
      "cell_type": "code",
      "source": [
        "basic_clean_df.shape"
      ],
      "metadata": {
        "colab": {
          "base_uri": "https://localhost:8080/"
        },
        "id": "PQjHUGB2YIiU",
        "outputId": "8d8291d0-004b-4465-f7e7-13d97cd44278"
      },
      "execution_count": 100,
      "outputs": [
        {
          "output_type": "execute_result",
          "data": {
            "text/plain": [
              "(47656, 2)"
            ]
          },
          "metadata": {},
          "execution_count": 100
        }
      ]
    },
    {
      "cell_type": "code",
      "execution_count": 101,
      "metadata": {
        "colab": {
          "base_uri": "https://localhost:8080/"
        },
        "id": "paGs5agW5eMs",
        "outputId": "074bfdb7-92a6-4938-968a-22adfee28ca6"
      },
      "outputs": [
        {
          "output_type": "execute_result",
          "data": {
            "text/plain": [
              "2998"
            ]
          },
          "metadata": {},
          "execution_count": 101
        }
      ],
      "source": [
        "basic_clean_df['Basic clean'].duplicated().sum()"
      ]
    },
    {
      "cell_type": "code",
      "execution_count": 102,
      "metadata": {
        "colab": {
          "base_uri": "https://localhost:8080/"
        },
        "id": "d1P0s8o-5moy",
        "outputId": "45bfb7d5-22c7-4d11-85e4-f5677bd0fc9c"
      },
      "outputs": [
        {
          "output_type": "execute_result",
          "data": {
            "text/plain": [
              "(44658, 2)"
            ]
          },
          "metadata": {},
          "execution_count": 102
        }
      ],
      "source": [
        "basic_clean_df.drop_duplicates('Basic clean', inplace = True)\n",
        "basic_clean_df.shape"
      ]
    },
    {
      "cell_type": "code",
      "execution_count": 103,
      "metadata": {
        "colab": {
          "base_uri": "https://localhost:8080/"
        },
        "id": "_jmSDH6L51Fe",
        "outputId": "e1374b5a-3e17-4c06-ffcb-b56a241f99d5"
      },
      "outputs": [
        {
          "output_type": "execute_result",
          "data": {
            "text/plain": [
              "religion               7948\n",
              "age                    7898\n",
              "ethnicity              7751\n",
              "not_cyberbullying      7648\n",
              "gender                 7616\n",
              "other_cyberbullying    5797\n",
              "Name: sentiment, dtype: int64"
            ]
          },
          "metadata": {},
          "execution_count": 103
        }
      ],
      "source": [
        "basic_clean_df['sentiment'].value_counts()"
      ]
    },
    {
      "cell_type": "markdown",
      "source": [
        "Creating tweet_length column for basic cleaned tweets"
      ],
      "metadata": {
        "id": "ZRcCrPy1Xwpu"
      }
    },
    {
      "cell_type": "code",
      "execution_count": 104,
      "metadata": {
        "colab": {
          "base_uri": "https://localhost:8080/",
          "height": 206
        },
        "id": "RfKbAj3d6lPc",
        "outputId": "300d8fa7-f202-487a-808a-4a8b44d175ce"
      },
      "outputs": [
        {
          "output_type": "execute_result",
          "data": {
            "text/plain": [
              "                                         Basic clean          sentiment  \\\n",
              "0            words katandandre food crapilicious mkr  not_cyberbullying   \n",
              "1  aussietv white mkr theblock today sunrise stud...  not_cyberbullying   \n",
              "2                   classy whore red velvet cupcakes  not_cyberbullying   \n",
              "3  meh p thanks heads concerned another angry dud...  not_cyberbullying   \n",
              "4  isis account pretending kurdish account like i...  not_cyberbullying   \n",
              "\n",
              "   tweet_length  \n",
              "0             5  \n",
              "1            10  \n",
              "2             5  \n",
              "3             9  \n",
              "4             8  "
            ],
            "text/html": [
              "\n",
              "  <div id=\"df-05279b25-6293-4806-8bdf-cb2fe0a966db\">\n",
              "    <div class=\"colab-df-container\">\n",
              "      <div>\n",
              "<style scoped>\n",
              "    .dataframe tbody tr th:only-of-type {\n",
              "        vertical-align: middle;\n",
              "    }\n",
              "\n",
              "    .dataframe tbody tr th {\n",
              "        vertical-align: top;\n",
              "    }\n",
              "\n",
              "    .dataframe thead th {\n",
              "        text-align: right;\n",
              "    }\n",
              "</style>\n",
              "<table border=\"1\" class=\"dataframe\">\n",
              "  <thead>\n",
              "    <tr style=\"text-align: right;\">\n",
              "      <th></th>\n",
              "      <th>Basic clean</th>\n",
              "      <th>sentiment</th>\n",
              "      <th>tweet_length</th>\n",
              "    </tr>\n",
              "  </thead>\n",
              "  <tbody>\n",
              "    <tr>\n",
              "      <th>0</th>\n",
              "      <td>words katandandre food crapilicious mkr</td>\n",
              "      <td>not_cyberbullying</td>\n",
              "      <td>5</td>\n",
              "    </tr>\n",
              "    <tr>\n",
              "      <th>1</th>\n",
              "      <td>aussietv white mkr theblock today sunrise stud...</td>\n",
              "      <td>not_cyberbullying</td>\n",
              "      <td>10</td>\n",
              "    </tr>\n",
              "    <tr>\n",
              "      <th>2</th>\n",
              "      <td>classy whore red velvet cupcakes</td>\n",
              "      <td>not_cyberbullying</td>\n",
              "      <td>5</td>\n",
              "    </tr>\n",
              "    <tr>\n",
              "      <th>3</th>\n",
              "      <td>meh p thanks heads concerned another angry dud...</td>\n",
              "      <td>not_cyberbullying</td>\n",
              "      <td>9</td>\n",
              "    </tr>\n",
              "    <tr>\n",
              "      <th>4</th>\n",
              "      <td>isis account pretending kurdish account like i...</td>\n",
              "      <td>not_cyberbullying</td>\n",
              "      <td>8</td>\n",
              "    </tr>\n",
              "  </tbody>\n",
              "</table>\n",
              "</div>\n",
              "      <button class=\"colab-df-convert\" onclick=\"convertToInteractive('df-05279b25-6293-4806-8bdf-cb2fe0a966db')\"\n",
              "              title=\"Convert this dataframe to an interactive table.\"\n",
              "              style=\"display:none;\">\n",
              "        \n",
              "  <svg xmlns=\"http://www.w3.org/2000/svg\" height=\"24px\"viewBox=\"0 0 24 24\"\n",
              "       width=\"24px\">\n",
              "    <path d=\"M0 0h24v24H0V0z\" fill=\"none\"/>\n",
              "    <path d=\"M18.56 5.44l.94 2.06.94-2.06 2.06-.94-2.06-.94-.94-2.06-.94 2.06-2.06.94zm-11 1L8.5 8.5l.94-2.06 2.06-.94-2.06-.94L8.5 2.5l-.94 2.06-2.06.94zm10 10l.94 2.06.94-2.06 2.06-.94-2.06-.94-.94-2.06-.94 2.06-2.06.94z\"/><path d=\"M17.41 7.96l-1.37-1.37c-.4-.4-.92-.59-1.43-.59-.52 0-1.04.2-1.43.59L10.3 9.45l-7.72 7.72c-.78.78-.78 2.05 0 2.83L4 21.41c.39.39.9.59 1.41.59.51 0 1.02-.2 1.41-.59l7.78-7.78 2.81-2.81c.8-.78.8-2.07 0-2.86zM5.41 20L4 18.59l7.72-7.72 1.47 1.35L5.41 20z\"/>\n",
              "  </svg>\n",
              "      </button>\n",
              "      \n",
              "  <style>\n",
              "    .colab-df-container {\n",
              "      display:flex;\n",
              "      flex-wrap:wrap;\n",
              "      gap: 12px;\n",
              "    }\n",
              "\n",
              "    .colab-df-convert {\n",
              "      background-color: #E8F0FE;\n",
              "      border: none;\n",
              "      border-radius: 50%;\n",
              "      cursor: pointer;\n",
              "      display: none;\n",
              "      fill: #1967D2;\n",
              "      height: 32px;\n",
              "      padding: 0 0 0 0;\n",
              "      width: 32px;\n",
              "    }\n",
              "\n",
              "    .colab-df-convert:hover {\n",
              "      background-color: #E2EBFA;\n",
              "      box-shadow: 0px 1px 2px rgba(60, 64, 67, 0.3), 0px 1px 3px 1px rgba(60, 64, 67, 0.15);\n",
              "      fill: #174EA6;\n",
              "    }\n",
              "\n",
              "    [theme=dark] .colab-df-convert {\n",
              "      background-color: #3B4455;\n",
              "      fill: #D2E3FC;\n",
              "    }\n",
              "\n",
              "    [theme=dark] .colab-df-convert:hover {\n",
              "      background-color: #434B5C;\n",
              "      box-shadow: 0px 1px 3px 1px rgba(0, 0, 0, 0.15);\n",
              "      filter: drop-shadow(0px 1px 2px rgba(0, 0, 0, 0.3));\n",
              "      fill: #FFFFFF;\n",
              "    }\n",
              "  </style>\n",
              "\n",
              "      <script>\n",
              "        const buttonEl =\n",
              "          document.querySelector('#df-05279b25-6293-4806-8bdf-cb2fe0a966db button.colab-df-convert');\n",
              "        buttonEl.style.display =\n",
              "          google.colab.kernel.accessAllowed ? 'block' : 'none';\n",
              "\n",
              "        async function convertToInteractive(key) {\n",
              "          const element = document.querySelector('#df-05279b25-6293-4806-8bdf-cb2fe0a966db');\n",
              "          const dataTable =\n",
              "            await google.colab.kernel.invokeFunction('convertToInteractive',\n",
              "                                                     [key], {});\n",
              "          if (!dataTable) return;\n",
              "\n",
              "          const docLinkHtml = 'Like what you see? Visit the ' +\n",
              "            '<a target=\"_blank\" href=https://colab.research.google.com/notebooks/data_table.ipynb>data table notebook</a>'\n",
              "            + ' to learn more about interactive tables.';\n",
              "          element.innerHTML = '';\n",
              "          dataTable['output_type'] = 'display_data';\n",
              "          await google.colab.output.renderOutput(dataTable, element);\n",
              "          const docLink = document.createElement('div');\n",
              "          docLink.innerHTML = docLinkHtml;\n",
              "          element.appendChild(docLink);\n",
              "        }\n",
              "      </script>\n",
              "    </div>\n",
              "  </div>\n",
              "  "
            ]
          },
          "metadata": {},
          "execution_count": 104
        }
      ],
      "source": [
        "text_length = []\n",
        "for text in basic_clean_df['Basic clean']:\n",
        "  tweet_length = len(text.split())\n",
        "  text_length.append(tweet_length)\n",
        "\n",
        "basic_clean_df['tweet_length'] = text_length\n",
        "basic_clean_df.head()"
      ]
    },
    {
      "cell_type": "markdown",
      "source": [
        "Showing Count plot of tweets length "
      ],
      "metadata": {
        "id": "pHN__Y40X8aP"
      }
    },
    {
      "cell_type": "code",
      "execution_count": 105,
      "metadata": {
        "colab": {
          "base_uri": "https://localhost:8080/",
          "height": 351
        },
        "id": "4s1EJse67F2w",
        "outputId": "8660a967-ab8f-47a3-cae8-4566b599d765"
      },
      "outputs": [
        {
          "output_type": "display_data",
          "data": {
            "text/plain": [
              "<Figure size 1296x360 with 1 Axes>"
            ],
            "image/png": "[encoded data removed]"
          },
          "metadata": {
            "needs_background": "light"
          }
        }
      ],
      "source": [
        "import matplotlib.pyplot as plt\n",
        "plt.figure(figsize=(18,5))\n",
        "# Using countplot\n",
        "ax = sns.countplot(x='tweet_length', data=basic_clean_df)\n",
        "plt.title('Graph of count of tweets and thier tweet length')\n",
        "plt.ylabel('count')\n",
        "plt.xlabel('Tweet_length')\n",
        "plt.show()"
      ]
    },
    {
      "cell_type": "markdown",
      "source": [
        "From the above graph, we can see the distribution of length of cleaned tweets."
      ],
      "metadata": {
        "id": "6HhQrdkNjJDk"
      }
    },
    {
      "cell_type": "markdown",
      "source": [
        "So, removing tweets of length greater than 100 and less than 1."
      ],
      "metadata": {
        "id": "MhflKmOYk0_v"
      }
    },
    {
      "cell_type": "code",
      "execution_count": 106,
      "metadata": {
        "id": "OTath6pb-NSu"
      },
      "outputs": [],
      "source": [
        "basic_clean_df = basic_clean_df[(basic_clean_df['tweet_length'] <= 100) & (basic_clean_df['tweet_length'] > 0)]"
      ]
    },
    {
      "cell_type": "code",
      "source": [
        "basic_clean_df.shape"
      ],
      "metadata": {
        "colab": {
          "base_uri": "https://localhost:8080/"
        },
        "id": "vWKkJr5gb1Lx",
        "outputId": "b18363c5-99a5-479d-91b5-52f351d84cda"
      },
      "execution_count": 107,
      "outputs": [
        {
          "output_type": "execute_result",
          "data": {
            "text/plain": [
              "(44645, 3)"
            ]
          },
          "metadata": {},
          "execution_count": 107
        }
      ]
    },
    {
      "cell_type": "code",
      "execution_count": 108,
      "metadata": {
        "colab": {
          "base_uri": "https://localhost:8080/"
        },
        "id": "JunkHLzF-U2l",
        "outputId": "8aa4b5dc-6cf4-49ee-a9eb-b8df846da457"
      },
      "outputs": [
        {
          "output_type": "stream",
          "name": "stdout",
          "text": [
            "Maximum length of tweet =  100\n"
          ]
        }
      ],
      "source": [
        "max_length = np.max(basic_clean_df['tweet_length'])\n",
        "print(\"Maximum length of tweet = \",max_length)"
      ]
    },
    {
      "cell_type": "markdown",
      "source": [
        "### Proceeding towards Stemming and Lemmatization techniques."
      ],
      "metadata": {
        "id": "2-cLtAiZhB8D"
      }
    },
    {
      "cell_type": "markdown",
      "source": [
        "For further cleaning in this section, we will be generating three columns.\n",
        "\n",
        "1.   Stemming of basic cleaned tweets\n",
        "2.   Lemmatization of basic cleaned tweets\n",
        "3.   Lemmatization followed by Stemming of cleaned tweets.\n",
        "\n",
        "We will select one techinique from above three based on thier performance.\n"
      ],
      "metadata": {
        "id": "M3wcUhVdoQbo"
      }
    },
    {
      "cell_type": "code",
      "source": [
        "nltk.download('wordnet')"
      ],
      "metadata": {
        "colab": {
          "base_uri": "https://localhost:8080/"
        },
        "id": "MRVc9gzTpu14",
        "outputId": "6b6c55da-0292-407e-e3ec-d17d82213c06"
      },
      "execution_count": 109,
      "outputs": [
        {
          "output_type": "stream",
          "name": "stdout",
          "text": [
            "[nltk_data] Downloading package wordnet to /root/nltk_data...\n",
            "[nltk_data]   Package wordnet is already up-to-date!\n"
          ]
        },
        {
          "output_type": "execute_result",
          "data": {
            "text/plain": [
              "True"
            ]
          },
          "metadata": {},
          "execution_count": 109
        }
      ]
    },
    {
      "cell_type": "code",
      "source": [
        "# We will use SnowballStemmer\n",
        "\n",
        "from nltk.stem import WordNetLemmatizer,SnowballStemmer\n",
        "\n",
        "def stemming(text):\n",
        "  tokenized = nltk.word_tokenize(text)\n",
        "  sb = SnowballStemmer(language = 'english')\n",
        "  return ' '.join([sb.stem(words) for words in tokenized])\n",
        "\n",
        "\n",
        "def lemmatize(text):\n",
        "  tokenized = nltk.word_tokenize(text)\n",
        "  lm = WordNetLemmatizer()\n",
        "  return ' '.join([lm.lemmatize(words) for words in tokenized])"
      ],
      "metadata": {
        "id": "5-Rdwwe4dsfb"
      },
      "execution_count": 110,
      "outputs": []
    },
    {
      "cell_type": "markdown",
      "source": [
        "Using above functions to do stemming and lemmatization on basic clean tweets"
      ],
      "metadata": {
        "id": "S5lA5dIjlRmD"
      }
    },
    {
      "cell_type": "code",
      "source": [
        "# For stemming and lemmatization\n",
        "stem_tweets = []\n",
        "lemma_tweets = []\n",
        "lemma_stem_tweets = [];\n",
        "\n",
        "# For stemming and lemmatization\n",
        "for text in basic_clean_df['Basic clean']:\n",
        "  stem_tweets.append(stemming(text));      # Stemming\n",
        "  lemma_tweets.append(lemmatize(text));    # Lemmatize\n",
        "\n",
        "# For lemmatization followed by stemming\n",
        "for text in lemma_tweets:\n",
        "  lemma_stem_tweets.append(stemming(text));"
      ],
      "metadata": {
        "id": "9tNmgPOOleuh"
      },
      "execution_count": 111,
      "outputs": []
    },
    {
      "cell_type": "markdown",
      "source": [
        "Showing three results of Stemming, Lemmatization and Lemma+Stemming"
      ],
      "metadata": {
        "id": "kk5ot3CDqTqX"
      }
    },
    {
      "cell_type": "code",
      "source": [
        "basic_clean_df['Stemming'] = stem_tweets;\n",
        "basic_clean_df['Lemmatization'] = lemma_tweets;\n",
        "basic_clean_df['Lemma_Stemming'] = lemma_stem_tweets;\n",
        "basic_clean_df.head()\n",
        "\n",
        "# We can see that in stemming is just removing last few characters of words.\n",
        "# Whereas lemmatization is considering context of words and converting to its\n",
        "# meaningful baseform."
      ],
      "metadata": {
        "colab": {
          "base_uri": "https://localhost:8080/",
          "height": 302
        },
        "id": "JuI8KAC5qD5H",
        "outputId": "81de1ce7-9c84-4577-ea6c-fc5b1b185ef3"
      },
      "execution_count": 112,
      "outputs": [
        {
          "output_type": "execute_result",
          "data": {
            "text/plain": [
              "                                         Basic clean          sentiment  \\\n",
              "0            words katandandre food crapilicious mkr  not_cyberbullying   \n",
              "1  aussietv white mkr theblock today sunrise stud...  not_cyberbullying   \n",
              "2                   classy whore red velvet cupcakes  not_cyberbullying   \n",
              "3  meh p thanks heads concerned another angry dud...  not_cyberbullying   \n",
              "4  isis account pretending kurdish account like i...  not_cyberbullying   \n",
              "\n",
              "   tweet_length                                           Stemming  \\\n",
              "0             5                 word katandandr food crapilici mkr   \n",
              "1            10  aussietv white mkr theblock today sunris studi...   \n",
              "2             5                     classi whore red velvet cupcak   \n",
              "3             9  meh p thank head concern anoth angri dude twitter   \n",
              "4             8  isi account pretend kurdish account like islam...   \n",
              "\n",
              "                                       Lemmatization  \\\n",
              "0             word katandandre food crapilicious mkr   \n",
              "1  aussietv white mkr theblock today sunrise stud...   \n",
              "2                    classy whore red velvet cupcake   \n",
              "3  meh p thanks head concerned another angry dude...   \n",
              "4  isi account pretending kurdish account like is...   \n",
              "\n",
              "                                      Lemma_Stemming  \n",
              "0                 word katandandr food crapilici mkr  \n",
              "1  aussietv white mkr theblock today sunris studi...  \n",
              "2                     classi whore red velvet cupcak  \n",
              "3  meh p thank head concern anoth angri dude twitter  \n",
              "4  isi account pretend kurdish account like islam...  "
            ],
            "text/html": [
              "\n",
              "  <div id=\"df-d58a7292-7233-42d6-a393-3eeeed395354\">\n",
              "    <div class=\"colab-df-container\">\n",
              "      <div>\n",
              "<style scoped>\n",
              "    .dataframe tbody tr th:only-of-type {\n",
              "        vertical-align: middle;\n",
              "    }\n",
              "\n",
              "    .dataframe tbody tr th {\n",
              "        vertical-align: top;\n",
              "    }\n",
              "\n",
              "    .dataframe thead th {\n",
              "        text-align: right;\n",
              "    }\n",
              "</style>\n",
              "<table border=\"1\" class=\"dataframe\">\n",
              "  <thead>\n",
              "    <tr style=\"text-align: right;\">\n",
              "      <th></th>\n",
              "      <th>Basic clean</th>\n",
              "      <th>sentiment</th>\n",
              "      <th>tweet_length</th>\n",
              "      <th>Stemming</th>\n",
              "      <th>Lemmatization</th>\n",
              "      <th>Lemma_Stemming</th>\n",
              "    </tr>\n",
              "  </thead>\n",
              "  <tbody>\n",
              "    <tr>\n",
              "      <th>0</th>\n",
              "      <td>words katandandre food crapilicious mkr</td>\n",
              "      <td>not_cyberbullying</td>\n",
              "      <td>5</td>\n",
              "      <td>word katandandr food crapilici mkr</td>\n",
              "      <td>word katandandre food crapilicious mkr</td>\n",
              "      <td>word katandandr food crapilici mkr</td>\n",
              "    </tr>\n",
              "    <tr>\n",
              "      <th>1</th>\n",
              "      <td>aussietv white mkr theblock today sunrise stud...</td>\n",
              "      <td>not_cyberbullying</td>\n",
              "      <td>10</td>\n",
              "      <td>aussietv white mkr theblock today sunris studi...</td>\n",
              "      <td>aussietv white mkr theblock today sunrise stud...</td>\n",
              "      <td>aussietv white mkr theblock today sunris studi...</td>\n",
              "    </tr>\n",
              "    <tr>\n",
              "      <th>2</th>\n",
              "      <td>classy whore red velvet cupcakes</td>\n",
              "      <td>not_cyberbullying</td>\n",
              "      <td>5</td>\n",
              "      <td>classi whore red velvet cupcak</td>\n",
              "      <td>classy whore red velvet cupcake</td>\n",
              "      <td>classi whore red velvet cupcak</td>\n",
              "    </tr>\n",
              "    <tr>\n",
              "      <th>3</th>\n",
              "      <td>meh p thanks heads concerned another angry dud...</td>\n",
              "      <td>not_cyberbullying</td>\n",
              "      <td>9</td>\n",
              "      <td>meh p thank head concern anoth angri dude twitter</td>\n",
              "      <td>meh p thanks head concerned another angry dude...</td>\n",
              "      <td>meh p thank head concern anoth angri dude twitter</td>\n",
              "    </tr>\n",
              "    <tr>\n",
              "      <th>4</th>\n",
              "      <td>isis account pretending kurdish account like i...</td>\n",
              "      <td>not_cyberbullying</td>\n",
              "      <td>8</td>\n",
              "      <td>isi account pretend kurdish account like islam...</td>\n",
              "      <td>isi account pretending kurdish account like is...</td>\n",
              "      <td>isi account pretend kurdish account like islam...</td>\n",
              "    </tr>\n",
              "  </tbody>\n",
              "</table>\n",
              "</div>\n",
              "      <button class=\"colab-df-convert\" onclick=\"convertToInteractive('df-d58a7292-7233-42d6-a393-3eeeed395354')\"\n",
              "              title=\"Convert this dataframe to an interactive table.\"\n",
              "              style=\"display:none;\">\n",
              "        \n",
              "  <svg xmlns=\"http://www.w3.org/2000/svg\" height=\"24px\"viewBox=\"0 0 24 24\"\n",
              "       width=\"24px\">\n",
              "    <path d=\"M0 0h24v24H0V0z\" fill=\"none\"/>\n",
              "    <path d=\"M18.56 5.44l.94 2.06.94-2.06 2.06-.94-2.06-.94-.94-2.06-.94 2.06-2.06.94zm-11 1L8.5 8.5l.94-2.06 2.06-.94-2.06-.94L8.5 2.5l-.94 2.06-2.06.94zm10 10l.94 2.06.94-2.06 2.06-.94-2.06-.94-.94-2.06-.94 2.06-2.06.94z\"/><path d=\"M17.41 7.96l-1.37-1.37c-.4-.4-.92-.59-1.43-.59-.52 0-1.04.2-1.43.59L10.3 9.45l-7.72 7.72c-.78.78-.78 2.05 0 2.83L4 21.41c.39.39.9.59 1.41.59.51 0 1.02-.2 1.41-.59l7.78-7.78 2.81-2.81c.8-.78.8-2.07 0-2.86zM5.41 20L4 18.59l7.72-7.72 1.47 1.35L5.41 20z\"/>\n",
              "  </svg>\n",
              "      </button>\n",
              "      \n",
              "  <style>\n",
              "    .colab-df-container {\n",
              "      display:flex;\n",
              "      flex-wrap:wrap;\n",
              "      gap: 12px;\n",
              "    }\n",
              "\n",
              "    .colab-df-convert {\n",
              "      background-color: #E8F0FE;\n",
              "      border: none;\n",
              "      border-radius: 50%;\n",
              "      cursor: pointer;\n",
              "      display: none;\n",
              "      fill: #1967D2;\n",
              "      height: 32px;\n",
              "      padding: 0 0 0 0;\n",
              "      width: 32px;\n",
              "    }\n",
              "\n",
              "    .colab-df-convert:hover {\n",
              "      background-color: #E2EBFA;\n",
              "      box-shadow: 0px 1px 2px rgba(60, 64, 67, 0.3), 0px 1px 3px 1px rgba(60, 64, 67, 0.15);\n",
              "      fill: #174EA6;\n",
              "    }\n",
              "\n",
              "    [theme=dark] .colab-df-convert {\n",
              "      background-color: #3B4455;\n",
              "      fill: #D2E3FC;\n",
              "    }\n",
              "\n",
              "    [theme=dark] .colab-df-convert:hover {\n",
              "      background-color: #434B5C;\n",
              "      box-shadow: 0px 1px 3px 1px rgba(0, 0, 0, 0.15);\n",
              "      filter: drop-shadow(0px 1px 2px rgba(0, 0, 0, 0.3));\n",
              "      fill: #FFFFFF;\n",
              "    }\n",
              "  </style>\n",
              "\n",
              "      <script>\n",
              "        const buttonEl =\n",
              "          document.querySelector('#df-d58a7292-7233-42d6-a393-3eeeed395354 button.colab-df-convert');\n",
              "        buttonEl.style.display =\n",
              "          google.colab.kernel.accessAllowed ? 'block' : 'none';\n",
              "\n",
              "        async function convertToInteractive(key) {\n",
              "          const element = document.querySelector('#df-d58a7292-7233-42d6-a393-3eeeed395354');\n",
              "          const dataTable =\n",
              "            await google.colab.kernel.invokeFunction('convertToInteractive',\n",
              "                                                     [key], {});\n",
              "          if (!dataTable) return;\n",
              "\n",
              "          const docLinkHtml = 'Like what you see? Visit the ' +\n",
              "            '<a target=\"_blank\" href=https://colab.research.google.com/notebooks/data_table.ipynb>data table notebook</a>'\n",
              "            + ' to learn more about interactive tables.';\n",
              "          element.innerHTML = '';\n",
              "          dataTable['output_type'] = 'display_data';\n",
              "          await google.colab.output.renderOutput(dataTable, element);\n",
              "          const docLink = document.createElement('div');\n",
              "          docLink.innerHTML = docLinkHtml;\n",
              "          element.appendChild(docLink);\n",
              "        }\n",
              "      </script>\n",
              "    </div>\n",
              "  </div>\n",
              "  "
            ]
          },
          "metadata": {},
          "execution_count": 112
        }
      ]
    },
    {
      "cell_type": "markdown",
      "source": [
        "Encoding the sentiment column."
      ],
      "metadata": {
        "id": "c9H2qB3-bS3u"
      }
    },
    {
      "cell_type": "code",
      "source": [
        "basic_clean_df['sentiment'] = basic_clean_df['sentiment'].replace({'religion':0,'age':1,'ethnicity':2,'gender':3,'not_cyberbullying':4, 'other_cyberbullying':5})"
      ],
      "metadata": {
        "id": "rdLsARD4bSSt"
      },
      "execution_count": 113,
      "outputs": []
    },
    {
      "cell_type": "markdown",
      "source": [
        "Word Cloud for religion sentiment"
      ],
      "metadata": {
        "id": "YMUIoubmDyTq"
      }
    },
    {
      "cell_type": "code",
      "source": [
        "import matplotlib.pyplot as plt\n",
        "from wordcloud import WordCloud\n",
        "\n",
        "text = basic_clean_df[basic_clean_df['sentiment']==0]['Stemming'].values\n",
        "wordCloud = WordCloud().generate(str(text))\n",
        "plt.imshow(wordCloud)\n",
        "plt.savefig('religion.png')"
      ],
      "metadata": {
        "id": "2yc52qnNAdXu",
        "outputId": "dd2badbe-b855-40fb-e47f-3c688c79188b",
        "colab": {
          "base_uri": "https://localhost:8080/",
          "height": 219
        }
      },
      "execution_count": 114,
      "outputs": [
        {
          "output_type": "display_data",
          "data": {
            "text/plain": [
              "<Figure size 432x288 with 1 Axes>"
            ],
            "image/png": "[encoded data removed]"
          },
          "metadata": {
            "needs_background": "light"
          }
        }
      ]
    },
    {
      "cell_type": "markdown",
      "source": [
        "Word Cloud for age sentiment"
      ],
      "metadata": {
        "id": "LSIIqHO7D9s-"
      }
    },
    {
      "cell_type": "code",
      "source": [
        "text = basic_clean_df[basic_clean_df['sentiment']==1]['Stemming'].values\n",
        "wordCloud = WordCloud().generate(str(text))\n",
        "plt.imshow(wordCloud)\n",
        "plt.savefig('age.png')"
      ],
      "metadata": {
        "id": "TIWA1Y2ZD3w9",
        "outputId": "a45632e8-68fb-4972-9b3d-bbde46624d05",
        "colab": {
          "base_uri": "https://localhost:8080/",
          "height": 219
        }
      },
      "execution_count": 115,
      "outputs": [
        {
          "output_type": "display_data",
          "data": {
            "text/plain": [
              "<Figure size 432x288 with 1 Axes>"
            ],
            "image/png": "[encoded data removed]"
          },
          "metadata": {
            "needs_background": "light"
          }
        }
      ]
    },
    {
      "cell_type": "markdown",
      "source": [
        "Word Cloud for ethnicity sentiment"
      ],
      "metadata": {
        "id": "vTDgbE_2ECaO"
      }
    },
    {
      "cell_type": "code",
      "source": [
        "text = basic_clean_df[basic_clean_df['sentiment']==2]['Stemming'].values\n",
        "wordCloud = WordCloud().generate(str(text))\n",
        "plt.imshow(wordCloud)\n",
        "plt.savefig('ethnicity.png')"
      ],
      "metadata": {
        "id": "ch5ss5GFEIHy",
        "outputId": "22514f91-6c68-4197-fe22-1117c7a13a28",
        "colab": {
          "base_uri": "https://localhost:8080/",
          "height": 219
        }
      },
      "execution_count": 116,
      "outputs": [
        {
          "output_type": "display_data",
          "data": {
            "text/plain": [
              "<Figure size 432x288 with 1 Axes>"
            ],
            "image/png": "[encoded data removed]"
          },
          "metadata": {
            "needs_background": "light"
          }
        }
      ]
    },
    {
      "cell_type": "markdown",
      "source": [
        "Word Cloud for not_cyberbullying sentiment"
      ],
      "metadata": {
        "id": "OG18xAVLEOuu"
      }
    },
    {
      "cell_type": "code",
      "source": [
        "text = basic_clean_df[basic_clean_df['sentiment']==3]['Stemming'].values\n",
        "wordCloud = WordCloud().generate(str(text))\n",
        "plt.imshow(wordCloud)\n",
        "plt.savefig('not_cyberbullying.png')"
      ],
      "metadata": {
        "id": "WrovFpxvEUkg",
        "outputId": "6f3747a5-4046-496b-eb7c-697462498d2c",
        "colab": {
          "base_uri": "https://localhost:8080/",
          "height": 219
        }
      },
      "execution_count": 117,
      "outputs": [
        {
          "output_type": "display_data",
          "data": {
            "text/plain": [
              "<Figure size 432x288 with 1 Axes>"
            ],
            "image/png": "[encoded data removed]"
          },
          "metadata": {
            "needs_background": "light"
          }
        }
      ]
    },
    {
      "cell_type": "markdown",
      "source": [
        "Word Cloud for gender sentiment"
      ],
      "metadata": {
        "id": "FvZNYuhpEiYv"
      }
    },
    {
      "cell_type": "code",
      "source": [
        "text = basic_clean_df[basic_clean_df['sentiment']==4]['Stemming'].values\n",
        "wordCloud = WordCloud().generate(str(text))\n",
        "plt.imshow(wordCloud)\n",
        "plt.savefig('gender.png')"
      ],
      "metadata": {
        "id": "z0HSEqdvEn4o",
        "outputId": "e978f12f-1ca0-424b-9377-d44bdf660abb",
        "colab": {
          "base_uri": "https://localhost:8080/",
          "height": 219
        }
      },
      "execution_count": 118,
      "outputs": [
        {
          "output_type": "display_data",
          "data": {
            "text/plain": [
              "<Figure size 432x288 with 1 Axes>"
            ],
            "image/png": "[encoded data removed]"
          },
          "metadata": {
            "needs_background": "light"
          }
        }
      ]
    },
    {
      "cell_type": "code",
      "source": [
        "text = basic_clean_df[basic_clean_df['sentiment']==5]['Stemming'].values\n",
        "wordCloud = WordCloud().generate(str(text))\n",
        "plt.imshow(wordCloud)\n",
        "plt.savefig('other.png')"
      ],
      "metadata": {
        "id": "mr3u14clpKZo",
        "outputId": "5ff8fee5-b5ff-4d20-e425-ed49312d6667",
        "colab": {
          "base_uri": "https://localhost:8080/",
          "height": 219
        }
      },
      "execution_count": 119,
      "outputs": [
        {
          "output_type": "display_data",
          "data": {
            "text/plain": [
              "<Figure size 432x288 with 1 Axes>"
            ],
            "image/png": "[encoded data removed]"
          },
          "metadata": {
            "needs_background": "light"
          }
        }
      ]
    },
    {
      "cell_type": "markdown",
      "source": [
        "## Proceeding towards Word embeddings"
      ],
      "metadata": {
        "id": "Vy3x4BjSdT4l"
      }
    },
    {
      "cell_type": "markdown",
      "source": [
        "For further processing, we will convert our results of - \n",
        "\n",
        "*   Stemming\n",
        "*   Lemmatization\n",
        "*   Lemmatization followed by stemming\n",
        "\n",
        "to vectors.\n",
        "To achieve this, we will be using following word-embeddings -\n",
        "\n",
        "\n",
        "1.   Bag of words\n",
        "2.   Tf-idf (Term Frequency-Inverse Document Frequency)\n",
        "3.   GloVe word embedding\n",
        "4.   Word2vec embedding\n",
        "\n",
        "\n",
        "Before going for these, lets first split the dataset in training and testing.\n"
      ],
      "metadata": {
        "id": "KeVgwA8Ydivp"
      }
    },
    {
      "cell_type": "markdown",
      "source": [
        "importing libraries"
      ],
      "metadata": {
        "id": "q9_NEH3fepnc"
      }
    },
    {
      "cell_type": "code",
      "source": [
        "from sklearn.model_selection import train_test_split"
      ],
      "metadata": {
        "id": "XwSyuVhveniE"
      },
      "execution_count": 120,
      "outputs": []
    },
    {
      "cell_type": "code",
      "source": [
        "basic_clean_df['sentiment'].value_counts()"
      ],
      "metadata": {
        "colab": {
          "base_uri": "https://localhost:8080/"
        },
        "id": "XuXppoZ0dLj-",
        "outputId": "540b7d0c-c12e-4dcd-efb0-04f0cfc086f0"
      },
      "execution_count": 121,
      "outputs": [
        {
          "output_type": "execute_result",
          "data": {
            "text/plain": [
              "0    7948\n",
              "1    7897\n",
              "2    7748\n",
              "4    7645\n",
              "3    7613\n",
              "5    5794\n",
              "Name: sentiment, dtype: int64"
            ]
          },
          "metadata": {},
          "execution_count": 121
        }
      ]
    },
    {
      "cell_type": "markdown",
      "source": [
        "Train/test split"
      ],
      "metadata": {
        "id": "NkLD2rB5dWK0"
      }
    },
    {
      "cell_type": "code",
      "source": [
        "# For X - dropping sentiment column \n",
        "sampled_df = basic_clean_df.sample(34764) # Here, we are performing random sampling to get rid of class imbalance\n",
        "X = sampled_df.drop(columns='sentiment');\n",
        "# y = sentiments\n",
        "y = sampled_df['sentiment']\n",
        "# Splitting 20% test and 80% train\n",
        "X_train,X_test,y_train,y_test = train_test_split(X, y, test_size=0.2, stratify=y, random_state = 42);\n",
        "print(X_train.shape, X_test.shape, y_train.shape, y_test.shape);"
      ],
      "metadata": {
        "colab": {
          "base_uri": "https://localhost:8080/"
        },
        "id": "03hUKLEvbLKd",
        "outputId": "31b9a765-f3c0-43cd-a112-e3194792262f"
      },
      "execution_count": 122,
      "outputs": [
        {
          "output_type": "stream",
          "name": "stdout",
          "text": [
            "(27811, 5) (6953, 5) (27811,) (6953,)\n"
          ]
        }
      ]
    },
    {
      "cell_type": "markdown",
      "source": [
        "Defining different varaiables for Stemming,lemmatization and lemma_stem\n"
      ],
      "metadata": {
        "id": "nH9sR31jtSe_"
      }
    },
    {
      "cell_type": "code",
      "source": [
        "# For training -\n",
        "X_stem_train = X_train['Stemming']\n",
        "X_lemma_train = X_train['Lemmatization']\n",
        "X_lemmaStem_train = X_train['Lemma_Stemming']\n",
        "\n",
        "# For testing -\n",
        "X_stem_test = X_test['Stemming']\n",
        "X_lemma_test = X_test['Lemmatization']\n",
        "X_lemmaStem_test = X_test['Lemma_Stemming']\n",
        "\n",
        "print(X_stem_train.shape,X_lemma_train.shape,X_lemmaStem_train.shape)\n",
        "print(X_stem_test.shape,X_lemma_test.shape,X_lemmaStem_test.shape)"
      ],
      "metadata": {
        "colab": {
          "base_uri": "https://localhost:8080/"
        },
        "id": "OoGRKtZHtw7x",
        "outputId": "dec22d55-d9f2-4154-d127-6c0d5c8ebb2b"
      },
      "execution_count": 123,
      "outputs": [
        {
          "output_type": "stream",
          "name": "stdout",
          "text": [
            "(27811,) (27811,) (27811,)\n",
            "(6953,) (6953,) (6953,)\n"
          ]
        }
      ]
    },
    {
      "cell_type": "markdown",
      "source": [
        "Now, we will use above vairables for different embedings."
      ],
      "metadata": {
        "id": "YvQNE57yuevn"
      }
    },
    {
      "cell_type": "markdown",
      "source": [
        "### Bag of words"
      ],
      "metadata": {
        "id": "6-WZIFUJfBWa"
      }
    },
    {
      "cell_type": "markdown",
      "source": [
        "importing CountVectorizer"
      ],
      "metadata": {
        "id": "AkyzFCYAgHbf"
      }
    },
    {
      "cell_type": "code",
      "source": [
        "from sklearn.feature_extraction.text import CountVectorizer"
      ],
      "metadata": {
        "id": "7Fv6MMUTgGiv"
      },
      "execution_count": 124,
      "outputs": []
    },
    {
      "cell_type": "markdown",
      "source": [
        "Creating objects of CountVectorizer"
      ],
      "metadata": {
        "id": "_q0oM582vBgp"
      }
    },
    {
      "cell_type": "code",
      "source": [
        "bow1 = CountVectorizer();\n",
        "bow2 = CountVectorizer();\n",
        "bow3 = CountVectorizer();\n",
        "# for stemming\n",
        "bow_cv1 = bow1.fit_transform(X_stem_train);\n",
        "# for lemmatization\n",
        "bow_cv2 = bow2.fit_transform(X_lemma_train);\n",
        "# for lemma-stemming\n",
        "bow_cv3 = bow3.fit_transform(X_lemmaStem_train);\n",
        "\n",
        "print(bow_cv1.shape);\n",
        "print(bow_cv2.shape);\n",
        "print(bow_cv3.shape);"
      ],
      "metadata": {
        "id": "g8y5bWgGfQyR",
        "colab": {
          "base_uri": "https://localhost:8080/"
        },
        "outputId": "c81eab83-dfb8-4d8d-8f9e-1a61de195cfe"
      },
      "execution_count": 125,
      "outputs": [
        {
          "output_type": "stream",
          "name": "stdout",
          "text": [
            "(27811, 26673)\n",
            "(27811, 31913)\n",
            "(27811, 26528)\n"
          ]
        }
      ]
    },
    {
      "cell_type": "markdown",
      "source": [
        "### Tf-idf (Term Frequency-Inverse Document Frequency)"
      ],
      "metadata": {
        "id": "BaEUGpJPfF1K"
      }
    },
    {
      "cell_type": "markdown",
      "source": [
        "importing TfidfTransformer"
      ],
      "metadata": {
        "id": "hiaHOCPexV4v"
      }
    },
    {
      "cell_type": "code",
      "source": [
        "from sklearn.feature_extraction.text import TfidfTransformer"
      ],
      "metadata": {
        "id": "yV69lxLSdh7K"
      },
      "execution_count": 126,
      "outputs": []
    },
    {
      "cell_type": "markdown",
      "source": [
        "Creating objects of TfidfTransformer"
      ],
      "metadata": {
        "id": "lIpw0Kajxt8_"
      }
    },
    {
      "cell_type": "code",
      "source": [
        "tfid1 = TfidfTransformer(use_idf=True).fit(bow_cv1)\n",
        "tfid2 = TfidfTransformer(use_idf=True).fit(bow_cv2)\n",
        "tfid3 = TfidfTransformer(use_idf=True).fit(bow_cv3)\n",
        "# for stemming\n",
        "tf_cv1 = tfid1.transform(bow_cv1);\n",
        "# for lemmatization\n",
        "tf_cv2 = tfid2.transform(bow_cv2);\n",
        "# for lemma-stemming\n",
        "tf_cv3 = tfid3.transform(bow_cv3);\n",
        "\n",
        "print(tf_cv1.shape);\n",
        "print(tf_cv2.shape);\n",
        "print(tf_cv3.shape);"
      ],
      "metadata": {
        "id": "D7uEUDGIx6ES",
        "colab": {
          "base_uri": "https://localhost:8080/"
        },
        "outputId": "b8c4321d-cb68-49f5-97f4-2521d7bb0a29"
      },
      "execution_count": 127,
      "outputs": [
        {
          "output_type": "stream",
          "name": "stdout",
          "text": [
            "(27811, 26673)\n",
            "(27811, 31913)\n",
            "(27811, 26528)\n"
          ]
        }
      ]
    },
    {
      "cell_type": "markdown",
      "source": [
        "### GloVe (Global Vectors) Word Embedding"
      ],
      "metadata": {
        "id": "mAtChbWFNQ3-"
      }
    },
    {
      "cell_type": "markdown",
      "source": [
        "Downloading glove python library"
      ],
      "metadata": {
        "id": "zY3w3NPSP4qC"
      }
    },
    {
      "cell_type": "code",
      "source": [
        "! pip install glove-python-binary"
      ],
      "metadata": {
        "id": "ouIy51pgNv5u",
        "outputId": "1cd30a93-61b6-4339-8f70-0bf52491d10f",
        "colab": {
          "base_uri": "https://localhost:8080/"
        }
      },
      "execution_count": 128,
      "outputs": [
        {
          "output_type": "stream",
          "name": "stdout",
          "text": [
            "Requirement already satisfied: glove-python-binary in /usr/local/lib/python3.7/dist-packages (0.2.0)\n",
            "Requirement already satisfied: scipy in /usr/local/lib/python3.7/dist-packages (from glove-python-binary) (1.4.1)\n",
            "Requirement already satisfied: numpy in /usr/local/lib/python3.7/dist-packages (from glove-python-binary) (1.21.5)\n"
          ]
        }
      ]
    },
    {
      "cell_type": "markdown",
      "source": [
        "Creating two lists- tweet_text and tweet_sentiment to store stemmed tweets and its corresponding sentiment so that we can train glove embeddings."
      ],
      "metadata": {
        "id": "V5F3Q2YQRn2n"
      }
    },
    {
      "cell_type": "code",
      "source": [
        "tweet_text = []\n",
        "tweet_sentiment = []\n",
        "for key, value in sampled_df.iterrows():\n",
        "  tweet = value['Stemming'].split()\n",
        "  tweet_text.append(tweet)\n",
        "  tweet_sentiment.append(value['sentiment'])"
      ],
      "metadata": {
        "id": "pLXw_koKQFvf"
      },
      "execution_count": 129,
      "outputs": []
    },
    {
      "cell_type": "markdown",
      "source": [
        "Now training glove to create embeddings"
      ],
      "metadata": {
        "id": "QDukWrtuSnCt"
      }
    },
    {
      "cell_type": "code",
      "source": [
        "from glove import Corpus, Glove\n",
        "\n",
        "corpus = Corpus()  # Creating a corpus object that will generate the co-occurence matrix\n",
        "corpus.fit(tweet_text, window = 10)  # Training the corpus to generate the co-occurence matrix that will be used by GloVe\n",
        "glove = Glove(no_components=300, learning_rate=0.05)  # Creating a glove object that will use the matrix created above to create embeddings\n",
        "glove.fit(corpus.matrix, epochs=30, no_threads=4, verbose=True)  # Training glove to create embeddings\n",
        "glove.add_dictionary(corpus.dictionary)  # Adding corpus dictionary to glove dictionary\n",
        "glove.save('glove.model')  # Saving the model"
      ],
      "metadata": {
        "id": "7pdapjaMSWGG",
        "outputId": "e40d569b-093b-438e-fd22-2ae5c9c8c764",
        "colab": {
          "base_uri": "https://localhost:8080/"
        }
      },
      "execution_count": 130,
      "outputs": [
        {
          "output_type": "stream",
          "name": "stdout",
          "text": [
            "Performing 30 training epochs with 4 threads\n",
            "Epoch 0\n",
            "Epoch 1\n",
            "Epoch 2\n",
            "Epoch 3\n",
            "Epoch 4\n",
            "Epoch 5\n",
            "Epoch 6\n",
            "Epoch 7\n",
            "Epoch 8\n",
            "Epoch 9\n",
            "Epoch 10\n",
            "Epoch 11\n",
            "Epoch 12\n",
            "Epoch 13\n",
            "Epoch 14\n",
            "Epoch 15\n",
            "Epoch 16\n",
            "Epoch 17\n",
            "Epoch 18\n",
            "Epoch 19\n",
            "Epoch 20\n",
            "Epoch 21\n",
            "Epoch 22\n",
            "Epoch 23\n",
            "Epoch 24\n",
            "Epoch 25\n",
            "Epoch 26\n",
            "Epoch 27\n",
            "Epoch 28\n",
            "Epoch 29\n"
          ]
        }
      ]
    },
    {
      "cell_type": "markdown",
      "source": [
        "Iterating over stemmed tweets and storing the word embeddings in a list"
      ],
      "metadata": {
        "id": "VJ5ExAOLVQgF"
      }
    },
    {
      "cell_type": "code",
      "source": [
        "word_embeddings = []\n",
        "for key, value in sampled_df.iterrows():\n",
        "  words = value['Stemming'].split()\n",
        "  embedding = np.zeros(300)\n",
        "  for j in range(len(words)):  # Iterating over all words in the tweet to calculate mean of GloVe embedding\n",
        "    embedding += np.array(glove.word_vectors[glove.dictionary[words[j]]])\n",
        "  embedding = embedding/len(words)\n",
        "  word_embeddings.append(embedding)"
      ],
      "metadata": {
        "id": "6hKsv5QEU9rV"
      },
      "execution_count": 131,
      "outputs": []
    },
    {
      "cell_type": "markdown",
      "source": [
        "Creating a dataframe for word embeddings and their corresponding sentiment"
      ],
      "metadata": {
        "id": "lbgSXivQWTz7"
      }
    },
    {
      "cell_type": "code",
      "source": [
        "cols = []\n",
        "for i in range(300):\n",
        "  col_name = \"col\"+str(i+1)\n",
        "  cols.append(col_name)\n",
        "embeddings_df = pd.DataFrame(word_embeddings, columns = cols)\n",
        "embeddings_df['sentiments'] = tweet_sentiment\n",
        "embeddings_df"
      ],
      "metadata": {
        "id": "PYUYwnsaWbz9",
        "outputId": "2d1cce3b-3b9e-4ef1-924f-834a76ef483c",
        "colab": {
          "base_uri": "https://localhost:8080/",
          "height": 487
        }
      },
      "execution_count": 132,
      "outputs": [
        {
          "output_type": "execute_result",
          "data": {
            "text/plain": [
              "           col1      col2      col3      col4      col5      col6      col7  \\\n",
              "0      0.029156 -0.024218 -0.017510 -0.035155 -0.052871  0.046011 -0.046802   \n",
              "1     -0.016440 -0.082182  0.013313  0.025292 -0.106554  0.077971 -0.125183   \n",
              "2      0.087750 -0.057903  0.029725 -0.017967 -0.089731  0.084749 -0.110788   \n",
              "3     -0.011571  0.018158  0.005764 -0.045040 -0.081928  0.045268 -0.049469   \n",
              "4     -0.041419 -0.004813 -0.077663 -0.034556 -0.016599  0.032095  0.007273   \n",
              "...         ...       ...       ...       ...       ...       ...       ...   \n",
              "34759  0.024077 -0.033152 -0.033125 -0.008038 -0.085082  0.050658 -0.089061   \n",
              "34760 -0.027677 -0.010981 -0.025486 -0.013751 -0.068932  0.011744 -0.039703   \n",
              "34761  0.020111 -0.047991 -0.052675 -0.042370 -0.068555  0.073683 -0.062905   \n",
              "34762 -0.037683 -0.058526  0.089867  0.077162 -0.118206  0.034906 -0.091330   \n",
              "34763 -0.063000 -0.043171 -0.008786  0.000999 -0.064938  0.013539 -0.059384   \n",
              "\n",
              "           col8      col9     col10  ...    col292    col293    col294  \\\n",
              "0      0.043154  0.045635  0.005441  ...  0.077778 -0.027864  0.038819   \n",
              "1      0.108479 -0.021605 -0.064930  ...  0.134245 -0.064203  0.087970   \n",
              "2      0.115137  0.130123  0.046838  ...  0.099630 -0.086547  0.077648   \n",
              "3      0.001277  0.028841 -0.027959  ...  0.113641 -0.050351  0.059558   \n",
              "4     -0.000195 -0.044906 -0.012112  ...  0.055457  0.003020  0.032536   \n",
              "...         ...       ...       ...  ...       ...       ...       ...   \n",
              "34759  0.080646  0.083313 -0.003667  ...  0.095352 -0.055361  0.080905   \n",
              "34760 -0.020052 -0.030527 -0.033865  ...  0.087092 -0.032114  0.048601   \n",
              "34761  0.067666  0.070581 -0.058815  ...  0.117720 -0.033834  0.090747   \n",
              "34762 -0.000209 -0.025468 -0.060250  ...  0.139449 -0.086132  0.073703   \n",
              "34763  0.020784 -0.018208 -0.024293  ...  0.099703 -0.050511  0.061685   \n",
              "\n",
              "         col295    col296    col297    col298    col299    col300  sentiments  \n",
              "0     -0.012858  0.011859  0.021349 -0.029857  0.020316  0.022866           4  \n",
              "1     -0.006138  0.044443 -0.053988 -0.065374 -0.018302  0.011372           5  \n",
              "2      0.086982  0.006995 -0.068652 -0.006882 -0.045981  0.059325           2  \n",
              "3     -0.020079 -0.053418 -0.037260 -0.057583  0.041832  0.087278           5  \n",
              "4     -0.056975 -0.021895 -0.003186 -0.037611  0.018415 -0.005635           4  \n",
              "...         ...       ...       ...       ...       ...       ...         ...  \n",
              "34759  0.062968  0.007931 -0.045780 -0.038209 -0.027566  0.015280           2  \n",
              "34760 -0.039541 -0.039154 -0.066491 -0.055953  0.037185  0.004709           1  \n",
              "34761 -0.017901 -0.059695 -0.000574 -0.075848 -0.037781  0.007228           0  \n",
              "34762 -0.065451 -0.095626 -0.092206 -0.062984  0.022743  0.047995           3  \n",
              "34763  0.002986 -0.030831 -0.017071 -0.046373 -0.010540  0.005468           4  \n",
              "\n",
              "[34764 rows x 301 columns]"
            ],
            "text/html": [
              "\n",
              "  <div id=\"df-5e128cfe-40bb-4dec-a8a7-ed43704fb202\">\n",
              "    <div class=\"colab-df-container\">\n",
              "      <div>\n",
              "<style scoped>\n",
              "    .dataframe tbody tr th:only-of-type {\n",
              "        vertical-align: middle;\n",
              "    }\n",
              "\n",
              "    .dataframe tbody tr th {\n",
              "        vertical-align: top;\n",
              "    }\n",
              "\n",
              "    .dataframe thead th {\n",
              "        text-align: right;\n",
              "    }\n",
              "</style>\n",
              "<table border=\"1\" class=\"dataframe\">\n",
              "  <thead>\n",
              "    <tr style=\"text-align: right;\">\n",
              "      <th></th>\n",
              "      <th>col1</th>\n",
              "      <th>col2</th>\n",
              "      <th>col3</th>\n",
              "      <th>col4</th>\n",
              "      <th>col5</th>\n",
              "      <th>col6</th>\n",
              "      <th>col7</th>\n",
              "      <th>col8</th>\n",
              "      <th>col9</th>\n",
              "      <th>col10</th>\n",
              "      <th>...</th>\n",
              "      <th>col292</th>\n",
              "      <th>col293</th>\n",
              "      <th>col294</th>\n",
              "      <th>col295</th>\n",
              "      <th>col296</th>\n",
              "      <th>col297</th>\n",
              "      <th>col298</th>\n",
              "      <th>col299</th>\n",
              "      <th>col300</th>\n",
              "      <th>sentiments</th>\n",
              "    </tr>\n",
              "  </thead>\n",
              "  <tbody>\n",
              "    <tr>\n",
              "      <th>0</th>\n",
              "      <td>0.029156</td>\n",
              "      <td>-0.024218</td>\n",
              "      <td>-0.017510</td>\n",
              "      <td>-0.035155</td>\n",
              "      <td>-0.052871</td>\n",
              "      <td>0.046011</td>\n",
              "      <td>-0.046802</td>\n",
              "      <td>0.043154</td>\n",
              "      <td>0.045635</td>\n",
              "      <td>0.005441</td>\n",
              "      <td>...</td>\n",
              "      <td>0.077778</td>\n",
              "      <td>-0.027864</td>\n",
              "      <td>0.038819</td>\n",
              "      <td>-0.012858</td>\n",
              "      <td>0.011859</td>\n",
              "      <td>0.021349</td>\n",
              "      <td>-0.029857</td>\n",
              "      <td>0.020316</td>\n",
              "      <td>0.022866</td>\n",
              "      <td>4</td>\n",
              "    </tr>\n",
              "    <tr>\n",
              "      <th>1</th>\n",
              "      <td>-0.016440</td>\n",
              "      <td>-0.082182</td>\n",
              "      <td>0.013313</td>\n",
              "      <td>0.025292</td>\n",
              "      <td>-0.106554</td>\n",
              "      <td>0.077971</td>\n",
              "      <td>-0.125183</td>\n",
              "      <td>0.108479</td>\n",
              "      <td>-0.021605</td>\n",
              "      <td>-0.064930</td>\n",
              "      <td>...</td>\n",
              "      <td>0.134245</td>\n",
              "      <td>-0.064203</td>\n",
              "      <td>0.087970</td>\n",
              "      <td>-0.006138</td>\n",
              "      <td>0.044443</td>\n",
              "      <td>-0.053988</td>\n",
              "      <td>-0.065374</td>\n",
              "      <td>-0.018302</td>\n",
              "      <td>0.011372</td>\n",
              "      <td>5</td>\n",
              "    </tr>\n",
              "    <tr>\n",
              "      <th>2</th>\n",
              "      <td>0.087750</td>\n",
              "      <td>-0.057903</td>\n",
              "      <td>0.029725</td>\n",
              "      <td>-0.017967</td>\n",
              "      <td>-0.089731</td>\n",
              "      <td>0.084749</td>\n",
              "      <td>-0.110788</td>\n",
              "      <td>0.115137</td>\n",
              "      <td>0.130123</td>\n",
              "      <td>0.046838</td>\n",
              "      <td>...</td>\n",
              "      <td>0.099630</td>\n",
              "      <td>-0.086547</td>\n",
              "      <td>0.077648</td>\n",
              "      <td>0.086982</td>\n",
              "      <td>0.006995</td>\n",
              "      <td>-0.068652</td>\n",
              "      <td>-0.006882</td>\n",
              "      <td>-0.045981</td>\n",
              "      <td>0.059325</td>\n",
              "      <td>2</td>\n",
              "    </tr>\n",
              "    <tr>\n",
              "      <th>3</th>\n",
              "      <td>-0.011571</td>\n",
              "      <td>0.018158</td>\n",
              "      <td>0.005764</td>\n",
              "      <td>-0.045040</td>\n",
              "      <td>-0.081928</td>\n",
              "      <td>0.045268</td>\n",
              "      <td>-0.049469</td>\n",
              "      <td>0.001277</td>\n",
              "      <td>0.028841</td>\n",
              "      <td>-0.027959</td>\n",
              "      <td>...</td>\n",
              "      <td>0.113641</td>\n",
              "      <td>-0.050351</td>\n",
              "      <td>0.059558</td>\n",
              "      <td>-0.020079</td>\n",
              "      <td>-0.053418</td>\n",
              "      <td>-0.037260</td>\n",
              "      <td>-0.057583</td>\n",
              "      <td>0.041832</td>\n",
              "      <td>0.087278</td>\n",
              "      <td>5</td>\n",
              "    </tr>\n",
              "    <tr>\n",
              "      <th>4</th>\n",
              "      <td>-0.041419</td>\n",
              "      <td>-0.004813</td>\n",
              "      <td>-0.077663</td>\n",
              "      <td>-0.034556</td>\n",
              "      <td>-0.016599</td>\n",
              "      <td>0.032095</td>\n",
              "      <td>0.007273</td>\n",
              "      <td>-0.000195</td>\n",
              "      <td>-0.044906</td>\n",
              "      <td>-0.012112</td>\n",
              "      <td>...</td>\n",
              "      <td>0.055457</td>\n",
              "      <td>0.003020</td>\n",
              "      <td>0.032536</td>\n",
              "      <td>-0.056975</td>\n",
              "      <td>-0.021895</td>\n",
              "      <td>-0.003186</td>\n",
              "      <td>-0.037611</td>\n",
              "      <td>0.018415</td>\n",
              "      <td>-0.005635</td>\n",
              "      <td>4</td>\n",
              "    </tr>\n",
              "    <tr>\n",
              "      <th>...</th>\n",
              "      <td>...</td>\n",
              "      <td>...</td>\n",
              "      <td>...</td>\n",
              "      <td>...</td>\n",
              "      <td>...</td>\n",
              "      <td>...</td>\n",
              "      <td>...</td>\n",
              "      <td>...</td>\n",
              "      <td>...</td>\n",
              "      <td>...</td>\n",
              "      <td>...</td>\n",
              "      <td>...</td>\n",
              "      <td>...</td>\n",
              "      <td>...</td>\n",
              "      <td>...</td>\n",
              "      <td>...</td>\n",
              "      <td>...</td>\n",
              "      <td>...</td>\n",
              "      <td>...</td>\n",
              "      <td>...</td>\n",
              "      <td>...</td>\n",
              "    </tr>\n",
              "    <tr>\n",
              "      <th>34759</th>\n",
              "      <td>0.024077</td>\n",
              "      <td>-0.033152</td>\n",
              "      <td>-0.033125</td>\n",
              "      <td>-0.008038</td>\n",
              "      <td>-0.085082</td>\n",
              "      <td>0.050658</td>\n",
              "      <td>-0.089061</td>\n",
              "      <td>0.080646</td>\n",
              "      <td>0.083313</td>\n",
              "      <td>-0.003667</td>\n",
              "      <td>...</td>\n",
              "      <td>0.095352</td>\n",
              "      <td>-0.055361</td>\n",
              "      <td>0.080905</td>\n",
              "      <td>0.062968</td>\n",
              "      <td>0.007931</td>\n",
              "      <td>-0.045780</td>\n",
              "      <td>-0.038209</td>\n",
              "      <td>-0.027566</td>\n",
              "      <td>0.015280</td>\n",
              "      <td>2</td>\n",
              "    </tr>\n",
              "    <tr>\n",
              "      <th>34760</th>\n",
              "      <td>-0.027677</td>\n",
              "      <td>-0.010981</td>\n",
              "      <td>-0.025486</td>\n",
              "      <td>-0.013751</td>\n",
              "      <td>-0.068932</td>\n",
              "      <td>0.011744</td>\n",
              "      <td>-0.039703</td>\n",
              "      <td>-0.020052</td>\n",
              "      <td>-0.030527</td>\n",
              "      <td>-0.033865</td>\n",
              "      <td>...</td>\n",
              "      <td>0.087092</td>\n",
              "      <td>-0.032114</td>\n",
              "      <td>0.048601</td>\n",
              "      <td>-0.039541</td>\n",
              "      <td>-0.039154</td>\n",
              "      <td>-0.066491</td>\n",
              "      <td>-0.055953</td>\n",
              "      <td>0.037185</td>\n",
              "      <td>0.004709</td>\n",
              "      <td>1</td>\n",
              "    </tr>\n",
              "    <tr>\n",
              "      <th>34761</th>\n",
              "      <td>0.020111</td>\n",
              "      <td>-0.047991</td>\n",
              "      <td>-0.052675</td>\n",
              "      <td>-0.042370</td>\n",
              "      <td>-0.068555</td>\n",
              "      <td>0.073683</td>\n",
              "      <td>-0.062905</td>\n",
              "      <td>0.067666</td>\n",
              "      <td>0.070581</td>\n",
              "      <td>-0.058815</td>\n",
              "      <td>...</td>\n",
              "      <td>0.117720</td>\n",
              "      <td>-0.033834</td>\n",
              "      <td>0.090747</td>\n",
              "      <td>-0.017901</td>\n",
              "      <td>-0.059695</td>\n",
              "      <td>-0.000574</td>\n",
              "      <td>-0.075848</td>\n",
              "      <td>-0.037781</td>\n",
              "      <td>0.007228</td>\n",
              "      <td>0</td>\n",
              "    </tr>\n",
              "    <tr>\n",
              "      <th>34762</th>\n",
              "      <td>-0.037683</td>\n",
              "      <td>-0.058526</td>\n",
              "      <td>0.089867</td>\n",
              "      <td>0.077162</td>\n",
              "      <td>-0.118206</td>\n",
              "      <td>0.034906</td>\n",
              "      <td>-0.091330</td>\n",
              "      <td>-0.000209</td>\n",
              "      <td>-0.025468</td>\n",
              "      <td>-0.060250</td>\n",
              "      <td>...</td>\n",
              "      <td>0.139449</td>\n",
              "      <td>-0.086132</td>\n",
              "      <td>0.073703</td>\n",
              "      <td>-0.065451</td>\n",
              "      <td>-0.095626</td>\n",
              "      <td>-0.092206</td>\n",
              "      <td>-0.062984</td>\n",
              "      <td>0.022743</td>\n",
              "      <td>0.047995</td>\n",
              "      <td>3</td>\n",
              "    </tr>\n",
              "    <tr>\n",
              "      <th>34763</th>\n",
              "      <td>-0.063000</td>\n",
              "      <td>-0.043171</td>\n",
              "      <td>-0.008786</td>\n",
              "      <td>0.000999</td>\n",
              "      <td>-0.064938</td>\n",
              "      <td>0.013539</td>\n",
              "      <td>-0.059384</td>\n",
              "      <td>0.020784</td>\n",
              "      <td>-0.018208</td>\n",
              "      <td>-0.024293</td>\n",
              "      <td>...</td>\n",
              "      <td>0.099703</td>\n",
              "      <td>-0.050511</td>\n",
              "      <td>0.061685</td>\n",
              "      <td>0.002986</td>\n",
              "      <td>-0.030831</td>\n",
              "      <td>-0.017071</td>\n",
              "      <td>-0.046373</td>\n",
              "      <td>-0.010540</td>\n",
              "      <td>0.005468</td>\n",
              "      <td>4</td>\n",
              "    </tr>\n",
              "  </tbody>\n",
              "</table>\n",
              "<p>34764 rows × 301 columns</p>\n",
              "</div>\n",
              "      <button class=\"colab-df-convert\" onclick=\"convertToInteractive('df-5e128cfe-40bb-4dec-a8a7-ed43704fb202')\"\n",
              "              title=\"Convert this dataframe to an interactive table.\"\n",
              "              style=\"display:none;\">\n",
              "        \n",
              "  <svg xmlns=\"http://www.w3.org/2000/svg\" height=\"24px\"viewBox=\"0 0 24 24\"\n",
              "       width=\"24px\">\n",
              "    <path d=\"M0 0h24v24H0V0z\" fill=\"none\"/>\n",
              "    <path d=\"M18.56 5.44l.94 2.06.94-2.06 2.06-.94-2.06-.94-.94-2.06-.94 2.06-2.06.94zm-11 1L8.5 8.5l.94-2.06 2.06-.94-2.06-.94L8.5 2.5l-.94 2.06-2.06.94zm10 10l.94 2.06.94-2.06 2.06-.94-2.06-.94-.94-2.06-.94 2.06-2.06.94z\"/><path d=\"M17.41 7.96l-1.37-1.37c-.4-.4-.92-.59-1.43-.59-.52 0-1.04.2-1.43.59L10.3 9.45l-7.72 7.72c-.78.78-.78 2.05 0 2.83L4 21.41c.39.39.9.59 1.41.59.51 0 1.02-.2 1.41-.59l7.78-7.78 2.81-2.81c.8-.78.8-2.07 0-2.86zM5.41 20L4 18.59l7.72-7.72 1.47 1.35L5.41 20z\"/>\n",
              "  </svg>\n",
              "      </button>\n",
              "      \n",
              "  <style>\n",
              "    .colab-df-container {\n",
              "      display:flex;\n",
              "      flex-wrap:wrap;\n",
              "      gap: 12px;\n",
              "    }\n",
              "\n",
              "    .colab-df-convert {\n",
              "      background-color: #E8F0FE;\n",
              "      border: none;\n",
              "      border-radius: 50%;\n",
              "      cursor: pointer;\n",
              "      display: none;\n",
              "      fill: #1967D2;\n",
              "      height: 32px;\n",
              "      padding: 0 0 0 0;\n",
              "      width: 32px;\n",
              "    }\n",
              "\n",
              "    .colab-df-convert:hover {\n",
              "      background-color: #E2EBFA;\n",
              "      box-shadow: 0px 1px 2px rgba(60, 64, 67, 0.3), 0px 1px 3px 1px rgba(60, 64, 67, 0.15);\n",
              "      fill: #174EA6;\n",
              "    }\n",
              "\n",
              "    [theme=dark] .colab-df-convert {\n",
              "      background-color: #3B4455;\n",
              "      fill: #D2E3FC;\n",
              "    }\n",
              "\n",
              "    [theme=dark] .colab-df-convert:hover {\n",
              "      background-color: #434B5C;\n",
              "      box-shadow: 0px 1px 3px 1px rgba(0, 0, 0, 0.15);\n",
              "      filter: drop-shadow(0px 1px 2px rgba(0, 0, 0, 0.3));\n",
              "      fill: #FFFFFF;\n",
              "    }\n",
              "  </style>\n",
              "\n",
              "      <script>\n",
              "        const buttonEl =\n",
              "          document.querySelector('#df-5e128cfe-40bb-4dec-a8a7-ed43704fb202 button.colab-df-convert');\n",
              "        buttonEl.style.display =\n",
              "          google.colab.kernel.accessAllowed ? 'block' : 'none';\n",
              "\n",
              "        async function convertToInteractive(key) {\n",
              "          const element = document.querySelector('#df-5e128cfe-40bb-4dec-a8a7-ed43704fb202');\n",
              "          const dataTable =\n",
              "            await google.colab.kernel.invokeFunction('convertToInteractive',\n",
              "                                                     [key], {});\n",
              "          if (!dataTable) return;\n",
              "\n",
              "          const docLinkHtml = 'Like what you see? Visit the ' +\n",
              "            '<a target=\"_blank\" href=https://colab.research.google.com/notebooks/data_table.ipynb>data table notebook</a>'\n",
              "            + ' to learn more about interactive tables.';\n",
              "          element.innerHTML = '';\n",
              "          dataTable['output_type'] = 'display_data';\n",
              "          await google.colab.output.renderOutput(dataTable, element);\n",
              "          const docLink = document.createElement('div');\n",
              "          docLink.innerHTML = docLinkHtml;\n",
              "          element.appendChild(docLink);\n",
              "        }\n",
              "      </script>\n",
              "    </div>\n",
              "  </div>\n",
              "  "
            ]
          },
          "metadata": {},
          "execution_count": 132
        }
      ]
    },
    {
      "cell_type": "markdown",
      "source": [
        "# Baseline technique - Naive Bayes"
      ],
      "metadata": {
        "id": "mMOo_42f78PK"
      }
    },
    {
      "cell_type": "markdown",
      "source": [
        "## Training Multinomial Naive Bayes using Bag of words and Tf-idf Embedding"
      ],
      "metadata": {
        "id": "cLG86h5arDuA"
      }
    },
    {
      "cell_type": "markdown",
      "source": [
        "Importing multinomial naive bayes"
      ],
      "metadata": {
        "id": "WB0YkX3y8R_b"
      }
    },
    {
      "cell_type": "code",
      "source": [
        "from sklearn.naive_bayes import MultinomialNB,GaussianNB"
      ],
      "metadata": {
        "id": "HbG47j9K8syz"
      },
      "execution_count": 133,
      "outputs": []
    },
    {
      "cell_type": "markdown",
      "source": [
        "Importing evaluation metrics"
      ],
      "metadata": {
        "id": "nYAbIyWZEvVt"
      }
    },
    {
      "cell_type": "code",
      "source": [
        "from sklearn.metrics import classification_report,accuracy_score\n"
      ],
      "metadata": {
        "id": "sIe8QBYNBfhq"
      },
      "execution_count": 134,
      "outputs": []
    },
    {
      "cell_type": "markdown",
      "source": [
        "k fold cross validation (k=5)"
      ],
      "metadata": {
        "id": "SzFNNQ6vBFPs"
      }
    },
    {
      "cell_type": "code",
      "source": [
        "from sklearn.model_selection import KFold"
      ],
      "metadata": {
        "id": "xeZ4EssuUz5M"
      },
      "execution_count": 135,
      "outputs": []
    },
    {
      "cell_type": "markdown",
      "source": [
        "For bag of words\n"
      ],
      "metadata": {
        "id": "R4dJcHgoV9yT"
      }
    },
    {
      "cell_type": "code",
      "source": [
        "y_train = np.array(y_train)\n",
        "model = 1\n",
        "accuracy_val = 0\n",
        "accuracy_train = 0\n",
        "kf = KFold(n_splits = 5)\n",
        "for train_index, val_index in kf.split(bow_cv1):\n",
        "  X_KFold_train, X_KFold_val = bow_cv1[train_index], bow_cv1[val_index]\n",
        "  Y_KFold_train, Y_KFold_val = y_train[train_index], y_train[val_index]\n",
        "  mnb = MultinomialNB()\n",
        "  mnb.fit(X_KFold_train, Y_KFold_train)\n",
        "  Y_pred = mnb.predict(X_KFold_val)\n",
        "  YY_pred = mnb.predict(X_KFold_train)\n",
        "  print(\"Classification report for K-Fold model \"+str(model))\n",
        "  print(\"For validation set -\")\n",
        "  print(classification_report(Y_KFold_val, Y_pred))\n",
        "  print(\"For training set -\")\n",
        "  accuracy_val += accuracy_score(Y_KFold_val, Y_pred)\n",
        "  print(classification_report(Y_KFold_train, YY_pred))\n",
        "  accuracy_train += accuracy_score(Y_KFold_train, YY_pred)\n",
        "  model += 1"
      ],
      "metadata": {
        "colab": {
          "base_uri": "https://localhost:8080/"
        },
        "id": "hGqiJAiBU5Q0",
        "outputId": "a5533013-34d1-4d61-d22c-4da01feefe51"
      },
      "execution_count": 136,
      "outputs": [
        {
          "output_type": "stream",
          "name": "stdout",
          "text": [
            "Classification report for K-Fold model 1\n",
            "For validation set -\n",
            "              precision    recall  f1-score   support\n",
            "\n",
            "           0       0.79      0.96      0.87      1016\n",
            "           1       0.73      0.99      0.84       981\n",
            "           2       0.79      0.96      0.86       902\n",
            "           3       0.80      0.82      0.81       970\n",
            "           4       0.69      0.41      0.51       964\n",
            "           5       0.59      0.27      0.37       730\n",
            "\n",
            "    accuracy                           0.76      5563\n",
            "   macro avg       0.73      0.74      0.71      5563\n",
            "weighted avg       0.74      0.76      0.73      5563\n",
            "\n",
            "For training set -\n",
            "              precision    recall  f1-score   support\n",
            "\n",
            "           0       0.85      0.99      0.91      3994\n",
            "           1       0.76      0.99      0.86      3939\n",
            "           2       0.85      0.98      0.91      3942\n",
            "           3       0.86      0.87      0.87      3774\n",
            "           4       0.84      0.57      0.68      3770\n",
            "           5       0.85      0.47      0.61      2829\n",
            "\n",
            "    accuracy                           0.83     22248\n",
            "   macro avg       0.84      0.81      0.81     22248\n",
            "weighted avg       0.84      0.83      0.82     22248\n",
            "\n",
            "Classification report for K-Fold model 2\n",
            "For validation set -\n",
            "              precision    recall  f1-score   support\n",
            "\n",
            "           0       0.81      0.97      0.89       986\n",
            "           1       0.70      0.99      0.82       952\n",
            "           2       0.82      0.95      0.88      1015\n",
            "           3       0.83      0.84      0.83       967\n",
            "           4       0.66      0.40      0.50       905\n",
            "           5       0.57      0.25      0.35       737\n",
            "\n",
            "    accuracy                           0.76      5562\n",
            "   macro avg       0.73      0.73      0.71      5562\n",
            "weighted avg       0.74      0.76      0.73      5562\n",
            "\n",
            "For training set -\n",
            "              precision    recall  f1-score   support\n",
            "\n",
            "           0       0.85      0.99      0.91      4024\n",
            "           1       0.76      0.99      0.86      3968\n",
            "           2       0.86      0.98      0.92      3829\n",
            "           3       0.87      0.87      0.87      3777\n",
            "           4       0.84      0.58      0.69      3829\n",
            "           5       0.87      0.48      0.62      2822\n",
            "\n",
            "    accuracy                           0.83     22249\n",
            "   macro avg       0.84      0.82      0.81     22249\n",
            "weighted avg       0.84      0.83      0.82     22249\n",
            "\n",
            "Classification report for K-Fold model 3\n",
            "For validation set -\n",
            "              precision    recall  f1-score   support\n",
            "\n",
            "           0       0.83      0.96      0.89      1029\n",
            "           1       0.69      0.99      0.81       970\n",
            "           2       0.80      0.95      0.87       953\n",
            "           3       0.81      0.81      0.81       945\n",
            "           4       0.72      0.43      0.54       947\n",
            "           5       0.64      0.28      0.39       718\n",
            "\n",
            "    accuracy                           0.76      5562\n",
            "   macro avg       0.75      0.74      0.72      5562\n",
            "weighted avg       0.75      0.76      0.73      5562\n",
            "\n",
            "For training set -\n",
            "              precision    recall  f1-score   support\n",
            "\n",
            "           0       0.84      0.99      0.91      3981\n",
            "           1       0.77      0.99      0.87      3950\n",
            "           2       0.85      0.98      0.91      3891\n",
            "           3       0.87      0.87      0.87      3799\n",
            "           4       0.84      0.58      0.69      3787\n",
            "           5       0.85      0.48      0.62      2841\n",
            "\n",
            "    accuracy                           0.83     22249\n",
            "   macro avg       0.84      0.82      0.81     22249\n",
            "weighted avg       0.84      0.83      0.82     22249\n",
            "\n",
            "Classification report for K-Fold model 4\n",
            "For validation set -\n",
            "              precision    recall  f1-score   support\n",
            "\n",
            "           0       0.79      0.98      0.88       986\n",
            "           1       0.73      0.99      0.84      1041\n",
            "           2       0.81      0.95      0.88       969\n",
            "           3       0.80      0.82      0.81       905\n",
            "           4       0.71      0.40      0.51       971\n",
            "           5       0.55      0.27      0.36       690\n",
            "\n",
            "    accuracy                           0.76      5562\n",
            "   macro avg       0.73      0.73      0.71      5562\n",
            "weighted avg       0.74      0.76      0.73      5562\n",
            "\n",
            "For training set -\n",
            "              precision    recall  f1-score   support\n",
            "\n",
            "           0       0.85      0.99      0.91      4024\n",
            "           1       0.77      1.00      0.87      3879\n",
            "           2       0.86      0.98      0.91      3875\n",
            "           3       0.87      0.87      0.87      3839\n",
            "           4       0.84      0.58      0.68      3763\n",
            "           5       0.86      0.49      0.62      2869\n",
            "\n",
            "    accuracy                           0.83     22249\n",
            "   macro avg       0.84      0.82      0.81     22249\n",
            "weighted avg       0.84      0.83      0.82     22249\n",
            "\n",
            "Classification report for K-Fold model 5\n",
            "For validation set -\n",
            "              precision    recall  f1-score   support\n",
            "\n",
            "           0       0.80      0.99      0.88       993\n",
            "           1       0.71      0.99      0.83       976\n",
            "           2       0.83      0.94      0.88      1005\n",
            "           3       0.83      0.81      0.82       957\n",
            "           4       0.68      0.42      0.52       947\n",
            "           5       0.62      0.29      0.40       684\n",
            "\n",
            "    accuracy                           0.77      5562\n",
            "   macro avg       0.74      0.74      0.72      5562\n",
            "weighted avg       0.75      0.77      0.74      5562\n",
            "\n",
            "For training set -\n",
            "              precision    recall  f1-score   support\n",
            "\n",
            "           0       0.84      0.98      0.91      4017\n",
            "           1       0.77      0.99      0.87      3944\n",
            "           2       0.85      0.98      0.91      3839\n",
            "           3       0.87      0.87      0.87      3787\n",
            "           4       0.84      0.58      0.68      3787\n",
            "           5       0.85      0.49      0.62      2875\n",
            "\n",
            "    accuracy                           0.83     22249\n",
            "   macro avg       0.84      0.82      0.81     22249\n",
            "weighted avg       0.84      0.83      0.82     22249\n",
            "\n"
          ]
        }
      ]
    },
    {
      "cell_type": "code",
      "source": [
        "avg_accuracy1 = accuracy_val/5\n",
        "print(\"Average accuracy obtained on vaidation set= \"+str(avg_accuracy1))\n",
        "avg_accuracy2 = accuracy_train/5\n",
        "print(\"Average accuracy obtained on training set= \"+str(avg_accuracy2))"
      ],
      "metadata": {
        "colab": {
          "base_uri": "https://localhost:8080/"
        },
        "id": "xvSguBRUbZwW",
        "outputId": "9854489b-d661-4193-ef82-4c14a42d02d9"
      },
      "execution_count": 137,
      "outputs": [
        {
          "output_type": "stream",
          "name": "stdout",
          "text": [
            "Average accuracy obtained on vaidation set= 0.7608502018298716\n",
            "Average accuracy obtained on training set= 0.8332763793092106\n"
          ]
        }
      ]
    },
    {
      "cell_type": "markdown",
      "source": [
        "We can see that, on training set we are getting 89% accuracy and on validation set we are getting 84% accuracy for Bag of words"
      ],
      "metadata": {
        "id": "5gud_zShb7Kq"
      }
    },
    {
      "cell_type": "markdown",
      "source": [
        "For Tf-idf"
      ],
      "metadata": {
        "id": "sMqXxU6OcasB"
      }
    },
    {
      "cell_type": "code",
      "source": [
        "y_train = np.array(y_train)\n",
        "model = 1\n",
        "accuracy_val = 0\n",
        "accuracy_train = 0\n",
        "kf = KFold(n_splits = 5)\n",
        "for train_index, val_index in kf.split(tf_cv1):\n",
        "  X_KFold_train, X_KFold_val = tf_cv1[train_index], tf_cv1[val_index]\n",
        "  Y_KFold_train, Y_KFold_val = y_train[train_index], y_train[val_index]\n",
        "  mnb = MultinomialNB()\n",
        "  mnb.fit(X_KFold_train, Y_KFold_train)\n",
        "  Y_pred = mnb.predict(X_KFold_val)\n",
        "  YY_pred = mnb.predict(X_KFold_train)\n",
        "  print(\"Classification report for K-Fold model \"+str(model))\n",
        "  print(\"For validation set -\")\n",
        "  print(classification_report(Y_KFold_val, Y_pred))\n",
        "  print(\"For training set -\")\n",
        "  accuracy_val += accuracy_score(Y_KFold_val, Y_pred)\n",
        "  print(classification_report(Y_KFold_train, YY_pred))\n",
        "  accuracy_train += accuracy_score(Y_KFold_train, YY_pred)\n",
        "  model += 1"
      ],
      "metadata": {
        "colab": {
          "base_uri": "https://localhost:8080/"
        },
        "id": "_WL24WIycVDp",
        "outputId": "c59aa7e2-5648-4245-d2b9-4d11eb92cc66"
      },
      "execution_count": 138,
      "outputs": [
        {
          "output_type": "stream",
          "name": "stdout",
          "text": [
            "Classification report for K-Fold model 1\n",
            "For validation set -\n",
            "              precision    recall  f1-score   support\n",
            "\n",
            "           0       0.75      0.97      0.84      1016\n",
            "           1       0.68      0.98      0.81       981\n",
            "           2       0.76      0.94      0.84       902\n",
            "           3       0.79      0.82      0.80       970\n",
            "           4       0.68      0.41      0.51       964\n",
            "           5       0.65      0.12      0.20       730\n",
            "\n",
            "    accuracy                           0.73      5563\n",
            "   macro avg       0.72      0.71      0.67      5563\n",
            "weighted avg       0.72      0.73      0.69      5563\n",
            "\n",
            "For training set -\n",
            "              precision    recall  f1-score   support\n",
            "\n",
            "           0       0.82      0.99      0.90      3994\n",
            "           1       0.72      0.99      0.84      3939\n",
            "           2       0.84      0.97      0.90      3942\n",
            "           3       0.86      0.89      0.87      3774\n",
            "           4       0.84      0.58      0.69      3770\n",
            "           5       0.93      0.33      0.49      2829\n",
            "\n",
            "    accuracy                           0.81     22248\n",
            "   macro avg       0.84      0.79      0.78     22248\n",
            "weighted avg       0.83      0.81      0.79     22248\n",
            "\n",
            "Classification report for K-Fold model 2\n",
            "For validation set -\n",
            "              precision    recall  f1-score   support\n",
            "\n",
            "           0       0.77      0.97      0.86       986\n",
            "           1       0.64      0.99      0.78       952\n",
            "           2       0.81      0.92      0.86      1015\n",
            "           3       0.81      0.84      0.83       967\n",
            "           4       0.66      0.40      0.50       905\n",
            "           5       0.68      0.12      0.20       737\n",
            "\n",
            "    accuracy                           0.74      5562\n",
            "   macro avg       0.73      0.71      0.67      5562\n",
            "weighted avg       0.73      0.74      0.69      5562\n",
            "\n",
            "For training set -\n",
            "              precision    recall  f1-score   support\n",
            "\n",
            "           0       0.82      0.99      0.89      4024\n",
            "           1       0.73      0.99      0.84      3968\n",
            "           2       0.85      0.96      0.90      3829\n",
            "           3       0.86      0.89      0.88      3777\n",
            "           4       0.84      0.60      0.70      3829\n",
            "           5       0.93      0.33      0.49      2822\n",
            "\n",
            "    accuracy                           0.82     22249\n",
            "   macro avg       0.84      0.79      0.78     22249\n",
            "weighted avg       0.83      0.82      0.80     22249\n",
            "\n",
            "Classification report for K-Fold model 3\n",
            "For validation set -\n",
            "              precision    recall  f1-score   support\n",
            "\n",
            "           0       0.78      0.96      0.86      1029\n",
            "           1       0.64      0.98      0.78       970\n",
            "           2       0.77      0.92      0.84       953\n",
            "           3       0.78      0.81      0.80       945\n",
            "           4       0.72      0.42      0.53       947\n",
            "           5       0.68      0.13      0.21       718\n",
            "\n",
            "    accuracy                           0.73      5562\n",
            "   macro avg       0.73      0.70      0.67      5562\n",
            "weighted avg       0.73      0.73      0.69      5562\n",
            "\n",
            "For training set -\n",
            "              precision    recall  f1-score   support\n",
            "\n",
            "           0       0.81      0.99      0.89      3981\n",
            "           1       0.73      0.99      0.84      3950\n",
            "           2       0.84      0.96      0.90      3891\n",
            "           3       0.86      0.89      0.88      3799\n",
            "           4       0.84      0.60      0.70      3787\n",
            "           5       0.93      0.33      0.49      2841\n",
            "\n",
            "    accuracy                           0.82     22249\n",
            "   macro avg       0.84      0.79      0.78     22249\n",
            "weighted avg       0.83      0.82      0.80     22249\n",
            "\n",
            "Classification report for K-Fold model 4\n",
            "For validation set -\n",
            "              precision    recall  f1-score   support\n",
            "\n",
            "           0       0.75      0.98      0.85       986\n",
            "           1       0.68      0.98      0.80      1041\n",
            "           2       0.80      0.92      0.86       969\n",
            "           3       0.78      0.83      0.80       905\n",
            "           4       0.71      0.41      0.52       971\n",
            "           5       0.59      0.13      0.21       690\n",
            "\n",
            "    accuracy                           0.74      5562\n",
            "   macro avg       0.72      0.71      0.67      5562\n",
            "weighted avg       0.72      0.74      0.70      5562\n",
            "\n",
            "For training set -\n",
            "              precision    recall  f1-score   support\n",
            "\n",
            "           0       0.82      0.99      0.89      4024\n",
            "           1       0.73      0.99      0.84      3879\n",
            "           2       0.84      0.96      0.90      3875\n",
            "           3       0.85      0.90      0.87      3839\n",
            "           4       0.84      0.59      0.69      3763\n",
            "           5       0.92      0.35      0.50      2869\n",
            "\n",
            "    accuracy                           0.82     22249\n",
            "   macro avg       0.84      0.80      0.78     22249\n",
            "weighted avg       0.83      0.82      0.80     22249\n",
            "\n",
            "Classification report for K-Fold model 5\n",
            "For validation set -\n",
            "              precision    recall  f1-score   support\n",
            "\n",
            "           0       0.76      0.98      0.86       993\n",
            "           1       0.65      0.98      0.78       976\n",
            "           2       0.81      0.91      0.86      1005\n",
            "           3       0.82      0.82      0.82       957\n",
            "           4       0.67      0.42      0.52       947\n",
            "           5       0.68      0.14      0.23       684\n",
            "\n",
            "    accuracy                           0.74      5562\n",
            "   macro avg       0.73      0.71      0.68      5562\n",
            "weighted avg       0.74      0.74      0.70      5562\n",
            "\n",
            "For training set -\n",
            "              precision    recall  f1-score   support\n",
            "\n",
            "           0       0.81      0.99      0.89      4017\n",
            "           1       0.73      0.99      0.84      3944\n",
            "           2       0.84      0.96      0.90      3839\n",
            "           3       0.86      0.89      0.87      3787\n",
            "           4       0.84      0.59      0.69      3787\n",
            "           5       0.93      0.34      0.50      2875\n",
            "\n",
            "    accuracy                           0.81     22249\n",
            "   macro avg       0.83      0.79      0.78     22249\n",
            "weighted avg       0.83      0.81      0.80     22249\n",
            "\n"
          ]
        }
      ]
    },
    {
      "cell_type": "code",
      "source": [
        "avg_accuracy1 = accuracy_val/5\n",
        "print(\"Average accuracy obtained on vaidation set= \"+str(avg_accuracy1))\n",
        "avg_accuracy2 = accuracy_train/5\n",
        "print(\"Average accuracy obtained on training set= \"+str(avg_accuracy2))"
      ],
      "metadata": {
        "colab": {
          "base_uri": "https://localhost:8080/"
        },
        "id": "n922ANBWcprF",
        "outputId": "40c28004-fe14-4c14-80e5-eae55697e0e2"
      },
      "execution_count": 139,
      "outputs": [
        {
          "output_type": "stream",
          "name": "stdout",
          "text": [
            "Average accuracy obtained on vaidation set= 0.7365432779622232\n",
            "Average accuracy obtained on training set= 0.8164215465832927\n"
          ]
        }
      ]
    },
    {
      "cell_type": "markdown",
      "source": [
        " Transforming set testing for different word embeddings\n"
      ],
      "metadata": {
        "id": "Z8d8_u0t87Zo"
      }
    },
    {
      "cell_type": "code",
      "source": [
        "# For Bag of words \n",
        "bow_cv1_test = bow1.transform(X_stem_test)\n",
        "bow_cv2_test = bow2.transform(X_lemma_test)\n",
        "bow_cv3_test = bow3.transform(X_lemmaStem_test)\n",
        "\n",
        "# For Tf-idf\n",
        "tf_cv1_test = tfid1.transform(bow_cv1_test);\n",
        "tf_cv2_test = tfid2.transform(bow_cv2_test);\n",
        "tf_cv3_test = tfid3.transform(bow_cv3_test);\n",
        "\n",
        "print(bow_cv1_test.shape,bow_cv2_test.shape,bow_cv3_test.shape);\n",
        "print(tf_cv1_test.shape,tf_cv2_test.shape,tf_cv3_test.shape);"
      ],
      "metadata": {
        "colab": {
          "base_uri": "https://localhost:8080/"
        },
        "id": "71KWnskP9QL1",
        "outputId": "550c519e-005c-4a6b-e3f6-fe7f4af08c50"
      },
      "execution_count": 140,
      "outputs": [
        {
          "output_type": "stream",
          "name": "stdout",
          "text": [
            "(6953, 26673) (6953, 31913) (6953, 26528)\n",
            "(6953, 26673) (6953, 31913) (6953, 26528)\n"
          ]
        }
      ]
    },
    {
      "cell_type": "code",
      "source": [
        "from sklearn.model_selection import learning_curve\n",
        "\n",
        "sizes, training_scores, testing_scores = learning_curve(MultinomialNB(), bow_cv1, y_train, cv=10, scoring='accuracy', train_sizes=np.linspace(100, 25000, 250, dtype=int))\n",
        "  \n",
        "# Mean and Standard Deviation of training scores\n",
        "mean_training = np.mean(training_scores, axis=1)\n",
        "Standard_Deviation_training = np.std(training_scores, axis=1)\n",
        "  \n",
        "# Mean and Standard Deviation of testing scores\n",
        "mean_testing = np.mean(testing_scores, axis=1)\n",
        "Standard_Deviation_testing = np.std(testing_scores, axis=1)\n",
        "  \n",
        "# Dotted blue line is for training scores and green line is for cross-validation score\n",
        "plt.plot(sizes, mean_training, '--', color=\"b\",  label=\"Training score\")\n",
        "plt.plot(sizes, mean_testing, color=\"g\", label=\"Cross-validation score\")\n",
        "  \n",
        "# Drawing plot\n",
        "plt.title(\"Learning Curve for MultinomialNB with bag of words embeddings\")\n",
        "plt.xlabel(\"Training Set Size\"), plt.ylabel(\"Accuracy Score\"), plt.legend(loc=\"best\")\n",
        "plt.tight_layout()\n",
        "plt.show()"
      ],
      "metadata": {
        "id": "ywDeNuz2u0Bv",
        "outputId": "169272a6-bcc1-48f4-df95-ca6b06c1a35d",
        "colab": {
          "base_uri": "https://localhost:8080/",
          "height": 297
        }
      },
      "execution_count": 141,
      "outputs": [
        {
          "output_type": "display_data",
          "data": {
            "text/plain": [
              "<Figure size 432x288 with 1 Axes>"
            ],
            "image/png": "[encoded data removed]"
          },
          "metadata": {
            "needs_background": "light"
          }
        }
      ]
    },
    {
      "cell_type": "code",
      "source": [
        "sizes, training_scores, testing_scores = learning_curve(MultinomialNB(), tf_cv1, y_train, cv=10, scoring='accuracy', train_sizes=np.linspace(100, 25000, 250, dtype=int))\n",
        "  \n",
        "# Mean and Standard Deviation of training scores\n",
        "mean_training = np.mean(training_scores, axis=1)\n",
        "Standard_Deviation_training = np.std(training_scores, axis=1)\n",
        "  \n",
        "# Mean and Standard Deviation of testing scores\n",
        "mean_testing = np.mean(testing_scores, axis=1)\n",
        "Standard_Deviation_testing = np.std(testing_scores, axis=1)\n",
        "  \n",
        "# Dotted blue line is for training scores and green line is for cross-validation score\n",
        "plt.plot(sizes, mean_training, '--', color=\"b\",  label=\"Training score\")\n",
        "plt.plot(sizes, mean_testing, color=\"g\", label=\"Cross-validation score\")\n",
        "  \n",
        "# Drawing plot\n",
        "plt.title(\"Learning Curve for MultinomialNB with TF_IDF embeddings\")\n",
        "plt.xlabel(\"Training Set Size\"), plt.ylabel(\"Accuracy Score\"), plt.legend(loc=\"best\")\n",
        "plt.tight_layout()\n",
        "plt.show()"
      ],
      "metadata": {
        "id": "kfp1M84yv_S-",
        "outputId": "a89c4d7c-bf0d-487c-cf27-18c19b15696a",
        "colab": {
          "base_uri": "https://localhost:8080/",
          "height": 297
        }
      },
      "execution_count": 142,
      "outputs": [
        {
          "output_type": "display_data",
          "data": {
            "text/plain": [
              "<Figure size 432x288 with 1 Axes>"
            ],
            "image/png": "[encoded data removed]"
          },
          "metadata": {
            "needs_background": "light"
          }
        }
      ]
    },
    {
      "cell_type": "markdown",
      "source": [
        "Creating models"
      ],
      "metadata": {
        "id": "9TmKjke3Acts"
      }
    },
    {
      "cell_type": "code",
      "source": [
        "# For bag of words - \n",
        "nb_bow_stem = MultinomialNB();\n",
        "nb_bow_lemma = MultinomialNB();\n",
        "nb_bow_lemmaStem = MultinomialNB();\n",
        "\n",
        "# for tf-idf - \n",
        "nb_tf_stem = MultinomialNB();\n",
        "nb_tf_lemma = MultinomialNB();\n",
        "nb_tf_lemmaStem = MultinomialNB();"
      ],
      "metadata": {
        "id": "9RnwDAEfAfKm"
      },
      "execution_count": 143,
      "outputs": []
    },
    {
      "cell_type": "markdown",
      "source": [
        "Training the models "
      ],
      "metadata": {
        "id": "p19fAhFvBY2K"
      }
    },
    {
      "cell_type": "code",
      "source": [
        "# For bag of words - \n",
        "nb_bow_stem.fit(bow_cv1,y_train);\n",
        "nb_bow_lemma.fit(bow_cv2,y_train);\n",
        "nb_bow_lemmaStem.fit(bow_cv3,y_train);\n",
        "\n",
        "# For tf-idf - \n",
        "nb_tf_stem.fit(tf_cv1,y_train);\n",
        "nb_tf_lemma.fit(tf_cv1,y_train);\n",
        "nb_tf_lemmaStem.fit(tf_cv1,y_train);"
      ],
      "metadata": {
        "id": "KtQQf0GoBbNI"
      },
      "execution_count": 144,
      "outputs": []
    },
    {
      "cell_type": "markdown",
      "source": [
        "Prediction on test set"
      ],
      "metadata": {
        "id": "sgEl4GQMBKyM"
      }
    },
    {
      "cell_type": "code",
      "source": [
        "# For bag of words - \n",
        "nb_bow_stem_pred = nb_bow_stem.predict(bow_cv1_test);\n",
        "nb_bow_lemma_pred = nb_bow_lemma.predict(bow_cv2_test);\n",
        "nb_bow_lemmaStem_pred = nb_bow_lemmaStem.predict(bow_cv3_test);\n",
        "\n",
        "# For tf-idf - \n",
        "nb_tf_stem_pred = nb_tf_stem.predict(tf_cv1_test);\n",
        "nb_tf_lemma_pred = nb_tf_lemma.predict(tf_cv1_test);\n",
        "nb_tf_lemmaStem_pred = nb_tf_lemmaStem.predict(tf_cv1_test);"
      ],
      "metadata": {
        "id": "XHtfy11NBVAg"
      },
      "execution_count": 145,
      "outputs": []
    },
    {
      "cell_type": "markdown",
      "source": [
        "Evaluation metrics"
      ],
      "metadata": {
        "id": "Udo8WdlVDs1D"
      }
    },
    {
      "cell_type": "code",
      "source": [
        "from sklearn.metrics import classification_report, confusion_matrix"
      ],
      "metadata": {
        "id": "kNy85tb0FPz0"
      },
      "execution_count": 146,
      "outputs": []
    },
    {
      "cell_type": "markdown",
      "source": [
        "Printing reports"
      ],
      "metadata": {
        "id": "0jAJSSxxFTfl"
      }
    },
    {
      "cell_type": "code",
      "source": [
        "# For Bag of words - \n",
        "print('Classification Report for Naive Bayes on bag of word with stemming:\\n',classification_report(y_test, nb_bow_stem_pred))\n",
        "print('Classification Report for Naive Bayes on bag of word with lemmatization:\\n',classification_report(y_test, nb_bow_lemma_pred))\n",
        "print('Classification Report for Naive Bayes on bag of word with lemma_stemming:\\n',classification_report(y_test, nb_bow_lemmaStem_pred))"
      ],
      "metadata": {
        "colab": {
          "base_uri": "https://localhost:8080/"
        },
        "id": "sRGxsrt5EXfm",
        "outputId": "c6ace4af-f502-4cb6-cf53-9b4ac2eb4560"
      },
      "execution_count": 147,
      "outputs": [
        {
          "output_type": "stream",
          "name": "stdout",
          "text": [
            "Classification Report for Naive Bayes on bag of word with stemming:\n",
            "               precision    recall  f1-score   support\n",
            "\n",
            "           0       0.78      0.98      0.87      1252\n",
            "           1       0.71      0.99      0.83      1230\n",
            "           2       0.84      0.96      0.89      1211\n",
            "           3       0.80      0.82      0.81      1186\n",
            "           4       0.68      0.39      0.50      1184\n",
            "           5       0.58      0.26      0.36       890\n",
            "\n",
            "    accuracy                           0.76      6953\n",
            "   macro avg       0.73      0.73      0.71      6953\n",
            "weighted avg       0.74      0.76      0.73      6953\n",
            "\n",
            "Classification Report for Naive Bayes on bag of word with lemmatization:\n",
            "               precision    recall  f1-score   support\n",
            "\n",
            "           0       0.78      0.98      0.87      1252\n",
            "           1       0.71      0.99      0.83      1230\n",
            "           2       0.85      0.96      0.90      1211\n",
            "           3       0.80      0.82      0.81      1186\n",
            "           4       0.68      0.40      0.50      1184\n",
            "           5       0.59      0.26      0.36       890\n",
            "\n",
            "    accuracy                           0.76      6953\n",
            "   macro avg       0.73      0.73      0.71      6953\n",
            "weighted avg       0.74      0.76      0.73      6953\n",
            "\n",
            "Classification Report for Naive Bayes on bag of word with lemma_stemming:\n",
            "               precision    recall  f1-score   support\n",
            "\n",
            "           0       0.78      0.97      0.87      1252\n",
            "           1       0.71      0.99      0.82      1230\n",
            "           2       0.84      0.95      0.89      1211\n",
            "           3       0.80      0.81      0.81      1186\n",
            "           4       0.68      0.39      0.50      1184\n",
            "           5       0.57      0.26      0.36       890\n",
            "\n",
            "    accuracy                           0.76      6953\n",
            "   macro avg       0.73      0.73      0.71      6953\n",
            "weighted avg       0.74      0.76      0.73      6953\n",
            "\n"
          ]
        }
      ]
    },
    {
      "cell_type": "code",
      "source": [
        "# For Tf-idf - \n",
        "print('Classification Report for Naive Bayes on Ti-idf with stemming:\\n',classification_report(y_test, nb_tf_stem_pred))\n",
        "print('Classification Report for Naive Bayes on Ti-idf with lemmatization:\\n',classification_report(y_test, nb_tf_lemma_pred))\n",
        "print('Classification Report for Naive Bayes on Ti-idf with lemma_stemming:\\n',classification_report(y_test, nb_tf_lemmaStem_pred))"
      ],
      "metadata": {
        "colab": {
          "base_uri": "https://localhost:8080/"
        },
        "id": "2SaE0j7covku",
        "outputId": "b88ddbd6-d8fc-497b-afc2-cd329a7c0246"
      },
      "execution_count": 148,
      "outputs": [
        {
          "output_type": "stream",
          "name": "stdout",
          "text": [
            "Classification Report for Naive Bayes on Ti-idf with stemming:\n",
            "               precision    recall  f1-score   support\n",
            "\n",
            "           0       0.75      0.97      0.85      1252\n",
            "           1       0.66      0.98      0.79      1230\n",
            "           2       0.81      0.93      0.86      1211\n",
            "           3       0.78      0.82      0.80      1186\n",
            "           4       0.66      0.38      0.48      1184\n",
            "           5       0.59      0.12      0.20       890\n",
            "\n",
            "    accuracy                           0.73      6953\n",
            "   macro avg       0.71      0.70      0.66      6953\n",
            "weighted avg       0.71      0.73      0.69      6953\n",
            "\n",
            "Classification Report for Naive Bayes on Ti-idf with lemmatization:\n",
            "               precision    recall  f1-score   support\n",
            "\n",
            "           0       0.75      0.97      0.85      1252\n",
            "           1       0.66      0.98      0.79      1230\n",
            "           2       0.81      0.93      0.86      1211\n",
            "           3       0.78      0.82      0.80      1186\n",
            "           4       0.66      0.38      0.48      1184\n",
            "           5       0.59      0.12      0.20       890\n",
            "\n",
            "    accuracy                           0.73      6953\n",
            "   macro avg       0.71      0.70      0.66      6953\n",
            "weighted avg       0.71      0.73      0.69      6953\n",
            "\n",
            "Classification Report for Naive Bayes on Ti-idf with lemma_stemming:\n",
            "               precision    recall  f1-score   support\n",
            "\n",
            "           0       0.75      0.97      0.85      1252\n",
            "           1       0.66      0.98      0.79      1230\n",
            "           2       0.81      0.93      0.86      1211\n",
            "           3       0.78      0.82      0.80      1186\n",
            "           4       0.66      0.38      0.48      1184\n",
            "           5       0.59      0.12      0.20       890\n",
            "\n",
            "    accuracy                           0.73      6953\n",
            "   macro avg       0.71      0.70      0.66      6953\n",
            "weighted avg       0.71      0.73      0.69      6953\n",
            "\n"
          ]
        }
      ]
    },
    {
      "cell_type": "markdown",
      "source": [
        "Analysis about stemming and lemmatization : We can see that accuracy is very less affected by stemming and lemmatization. And since stemming is performing little better than lemmatization and it is much optimized as well, So we will be going for stemming for rest of analysis."
      ],
      "metadata": {
        "id": "AVisoDVMzKC9"
      }
    },
    {
      "cell_type": "markdown",
      "source": [
        "Morever, we can see that test accuracy of bag of words is 85% and that of Tf-idf is 83%."
      ],
      "metadata": {
        "id": "4y6vKr7J0Iyy"
      }
    },
    {
      "cell_type": "markdown",
      "source": [
        "## Training Gaussian Naive Bayes using GloVe Embedding"
      ],
      "metadata": {
        "id": "GB9y06AD4yO3"
      }
    },
    {
      "cell_type": "markdown",
      "source": [
        "Performing train-test split for using Gaussian Naive Bayes on glove embeddings"
      ],
      "metadata": {
        "id": "Qgy1ZmUWYw-C"
      }
    },
    {
      "cell_type": "code",
      "source": [
        "X = embeddings_df.drop(['sentiments'], axis=1)\n",
        "Y = embeddings_df['sentiments']\n",
        "X_train, X_test, Y_train, Y_test = train_test_split(X, Y, test_size = 0.2, random_state = 0)\n",
        "print(X_train.shape, X_test.shape)"
      ],
      "metadata": {
        "id": "g-6auuq-X1WU",
        "outputId": "51bbaa34-1c4e-407c-d995-cf82d1c3bffe",
        "colab": {
          "base_uri": "https://localhost:8080/"
        }
      },
      "execution_count": 149,
      "outputs": [
        {
          "output_type": "stream",
          "name": "stdout",
          "text": [
            "(27811, 300) (6953, 300)\n"
          ]
        }
      ]
    },
    {
      "cell_type": "markdown",
      "source": [
        "Creating an object and training Gaussian Naive Bayes"
      ],
      "metadata": {
        "id": "Bwb9zRkGY-bq"
      }
    },
    {
      "cell_type": "code",
      "source": [
        "gnb = GaussianNB()\n",
        "gnb.fit(X_train, Y_train)"
      ],
      "metadata": {
        "id": "Dgnu0NzeX5bb",
        "outputId": "85e93bf6-9002-4eb1-a7f6-810a82f8b09c",
        "colab": {
          "base_uri": "https://localhost:8080/"
        }
      },
      "execution_count": 150,
      "outputs": [
        {
          "output_type": "execute_result",
          "data": {
            "text/plain": [
              "GaussianNB()"
            ]
          },
          "metadata": {},
          "execution_count": 150
        }
      ]
    },
    {
      "cell_type": "markdown",
      "source": [
        "Performing predictions on the test set"
      ],
      "metadata": {
        "id": "xF7BRavoZL6I"
      }
    },
    {
      "cell_type": "code",
      "source": [
        "Y_pred = gnb.predict(X_test)"
      ],
      "metadata": {
        "id": "rwHvc6IGYhqA"
      },
      "execution_count": 151,
      "outputs": []
    },
    {
      "cell_type": "markdown",
      "source": [
        "Evaluating the performance of the model"
      ],
      "metadata": {
        "id": "xhCdNsPWZpdd"
      }
    },
    {
      "cell_type": "code",
      "source": [
        "from sklearn.metrics import accuracy_score\n",
        "\n",
        "accuracy = accuracy_score(Y_test, Y_pred)\n",
        "print(accuracy)"
      ],
      "metadata": {
        "id": "tAee61E2Yn77",
        "outputId": "d139df9e-d7e3-4727-c82d-f4bc201c76ca",
        "colab": {
          "base_uri": "https://localhost:8080/"
        }
      },
      "execution_count": 152,
      "outputs": [
        {
          "output_type": "stream",
          "name": "stdout",
          "text": [
            "0.6992665036674817\n"
          ]
        }
      ]
    },
    {
      "cell_type": "markdown",
      "source": [
        "Displaying the classification report"
      ],
      "metadata": {
        "id": "qiV35Q5PZw66"
      }
    },
    {
      "cell_type": "code",
      "source": [
        "from sklearn.metrics import classification_report\n",
        "\n",
        "print(classification_report(Y_test, Y_pred))"
      ],
      "metadata": {
        "id": "8o1fGPlWYtGb",
        "outputId": "dbdbe1bc-98b7-4813-e9f3-2546ad3455a4",
        "colab": {
          "base_uri": "https://localhost:8080/"
        }
      },
      "execution_count": 153,
      "outputs": [
        {
          "output_type": "stream",
          "name": "stdout",
          "text": [
            "              precision    recall  f1-score   support\n",
            "\n",
            "           0       0.78      0.91      0.84      1305\n",
            "           1       0.89      0.88      0.88      1248\n",
            "           2       0.83      0.72      0.77      1179\n",
            "           3       0.80      0.70      0.75      1154\n",
            "           4       0.52      0.57      0.54      1234\n",
            "           5       0.28      0.27      0.27       833\n",
            "\n",
            "    accuracy                           0.70      6953\n",
            "   macro avg       0.68      0.67      0.68      6953\n",
            "weighted avg       0.70      0.70      0.70      6953\n",
            "\n"
          ]
        }
      ]
    },
    {
      "cell_type": "markdown",
      "source": [
        "Using K-Fold validation on the training set"
      ],
      "metadata": {
        "id": "dUC61jLg54n7"
      }
    },
    {
      "cell_type": "code",
      "source": [
        "from sklearn.model_selection import KFold\n",
        "\n",
        "X_train_numpy = np.array(X_train)\n",
        "Y_train_numpy = np.array(Y_train)\n",
        "\n",
        "model = 1\n",
        "accuracy_val = 0\n",
        "accuracy_train = 0\n",
        "kf = KFold(n_splits = 5)\n",
        "for train_index, val_index in kf.split(X_train_numpy):\n",
        "  X_KFold_train, X_KFold_val = X_train_numpy[train_index], X_train_numpy[val_index]\n",
        "  Y_KFold_train, Y_KFold_val = Y_train_numpy[train_index], Y_train_numpy[val_index]\n",
        "  gnb = GaussianNB()\n",
        "  gnb.fit(X_KFold_train, Y_KFold_train)\n",
        "  Y_pred = gnb.predict(X_KFold_val)\n",
        "  Y_pred_train = gnb.predict(X_KFold_train)\n",
        "  print(\"Classification report for K-Fold model \"+str(model))\n",
        "  print(\"For validation set -\")\n",
        "  print(classification_report(Y_KFold_val, Y_pred))\n",
        "  print(\"For training set -\")\n",
        "  accuracy_val += accuracy_score(Y_KFold_val, Y_pred)\n",
        "  print(classification_report(Y_KFold_train, Y_pred_train))\n",
        "  accuracy_train += accuracy_score(Y_KFold_train, Y_pred_train)\n",
        "  model += 1 "
      ],
      "metadata": {
        "id": "OAbMfmiD4tfw",
        "outputId": "eb0669f0-2023-494d-a2b5-940b3fa56e30",
        "colab": {
          "base_uri": "https://localhost:8080/"
        }
      },
      "execution_count": 154,
      "outputs": [
        {
          "output_type": "stream",
          "name": "stdout",
          "text": [
            "Classification report for K-Fold model 1\n",
            "For validation set -\n",
            "              precision    recall  f1-score   support\n",
            "\n",
            "           0       0.77      0.90      0.83       957\n",
            "           1       0.88      0.88      0.88       984\n",
            "           2       0.83      0.75      0.79       942\n",
            "           3       0.81      0.68      0.74       984\n",
            "           4       0.50      0.55      0.53       952\n",
            "           5       0.33      0.33      0.33       744\n",
            "\n",
            "    accuracy                           0.70      5563\n",
            "   macro avg       0.69      0.68      0.68      5563\n",
            "weighted avg       0.70      0.70      0.70      5563\n",
            "\n",
            "For training set -\n",
            "              precision    recall  f1-score   support\n",
            "\n",
            "           0       0.77      0.91      0.83      4000\n",
            "           1       0.88      0.88      0.88      3918\n",
            "           2       0.84      0.73      0.78      3934\n",
            "           3       0.80      0.66      0.72      3792\n",
            "           4       0.50      0.56      0.53      3732\n",
            "           5       0.31      0.31      0.31      2872\n",
            "\n",
            "    accuracy                           0.69     22248\n",
            "   macro avg       0.68      0.67      0.68     22248\n",
            "weighted avg       0.70      0.69      0.69     22248\n",
            "\n",
            "Classification report for K-Fold model 2\n",
            "For validation set -\n",
            "              precision    recall  f1-score   support\n",
            "\n",
            "           0       0.75      0.92      0.83       967\n",
            "           1       0.88      0.89      0.88       989\n",
            "           2       0.85      0.72      0.78       989\n",
            "           3       0.81      0.65      0.72       974\n",
            "           4       0.51      0.58      0.54       965\n",
            "           5       0.30      0.29      0.30       678\n",
            "\n",
            "    accuracy                           0.69      5562\n",
            "   macro avg       0.68      0.67      0.67      5562\n",
            "weighted avg       0.70      0.69      0.69      5562\n",
            "\n",
            "For training set -\n",
            "              precision    recall  f1-score   support\n",
            "\n",
            "           0       0.77      0.90      0.83      3990\n",
            "           1       0.88      0.88      0.88      3913\n",
            "           2       0.84      0.74      0.78      3887\n",
            "           3       0.80      0.67      0.73      3802\n",
            "           4       0.49      0.57      0.53      3719\n",
            "           5       0.32      0.30      0.31      2938\n",
            "\n",
            "    accuracy                           0.70     22249\n",
            "   macro avg       0.68      0.68      0.68     22249\n",
            "weighted avg       0.70      0.70      0.70     22249\n",
            "\n",
            "Classification report for K-Fold model 3\n",
            "For validation set -\n",
            "              precision    recall  f1-score   support\n",
            "\n",
            "           0       0.79      0.91      0.84       997\n",
            "           1       0.88      0.88      0.88       958\n",
            "           2       0.83      0.73      0.78       967\n",
            "           3       0.82      0.67      0.74       981\n",
            "           4       0.48      0.58      0.53       943\n",
            "           5       0.32      0.28      0.30       716\n",
            "\n",
            "    accuracy                           0.69      5562\n",
            "   macro avg       0.68      0.68      0.68      5562\n",
            "weighted avg       0.70      0.69      0.69      5562\n",
            "\n",
            "For training set -\n",
            "              precision    recall  f1-score   support\n",
            "\n",
            "           0       0.78      0.91      0.84      3960\n",
            "           1       0.88      0.88      0.88      3944\n",
            "           2       0.84      0.73      0.78      3909\n",
            "           3       0.79      0.66      0.72      3795\n",
            "           4       0.48      0.59      0.53      3741\n",
            "           5       0.32      0.29      0.31      2900\n",
            "\n",
            "    accuracy                           0.70     22249\n",
            "   macro avg       0.68      0.68      0.68     22249\n",
            "weighted avg       0.70      0.70      0.70     22249\n",
            "\n",
            "Classification report for K-Fold model 4\n",
            "For validation set -\n",
            "              precision    recall  f1-score   support\n",
            "\n",
            "           0       0.77      0.91      0.83      1001\n",
            "           1       0.89      0.89      0.89      1007\n",
            "           2       0.84      0.74      0.78      1016\n",
            "           3       0.79      0.66      0.72       930\n",
            "           4       0.49      0.58      0.53       910\n",
            "           5       0.30      0.27      0.29       698\n",
            "\n",
            "    accuracy                           0.70      5562\n",
            "   macro avg       0.68      0.68      0.67      5562\n",
            "weighted avg       0.70      0.70      0.70      5562\n",
            "\n",
            "For training set -\n",
            "              precision    recall  f1-score   support\n",
            "\n",
            "           0       0.77      0.91      0.83      3956\n",
            "           1       0.88      0.88      0.88      3895\n",
            "           2       0.84      0.73      0.78      3860\n",
            "           3       0.80      0.67      0.73      3846\n",
            "           4       0.49      0.57      0.53      3774\n",
            "           5       0.32      0.30      0.31      2918\n",
            "\n",
            "    accuracy                           0.69     22249\n",
            "   macro avg       0.68      0.68      0.68     22249\n",
            "weighted avg       0.70      0.69      0.69     22249\n",
            "\n",
            "Classification report for K-Fold model 5\n",
            "For validation set -\n",
            "              precision    recall  f1-score   support\n",
            "\n",
            "           0       0.79      0.90      0.84      1035\n",
            "           1       0.89      0.87      0.88       964\n",
            "           2       0.84      0.73      0.78       962\n",
            "           3       0.77      0.66      0.71       907\n",
            "           4       0.48      0.57      0.52       914\n",
            "           5       0.33      0.31      0.32       780\n",
            "\n",
            "    accuracy                           0.69      5562\n",
            "   macro avg       0.68      0.67      0.68      5562\n",
            "weighted avg       0.70      0.69      0.69      5562\n",
            "\n",
            "For training set -\n",
            "              precision    recall  f1-score   support\n",
            "\n",
            "           0       0.78      0.91      0.84      3922\n",
            "           1       0.88      0.88      0.88      3938\n",
            "           2       0.84      0.74      0.78      3914\n",
            "           3       0.81      0.67      0.73      3869\n",
            "           4       0.50      0.57      0.53      3770\n",
            "           5       0.32      0.31      0.31      2836\n",
            "\n",
            "    accuracy                           0.70     22249\n",
            "   macro avg       0.69      0.68      0.68     22249\n",
            "weighted avg       0.71      0.70      0.70     22249\n",
            "\n"
          ]
        }
      ]
    },
    {
      "cell_type": "code",
      "source": [
        "avg_accuracy1 = accuracy_val/5\n",
        "print(\"Average accuracy obtained on vaidation set= \"+str(avg_accuracy1))\n",
        "avg_accuracy2 = accuracy_train/5\n",
        "print(\"Average accuracy obtained on training set= \"+str(avg_accuracy2))"
      ],
      "metadata": {
        "colab": {
          "base_uri": "https://localhost:8080/"
        },
        "id": "bugF876vc0Xr",
        "outputId": "ed0b0642-ef36-48c6-9d21-5d43f1e1ce94"
      },
      "execution_count": 155,
      "outputs": [
        {
          "output_type": "stream",
          "name": "stdout",
          "text": [
            "Average accuracy obtained on vaidation set= 0.695120590189082\n",
            "Average accuracy obtained on training set= 0.6954712031548909\n"
          ]
        }
      ]
    },
    {
      "cell_type": "code",
      "source": [
        "sizes, training_scores, testing_scores = learning_curve(GaussianNB(), X_train, Y_train, cv=10, scoring='accuracy', train_sizes=np.linspace(100, 25000, 250, dtype=int))\n",
        "  \n",
        "# Mean and Standard Deviation of training scores\n",
        "mean_training = np.mean(training_scores, axis=1)\n",
        "Standard_Deviation_training = np.std(training_scores, axis=1)\n",
        "  \n",
        "# Mean and Standard Deviation of testing scores\n",
        "mean_testing = np.mean(testing_scores, axis=1)\n",
        "Standard_Deviation_testing = np.std(testing_scores, axis=1)\n",
        "  \n",
        "# Dotted blue line is for training scores and green line is for cross-validation score\n",
        "plt.plot(sizes, mean_training, '--', color=\"b\",  label=\"Training score\")\n",
        "plt.plot(sizes, mean_testing, color=\"g\", label=\"Cross-validation score\")\n",
        "  \n",
        "# Drawing plot\n",
        "plt.title(\"Learning Curve for GaussianNB with GloVe embeddings\")\n",
        "plt.xlabel(\"Training Set Size\"), plt.ylabel(\"Accuracy Score\"), plt.legend(loc=\"best\")\n",
        "plt.tight_layout()\n",
        "plt.show()"
      ],
      "metadata": {
        "id": "Bp02R6YhrGFw",
        "outputId": "33e15151-997d-4a70-94b8-bfc97a69cfbf",
        "colab": {
          "base_uri": "https://localhost:8080/",
          "height": 297
        }
      },
      "execution_count": 156,
      "outputs": [
        {
          "output_type": "display_data",
          "data": {
            "text/plain": [
              "<Figure size 432x288 with 1 Axes>"
            ],
            "image/png": "[encoded data removed]"
          },
          "metadata": {
            "needs_background": "light"
          }
        }
      ]
    },
    {
      "cell_type": "markdown",
      "source": [
        "## Using Logistic Regression with OVR for GloVe Embeddings."
      ],
      "metadata": {
        "id": "SIdld5YcugTd"
      }
    },
    {
      "cell_type": "code",
      "source": [
        "from sklearn.linear_model import LogisticRegression\n",
        "from sklearn.multiclass import OneVsOneClassifier, OneVsRestClassifier\n",
        "\n",
        "lr = LogisticRegression(multi_class = 'ovr', max_iter = 10000)\n",
        "\n",
        "model = 1\n",
        "accuracy_val = 0\n",
        "accuracy_train = 0\n",
        "kf = KFold(n_splits = 5)\n",
        "for train_index, val_index in kf.split(X_train_numpy):\n",
        "  X_KFold_train, X_KFold_val = X_train_numpy[train_index], X_train_numpy[val_index]\n",
        "  Y_KFold_train, Y_KFold_val = Y_train_numpy[train_index], Y_train_numpy[val_index]\n",
        "  lr.fit(X_KFold_train, Y_KFold_train)\n",
        "  Y_pred = lr.predict(X_KFold_val)\n",
        "  Y_pred_train = lr.predict(X_KFold_train)\n",
        "  print(\"Classification report for K-Fold model \"+str(model))\n",
        "  print(\"For validation set -\")\n",
        "  print(classification_report(Y_KFold_val, Y_pred))\n",
        "  print(\"For training set -\")\n",
        "  accuracy_val += accuracy_score(Y_KFold_val, Y_pred)\n",
        "  print(classification_report(Y_KFold_train, Y_pred_train))\n",
        "  accuracy_train += accuracy_score(Y_KFold_train, Y_pred_train)\n",
        "  model += 1"
      ],
      "metadata": {
        "id": "lRLGfTT7uwhc",
        "outputId": "9295bdc4-61ec-46d3-9e5e-bcf8fd3340f1",
        "colab": {
          "base_uri": "https://localhost:8080/"
        }
      },
      "execution_count": 157,
      "outputs": [
        {
          "output_type": "stream",
          "name": "stdout",
          "text": [
            "Classification report for K-Fold model 1\n",
            "For validation set -\n",
            "              precision    recall  f1-score   support\n",
            "\n",
            "           0       0.85      0.94      0.89       957\n",
            "           1       0.88      0.95      0.91       984\n",
            "           2       0.89      0.95      0.92       942\n",
            "           3       0.80      0.79      0.80       984\n",
            "           4       0.53      0.56      0.54       952\n",
            "           5       0.50      0.30      0.37       744\n",
            "\n",
            "    accuracy                           0.77      5563\n",
            "   macro avg       0.74      0.75      0.74      5563\n",
            "weighted avg       0.75      0.77      0.75      5563\n",
            "\n",
            "For training set -\n",
            "              precision    recall  f1-score   support\n",
            "\n",
            "           0       0.86      0.94      0.90      4000\n",
            "           1       0.89      0.96      0.92      3918\n",
            "           2       0.88      0.96      0.92      3934\n",
            "           3       0.80      0.79      0.79      3792\n",
            "           4       0.54      0.58      0.56      3732\n",
            "           5       0.54      0.31      0.39      2872\n",
            "\n",
            "    accuracy                           0.78     22248\n",
            "   macro avg       0.75      0.75      0.75     22248\n",
            "weighted avg       0.76      0.78      0.77     22248\n",
            "\n",
            "Classification report for K-Fold model 2\n",
            "For validation set -\n",
            "              precision    recall  f1-score   support\n",
            "\n",
            "           0       0.85      0.95      0.90       967\n",
            "           1       0.88      0.95      0.92       989\n",
            "           2       0.88      0.96      0.92       989\n",
            "           3       0.80      0.76      0.78       974\n",
            "           4       0.54      0.58      0.56       965\n",
            "           5       0.54      0.30      0.39       678\n",
            "\n",
            "    accuracy                           0.78      5562\n",
            "   macro avg       0.75      0.75      0.74      5562\n",
            "weighted avg       0.76      0.78      0.76      5562\n",
            "\n",
            "For training set -\n",
            "              precision    recall  f1-score   support\n",
            "\n",
            "           0       0.86      0.94      0.90      3990\n",
            "           1       0.89      0.96      0.92      3913\n",
            "           2       0.88      0.95      0.92      3887\n",
            "           3       0.81      0.79      0.80      3802\n",
            "           4       0.54      0.57      0.55      3719\n",
            "           5       0.53      0.32      0.40      2938\n",
            "\n",
            "    accuracy                           0.78     22249\n",
            "   macro avg       0.75      0.76      0.75     22249\n",
            "weighted avg       0.76      0.78      0.77     22249\n",
            "\n",
            "Classification report for K-Fold model 3\n",
            "For validation set -\n",
            "              precision    recall  f1-score   support\n",
            "\n",
            "           0       0.86      0.94      0.90       997\n",
            "           1       0.88      0.96      0.92       958\n",
            "           2       0.90      0.96      0.93       967\n",
            "           3       0.82      0.81      0.82       981\n",
            "           4       0.53      0.59      0.56       943\n",
            "           5       0.53      0.29      0.38       716\n",
            "\n",
            "    accuracy                           0.78      5562\n",
            "   macro avg       0.76      0.76      0.75      5562\n",
            "weighted avg       0.77      0.78      0.77      5562\n",
            "\n",
            "For training set -\n",
            "              precision    recall  f1-score   support\n",
            "\n",
            "           0       0.86      0.94      0.90      3960\n",
            "           1       0.89      0.96      0.92      3944\n",
            "           2       0.88      0.95      0.91      3909\n",
            "           3       0.80      0.78      0.79      3795\n",
            "           4       0.54      0.58      0.56      3741\n",
            "           5       0.54      0.30      0.39      2900\n",
            "\n",
            "    accuracy                           0.78     22249\n",
            "   macro avg       0.75      0.75      0.75     22249\n",
            "weighted avg       0.76      0.78      0.76     22249\n",
            "\n",
            "Classification report for K-Fold model 4\n",
            "For validation set -\n",
            "              precision    recall  f1-score   support\n",
            "\n",
            "           0       0.86      0.94      0.90      1001\n",
            "           1       0.90      0.97      0.93      1007\n",
            "           2       0.87      0.95      0.91      1016\n",
            "           3       0.81      0.77      0.79       930\n",
            "           4       0.54      0.57      0.56       910\n",
            "           5       0.55      0.33      0.41       698\n",
            "\n",
            "    accuracy                           0.78      5562\n",
            "   macro avg       0.75      0.76      0.75      5562\n",
            "weighted avg       0.77      0.78      0.77      5562\n",
            "\n",
            "For training set -\n",
            "              precision    recall  f1-score   support\n",
            "\n",
            "           0       0.86      0.94      0.90      3956\n",
            "           1       0.89      0.95      0.92      3895\n",
            "           2       0.88      0.95      0.92      3860\n",
            "           3       0.80      0.79      0.79      3846\n",
            "           4       0.54      0.57      0.55      3774\n",
            "           5       0.53      0.31      0.39      2918\n",
            "\n",
            "    accuracy                           0.77     22249\n",
            "   macro avg       0.75      0.75      0.75     22249\n",
            "weighted avg       0.76      0.77      0.76     22249\n",
            "\n",
            "Classification report for K-Fold model 5\n",
            "For validation set -\n",
            "              precision    recall  f1-score   support\n",
            "\n",
            "           0       0.87      0.94      0.90      1035\n",
            "           1       0.89      0.95      0.92       964\n",
            "           2       0.86      0.95      0.91       962\n",
            "           3       0.77      0.79      0.78       907\n",
            "           4       0.52      0.57      0.54       914\n",
            "           5       0.54      0.30      0.38       780\n",
            "\n",
            "    accuracy                           0.77      5562\n",
            "   macro avg       0.74      0.75      0.74      5562\n",
            "weighted avg       0.75      0.77      0.75      5562\n",
            "\n",
            "For training set -\n",
            "              precision    recall  f1-score   support\n",
            "\n",
            "           0       0.86      0.94      0.90      3922\n",
            "           1       0.89      0.96      0.92      3938\n",
            "           2       0.88      0.96      0.92      3914\n",
            "           3       0.80      0.79      0.80      3869\n",
            "           4       0.54      0.59      0.56      3770\n",
            "           5       0.54      0.29      0.38      2836\n",
            "\n",
            "    accuracy                           0.78     22249\n",
            "   macro avg       0.75      0.75      0.75     22249\n",
            "weighted avg       0.76      0.78      0.76     22249\n",
            "\n"
          ]
        }
      ]
    },
    {
      "cell_type": "code",
      "source": [
        "avg_accuracy1 = accuracy_val/5\n",
        "print(\"Average accuracy obtained on vaidation set= \"+str(avg_accuracy1))\n",
        "avg_accuracy2 = accuracy_train/5\n",
        "print(\"Average accuracy obtained on training set= \"+str(avg_accuracy2))"
      ],
      "metadata": {
        "id": "U8xyiLfx0pHu",
        "outputId": "9db19534-515c-4e05-b4b9-6547c4c34d28",
        "colab": {
          "base_uri": "https://localhost:8080/"
        }
      },
      "execution_count": 158,
      "outputs": [
        {
          "output_type": "stream",
          "name": "stdout",
          "text": [
            "Average accuracy obtained on vaidation set= 0.7750173731600949\n",
            "Average accuracy obtained on training set= 0.7764284029653653\n"
          ]
        }
      ]
    },
    {
      "cell_type": "code",
      "source": [
        "sizes, training_scores, testing_scores = learning_curve(LogisticRegression(multi_class = 'ovr', max_iter = 10000), X_train, Y_train, cv=5, scoring='accuracy', train_sizes=np.linspace(100, 20000, 10, dtype=int))\n",
        "  \n",
        "# Mean and Standard Deviation of training scores\n",
        "mean_training = np.mean(training_scores, axis=1)\n",
        "Standard_Deviation_training = np.std(training_scores, axis=1)\n",
        "  \n",
        "# Mean and Standard Deviation of testing scores\n",
        "mean_testing = np.mean(testing_scores, axis=1)\n",
        "Standard_Deviation_testing = np.std(testing_scores, axis=1)\n",
        "  \n",
        "# Dotted blue line is for training scores and green line is for cross-validation score\n",
        "plt.plot(sizes, mean_training, '--', color=\"b\",  label=\"Training score\")\n",
        "plt.plot(sizes, mean_testing, color=\"g\", label=\"Cross-validation score\")\n",
        "  \n",
        "# Drawing plot\n",
        "plt.title(\"Learning Curve for Logistic Regression with GloVe embeddings\")\n",
        "plt.xlabel(\"Training Set Size\"), plt.ylabel(\"Accuracy Score\"), plt.legend(loc=\"best\")\n",
        "plt.tight_layout()\n",
        "plt.show()"
      ],
      "metadata": {
        "id": "BssabIzEHU0N",
        "outputId": "13ef9122-4f36-4812-fea5-600f1c088262",
        "colab": {
          "base_uri": "https://localhost:8080/",
          "height": 297
        }
      },
      "execution_count": 163,
      "outputs": [
        {
          "output_type": "display_data",
          "data": {
            "text/plain": [
              "<Figure size 432x288 with 1 Axes>"
            ],
            "image/png": "[encoded data removed]"
          },
          "metadata": {
            "needs_background": "light"
          }
        }
      ]
    },
    {
      "cell_type": "code",
      "source": [
        "def conf_matrix(y, y_pred, title, labels):\n",
        "  fig, ax =plt.subplots(figsize=(10,10))\n",
        "  ax=sns.heatmap(confusion_matrix(y, y_pred), annot=True, cmap=\"Blues\", fmt='g', cbar=True, annot_kws={\"size\":30})\n",
        "  plt.title(title, fontsize=25)\n",
        "  ax.xaxis.set_ticklabels(labels, fontsize=10,rotation = 30) \n",
        "  ax.yaxis.set_ticklabels(labels, fontsize=10)\n",
        "  ax.set_ylabel('Test', fontsize=25)\n",
        "  ax.set_xlabel('Predicted', fontsize=25)\n",
        "  plt.show()\n",
        "class_labels = ['religion','age','ethnicity','gender','not_cyberbullying','other_cyberbullying']"
      ],
      "metadata": {
        "id": "5Gkn83uPRa3P"
      },
      "execution_count": 168,
      "outputs": []
    },
    {
      "cell_type": "code",
      "source": [
        "lr = LogisticRegression(multi_class = 'ovr', max_iter = 10000)\n",
        "lr.fit(X_train, Y_train)\n",
        "Y_pred = lr.predict(X_test)\n",
        "conf_matrix(Y_test, Y_pred, 'Logistic Regression\\nConfusion Matrix on GloVe Embeddings', class_labels)"
      ],
      "metadata": {
        "id": "oZcU6CCMOeoO",
        "outputId": "e6e50397-dc6a-44b2-fd11-cce533fe124d",
        "colab": {
          "base_uri": "https://localhost:8080/",
          "height": 721
        }
      },
      "execution_count": 169,
      "outputs": [
        {
          "output_type": "display_data",
          "data": {
            "text/plain": [
              "<Figure size 720x720 with 2 Axes>"
            ],
            "image/png": "[encoded data removed]"
          },
          "metadata": {
            "needs_background": "light"
          }
        }
      ]
    },
    {
      "cell_type": "markdown",
      "source": [
        "## Using SVM for GloVe Embeddings"
      ],
      "metadata": {
        "id": "Sm-M9qUH0yuv"
      }
    },
    {
      "cell_type": "code",
      "source": [
        "from sklearn import svm\n",
        "\n",
        "poly = svm.SVC(kernel='poly', degree=3, C=1, decision_function_shape='ovo')\n",
        "\n",
        "model = 1\n",
        "accuracy_val = 0\n",
        "accuracy_train = 0\n",
        "kf = KFold(n_splits = 5)\n",
        "for train_index, val_index in kf.split(X_train_numpy):\n",
        "  X_KFold_train, X_KFold_val = X_train_numpy[train_index], X_train_numpy[val_index]\n",
        "  Y_KFold_train, Y_KFold_val = Y_train_numpy[train_index], Y_train_numpy[val_index]\n",
        "  poly.fit(X_KFold_train, Y_KFold_train)\n",
        "  Y_pred = poly.predict(X_KFold_val)\n",
        "  Y_pred_train = poly.predict(X_KFold_train)\n",
        "  print(\"Classification report for K-Fold model \"+str(model))\n",
        "  print(\"For validation set -\")\n",
        "  print(classification_report(Y_KFold_val, Y_pred))\n",
        "  print(\"For training set -\")\n",
        "  accuracy_val += accuracy_score(Y_KFold_val, Y_pred)\n",
        "  print(classification_report(Y_KFold_train, Y_pred_train))\n",
        "  accuracy_train += accuracy_score(Y_KFold_train, Y_pred_train)\n",
        "  model += 1"
      ],
      "metadata": {
        "id": "-Nerb5n61CdX",
        "outputId": "964ee931-3585-446c-d7c7-782db27462e9",
        "colab": {
          "base_uri": "https://localhost:8080/"
        }
      },
      "execution_count": 159,
      "outputs": [
        {
          "output_type": "stream",
          "name": "stdout",
          "text": [
            "Classification report for K-Fold model 1\n",
            "For validation set -\n",
            "              precision    recall  f1-score   support\n",
            "\n",
            "           0       0.90      0.86      0.88       957\n",
            "           1       0.95      0.92      0.93       984\n",
            "           2       0.94      0.91      0.93       942\n",
            "           3       0.89      0.74      0.81       984\n",
            "           4       0.44      0.82      0.57       952\n",
            "           5       0.61      0.16      0.25       744\n",
            "\n",
            "    accuracy                           0.76      5563\n",
            "   macro avg       0.79      0.74      0.73      5563\n",
            "weighted avg       0.80      0.76      0.75      5563\n",
            "\n",
            "For training set -\n",
            "              precision    recall  f1-score   support\n",
            "\n",
            "           0       0.91      0.88      0.89      4000\n",
            "           1       0.96      0.93      0.94      3918\n",
            "           2       0.94      0.92      0.93      3934\n",
            "           3       0.91      0.73      0.81      3792\n",
            "           4       0.45      0.85      0.59      3732\n",
            "           5       0.70      0.17      0.28      2872\n",
            "\n",
            "    accuracy                           0.77     22248\n",
            "   macro avg       0.81      0.75      0.74     22248\n",
            "weighted avg       0.82      0.77      0.76     22248\n",
            "\n",
            "Classification report for K-Fold model 2\n",
            "For validation set -\n",
            "              precision    recall  f1-score   support\n",
            "\n",
            "           0       0.91      0.87      0.89       967\n",
            "           1       0.94      0.93      0.94       989\n",
            "           2       0.93      0.93      0.93       989\n",
            "           3       0.90      0.70      0.79       974\n",
            "           4       0.45      0.81      0.58       965\n",
            "           5       0.57      0.14      0.23       678\n",
            "\n",
            "    accuracy                           0.76      5562\n",
            "   macro avg       0.78      0.73      0.73      5562\n",
            "weighted avg       0.80      0.76      0.75      5562\n",
            "\n",
            "For training set -\n",
            "              precision    recall  f1-score   support\n",
            "\n",
            "           0       0.91      0.87      0.89      3990\n",
            "           1       0.95      0.93      0.94      3913\n",
            "           2       0.94      0.92      0.93      3887\n",
            "           3       0.91      0.74      0.81      3802\n",
            "           4       0.45      0.84      0.59      3719\n",
            "           5       0.70      0.18      0.29      2938\n",
            "\n",
            "    accuracy                           0.77     22249\n",
            "   macro avg       0.81      0.75      0.74     22249\n",
            "weighted avg       0.82      0.77      0.76     22249\n",
            "\n",
            "Classification report for K-Fold model 3\n",
            "For validation set -\n",
            "              precision    recall  f1-score   support\n",
            "\n",
            "           0       0.92      0.87      0.89       997\n",
            "           1       0.94      0.93      0.94       958\n",
            "           2       0.94      0.93      0.93       967\n",
            "           3       0.91      0.75      0.82       981\n",
            "           4       0.45      0.83      0.58       943\n",
            "           5       0.60      0.15      0.23       716\n",
            "\n",
            "    accuracy                           0.77      5562\n",
            "   macro avg       0.79      0.74      0.73      5562\n",
            "weighted avg       0.80      0.77      0.76      5562\n",
            "\n",
            "For training set -\n",
            "              precision    recall  f1-score   support\n",
            "\n",
            "           0       0.91      0.87      0.89      3960\n",
            "           1       0.96      0.92      0.94      3944\n",
            "           2       0.94      0.92      0.93      3909\n",
            "           3       0.90      0.73      0.81      3795\n",
            "           4       0.45      0.84      0.59      3741\n",
            "           5       0.68      0.19      0.29      2900\n",
            "\n",
            "    accuracy                           0.77     22249\n",
            "   macro avg       0.81      0.75      0.74     22249\n",
            "weighted avg       0.82      0.77      0.76     22249\n",
            "\n",
            "Classification report for K-Fold model 4\n",
            "For validation set -\n",
            "              precision    recall  f1-score   support\n",
            "\n",
            "           0       0.90      0.88      0.89      1001\n",
            "           1       0.95      0.94      0.95      1007\n",
            "           2       0.93      0.92      0.92      1016\n",
            "           3       0.89      0.72      0.80       930\n",
            "           4       0.44      0.82      0.57       910\n",
            "           5       0.62      0.14      0.23       698\n",
            "\n",
            "    accuracy                           0.77      5562\n",
            "   macro avg       0.79      0.74      0.73      5562\n",
            "weighted avg       0.80      0.77      0.76      5562\n",
            "\n",
            "For training set -\n",
            "              precision    recall  f1-score   support\n",
            "\n",
            "           0       0.91      0.87      0.89      3956\n",
            "           1       0.96      0.92      0.94      3895\n",
            "           2       0.94      0.92      0.93      3860\n",
            "           3       0.91      0.73      0.81      3846\n",
            "           4       0.45      0.85      0.59      3774\n",
            "           5       0.69      0.16      0.27      2918\n",
            "\n",
            "    accuracy                           0.77     22249\n",
            "   macro avg       0.81      0.74      0.74     22249\n",
            "weighted avg       0.82      0.77      0.76     22249\n",
            "\n",
            "Classification report for K-Fold model 5\n",
            "For validation set -\n",
            "              precision    recall  f1-score   support\n",
            "\n",
            "           0       0.91      0.86      0.88      1035\n",
            "           1       0.96      0.91      0.93       964\n",
            "           2       0.93      0.92      0.92       962\n",
            "           3       0.89      0.71      0.79       907\n",
            "           4       0.42      0.83      0.56       914\n",
            "           5       0.61      0.14      0.22       780\n",
            "\n",
            "    accuracy                           0.75      5562\n",
            "   macro avg       0.79      0.73      0.72      5562\n",
            "weighted avg       0.80      0.75      0.74      5562\n",
            "\n",
            "For training set -\n",
            "              precision    recall  f1-score   support\n",
            "\n",
            "           0       0.92      0.87      0.89      3922\n",
            "           1       0.96      0.93      0.94      3938\n",
            "           2       0.94      0.92      0.93      3914\n",
            "           3       0.91      0.74      0.81      3869\n",
            "           4       0.45      0.85      0.59      3770\n",
            "           5       0.71      0.17      0.27      2836\n",
            "\n",
            "    accuracy                           0.77     22249\n",
            "   macro avg       0.81      0.75      0.74     22249\n",
            "weighted avg       0.82      0.77      0.76     22249\n",
            "\n"
          ]
        }
      ]
    },
    {
      "cell_type": "code",
      "source": [
        "avg_accuracy1 = accuracy_val/5\n",
        "print(\"Average accuracy obtained on vaidation set= \"+str(avg_accuracy1))\n",
        "avg_accuracy2 = accuracy_train/5\n",
        "print(\"Average accuracy obtained on training set= \"+str(avg_accuracy2))"
      ],
      "metadata": {
        "id": "Hfi85-Un7Ba2",
        "outputId": "864ad3b8-c476-45fc-94af-1865768d2d5d",
        "colab": {
          "base_uri": "https://localhost:8080/"
        }
      },
      "execution_count": 160,
      "outputs": [
        {
          "output_type": "stream",
          "name": "stdout",
          "text": [
            "Average accuracy obtained on vaidation set= 0.7606703522134708\n",
            "Average accuracy obtained on training set= 0.7715832001725946\n"
          ]
        }
      ]
    }
  ],
  "metadata": {
    "colab": {
      "collapsed_sections": [],
      "name": "ML_Project_PreProcessing.ipynb",
      "provenance": []
    },
    "kernelspec": {
      "display_name": "Python 3",
      "language": "python",
      "name": "python3"
    },
    "language_info": {
      "codemirror_mode": {
        "name": "ipython",
        "version": 3
      },
      "file_extension": ".py",
      "mimetype": "text/x-python",
      "name": "python",
      "nbconvert_exporter": "python",
      "pygments_lexer": "ipython3",
      "version": "3.6.9"
    },
    "accelerator": "GPU"
  },
  "nbformat": 4,
  "nbformat_minor": 0
}