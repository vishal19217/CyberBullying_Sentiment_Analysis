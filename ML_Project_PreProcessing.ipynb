{
  "cells": [
    {
      "cell_type": "markdown",
      "source": [
        "Importing libraries"
      ],
      "metadata": {
        "id": "o7QiTH21Kd_2"
      }
    },
    {
      "cell_type": "code",
      "execution_count": null,
      "metadata": {
        "colab": {
          "base_uri": "https://localhost:8080/"
        },
        "id": "0kqMJODaX47j",
        "outputId": "d3b605e6-ed3c-4a09-a46b-4dca7a1bf5c4"
      },
      "outputs": [
        {
          "output_type": "stream",
          "name": "stdout",
          "text": [
            "Drive already mounted at /content/gdrive; to attempt to forcibly remount, call drive.mount(\"/content/gdrive\", force_remount=True).\n"
          ]
        }
      ],
      "source": [
        "import pandas as pd\n",
        "import numpy as np\n",
        "import matplotlib.pyplot as plt\n",
        "import seaborn as sns\n",
        "from google.colab import drive\n",
        "drive.mount('/content/gdrive')"
      ]
    },
    {
      "cell_type": "markdown",
      "source": [
        "### Data Visualization and Cleaning"
      ],
      "metadata": {
        "id": "CqogiAMAMPKT"
      }
    },
    {
      "cell_type": "code",
      "execution_count": null,
      "metadata": {
        "id": "2CkDIdIYfK78"
      },
      "outputs": [],
      "source": [
        "data = pd.read_csv('/content/gdrive/My Drive/Colab Notebooks/cyberbullying_tweets.csv')"
      ]
    },
    {
      "cell_type": "code",
      "source": [
        "data.head()"
      ],
      "metadata": {
        "colab": {
          "base_uri": "https://localhost:8080/",
          "height": 206
        },
        "id": "gNgpCKgYOimt",
        "outputId": "0346c299-7278-4659-b7e6-8cd57164f081"
      },
      "execution_count": null,
      "outputs": [
        {
          "output_type": "execute_result",
          "data": {
            "text/plain": [
              "                                          tweet_text cyberbullying_type\n",
              "0  In other words #katandandre, your food was cra...  not_cyberbullying\n",
              "1  Why is #aussietv so white? #MKR #theblock #ImA...  not_cyberbullying\n",
              "2  @XochitlSuckkks a classy whore? Or more red ve...  not_cyberbullying\n",
              "3  @Jason_Gio meh. :P  thanks for the heads up, b...  not_cyberbullying\n",
              "4  @RudhoeEnglish This is an ISIS account pretend...  not_cyberbullying"
            ],
            "text/html": [
              "\n",
              "  <div id=\"df-9c069dd2-9da2-4958-90f2-b44edd8a3415\">\n",
              "    <div class=\"colab-df-container\">\n",
              "      <div>\n",
              "<style scoped>\n",
              "    .dataframe tbody tr th:only-of-type {\n",
              "        vertical-align: middle;\n",
              "    }\n",
              "\n",
              "    .dataframe tbody tr th {\n",
              "        vertical-align: top;\n",
              "    }\n",
              "\n",
              "    .dataframe thead th {\n",
              "        text-align: right;\n",
              "    }\n",
              "</style>\n",
              "<table border=\"1\" class=\"dataframe\">\n",
              "  <thead>\n",
              "    <tr style=\"text-align: right;\">\n",
              "      <th></th>\n",
              "      <th>tweet_text</th>\n",
              "      <th>cyberbullying_type</th>\n",
              "    </tr>\n",
              "  </thead>\n",
              "  <tbody>\n",
              "    <tr>\n",
              "      <th>0</th>\n",
              "      <td>In other words #katandandre, your food was cra...</td>\n",
              "      <td>not_cyberbullying</td>\n",
              "    </tr>\n",
              "    <tr>\n",
              "      <th>1</th>\n",
              "      <td>Why is #aussietv so white? #MKR #theblock #ImA...</td>\n",
              "      <td>not_cyberbullying</td>\n",
              "    </tr>\n",
              "    <tr>\n",
              "      <th>2</th>\n",
              "      <td>@XochitlSuckkks a classy whore? Or more red ve...</td>\n",
              "      <td>not_cyberbullying</td>\n",
              "    </tr>\n",
              "    <tr>\n",
              "      <th>3</th>\n",
              "      <td>@Jason_Gio meh. :P  thanks for the heads up, b...</td>\n",
              "      <td>not_cyberbullying</td>\n",
              "    </tr>\n",
              "    <tr>\n",
              "      <th>4</th>\n",
              "      <td>@RudhoeEnglish This is an ISIS account pretend...</td>\n",
              "      <td>not_cyberbullying</td>\n",
              "    </tr>\n",
              "  </tbody>\n",
              "</table>\n",
              "</div>\n",
              "      <button class=\"colab-df-convert\" onclick=\"convertToInteractive('df-9c069dd2-9da2-4958-90f2-b44edd8a3415')\"\n",
              "              title=\"Convert this dataframe to an interactive table.\"\n",
              "              style=\"display:none;\">\n",
              "        \n",
              "  <svg xmlns=\"http://www.w3.org/2000/svg\" height=\"24px\"viewBox=\"0 0 24 24\"\n",
              "       width=\"24px\">\n",
              "    <path d=\"M0 0h24v24H0V0z\" fill=\"none\"/>\n",
              "    <path d=\"M18.56 5.44l.94 2.06.94-2.06 2.06-.94-2.06-.94-.94-2.06-.94 2.06-2.06.94zm-11 1L8.5 8.5l.94-2.06 2.06-.94-2.06-.94L8.5 2.5l-.94 2.06-2.06.94zm10 10l.94 2.06.94-2.06 2.06-.94-2.06-.94-.94-2.06-.94 2.06-2.06.94z\"/><path d=\"M17.41 7.96l-1.37-1.37c-.4-.4-.92-.59-1.43-.59-.52 0-1.04.2-1.43.59L10.3 9.45l-7.72 7.72c-.78.78-.78 2.05 0 2.83L4 21.41c.39.39.9.59 1.41.59.51 0 1.02-.2 1.41-.59l7.78-7.78 2.81-2.81c.8-.78.8-2.07 0-2.86zM5.41 20L4 18.59l7.72-7.72 1.47 1.35L5.41 20z\"/>\n",
              "  </svg>\n",
              "      </button>\n",
              "      \n",
              "  <style>\n",
              "    .colab-df-container {\n",
              "      display:flex;\n",
              "      flex-wrap:wrap;\n",
              "      gap: 12px;\n",
              "    }\n",
              "\n",
              "    .colab-df-convert {\n",
              "      background-color: #E8F0FE;\n",
              "      border: none;\n",
              "      border-radius: 50%;\n",
              "      cursor: pointer;\n",
              "      display: none;\n",
              "      fill: #1967D2;\n",
              "      height: 32px;\n",
              "      padding: 0 0 0 0;\n",
              "      width: 32px;\n",
              "    }\n",
              "\n",
              "    .colab-df-convert:hover {\n",
              "      background-color: #E2EBFA;\n",
              "      box-shadow: 0px 1px 2px rgba(60, 64, 67, 0.3), 0px 1px 3px 1px rgba(60, 64, 67, 0.15);\n",
              "      fill: #174EA6;\n",
              "    }\n",
              "\n",
              "    [theme=dark] .colab-df-convert {\n",
              "      background-color: #3B4455;\n",
              "      fill: #D2E3FC;\n",
              "    }\n",
              "\n",
              "    [theme=dark] .colab-df-convert:hover {\n",
              "      background-color: #434B5C;\n",
              "      box-shadow: 0px 1px 3px 1px rgba(0, 0, 0, 0.15);\n",
              "      filter: drop-shadow(0px 1px 2px rgba(0, 0, 0, 0.3));\n",
              "      fill: #FFFFFF;\n",
              "    }\n",
              "  </style>\n",
              "\n",
              "      <script>\n",
              "        const buttonEl =\n",
              "          document.querySelector('#df-9c069dd2-9da2-4958-90f2-b44edd8a3415 button.colab-df-convert');\n",
              "        buttonEl.style.display =\n",
              "          google.colab.kernel.accessAllowed ? 'block' : 'none';\n",
              "\n",
              "        async function convertToInteractive(key) {\n",
              "          const element = document.querySelector('#df-9c069dd2-9da2-4958-90f2-b44edd8a3415');\n",
              "          const dataTable =\n",
              "            await google.colab.kernel.invokeFunction('convertToInteractive',\n",
              "                                                     [key], {});\n",
              "          if (!dataTable) return;\n",
              "\n",
              "          const docLinkHtml = 'Like what you see? Visit the ' +\n",
              "            '<a target=\"_blank\" href=https://colab.research.google.com/notebooks/data_table.ipynb>data table notebook</a>'\n",
              "            + ' to learn more about interactive tables.';\n",
              "          element.innerHTML = '';\n",
              "          dataTable['output_type'] = 'display_data';\n",
              "          await google.colab.output.renderOutput(dataTable, element);\n",
              "          const docLink = document.createElement('div');\n",
              "          docLink.innerHTML = docLinkHtml;\n",
              "          element.appendChild(docLink);\n",
              "        }\n",
              "      </script>\n",
              "    </div>\n",
              "  </div>\n",
              "  "
            ]
          },
          "metadata": {},
          "execution_count": 74
        }
      ]
    },
    {
      "cell_type": "code",
      "source": [
        "print(data.info())"
      ],
      "metadata": {
        "colab": {
          "base_uri": "https://localhost:8080/"
        },
        "id": "GMtuJ6QMOcm9",
        "outputId": "763e5131-a9ec-4e4d-ae3c-c8822209b587"
      },
      "execution_count": null,
      "outputs": [
        {
          "output_type": "stream",
          "name": "stdout",
          "text": [
            "<class 'pandas.core.frame.DataFrame'>\n",
            "RangeIndex: 47692 entries, 0 to 47691\n",
            "Data columns (total 2 columns):\n",
            " #   Column              Non-Null Count  Dtype \n",
            "---  ------              --------------  ----- \n",
            " 0   tweet_text          47692 non-null  object\n",
            " 1   cyberbullying_type  47692 non-null  object\n",
            "dtypes: object(2)\n",
            "memory usage: 745.3+ KB\n",
            "None\n"
          ]
        }
      ]
    },
    {
      "cell_type": "code",
      "execution_count": null,
      "metadata": {
        "id": "Uk0P6yfU7QCv"
      },
      "outputs": [],
      "source": [
        "data = data.rename(columns={'tweet_text' : 'tweet', 'cyberbullying_type' : 'sentiment'})"
      ]
    },
    {
      "cell_type": "markdown",
      "source": [
        "Removing duplicates from given tweets\n"
      ],
      "metadata": {
        "id": "lFdODN_fL349"
      }
    },
    {
      "cell_type": "code",
      "source": [
        "data[data.duplicated()].shape"
      ],
      "metadata": {
        "colab": {
          "base_uri": "https://localhost:8080/"
        },
        "id": "CqfLWM_3RAsm",
        "outputId": "77f0e1d4-ec6f-4a91-a9d8-94359d5cf001"
      },
      "execution_count": null,
      "outputs": [
        {
          "output_type": "execute_result",
          "data": {
            "text/plain": [
              "(36, 2)"
            ]
          },
          "metadata": {},
          "execution_count": 77
        }
      ]
    },
    {
      "cell_type": "code",
      "execution_count": null,
      "metadata": {
        "id": "X5pmNhQj7i5k"
      },
      "outputs": [],
      "source": [
        "data = data[~data.duplicated()]"
      ]
    },
    {
      "cell_type": "code",
      "execution_count": null,
      "metadata": {
        "colab": {
          "base_uri": "https://localhost:8080/"
        },
        "id": "MuVEVGyX8JFQ",
        "outputId": "901d2f58-7411-4b26-c026-d49f5a98d163"
      },
      "outputs": [
        {
          "output_type": "stream",
          "name": "stdout",
          "text": [
            "<class 'pandas.core.frame.DataFrame'>\n",
            "Int64Index: 47656 entries, 0 to 47691\n",
            "Data columns (total 2 columns):\n",
            " #   Column     Non-Null Count  Dtype \n",
            "---  ------     --------------  ----- \n",
            " 0   tweet      47656 non-null  object\n",
            " 1   sentiment  47656 non-null  object\n",
            "dtypes: object(2)\n",
            "memory usage: 1.1+ MB\n"
          ]
        }
      ],
      "source": [
        "data.info()"
      ]
    },
    {
      "cell_type": "markdown",
      "source": [
        "Showing class balance/imbalance result"
      ],
      "metadata": {
        "id": "CsFdHHECUC00"
      }
    },
    {
      "cell_type": "code",
      "execution_count": null,
      "metadata": {
        "colab": {
          "base_uri": "https://localhost:8080/"
        },
        "id": "2CYHASSe8-QM",
        "outputId": "3dc3ed59-158b-4ac6-c4e3-280bd84b2b3a"
      },
      "outputs": [
        {
          "output_type": "execute_result",
          "data": {
            "text/plain": [
              "religion               7997\n",
              "age                    7992\n",
              "ethnicity              7959\n",
              "gender                 7948\n",
              "not_cyberbullying      7937\n",
              "other_cyberbullying    7823\n",
              "Name: sentiment, dtype: int64"
            ]
          },
          "metadata": {},
          "execution_count": 80
        }
      ],
      "source": [
        "data.sentiment.value_counts()"
      ]
    },
    {
      "cell_type": "code",
      "source": [
        "plt.figure(figsize=(7,5))\n",
        "plt.title('Showing class balance/imbalance result');\n",
        "data['sentiment'].value_counts().plot.bar(rot = 20);\n",
        "plt.xlabel('Sentiments');\n",
        "plt.ylabel('Counts of tweet');\n",
        "plt.show();"
      ],
      "metadata": {
        "colab": {
          "base_uri": "https://localhost:8080/",
          "height": 384
        },
        "id": "k3n1aLGSUKb9",
        "outputId": "d3bd732d-860c-4b18-f673-8e9c601826dd"
      },
      "execution_count": null,
      "outputs": [
        {
          "output_type": "display_data",
          "data": {
            "text/plain": [
              "<Figure size 504x360 with 1 Axes>"
            ],
            "image/png": "[encoded data removed]"
          },
          "metadata": {
            "needs_background": "light"
          }
        }
      ]
    },
    {
      "cell_type": "markdown",
      "source": [
        "From above, we can see that Dataset is **balanced** among different classes of sentiments."
      ],
      "metadata": {
        "id": "AP8yW6YcWfno"
      }
    },
    {
      "cell_type": "markdown",
      "source": [
        "Importing and downloading different packages for data cleaning"
      ],
      "metadata": {
        "id": "9f51Bp_fMv4B"
      }
    },
    {
      "cell_type": "code",
      "execution_count": null,
      "metadata": {
        "colab": {
          "base_uri": "https://localhost:8080/"
        },
        "id": "syn-OBARIie0",
        "outputId": "54d70ff6-70ce-41d0-cefc-f15a871d4e48"
      },
      "outputs": [
        {
          "output_type": "stream",
          "name": "stdout",
          "text": [
            "Requirement already satisfied: emoji in /usr/local/lib/python3.7/dist-packages (1.7.0)\n"
          ]
        }
      ],
      "source": [
        "pip install emoji"
      ]
    },
    {
      "cell_type": "markdown",
      "source": [
        "Importing nltk"
      ],
      "metadata": {
        "id": "fI7C4yarM7kv"
      }
    },
    {
      "cell_type": "code",
      "execution_count": null,
      "metadata": {
        "colab": {
          "base_uri": "https://localhost:8080/"
        },
        "id": "Zx346TICk0XM",
        "outputId": "3e2d3565-cfa5-400b-bf1b-19d113e7bf11"
      },
      "outputs": [
        {
          "output_type": "stream",
          "name": "stdout",
          "text": [
            "[nltk_data] Downloading package stopwords to /root/nltk_data...\n",
            "[nltk_data]   Package stopwords is already up-to-date!\n"
          ]
        },
        {
          "output_type": "execute_result",
          "data": {
            "text/plain": [
              "True"
            ]
          },
          "metadata": {},
          "execution_count": 83
        }
      ],
      "source": [
        "import nltk\n",
        "# For removing stopwords\n",
        "nltk.download('stopwords')"
      ]
    },
    {
      "cell_type": "code",
      "execution_count": null,
      "metadata": {
        "colab": {
          "base_uri": "https://localhost:8080/"
        },
        "id": "ACiTq_1r2lJ-",
        "outputId": "7fca5bba-9065-46fd-d93a-2eecd9882c67"
      },
      "outputs": [
        {
          "output_type": "stream",
          "name": "stdout",
          "text": [
            "[nltk_data] Downloading package punkt to /root/nltk_data...\n",
            "[nltk_data]   Package punkt is already up-to-date!\n"
          ]
        },
        {
          "output_type": "execute_result",
          "data": {
            "text/plain": [
              "True"
            ]
          },
          "metadata": {},
          "execution_count": 84
        }
      ],
      "source": [
        "nltk.download('punkt')"
      ]
    },
    {
      "cell_type": "markdown",
      "metadata": {
        "id": "N6tAorFrAn2K"
      },
      "source": [
        "### Now, let's proceed towards basic cleaning of tweets"
      ]
    },
    {
      "cell_type": "code",
      "execution_count": null,
      "metadata": {
        "id": "esXr4c_F9IxB"
      },
      "outputs": [],
      "source": [
        "import re, string\n",
        "import emoji\n",
        "from nltk.corpus import stopwords\n",
        "stop_words = set(stopwords.words('english'))\n",
        "\n",
        "\n",
        "def remove_emoji(text):  # For removing the emojis from the text\n",
        "  return re.sub(emoji.get_emoji_regexp(), r\"\", text)\n",
        "\n",
        "\n",
        "def remove_entities(text):\n",
        "  text = text.replace('\\r', '').replace('\\n', ' ').lower() # For removing \\n and \\r from the text and then lowercasing the text\n",
        "  text = re.sub(r\"(?:\\@|https?\\://)\\S+\", \"\", text)\n",
        "  text = re.sub(r'[^\\x00-\\x7f]', r'', text)\n",
        "  punctuation_words = string.punctuation\n",
        "  table = text.maketrans('', '', punctuation_words)\n",
        "  text = text.translate(table)\n",
        "  text = [word for word in text.split() if word not in stop_words]\n",
        "  text = ' '.join(text)\n",
        "  text = ' '.join(word for word in text.split() if len(word)<14)\n",
        "  return text\n",
        "\n",
        "\n",
        "def remove_contractions(text):\n",
        "  text = re.sub(r\"can\\'t\", \"can not\", text)\n",
        "  text = re.sub(r\"n\\'t\", \" not\", text)\n",
        "  text = re.sub(r\"\\'re\", \" are\", text)\n",
        "  text = re.sub(r\"\\'s\", \" is\", text)\n",
        "  text = re.sub(r\"\\'d\", \" would\", text)\n",
        "  text = re.sub(r\"\\'ll\", \" will\", text)\n",
        "  text = re.sub(r\"\\'t\", \" not\", text)\n",
        "  text = re.sub(r\"\\'ve\", \" have\", text)\n",
        "  text = re.sub(r\"\\'m\", \" am\", text)\n",
        "  return text\n",
        "\n",
        "\n",
        "def remove_hashtags(text):\n",
        "  new_text = \" \".join(word.strip() for word in re.split('#(?!(?:hashtag)\\b)[\\w-]+(?=(?:\\s+#[\\w-]+)*\\s*$)', text))\n",
        "  new_text2 = \" \".join(word.strip() for word in re.split('#|_', new_text))\n",
        "  return new_text2\n",
        "\n",
        "\n",
        "def filter_characters(text):\n",
        "  filtered = []\n",
        "  for word in text.split(' '):\n",
        "    if ('$' in word) | ('&' in word):\n",
        "      filtered.append('')\n",
        "    else:\n",
        "      filtered.append(word)\n",
        "  return ' '.join(filtered)\n",
        "\n",
        "\n",
        "def remove_mult_spaces(text):\n",
        "  return re.sub(\"\\s\\s+\", \" \", text)\n",
        "\n",
        "\n",
        "# Basic cleaning  \n",
        "def basic_cleaning(text):\n",
        "  text = remove_emoji(text)\n",
        "  text = remove_contractions(text)\n",
        "  text = remove_entities(text)\n",
        "  text = remove_hashtags(text)\n",
        "  text = filter_characters(text)\n",
        "  text = remove_mult_spaces(text)\n",
        "  return text"
      ]
    },
    {
      "cell_type": "markdown",
      "source": [
        "Using basic_cleaning() function defined above to do basic cleaning"
      ],
      "metadata": {
        "id": "Fq4m3mt6fZyW"
      }
    },
    {
      "cell_type": "code",
      "source": [
        "basic_clean_tweets = []\n",
        "for text in data['tweet']:\n",
        "  basic_clean_tweets.append(basic_cleaning(text))"
      ],
      "metadata": {
        "colab": {
          "base_uri": "https://localhost:8080/"
        },
        "id": "VttL1z8SfR84",
        "outputId": "59f3a6cd-3fa6-42a3-a942-fcc19566c6d6"
      },
      "execution_count": null,
      "outputs": [
        {
          "output_type": "stream",
          "name": "stderr",
          "text": [
            "/usr/local/lib/python3.7/dist-packages/ipykernel_launcher.py:8: DeprecationWarning: 'emoji.get_emoji_regexp()' is deprecated and will be removed in version 2.0.0. If you want to remove emoji from a string, consider the method emoji.replace_emoji(str, replace='').\n",
            "To hide this warning, pin/downgrade the package to 'emoji~=1.6.3'\n",
            "  \n"
          ]
        }
      ]
    },
    {
      "cell_type": "code",
      "source": [
        "basic_clean_df = pd.DataFrame(basic_clean_tweets, columns = ['Basic clean']);\n",
        "basic_clean_df['sentiment'] = data['sentiment'].values\n",
        "basic_clean_df.head()\n",
        "\n",
        "# We can see that basic cleaning of tweets has been done."
      ],
      "metadata": {
        "colab": {
          "base_uri": "https://localhost:8080/",
          "height": 206
        },
        "id": "vrjWuvkmgbg3",
        "outputId": "fcf6f2a6-fea1-43df-e160-d55f2fee01b5"
      },
      "execution_count": null,
      "outputs": [
        {
          "output_type": "execute_result",
          "data": {
            "text/plain": [
              "                                         Basic clean          sentiment\n",
              "0            words katandandre food crapilicious mkr  not_cyberbullying\n",
              "1  aussietv white mkr theblock today sunrise stud...  not_cyberbullying\n",
              "2                   classy whore red velvet cupcakes  not_cyberbullying\n",
              "3  meh p thanks heads concerned another angry dud...  not_cyberbullying\n",
              "4  isis account pretending kurdish account like i...  not_cyberbullying"
            ],
            "text/html": [
              "\n",
              "  <div id=\"df-76057d5a-5bd5-4443-bb2a-48cbe4b562dd\">\n",
              "    <div class=\"colab-df-container\">\n",
              "      <div>\n",
              "<style scoped>\n",
              "    .dataframe tbody tr th:only-of-type {\n",
              "        vertical-align: middle;\n",
              "    }\n",
              "\n",
              "    .dataframe tbody tr th {\n",
              "        vertical-align: top;\n",
              "    }\n",
              "\n",
              "    .dataframe thead th {\n",
              "        text-align: right;\n",
              "    }\n",
              "</style>\n",
              "<table border=\"1\" class=\"dataframe\">\n",
              "  <thead>\n",
              "    <tr style=\"text-align: right;\">\n",
              "      <th></th>\n",
              "      <th>Basic clean</th>\n",
              "      <th>sentiment</th>\n",
              "    </tr>\n",
              "  </thead>\n",
              "  <tbody>\n",
              "    <tr>\n",
              "      <th>0</th>\n",
              "      <td>words katandandre food crapilicious mkr</td>\n",
              "      <td>not_cyberbullying</td>\n",
              "    </tr>\n",
              "    <tr>\n",
              "      <th>1</th>\n",
              "      <td>aussietv white mkr theblock today sunrise stud...</td>\n",
              "      <td>not_cyberbullying</td>\n",
              "    </tr>\n",
              "    <tr>\n",
              "      <th>2</th>\n",
              "      <td>classy whore red velvet cupcakes</td>\n",
              "      <td>not_cyberbullying</td>\n",
              "    </tr>\n",
              "    <tr>\n",
              "      <th>3</th>\n",
              "      <td>meh p thanks heads concerned another angry dud...</td>\n",
              "      <td>not_cyberbullying</td>\n",
              "    </tr>\n",
              "    <tr>\n",
              "      <th>4</th>\n",
              "      <td>isis account pretending kurdish account like i...</td>\n",
              "      <td>not_cyberbullying</td>\n",
              "    </tr>\n",
              "  </tbody>\n",
              "</table>\n",
              "</div>\n",
              "      <button class=\"colab-df-convert\" onclick=\"convertToInteractive('df-76057d5a-5bd5-4443-bb2a-48cbe4b562dd')\"\n",
              "              title=\"Convert this dataframe to an interactive table.\"\n",
              "              style=\"display:none;\">\n",
              "        \n",
              "  <svg xmlns=\"http://www.w3.org/2000/svg\" height=\"24px\"viewBox=\"0 0 24 24\"\n",
              "       width=\"24px\">\n",
              "    <path d=\"M0 0h24v24H0V0z\" fill=\"none\"/>\n",
              "    <path d=\"M18.56 5.44l.94 2.06.94-2.06 2.06-.94-2.06-.94-.94-2.06-.94 2.06-2.06.94zm-11 1L8.5 8.5l.94-2.06 2.06-.94-2.06-.94L8.5 2.5l-.94 2.06-2.06.94zm10 10l.94 2.06.94-2.06 2.06-.94-2.06-.94-.94-2.06-.94 2.06-2.06.94z\"/><path d=\"M17.41 7.96l-1.37-1.37c-.4-.4-.92-.59-1.43-.59-.52 0-1.04.2-1.43.59L10.3 9.45l-7.72 7.72c-.78.78-.78 2.05 0 2.83L4 21.41c.39.39.9.59 1.41.59.51 0 1.02-.2 1.41-.59l7.78-7.78 2.81-2.81c.8-.78.8-2.07 0-2.86zM5.41 20L4 18.59l7.72-7.72 1.47 1.35L5.41 20z\"/>\n",
              "  </svg>\n",
              "      </button>\n",
              "      \n",
              "  <style>\n",
              "    .colab-df-container {\n",
              "      display:flex;\n",
              "      flex-wrap:wrap;\n",
              "      gap: 12px;\n",
              "    }\n",
              "\n",
              "    .colab-df-convert {\n",
              "      background-color: #E8F0FE;\n",
              "      border: none;\n",
              "      border-radius: 50%;\n",
              "      cursor: pointer;\n",
              "      display: none;\n",
              "      fill: #1967D2;\n",
              "      height: 32px;\n",
              "      padding: 0 0 0 0;\n",
              "      width: 32px;\n",
              "    }\n",
              "\n",
              "    .colab-df-convert:hover {\n",
              "      background-color: #E2EBFA;\n",
              "      box-shadow: 0px 1px 2px rgba(60, 64, 67, 0.3), 0px 1px 3px 1px rgba(60, 64, 67, 0.15);\n",
              "      fill: #174EA6;\n",
              "    }\n",
              "\n",
              "    [theme=dark] .colab-df-convert {\n",
              "      background-color: #3B4455;\n",
              "      fill: #D2E3FC;\n",
              "    }\n",
              "\n",
              "    [theme=dark] .colab-df-convert:hover {\n",
              "      background-color: #434B5C;\n",
              "      box-shadow: 0px 1px 3px 1px rgba(0, 0, 0, 0.15);\n",
              "      filter: drop-shadow(0px 1px 2px rgba(0, 0, 0, 0.3));\n",
              "      fill: #FFFFFF;\n",
              "    }\n",
              "  </style>\n",
              "\n",
              "      <script>\n",
              "        const buttonEl =\n",
              "          document.querySelector('#df-76057d5a-5bd5-4443-bb2a-48cbe4b562dd button.colab-df-convert');\n",
              "        buttonEl.style.display =\n",
              "          google.colab.kernel.accessAllowed ? 'block' : 'none';\n",
              "\n",
              "        async function convertToInteractive(key) {\n",
              "          const element = document.querySelector('#df-76057d5a-5bd5-4443-bb2a-48cbe4b562dd');\n",
              "          const dataTable =\n",
              "            await google.colab.kernel.invokeFunction('convertToInteractive',\n",
              "                                                     [key], {});\n",
              "          if (!dataTable) return;\n",
              "\n",
              "          const docLinkHtml = 'Like what you see? Visit the ' +\n",
              "            '<a target=\"_blank\" href=https://colab.research.google.com/notebooks/data_table.ipynb>data table notebook</a>'\n",
              "            + ' to learn more about interactive tables.';\n",
              "          element.innerHTML = '';\n",
              "          dataTable['output_type'] = 'display_data';\n",
              "          await google.colab.output.renderOutput(dataTable, element);\n",
              "          const docLink = document.createElement('div');\n",
              "          docLink.innerHTML = docLinkHtml;\n",
              "          element.appendChild(docLink);\n",
              "        }\n",
              "      </script>\n",
              "    </div>\n",
              "  </div>\n",
              "  "
            ]
          },
          "metadata": {},
          "execution_count": 87
        }
      ]
    },
    {
      "cell_type": "markdown",
      "source": [
        "Removing duplicates from basic cleaned tweets"
      ],
      "metadata": {
        "id": "OZ7XiS1iWfeb"
      }
    },
    {
      "cell_type": "code",
      "source": [
        "basic_clean_df.shape"
      ],
      "metadata": {
        "colab": {
          "base_uri": "https://localhost:8080/"
        },
        "id": "PQjHUGB2YIiU",
        "outputId": "658508c2-8094-4d36-881a-54a03c6d5fb9"
      },
      "execution_count": null,
      "outputs": [
        {
          "output_type": "execute_result",
          "data": {
            "text/plain": [
              "(47656, 2)"
            ]
          },
          "metadata": {},
          "execution_count": 88
        }
      ]
    },
    {
      "cell_type": "code",
      "execution_count": null,
      "metadata": {
        "colab": {
          "base_uri": "https://localhost:8080/"
        },
        "id": "paGs5agW5eMs",
        "outputId": "f12c2329-e8c6-4a9a-c0cd-a5ea967ca9b1"
      },
      "outputs": [
        {
          "output_type": "execute_result",
          "data": {
            "text/plain": [
              "2998"
            ]
          },
          "metadata": {},
          "execution_count": 89
        }
      ],
      "source": [
        "basic_clean_df['Basic clean'].duplicated().sum()"
      ]
    },
    {
      "cell_type": "code",
      "execution_count": null,
      "metadata": {
        "colab": {
          "base_uri": "https://localhost:8080/"
        },
        "id": "d1P0s8o-5moy",
        "outputId": "19b55882-6ba4-499f-a90d-0e0cc462fcf4"
      },
      "outputs": [
        {
          "output_type": "execute_result",
          "data": {
            "text/plain": [
              "(44658, 2)"
            ]
          },
          "metadata": {},
          "execution_count": 90
        }
      ],
      "source": [
        "basic_clean_df.drop_duplicates('Basic clean', inplace = True)\n",
        "# Removed duplicates\n",
        "basic_clean_df.shape"
      ]
    },
    {
      "cell_type": "markdown",
      "source": [
        "Dropping other_cyberbullying"
      ],
      "metadata": {
        "id": "dtAa6KqrXnEn"
      }
    },
    {
      "cell_type": "code",
      "execution_count": null,
      "metadata": {
        "id": "iVCHqtlg6Jz0"
      },
      "outputs": [],
      "source": [
        "basic_clean_df = basic_clean_df[basic_clean_df['sentiment'] != \"other_cyberbullying\"]"
      ]
    },
    {
      "cell_type": "code",
      "execution_count": null,
      "metadata": {
        "colab": {
          "base_uri": "https://localhost:8080/"
        },
        "id": "_jmSDH6L51Fe",
        "outputId": "bdb38264-628b-4d88-d99e-8e451b504695"
      },
      "outputs": [
        {
          "output_type": "execute_result",
          "data": {
            "text/plain": [
              "religion             7948\n",
              "age                  7898\n",
              "ethnicity            7751\n",
              "not_cyberbullying    7648\n",
              "gender               7616\n",
              "Name: sentiment, dtype: int64"
            ]
          },
          "metadata": {},
          "execution_count": 92
        }
      ],
      "source": [
        "basic_clean_df['sentiment'].value_counts()"
      ]
    },
    {
      "cell_type": "markdown",
      "source": [
        "Creating tweet_length column for basic cleaned tweets"
      ],
      "metadata": {
        "id": "ZRcCrPy1Xwpu"
      }
    },
    {
      "cell_type": "code",
      "execution_count": null,
      "metadata": {
        "colab": {
          "base_uri": "https://localhost:8080/",
          "height": 310
        },
        "id": "RfKbAj3d6lPc",
        "outputId": "43687ea8-44f4-4934-9635-661e5280b1a4"
      },
      "outputs": [
        {
          "output_type": "stream",
          "name": "stderr",
          "text": [
            "/usr/local/lib/python3.7/dist-packages/ipykernel_launcher.py:6: SettingWithCopyWarning: \n",
            "A value is trying to be set on a copy of a slice from a DataFrame.\n",
            "Try using .loc[row_indexer,col_indexer] = value instead\n",
            "\n",
            "See the caveats in the documentation: https://pandas.pydata.org/pandas-docs/stable/user_guide/indexing.html#returning-a-view-versus-a-copy\n",
            "  \n"
          ]
        },
        {
          "output_type": "execute_result",
          "data": {
            "text/plain": [
              "                                         Basic clean          sentiment  \\\n",
              "0            words katandandre food crapilicious mkr  not_cyberbullying   \n",
              "1  aussietv white mkr theblock today sunrise stud...  not_cyberbullying   \n",
              "2                   classy whore red velvet cupcakes  not_cyberbullying   \n",
              "3  meh p thanks heads concerned another angry dud...  not_cyberbullying   \n",
              "4  isis account pretending kurdish account like i...  not_cyberbullying   \n",
              "\n",
              "   tweet_length  \n",
              "0             5  \n",
              "1            10  \n",
              "2             5  \n",
              "3             9  \n",
              "4             8  "
            ],
            "text/html": [
              "\n",
              "  <div id=\"df-e1afdc70-9419-4b85-9f55-0c1f798f96c9\">\n",
              "    <div class=\"colab-df-container\">\n",
              "      <div>\n",
              "<style scoped>\n",
              "    .dataframe tbody tr th:only-of-type {\n",
              "        vertical-align: middle;\n",
              "    }\n",
              "\n",
              "    .dataframe tbody tr th {\n",
              "        vertical-align: top;\n",
              "    }\n",
              "\n",
              "    .dataframe thead th {\n",
              "        text-align: right;\n",
              "    }\n",
              "</style>\n",
              "<table border=\"1\" class=\"dataframe\">\n",
              "  <thead>\n",
              "    <tr style=\"text-align: right;\">\n",
              "      <th></th>\n",
              "      <th>Basic clean</th>\n",
              "      <th>sentiment</th>\n",
              "      <th>tweet_length</th>\n",
              "    </tr>\n",
              "  </thead>\n",
              "  <tbody>\n",
              "    <tr>\n",
              "      <th>0</th>\n",
              "      <td>words katandandre food crapilicious mkr</td>\n",
              "      <td>not_cyberbullying</td>\n",
              "      <td>5</td>\n",
              "    </tr>\n",
              "    <tr>\n",
              "      <th>1</th>\n",
              "      <td>aussietv white mkr theblock today sunrise stud...</td>\n",
              "      <td>not_cyberbullying</td>\n",
              "      <td>10</td>\n",
              "    </tr>\n",
              "    <tr>\n",
              "      <th>2</th>\n",
              "      <td>classy whore red velvet cupcakes</td>\n",
              "      <td>not_cyberbullying</td>\n",
              "      <td>5</td>\n",
              "    </tr>\n",
              "    <tr>\n",
              "      <th>3</th>\n",
              "      <td>meh p thanks heads concerned another angry dud...</td>\n",
              "      <td>not_cyberbullying</td>\n",
              "      <td>9</td>\n",
              "    </tr>\n",
              "    <tr>\n",
              "      <th>4</th>\n",
              "      <td>isis account pretending kurdish account like i...</td>\n",
              "      <td>not_cyberbullying</td>\n",
              "      <td>8</td>\n",
              "    </tr>\n",
              "  </tbody>\n",
              "</table>\n",
              "</div>\n",
              "      <button class=\"colab-df-convert\" onclick=\"convertToInteractive('df-e1afdc70-9419-4b85-9f55-0c1f798f96c9')\"\n",
              "              title=\"Convert this dataframe to an interactive table.\"\n",
              "              style=\"display:none;\">\n",
              "        \n",
              "  <svg xmlns=\"http://www.w3.org/2000/svg\" height=\"24px\"viewBox=\"0 0 24 24\"\n",
              "       width=\"24px\">\n",
              "    <path d=\"M0 0h24v24H0V0z\" fill=\"none\"/>\n",
              "    <path d=\"M18.56 5.44l.94 2.06.94-2.06 2.06-.94-2.06-.94-.94-2.06-.94 2.06-2.06.94zm-11 1L8.5 8.5l.94-2.06 2.06-.94-2.06-.94L8.5 2.5l-.94 2.06-2.06.94zm10 10l.94 2.06.94-2.06 2.06-.94-2.06-.94-.94-2.06-.94 2.06-2.06.94z\"/><path d=\"M17.41 7.96l-1.37-1.37c-.4-.4-.92-.59-1.43-.59-.52 0-1.04.2-1.43.59L10.3 9.45l-7.72 7.72c-.78.78-.78 2.05 0 2.83L4 21.41c.39.39.9.59 1.41.59.51 0 1.02-.2 1.41-.59l7.78-7.78 2.81-2.81c.8-.78.8-2.07 0-2.86zM5.41 20L4 18.59l7.72-7.72 1.47 1.35L5.41 20z\"/>\n",
              "  </svg>\n",
              "      </button>\n",
              "      \n",
              "  <style>\n",
              "    .colab-df-container {\n",
              "      display:flex;\n",
              "      flex-wrap:wrap;\n",
              "      gap: 12px;\n",
              "    }\n",
              "\n",
              "    .colab-df-convert {\n",
              "      background-color: #E8F0FE;\n",
              "      border: none;\n",
              "      border-radius: 50%;\n",
              "      cursor: pointer;\n",
              "      display: none;\n",
              "      fill: #1967D2;\n",
              "      height: 32px;\n",
              "      padding: 0 0 0 0;\n",
              "      width: 32px;\n",
              "    }\n",
              "\n",
              "    .colab-df-convert:hover {\n",
              "      background-color: #E2EBFA;\n",
              "      box-shadow: 0px 1px 2px rgba(60, 64, 67, 0.3), 0px 1px 3px 1px rgba(60, 64, 67, 0.15);\n",
              "      fill: #174EA6;\n",
              "    }\n",
              "\n",
              "    [theme=dark] .colab-df-convert {\n",
              "      background-color: #3B4455;\n",
              "      fill: #D2E3FC;\n",
              "    }\n",
              "\n",
              "    [theme=dark] .colab-df-convert:hover {\n",
              "      background-color: #434B5C;\n",
              "      box-shadow: 0px 1px 3px 1px rgba(0, 0, 0, 0.15);\n",
              "      filter: drop-shadow(0px 1px 2px rgba(0, 0, 0, 0.3));\n",
              "      fill: #FFFFFF;\n",
              "    }\n",
              "  </style>\n",
              "\n",
              "      <script>\n",
              "        const buttonEl =\n",
              "          document.querySelector('#df-e1afdc70-9419-4b85-9f55-0c1f798f96c9 button.colab-df-convert');\n",
              "        buttonEl.style.display =\n",
              "          google.colab.kernel.accessAllowed ? 'block' : 'none';\n",
              "\n",
              "        async function convertToInteractive(key) {\n",
              "          const element = document.querySelector('#df-e1afdc70-9419-4b85-9f55-0c1f798f96c9');\n",
              "          const dataTable =\n",
              "            await google.colab.kernel.invokeFunction('convertToInteractive',\n",
              "                                                     [key], {});\n",
              "          if (!dataTable) return;\n",
              "\n",
              "          const docLinkHtml = 'Like what you see? Visit the ' +\n",
              "            '<a target=\"_blank\" href=https://colab.research.google.com/notebooks/data_table.ipynb>data table notebook</a>'\n",
              "            + ' to learn more about interactive tables.';\n",
              "          element.innerHTML = '';\n",
              "          dataTable['output_type'] = 'display_data';\n",
              "          await google.colab.output.renderOutput(dataTable, element);\n",
              "          const docLink = document.createElement('div');\n",
              "          docLink.innerHTML = docLinkHtml;\n",
              "          element.appendChild(docLink);\n",
              "        }\n",
              "      </script>\n",
              "    </div>\n",
              "  </div>\n",
              "  "
            ]
          },
          "metadata": {},
          "execution_count": 93
        }
      ],
      "source": [
        "text_length = []\n",
        "for text in basic_clean_df['Basic clean']:\n",
        "  tweet_length = len(text.split())\n",
        "  text_length.append(tweet_length)\n",
        "\n",
        "basic_clean_df['tweet_length'] = text_length\n",
        "basic_clean_df.head()"
      ]
    },
    {
      "cell_type": "markdown",
      "source": [
        "Showing Count plot of tweets length "
      ],
      "metadata": {
        "id": "pHN__Y40X8aP"
      }
    },
    {
      "cell_type": "code",
      "execution_count": null,
      "metadata": {
        "colab": {
          "base_uri": "https://localhost:8080/",
          "height": 351
        },
        "id": "4s1EJse67F2w",
        "outputId": "a856b894-a198-474a-afdf-20515596a326"
      },
      "outputs": [
        {
          "output_type": "display_data",
          "data": {
            "text/plain": [
              "<Figure size 1296x360 with 1 Axes>"
            ],
            "image/png": "[encoded data removed]"
          },
          "metadata": {
            "needs_background": "light"
          }
        }
      ],
      "source": [
        "import matplotlib.pyplot as plt\n",
        "plt.figure(figsize=(18,5))\n",
        "# Using countplot\n",
        "ax = sns.countplot(x='tweet_length', data=basic_clean_df)\n",
        "plt.title('Graph of count of tweets and thier tweet length')\n",
        "plt.ylabel('count')\n",
        "plt.xlabel('Tweet_length')\n",
        "plt.show()"
      ]
    },
    {
      "cell_type": "markdown",
      "source": [
        "From the above graph, we can see the distribution of length of cleaned tweets."
      ],
      "metadata": {
        "id": "6HhQrdkNjJDk"
      }
    },
    {
      "cell_type": "markdown",
      "source": [
        "So, removing tweets of length greater than 100 and less than 1."
      ],
      "metadata": {
        "id": "MhflKmOYk0_v"
      }
    },
    {
      "cell_type": "code",
      "execution_count": null,
      "metadata": {
        "id": "OTath6pb-NSu"
      },
      "outputs": [],
      "source": [
        "basic_clean_df = basic_clean_df[(basic_clean_df['tweet_length'] <= 100) & (basic_clean_df['tweet_length'] > 0)]"
      ]
    },
    {
      "cell_type": "code",
      "source": [
        "basic_clean_df.shape"
      ],
      "metadata": {
        "colab": {
          "base_uri": "https://localhost:8080/"
        },
        "id": "vWKkJr5gb1Lx",
        "outputId": "b13b8008-b754-4da3-b613-b157e20c7d14"
      },
      "execution_count": null,
      "outputs": [
        {
          "output_type": "execute_result",
          "data": {
            "text/plain": [
              "(38851, 3)"
            ]
          },
          "metadata": {},
          "execution_count": 96
        }
      ]
    },
    {
      "cell_type": "code",
      "execution_count": null,
      "metadata": {
        "colab": {
          "base_uri": "https://localhost:8080/"
        },
        "id": "JunkHLzF-U2l",
        "outputId": "e648d85e-4ed9-4c77-9540-b6dad2f3adac"
      },
      "outputs": [
        {
          "output_type": "stream",
          "name": "stdout",
          "text": [
            "Maximum length of tweet: 79\n"
          ]
        }
      ],
      "source": [
        "max_length = np.max(basic_clean_df['tweet_length'])\n",
        "print(\"Maximum length of tweet:\",max_length)"
      ]
    },
    {
      "cell_type": "markdown",
      "source": [
        "### Proceeding towards Stemming and Lemmatization techniques."
      ],
      "metadata": {
        "id": "2-cLtAiZhB8D"
      }
    },
    {
      "cell_type": "markdown",
      "source": [
        "For further cleaning in this section, we will be generating three columns.\n",
        "\n",
        "1.   Stemming of basic cleaned tweets\n",
        "2.   Lemmatization of basic cleaned tweets\n",
        "3.   Lemmatization followed by Stemming of cleaned tweets.\n",
        "\n",
        "We will select one techinique from above three based on thier performance.\n"
      ],
      "metadata": {
        "id": "M3wcUhVdoQbo"
      }
    },
    {
      "cell_type": "code",
      "source": [
        "nltk.download('wordnet')"
      ],
      "metadata": {
        "colab": {
          "base_uri": "https://localhost:8080/"
        },
        "id": "MRVc9gzTpu14",
        "outputId": "5bc0f620-96a7-44e6-fdbd-f5cfd09c6020"
      },
      "execution_count": null,
      "outputs": [
        {
          "output_type": "stream",
          "name": "stdout",
          "text": [
            "[nltk_data] Downloading package wordnet to /root/nltk_data...\n",
            "[nltk_data]   Package wordnet is already up-to-date!\n"
          ]
        },
        {
          "output_type": "execute_result",
          "data": {
            "text/plain": [
              "True"
            ]
          },
          "metadata": {},
          "execution_count": 98
        }
      ]
    },
    {
      "cell_type": "code",
      "source": [
        "# We will use SnowballStemmer\n",
        "\n",
        "from nltk.stem import WordNetLemmatizer,SnowballStemmer\n",
        "\n",
        "def stemming(text):\n",
        "  tokenized = nltk.word_tokenize(text)\n",
        "  sb = SnowballStemmer(language = 'english')\n",
        "  return ' '.join([sb.stem(words) for words in tokenized])\n",
        "\n",
        "\n",
        "def lemmatize(text):\n",
        "  tokenized = nltk.word_tokenize(text)\n",
        "  lm = WordNetLemmatizer()\n",
        "  return ' '.join([lm.lemmatize(words) for words in tokenized])"
      ],
      "metadata": {
        "id": "5-Rdwwe4dsfb"
      },
      "execution_count": null,
      "outputs": []
    },
    {
      "cell_type": "markdown",
      "source": [
        "Using above functions to do stemming and lemmatization on basic clean tweets"
      ],
      "metadata": {
        "id": "S5lA5dIjlRmD"
      }
    },
    {
      "cell_type": "code",
      "source": [
        "# For stemming and lemmatization\n",
        "stem_tweets = []\n",
        "lemma_tweets = []\n",
        "lemma_stem_tweets = [];\n",
        "\n",
        "# For stemming and lemmatization\n",
        "for text in basic_clean_df['Basic clean']:\n",
        "  stem_tweets.append(stemming(text));      # Stemming\n",
        "  lemma_tweets.append(lemmatize(text));    # Lemmatize\n",
        "\n",
        "# For lemmatization followed by stemming\n",
        "for text in lemma_tweets:\n",
        "  lemma_stem_tweets.append(stemming(text));"
      ],
      "metadata": {
        "id": "9tNmgPOOleuh"
      },
      "execution_count": null,
      "outputs": []
    },
    {
      "cell_type": "markdown",
      "source": [
        "Showing three results of Stemming, Lemmatization and Lemma+Stemming"
      ],
      "metadata": {
        "id": "kk5ot3CDqTqX"
      }
    },
    {
      "cell_type": "code",
      "source": [
        "basic_clean_df['Stemming'] = stem_tweets;\n",
        "basic_clean_df['Lemmatization'] = lemma_tweets;\n",
        "basic_clean_df['Lemma_Stemming'] = lemma_stem_tweets;\n",
        "basic_clean_df.head()\n",
        "\n",
        "# We can see that in stemming is just removing last few characters of words.\n",
        "# Whereas lemmatization is considering context of words and converting to its\n",
        "# meaningful baseform."
      ],
      "metadata": {
        "colab": {
          "base_uri": "https://localhost:8080/",
          "height": 320
        },
        "id": "JuI8KAC5qD5H",
        "outputId": "9a7e711a-1d39-42ed-d64f-45f3c72e26be"
      },
      "execution_count": null,
      "outputs": [
        {
          "output_type": "execute_result",
          "data": {
            "text/plain": [
              "                                         Basic clean          sentiment  \\\n",
              "0            words katandandre food crapilicious mkr  not_cyberbullying   \n",
              "1  aussietv white mkr theblock today sunrise stud...  not_cyberbullying   \n",
              "2                   classy whore red velvet cupcakes  not_cyberbullying   \n",
              "3  meh p thanks heads concerned another angry dud...  not_cyberbullying   \n",
              "4  isis account pretending kurdish account like i...  not_cyberbullying   \n",
              "\n",
              "   tweet_length                                           Stemming  \\\n",
              "0             5                 word katandandr food crapilici mkr   \n",
              "1            10  aussietv white mkr theblock today sunris studi...   \n",
              "2             5                     classi whore red velvet cupcak   \n",
              "3             9  meh p thank head concern anoth angri dude twitter   \n",
              "4             8  isi account pretend kurdish account like islam...   \n",
              "\n",
              "                                       Lemmatization  \\\n",
              "0             word katandandre food crapilicious mkr   \n",
              "1  aussietv white mkr theblock today sunrise stud...   \n",
              "2                    classy whore red velvet cupcake   \n",
              "3  meh p thanks head concerned another angry dude...   \n",
              "4  isi account pretending kurdish account like is...   \n",
              "\n",
              "                                      Lemma_Stemming  \n",
              "0                 word katandandr food crapilici mkr  \n",
              "1  aussietv white mkr theblock today sunris studi...  \n",
              "2                     classi whore red velvet cupcak  \n",
              "3  meh p thank head concern anoth angri dude twitter  \n",
              "4  isi account pretend kurdish account like islam...  "
            ],
            "text/html": [
              "\n",
              "  <div id=\"df-3f09a92e-511e-4077-9721-cdd00decf901\">\n",
              "    <div class=\"colab-df-container\">\n",
              "      <div>\n",
              "<style scoped>\n",
              "    .dataframe tbody tr th:only-of-type {\n",
              "        vertical-align: middle;\n",
              "    }\n",
              "\n",
              "    .dataframe tbody tr th {\n",
              "        vertical-align: top;\n",
              "    }\n",
              "\n",
              "    .dataframe thead th {\n",
              "        text-align: right;\n",
              "    }\n",
              "</style>\n",
              "<table border=\"1\" class=\"dataframe\">\n",
              "  <thead>\n",
              "    <tr style=\"text-align: right;\">\n",
              "      <th></th>\n",
              "      <th>Basic clean</th>\n",
              "      <th>sentiment</th>\n",
              "      <th>tweet_length</th>\n",
              "      <th>Stemming</th>\n",
              "      <th>Lemmatization</th>\n",
              "      <th>Lemma_Stemming</th>\n",
              "    </tr>\n",
              "  </thead>\n",
              "  <tbody>\n",
              "    <tr>\n",
              "      <th>0</th>\n",
              "      <td>words katandandre food crapilicious mkr</td>\n",
              "      <td>not_cyberbullying</td>\n",
              "      <td>5</td>\n",
              "      <td>word katandandr food crapilici mkr</td>\n",
              "      <td>word katandandre food crapilicious mkr</td>\n",
              "      <td>word katandandr food crapilici mkr</td>\n",
              "    </tr>\n",
              "    <tr>\n",
              "      <th>1</th>\n",
              "      <td>aussietv white mkr theblock today sunrise stud...</td>\n",
              "      <td>not_cyberbullying</td>\n",
              "      <td>10</td>\n",
              "      <td>aussietv white mkr theblock today sunris studi...</td>\n",
              "      <td>aussietv white mkr theblock today sunrise stud...</td>\n",
              "      <td>aussietv white mkr theblock today sunris studi...</td>\n",
              "    </tr>\n",
              "    <tr>\n",
              "      <th>2</th>\n",
              "      <td>classy whore red velvet cupcakes</td>\n",
              "      <td>not_cyberbullying</td>\n",
              "      <td>5</td>\n",
              "      <td>classi whore red velvet cupcak</td>\n",
              "      <td>classy whore red velvet cupcake</td>\n",
              "      <td>classi whore red velvet cupcak</td>\n",
              "    </tr>\n",
              "    <tr>\n",
              "      <th>3</th>\n",
              "      <td>meh p thanks heads concerned another angry dud...</td>\n",
              "      <td>not_cyberbullying</td>\n",
              "      <td>9</td>\n",
              "      <td>meh p thank head concern anoth angri dude twitter</td>\n",
              "      <td>meh p thanks head concerned another angry dude...</td>\n",
              "      <td>meh p thank head concern anoth angri dude twitter</td>\n",
              "    </tr>\n",
              "    <tr>\n",
              "      <th>4</th>\n",
              "      <td>isis account pretending kurdish account like i...</td>\n",
              "      <td>not_cyberbullying</td>\n",
              "      <td>8</td>\n",
              "      <td>isi account pretend kurdish account like islam...</td>\n",
              "      <td>isi account pretending kurdish account like is...</td>\n",
              "      <td>isi account pretend kurdish account like islam...</td>\n",
              "    </tr>\n",
              "  </tbody>\n",
              "</table>\n",
              "</div>\n",
              "      <button class=\"colab-df-convert\" onclick=\"convertToInteractive('df-3f09a92e-511e-4077-9721-cdd00decf901')\"\n",
              "              title=\"Convert this dataframe to an interactive table.\"\n",
              "              style=\"display:none;\">\n",
              "        \n",
              "  <svg xmlns=\"http://www.w3.org/2000/svg\" height=\"24px\"viewBox=\"0 0 24 24\"\n",
              "       width=\"24px\">\n",
              "    <path d=\"M0 0h24v24H0V0z\" fill=\"none\"/>\n",
              "    <path d=\"M18.56 5.44l.94 2.06.94-2.06 2.06-.94-2.06-.94-.94-2.06-.94 2.06-2.06.94zm-11 1L8.5 8.5l.94-2.06 2.06-.94-2.06-.94L8.5 2.5l-.94 2.06-2.06.94zm10 10l.94 2.06.94-2.06 2.06-.94-2.06-.94-.94-2.06-.94 2.06-2.06.94z\"/><path d=\"M17.41 7.96l-1.37-1.37c-.4-.4-.92-.59-1.43-.59-.52 0-1.04.2-1.43.59L10.3 9.45l-7.72 7.72c-.78.78-.78 2.05 0 2.83L4 21.41c.39.39.9.59 1.41.59.51 0 1.02-.2 1.41-.59l7.78-7.78 2.81-2.81c.8-.78.8-2.07 0-2.86zM5.41 20L4 18.59l7.72-7.72 1.47 1.35L5.41 20z\"/>\n",
              "  </svg>\n",
              "      </button>\n",
              "      \n",
              "  <style>\n",
              "    .colab-df-container {\n",
              "      display:flex;\n",
              "      flex-wrap:wrap;\n",
              "      gap: 12px;\n",
              "    }\n",
              "\n",
              "    .colab-df-convert {\n",
              "      background-color: #E8F0FE;\n",
              "      border: none;\n",
              "      border-radius: 50%;\n",
              "      cursor: pointer;\n",
              "      display: none;\n",
              "      fill: #1967D2;\n",
              "      height: 32px;\n",
              "      padding: 0 0 0 0;\n",
              "      width: 32px;\n",
              "    }\n",
              "\n",
              "    .colab-df-convert:hover {\n",
              "      background-color: #E2EBFA;\n",
              "      box-shadow: 0px 1px 2px rgba(60, 64, 67, 0.3), 0px 1px 3px 1px rgba(60, 64, 67, 0.15);\n",
              "      fill: #174EA6;\n",
              "    }\n",
              "\n",
              "    [theme=dark] .colab-df-convert {\n",
              "      background-color: #3B4455;\n",
              "      fill: #D2E3FC;\n",
              "    }\n",
              "\n",
              "    [theme=dark] .colab-df-convert:hover {\n",
              "      background-color: #434B5C;\n",
              "      box-shadow: 0px 1px 3px 1px rgba(0, 0, 0, 0.15);\n",
              "      filter: drop-shadow(0px 1px 2px rgba(0, 0, 0, 0.3));\n",
              "      fill: #FFFFFF;\n",
              "    }\n",
              "  </style>\n",
              "\n",
              "      <script>\n",
              "        const buttonEl =\n",
              "          document.querySelector('#df-3f09a92e-511e-4077-9721-cdd00decf901 button.colab-df-convert');\n",
              "        buttonEl.style.display =\n",
              "          google.colab.kernel.accessAllowed ? 'block' : 'none';\n",
              "\n",
              "        async function convertToInteractive(key) {\n",
              "          const element = document.querySelector('#df-3f09a92e-511e-4077-9721-cdd00decf901');\n",
              "          const dataTable =\n",
              "            await google.colab.kernel.invokeFunction('convertToInteractive',\n",
              "                                                     [key], {});\n",
              "          if (!dataTable) return;\n",
              "\n",
              "          const docLinkHtml = 'Like what you see? Visit the ' +\n",
              "            '<a target=\"_blank\" href=https://colab.research.google.com/notebooks/data_table.ipynb>data table notebook</a>'\n",
              "            + ' to learn more about interactive tables.';\n",
              "          element.innerHTML = '';\n",
              "          dataTable['output_type'] = 'display_data';\n",
              "          await google.colab.output.renderOutput(dataTable, element);\n",
              "          const docLink = document.createElement('div');\n",
              "          docLink.innerHTML = docLinkHtml;\n",
              "          element.appendChild(docLink);\n",
              "        }\n",
              "      </script>\n",
              "    </div>\n",
              "  </div>\n",
              "  "
            ]
          },
          "metadata": {},
          "execution_count": 101
        }
      ]
    },
    {
      "cell_type": "markdown",
      "source": [
        "Encoding the sentiment column."
      ],
      "metadata": {
        "id": "c9H2qB3-bS3u"
      }
    },
    {
      "cell_type": "code",
      "source": [
        "basic_clean_df['sentiment'] = basic_clean_df['sentiment'].replace({'religion':0,'age':1,'ethnicity':2,'gender':3,'not_cyberbullying':4})"
      ],
      "metadata": {
        "id": "rdLsARD4bSSt"
      },
      "execution_count": null,
      "outputs": []
    },
    {
      "cell_type": "markdown",
      "source": [
        "Word Cloud for religion sentiment"
      ],
      "metadata": {
        "id": "YMUIoubmDyTq"
      }
    },
    {
      "cell_type": "code",
      "source": [
        "import matplotlib.pyplot as plt\n",
        "from wordcloud import WordCloud\n",
        "\n",
        "text = basic_clean_df[basic_clean_df['sentiment']==0]['Stemming'].values\n",
        "wordCloud = WordCloud().generate(str(text))\n",
        "plt.imshow(wordCloud)\n",
        "plt.savefig('religion.png')"
      ],
      "metadata": {
        "id": "2yc52qnNAdXu",
        "outputId": "702edf8d-77e0-442c-f3ea-36bc50f42ab6",
        "colab": {
          "base_uri": "https://localhost:8080/",
          "height": 219
        }
      },
      "execution_count": null,
      "outputs": [
        {
          "output_type": "display_data",
          "data": {
            "text/plain": [
              "<Figure size 432x288 with 1 Axes>"
            ],
            "image/png": "[encoded data removed]"
          },
          "metadata": {
            "needs_background": "light"
          }
        }
      ]
    },
    {
      "cell_type": "markdown",
      "source": [
        "Word Cloud for age sentiment"
      ],
      "metadata": {
        "id": "LSIIqHO7D9s-"
      }
    },
    {
      "cell_type": "code",
      "source": [
        "text = basic_clean_df[basic_clean_df['sentiment']==1]['Stemming'].values\n",
        "wordCloud = WordCloud().generate(str(text))\n",
        "plt.imshow(wordCloud)\n",
        "plt.savefig('age.png')"
      ],
      "metadata": {
        "id": "TIWA1Y2ZD3w9",
        "outputId": "e2a59c44-d2c9-4092-e48a-e70a232cdd4a",
        "colab": {
          "base_uri": "https://localhost:8080/",
          "height": 219
        }
      },
      "execution_count": null,
      "outputs": [
        {
          "output_type": "display_data",
          "data": {
            "text/plain": [
              "<Figure size 432x288 with 1 Axes>"
            ],
            "image/png": "[encoded data removed]"
          },
          "metadata": {
            "needs_background": "light"
          }
        }
      ]
    },
    {
      "cell_type": "markdown",
      "source": [
        "Word Cloud for ethnicity sentiment"
      ],
      "metadata": {
        "id": "vTDgbE_2ECaO"
      }
    },
    {
      "cell_type": "code",
      "source": [
        "text = basic_clean_df[basic_clean_df['sentiment']==2]['Stemming'].values\n",
        "wordCloud = WordCloud().generate(str(text))\n",
        "plt.imshow(wordCloud)\n",
        "plt.savefig('ethnicity.png')"
      ],
      "metadata": {
        "id": "ch5ss5GFEIHy",
        "outputId": "7758932f-d127-402f-c5b3-71641ead45ec",
        "colab": {
          "base_uri": "https://localhost:8080/",
          "height": 219
        }
      },
      "execution_count": null,
      "outputs": [
        {
          "output_type": "display_data",
          "data": {
            "text/plain": [
              "<Figure size 432x288 with 1 Axes>"
            ],
            "image/png": "[encoded data removed]"
          },
          "metadata": {
            "needs_background": "light"
          }
        }
      ]
    },
    {
      "cell_type": "markdown",
      "source": [
        "Word Cloud for not_cyberbullying sentiment"
      ],
      "metadata": {
        "id": "OG18xAVLEOuu"
      }
    },
    {
      "cell_type": "code",
      "source": [
        "text = basic_clean_df[basic_clean_df['sentiment']==3]['Stemming'].values\n",
        "wordCloud = WordCloud().generate(str(text))\n",
        "plt.imshow(wordCloud)\n",
        "plt.savefig('not_cyberbullying.png')"
      ],
      "metadata": {
        "id": "WrovFpxvEUkg",
        "outputId": "90fba3ab-1387-4018-aff3-9408d0596999",
        "colab": {
          "base_uri": "https://localhost:8080/",
          "height": 219
        }
      },
      "execution_count": null,
      "outputs": [
        {
          "output_type": "display_data",
          "data": {
            "text/plain": [
              "<Figure size 432x288 with 1 Axes>"
            ],
            "image/png": "[encoded data removed]"
          },
          "metadata": {
            "needs_background": "light"
          }
        }
      ]
    },
    {
      "cell_type": "markdown",
      "source": [
        "Word Cloud for gender sentiment"
      ],
      "metadata": {
        "id": "FvZNYuhpEiYv"
      }
    },
    {
      "cell_type": "code",
      "source": [
        "text = basic_clean_df[basic_clean_df['sentiment']==4]['Stemming'].values\n",
        "wordCloud = WordCloud().generate(str(text))\n",
        "plt.imshow(wordCloud)\n",
        "plt.savefig('gender.png')"
      ],
      "metadata": {
        "id": "z0HSEqdvEn4o",
        "outputId": "6d9aef84-fb92-49c8-806c-6f0481453271",
        "colab": {
          "base_uri": "https://localhost:8080/",
          "height": 219
        }
      },
      "execution_count": null,
      "outputs": [
        {
          "output_type": "display_data",
          "data": {
            "text/plain": [
              "<Figure size 432x288 with 1 Axes>"
            ],
            "image/png": "[encoded data removed]"
          },
          "metadata": {
            "needs_background": "light"
          }
        }
      ]
    },
    {
      "cell_type": "markdown",
      "source": [
        "## Proceeding towards Word embeddings"
      ],
      "metadata": {
        "id": "Vy3x4BjSdT4l"
      }
    },
    {
      "cell_type": "markdown",
      "source": [
        "For further processing, we will convert our results of - \n",
        "\n",
        "*   Stemming\n",
        "*   Lemmatization\n",
        "*   Lemmatization followed by stemming\n",
        "\n",
        "to vectors.\n",
        "To achieve this, we will be using following word-embeddings -\n",
        "\n",
        "\n",
        "1.   Bag of words\n",
        "2.   Tf-idf (Term Frequency-Inverse Document Frequency)\n",
        "3.   GloVe word embedding\n",
        "4.   Word2vec embedding\n",
        "\n",
        "\n",
        "Before going for these, lets first split the dataset in training and testing.\n"
      ],
      "metadata": {
        "id": "KeVgwA8Ydivp"
      }
    },
    {
      "cell_type": "markdown",
      "source": [
        "importing libraries"
      ],
      "metadata": {
        "id": "q9_NEH3fepnc"
      }
    },
    {
      "cell_type": "code",
      "source": [
        "from sklearn.model_selection import train_test_split"
      ],
      "metadata": {
        "id": "XwSyuVhveniE"
      },
      "execution_count": null,
      "outputs": []
    },
    {
      "cell_type": "code",
      "source": [
        "basic_clean_df['sentiment'].value_counts()"
      ],
      "metadata": {
        "colab": {
          "base_uri": "https://localhost:8080/"
        },
        "id": "XuXppoZ0dLj-",
        "outputId": "721c34d5-330f-4a26-f40e-b89e694e5e31"
      },
      "execution_count": null,
      "outputs": [
        {
          "output_type": "execute_result",
          "data": {
            "text/plain": [
              "0    7948\n",
              "1    7897\n",
              "2    7748\n",
              "4    7645\n",
              "3    7613\n",
              "Name: sentiment, dtype: int64"
            ]
          },
          "metadata": {},
          "execution_count": 109
        }
      ]
    },
    {
      "cell_type": "markdown",
      "source": [
        "Train/test split"
      ],
      "metadata": {
        "id": "NkLD2rB5dWK0"
      }
    },
    {
      "cell_type": "code",
      "source": [
        "# For X - dropping sentiment column \n",
        "X = basic_clean_df.drop(columns='sentiment');\n",
        "# y = sentiments\n",
        "y = basic_clean_df['sentiment']\n",
        "# Splitting 20% test and 80% train\n",
        "X_train,X_test,y_train,y_test = train_test_split(X, y, test_size=0.2, stratify=y, random_state = 42);\n",
        "print(X_train.shape, X_test.shape, y_train.shape, y_test.shape);"
      ],
      "metadata": {
        "colab": {
          "base_uri": "https://localhost:8080/"
        },
        "id": "03hUKLEvbLKd",
        "outputId": "e205f2ce-b9af-4e9c-8818-1cf7530c55bb"
      },
      "execution_count": null,
      "outputs": [
        {
          "output_type": "stream",
          "name": "stdout",
          "text": [
            "(31080, 5) (7771, 5) (31080,) (7771,)\n"
          ]
        }
      ]
    },
    {
      "cell_type": "markdown",
      "source": [
        "Defining different varaiables for Stemming,lemmatization and lemma_stem\n"
      ],
      "metadata": {
        "id": "nH9sR31jtSe_"
      }
    },
    {
      "cell_type": "code",
      "source": [
        "# For training -\n",
        "X_stem_train = X_train['Stemming']\n",
        "X_lemma_train = X_train['Lemmatization']\n",
        "X_lemmaStem_train = X_train['Lemma_Stemming']\n",
        "\n",
        "# For testing -\n",
        "X_stem_test = X_test['Stemming']\n",
        "X_lemma_test = X_test['Lemmatization']\n",
        "X_lemmaStem_test = X_test['Lemma_Stemming']\n",
        "\n",
        "print(X_stem_train.shape,X_lemma_train.shape,X_lemmaStem_train.shape)\n",
        "print(X_stem_test.shape,X_lemma_test.shape,X_lemmaStem_test.shape)"
      ],
      "metadata": {
        "colab": {
          "base_uri": "https://localhost:8080/"
        },
        "id": "OoGRKtZHtw7x",
        "outputId": "6aedffcd-ffee-43f8-a552-4363f2160536"
      },
      "execution_count": null,
      "outputs": [
        {
          "output_type": "stream",
          "name": "stdout",
          "text": [
            "(31080,) (31080,) (31080,)\n",
            "(7771,) (7771,) (7771,)\n"
          ]
        }
      ]
    },
    {
      "cell_type": "markdown",
      "source": [
        "Now, we will use above vairables for different embedings."
      ],
      "metadata": {
        "id": "YvQNE57yuevn"
      }
    },
    {
      "cell_type": "markdown",
      "source": [
        "### Bag of words"
      ],
      "metadata": {
        "id": "6-WZIFUJfBWa"
      }
    },
    {
      "cell_type": "markdown",
      "source": [
        "importing CountVectorizer"
      ],
      "metadata": {
        "id": "AkyzFCYAgHbf"
      }
    },
    {
      "cell_type": "code",
      "source": [
        "from sklearn.feature_extraction.text import CountVectorizer"
      ],
      "metadata": {
        "id": "7Fv6MMUTgGiv"
      },
      "execution_count": null,
      "outputs": []
    },
    {
      "cell_type": "markdown",
      "source": [
        "Creating objects of CountVectorizer"
      ],
      "metadata": {
        "id": "_q0oM582vBgp"
      }
    },
    {
      "cell_type": "code",
      "source": [
        "bow1 = CountVectorizer();\n",
        "bow2 = CountVectorizer();\n",
        "bow3 = CountVectorizer();\n",
        "# for stemming\n",
        "bow_cv1 = bow1.fit_transform(X_stem_train);\n",
        "# for lemmatization\n",
        "bow_cv2 = bow2.fit_transform(X_lemma_train);\n",
        "# for lemma-stemming\n",
        "bow_cv3 = bow3.fit_transform(X_lemmaStem_train);\n",
        "\n",
        "print(bow_cv1.shape);\n",
        "print(bow_cv2.shape);\n",
        "print(bow_cv3.shape);"
      ],
      "metadata": {
        "id": "g8y5bWgGfQyR",
        "colab": {
          "base_uri": "https://localhost:8080/"
        },
        "outputId": "149ba7cd-8c41-4e22-e7c9-c80b4560c954"
      },
      "execution_count": null,
      "outputs": [
        {
          "output_type": "stream",
          "name": "stdout",
          "text": [
            "(31080, 29153)\n",
            "(31080, 34843)\n",
            "(31080, 28992)\n"
          ]
        }
      ]
    },
    {
      "cell_type": "markdown",
      "source": [
        "### Tf-idf (Term Frequency-Inverse Document Frequency)"
      ],
      "metadata": {
        "id": "BaEUGpJPfF1K"
      }
    },
    {
      "cell_type": "markdown",
      "source": [
        "importing TfidfTransformer"
      ],
      "metadata": {
        "id": "hiaHOCPexV4v"
      }
    },
    {
      "cell_type": "code",
      "source": [
        "from sklearn.feature_extraction.text import TfidfTransformer"
      ],
      "metadata": {
        "id": "yV69lxLSdh7K"
      },
      "execution_count": null,
      "outputs": []
    },
    {
      "cell_type": "markdown",
      "source": [
        "Creating objects of TfidfTransformer"
      ],
      "metadata": {
        "id": "lIpw0Kajxt8_"
      }
    },
    {
      "cell_type": "code",
      "source": [
        "tfid1 = TfidfTransformer(use_idf=True).fit(bow_cv1)\n",
        "tfid2 = TfidfTransformer(use_idf=True).fit(bow_cv2)\n",
        "tfid3 = TfidfTransformer(use_idf=True).fit(bow_cv3)\n",
        "# for stemming\n",
        "tf_cv1 = tfid1.transform(bow_cv1);\n",
        "# for lemmatization\n",
        "tf_cv2 = tfid2.transform(bow_cv2);\n",
        "# for lemma-stemming\n",
        "tf_cv3 = tfid3.transform(bow_cv3);\n",
        "\n",
        "print(tf_cv1.shape);\n",
        "print(tf_cv2.shape);\n",
        "print(tf_cv3.shape);"
      ],
      "metadata": {
        "id": "D7uEUDGIx6ES",
        "colab": {
          "base_uri": "https://localhost:8080/"
        },
        "outputId": "7368d918-ef4f-47c9-ea23-eaf207717338"
      },
      "execution_count": null,
      "outputs": [
        {
          "output_type": "stream",
          "name": "stdout",
          "text": [
            "(31080, 29153)\n",
            "(31080, 34843)\n",
            "(31080, 28992)\n"
          ]
        }
      ]
    },
    {
      "cell_type": "markdown",
      "source": [
        "### GloVe (Global Vectors) Word Embedding"
      ],
      "metadata": {
        "id": "mAtChbWFNQ3-"
      }
    },
    {
      "cell_type": "markdown",
      "source": [
        "Downloading glove python library"
      ],
      "metadata": {
        "id": "zY3w3NPSP4qC"
      }
    },
    {
      "cell_type": "code",
      "source": [
        "! pip install glove-python-binary"
      ],
      "metadata": {
        "id": "ouIy51pgNv5u",
        "outputId": "e10a1455-b5d1-4b95-b640-6f8e9582dcda",
        "colab": {
          "base_uri": "https://localhost:8080/"
        }
      },
      "execution_count": null,
      "outputs": [
        {
          "output_type": "stream",
          "name": "stdout",
          "text": [
            "Requirement already satisfied: glove-python-binary in /usr/local/lib/python3.7/dist-packages (0.2.0)\n",
            "Requirement already satisfied: scipy in /usr/local/lib/python3.7/dist-packages (from glove-python-binary) (1.4.1)\n",
            "Requirement already satisfied: numpy in /usr/local/lib/python3.7/dist-packages (from glove-python-binary) (1.21.5)\n"
          ]
        }
      ]
    },
    {
      "cell_type": "markdown",
      "source": [
        "Creating two lists- tweet_text and tweet_sentiment to store stemmed tweets and its corresponding sentiment so that we can train glove embeddings."
      ],
      "metadata": {
        "id": "V5F3Q2YQRn2n"
      }
    },
    {
      "cell_type": "code",
      "source": [
        "size = len(basic_clean_df)\n",
        "tweet_text = []\n",
        "tweet_sentiment = []\n",
        "for key, value in basic_clean_df.iterrows():\n",
        "  tweet = value['Stemming'].split()\n",
        "  tweet_text.append(tweet)\n",
        "  tweet_sentiment.append(value['sentiment'])"
      ],
      "metadata": {
        "id": "pLXw_koKQFvf"
      },
      "execution_count": null,
      "outputs": []
    },
    {
      "cell_type": "markdown",
      "source": [
        "Now training glove to create embeddings"
      ],
      "metadata": {
        "id": "QDukWrtuSnCt"
      }
    },
    {
      "cell_type": "code",
      "source": [
        "from glove import Corpus, Glove\n",
        "\n",
        "corpus = Corpus()  # Creating a corpus object that will generate the co-occurence matrix\n",
        "corpus.fit(tweet_text, window = 10)  # Training the corpus to generate the co-occurence matrix that will be used by GloVe\n",
        "glove = Glove(no_components=5, learning_rate=0.05)  # Creating a glove object that will use the matrix created above to create embeddings\n",
        "glove.fit(corpus.matrix, epochs=30, no_threads=4, verbose=True)  # Training glove to create embeddings\n",
        "glove.add_dictionary(corpus.dictionary)  # Adding corpus dictionary to glove dictionary\n",
        "glove.save('glove.model')  # Saving the model"
      ],
      "metadata": {
        "id": "7pdapjaMSWGG",
        "outputId": "feea0e3c-d389-4774-b2c6-2c5621860caa",
        "colab": {
          "base_uri": "https://localhost:8080/"
        }
      },
      "execution_count": null,
      "outputs": [
        {
          "output_type": "stream",
          "name": "stdout",
          "text": [
            "Performing 30 training epochs with 4 threads\n",
            "Epoch 0\n",
            "Epoch 1\n",
            "Epoch 2\n",
            "Epoch 3\n",
            "Epoch 4\n",
            "Epoch 5\n",
            "Epoch 6\n",
            "Epoch 7\n",
            "Epoch 8\n",
            "Epoch 9\n",
            "Epoch 10\n",
            "Epoch 11\n",
            "Epoch 12\n",
            "Epoch 13\n",
            "Epoch 14\n",
            "Epoch 15\n",
            "Epoch 16\n",
            "Epoch 17\n",
            "Epoch 18\n",
            "Epoch 19\n",
            "Epoch 20\n",
            "Epoch 21\n",
            "Epoch 22\n",
            "Epoch 23\n",
            "Epoch 24\n",
            "Epoch 25\n",
            "Epoch 26\n",
            "Epoch 27\n",
            "Epoch 28\n",
            "Epoch 29\n"
          ]
        }
      ]
    },
    {
      "cell_type": "markdown",
      "source": [
        "Iterating over stemmed tweets and storing the word embeddings in a list"
      ],
      "metadata": {
        "id": "VJ5ExAOLVQgF"
      }
    },
    {
      "cell_type": "code",
      "source": [
        "word_embeddings = []\n",
        "for key, value in basic_clean_df.iterrows():\n",
        "  words = value['Stemming'].split()\n",
        "  embedding = np.zeros(5)\n",
        "  for j in range(len(words)):  # Iterating over all words in the tweet to calculate mean of GloVe embedding\n",
        "    embedding += np.array(glove.word_vectors[glove.dictionary[words[j]]])\n",
        "  embedding = embedding/len(words)\n",
        "  word_embeddings.append(embedding)"
      ],
      "metadata": {
        "id": "6hKsv5QEU9rV"
      },
      "execution_count": null,
      "outputs": []
    },
    {
      "cell_type": "markdown",
      "source": [
        "Creating a dataframe for word embeddings and their corresponding sentiment"
      ],
      "metadata": {
        "id": "lbgSXivQWTz7"
      }
    },
    {
      "cell_type": "code",
      "source": [
        "embeddings_df = pd.DataFrame(word_embeddings, columns = ['col1', 'col2', 'col3', 'col4', 'col5'])\n",
        "embeddings_df['sentiments'] = tweet_sentiment\n",
        "embeddings_df"
      ],
      "metadata": {
        "id": "PYUYwnsaWbz9",
        "outputId": "2de805ba-af2d-4ff7-a62b-71b1ff5f2029",
        "colab": {
          "base_uri": "https://localhost:8080/",
          "height": 424
        }
      },
      "execution_count": null,
      "outputs": [
        {
          "output_type": "execute_result",
          "data": {
            "text/plain": [
              "           col1      col2      col3      col4      col5  sentiments\n",
              "0      0.365425  0.241566  0.092106 -0.345797  0.445458           4\n",
              "1      0.205301 -0.011932  0.161172 -0.240590  0.261916           4\n",
              "2      0.045435 -0.111356  0.064533 -0.046264  0.090107           4\n",
              "3      0.278660 -0.041220  0.346165 -0.277259  0.366673           4\n",
              "4      0.333533 -0.428806  0.501494 -0.525258  0.416329           4\n",
              "...         ...       ...       ...       ...       ...         ...\n",
              "38846  0.239429 -0.069622  0.417037 -0.470721  0.294066           2\n",
              "38847  0.149773 -0.225681  0.318092 -0.336357  0.247892           2\n",
              "38848  0.569926 -0.303250  0.566251 -0.381092  0.521039           2\n",
              "38849  1.045677 -0.738033  0.924518 -0.517159  0.808626           2\n",
              "38850  0.724281 -0.430409  0.713154 -0.482129  0.680253           2\n",
              "\n",
              "[38851 rows x 6 columns]"
            ],
            "text/html": [
              "\n",
              "  <div id=\"df-71ef5219-3434-4cf8-b30f-93baefc7756f\">\n",
              "    <div class=\"colab-df-container\">\n",
              "      <div>\n",
              "<style scoped>\n",
              "    .dataframe tbody tr th:only-of-type {\n",
              "        vertical-align: middle;\n",
              "    }\n",
              "\n",
              "    .dataframe tbody tr th {\n",
              "        vertical-align: top;\n",
              "    }\n",
              "\n",
              "    .dataframe thead th {\n",
              "        text-align: right;\n",
              "    }\n",
              "</style>\n",
              "<table border=\"1\" class=\"dataframe\">\n",
              "  <thead>\n",
              "    <tr style=\"text-align: right;\">\n",
              "      <th></th>\n",
              "      <th>col1</th>\n",
              "      <th>col2</th>\n",
              "      <th>col3</th>\n",
              "      <th>col4</th>\n",
              "      <th>col5</th>\n",
              "      <th>sentiments</th>\n",
              "    </tr>\n",
              "  </thead>\n",
              "  <tbody>\n",
              "    <tr>\n",
              "      <th>0</th>\n",
              "      <td>0.365425</td>\n",
              "      <td>0.241566</td>\n",
              "      <td>0.092106</td>\n",
              "      <td>-0.345797</td>\n",
              "      <td>0.445458</td>\n",
              "      <td>4</td>\n",
              "    </tr>\n",
              "    <tr>\n",
              "      <th>1</th>\n",
              "      <td>0.205301</td>\n",
              "      <td>-0.011932</td>\n",
              "      <td>0.161172</td>\n",
              "      <td>-0.240590</td>\n",
              "      <td>0.261916</td>\n",
              "      <td>4</td>\n",
              "    </tr>\n",
              "    <tr>\n",
              "      <th>2</th>\n",
              "      <td>0.045435</td>\n",
              "      <td>-0.111356</td>\n",
              "      <td>0.064533</td>\n",
              "      <td>-0.046264</td>\n",
              "      <td>0.090107</td>\n",
              "      <td>4</td>\n",
              "    </tr>\n",
              "    <tr>\n",
              "      <th>3</th>\n",
              "      <td>0.278660</td>\n",
              "      <td>-0.041220</td>\n",
              "      <td>0.346165</td>\n",
              "      <td>-0.277259</td>\n",
              "      <td>0.366673</td>\n",
              "      <td>4</td>\n",
              "    </tr>\n",
              "    <tr>\n",
              "      <th>4</th>\n",
              "      <td>0.333533</td>\n",
              "      <td>-0.428806</td>\n",
              "      <td>0.501494</td>\n",
              "      <td>-0.525258</td>\n",
              "      <td>0.416329</td>\n",
              "      <td>4</td>\n",
              "    </tr>\n",
              "    <tr>\n",
              "      <th>...</th>\n",
              "      <td>...</td>\n",
              "      <td>...</td>\n",
              "      <td>...</td>\n",
              "      <td>...</td>\n",
              "      <td>...</td>\n",
              "      <td>...</td>\n",
              "    </tr>\n",
              "    <tr>\n",
              "      <th>38846</th>\n",
              "      <td>0.239429</td>\n",
              "      <td>-0.069622</td>\n",
              "      <td>0.417037</td>\n",
              "      <td>-0.470721</td>\n",
              "      <td>0.294066</td>\n",
              "      <td>2</td>\n",
              "    </tr>\n",
              "    <tr>\n",
              "      <th>38847</th>\n",
              "      <td>0.149773</td>\n",
              "      <td>-0.225681</td>\n",
              "      <td>0.318092</td>\n",
              "      <td>-0.336357</td>\n",
              "      <td>0.247892</td>\n",
              "      <td>2</td>\n",
              "    </tr>\n",
              "    <tr>\n",
              "      <th>38848</th>\n",
              "      <td>0.569926</td>\n",
              "      <td>-0.303250</td>\n",
              "      <td>0.566251</td>\n",
              "      <td>-0.381092</td>\n",
              "      <td>0.521039</td>\n",
              "      <td>2</td>\n",
              "    </tr>\n",
              "    <tr>\n",
              "      <th>38849</th>\n",
              "      <td>1.045677</td>\n",
              "      <td>-0.738033</td>\n",
              "      <td>0.924518</td>\n",
              "      <td>-0.517159</td>\n",
              "      <td>0.808626</td>\n",
              "      <td>2</td>\n",
              "    </tr>\n",
              "    <tr>\n",
              "      <th>38850</th>\n",
              "      <td>0.724281</td>\n",
              "      <td>-0.430409</td>\n",
              "      <td>0.713154</td>\n",
              "      <td>-0.482129</td>\n",
              "      <td>0.680253</td>\n",
              "      <td>2</td>\n",
              "    </tr>\n",
              "  </tbody>\n",
              "</table>\n",
              "<p>38851 rows × 6 columns</p>\n",
              "</div>\n",
              "      <button class=\"colab-df-convert\" onclick=\"convertToInteractive('df-71ef5219-3434-4cf8-b30f-93baefc7756f')\"\n",
              "              title=\"Convert this dataframe to an interactive table.\"\n",
              "              style=\"display:none;\">\n",
              "        \n",
              "  <svg xmlns=\"http://www.w3.org/2000/svg\" height=\"24px\"viewBox=\"0 0 24 24\"\n",
              "       width=\"24px\">\n",
              "    <path d=\"M0 0h24v24H0V0z\" fill=\"none\"/>\n",
              "    <path d=\"M18.56 5.44l.94 2.06.94-2.06 2.06-.94-2.06-.94-.94-2.06-.94 2.06-2.06.94zm-11 1L8.5 8.5l.94-2.06 2.06-.94-2.06-.94L8.5 2.5l-.94 2.06-2.06.94zm10 10l.94 2.06.94-2.06 2.06-.94-2.06-.94-.94-2.06-.94 2.06-2.06.94z\"/><path d=\"M17.41 7.96l-1.37-1.37c-.4-.4-.92-.59-1.43-.59-.52 0-1.04.2-1.43.59L10.3 9.45l-7.72 7.72c-.78.78-.78 2.05 0 2.83L4 21.41c.39.39.9.59 1.41.59.51 0 1.02-.2 1.41-.59l7.78-7.78 2.81-2.81c.8-.78.8-2.07 0-2.86zM5.41 20L4 18.59l7.72-7.72 1.47 1.35L5.41 20z\"/>\n",
              "  </svg>\n",
              "      </button>\n",
              "      \n",
              "  <style>\n",
              "    .colab-df-container {\n",
              "      display:flex;\n",
              "      flex-wrap:wrap;\n",
              "      gap: 12px;\n",
              "    }\n",
              "\n",
              "    .colab-df-convert {\n",
              "      background-color: #E8F0FE;\n",
              "      border: none;\n",
              "      border-radius: 50%;\n",
              "      cursor: pointer;\n",
              "      display: none;\n",
              "      fill: #1967D2;\n",
              "      height: 32px;\n",
              "      padding: 0 0 0 0;\n",
              "      width: 32px;\n",
              "    }\n",
              "\n",
              "    .colab-df-convert:hover {\n",
              "      background-color: #E2EBFA;\n",
              "      box-shadow: 0px 1px 2px rgba(60, 64, 67, 0.3), 0px 1px 3px 1px rgba(60, 64, 67, 0.15);\n",
              "      fill: #174EA6;\n",
              "    }\n",
              "\n",
              "    [theme=dark] .colab-df-convert {\n",
              "      background-color: #3B4455;\n",
              "      fill: #D2E3FC;\n",
              "    }\n",
              "\n",
              "    [theme=dark] .colab-df-convert:hover {\n",
              "      background-color: #434B5C;\n",
              "      box-shadow: 0px 1px 3px 1px rgba(0, 0, 0, 0.15);\n",
              "      filter: drop-shadow(0px 1px 2px rgba(0, 0, 0, 0.3));\n",
              "      fill: #FFFFFF;\n",
              "    }\n",
              "  </style>\n",
              "\n",
              "      <script>\n",
              "        const buttonEl =\n",
              "          document.querySelector('#df-71ef5219-3434-4cf8-b30f-93baefc7756f button.colab-df-convert');\n",
              "        buttonEl.style.display =\n",
              "          google.colab.kernel.accessAllowed ? 'block' : 'none';\n",
              "\n",
              "        async function convertToInteractive(key) {\n",
              "          const element = document.querySelector('#df-71ef5219-3434-4cf8-b30f-93baefc7756f');\n",
              "          const dataTable =\n",
              "            await google.colab.kernel.invokeFunction('convertToInteractive',\n",
              "                                                     [key], {});\n",
              "          if (!dataTable) return;\n",
              "\n",
              "          const docLinkHtml = 'Like what you see? Visit the ' +\n",
              "            '<a target=\"_blank\" href=https://colab.research.google.com/notebooks/data_table.ipynb>data table notebook</a>'\n",
              "            + ' to learn more about interactive tables.';\n",
              "          element.innerHTML = '';\n",
              "          dataTable['output_type'] = 'display_data';\n",
              "          await google.colab.output.renderOutput(dataTable, element);\n",
              "          const docLink = document.createElement('div');\n",
              "          docLink.innerHTML = docLinkHtml;\n",
              "          element.appendChild(docLink);\n",
              "        }\n",
              "      </script>\n",
              "    </div>\n",
              "  </div>\n",
              "  "
            ]
          },
          "metadata": {},
          "execution_count": 120
        }
      ]
    },
    {
      "cell_type": "markdown",
      "source": [
        "# Baseline technique - Naive Bayes"
      ],
      "metadata": {
        "id": "mMOo_42f78PK"
      }
    },
    {
      "cell_type": "markdown",
      "source": [
        "## Training Multinomial Naive Bayes using Bag of words and Tf-idf Embedding"
      ],
      "metadata": {
        "id": "cLG86h5arDuA"
      }
    },
    {
      "cell_type": "markdown",
      "source": [
        "Importing multinomial naive bayes"
      ],
      "metadata": {
        "id": "WB0YkX3y8R_b"
      }
    },
    {
      "cell_type": "code",
      "source": [
        "from sklearn.naive_bayes import MultinomialNB,GaussianNB"
      ],
      "metadata": {
        "id": "HbG47j9K8syz"
      },
      "execution_count": null,
      "outputs": []
    },
    {
      "cell_type": "markdown",
      "source": [
        "Importing evaluation metrics"
      ],
      "metadata": {
        "id": "nYAbIyWZEvVt"
      }
    },
    {
      "cell_type": "code",
      "source": [
        "from sklearn.metrics import classification_report,accuracy_score\n"
      ],
      "metadata": {
        "id": "sIe8QBYNBfhq"
      },
      "execution_count": null,
      "outputs": []
    },
    {
      "cell_type": "markdown",
      "source": [
        "k fold cross validation (k=5)"
      ],
      "metadata": {
        "id": "SzFNNQ6vBFPs"
      }
    },
    {
      "cell_type": "code",
      "source": [
        "from sklearn.model_selection import KFold"
      ],
      "metadata": {
        "id": "xeZ4EssuUz5M"
      },
      "execution_count": null,
      "outputs": []
    },
    {
      "cell_type": "markdown",
      "source": [
        "For bag of words\n"
      ],
      "metadata": {
        "id": "R4dJcHgoV9yT"
      }
    },
    {
      "cell_type": "code",
      "source": [
        "y_train = np.array(y_train)\n",
        "model = 1\n",
        "accuracy_val = 0\n",
        "accuracy_train = 0\n",
        "kf = KFold(n_splits = 5)\n",
        "for train_index, val_index in kf.split(bow_cv1):\n",
        "  X_KFold_train, X_KFold_val = bow_cv1[train_index], bow_cv1[val_index]\n",
        "  Y_KFold_train, Y_KFold_val = y_train[train_index], y_train[val_index]\n",
        "  mnb = MultinomialNB()\n",
        "  mnb.fit(X_KFold_train, Y_KFold_train)\n",
        "  Y_pred = mnb.predict(X_KFold_val)\n",
        "  YY_pred = mnb.predict(X_KFold_train)\n",
        "  print(\"Classification report for K-Fold model \"+str(model))\n",
        "  print(\"For validation set -\")\n",
        "  print(classification_report(Y_KFold_val, Y_pred))\n",
        "  print(\"For training set -\")\n",
        "  accuracy_val += accuracy_score(Y_KFold_val, Y_pred)\n",
        "  print(classification_report(Y_KFold_train, YY_pred))\n",
        "  accuracy_train += accuracy_score(Y_KFold_train, YY_pred)\n",
        "  model += 1"
      ],
      "metadata": {
        "colab": {
          "base_uri": "https://localhost:8080/"
        },
        "id": "hGqiJAiBU5Q0",
        "outputId": "7458bd07-9395-4f5d-b9c6-a8f4da457def"
      },
      "execution_count": null,
      "outputs": [
        {
          "output_type": "stream",
          "name": "stdout",
          "text": [
            "Classification report for K-Fold model 1\n",
            "For validation set -\n",
            "              precision    recall  f1-score   support\n",
            "\n",
            "           0       0.83      0.97      0.90      1241\n",
            "           1       0.78      0.99      0.87      1221\n",
            "           2       0.89      0.95      0.92      1266\n",
            "           3       0.88      0.82      0.85      1252\n",
            "           4       0.84      0.48      0.61      1236\n",
            "\n",
            "    accuracy                           0.84      6216\n",
            "   macro avg       0.85      0.84      0.83      6216\n",
            "weighted avg       0.85      0.84      0.83      6216\n",
            "\n",
            "For training set -\n",
            "              precision    recall  f1-score   support\n",
            "\n",
            "           0       0.88      0.99      0.93      5117\n",
            "           1       0.84      0.99      0.91      5097\n",
            "           2       0.92      0.98      0.95      4932\n",
            "           3       0.92      0.88      0.90      4838\n",
            "           4       0.90      0.61      0.73      4880\n",
            "\n",
            "    accuracy                           0.89     24864\n",
            "   macro avg       0.89      0.89      0.88     24864\n",
            "weighted avg       0.89      0.89      0.88     24864\n",
            "\n",
            "Classification report for K-Fold model 2\n",
            "For validation set -\n",
            "              precision    recall  f1-score   support\n",
            "\n",
            "           0       0.84      0.98      0.90      1311\n",
            "           1       0.81      0.99      0.89      1306\n",
            "           2       0.88      0.95      0.92      1173\n",
            "           3       0.88      0.82      0.85      1211\n",
            "           4       0.84      0.48      0.61      1215\n",
            "\n",
            "    accuracy                           0.85      6216\n",
            "   macro avg       0.85      0.84      0.83      6216\n",
            "weighted avg       0.85      0.85      0.83      6216\n",
            "\n",
            "For training set -\n",
            "              precision    recall  f1-score   support\n",
            "\n",
            "           0       0.88      0.98      0.93      5047\n",
            "           1       0.85      0.99      0.91      5012\n",
            "           2       0.92      0.98      0.95      5025\n",
            "           3       0.93      0.88      0.90      4879\n",
            "           4       0.90      0.62      0.73      4901\n",
            "\n",
            "    accuracy                           0.89     24864\n",
            "   macro avg       0.89      0.89      0.88     24864\n",
            "weighted avg       0.89      0.89      0.89     24864\n",
            "\n",
            "Classification report for K-Fold model 3\n",
            "For validation set -\n",
            "              precision    recall  f1-score   support\n",
            "\n",
            "           0       0.84      0.98      0.90      1249\n",
            "           1       0.79      0.99      0.88      1252\n",
            "           2       0.89      0.93      0.91      1273\n",
            "           3       0.90      0.84      0.87      1235\n",
            "           4       0.84      0.48      0.61      1207\n",
            "\n",
            "    accuracy                           0.85      6216\n",
            "   macro avg       0.85      0.84      0.83      6216\n",
            "weighted avg       0.85      0.85      0.84      6216\n",
            "\n",
            "For training set -\n",
            "              precision    recall  f1-score   support\n",
            "\n",
            "           0       0.88      0.98      0.93      5109\n",
            "           1       0.85      0.99      0.91      5066\n",
            "           2       0.92      0.98      0.95      4925\n",
            "           3       0.92      0.88      0.90      4855\n",
            "           4       0.90      0.61      0.73      4909\n",
            "\n",
            "    accuracy                           0.89     24864\n",
            "   macro avg       0.89      0.89      0.88     24864\n",
            "weighted avg       0.89      0.89      0.88     24864\n",
            "\n",
            "Classification report for K-Fold model 4\n",
            "For validation set -\n",
            "              precision    recall  f1-score   support\n",
            "\n",
            "           0       0.85      0.98      0.91      1292\n",
            "           1       0.81      0.99      0.89      1253\n",
            "           2       0.88      0.95      0.92      1226\n",
            "           3       0.87      0.82      0.84      1216\n",
            "           4       0.84      0.51      0.63      1229\n",
            "\n",
            "    accuracy                           0.85      6216\n",
            "   macro avg       0.85      0.85      0.84      6216\n",
            "weighted avg       0.85      0.85      0.84      6216\n",
            "\n",
            "For training set -\n",
            "              precision    recall  f1-score   support\n",
            "\n",
            "           0       0.88      0.98      0.93      5066\n",
            "           1       0.84      1.00      0.91      5065\n",
            "           2       0.92      0.98      0.95      4972\n",
            "           3       0.92      0.88      0.90      4874\n",
            "           4       0.90      0.60      0.72      4887\n",
            "\n",
            "    accuracy                           0.89     24864\n",
            "   macro avg       0.89      0.89      0.88     24864\n",
            "weighted avg       0.89      0.89      0.88     24864\n",
            "\n",
            "Classification report for K-Fold model 5\n",
            "For validation set -\n",
            "              precision    recall  f1-score   support\n",
            "\n",
            "           0       0.84      0.97      0.90      1265\n",
            "           1       0.81      0.99      0.89      1286\n",
            "           2       0.89      0.95      0.92      1260\n",
            "           3       0.88      0.83      0.86      1176\n",
            "           4       0.82      0.49      0.61      1229\n",
            "\n",
            "    accuracy                           0.85      6216\n",
            "   macro avg       0.85      0.85      0.84      6216\n",
            "weighted avg       0.85      0.85      0.84      6216\n",
            "\n",
            "For training set -\n",
            "              precision    recall  f1-score   support\n",
            "\n",
            "           0       0.88      0.99      0.93      5093\n",
            "           1       0.84      0.99      0.91      5032\n",
            "           2       0.92      0.98      0.95      4938\n",
            "           3       0.92      0.88      0.90      4914\n",
            "           4       0.90      0.61      0.73      4887\n",
            "\n",
            "    accuracy                           0.89     24864\n",
            "   macro avg       0.89      0.89      0.88     24864\n",
            "weighted avg       0.89      0.89      0.88     24864\n",
            "\n"
          ]
        }
      ]
    },
    {
      "cell_type": "code",
      "source": [
        "avg_accuracy1 = accuracy_val/5\n",
        "print(\"Average accuracy obtained on vaidation set= \"+str(avg_accuracy1))\n",
        "avg_accuracy2 = accuracy_train/5\n",
        "print(\"Average accuracy obtained on training set= \"+str(avg_accuracy2))"
      ],
      "metadata": {
        "colab": {
          "base_uri": "https://localhost:8080/"
        },
        "id": "xvSguBRUbZwW",
        "outputId": "55c393b9-29c9-4735-c6be-67648134e147"
      },
      "execution_count": null,
      "outputs": [
        {
          "output_type": "stream",
          "name": "stdout",
          "text": [
            "Average accuracy obtained on vaidation set= 0.8473294723294723\n",
            "Average accuracy obtained on training set= 0.8905485842985843\n"
          ]
        }
      ]
    },
    {
      "cell_type": "markdown",
      "source": [
        "We can see that, on training set we are getting 89% accuracy and on validation set we are getting 84% accuracy for Bag of words"
      ],
      "metadata": {
        "id": "5gud_zShb7Kq"
      }
    },
    {
      "cell_type": "markdown",
      "source": [
        "For Tf-idf"
      ],
      "metadata": {
        "id": "sMqXxU6OcasB"
      }
    },
    {
      "cell_type": "code",
      "source": [
        "y_train = np.array(y_train)\n",
        "model = 1\n",
        "accuracy_val = 0\n",
        "accuracy_train = 0\n",
        "kf = KFold(n_splits = 5)\n",
        "for train_index, val_index in kf.split(tf_cv1):\n",
        "  X_KFold_train, X_KFold_val = tf_cv1[train_index], tf_cv1[val_index]\n",
        "  Y_KFold_train, Y_KFold_val = y_train[train_index], y_train[val_index]\n",
        "  mnb = MultinomialNB()\n",
        "  mnb.fit(X_KFold_train, Y_KFold_train)\n",
        "  Y_pred = mnb.predict(X_KFold_val)\n",
        "  YY_pred = mnb.predict(X_KFold_train)\n",
        "  print(\"Classification report for K-Fold model \"+str(model))\n",
        "  print(\"For validation set -\")\n",
        "  print(classification_report(Y_KFold_val, Y_pred))\n",
        "  print(\"For training set -\")\n",
        "  accuracy_val += accuracy_score(Y_KFold_val, Y_pred)\n",
        "  print(classification_report(Y_KFold_train, YY_pred))\n",
        "  accuracy_train += accuracy_score(Y_KFold_train, YY_pred)\n",
        "  model += 1"
      ],
      "metadata": {
        "colab": {
          "base_uri": "https://localhost:8080/"
        },
        "id": "_WL24WIycVDp",
        "outputId": "c5596bbd-d19b-4db7-e654-8deb2b789044"
      },
      "execution_count": null,
      "outputs": [
        {
          "output_type": "stream",
          "name": "stdout",
          "text": [
            "Classification report for K-Fold model 1\n",
            "For validation set -\n",
            "              precision    recall  f1-score   support\n",
            "\n",
            "           0       0.80      0.96      0.88      1241\n",
            "           1       0.74      0.98      0.85      1221\n",
            "           2       0.89      0.92      0.91      1266\n",
            "           3       0.88      0.82      0.85      1252\n",
            "           4       0.86      0.44      0.58      1236\n",
            "\n",
            "    accuracy                           0.83      6216\n",
            "   macro avg       0.84      0.83      0.81      6216\n",
            "weighted avg       0.84      0.83      0.81      6216\n",
            "\n",
            "For training set -\n",
            "              precision    recall  f1-score   support\n",
            "\n",
            "           0       0.86      0.98      0.92      5117\n",
            "           1       0.82      0.99      0.90      5097\n",
            "           2       0.92      0.95      0.94      4932\n",
            "           3       0.93      0.89      0.91      4838\n",
            "           4       0.93      0.59      0.72      4880\n",
            "\n",
            "    accuracy                           0.88     24864\n",
            "   macro avg       0.89      0.88      0.88     24864\n",
            "weighted avg       0.89      0.88      0.88     24864\n",
            "\n",
            "Classification report for K-Fold model 2\n",
            "For validation set -\n",
            "              precision    recall  f1-score   support\n",
            "\n",
            "           0       0.83      0.98      0.89      1311\n",
            "           1       0.78      0.98      0.87      1306\n",
            "           2       0.87      0.93      0.90      1173\n",
            "           3       0.87      0.82      0.84      1211\n",
            "           4       0.85      0.44      0.58      1215\n",
            "\n",
            "    accuracy                           0.83      6216\n",
            "   macro avg       0.84      0.83      0.82      6216\n",
            "weighted avg       0.84      0.83      0.82      6216\n",
            "\n",
            "For training set -\n",
            "              precision    recall  f1-score   support\n",
            "\n",
            "           0       0.87      0.98      0.92      5047\n",
            "           1       0.83      0.99      0.90      5012\n",
            "           2       0.92      0.96      0.94      5025\n",
            "           3       0.93      0.89      0.91      4879\n",
            "           4       0.93      0.60      0.73      4901\n",
            "\n",
            "    accuracy                           0.89     24864\n",
            "   macro avg       0.89      0.89      0.88     24864\n",
            "weighted avg       0.89      0.89      0.88     24864\n",
            "\n",
            "Classification report for K-Fold model 3\n",
            "For validation set -\n",
            "              precision    recall  f1-score   support\n",
            "\n",
            "           0       0.81      0.97      0.88      1249\n",
            "           1       0.75      0.98      0.85      1252\n",
            "           2       0.89      0.90      0.90      1273\n",
            "           3       0.89      0.84      0.87      1235\n",
            "           4       0.87      0.44      0.58      1207\n",
            "\n",
            "    accuracy                           0.83      6216\n",
            "   macro avg       0.84      0.83      0.81      6216\n",
            "weighted avg       0.84      0.83      0.82      6216\n",
            "\n",
            "For training set -\n",
            "              precision    recall  f1-score   support\n",
            "\n",
            "           0       0.86      0.98      0.92      5109\n",
            "           1       0.82      0.99      0.90      5066\n",
            "           2       0.92      0.95      0.94      4925\n",
            "           3       0.93      0.89      0.91      4855\n",
            "           4       0.93      0.60      0.73      4909\n",
            "\n",
            "    accuracy                           0.89     24864\n",
            "   macro avg       0.89      0.88      0.88     24864\n",
            "weighted avg       0.89      0.89      0.88     24864\n",
            "\n",
            "Classification report for K-Fold model 4\n",
            "For validation set -\n",
            "              precision    recall  f1-score   support\n",
            "\n",
            "           0       0.81      0.97      0.88      1292\n",
            "           1       0.78      0.98      0.87      1253\n",
            "           2       0.87      0.91      0.89      1226\n",
            "           3       0.87      0.82      0.84      1216\n",
            "           4       0.88      0.47      0.61      1229\n",
            "\n",
            "    accuracy                           0.83      6216\n",
            "   macro avg       0.84      0.83      0.82      6216\n",
            "weighted avg       0.84      0.83      0.82      6216\n",
            "\n",
            "For training set -\n",
            "              precision    recall  f1-score   support\n",
            "\n",
            "           0       0.86      0.98      0.92      5066\n",
            "           1       0.82      0.99      0.90      5065\n",
            "           2       0.92      0.95      0.94      4972\n",
            "           3       0.92      0.89      0.91      4874\n",
            "           4       0.92      0.59      0.72      4887\n",
            "\n",
            "    accuracy                           0.88     24864\n",
            "   macro avg       0.89      0.88      0.88     24864\n",
            "weighted avg       0.89      0.88      0.88     24864\n",
            "\n",
            "Classification report for K-Fold model 5\n",
            "For validation set -\n",
            "              precision    recall  f1-score   support\n",
            "\n",
            "           0       0.83      0.97      0.89      1265\n",
            "           1       0.77      0.98      0.86      1286\n",
            "           2       0.88      0.92      0.90      1260\n",
            "           3       0.87      0.83      0.85      1176\n",
            "           4       0.84      0.45      0.59      1229\n",
            "\n",
            "    accuracy                           0.83      6216\n",
            "   macro avg       0.84      0.83      0.82      6216\n",
            "weighted avg       0.84      0.83      0.82      6216\n",
            "\n",
            "For training set -\n",
            "              precision    recall  f1-score   support\n",
            "\n",
            "           0       0.86      0.98      0.92      5093\n",
            "           1       0.83      0.99      0.90      5032\n",
            "           2       0.92      0.95      0.94      4938\n",
            "           3       0.92      0.89      0.91      4914\n",
            "           4       0.93      0.60      0.73      4887\n",
            "\n",
            "    accuracy                           0.89     24864\n",
            "   macro avg       0.89      0.88      0.88     24864\n",
            "weighted avg       0.89      0.89      0.88     24864\n",
            "\n"
          ]
        }
      ]
    },
    {
      "cell_type": "code",
      "source": [
        "avg_accuracy1 = accuracy_val/5\n",
        "print(\"Average accuracy obtained on vaidation set= \"+str(avg_accuracy1))\n",
        "avg_accuracy2 = accuracy_train/5\n",
        "print(\"Average accuracy obtained on training set= \"+str(avg_accuracy2))"
      ],
      "metadata": {
        "colab": {
          "base_uri": "https://localhost:8080/"
        },
        "id": "n922ANBWcprF",
        "outputId": "3ebe8d65-deb9-4095-a497-e4cb2366659a"
      },
      "execution_count": null,
      "outputs": [
        {
          "output_type": "stream",
          "name": "stdout",
          "text": [
            "Average accuracy obtained on vaidation set= 0.8308236808236809\n",
            "Average accuracy obtained on training set= 0.8852799227799227\n"
          ]
        }
      ]
    },
    {
      "cell_type": "markdown",
      "source": [
        " Transforming set testing for different word embeddings\n"
      ],
      "metadata": {
        "id": "Z8d8_u0t87Zo"
      }
    },
    {
      "cell_type": "code",
      "source": [
        "# For Bag of words \n",
        "bow_cv1_test = bow1.transform(X_stem_test)\n",
        "bow_cv2_test = bow2.transform(X_lemma_test)\n",
        "bow_cv3_test = bow3.transform(X_lemmaStem_test)\n",
        "\n",
        "# For Tf-idf\n",
        "tf_cv1_test = tfid1.transform(bow_cv1_test);\n",
        "tf_cv2_test = tfid2.transform(bow_cv2_test);\n",
        "tf_cv3_test = tfid3.transform(bow_cv3_test);\n",
        "\n",
        "print(bow_cv1_test.shape,bow_cv2_test.shape,bow_cv3_test.shape);\n",
        "print(tf_cv1_test.shape,tf_cv2_test.shape,tf_cv3_test.shape);"
      ],
      "metadata": {
        "colab": {
          "base_uri": "https://localhost:8080/"
        },
        "id": "71KWnskP9QL1",
        "outputId": "9116aa51-1c4a-4995-e81b-3e9c78dfae9c"
      },
      "execution_count": null,
      "outputs": [
        {
          "output_type": "stream",
          "name": "stdout",
          "text": [
            "(7771, 29153) (7771, 34843) (7771, 28992)\n",
            "(7771, 29153) (7771, 34843) (7771, 28992)\n"
          ]
        }
      ]
    },
    {
      "cell_type": "markdown",
      "source": [
        "Creating models"
      ],
      "metadata": {
        "id": "9TmKjke3Acts"
      }
    },
    {
      "cell_type": "code",
      "source": [
        "# For bag of words - \n",
        "nb_bow_stem = MultinomialNB();\n",
        "nb_bow_lemma = MultinomialNB();\n",
        "nb_bow_lemmaStem = MultinomialNB();\n",
        "\n",
        "# for tf-idf - \n",
        "nb_tf_stem = MultinomialNB();\n",
        "nb_tf_lemma = MultinomialNB();\n",
        "nb_tf_lemmaStem = MultinomialNB();"
      ],
      "metadata": {
        "id": "9RnwDAEfAfKm"
      },
      "execution_count": null,
      "outputs": []
    },
    {
      "cell_type": "markdown",
      "source": [
        "Training the models "
      ],
      "metadata": {
        "id": "p19fAhFvBY2K"
      }
    },
    {
      "cell_type": "code",
      "source": [
        "# For bag of words - \n",
        "nb_bow_stem.fit(bow_cv1,y_train);\n",
        "nb_bow_lemma.fit(bow_cv2,y_train);\n",
        "nb_bow_lemmaStem.fit(bow_cv3,y_train);\n",
        "\n",
        "# For tf-idf - \n",
        "nb_tf_stem.fit(tf_cv1,y_train);\n",
        "nb_tf_lemma.fit(tf_cv1,y_train);\n",
        "nb_tf_lemmaStem.fit(tf_cv1,y_train);"
      ],
      "metadata": {
        "id": "KtQQf0GoBbNI"
      },
      "execution_count": null,
      "outputs": []
    },
    {
      "cell_type": "markdown",
      "source": [
        "Prediction on test set"
      ],
      "metadata": {
        "id": "sgEl4GQMBKyM"
      }
    },
    {
      "cell_type": "code",
      "source": [
        "# For bag of words - \n",
        "nb_bow_stem_pred = nb_bow_stem.predict(bow_cv1_test);\n",
        "nb_bow_lemma_pred = nb_bow_lemma.predict(bow_cv2_test);\n",
        "nb_bow_lemmaStem_pred = nb_bow_lemmaStem.predict(bow_cv3_test);\n",
        "\n",
        "# For tf-idf - \n",
        "nb_tf_stem_pred = nb_tf_stem.predict(tf_cv1_test);\n",
        "nb_tf_lemma_pred = nb_tf_lemma.predict(tf_cv1_test);\n",
        "nb_tf_lemmaStem_pred = nb_tf_lemmaStem.predict(tf_cv1_test);"
      ],
      "metadata": {
        "id": "XHtfy11NBVAg"
      },
      "execution_count": null,
      "outputs": []
    },
    {
      "cell_type": "markdown",
      "source": [
        "Evaluation metrics"
      ],
      "metadata": {
        "id": "Udo8WdlVDs1D"
      }
    },
    {
      "cell_type": "code",
      "source": [
        "from sklearn.metrics import classification_report, confusion_matrix"
      ],
      "metadata": {
        "id": "kNy85tb0FPz0"
      },
      "execution_count": null,
      "outputs": []
    },
    {
      "cell_type": "markdown",
      "source": [
        "Printing reports"
      ],
      "metadata": {
        "id": "0jAJSSxxFTfl"
      }
    },
    {
      "cell_type": "code",
      "source": [
        "# For Bag of words - \n",
        "print('Classification Report for Naive Bayes on bag of word with stemming:\\n',classification_report(y_test, nb_bow_stem_pred))\n",
        "print('Classification Report for Naive Bayes on bag of word with lemmatization:\\n',classification_report(y_test, nb_bow_lemma_pred))\n",
        "print('Classification Report for Naive Bayes on bag of word with lemma_stemming:\\n',classification_report(y_test, nb_bow_lemmaStem_pred))"
      ],
      "metadata": {
        "colab": {
          "base_uri": "https://localhost:8080/"
        },
        "id": "sRGxsrt5EXfm",
        "outputId": "d60e670f-d847-4ece-e105-3385bcc2eb65"
      },
      "execution_count": null,
      "outputs": [
        {
          "output_type": "stream",
          "name": "stdout",
          "text": [
            "Classification Report for Naive Bayes on bag of word with stemming:\n",
            "               precision    recall  f1-score   support\n",
            "\n",
            "           0       0.83      0.98      0.90      1590\n",
            "           1       0.81      0.99      0.89      1579\n",
            "           2       0.90      0.95      0.92      1550\n",
            "           3       0.87      0.84      0.86      1523\n",
            "           4       0.86      0.47      0.61      1529\n",
            "\n",
            "    accuracy                           0.85      7771\n",
            "   macro avg       0.85      0.85      0.84      7771\n",
            "weighted avg       0.85      0.85      0.84      7771\n",
            "\n",
            "Classification Report for Naive Bayes on bag of word with lemmatization:\n",
            "               precision    recall  f1-score   support\n",
            "\n",
            "           0       0.82      0.97      0.89      1590\n",
            "           1       0.82      0.99      0.89      1579\n",
            "           2       0.90      0.96      0.93      1550\n",
            "           3       0.87      0.85      0.86      1523\n",
            "           4       0.86      0.48      0.61      1529\n",
            "\n",
            "    accuracy                           0.85      7771\n",
            "   macro avg       0.85      0.85      0.84      7771\n",
            "weighted avg       0.85      0.85      0.84      7771\n",
            "\n",
            "Classification Report for Naive Bayes on bag of word with lemma_stemming:\n",
            "               precision    recall  f1-score   support\n",
            "\n",
            "           0       0.83      0.98      0.90      1590\n",
            "           1       0.81      0.99      0.89      1579\n",
            "           2       0.90      0.95      0.92      1550\n",
            "           3       0.88      0.84      0.86      1523\n",
            "           4       0.85      0.48      0.61      1529\n",
            "\n",
            "    accuracy                           0.85      7771\n",
            "   macro avg       0.85      0.85      0.84      7771\n",
            "weighted avg       0.85      0.85      0.84      7771\n",
            "\n"
          ]
        }
      ]
    },
    {
      "cell_type": "code",
      "source": [
        "# For Tf-idf - \n",
        "print('Classification Report for Naive Bayes on Ti-idf with stemming:\\n',classification_report(y_test, nb_tf_stem_pred))\n",
        "print('Classification Report for Naive Bayes on Ti-idf with lemmatization:\\n',classification_report(y_test, nb_tf_lemma_pred))\n",
        "print('Classification Report for Naive Bayes on Ti-idf with lemma_stemming:\\n',classification_report(y_test, nb_tf_lemmaStem_pred))"
      ],
      "metadata": {
        "colab": {
          "base_uri": "https://localhost:8080/"
        },
        "id": "2SaE0j7covku",
        "outputId": "c3bb368f-163b-4ad6-c480-6d56da192bfe"
      },
      "execution_count": null,
      "outputs": [
        {
          "output_type": "stream",
          "name": "stdout",
          "text": [
            "Classification Report for Naive Bayes on Ti-idf with stemming:\n",
            "               precision    recall  f1-score   support\n",
            "\n",
            "           0       0.80      0.97      0.88      1590\n",
            "           1       0.77      0.98      0.86      1579\n",
            "           2       0.89      0.91      0.90      1550\n",
            "           3       0.87      0.84      0.86      1523\n",
            "           4       0.87      0.43      0.58      1529\n",
            "\n",
            "    accuracy                           0.83      7771\n",
            "   macro avg       0.84      0.83      0.82      7771\n",
            "weighted avg       0.84      0.83      0.82      7771\n",
            "\n",
            "Classification Report for Naive Bayes on Ti-idf with lemmatization:\n",
            "               precision    recall  f1-score   support\n",
            "\n",
            "           0       0.80      0.97      0.88      1590\n",
            "           1       0.77      0.98      0.86      1579\n",
            "           2       0.89      0.91      0.90      1550\n",
            "           3       0.87      0.84      0.86      1523\n",
            "           4       0.87      0.43      0.58      1529\n",
            "\n",
            "    accuracy                           0.83      7771\n",
            "   macro avg       0.84      0.83      0.82      7771\n",
            "weighted avg       0.84      0.83      0.82      7771\n",
            "\n",
            "Classification Report for Naive Bayes on Ti-idf with lemma_stemming:\n",
            "               precision    recall  f1-score   support\n",
            "\n",
            "           0       0.80      0.97      0.88      1590\n",
            "           1       0.77      0.98      0.86      1579\n",
            "           2       0.89      0.91      0.90      1550\n",
            "           3       0.87      0.84      0.86      1523\n",
            "           4       0.87      0.43      0.58      1529\n",
            "\n",
            "    accuracy                           0.83      7771\n",
            "   macro avg       0.84      0.83      0.82      7771\n",
            "weighted avg       0.84      0.83      0.82      7771\n",
            "\n"
          ]
        }
      ]
    },
    {
      "cell_type": "markdown",
      "source": [
        "Analysis about stemming and lemmatization : We can see that accuracy is very less affected by stemming and lemmatization. And since stemming is performing little better than lemmatization and it is much optimized as well, So we will be going for stemming for rest of analysis."
      ],
      "metadata": {
        "id": "AVisoDVMzKC9"
      }
    },
    {
      "cell_type": "markdown",
      "source": [
        "Morever, we can see that test accuracy of bag of words is 85% and that of Tf-idf is 83%."
      ],
      "metadata": {
        "id": "4y6vKr7J0Iyy"
      }
    },
    {
      "cell_type": "markdown",
      "source": [
        "## Training Gaussian Naive Bayes using GloVe Embedding"
      ],
      "metadata": {
        "id": "GB9y06AD4yO3"
      }
    },
    {
      "cell_type": "markdown",
      "source": [
        "Performing train-test split for using Gaussian Naive Bayes on glove embeddings"
      ],
      "metadata": {
        "id": "Qgy1ZmUWYw-C"
      }
    },
    {
      "cell_type": "code",
      "source": [
        "X = embeddings_df.drop(['sentiments'], axis=1)\n",
        "Y = embeddings_df['sentiments']\n",
        "X_train, X_test, Y_train, Y_test = train_test_split(X, Y, test_size = 0.2, random_state = 0)\n",
        "print(X_train.shape, X_test.shape)"
      ],
      "metadata": {
        "id": "g-6auuq-X1WU",
        "outputId": "2cd62228-805d-4879-e867-2908742cc9bc",
        "colab": {
          "base_uri": "https://localhost:8080/"
        }
      },
      "execution_count": null,
      "outputs": [
        {
          "output_type": "stream",
          "name": "stdout",
          "text": [
            "(31080, 5) (7771, 5)\n"
          ]
        }
      ]
    },
    {
      "cell_type": "markdown",
      "source": [
        "Creating an object and training Gaussian Naive Bayes"
      ],
      "metadata": {
        "id": "Bwb9zRkGY-bq"
      }
    },
    {
      "cell_type": "code",
      "source": [
        "gnb = GaussianNB()\n",
        "gnb.fit(X_train, Y_train)"
      ],
      "metadata": {
        "id": "Dgnu0NzeX5bb",
        "outputId": "38d165df-574f-420e-d531-dd547c3d1128",
        "colab": {
          "base_uri": "https://localhost:8080/"
        }
      },
      "execution_count": null,
      "outputs": [
        {
          "output_type": "execute_result",
          "data": {
            "text/plain": [
              "GaussianNB()"
            ]
          },
          "metadata": {},
          "execution_count": 136
        }
      ]
    },
    {
      "cell_type": "markdown",
      "source": [
        "Performing predictions on the test set"
      ],
      "metadata": {
        "id": "xF7BRavoZL6I"
      }
    },
    {
      "cell_type": "code",
      "source": [
        "Y_pred = gnb.predict(X_test)"
      ],
      "metadata": {
        "id": "rwHvc6IGYhqA"
      },
      "execution_count": null,
      "outputs": []
    },
    {
      "cell_type": "markdown",
      "source": [
        "Evaluating the performance of the model"
      ],
      "metadata": {
        "id": "xhCdNsPWZpdd"
      }
    },
    {
      "cell_type": "code",
      "source": [
        "from sklearn.metrics import accuracy_score\n",
        "\n",
        "accuracy = accuracy_score(Y_test, Y_pred)\n",
        "print(accuracy)"
      ],
      "metadata": {
        "id": "tAee61E2Yn77",
        "outputId": "b22b911d-3097-462b-f3ad-ec876ff88cad",
        "colab": {
          "base_uri": "https://localhost:8080/"
        }
      },
      "execution_count": null,
      "outputs": [
        {
          "output_type": "stream",
          "name": "stdout",
          "text": [
            "0.6485651782267404\n"
          ]
        }
      ]
    },
    {
      "cell_type": "markdown",
      "source": [
        "Displaying the classification report"
      ],
      "metadata": {
        "id": "qiV35Q5PZw66"
      }
    },
    {
      "cell_type": "code",
      "source": [
        "from sklearn.metrics import classification_report\n",
        "\n",
        "print(classification_report(Y_test, Y_pred))"
      ],
      "metadata": {
        "id": "8o1fGPlWYtGb",
        "outputId": "a4a183c2-401e-48b1-97f7-f3f50d6b96f1",
        "colab": {
          "base_uri": "https://localhost:8080/"
        }
      },
      "execution_count": null,
      "outputs": [
        {
          "output_type": "stream",
          "name": "stdout",
          "text": [
            "              precision    recall  f1-score   support\n",
            "\n",
            "           0       0.67      0.82      0.74      1600\n",
            "           1       0.77      0.79      0.78      1598\n",
            "           2       0.62      0.62      0.62      1549\n",
            "           3       0.59      0.39      0.47      1497\n",
            "           4       0.56      0.60      0.58      1527\n",
            "\n",
            "    accuracy                           0.65      7771\n",
            "   macro avg       0.64      0.64      0.64      7771\n",
            "weighted avg       0.64      0.65      0.64      7771\n",
            "\n"
          ]
        }
      ]
    },
    {
      "cell_type": "markdown",
      "source": [
        "Using K-Fold validation on the training set"
      ],
      "metadata": {
        "id": "dUC61jLg54n7"
      }
    },
    {
      "cell_type": "code",
      "source": [
        "from sklearn.model_selection import KFold\n",
        "\n",
        "X_train_numpy = np.array(X_train)\n",
        "Y_train_numpy = np.array(Y_train)\n",
        "\n",
        "model = 1\n",
        "accuracy_val = 0\n",
        "accuracy_train = 0\n",
        "kf = KFold(n_splits = 5)\n",
        "for train_index, val_index in kf.split(X_train_numpy):\n",
        "  X_KFold_train, X_KFold_val = X_train_numpy[train_index], X_train_numpy[val_index]\n",
        "  Y_KFold_train, Y_KFold_val = Y_train_numpy[train_index], Y_train_numpy[val_index]\n",
        "  gnb = GaussianNB()\n",
        "  gnb.fit(X_KFold_train, Y_KFold_train)\n",
        "  Y_pred = gnb.predict(X_KFold_val)\n",
        "  YY_pred = gnb.predict(X_KFold_train)\n",
        "  print(\"Classification report for K-Fold model \"+str(model))\n",
        "  print(\"For validation set -\")\n",
        "  print(classification_report(Y_KFold_val, Y_pred))\n",
        "  print(\"For training set -\")\n",
        "  accuracy_val += accuracy_score(Y_KFold_val, Y_pred)\n",
        "  print(classification_report(Y_KFold_train, YY_pred))\n",
        "  accuracy_train += accuracy_score(Y_KFold_train, YY_pred)\n",
        "  model += 1"
      ],
      "metadata": {
        "id": "OAbMfmiD4tfw",
        "outputId": "1b3895f5-50ef-4d81-a4ee-80e4178b7401",
        "colab": {
          "base_uri": "https://localhost:8080/"
        }
      },
      "execution_count": null,
      "outputs": [
        {
          "output_type": "stream",
          "name": "stdout",
          "text": [
            "Classification report for K-Fold model 1\n",
            "For validation set -\n",
            "              precision    recall  f1-score   support\n",
            "\n",
            "           0       0.68      0.81      0.74      1284\n",
            "           1       0.77      0.79      0.78      1284\n",
            "           2       0.62      0.67      0.64      1198\n",
            "           3       0.62      0.39      0.47      1219\n",
            "           4       0.57      0.59      0.58      1231\n",
            "\n",
            "    accuracy                           0.65      6216\n",
            "   macro avg       0.65      0.65      0.64      6216\n",
            "weighted avg       0.65      0.65      0.65      6216\n",
            "\n",
            "For training set -\n",
            "              precision    recall  f1-score   support\n",
            "\n",
            "           0       0.67      0.81      0.73      5064\n",
            "           1       0.76      0.80      0.78      5015\n",
            "           2       0.62      0.64      0.63      5001\n",
            "           3       0.62      0.38      0.47      4897\n",
            "           4       0.57      0.61      0.59      4887\n",
            "\n",
            "    accuracy                           0.65     24864\n",
            "   macro avg       0.65      0.65      0.64     24864\n",
            "weighted avg       0.65      0.65      0.64     24864\n",
            "\n",
            "Classification report for K-Fold model 2\n",
            "For validation set -\n",
            "              precision    recall  f1-score   support\n",
            "\n",
            "           0       0.68      0.81      0.74      1284\n",
            "           1       0.74      0.79      0.77      1252\n",
            "           2       0.63      0.64      0.64      1237\n",
            "           3       0.63      0.40      0.49      1219\n",
            "           4       0.56      0.61      0.59      1224\n",
            "\n",
            "    accuracy                           0.65      6216\n",
            "   macro avg       0.65      0.65      0.64      6216\n",
            "weighted avg       0.65      0.65      0.65      6216\n",
            "\n",
            "For training set -\n",
            "              precision    recall  f1-score   support\n",
            "\n",
            "           0       0.67      0.81      0.74      5064\n",
            "           1       0.77      0.80      0.78      5047\n",
            "           2       0.63      0.63      0.63      4962\n",
            "           3       0.60      0.38      0.47      4897\n",
            "           4       0.56      0.61      0.59      4894\n",
            "\n",
            "    accuracy                           0.65     24864\n",
            "   macro avg       0.64      0.65      0.64     24864\n",
            "weighted avg       0.65      0.65      0.64     24864\n",
            "\n",
            "Classification report for K-Fold model 3\n",
            "For validation set -\n",
            "              precision    recall  f1-score   support\n",
            "\n",
            "           0       0.66      0.80      0.72      1260\n",
            "           1       0.75      0.80      0.78      1261\n",
            "           2       0.63      0.63      0.63      1237\n",
            "           3       0.60      0.38      0.46      1223\n",
            "           4       0.56      0.60      0.58      1235\n",
            "\n",
            "    accuracy                           0.64      6216\n",
            "   macro avg       0.64      0.64      0.63      6216\n",
            "weighted avg       0.64      0.64      0.64      6216\n",
            "\n",
            "For training set -\n",
            "              precision    recall  f1-score   support\n",
            "\n",
            "           0       0.67      0.81      0.74      5088\n",
            "           1       0.76      0.80      0.78      5038\n",
            "           2       0.63      0.64      0.63      4962\n",
            "           3       0.60      0.39      0.47      4893\n",
            "           4       0.57      0.61      0.59      4883\n",
            "\n",
            "    accuracy                           0.65     24864\n",
            "   macro avg       0.65      0.65      0.64     24864\n",
            "weighted avg       0.65      0.65      0.64     24864\n",
            "\n",
            "Classification report for K-Fold model 4\n",
            "For validation set -\n",
            "              precision    recall  f1-score   support\n",
            "\n",
            "           0       0.67      0.83      0.74      1248\n",
            "           1       0.77      0.81      0.79      1270\n",
            "           2       0.63      0.62      0.62      1271\n",
            "           3       0.60      0.38      0.46      1228\n",
            "           4       0.56      0.62      0.59      1199\n",
            "\n",
            "    accuracy                           0.65      6216\n",
            "   macro avg       0.65      0.65      0.64      6216\n",
            "weighted avg       0.65      0.65      0.64      6216\n",
            "\n",
            "For training set -\n",
            "              precision    recall  f1-score   support\n",
            "\n",
            "           0       0.67      0.81      0.73      5100\n",
            "           1       0.76      0.80      0.78      5029\n",
            "           2       0.62      0.64      0.63      4928\n",
            "           3       0.62      0.38      0.47      4888\n",
            "           4       0.56      0.61      0.59      4919\n",
            "\n",
            "    accuracy                           0.65     24864\n",
            "   macro avg       0.65      0.65      0.64     24864\n",
            "weighted avg       0.65      0.65      0.64     24864\n",
            "\n",
            "Classification report for K-Fold model 5\n",
            "For validation set -\n",
            "              precision    recall  f1-score   support\n",
            "\n",
            "           0       0.67      0.82      0.73      1272\n",
            "           1       0.78      0.80      0.79      1232\n",
            "           2       0.61      0.64      0.62      1256\n",
            "           3       0.60      0.38      0.47      1227\n",
            "           4       0.58      0.62      0.60      1229\n",
            "\n",
            "    accuracy                           0.65      6216\n",
            "   macro avg       0.65      0.65      0.64      6216\n",
            "weighted avg       0.65      0.65      0.64      6216\n",
            "\n",
            "For training set -\n",
            "              precision    recall  f1-score   support\n",
            "\n",
            "           0       0.67      0.81      0.73      5076\n",
            "           1       0.76      0.80      0.78      5067\n",
            "           2       0.63      0.64      0.63      4943\n",
            "           3       0.61      0.38      0.47      4889\n",
            "           4       0.56      0.61      0.58      4889\n",
            "\n",
            "    accuracy                           0.65     24864\n",
            "   macro avg       0.64      0.65      0.64     24864\n",
            "weighted avg       0.65      0.65      0.64     24864\n",
            "\n"
          ]
        }
      ]
    },
    {
      "cell_type": "code",
      "source": [
        "avg_accuracy1 = accuracy_val/5\n",
        "print(\"Average accuracy obtained on vaidation set= \"+str(avg_accuracy1))\n",
        "avg_accuracy2 = accuracy_train/5\n",
        "print(\"Average accuracy obtained on training set= \"+str(avg_accuracy2))"
      ],
      "metadata": {
        "colab": {
          "base_uri": "https://localhost:8080/"
        },
        "id": "bugF876vc0Xr",
        "outputId": "b09965d0-f66f-40b8-9297-c3f453b6d851"
      },
      "execution_count": null,
      "outputs": [
        {
          "output_type": "stream",
          "name": "stdout",
          "text": [
            "Average accuracy obtained on vaidation set= 0.651093951093951\n",
            "Average accuracy obtained on training set= 0.6506917631917633\n"
          ]
        }
      ]
    }
  ],
  "metadata": {
    "colab": {
      "collapsed_sections": [],
      "name": "ML_Project_PreProcessing.ipynb",
      "provenance": []
    },
    "kernelspec": {
      "display_name": "Python 3",
      "language": "python",
      "name": "python3"
    },
    "language_info": {
      "codemirror_mode": {
        "name": "ipython",
        "version": 3
      },
      "file_extension": ".py",
      "mimetype": "text/x-python",
      "name": "python",
      "nbconvert_exporter": "python",
      "pygments_lexer": "ipython3",
      "version": "3.6.9"
    }
  },
  "nbformat": 4,
  "nbformat_minor": 0
}