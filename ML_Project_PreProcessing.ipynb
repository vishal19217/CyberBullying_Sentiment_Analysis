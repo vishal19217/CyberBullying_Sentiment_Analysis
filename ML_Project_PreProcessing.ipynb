{
  "cells": [
    {
      "cell_type": "markdown",
      "source": [
        "#### Importing libraries"
      ],
      "metadata": {
        "id": "o7QiTH21Kd_2"
      }
    },
    {
      "cell_type": "code",
      "execution_count": null,
      "metadata": {
        "colab": {
          "base_uri": "https://localhost:8080/"
        },
        "id": "0kqMJODaX47j",
        "outputId": "b3bc9a21-bc94-4faf-e297-89f1e37acfd2"
      },
      "outputs": [
        {
          "output_type": "stream",
          "name": "stdout",
          "text": [
            "Drive already mounted at /content/gdrive; to attempt to forcibly remount, call drive.mount(\"/content/gdrive\", force_remount=True).\n"
          ]
        }
      ],
      "source": [
        "import pandas as pd\n",
        "import numpy as np\n",
        "import matplotlib.pyplot as plt\n",
        "import seaborn as sns\n",
        "from google.colab import drive\n",
        "drive.mount('/content/gdrive')"
      ]
    },
    {
      "cell_type": "markdown",
      "source": [
        "# Data Visualization and Cleaning"
      ],
      "metadata": {
        "id": "CqogiAMAMPKT"
      }
    },
    {
      "cell_type": "code",
      "execution_count": null,
      "metadata": {
        "id": "2CkDIdIYfK78"
      },
      "outputs": [],
      "source": [
        "# Reading csv file\n",
        "data = pd.read_csv('/content/gdrive/My Drive/Colab Notebooks/cyberbullying_tweets.csv')"
      ]
    },
    {
      "cell_type": "code",
      "source": [
        "data.head()"
      ],
      "metadata": {
        "colab": {
          "base_uri": "https://localhost:8080/",
          "height": 206
        },
        "id": "gNgpCKgYOimt",
        "outputId": "74621471-cd43-48fd-90ed-9f30c1c4f91e"
      },
      "execution_count": null,
      "outputs": [
        {
          "output_type": "execute_result",
          "data": {
            "text/plain": [
              "                                          tweet_text cyberbullying_type\n",
              "0  In other words #katandandre, your food was cra...  not_cyberbullying\n",
              "1  Why is #aussietv so white? #MKR #theblock #ImA...  not_cyberbullying\n",
              "2  @XochitlSuckkks a classy whore? Or more red ve...  not_cyberbullying\n",
              "3  @Jason_Gio meh. :P  thanks for the heads up, b...  not_cyberbullying\n",
              "4  @RudhoeEnglish This is an ISIS account pretend...  not_cyberbullying"
            ],
            "text/html": [
              "\n",
              "  <div id=\"df-710a8199-ed7e-4190-ae6d-9d7a5923fc7d\">\n",
              "    <div class=\"colab-df-container\">\n",
              "      <div>\n",
              "<style scoped>\n",
              "    .dataframe tbody tr th:only-of-type {\n",
              "        vertical-align: middle;\n",
              "    }\n",
              "\n",
              "    .dataframe tbody tr th {\n",
              "        vertical-align: top;\n",
              "    }\n",
              "\n",
              "    .dataframe thead th {\n",
              "        text-align: right;\n",
              "    }\n",
              "</style>\n",
              "<table border=\"1\" class=\"dataframe\">\n",
              "  <thead>\n",
              "    <tr style=\"text-align: right;\">\n",
              "      <th></th>\n",
              "      <th>tweet_text</th>\n",
              "      <th>cyberbullying_type</th>\n",
              "    </tr>\n",
              "  </thead>\n",
              "  <tbody>\n",
              "    <tr>\n",
              "      <th>0</th>\n",
              "      <td>In other words #katandandre, your food was cra...</td>\n",
              "      <td>not_cyberbullying</td>\n",
              "    </tr>\n",
              "    <tr>\n",
              "      <th>1</th>\n",
              "      <td>Why is #aussietv so white? #MKR #theblock #ImA...</td>\n",
              "      <td>not_cyberbullying</td>\n",
              "    </tr>\n",
              "    <tr>\n",
              "      <th>2</th>\n",
              "      <td>@XochitlSuckkks a classy whore? Or more red ve...</td>\n",
              "      <td>not_cyberbullying</td>\n",
              "    </tr>\n",
              "    <tr>\n",
              "      <th>3</th>\n",
              "      <td>@Jason_Gio meh. :P  thanks for the heads up, b...</td>\n",
              "      <td>not_cyberbullying</td>\n",
              "    </tr>\n",
              "    <tr>\n",
              "      <th>4</th>\n",
              "      <td>@RudhoeEnglish This is an ISIS account pretend...</td>\n",
              "      <td>not_cyberbullying</td>\n",
              "    </tr>\n",
              "  </tbody>\n",
              "</table>\n",
              "</div>\n",
              "      <button class=\"colab-df-convert\" onclick=\"convertToInteractive('df-710a8199-ed7e-4190-ae6d-9d7a5923fc7d')\"\n",
              "              title=\"Convert this dataframe to an interactive table.\"\n",
              "              style=\"display:none;\">\n",
              "        \n",
              "  <svg xmlns=\"http://www.w3.org/2000/svg\" height=\"24px\"viewBox=\"0 0 24 24\"\n",
              "       width=\"24px\">\n",
              "    <path d=\"M0 0h24v24H0V0z\" fill=\"none\"/>\n",
              "    <path d=\"M18.56 5.44l.94 2.06.94-2.06 2.06-.94-2.06-.94-.94-2.06-.94 2.06-2.06.94zm-11 1L8.5 8.5l.94-2.06 2.06-.94-2.06-.94L8.5 2.5l-.94 2.06-2.06.94zm10 10l.94 2.06.94-2.06 2.06-.94-2.06-.94-.94-2.06-.94 2.06-2.06.94z\"/><path d=\"M17.41 7.96l-1.37-1.37c-.4-.4-.92-.59-1.43-.59-.52 0-1.04.2-1.43.59L10.3 9.45l-7.72 7.72c-.78.78-.78 2.05 0 2.83L4 21.41c.39.39.9.59 1.41.59.51 0 1.02-.2 1.41-.59l7.78-7.78 2.81-2.81c.8-.78.8-2.07 0-2.86zM5.41 20L4 18.59l7.72-7.72 1.47 1.35L5.41 20z\"/>\n",
              "  </svg>\n",
              "      </button>\n",
              "      \n",
              "  <style>\n",
              "    .colab-df-container {\n",
              "      display:flex;\n",
              "      flex-wrap:wrap;\n",
              "      gap: 12px;\n",
              "    }\n",
              "\n",
              "    .colab-df-convert {\n",
              "      background-color: #E8F0FE;\n",
              "      border: none;\n",
              "      border-radius: 50%;\n",
              "      cursor: pointer;\n",
              "      display: none;\n",
              "      fill: #1967D2;\n",
              "      height: 32px;\n",
              "      padding: 0 0 0 0;\n",
              "      width: 32px;\n",
              "    }\n",
              "\n",
              "    .colab-df-convert:hover {\n",
              "      background-color: #E2EBFA;\n",
              "      box-shadow: 0px 1px 2px rgba(60, 64, 67, 0.3), 0px 1px 3px 1px rgba(60, 64, 67, 0.15);\n",
              "      fill: #174EA6;\n",
              "    }\n",
              "\n",
              "    [theme=dark] .colab-df-convert {\n",
              "      background-color: #3B4455;\n",
              "      fill: #D2E3FC;\n",
              "    }\n",
              "\n",
              "    [theme=dark] .colab-df-convert:hover {\n",
              "      background-color: #434B5C;\n",
              "      box-shadow: 0px 1px 3px 1px rgba(0, 0, 0, 0.15);\n",
              "      filter: drop-shadow(0px 1px 2px rgba(0, 0, 0, 0.3));\n",
              "      fill: #FFFFFF;\n",
              "    }\n",
              "  </style>\n",
              "\n",
              "      <script>\n",
              "        const buttonEl =\n",
              "          document.querySelector('#df-710a8199-ed7e-4190-ae6d-9d7a5923fc7d button.colab-df-convert');\n",
              "        buttonEl.style.display =\n",
              "          google.colab.kernel.accessAllowed ? 'block' : 'none';\n",
              "\n",
              "        async function convertToInteractive(key) {\n",
              "          const element = document.querySelector('#df-710a8199-ed7e-4190-ae6d-9d7a5923fc7d');\n",
              "          const dataTable =\n",
              "            await google.colab.kernel.invokeFunction('convertToInteractive',\n",
              "                                                     [key], {});\n",
              "          if (!dataTable) return;\n",
              "\n",
              "          const docLinkHtml = 'Like what you see? Visit the ' +\n",
              "            '<a target=\"_blank\" href=https://colab.research.google.com/notebooks/data_table.ipynb>data table notebook</a>'\n",
              "            + ' to learn more about interactive tables.';\n",
              "          element.innerHTML = '';\n",
              "          dataTable['output_type'] = 'display_data';\n",
              "          await google.colab.output.renderOutput(dataTable, element);\n",
              "          const docLink = document.createElement('div');\n",
              "          docLink.innerHTML = docLinkHtml;\n",
              "          element.appendChild(docLink);\n",
              "        }\n",
              "      </script>\n",
              "    </div>\n",
              "  </div>\n",
              "  "
            ]
          },
          "metadata": {},
          "execution_count": 219
        }
      ]
    },
    {
      "cell_type": "code",
      "source": [
        "print(data.info())"
      ],
      "metadata": {
        "colab": {
          "base_uri": "https://localhost:8080/"
        },
        "id": "GMtuJ6QMOcm9",
        "outputId": "6c061327-1f45-4aaa-ffbb-f3f686411ad3"
      },
      "execution_count": null,
      "outputs": [
        {
          "output_type": "stream",
          "name": "stdout",
          "text": [
            "<class 'pandas.core.frame.DataFrame'>\n",
            "RangeIndex: 47692 entries, 0 to 47691\n",
            "Data columns (total 2 columns):\n",
            " #   Column              Non-Null Count  Dtype \n",
            "---  ------              --------------  ----- \n",
            " 0   tweet_text          47692 non-null  object\n",
            " 1   cyberbullying_type  47692 non-null  object\n",
            "dtypes: object(2)\n",
            "memory usage: 745.3+ KB\n",
            "None\n"
          ]
        }
      ]
    },
    {
      "cell_type": "code",
      "execution_count": null,
      "metadata": {
        "id": "Uk0P6yfU7QCv"
      },
      "outputs": [],
      "source": [
        "data = data.rename(columns={'tweet_text' : 'tweet', 'cyberbullying_type' : 'sentiment'})"
      ]
    },
    {
      "cell_type": "markdown",
      "source": [
        "Removing duplicates from given tweets.\n"
      ],
      "metadata": {
        "id": "lFdODN_fL349"
      }
    },
    {
      "cell_type": "code",
      "source": [
        "data[data.duplicated()].shape"
      ],
      "metadata": {
        "colab": {
          "base_uri": "https://localhost:8080/"
        },
        "id": "CqfLWM_3RAsm",
        "outputId": "8836db83-7b71-4455-8d7e-2960cb32ddf4"
      },
      "execution_count": null,
      "outputs": [
        {
          "output_type": "execute_result",
          "data": {
            "text/plain": [
              "(36, 2)"
            ]
          },
          "metadata": {},
          "execution_count": 222
        }
      ]
    },
    {
      "cell_type": "code",
      "execution_count": null,
      "metadata": {
        "id": "X5pmNhQj7i5k"
      },
      "outputs": [],
      "source": [
        "data = data[~data.duplicated()]"
      ]
    },
    {
      "cell_type": "code",
      "execution_count": null,
      "metadata": {
        "colab": {
          "base_uri": "https://localhost:8080/"
        },
        "id": "MuVEVGyX8JFQ",
        "outputId": "dcdb71b3-66df-46b8-8ffa-bb6ad360ec49"
      },
      "outputs": [
        {
          "output_type": "stream",
          "name": "stdout",
          "text": [
            "<class 'pandas.core.frame.DataFrame'>\n",
            "Int64Index: 47656 entries, 0 to 47691\n",
            "Data columns (total 2 columns):\n",
            " #   Column     Non-Null Count  Dtype \n",
            "---  ------     --------------  ----- \n",
            " 0   tweet      47656 non-null  object\n",
            " 1   sentiment  47656 non-null  object\n",
            "dtypes: object(2)\n",
            "memory usage: 1.1+ MB\n"
          ]
        }
      ],
      "source": [
        "data.info()"
      ]
    },
    {
      "cell_type": "markdown",
      "source": [
        "Showing class balance/imbalance result"
      ],
      "metadata": {
        "id": "CsFdHHECUC00"
      }
    },
    {
      "cell_type": "code",
      "execution_count": null,
      "metadata": {
        "colab": {
          "base_uri": "https://localhost:8080/"
        },
        "id": "2CYHASSe8-QM",
        "outputId": "af5187b8-451e-43db-d71b-e2a6d5ec53e2"
      },
      "outputs": [
        {
          "output_type": "execute_result",
          "data": {
            "text/plain": [
              "religion               7997\n",
              "age                    7992\n",
              "ethnicity              7959\n",
              "gender                 7948\n",
              "not_cyberbullying      7937\n",
              "other_cyberbullying    7823\n",
              "Name: sentiment, dtype: int64"
            ]
          },
          "metadata": {},
          "execution_count": 225
        }
      ],
      "source": [
        "data.sentiment.value_counts()"
      ]
    },
    {
      "cell_type": "code",
      "source": [
        "plt.figure(figsize=(7,5))\n",
        "plt.title('Showing class balance/imbalance result');\n",
        "data['sentiment'].value_counts().plot.bar(rot = 20);\n",
        "plt.xlabel('Sentiments');\n",
        "plt.ylabel('Counts of tweet');\n",
        "plt.show();"
      ],
      "metadata": {
        "colab": {
          "base_uri": "https://localhost:8080/",
          "height": 384
        },
        "id": "k3n1aLGSUKb9",
        "outputId": "791cdd28-2d8b-4e34-eb5a-55d0843ea81f"
      },
      "execution_count": null,
      "outputs": [
        {
          "output_type": "display_data",
          "data": {
            "text/plain": [
              "<Figure size 504x360 with 1 Axes>"
            ],
            "image/png": "[encoded data removed]"
          },
          "metadata": {
            "needs_background": "light"
          }
        }
      ]
    },
    {
      "cell_type": "markdown",
      "source": [
        "From above, we can see that Dataset is **balanced** among different classes of sentiments."
      ],
      "metadata": {
        "id": "AP8yW6YcWfno"
      }
    },
    {
      "cell_type": "markdown",
      "source": [
        "Importing and downloading different packages for data cleaning"
      ],
      "metadata": {
        "id": "9f51Bp_fMv4B"
      }
    },
    {
      "cell_type": "code",
      "execution_count": null,
      "metadata": {
        "colab": {
          "base_uri": "https://localhost:8080/"
        },
        "id": "syn-OBARIie0",
        "outputId": "7f497513-8e56-4347-950f-b716e80db901"
      },
      "outputs": [
        {
          "output_type": "stream",
          "name": "stdout",
          "text": [
            "Requirement already satisfied: emoji in /usr/local/lib/python3.7/dist-packages (1.7.0)\n"
          ]
        }
      ],
      "source": [
        "pip install emoji"
      ]
    },
    {
      "cell_type": "markdown",
      "source": [
        "Importing nltk"
      ],
      "metadata": {
        "id": "fI7C4yarM7kv"
      }
    },
    {
      "cell_type": "code",
      "execution_count": null,
      "metadata": {
        "colab": {
          "base_uri": "https://localhost:8080/"
        },
        "id": "Zx346TICk0XM",
        "outputId": "2d6252fc-af5e-4a8d-ac3d-565966641f75"
      },
      "outputs": [
        {
          "output_type": "stream",
          "name": "stdout",
          "text": [
            "[nltk_data] Downloading package stopwords to /root/nltk_data...\n",
            "[nltk_data]   Package stopwords is already up-to-date!\n"
          ]
        },
        {
          "output_type": "execute_result",
          "data": {
            "text/plain": [
              "True"
            ]
          },
          "metadata": {},
          "execution_count": 228
        }
      ],
      "source": [
        "import nltk\n",
        "# For removing stopwords\n",
        "nltk.download('stopwords')"
      ]
    },
    {
      "cell_type": "code",
      "execution_count": null,
      "metadata": {
        "colab": {
          "base_uri": "https://localhost:8080/"
        },
        "id": "ACiTq_1r2lJ-",
        "outputId": "add90968-fa7b-437a-add5-35ecfbcdaeb6"
      },
      "outputs": [
        {
          "output_type": "stream",
          "name": "stdout",
          "text": [
            "[nltk_data] Downloading package punkt to /root/nltk_data...\n",
            "[nltk_data]   Package punkt is already up-to-date!\n"
          ]
        },
        {
          "output_type": "execute_result",
          "data": {
            "text/plain": [
              "True"
            ]
          },
          "metadata": {},
          "execution_count": 229
        }
      ],
      "source": [
        "nltk.download('punkt')"
      ]
    },
    {
      "cell_type": "markdown",
      "metadata": {
        "id": "N6tAorFrAn2K"
      },
      "source": [
        "## Now, let's proceed towards basic cleaning of tweets."
      ]
    },
    {
      "cell_type": "code",
      "execution_count": null,
      "metadata": {
        "id": "esXr4c_F9IxB"
      },
      "outputs": [],
      "source": [
        "import re, string\n",
        "import emoji\n",
        "from nltk.corpus import stopwords\n",
        "stop_words = set(stopwords.words('english'))\n",
        "\n",
        "\n",
        "def remove_emoji(text):  # For removing the emojis from the text\n",
        "  return re.sub(emoji.get_emoji_regexp(), r\"\", text)\n",
        "\n",
        "\n",
        "def remove_entities(text):\n",
        "  text = text.replace('\\r', '').replace('\\n', ' ').lower() # For removing \\n and \\r from the text and then lowercasing the text\n",
        "  text = re.sub(r\"(?:\\@|https?\\://)\\S+\", \"\", text)\n",
        "  text = re.sub(r'[^\\x00-\\x7f]', r'', text)\n",
        "  punctuation_words = string.punctuation\n",
        "  table = text.maketrans('', '', punctuation_words)\n",
        "  text = text.translate(table)\n",
        "  text = [word for word in text.split() if word not in stop_words]\n",
        "  text = ' '.join(text)\n",
        "  text = ' '.join(word for word in text.split() if len(word)<14)\n",
        "  return text\n",
        "\n",
        "\n",
        "def remove_contractions(text):\n",
        "  text = re.sub(r\"can\\'t\", \"can not\", text)\n",
        "  text = re.sub(r\"n\\'t\", \" not\", text)\n",
        "  text = re.sub(r\"\\'re\", \" are\", text)\n",
        "  text = re.sub(r\"\\'s\", \" is\", text)\n",
        "  text = re.sub(r\"\\'d\", \" would\", text)\n",
        "  text = re.sub(r\"\\'ll\", \" will\", text)\n",
        "  text = re.sub(r\"\\'t\", \" not\", text)\n",
        "  text = re.sub(r\"\\'ve\", \" have\", text)\n",
        "  text = re.sub(r\"\\'m\", \" am\", text)\n",
        "  return text\n",
        "\n",
        "\n",
        "def remove_hashtags(text):\n",
        "  new_text = \" \".join(word.strip() for word in re.split('#(?!(?:hashtag)\\b)[\\w-]+(?=(?:\\s+#[\\w-]+)*\\s*$)', text))\n",
        "  new_text2 = \" \".join(word.strip() for word in re.split('#|_', new_text))\n",
        "  return new_text2\n",
        "\n",
        "\n",
        "def filter_characters(text):\n",
        "  filtered = []\n",
        "  for word in text.split(' '):\n",
        "    if ('$' in word) | ('&' in word):\n",
        "      filtered.append('')\n",
        "    else:\n",
        "      filtered.append(word)\n",
        "  return ' '.join(filtered)\n",
        "\n",
        "\n",
        "def remove_mult_spaces(text):\n",
        "  return re.sub(\"\\s\\s+\", \" \", text)\n",
        "\n",
        "\n",
        "# Basic cleaning - \n",
        "def basic_cleaning(text):\n",
        "  text = remove_emoji(text)\n",
        "  text = remove_contractions(text)\n",
        "  text = remove_entities(text)\n",
        "  text = remove_hashtags(text)\n",
        "  text = filter_characters(text)\n",
        "  text = remove_mult_spaces(text)\n",
        "  return text"
      ]
    },
    {
      "cell_type": "markdown",
      "source": [
        "Using basic_cleaning() function defined above to do basic cleaning."
      ],
      "metadata": {
        "id": "Fq4m3mt6fZyW"
      }
    },
    {
      "cell_type": "code",
      "source": [
        "basic_clean_tweets = []\n",
        "for text in data['tweet']:\n",
        "  basic_clean_tweets.append(basic_cleaning(text))"
      ],
      "metadata": {
        "colab": {
          "base_uri": "https://localhost:8080/"
        },
        "id": "VttL1z8SfR84",
        "outputId": "1d6b735e-87fc-415c-b29d-2ba179c86525"
      },
      "execution_count": null,
      "outputs": [
        {
          "output_type": "stream",
          "name": "stderr",
          "text": [
            "/usr/local/lib/python3.7/dist-packages/ipykernel_launcher.py:8: DeprecationWarning: 'emoji.get_emoji_regexp()' is deprecated and will be removed in version 2.0.0. If you want to remove emoji from a string, consider the method emoji.replace_emoji(str, replace='').\n",
            "To hide this warning, pin/downgrade the package to 'emoji~=1.6.3'\n",
            "  \n"
          ]
        }
      ]
    },
    {
      "cell_type": "code",
      "source": [
        "basic_clean_df = pd.DataFrame(basic_clean_tweets, columns = ['Basic clean']);\n",
        "basic_clean_df['sentiment'] = data['sentiment'].values\n",
        "basic_clean_df.head()\n",
        "\n",
        "# We can see that basic cleaning of tweets has been done."
      ],
      "metadata": {
        "colab": {
          "base_uri": "https://localhost:8080/",
          "height": 206
        },
        "id": "vrjWuvkmgbg3",
        "outputId": "cc0a16e7-56ae-4b01-d4d7-e23acd27e2c6"
      },
      "execution_count": null,
      "outputs": [
        {
          "output_type": "execute_result",
          "data": {
            "text/plain": [
              "                                         Basic clean          sentiment\n",
              "0            words katandandre food crapilicious mkr  not_cyberbullying\n",
              "1  aussietv white mkr theblock today sunrise stud...  not_cyberbullying\n",
              "2                   classy whore red velvet cupcakes  not_cyberbullying\n",
              "3  meh p thanks heads concerned another angry dud...  not_cyberbullying\n",
              "4  isis account pretending kurdish account like i...  not_cyberbullying"
            ],
            "text/html": [
              "\n",
              "  <div id=\"df-9e725d4e-80a5-48c6-a6fe-0395263358ee\">\n",
              "    <div class=\"colab-df-container\">\n",
              "      <div>\n",
              "<style scoped>\n",
              "    .dataframe tbody tr th:only-of-type {\n",
              "        vertical-align: middle;\n",
              "    }\n",
              "\n",
              "    .dataframe tbody tr th {\n",
              "        vertical-align: top;\n",
              "    }\n",
              "\n",
              "    .dataframe thead th {\n",
              "        text-align: right;\n",
              "    }\n",
              "</style>\n",
              "<table border=\"1\" class=\"dataframe\">\n",
              "  <thead>\n",
              "    <tr style=\"text-align: right;\">\n",
              "      <th></th>\n",
              "      <th>Basic clean</th>\n",
              "      <th>sentiment</th>\n",
              "    </tr>\n",
              "  </thead>\n",
              "  <tbody>\n",
              "    <tr>\n",
              "      <th>0</th>\n",
              "      <td>words katandandre food crapilicious mkr</td>\n",
              "      <td>not_cyberbullying</td>\n",
              "    </tr>\n",
              "    <tr>\n",
              "      <th>1</th>\n",
              "      <td>aussietv white mkr theblock today sunrise stud...</td>\n",
              "      <td>not_cyberbullying</td>\n",
              "    </tr>\n",
              "    <tr>\n",
              "      <th>2</th>\n",
              "      <td>classy whore red velvet cupcakes</td>\n",
              "      <td>not_cyberbullying</td>\n",
              "    </tr>\n",
              "    <tr>\n",
              "      <th>3</th>\n",
              "      <td>meh p thanks heads concerned another angry dud...</td>\n",
              "      <td>not_cyberbullying</td>\n",
              "    </tr>\n",
              "    <tr>\n",
              "      <th>4</th>\n",
              "      <td>isis account pretending kurdish account like i...</td>\n",
              "      <td>not_cyberbullying</td>\n",
              "    </tr>\n",
              "  </tbody>\n",
              "</table>\n",
              "</div>\n",
              "      <button class=\"colab-df-convert\" onclick=\"convertToInteractive('df-9e725d4e-80a5-48c6-a6fe-0395263358ee')\"\n",
              "              title=\"Convert this dataframe to an interactive table.\"\n",
              "              style=\"display:none;\">\n",
              "        \n",
              "  <svg xmlns=\"http://www.w3.org/2000/svg\" height=\"24px\"viewBox=\"0 0 24 24\"\n",
              "       width=\"24px\">\n",
              "    <path d=\"M0 0h24v24H0V0z\" fill=\"none\"/>\n",
              "    <path d=\"M18.56 5.44l.94 2.06.94-2.06 2.06-.94-2.06-.94-.94-2.06-.94 2.06-2.06.94zm-11 1L8.5 8.5l.94-2.06 2.06-.94-2.06-.94L8.5 2.5l-.94 2.06-2.06.94zm10 10l.94 2.06.94-2.06 2.06-.94-2.06-.94-.94-2.06-.94 2.06-2.06.94z\"/><path d=\"M17.41 7.96l-1.37-1.37c-.4-.4-.92-.59-1.43-.59-.52 0-1.04.2-1.43.59L10.3 9.45l-7.72 7.72c-.78.78-.78 2.05 0 2.83L4 21.41c.39.39.9.59 1.41.59.51 0 1.02-.2 1.41-.59l7.78-7.78 2.81-2.81c.8-.78.8-2.07 0-2.86zM5.41 20L4 18.59l7.72-7.72 1.47 1.35L5.41 20z\"/>\n",
              "  </svg>\n",
              "      </button>\n",
              "      \n",
              "  <style>\n",
              "    .colab-df-container {\n",
              "      display:flex;\n",
              "      flex-wrap:wrap;\n",
              "      gap: 12px;\n",
              "    }\n",
              "\n",
              "    .colab-df-convert {\n",
              "      background-color: #E8F0FE;\n",
              "      border: none;\n",
              "      border-radius: 50%;\n",
              "      cursor: pointer;\n",
              "      display: none;\n",
              "      fill: #1967D2;\n",
              "      height: 32px;\n",
              "      padding: 0 0 0 0;\n",
              "      width: 32px;\n",
              "    }\n",
              "\n",
              "    .colab-df-convert:hover {\n",
              "      background-color: #E2EBFA;\n",
              "      box-shadow: 0px 1px 2px rgba(60, 64, 67, 0.3), 0px 1px 3px 1px rgba(60, 64, 67, 0.15);\n",
              "      fill: #174EA6;\n",
              "    }\n",
              "\n",
              "    [theme=dark] .colab-df-convert {\n",
              "      background-color: #3B4455;\n",
              "      fill: #D2E3FC;\n",
              "    }\n",
              "\n",
              "    [theme=dark] .colab-df-convert:hover {\n",
              "      background-color: #434B5C;\n",
              "      box-shadow: 0px 1px 3px 1px rgba(0, 0, 0, 0.15);\n",
              "      filter: drop-shadow(0px 1px 2px rgba(0, 0, 0, 0.3));\n",
              "      fill: #FFFFFF;\n",
              "    }\n",
              "  </style>\n",
              "\n",
              "      <script>\n",
              "        const buttonEl =\n",
              "          document.querySelector('#df-9e725d4e-80a5-48c6-a6fe-0395263358ee button.colab-df-convert');\n",
              "        buttonEl.style.display =\n",
              "          google.colab.kernel.accessAllowed ? 'block' : 'none';\n",
              "\n",
              "        async function convertToInteractive(key) {\n",
              "          const element = document.querySelector('#df-9e725d4e-80a5-48c6-a6fe-0395263358ee');\n",
              "          const dataTable =\n",
              "            await google.colab.kernel.invokeFunction('convertToInteractive',\n",
              "                                                     [key], {});\n",
              "          if (!dataTable) return;\n",
              "\n",
              "          const docLinkHtml = 'Like what you see? Visit the ' +\n",
              "            '<a target=\"_blank\" href=https://colab.research.google.com/notebooks/data_table.ipynb>data table notebook</a>'\n",
              "            + ' to learn more about interactive tables.';\n",
              "          element.innerHTML = '';\n",
              "          dataTable['output_type'] = 'display_data';\n",
              "          await google.colab.output.renderOutput(dataTable, element);\n",
              "          const docLink = document.createElement('div');\n",
              "          docLink.innerHTML = docLinkHtml;\n",
              "          element.appendChild(docLink);\n",
              "        }\n",
              "      </script>\n",
              "    </div>\n",
              "  </div>\n",
              "  "
            ]
          },
          "metadata": {},
          "execution_count": 232
        }
      ]
    },
    {
      "cell_type": "markdown",
      "source": [
        "Removing duplicates from basic cleaned tweets."
      ],
      "metadata": {
        "id": "OZ7XiS1iWfeb"
      }
    },
    {
      "cell_type": "code",
      "source": [
        "basic_clean_df.shape"
      ],
      "metadata": {
        "colab": {
          "base_uri": "https://localhost:8080/"
        },
        "id": "PQjHUGB2YIiU",
        "outputId": "7a6f616c-30a8-4c1e-894c-e3bc7a098019"
      },
      "execution_count": null,
      "outputs": [
        {
          "output_type": "execute_result",
          "data": {
            "text/plain": [
              "(47656, 2)"
            ]
          },
          "metadata": {},
          "execution_count": 233
        }
      ]
    },
    {
      "cell_type": "code",
      "execution_count": null,
      "metadata": {
        "colab": {
          "base_uri": "https://localhost:8080/"
        },
        "id": "paGs5agW5eMs",
        "outputId": "9ba4b5c2-b2b9-4d3e-f7db-8213906d286c"
      },
      "outputs": [
        {
          "output_type": "execute_result",
          "data": {
            "text/plain": [
              "2998"
            ]
          },
          "metadata": {},
          "execution_count": 234
        }
      ],
      "source": [
        "basic_clean_df['Basic clean'].duplicated().sum()"
      ]
    },
    {
      "cell_type": "code",
      "execution_count": null,
      "metadata": {
        "colab": {
          "base_uri": "https://localhost:8080/"
        },
        "id": "d1P0s8o-5moy",
        "outputId": "3dadcd28-01ed-4623-9940-9c52f644b6fc"
      },
      "outputs": [
        {
          "output_type": "execute_result",
          "data": {
            "text/plain": [
              "(44658, 2)"
            ]
          },
          "metadata": {},
          "execution_count": 235
        }
      ],
      "source": [
        "basic_clean_df.drop_duplicates('Basic clean', inplace = True)\n",
        "# Removed duplicates\n",
        "basic_clean_df.shape"
      ]
    },
    {
      "cell_type": "markdown",
      "source": [
        "Dropping other_cyberbullying"
      ],
      "metadata": {
        "id": "dtAa6KqrXnEn"
      }
    },
    {
      "cell_type": "code",
      "execution_count": null,
      "metadata": {
        "id": "iVCHqtlg6Jz0"
      },
      "outputs": [],
      "source": [
        "basic_clean_df = basic_clean_df[basic_clean_df['sentiment'] != \"other_cyberbullying\"]"
      ]
    },
    {
      "cell_type": "code",
      "execution_count": null,
      "metadata": {
        "colab": {
          "base_uri": "https://localhost:8080/"
        },
        "id": "_jmSDH6L51Fe",
        "outputId": "81289930-12c5-464f-f3ab-f5f182476ff6"
      },
      "outputs": [
        {
          "output_type": "execute_result",
          "data": {
            "text/plain": [
              "religion             7948\n",
              "age                  7898\n",
              "ethnicity            7751\n",
              "not_cyberbullying    7648\n",
              "gender               7616\n",
              "Name: sentiment, dtype: int64"
            ]
          },
          "metadata": {},
          "execution_count": 237
        }
      ],
      "source": [
        "basic_clean_df['sentiment'].value_counts()"
      ]
    },
    {
      "cell_type": "markdown",
      "source": [
        "Creating tweet_length column for basic cleaned tweets"
      ],
      "metadata": {
        "id": "ZRcCrPy1Xwpu"
      }
    },
    {
      "cell_type": "code",
      "execution_count": null,
      "metadata": {
        "colab": {
          "base_uri": "https://localhost:8080/",
          "height": 206
        },
        "id": "RfKbAj3d6lPc",
        "outputId": "6dc933fc-5ed8-47de-bcf3-0f0f116533bb"
      },
      "outputs": [
        {
          "output_type": "execute_result",
          "data": {
            "text/plain": [
              "                                         Basic clean          sentiment  \\\n",
              "0            words katandandre food crapilicious mkr  not_cyberbullying   \n",
              "1  aussietv white mkr theblock today sunrise stud...  not_cyberbullying   \n",
              "2                   classy whore red velvet cupcakes  not_cyberbullying   \n",
              "3  meh p thanks heads concerned another angry dud...  not_cyberbullying   \n",
              "4  isis account pretending kurdish account like i...  not_cyberbullying   \n",
              "\n",
              "   tweet_length  \n",
              "0             5  \n",
              "1            10  \n",
              "2             5  \n",
              "3             9  \n",
              "4             8  "
            ],
            "text/html": [
              "\n",
              "  <div id=\"df-f0af06b1-75aa-406a-9659-30729985bb2e\">\n",
              "    <div class=\"colab-df-container\">\n",
              "      <div>\n",
              "<style scoped>\n",
              "    .dataframe tbody tr th:only-of-type {\n",
              "        vertical-align: middle;\n",
              "    }\n",
              "\n",
              "    .dataframe tbody tr th {\n",
              "        vertical-align: top;\n",
              "    }\n",
              "\n",
              "    .dataframe thead th {\n",
              "        text-align: right;\n",
              "    }\n",
              "</style>\n",
              "<table border=\"1\" class=\"dataframe\">\n",
              "  <thead>\n",
              "    <tr style=\"text-align: right;\">\n",
              "      <th></th>\n",
              "      <th>Basic clean</th>\n",
              "      <th>sentiment</th>\n",
              "      <th>tweet_length</th>\n",
              "    </tr>\n",
              "  </thead>\n",
              "  <tbody>\n",
              "    <tr>\n",
              "      <th>0</th>\n",
              "      <td>words katandandre food crapilicious mkr</td>\n",
              "      <td>not_cyberbullying</td>\n",
              "      <td>5</td>\n",
              "    </tr>\n",
              "    <tr>\n",
              "      <th>1</th>\n",
              "      <td>aussietv white mkr theblock today sunrise stud...</td>\n",
              "      <td>not_cyberbullying</td>\n",
              "      <td>10</td>\n",
              "    </tr>\n",
              "    <tr>\n",
              "      <th>2</th>\n",
              "      <td>classy whore red velvet cupcakes</td>\n",
              "      <td>not_cyberbullying</td>\n",
              "      <td>5</td>\n",
              "    </tr>\n",
              "    <tr>\n",
              "      <th>3</th>\n",
              "      <td>meh p thanks heads concerned another angry dud...</td>\n",
              "      <td>not_cyberbullying</td>\n",
              "      <td>9</td>\n",
              "    </tr>\n",
              "    <tr>\n",
              "      <th>4</th>\n",
              "      <td>isis account pretending kurdish account like i...</td>\n",
              "      <td>not_cyberbullying</td>\n",
              "      <td>8</td>\n",
              "    </tr>\n",
              "  </tbody>\n",
              "</table>\n",
              "</div>\n",
              "      <button class=\"colab-df-convert\" onclick=\"convertToInteractive('df-f0af06b1-75aa-406a-9659-30729985bb2e')\"\n",
              "              title=\"Convert this dataframe to an interactive table.\"\n",
              "              style=\"display:none;\">\n",
              "        \n",
              "  <svg xmlns=\"http://www.w3.org/2000/svg\" height=\"24px\"viewBox=\"0 0 24 24\"\n",
              "       width=\"24px\">\n",
              "    <path d=\"M0 0h24v24H0V0z\" fill=\"none\"/>\n",
              "    <path d=\"M18.56 5.44l.94 2.06.94-2.06 2.06-.94-2.06-.94-.94-2.06-.94 2.06-2.06.94zm-11 1L8.5 8.5l.94-2.06 2.06-.94-2.06-.94L8.5 2.5l-.94 2.06-2.06.94zm10 10l.94 2.06.94-2.06 2.06-.94-2.06-.94-.94-2.06-.94 2.06-2.06.94z\"/><path d=\"M17.41 7.96l-1.37-1.37c-.4-.4-.92-.59-1.43-.59-.52 0-1.04.2-1.43.59L10.3 9.45l-7.72 7.72c-.78.78-.78 2.05 0 2.83L4 21.41c.39.39.9.59 1.41.59.51 0 1.02-.2 1.41-.59l7.78-7.78 2.81-2.81c.8-.78.8-2.07 0-2.86zM5.41 20L4 18.59l7.72-7.72 1.47 1.35L5.41 20z\"/>\n",
              "  </svg>\n",
              "      </button>\n",
              "      \n",
              "  <style>\n",
              "    .colab-df-container {\n",
              "      display:flex;\n",
              "      flex-wrap:wrap;\n",
              "      gap: 12px;\n",
              "    }\n",
              "\n",
              "    .colab-df-convert {\n",
              "      background-color: #E8F0FE;\n",
              "      border: none;\n",
              "      border-radius: 50%;\n",
              "      cursor: pointer;\n",
              "      display: none;\n",
              "      fill: #1967D2;\n",
              "      height: 32px;\n",
              "      padding: 0 0 0 0;\n",
              "      width: 32px;\n",
              "    }\n",
              "\n",
              "    .colab-df-convert:hover {\n",
              "      background-color: #E2EBFA;\n",
              "      box-shadow: 0px 1px 2px rgba(60, 64, 67, 0.3), 0px 1px 3px 1px rgba(60, 64, 67, 0.15);\n",
              "      fill: #174EA6;\n",
              "    }\n",
              "\n",
              "    [theme=dark] .colab-df-convert {\n",
              "      background-color: #3B4455;\n",
              "      fill: #D2E3FC;\n",
              "    }\n",
              "\n",
              "    [theme=dark] .colab-df-convert:hover {\n",
              "      background-color: #434B5C;\n",
              "      box-shadow: 0px 1px 3px 1px rgba(0, 0, 0, 0.15);\n",
              "      filter: drop-shadow(0px 1px 2px rgba(0, 0, 0, 0.3));\n",
              "      fill: #FFFFFF;\n",
              "    }\n",
              "  </style>\n",
              "\n",
              "      <script>\n",
              "        const buttonEl =\n",
              "          document.querySelector('#df-f0af06b1-75aa-406a-9659-30729985bb2e button.colab-df-convert');\n",
              "        buttonEl.style.display =\n",
              "          google.colab.kernel.accessAllowed ? 'block' : 'none';\n",
              "\n",
              "        async function convertToInteractive(key) {\n",
              "          const element = document.querySelector('#df-f0af06b1-75aa-406a-9659-30729985bb2e');\n",
              "          const dataTable =\n",
              "            await google.colab.kernel.invokeFunction('convertToInteractive',\n",
              "                                                     [key], {});\n",
              "          if (!dataTable) return;\n",
              "\n",
              "          const docLinkHtml = 'Like what you see? Visit the ' +\n",
              "            '<a target=\"_blank\" href=https://colab.research.google.com/notebooks/data_table.ipynb>data table notebook</a>'\n",
              "            + ' to learn more about interactive tables.';\n",
              "          element.innerHTML = '';\n",
              "          dataTable['output_type'] = 'display_data';\n",
              "          await google.colab.output.renderOutput(dataTable, element);\n",
              "          const docLink = document.createElement('div');\n",
              "          docLink.innerHTML = docLinkHtml;\n",
              "          element.appendChild(docLink);\n",
              "        }\n",
              "      </script>\n",
              "    </div>\n",
              "  </div>\n",
              "  "
            ]
          },
          "metadata": {},
          "execution_count": 238
        }
      ],
      "source": [
        "text_length = []\n",
        "for text in basic_clean_df['Basic clean']:\n",
        "  tweet_length = len(text.split())\n",
        "  text_length.append(tweet_length)\n",
        "\n",
        "basic_clean_df['tweet_length'] = text_length\n",
        "basic_clean_df.head()"
      ]
    },
    {
      "cell_type": "markdown",
      "source": [
        "Showing Count plot of tweets length "
      ],
      "metadata": {
        "id": "pHN__Y40X8aP"
      }
    },
    {
      "cell_type": "code",
      "execution_count": null,
      "metadata": {
        "colab": {
          "base_uri": "https://localhost:8080/",
          "height": 351
        },
        "id": "4s1EJse67F2w",
        "outputId": "267ffd13-da4b-4955-f57f-c30b21640115"
      },
      "outputs": [
        {
          "output_type": "display_data",
          "data": {
            "text/plain": [
              "<Figure size 1296x360 with 1 Axes>"
            ],
            "image/png": "[encoded data removed]"
          },
          "metadata": {
            "needs_background": "light"
          }
        }
      ],
      "source": [
        "import matplotlib.pyplot as plt\n",
        "plt.figure(figsize=(18,5))\n",
        "# Using countplot\n",
        "ax = sns.countplot(x='tweet_length', data=basic_clean_df)\n",
        "plt.title('Graph of count of tweets and thier tweet length')\n",
        "plt.ylabel('count')\n",
        "plt.xlabel('Tweet_length')\n",
        "plt.show()"
      ]
    },
    {
      "cell_type": "markdown",
      "source": [
        "From the above graph, we can see the distribution of length of cleaned tweets."
      ],
      "metadata": {
        "id": "6HhQrdkNjJDk"
      }
    },
    {
      "cell_type": "markdown",
      "source": [
        "So, removing tweets of length greater than 100 and less than 1."
      ],
      "metadata": {
        "id": "MhflKmOYk0_v"
      }
    },
    {
      "cell_type": "code",
      "execution_count": null,
      "metadata": {
        "id": "OTath6pb-NSu"
      },
      "outputs": [],
      "source": [
        "basic_clean_df = basic_clean_df[(basic_clean_df['tweet_length'] <= 100) & (basic_clean_df['tweet_length'] >0)]"
      ]
    },
    {
      "cell_type": "code",
      "source": [
        "basic_clean_df.shape"
      ],
      "metadata": {
        "colab": {
          "base_uri": "https://localhost:8080/"
        },
        "id": "vWKkJr5gb1Lx",
        "outputId": "9aeb873b-8ef7-4821-fa2d-02063b6f36c0"
      },
      "execution_count": null,
      "outputs": [
        {
          "output_type": "execute_result",
          "data": {
            "text/plain": [
              "(38851, 3)"
            ]
          },
          "metadata": {},
          "execution_count": 241
        }
      ]
    },
    {
      "cell_type": "code",
      "execution_count": null,
      "metadata": {
        "colab": {
          "base_uri": "https://localhost:8080/"
        },
        "id": "JunkHLzF-U2l",
        "outputId": "362e2d6c-8422-4180-a1cb-e68ff29b1797"
      },
      "outputs": [
        {
          "output_type": "stream",
          "name": "stdout",
          "text": [
            "Maximum length of tweet: 79\n"
          ]
        }
      ],
      "source": [
        "max_length = np.max(basic_clean_df['tweet_length'])\n",
        "print(\"Maximum length of tweet:\",max_length)"
      ]
    },
    {
      "cell_type": "markdown",
      "source": [
        "## Proceeding towards Stemming and Lemmatization techniques."
      ],
      "metadata": {
        "id": "2-cLtAiZhB8D"
      }
    },
    {
      "cell_type": "markdown",
      "source": [
        "For further cleaning in this section, we will be generating three columns.\n",
        "\n",
        "1.   Stemming of basic cleaned tweets\n",
        "2.   Lemmatization of basic cleaned tweets\n",
        "3.   Lemmatization followed by Stemming of cleaned tweets.\n",
        "\n",
        "We will select one techinique from above three based on thier performance.\n"
      ],
      "metadata": {
        "id": "M3wcUhVdoQbo"
      }
    },
    {
      "cell_type": "code",
      "source": [
        "nltk.download('wordnet')"
      ],
      "metadata": {
        "colab": {
          "base_uri": "https://localhost:8080/"
        },
        "id": "MRVc9gzTpu14",
        "outputId": "9c48ee11-5d8c-4374-cfb4-e5d2ddd6f208"
      },
      "execution_count": null,
      "outputs": [
        {
          "output_type": "stream",
          "name": "stdout",
          "text": [
            "[nltk_data] Downloading package wordnet to /root/nltk_data...\n",
            "[nltk_data]   Package wordnet is already up-to-date!\n"
          ]
        },
        {
          "output_type": "execute_result",
          "data": {
            "text/plain": [
              "True"
            ]
          },
          "metadata": {},
          "execution_count": 243
        }
      ]
    },
    {
      "cell_type": "code",
      "source": [
        "from nltk.stem import WordNetLemmatizer,PorterStemmer\n",
        "\n",
        "def stemming(text):\n",
        "  tokenized = nltk.word_tokenize(text)\n",
        "  ps = PorterStemmer()\n",
        "  return ' '.join([ps.stem(words) for words in tokenized])\n",
        "\n",
        "\n",
        "def lemmatize(text):\n",
        "  tokenized = nltk.word_tokenize(text)\n",
        "  lm = WordNetLemmatizer()\n",
        "  return ' '.join([lm.lemmatize(words) for words in tokenized])"
      ],
      "metadata": {
        "id": "5-Rdwwe4dsfb"
      },
      "execution_count": null,
      "outputs": []
    },
    {
      "cell_type": "markdown",
      "source": [
        "Using above functions to do stemming and lemmatization on basic clean tweets"
      ],
      "metadata": {
        "id": "S5lA5dIjlRmD"
      }
    },
    {
      "cell_type": "code",
      "source": [
        "# For stemming and lemmatization\n",
        "stem_tweets = []\n",
        "lemma_tweets = []\n",
        "lemma_stem_tweets = [];\n",
        "\n",
        "# For stemming and lemmatization\n",
        "for text in basic_clean_df['Basic clean']:\n",
        "  stem_tweets.append(stemming(text));      # Stemming\n",
        "  lemma_tweets.append(lemmatize(text));    # Lemmatize\n",
        "\n",
        "# For lemmatization followed by stemming\n",
        "for text in lemma_tweets:\n",
        "  lemma_stem_tweets.append(stemming(text));"
      ],
      "metadata": {
        "id": "9tNmgPOOleuh"
      },
      "execution_count": null,
      "outputs": []
    },
    {
      "cell_type": "markdown",
      "source": [
        "Showing three results of Stemming, Lemmatization and Lemma+Stemming"
      ],
      "metadata": {
        "id": "kk5ot3CDqTqX"
      }
    },
    {
      "cell_type": "code",
      "source": [
        "basic_clean_df['Stemming'] = stem_tweets;\n",
        "basic_clean_df['Lemmatization'] = lemma_tweets;\n",
        "basic_clean_df['Lemma_Stemming'] = lemma_stem_tweets;\n",
        "basic_clean_df.head()\n",
        "\n",
        "# We can see that in stemming is just removing last few characters of words.\n",
        "# Whereas lemmatization is considering context of words and converting to its\n",
        "# meaningful baseform."
      ],
      "metadata": {
        "colab": {
          "base_uri": "https://localhost:8080/",
          "height": 320
        },
        "id": "JuI8KAC5qD5H",
        "outputId": "01ec0f39-4f89-4cac-a959-375ddd396b97"
      },
      "execution_count": null,
      "outputs": [
        {
          "output_type": "execute_result",
          "data": {
            "text/plain": [
              "                                         Basic clean          sentiment  \\\n",
              "0            words katandandre food crapilicious mkr  not_cyberbullying   \n",
              "1  aussietv white mkr theblock today sunrise stud...  not_cyberbullying   \n",
              "2                   classy whore red velvet cupcakes  not_cyberbullying   \n",
              "3  meh p thanks heads concerned another angry dud...  not_cyberbullying   \n",
              "4  isis account pretending kurdish account like i...  not_cyberbullying   \n",
              "\n",
              "   tweet_length                                           Stemming  \\\n",
              "0             5                 word katandandr food crapilici mkr   \n",
              "1            10  aussietv white mkr theblock today sunris studi...   \n",
              "2             5                     classi whore red velvet cupcak   \n",
              "3             9  meh p thank head concern anoth angri dude twitter   \n",
              "4             8  isi account pretend kurdish account like islam...   \n",
              "\n",
              "                                       Lemmatization  \\\n",
              "0             word katandandre food crapilicious mkr   \n",
              "1  aussietv white mkr theblock today sunrise stud...   \n",
              "2                    classy whore red velvet cupcake   \n",
              "3  meh p thanks head concerned another angry dude...   \n",
              "4  isi account pretending kurdish account like is...   \n",
              "\n",
              "                                      Lemma_Stemming  \n",
              "0                 word katandandr food crapilici mkr  \n",
              "1  aussietv white mkr theblock today sunris studi...  \n",
              "2                     classi whore red velvet cupcak  \n",
              "3  meh p thank head concern anoth angri dude twitter  \n",
              "4  isi account pretend kurdish account like islam...  "
            ],
            "text/html": [
              "\n",
              "  <div id=\"df-974dea82-fc8b-48b7-a780-da4a81961a12\">\n",
              "    <div class=\"colab-df-container\">\n",
              "      <div>\n",
              "<style scoped>\n",
              "    .dataframe tbody tr th:only-of-type {\n",
              "        vertical-align: middle;\n",
              "    }\n",
              "\n",
              "    .dataframe tbody tr th {\n",
              "        vertical-align: top;\n",
              "    }\n",
              "\n",
              "    .dataframe thead th {\n",
              "        text-align: right;\n",
              "    }\n",
              "</style>\n",
              "<table border=\"1\" class=\"dataframe\">\n",
              "  <thead>\n",
              "    <tr style=\"text-align: right;\">\n",
              "      <th></th>\n",
              "      <th>Basic clean</th>\n",
              "      <th>sentiment</th>\n",
              "      <th>tweet_length</th>\n",
              "      <th>Stemming</th>\n",
              "      <th>Lemmatization</th>\n",
              "      <th>Lemma_Stemming</th>\n",
              "    </tr>\n",
              "  </thead>\n",
              "  <tbody>\n",
              "    <tr>\n",
              "      <th>0</th>\n",
              "      <td>words katandandre food crapilicious mkr</td>\n",
              "      <td>not_cyberbullying</td>\n",
              "      <td>5</td>\n",
              "      <td>word katandandr food crapilici mkr</td>\n",
              "      <td>word katandandre food crapilicious mkr</td>\n",
              "      <td>word katandandr food crapilici mkr</td>\n",
              "    </tr>\n",
              "    <tr>\n",
              "      <th>1</th>\n",
              "      <td>aussietv white mkr theblock today sunrise stud...</td>\n",
              "      <td>not_cyberbullying</td>\n",
              "      <td>10</td>\n",
              "      <td>aussietv white mkr theblock today sunris studi...</td>\n",
              "      <td>aussietv white mkr theblock today sunrise stud...</td>\n",
              "      <td>aussietv white mkr theblock today sunris studi...</td>\n",
              "    </tr>\n",
              "    <tr>\n",
              "      <th>2</th>\n",
              "      <td>classy whore red velvet cupcakes</td>\n",
              "      <td>not_cyberbullying</td>\n",
              "      <td>5</td>\n",
              "      <td>classi whore red velvet cupcak</td>\n",
              "      <td>classy whore red velvet cupcake</td>\n",
              "      <td>classi whore red velvet cupcak</td>\n",
              "    </tr>\n",
              "    <tr>\n",
              "      <th>3</th>\n",
              "      <td>meh p thanks heads concerned another angry dud...</td>\n",
              "      <td>not_cyberbullying</td>\n",
              "      <td>9</td>\n",
              "      <td>meh p thank head concern anoth angri dude twitter</td>\n",
              "      <td>meh p thanks head concerned another angry dude...</td>\n",
              "      <td>meh p thank head concern anoth angri dude twitter</td>\n",
              "    </tr>\n",
              "    <tr>\n",
              "      <th>4</th>\n",
              "      <td>isis account pretending kurdish account like i...</td>\n",
              "      <td>not_cyberbullying</td>\n",
              "      <td>8</td>\n",
              "      <td>isi account pretend kurdish account like islam...</td>\n",
              "      <td>isi account pretending kurdish account like is...</td>\n",
              "      <td>isi account pretend kurdish account like islam...</td>\n",
              "    </tr>\n",
              "  </tbody>\n",
              "</table>\n",
              "</div>\n",
              "      <button class=\"colab-df-convert\" onclick=\"convertToInteractive('df-974dea82-fc8b-48b7-a780-da4a81961a12')\"\n",
              "              title=\"Convert this dataframe to an interactive table.\"\n",
              "              style=\"display:none;\">\n",
              "        \n",
              "  <svg xmlns=\"http://www.w3.org/2000/svg\" height=\"24px\"viewBox=\"0 0 24 24\"\n",
              "       width=\"24px\">\n",
              "    <path d=\"M0 0h24v24H0V0z\" fill=\"none\"/>\n",
              "    <path d=\"M18.56 5.44l.94 2.06.94-2.06 2.06-.94-2.06-.94-.94-2.06-.94 2.06-2.06.94zm-11 1L8.5 8.5l.94-2.06 2.06-.94-2.06-.94L8.5 2.5l-.94 2.06-2.06.94zm10 10l.94 2.06.94-2.06 2.06-.94-2.06-.94-.94-2.06-.94 2.06-2.06.94z\"/><path d=\"M17.41 7.96l-1.37-1.37c-.4-.4-.92-.59-1.43-.59-.52 0-1.04.2-1.43.59L10.3 9.45l-7.72 7.72c-.78.78-.78 2.05 0 2.83L4 21.41c.39.39.9.59 1.41.59.51 0 1.02-.2 1.41-.59l7.78-7.78 2.81-2.81c.8-.78.8-2.07 0-2.86zM5.41 20L4 18.59l7.72-7.72 1.47 1.35L5.41 20z\"/>\n",
              "  </svg>\n",
              "      </button>\n",
              "      \n",
              "  <style>\n",
              "    .colab-df-container {\n",
              "      display:flex;\n",
              "      flex-wrap:wrap;\n",
              "      gap: 12px;\n",
              "    }\n",
              "\n",
              "    .colab-df-convert {\n",
              "      background-color: #E8F0FE;\n",
              "      border: none;\n",
              "      border-radius: 50%;\n",
              "      cursor: pointer;\n",
              "      display: none;\n",
              "      fill: #1967D2;\n",
              "      height: 32px;\n",
              "      padding: 0 0 0 0;\n",
              "      width: 32px;\n",
              "    }\n",
              "\n",
              "    .colab-df-convert:hover {\n",
              "      background-color: #E2EBFA;\n",
              "      box-shadow: 0px 1px 2px rgba(60, 64, 67, 0.3), 0px 1px 3px 1px rgba(60, 64, 67, 0.15);\n",
              "      fill: #174EA6;\n",
              "    }\n",
              "\n",
              "    [theme=dark] .colab-df-convert {\n",
              "      background-color: #3B4455;\n",
              "      fill: #D2E3FC;\n",
              "    }\n",
              "\n",
              "    [theme=dark] .colab-df-convert:hover {\n",
              "      background-color: #434B5C;\n",
              "      box-shadow: 0px 1px 3px 1px rgba(0, 0, 0, 0.15);\n",
              "      filter: drop-shadow(0px 1px 2px rgba(0, 0, 0, 0.3));\n",
              "      fill: #FFFFFF;\n",
              "    }\n",
              "  </style>\n",
              "\n",
              "      <script>\n",
              "        const buttonEl =\n",
              "          document.querySelector('#df-974dea82-fc8b-48b7-a780-da4a81961a12 button.colab-df-convert');\n",
              "        buttonEl.style.display =\n",
              "          google.colab.kernel.accessAllowed ? 'block' : 'none';\n",
              "\n",
              "        async function convertToInteractive(key) {\n",
              "          const element = document.querySelector('#df-974dea82-fc8b-48b7-a780-da4a81961a12');\n",
              "          const dataTable =\n",
              "            await google.colab.kernel.invokeFunction('convertToInteractive',\n",
              "                                                     [key], {});\n",
              "          if (!dataTable) return;\n",
              "\n",
              "          const docLinkHtml = 'Like what you see? Visit the ' +\n",
              "            '<a target=\"_blank\" href=https://colab.research.google.com/notebooks/data_table.ipynb>data table notebook</a>'\n",
              "            + ' to learn more about interactive tables.';\n",
              "          element.innerHTML = '';\n",
              "          dataTable['output_type'] = 'display_data';\n",
              "          await google.colab.output.renderOutput(dataTable, element);\n",
              "          const docLink = document.createElement('div');\n",
              "          docLink.innerHTML = docLinkHtml;\n",
              "          element.appendChild(docLink);\n",
              "        }\n",
              "      </script>\n",
              "    </div>\n",
              "  </div>\n",
              "  "
            ]
          },
          "metadata": {},
          "execution_count": 246
        }
      ]
    },
    {
      "cell_type": "markdown",
      "source": [
        "## Proceeding towards Word embeddings"
      ],
      "metadata": {
        "id": "Vy3x4BjSdT4l"
      }
    },
    {
      "cell_type": "markdown",
      "source": [
        "For further processing, we will convert our results of - \n",
        "\n",
        "*   Stemming\n",
        "*   Lemmatization\n",
        "*   Lemmatization followed by stemming\n",
        "\n",
        "to vectors.\n",
        "To achieve this, we will be using following word-embeddings -\n",
        "\n",
        "\n",
        "1.   Bag of words\n",
        "2.   Tf-idf (Term Frequency-Inverse Document Frequency)\n",
        "3.   GloVe word embedding\n",
        "4.   Word2vec embedding\n",
        "\n",
        "\n",
        "Before going for these, lets first split the dataset in training and testing.\n"
      ],
      "metadata": {
        "id": "KeVgwA8Ydivp"
      }
    },
    {
      "cell_type": "markdown",
      "source": [
        "importing libraries"
      ],
      "metadata": {
        "id": "q9_NEH3fepnc"
      }
    },
    {
      "cell_type": "code",
      "source": [
        "from sklearn.model_selection import train_test_split"
      ],
      "metadata": {
        "id": "XwSyuVhveniE"
      },
      "execution_count": null,
      "outputs": []
    },
    {
      "cell_type": "markdown",
      "source": [
        "Firstly, encoding the sentiment column."
      ],
      "metadata": {
        "id": "c9H2qB3-bS3u"
      }
    },
    {
      "cell_type": "code",
      "source": [
        "basic_clean_df['sentiment'] = basic_clean_df['sentiment'].replace({'religion':0,'age':1,'ethnicity':2,'gender':3,'not_cyberbullying':4})"
      ],
      "metadata": {
        "id": "rdLsARD4bSSt"
      },
      "execution_count": null,
      "outputs": []
    },
    {
      "cell_type": "code",
      "source": [
        "basic_clean_df['sentiment'].value_counts()"
      ],
      "metadata": {
        "colab": {
          "base_uri": "https://localhost:8080/"
        },
        "id": "XuXppoZ0dLj-",
        "outputId": "031c66c1-a643-499b-ddfc-e4a90e48d956"
      },
      "execution_count": null,
      "outputs": [
        {
          "output_type": "execute_result",
          "data": {
            "text/plain": [
              "0    7948\n",
              "1    7897\n",
              "2    7748\n",
              "4    7645\n",
              "3    7613\n",
              "Name: sentiment, dtype: int64"
            ]
          },
          "metadata": {},
          "execution_count": 249
        }
      ]
    },
    {
      "cell_type": "markdown",
      "source": [
        "Train/test split"
      ],
      "metadata": {
        "id": "NkLD2rB5dWK0"
      }
    },
    {
      "cell_type": "code",
      "source": [
        "# For X - dropping sentiment column \n",
        "X = basic_clean_df.drop(columns='sentiment');\n",
        "# y = sentiments\n",
        "y = basic_clean_df['sentiment']\n",
        "# Splitting 20% test and 80% train\n",
        "X_train,X_test,y_train,y_test = train_test_split(X, y, test_size=0.2, stratify=y, random_state = 42);\n",
        "print(X_train.shape, X_test.shape, y_train.shape, y_test.shape);"
      ],
      "metadata": {
        "colab": {
          "base_uri": "https://localhost:8080/"
        },
        "id": "03hUKLEvbLKd",
        "outputId": "da7db11a-89e2-4601-9d57-382a83f909ad"
      },
      "execution_count": null,
      "outputs": [
        {
          "output_type": "stream",
          "name": "stdout",
          "text": [
            "(31080, 5) (7771, 5) (31080,) (7771,)\n"
          ]
        }
      ]
    },
    {
      "cell_type": "markdown",
      "source": [
        "Defining different varaiables for Stemming,lemmatization and lemma_stem\n"
      ],
      "metadata": {
        "id": "nH9sR31jtSe_"
      }
    },
    {
      "cell_type": "code",
      "source": [
        "# For training -\n",
        "X_stem_train = X_train['Stemming']\n",
        "X_lemma_train = X_train['Lemmatization']\n",
        "X_lemmaStem_train = X_train['Lemma_Stemming']\n",
        "\n",
        "# For testing -\n",
        "X_stem_test = X_test['Stemming']\n",
        "X_lemma_test = X_test['Lemmatization']\n",
        "X_lemmaStem_test = X_test['Lemma_Stemming']\n",
        "\n",
        "\n",
        "print(X_stem_train.shape,X_lemma_train.shape,X_lemmaStem_train.shape)\n",
        "print(X_stem_test.shape,X_lemma_test.shape,X_lemmaStem_test.shape)"
      ],
      "metadata": {
        "colab": {
          "base_uri": "https://localhost:8080/"
        },
        "id": "OoGRKtZHtw7x",
        "outputId": "3e1db9c0-103d-4706-e669-cb5bfd7c39ef"
      },
      "execution_count": null,
      "outputs": [
        {
          "output_type": "stream",
          "name": "stdout",
          "text": [
            "(31080,) (31080,) (31080,)\n",
            "(7771,) (7771,) (7771,)\n"
          ]
        }
      ]
    },
    {
      "cell_type": "markdown",
      "source": [
        "Now, we will use above vairables for different embedings."
      ],
      "metadata": {
        "id": "YvQNE57yuevn"
      }
    },
    {
      "cell_type": "markdown",
      "source": [
        "### Bag of words"
      ],
      "metadata": {
        "id": "6-WZIFUJfBWa"
      }
    },
    {
      "cell_type": "markdown",
      "source": [
        "importing CountVectorizer"
      ],
      "metadata": {
        "id": "AkyzFCYAgHbf"
      }
    },
    {
      "cell_type": "code",
      "source": [
        "from sklearn.feature_extraction.text import CountVectorizer"
      ],
      "metadata": {
        "id": "7Fv6MMUTgGiv"
      },
      "execution_count": null,
      "outputs": []
    },
    {
      "cell_type": "markdown",
      "source": [
        "Creating objects of CountVectorizer"
      ],
      "metadata": {
        "id": "_q0oM582vBgp"
      }
    },
    {
      "cell_type": "code",
      "source": [
        "bow1 = CountVectorizer();\n",
        "bow2 = CountVectorizer();\n",
        "bow3 = CountVectorizer();\n",
        "# for stemming\n",
        "bow_cv1 = bow1.fit_transform(X_stem_train);\n",
        "# for lemmatization\n",
        "bow_cv2 = bow2.fit_transform(X_lemma_train);\n",
        "# for lemma-stemming\n",
        "bow_cv3 = bow3.fit_transform(X_lemmaStem_train);\n",
        "\n",
        "print(bow_cv1.shape);\n",
        "print(bow_cv2.shape);\n",
        "print(bow_cv3.shape);"
      ],
      "metadata": {
        "id": "g8y5bWgGfQyR",
        "colab": {
          "base_uri": "https://localhost:8080/"
        },
        "outputId": "1e0805a6-6c81-444b-e68d-a679192827b5"
      },
      "execution_count": null,
      "outputs": [
        {
          "output_type": "stream",
          "name": "stdout",
          "text": [
            "(31080, 29165)\n",
            "(31080, 34843)\n",
            "(31080, 29071)\n"
          ]
        }
      ]
    },
    {
      "cell_type": "markdown",
      "source": [
        "### Tf-idf (Term Frequency-Inverse Document Frequency)"
      ],
      "metadata": {
        "id": "BaEUGpJPfF1K"
      }
    },
    {
      "cell_type": "markdown",
      "source": [
        "importing TfidfTransformer"
      ],
      "metadata": {
        "id": "hiaHOCPexV4v"
      }
    },
    {
      "cell_type": "code",
      "source": [
        "from sklearn.feature_extraction.text import TfidfTransformer"
      ],
      "metadata": {
        "id": "yV69lxLSdh7K"
      },
      "execution_count": null,
      "outputs": []
    },
    {
      "cell_type": "markdown",
      "source": [
        "Creating objects of TfidfTransformer"
      ],
      "metadata": {
        "id": "lIpw0Kajxt8_"
      }
    },
    {
      "cell_type": "code",
      "source": [
        "tfid1 = TfidfTransformer(use_idf=True).fit(bow_cv1)\n",
        "tfid2 = TfidfTransformer(use_idf=True).fit(bow_cv2)\n",
        "tfid3 = TfidfTransformer(use_idf=True).fit(bow_cv3)\n",
        "# for stemming\n",
        "tf_cv1 = tfid1.transform(bow_cv1);\n",
        "# for lemmatization\n",
        "tf_cv2 = tfid2.transform(bow_cv2);\n",
        "# for lemma-stemming\n",
        "tf_cv3 = tfid3.transform(bow_cv3);\n",
        "\n",
        "print(tf_cv1.shape);\n",
        "print(tf_cv2.shape);\n",
        "print(tf_cv3.shape);"
      ],
      "metadata": {
        "id": "D7uEUDGIx6ES",
        "colab": {
          "base_uri": "https://localhost:8080/"
        },
        "outputId": "b7f49310-30a4-446b-f56f-73e41e6ad8df"
      },
      "execution_count": null,
      "outputs": [
        {
          "output_type": "stream",
          "name": "stdout",
          "text": [
            "(31080, 29165)\n",
            "(31080, 34843)\n",
            "(31080, 29071)\n"
          ]
        }
      ]
    },
    {
      "cell_type": "markdown",
      "source": [
        "# Baseline technique - Naive Bayes"
      ],
      "metadata": {
        "id": "mMOo_42f78PK"
      }
    },
    {
      "cell_type": "markdown",
      "source": [
        "### importing multinomial naive bayes"
      ],
      "metadata": {
        "id": "WB0YkX3y8R_b"
      }
    },
    {
      "cell_type": "code",
      "source": [
        "from sklearn.naive_bayes import MultinomialNB"
      ],
      "metadata": {
        "id": "HbG47j9K8syz"
      },
      "execution_count": null,
      "outputs": []
    },
    {
      "cell_type": "markdown",
      "source": [
        "## Transforming set testing for different word embeddings\n"
      ],
      "metadata": {
        "id": "Z8d8_u0t87Zo"
      }
    },
    {
      "cell_type": "code",
      "source": [
        "# For Bag of words - \n",
        "bow_cv1_test = bow1.transform(X_stem_test)\n",
        "bow_cv2_test = bow2.transform(X_lemma_test)\n",
        "bow_cv3_test = bow3.transform(X_lemmaStem_test)\n",
        "\n",
        "# For Tf-idf\n",
        "tf_cv1_test = tfid1.transform(bow_cv1_test);\n",
        "tf_cv2_test = tfid2.transform(bow_cv2_test);\n",
        "tf_cv3_test = tfid3.transform(bow_cv3_test);\n",
        "\n",
        "\n",
        "print(bow_cv1_test.shape,bow_cv2_test.shape,bow_cv3_test.shape);\n",
        "print(tf_cv1_test.shape,tf_cv2_test.shape,tf_cv3_test.shape);"
      ],
      "metadata": {
        "colab": {
          "base_uri": "https://localhost:8080/"
        },
        "id": "71KWnskP9QL1",
        "outputId": "88b547bc-0814-4244-c26f-56a4e2643464"
      },
      "execution_count": null,
      "outputs": [
        {
          "output_type": "stream",
          "name": "stdout",
          "text": [
            "(7771, 29165) (7771, 34843) (7771, 29071)\n",
            "(7771, 29165) (7771, 34843) (7771, 29071)\n"
          ]
        }
      ]
    },
    {
      "cell_type": "markdown",
      "source": [
        "## Creating models"
      ],
      "metadata": {
        "id": "9TmKjke3Acts"
      }
    },
    {
      "cell_type": "code",
      "source": [
        "# For bag of words - \n",
        "nb_bow_stem = MultinomialNB();\n",
        "nb_bow_lemma = MultinomialNB();\n",
        "nb_bow_lemmaStem = MultinomialNB();\n",
        "\n",
        "# for tf-idf - \n",
        "nb_tf_stem = MultinomialNB();\n",
        "nb_tf_lemma = MultinomialNB();\n",
        "nb_tf_lemmaStem = MultinomialNB();"
      ],
      "metadata": {
        "id": "9RnwDAEfAfKm"
      },
      "execution_count": null,
      "outputs": []
    },
    {
      "cell_type": "markdown",
      "source": [
        "## Training the models "
      ],
      "metadata": {
        "id": "p19fAhFvBY2K"
      }
    },
    {
      "cell_type": "code",
      "source": [
        "# For bag of words - \n",
        "nb_bow_stem.fit(bow_cv1,y_train);\n",
        "nb_bow_lemma.fit(bow_cv2,y_train);\n",
        "nb_bow_lemmaStem.fit(bow_cv3,y_train);\n",
        "\n",
        "# For tf-idf - \n",
        "nb_tf_stem.fit(tf_cv1,y_train);\n",
        "nb_tf_lemma.fit(tf_cv1,y_train);\n",
        "nb_tf_lemmaStem.fit(tf_cv1,y_train);"
      ],
      "metadata": {
        "id": "KtQQf0GoBbNI"
      },
      "execution_count": null,
      "outputs": []
    },
    {
      "cell_type": "markdown",
      "source": [
        "## Predicting - "
      ],
      "metadata": {
        "id": "sgEl4GQMBKyM"
      }
    },
    {
      "cell_type": "code",
      "source": [
        "# For bag of words - \n",
        "nb_bow_stem_pred = nb_bow_stem.predict(bow_cv1_test);\n",
        "nb_bow_lemma_pred = nb_bow_lemma.predict(bow_cv2_test);\n",
        "nb_bow_lemmaStem_pred = nb_bow_lemmaStem.predict(bow_cv3_test);\n",
        "\n",
        "# For tf-idf - \n",
        "nb_tf_stem_pred = nb_tf_stem.predict(tf_cv1_test);\n",
        "nb_tf_lemma_pred = nb_tf_lemma.predict(tf_cv1_test);\n",
        "nb_tf_lemmaStem_pred = nb_tf_lemmaStem.predict(tf_cv1_test);"
      ],
      "metadata": {
        "id": "XHtfy11NBVAg"
      },
      "execution_count": null,
      "outputs": []
    },
    {
      "cell_type": "markdown",
      "source": [
        "## Evaluation metrics"
      ],
      "metadata": {
        "id": "Udo8WdlVDs1D"
      }
    },
    {
      "cell_type": "markdown",
      "source": [
        "Importing evaluation metrics"
      ],
      "metadata": {
        "id": "nYAbIyWZEvVt"
      }
    },
    {
      "cell_type": "code",
      "source": [
        "from sklearn.metrics import classification_report, confusion_matrix"
      ],
      "metadata": {
        "id": "kNy85tb0FPz0"
      },
      "execution_count": null,
      "outputs": []
    },
    {
      "cell_type": "markdown",
      "source": [
        "Printing reports"
      ],
      "metadata": {
        "id": "0jAJSSxxFTfl"
      }
    },
    {
      "cell_type": "code",
      "source": [
        "# For Bag of words - \n",
        "print('Classification Report for Naive Bayes on bag of word with stemming:\\n',classification_report(y_test, nb_bow_stem_pred))\n",
        "print('Classification Report for Naive Bayes on bag of word with lemmatization:\\n',classification_report(y_test, nb_bow_lemma_pred))\n",
        "print('Classification Report for Naive Bayes on bag of word with lemma_stemming:\\n',classification_report(y_test, nb_bow_lemmaStem_pred))\n",
        "\n",
        "\n",
        "# For Tf-idf - \n",
        "print('Classification Report for Naive Bayes on Ti-idf with stemming:\\n',classification_report(y_test, nb_tf_stem_pred))\n",
        "print('Classification Report for Naive Bayes on Ti-idf with lemmatization:\\n',classification_report(y_test, nb_tf_lemma_pred))\n",
        "print('Classification Report for Naive Bayes on Ti-idf with lemma_stemming:\\n',classification_report(y_test, nb_tf_lemmaStem_pred))"
      ],
      "metadata": {
        "colab": {
          "base_uri": "https://localhost:8080/"
        },
        "id": "sRGxsrt5EXfm",
        "outputId": "dc8ad15c-9030-48bf-8a57-c33a368aadb0"
      },
      "execution_count": null,
      "outputs": [
        {
          "output_type": "stream",
          "name": "stdout",
          "text": [
            "Classification Report for Naive Bayes on bag of word with stemming:\n",
            "               precision    recall  f1-score   support\n",
            "\n",
            "           0       0.83      0.98      0.90      1590\n",
            "           1       0.81      0.99      0.89      1579\n",
            "           2       0.90      0.95      0.92      1550\n",
            "           3       0.87      0.84      0.86      1523\n",
            "           4       0.86      0.48      0.61      1529\n",
            "\n",
            "    accuracy                           0.85      7771\n",
            "   macro avg       0.85      0.85      0.84      7771\n",
            "weighted avg       0.85      0.85      0.84      7771\n",
            "\n",
            "Classification Report for Naive Bayes on bag of word with lemmatization:\n",
            "               precision    recall  f1-score   support\n",
            "\n",
            "           0       0.82      0.97      0.89      1590\n",
            "           1       0.82      0.99      0.89      1579\n",
            "           2       0.90      0.96      0.93      1550\n",
            "           3       0.87      0.85      0.86      1523\n",
            "           4       0.86      0.48      0.61      1529\n",
            "\n",
            "    accuracy                           0.85      7771\n",
            "   macro avg       0.85      0.85      0.84      7771\n",
            "weighted avg       0.85      0.85      0.84      7771\n",
            "\n",
            "Classification Report for Naive Bayes on bag of word with lemma_stemming:\n",
            "               precision    recall  f1-score   support\n",
            "\n",
            "           0       0.83      0.98      0.90      1590\n",
            "           1       0.81      0.99      0.89      1579\n",
            "           2       0.90      0.95      0.92      1550\n",
            "           3       0.87      0.84      0.86      1523\n",
            "           4       0.86      0.48      0.61      1529\n",
            "\n",
            "    accuracy                           0.85      7771\n",
            "   macro avg       0.85      0.85      0.84      7771\n",
            "weighted avg       0.85      0.85      0.84      7771\n",
            "\n",
            "Classification Report for Naive Bayes on Ti-idf with stemming:\n",
            "               precision    recall  f1-score   support\n",
            "\n",
            "           0       0.80      0.97      0.88      1590\n",
            "           1       0.77      0.98      0.86      1579\n",
            "           2       0.89      0.91      0.90      1550\n",
            "           3       0.87      0.84      0.85      1523\n",
            "           4       0.86      0.43      0.58      1529\n",
            "\n",
            "    accuracy                           0.83      7771\n",
            "   macro avg       0.84      0.83      0.82      7771\n",
            "weighted avg       0.84      0.83      0.82      7771\n",
            "\n",
            "Classification Report for Naive Bayes on Ti-idf with lemmatization:\n",
            "               precision    recall  f1-score   support\n",
            "\n",
            "           0       0.80      0.97      0.88      1590\n",
            "           1       0.77      0.98      0.86      1579\n",
            "           2       0.89      0.91      0.90      1550\n",
            "           3       0.87      0.84      0.85      1523\n",
            "           4       0.86      0.43      0.58      1529\n",
            "\n",
            "    accuracy                           0.83      7771\n",
            "   macro avg       0.84      0.83      0.82      7771\n",
            "weighted avg       0.84      0.83      0.82      7771\n",
            "\n",
            "Classification Report for Naive Bayes on Ti-idf with lemma_stemming:\n",
            "               precision    recall  f1-score   support\n",
            "\n",
            "           0       0.80      0.97      0.88      1590\n",
            "           1       0.77      0.98      0.86      1579\n",
            "           2       0.89      0.91      0.90      1550\n",
            "           3       0.87      0.84      0.85      1523\n",
            "           4       0.86      0.43      0.58      1529\n",
            "\n",
            "    accuracy                           0.83      7771\n",
            "   macro avg       0.84      0.83      0.82      7771\n",
            "weighted avg       0.84      0.83      0.82      7771\n",
            "\n"
          ]
        }
      ]
    },
    {
      "cell_type": "markdown",
      "source": [
        "## Further cleaning and visualization"
      ],
      "metadata": {
        "id": "WKUg8mNQ0XzJ"
      }
    },
    {
      "cell_type": "markdown",
      "source": [
        "From the optimization point of view, we are going for stemming."
      ],
      "metadata": {
        "id": "l7FBZVO3tqC4"
      }
    },
    {
      "cell_type": "code",
      "execution_count": null,
      "metadata": {
        "colab": {
          "base_uri": "https://localhost:8080/",
          "height": 206
        },
        "id": "bwXubhnN2x7K",
        "outputId": "ebd64ca5-44c6-4c4d-f206-624e3ffb2efc"
      },
      "outputs": [
        {
          "output_type": "execute_result",
          "data": {
            "text/plain": [
              "                                               tweet          sentiment  \\\n",
              "0  In other words #katandandre, your food was cra...  not_cyberbullying   \n",
              "1  Why is #aussietv so white? #MKR #theblock #ImA...  not_cyberbullying   \n",
              "2  @XochitlSuckkks a classy whore? Or more red ve...  not_cyberbullying   \n",
              "3  @Jason_Gio meh. :P  thanks for the heads up, b...  not_cyberbullying   \n",
              "4  @RudhoeEnglish This is an ISIS account pretend...  not_cyberbullying   \n",
              "\n",
              "                                        clean_tweets  \n",
              "0                 word katandandr food crapilici mkr  \n",
              "1  aussietv white mkr theblock today sunris studi...  \n",
              "2                     classi whore red velvet cupcak  \n",
              "3  meh p thank head concern anoth angri dude twitter  \n",
              "4  isi account pretend kurdish account like islam...  "
            ],
            "text/html": [
              "\n",
              "  <div id=\"df-d2b01a09-5697-4141-9091-169f531a3528\">\n",
              "    <div class=\"colab-df-container\">\n",
              "      <div>\n",
              "<style scoped>\n",
              "    .dataframe tbody tr th:only-of-type {\n",
              "        vertical-align: middle;\n",
              "    }\n",
              "\n",
              "    .dataframe tbody tr th {\n",
              "        vertical-align: top;\n",
              "    }\n",
              "\n",
              "    .dataframe thead th {\n",
              "        text-align: right;\n",
              "    }\n",
              "</style>\n",
              "<table border=\"1\" class=\"dataframe\">\n",
              "  <thead>\n",
              "    <tr style=\"text-align: right;\">\n",
              "      <th></th>\n",
              "      <th>tweet</th>\n",
              "      <th>sentiment</th>\n",
              "      <th>clean_tweets</th>\n",
              "    </tr>\n",
              "  </thead>\n",
              "  <tbody>\n",
              "    <tr>\n",
              "      <th>0</th>\n",
              "      <td>In other words #katandandre, your food was cra...</td>\n",
              "      <td>not_cyberbullying</td>\n",
              "      <td>word katandandr food crapilici mkr</td>\n",
              "    </tr>\n",
              "    <tr>\n",
              "      <th>1</th>\n",
              "      <td>Why is #aussietv so white? #MKR #theblock #ImA...</td>\n",
              "      <td>not_cyberbullying</td>\n",
              "      <td>aussietv white mkr theblock today sunris studi...</td>\n",
              "    </tr>\n",
              "    <tr>\n",
              "      <th>2</th>\n",
              "      <td>@XochitlSuckkks a classy whore? Or more red ve...</td>\n",
              "      <td>not_cyberbullying</td>\n",
              "      <td>classi whore red velvet cupcak</td>\n",
              "    </tr>\n",
              "    <tr>\n",
              "      <th>3</th>\n",
              "      <td>@Jason_Gio meh. :P  thanks for the heads up, b...</td>\n",
              "      <td>not_cyberbullying</td>\n",
              "      <td>meh p thank head concern anoth angri dude twitter</td>\n",
              "    </tr>\n",
              "    <tr>\n",
              "      <th>4</th>\n",
              "      <td>@RudhoeEnglish This is an ISIS account pretend...</td>\n",
              "      <td>not_cyberbullying</td>\n",
              "      <td>isi account pretend kurdish account like islam...</td>\n",
              "    </tr>\n",
              "  </tbody>\n",
              "</table>\n",
              "</div>\n",
              "      <button class=\"colab-df-convert\" onclick=\"convertToInteractive('df-d2b01a09-5697-4141-9091-169f531a3528')\"\n",
              "              title=\"Convert this dataframe to an interactive table.\"\n",
              "              style=\"display:none;\">\n",
              "        \n",
              "  <svg xmlns=\"http://www.w3.org/2000/svg\" height=\"24px\"viewBox=\"0 0 24 24\"\n",
              "       width=\"24px\">\n",
              "    <path d=\"M0 0h24v24H0V0z\" fill=\"none\"/>\n",
              "    <path d=\"M18.56 5.44l.94 2.06.94-2.06 2.06-.94-2.06-.94-.94-2.06-.94 2.06-2.06.94zm-11 1L8.5 8.5l.94-2.06 2.06-.94-2.06-.94L8.5 2.5l-.94 2.06-2.06.94zm10 10l.94 2.06.94-2.06 2.06-.94-2.06-.94-.94-2.06-.94 2.06-2.06.94z\"/><path d=\"M17.41 7.96l-1.37-1.37c-.4-.4-.92-.59-1.43-.59-.52 0-1.04.2-1.43.59L10.3 9.45l-7.72 7.72c-.78.78-.78 2.05 0 2.83L4 21.41c.39.39.9.59 1.41.59.51 0 1.02-.2 1.41-.59l7.78-7.78 2.81-2.81c.8-.78.8-2.07 0-2.86zM5.41 20L4 18.59l7.72-7.72 1.47 1.35L5.41 20z\"/>\n",
              "  </svg>\n",
              "      </button>\n",
              "      \n",
              "  <style>\n",
              "    .colab-df-container {\n",
              "      display:flex;\n",
              "      flex-wrap:wrap;\n",
              "      gap: 12px;\n",
              "    }\n",
              "\n",
              "    .colab-df-convert {\n",
              "      background-color: #E8F0FE;\n",
              "      border: none;\n",
              "      border-radius: 50%;\n",
              "      cursor: pointer;\n",
              "      display: none;\n",
              "      fill: #1967D2;\n",
              "      height: 32px;\n",
              "      padding: 0 0 0 0;\n",
              "      width: 32px;\n",
              "    }\n",
              "\n",
              "    .colab-df-convert:hover {\n",
              "      background-color: #E2EBFA;\n",
              "      box-shadow: 0px 1px 2px rgba(60, 64, 67, 0.3), 0px 1px 3px 1px rgba(60, 64, 67, 0.15);\n",
              "      fill: #174EA6;\n",
              "    }\n",
              "\n",
              "    [theme=dark] .colab-df-convert {\n",
              "      background-color: #3B4455;\n",
              "      fill: #D2E3FC;\n",
              "    }\n",
              "\n",
              "    [theme=dark] .colab-df-convert:hover {\n",
              "      background-color: #434B5C;\n",
              "      box-shadow: 0px 1px 3px 1px rgba(0, 0, 0, 0.15);\n",
              "      filter: drop-shadow(0px 1px 2px rgba(0, 0, 0, 0.3));\n",
              "      fill: #FFFFFF;\n",
              "    }\n",
              "  </style>\n",
              "\n",
              "      <script>\n",
              "        const buttonEl =\n",
              "          document.querySelector('#df-d2b01a09-5697-4141-9091-169f531a3528 button.colab-df-convert');\n",
              "        buttonEl.style.display =\n",
              "          google.colab.kernel.accessAllowed ? 'block' : 'none';\n",
              "\n",
              "        async function convertToInteractive(key) {\n",
              "          const element = document.querySelector('#df-d2b01a09-5697-4141-9091-169f531a3528');\n",
              "          const dataTable =\n",
              "            await google.colab.kernel.invokeFunction('convertToInteractive',\n",
              "                                                     [key], {});\n",
              "          if (!dataTable) return;\n",
              "\n",
              "          const docLinkHtml = 'Like what you see? Visit the ' +\n",
              "            '<a target=\"_blank\" href=https://colab.research.google.com/notebooks/data_table.ipynb>data table notebook</a>'\n",
              "            + ' to learn more about interactive tables.';\n",
              "          element.innerHTML = '';\n",
              "          dataTable['output_type'] = 'display_data';\n",
              "          await google.colab.output.renderOutput(dataTable, element);\n",
              "          const docLink = document.createElement('div');\n",
              "          docLink.innerHTML = docLinkHtml;\n",
              "          element.appendChild(docLink);\n",
              "        }\n",
              "      </script>\n",
              "    </div>\n",
              "  </div>\n",
              "  "
            ]
          },
          "metadata": {},
          "execution_count": 113
        }
      ],
      "source": [
        "data['clean_tweets'] = stem_tweets\n",
        "data.head()"
      ]
    },
    {
      "cell_type": "code",
      "execution_count": null,
      "metadata": {
        "colab": {
          "base_uri": "https://localhost:8080/"
        },
        "id": "r87iOIkX5awL",
        "outputId": "c80a315d-acc5-48e2-ecd3-5151530ffb34"
      },
      "outputs": [
        {
          "output_type": "execute_result",
          "data": {
            "text/plain": [
              "(47656, 3)"
            ]
          },
          "metadata": {},
          "execution_count": 114
        }
      ],
      "source": [
        "data.shape"
      ]
    },
    {
      "cell_type": "code",
      "execution_count": null,
      "metadata": {
        "id": "tGsEee_0-l9K"
      },
      "outputs": [],
      "source": [
        "data.to_csv('pre-processed-tweets.csv')\n",
        "!cp pre-processed-tweets.csv \"gdrive/My Drive/\""
      ]
    },
    {
      "cell_type": "code",
      "source": [
        ""
      ],
      "metadata": {
        "id": "bMspz01CvJJ3"
      },
      "execution_count": null,
      "outputs": []
    }
  ],
  "metadata": {
    "colab": {
      "collapsed_sections": [],
      "name": "ML_Project_PreProcessing.ipynb",
      "provenance": []
    },
    "kernelspec": {
      "display_name": "Python 3",
      "language": "python",
      "name": "python3"
    },
    "language_info": {
      "codemirror_mode": {
        "name": "ipython",
        "version": 3
      },
      "file_extension": ".py",
      "mimetype": "text/x-python",
      "name": "python",
      "nbconvert_exporter": "python",
      "pygments_lexer": "ipython3",
      "version": "3.6.9"
    }
  },
  "nbformat": 4,
  "nbformat_minor": 0
}