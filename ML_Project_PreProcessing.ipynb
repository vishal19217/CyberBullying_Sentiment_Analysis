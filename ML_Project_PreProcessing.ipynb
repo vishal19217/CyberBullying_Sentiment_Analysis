{
  "cells": [
    {
      "cell_type": "markdown",
      "source": [
        "Importing libraries"
      ],
      "metadata": {
        "id": "o7QiTH21Kd_2"
      }
    },
    {
      "cell_type": "code",
      "execution_count": 187,
      "metadata": {
        "colab": {
          "base_uri": "https://localhost:8080/"
        },
        "id": "0kqMJODaX47j",
        "outputId": "08f073cd-ea09-44f9-b020-360d31afe37a"
      },
      "outputs": [
        {
          "output_type": "stream",
          "name": "stdout",
          "text": [
            "Drive already mounted at /content/gdrive; to attempt to forcibly remount, call drive.mount(\"/content/gdrive\", force_remount=True).\n"
          ]
        }
      ],
      "source": [
        "import pandas as pd\n",
        "import numpy as np\n",
        "import matplotlib.pyplot as plt\n",
        "import seaborn as sns\n",
        "from google.colab import drive\n",
        "drive.mount('/content/gdrive')"
      ]
    },
    {
      "cell_type": "markdown",
      "source": [
        "### Data Visualization and Cleaning"
      ],
      "metadata": {
        "id": "CqogiAMAMPKT"
      }
    },
    {
      "cell_type": "code",
      "execution_count": 188,
      "metadata": {
        "id": "2CkDIdIYfK78"
      },
      "outputs": [],
      "source": [
        "data = pd.read_csv('/content/gdrive/My Drive/Colab Notebooks/cyberbullying_tweets.csv')"
      ]
    },
    {
      "cell_type": "code",
      "source": [
        "data.head()"
      ],
      "metadata": {
        "colab": {
          "base_uri": "https://localhost:8080/",
          "height": 206
        },
        "id": "gNgpCKgYOimt",
        "outputId": "4e594039-7f4d-4f44-ea84-d9a3971436ec"
      },
      "execution_count": 189,
      "outputs": [
        {
          "output_type": "execute_result",
          "data": {
            "text/plain": [
              "                                          tweet_text cyberbullying_type\n",
              "0  In other words #katandandre, your food was cra...  not_cyberbullying\n",
              "1  Why is #aussietv so white? #MKR #theblock #ImA...  not_cyberbullying\n",
              "2  @XochitlSuckkks a classy whore? Or more red ve...  not_cyberbullying\n",
              "3  @Jason_Gio meh. :P  thanks for the heads up, b...  not_cyberbullying\n",
              "4  @RudhoeEnglish This is an ISIS account pretend...  not_cyberbullying"
            ],
            "text/html": [
              "\n",
              "  <div id=\"df-a1f37a00-e737-4cc1-9b6d-fcc1fd6e6acc\">\n",
              "    <div class=\"colab-df-container\">\n",
              "      <div>\n",
              "<style scoped>\n",
              "    .dataframe tbody tr th:only-of-type {\n",
              "        vertical-align: middle;\n",
              "    }\n",
              "\n",
              "    .dataframe tbody tr th {\n",
              "        vertical-align: top;\n",
              "    }\n",
              "\n",
              "    .dataframe thead th {\n",
              "        text-align: right;\n",
              "    }\n",
              "</style>\n",
              "<table border=\"1\" class=\"dataframe\">\n",
              "  <thead>\n",
              "    <tr style=\"text-align: right;\">\n",
              "      <th></th>\n",
              "      <th>tweet_text</th>\n",
              "      <th>cyberbullying_type</th>\n",
              "    </tr>\n",
              "  </thead>\n",
              "  <tbody>\n",
              "    <tr>\n",
              "      <th>0</th>\n",
              "      <td>In other words #katandandre, your food was cra...</td>\n",
              "      <td>not_cyberbullying</td>\n",
              "    </tr>\n",
              "    <tr>\n",
              "      <th>1</th>\n",
              "      <td>Why is #aussietv so white? #MKR #theblock #ImA...</td>\n",
              "      <td>not_cyberbullying</td>\n",
              "    </tr>\n",
              "    <tr>\n",
              "      <th>2</th>\n",
              "      <td>@XochitlSuckkks a classy whore? Or more red ve...</td>\n",
              "      <td>not_cyberbullying</td>\n",
              "    </tr>\n",
              "    <tr>\n",
              "      <th>3</th>\n",
              "      <td>@Jason_Gio meh. :P  thanks for the heads up, b...</td>\n",
              "      <td>not_cyberbullying</td>\n",
              "    </tr>\n",
              "    <tr>\n",
              "      <th>4</th>\n",
              "      <td>@RudhoeEnglish This is an ISIS account pretend...</td>\n",
              "      <td>not_cyberbullying</td>\n",
              "    </tr>\n",
              "  </tbody>\n",
              "</table>\n",
              "</div>\n",
              "      <button class=\"colab-df-convert\" onclick=\"convertToInteractive('df-a1f37a00-e737-4cc1-9b6d-fcc1fd6e6acc')\"\n",
              "              title=\"Convert this dataframe to an interactive table.\"\n",
              "              style=\"display:none;\">\n",
              "        \n",
              "  <svg xmlns=\"http://www.w3.org/2000/svg\" height=\"24px\"viewBox=\"0 0 24 24\"\n",
              "       width=\"24px\">\n",
              "    <path d=\"M0 0h24v24H0V0z\" fill=\"none\"/>\n",
              "    <path d=\"M18.56 5.44l.94 2.06.94-2.06 2.06-.94-2.06-.94-.94-2.06-.94 2.06-2.06.94zm-11 1L8.5 8.5l.94-2.06 2.06-.94-2.06-.94L8.5 2.5l-.94 2.06-2.06.94zm10 10l.94 2.06.94-2.06 2.06-.94-2.06-.94-.94-2.06-.94 2.06-2.06.94z\"/><path d=\"M17.41 7.96l-1.37-1.37c-.4-.4-.92-.59-1.43-.59-.52 0-1.04.2-1.43.59L10.3 9.45l-7.72 7.72c-.78.78-.78 2.05 0 2.83L4 21.41c.39.39.9.59 1.41.59.51 0 1.02-.2 1.41-.59l7.78-7.78 2.81-2.81c.8-.78.8-2.07 0-2.86zM5.41 20L4 18.59l7.72-7.72 1.47 1.35L5.41 20z\"/>\n",
              "  </svg>\n",
              "      </button>\n",
              "      \n",
              "  <style>\n",
              "    .colab-df-container {\n",
              "      display:flex;\n",
              "      flex-wrap:wrap;\n",
              "      gap: 12px;\n",
              "    }\n",
              "\n",
              "    .colab-df-convert {\n",
              "      background-color: #E8F0FE;\n",
              "      border: none;\n",
              "      border-radius: 50%;\n",
              "      cursor: pointer;\n",
              "      display: none;\n",
              "      fill: #1967D2;\n",
              "      height: 32px;\n",
              "      padding: 0 0 0 0;\n",
              "      width: 32px;\n",
              "    }\n",
              "\n",
              "    .colab-df-convert:hover {\n",
              "      background-color: #E2EBFA;\n",
              "      box-shadow: 0px 1px 2px rgba(60, 64, 67, 0.3), 0px 1px 3px 1px rgba(60, 64, 67, 0.15);\n",
              "      fill: #174EA6;\n",
              "    }\n",
              "\n",
              "    [theme=dark] .colab-df-convert {\n",
              "      background-color: #3B4455;\n",
              "      fill: #D2E3FC;\n",
              "    }\n",
              "\n",
              "    [theme=dark] .colab-df-convert:hover {\n",
              "      background-color: #434B5C;\n",
              "      box-shadow: 0px 1px 3px 1px rgba(0, 0, 0, 0.15);\n",
              "      filter: drop-shadow(0px 1px 2px rgba(0, 0, 0, 0.3));\n",
              "      fill: #FFFFFF;\n",
              "    }\n",
              "  </style>\n",
              "\n",
              "      <script>\n",
              "        const buttonEl =\n",
              "          document.querySelector('#df-a1f37a00-e737-4cc1-9b6d-fcc1fd6e6acc button.colab-df-convert');\n",
              "        buttonEl.style.display =\n",
              "          google.colab.kernel.accessAllowed ? 'block' : 'none';\n",
              "\n",
              "        async function convertToInteractive(key) {\n",
              "          const element = document.querySelector('#df-a1f37a00-e737-4cc1-9b6d-fcc1fd6e6acc');\n",
              "          const dataTable =\n",
              "            await google.colab.kernel.invokeFunction('convertToInteractive',\n",
              "                                                     [key], {});\n",
              "          if (!dataTable) return;\n",
              "\n",
              "          const docLinkHtml = 'Like what you see? Visit the ' +\n",
              "            '<a target=\"_blank\" href=https://colab.research.google.com/notebooks/data_table.ipynb>data table notebook</a>'\n",
              "            + ' to learn more about interactive tables.';\n",
              "          element.innerHTML = '';\n",
              "          dataTable['output_type'] = 'display_data';\n",
              "          await google.colab.output.renderOutput(dataTable, element);\n",
              "          const docLink = document.createElement('div');\n",
              "          docLink.innerHTML = docLinkHtml;\n",
              "          element.appendChild(docLink);\n",
              "        }\n",
              "      </script>\n",
              "    </div>\n",
              "  </div>\n",
              "  "
            ]
          },
          "metadata": {},
          "execution_count": 189
        }
      ]
    },
    {
      "cell_type": "code",
      "source": [
        "print(data.info())"
      ],
      "metadata": {
        "colab": {
          "base_uri": "https://localhost:8080/"
        },
        "id": "GMtuJ6QMOcm9",
        "outputId": "d2c4e473-6bcc-44c5-b390-ad95db85c7d1"
      },
      "execution_count": 190,
      "outputs": [
        {
          "output_type": "stream",
          "name": "stdout",
          "text": [
            "<class 'pandas.core.frame.DataFrame'>\n",
            "RangeIndex: 47692 entries, 0 to 47691\n",
            "Data columns (total 2 columns):\n",
            " #   Column              Non-Null Count  Dtype \n",
            "---  ------              --------------  ----- \n",
            " 0   tweet_text          47692 non-null  object\n",
            " 1   cyberbullying_type  47692 non-null  object\n",
            "dtypes: object(2)\n",
            "memory usage: 745.3+ KB\n",
            "None\n"
          ]
        }
      ]
    },
    {
      "cell_type": "code",
      "execution_count": 191,
      "metadata": {
        "id": "Uk0P6yfU7QCv"
      },
      "outputs": [],
      "source": [
        "data = data.rename(columns={'tweet_text' : 'tweet', 'cyberbullying_type' : 'sentiment'})"
      ]
    },
    {
      "cell_type": "markdown",
      "source": [
        "Removing duplicates from given tweets\n"
      ],
      "metadata": {
        "id": "lFdODN_fL349"
      }
    },
    {
      "cell_type": "code",
      "source": [
        "data[data.duplicated()].shape"
      ],
      "metadata": {
        "colab": {
          "base_uri": "https://localhost:8080/"
        },
        "id": "CqfLWM_3RAsm",
        "outputId": "a3f435bd-27ef-426c-cb26-3a63cd0200f9"
      },
      "execution_count": 192,
      "outputs": [
        {
          "output_type": "execute_result",
          "data": {
            "text/plain": [
              "(36, 2)"
            ]
          },
          "metadata": {},
          "execution_count": 192
        }
      ]
    },
    {
      "cell_type": "code",
      "execution_count": 193,
      "metadata": {
        "id": "X5pmNhQj7i5k"
      },
      "outputs": [],
      "source": [
        "data = data[~data.duplicated()]"
      ]
    },
    {
      "cell_type": "code",
      "execution_count": 194,
      "metadata": {
        "colab": {
          "base_uri": "https://localhost:8080/"
        },
        "id": "MuVEVGyX8JFQ",
        "outputId": "d431ce51-a9d4-4f0d-a67e-8eb836b6bcc8"
      },
      "outputs": [
        {
          "output_type": "stream",
          "name": "stdout",
          "text": [
            "<class 'pandas.core.frame.DataFrame'>\n",
            "Int64Index: 47656 entries, 0 to 47691\n",
            "Data columns (total 2 columns):\n",
            " #   Column     Non-Null Count  Dtype \n",
            "---  ------     --------------  ----- \n",
            " 0   tweet      47656 non-null  object\n",
            " 1   sentiment  47656 non-null  object\n",
            "dtypes: object(2)\n",
            "memory usage: 1.1+ MB\n"
          ]
        }
      ],
      "source": [
        "data.info()"
      ]
    },
    {
      "cell_type": "markdown",
      "source": [
        "Showing class balance/imbalance result"
      ],
      "metadata": {
        "id": "CsFdHHECUC00"
      }
    },
    {
      "cell_type": "code",
      "execution_count": 195,
      "metadata": {
        "colab": {
          "base_uri": "https://localhost:8080/"
        },
        "id": "2CYHASSe8-QM",
        "outputId": "193d9e72-d83e-42b7-ef62-e6012046fbb5"
      },
      "outputs": [
        {
          "output_type": "execute_result",
          "data": {
            "text/plain": [
              "religion               7997\n",
              "age                    7992\n",
              "ethnicity              7959\n",
              "gender                 7948\n",
              "not_cyberbullying      7937\n",
              "other_cyberbullying    7823\n",
              "Name: sentiment, dtype: int64"
            ]
          },
          "metadata": {},
          "execution_count": 195
        }
      ],
      "source": [
        "data.sentiment.value_counts()"
      ]
    },
    {
      "cell_type": "code",
      "source": [
        "plt.figure(figsize=(7,5))\n",
        "plt.title('Showing class balance/imbalance result');\n",
        "data['sentiment'].value_counts().plot.bar(rot = 20);\n",
        "plt.xlabel('Sentiments');\n",
        "plt.ylabel('Counts of tweet');\n",
        "plt.show();"
      ],
      "metadata": {
        "colab": {
          "base_uri": "https://localhost:8080/",
          "height": 384
        },
        "id": "k3n1aLGSUKb9",
        "outputId": "ea9297bc-db8f-4959-f029-da362ea5cab2"
      },
      "execution_count": 196,
      "outputs": [
        {
          "output_type": "display_data",
          "data": {
            "text/plain": [
              "<Figure size 504x360 with 1 Axes>"
            ],
            "image/png": "[encoded data removed]"
          },
          "metadata": {
            "needs_background": "light"
          }
        }
      ]
    },
    {
      "cell_type": "markdown",
      "source": [
        "From above, we can see that Dataset is **balanced** among different classes of sentiments."
      ],
      "metadata": {
        "id": "AP8yW6YcWfno"
      }
    },
    {
      "cell_type": "markdown",
      "source": [
        "Importing and downloading different packages for data cleaning"
      ],
      "metadata": {
        "id": "9f51Bp_fMv4B"
      }
    },
    {
      "cell_type": "code",
      "execution_count": 197,
      "metadata": {
        "colab": {
          "base_uri": "https://localhost:8080/"
        },
        "id": "syn-OBARIie0",
        "outputId": "b8f45acd-7d63-43c6-92fd-e7ba157858bc"
      },
      "outputs": [
        {
          "output_type": "stream",
          "name": "stdout",
          "text": [
            "Requirement already satisfied: emoji in /usr/local/lib/python3.7/dist-packages (1.7.0)\n"
          ]
        }
      ],
      "source": [
        "pip install emoji"
      ]
    },
    {
      "cell_type": "markdown",
      "source": [
        "Importing nltk"
      ],
      "metadata": {
        "id": "fI7C4yarM7kv"
      }
    },
    {
      "cell_type": "code",
      "execution_count": 198,
      "metadata": {
        "colab": {
          "base_uri": "https://localhost:8080/"
        },
        "id": "Zx346TICk0XM",
        "outputId": "9471c70b-ab6a-4eae-e62f-cbea765a1f0a"
      },
      "outputs": [
        {
          "output_type": "stream",
          "name": "stdout",
          "text": [
            "[nltk_data] Downloading package stopwords to /root/nltk_data...\n",
            "[nltk_data]   Package stopwords is already up-to-date!\n"
          ]
        },
        {
          "output_type": "execute_result",
          "data": {
            "text/plain": [
              "True"
            ]
          },
          "metadata": {},
          "execution_count": 198
        }
      ],
      "source": [
        "import nltk\n",
        "# For removing stopwords\n",
        "nltk.download('stopwords')"
      ]
    },
    {
      "cell_type": "code",
      "execution_count": 199,
      "metadata": {
        "colab": {
          "base_uri": "https://localhost:8080/"
        },
        "id": "ACiTq_1r2lJ-",
        "outputId": "5489f8f4-fe7c-438e-aa89-1be265ad2032"
      },
      "outputs": [
        {
          "output_type": "stream",
          "name": "stdout",
          "text": [
            "[nltk_data] Downloading package punkt to /root/nltk_data...\n",
            "[nltk_data]   Package punkt is already up-to-date!\n"
          ]
        },
        {
          "output_type": "execute_result",
          "data": {
            "text/plain": [
              "True"
            ]
          },
          "metadata": {},
          "execution_count": 199
        }
      ],
      "source": [
        "nltk.download('punkt')"
      ]
    },
    {
      "cell_type": "markdown",
      "metadata": {
        "id": "N6tAorFrAn2K"
      },
      "source": [
        "### Now, let's proceed towards basic cleaning of tweets"
      ]
    },
    {
      "cell_type": "code",
      "execution_count": 200,
      "metadata": {
        "id": "esXr4c_F9IxB"
      },
      "outputs": [],
      "source": [
        "import re, string\n",
        "import emoji\n",
        "from nltk.corpus import stopwords\n",
        "stop_words = set(stopwords.words('english'))\n",
        "\n",
        "\n",
        "def remove_emoji(text):  # For removing the emojis from the text\n",
        "  return re.sub(emoji.get_emoji_regexp(), r\"\", text)\n",
        "\n",
        "\n",
        "def remove_entities(text):\n",
        "  text = text.replace('\\r', '').replace('\\n', ' ').lower() # For removing \\n and \\r from the text and then lowercasing the text\n",
        "  text = re.sub(r\"(?:\\@|https?\\://)\\S+\", \"\", text)\n",
        "  text = re.sub(r'[^\\x00-\\x7f]', r'', text)\n",
        "  punctuation_words = string.punctuation\n",
        "  table = text.maketrans('', '', punctuation_words)\n",
        "  text = text.translate(table)\n",
        "  text = [word for word in text.split() if word not in stop_words]\n",
        "  text = ' '.join(text)\n",
        "  text = ' '.join(word for word in text.split() if len(word)<14)\n",
        "  return text\n",
        "\n",
        "\n",
        "def remove_contractions(text):\n",
        "  text = re.sub(r\"can\\'t\", \"can not\", text)\n",
        "  text = re.sub(r\"n\\'t\", \" not\", text)\n",
        "  text = re.sub(r\"\\'re\", \" are\", text)\n",
        "  text = re.sub(r\"\\'s\", \" is\", text)\n",
        "  text = re.sub(r\"\\'d\", \" would\", text)\n",
        "  text = re.sub(r\"\\'ll\", \" will\", text)\n",
        "  text = re.sub(r\"\\'t\", \" not\", text)\n",
        "  text = re.sub(r\"\\'ve\", \" have\", text)\n",
        "  text = re.sub(r\"\\'m\", \" am\", text)\n",
        "  return text\n",
        "\n",
        "\n",
        "def remove_hashtags(text):\n",
        "  new_text = \" \".join(word.strip() for word in re.split('#(?!(?:hashtag)\\b)[\\w-]+(?=(?:\\s+#[\\w-]+)*\\s*$)', text))\n",
        "  new_text2 = \" \".join(word.strip() for word in re.split('#|_', new_text))\n",
        "  return new_text2\n",
        "\n",
        "\n",
        "def filter_characters(text):\n",
        "  filtered = []\n",
        "  for word in text.split(' '):\n",
        "    if ('$' in word) | ('&' in word):\n",
        "      filtered.append('')\n",
        "    else:\n",
        "      filtered.append(word)\n",
        "  return ' '.join(filtered)\n",
        "\n",
        "\n",
        "def remove_mult_spaces(text):\n",
        "  return re.sub(\"\\s\\s+\", \" \", text)\n",
        "\n",
        "\n",
        "# Basic cleaning  \n",
        "def basic_cleaning(text):\n",
        "  text = remove_emoji(text)\n",
        "  text = remove_contractions(text)\n",
        "  text = remove_entities(text)\n",
        "  text = remove_hashtags(text)\n",
        "  text = filter_characters(text)\n",
        "  text = remove_mult_spaces(text)\n",
        "  return text"
      ]
    },
    {
      "cell_type": "markdown",
      "source": [
        "Using basic_cleaning() function defined above to do basic cleaning"
      ],
      "metadata": {
        "id": "Fq4m3mt6fZyW"
      }
    },
    {
      "cell_type": "code",
      "source": [
        "basic_clean_tweets = []\n",
        "for text in data['tweet']:\n",
        "  basic_clean_tweets.append(basic_cleaning(text))"
      ],
      "metadata": {
        "colab": {
          "base_uri": "https://localhost:8080/"
        },
        "id": "VttL1z8SfR84",
        "outputId": "acc0e6e3-8806-4713-f1ea-f3d2117f406f"
      },
      "execution_count": 201,
      "outputs": [
        {
          "output_type": "stream",
          "name": "stderr",
          "text": [
            "/usr/local/lib/python3.7/dist-packages/ipykernel_launcher.py:8: DeprecationWarning: 'emoji.get_emoji_regexp()' is deprecated and will be removed in version 2.0.0. If you want to remove emoji from a string, consider the method emoji.replace_emoji(str, replace='').\n",
            "To hide this warning, pin/downgrade the package to 'emoji~=1.6.3'\n",
            "  \n"
          ]
        }
      ]
    },
    {
      "cell_type": "code",
      "source": [
        "basic_clean_df = pd.DataFrame(basic_clean_tweets, columns = ['Basic clean']);\n",
        "basic_clean_df['sentiment'] = data['sentiment'].values\n",
        "basic_clean_df.head()\n",
        "\n",
        "# We can see that basic cleaning of tweets has been done."
      ],
      "metadata": {
        "colab": {
          "base_uri": "https://localhost:8080/",
          "height": 206
        },
        "id": "vrjWuvkmgbg3",
        "outputId": "03ee16ce-10fc-4176-e967-0ad9300f14b2"
      },
      "execution_count": 202,
      "outputs": [
        {
          "output_type": "execute_result",
          "data": {
            "text/plain": [
              "                                         Basic clean          sentiment\n",
              "0            words katandandre food crapilicious mkr  not_cyberbullying\n",
              "1  aussietv white mkr theblock today sunrise stud...  not_cyberbullying\n",
              "2                   classy whore red velvet cupcakes  not_cyberbullying\n",
              "3  meh p thanks heads concerned another angry dud...  not_cyberbullying\n",
              "4  isis account pretending kurdish account like i...  not_cyberbullying"
            ],
            "text/html": [
              "\n",
              "  <div id=\"df-9267cbe8-4eb4-4a8f-8f29-b3cadbfa4179\">\n",
              "    <div class=\"colab-df-container\">\n",
              "      <div>\n",
              "<style scoped>\n",
              "    .dataframe tbody tr th:only-of-type {\n",
              "        vertical-align: middle;\n",
              "    }\n",
              "\n",
              "    .dataframe tbody tr th {\n",
              "        vertical-align: top;\n",
              "    }\n",
              "\n",
              "    .dataframe thead th {\n",
              "        text-align: right;\n",
              "    }\n",
              "</style>\n",
              "<table border=\"1\" class=\"dataframe\">\n",
              "  <thead>\n",
              "    <tr style=\"text-align: right;\">\n",
              "      <th></th>\n",
              "      <th>Basic clean</th>\n",
              "      <th>sentiment</th>\n",
              "    </tr>\n",
              "  </thead>\n",
              "  <tbody>\n",
              "    <tr>\n",
              "      <th>0</th>\n",
              "      <td>words katandandre food crapilicious mkr</td>\n",
              "      <td>not_cyberbullying</td>\n",
              "    </tr>\n",
              "    <tr>\n",
              "      <th>1</th>\n",
              "      <td>aussietv white mkr theblock today sunrise stud...</td>\n",
              "      <td>not_cyberbullying</td>\n",
              "    </tr>\n",
              "    <tr>\n",
              "      <th>2</th>\n",
              "      <td>classy whore red velvet cupcakes</td>\n",
              "      <td>not_cyberbullying</td>\n",
              "    </tr>\n",
              "    <tr>\n",
              "      <th>3</th>\n",
              "      <td>meh p thanks heads concerned another angry dud...</td>\n",
              "      <td>not_cyberbullying</td>\n",
              "    </tr>\n",
              "    <tr>\n",
              "      <th>4</th>\n",
              "      <td>isis account pretending kurdish account like i...</td>\n",
              "      <td>not_cyberbullying</td>\n",
              "    </tr>\n",
              "  </tbody>\n",
              "</table>\n",
              "</div>\n",
              "      <button class=\"colab-df-convert\" onclick=\"convertToInteractive('df-9267cbe8-4eb4-4a8f-8f29-b3cadbfa4179')\"\n",
              "              title=\"Convert this dataframe to an interactive table.\"\n",
              "              style=\"display:none;\">\n",
              "        \n",
              "  <svg xmlns=\"http://www.w3.org/2000/svg\" height=\"24px\"viewBox=\"0 0 24 24\"\n",
              "       width=\"24px\">\n",
              "    <path d=\"M0 0h24v24H0V0z\" fill=\"none\"/>\n",
              "    <path d=\"M18.56 5.44l.94 2.06.94-2.06 2.06-.94-2.06-.94-.94-2.06-.94 2.06-2.06.94zm-11 1L8.5 8.5l.94-2.06 2.06-.94-2.06-.94L8.5 2.5l-.94 2.06-2.06.94zm10 10l.94 2.06.94-2.06 2.06-.94-2.06-.94-.94-2.06-.94 2.06-2.06.94z\"/><path d=\"M17.41 7.96l-1.37-1.37c-.4-.4-.92-.59-1.43-.59-.52 0-1.04.2-1.43.59L10.3 9.45l-7.72 7.72c-.78.78-.78 2.05 0 2.83L4 21.41c.39.39.9.59 1.41.59.51 0 1.02-.2 1.41-.59l7.78-7.78 2.81-2.81c.8-.78.8-2.07 0-2.86zM5.41 20L4 18.59l7.72-7.72 1.47 1.35L5.41 20z\"/>\n",
              "  </svg>\n",
              "      </button>\n",
              "      \n",
              "  <style>\n",
              "    .colab-df-container {\n",
              "      display:flex;\n",
              "      flex-wrap:wrap;\n",
              "      gap: 12px;\n",
              "    }\n",
              "\n",
              "    .colab-df-convert {\n",
              "      background-color: #E8F0FE;\n",
              "      border: none;\n",
              "      border-radius: 50%;\n",
              "      cursor: pointer;\n",
              "      display: none;\n",
              "      fill: #1967D2;\n",
              "      height: 32px;\n",
              "      padding: 0 0 0 0;\n",
              "      width: 32px;\n",
              "    }\n",
              "\n",
              "    .colab-df-convert:hover {\n",
              "      background-color: #E2EBFA;\n",
              "      box-shadow: 0px 1px 2px rgba(60, 64, 67, 0.3), 0px 1px 3px 1px rgba(60, 64, 67, 0.15);\n",
              "      fill: #174EA6;\n",
              "    }\n",
              "\n",
              "    [theme=dark] .colab-df-convert {\n",
              "      background-color: #3B4455;\n",
              "      fill: #D2E3FC;\n",
              "    }\n",
              "\n",
              "    [theme=dark] .colab-df-convert:hover {\n",
              "      background-color: #434B5C;\n",
              "      box-shadow: 0px 1px 3px 1px rgba(0, 0, 0, 0.15);\n",
              "      filter: drop-shadow(0px 1px 2px rgba(0, 0, 0, 0.3));\n",
              "      fill: #FFFFFF;\n",
              "    }\n",
              "  </style>\n",
              "\n",
              "      <script>\n",
              "        const buttonEl =\n",
              "          document.querySelector('#df-9267cbe8-4eb4-4a8f-8f29-b3cadbfa4179 button.colab-df-convert');\n",
              "        buttonEl.style.display =\n",
              "          google.colab.kernel.accessAllowed ? 'block' : 'none';\n",
              "\n",
              "        async function convertToInteractive(key) {\n",
              "          const element = document.querySelector('#df-9267cbe8-4eb4-4a8f-8f29-b3cadbfa4179');\n",
              "          const dataTable =\n",
              "            await google.colab.kernel.invokeFunction('convertToInteractive',\n",
              "                                                     [key], {});\n",
              "          if (!dataTable) return;\n",
              "\n",
              "          const docLinkHtml = 'Like what you see? Visit the ' +\n",
              "            '<a target=\"_blank\" href=https://colab.research.google.com/notebooks/data_table.ipynb>data table notebook</a>'\n",
              "            + ' to learn more about interactive tables.';\n",
              "          element.innerHTML = '';\n",
              "          dataTable['output_type'] = 'display_data';\n",
              "          await google.colab.output.renderOutput(dataTable, element);\n",
              "          const docLink = document.createElement('div');\n",
              "          docLink.innerHTML = docLinkHtml;\n",
              "          element.appendChild(docLink);\n",
              "        }\n",
              "      </script>\n",
              "    </div>\n",
              "  </div>\n",
              "  "
            ]
          },
          "metadata": {},
          "execution_count": 202
        }
      ]
    },
    {
      "cell_type": "markdown",
      "source": [
        "Removing duplicates from basic cleaned tweets"
      ],
      "metadata": {
        "id": "OZ7XiS1iWfeb"
      }
    },
    {
      "cell_type": "code",
      "source": [
        "basic_clean_df.shape"
      ],
      "metadata": {
        "colab": {
          "base_uri": "https://localhost:8080/"
        },
        "id": "PQjHUGB2YIiU",
        "outputId": "4e927151-1652-4e23-a5a8-718c5511bcda"
      },
      "execution_count": 203,
      "outputs": [
        {
          "output_type": "execute_result",
          "data": {
            "text/plain": [
              "(47656, 2)"
            ]
          },
          "metadata": {},
          "execution_count": 203
        }
      ]
    },
    {
      "cell_type": "code",
      "execution_count": 204,
      "metadata": {
        "colab": {
          "base_uri": "https://localhost:8080/"
        },
        "id": "paGs5agW5eMs",
        "outputId": "65078d6a-616f-4704-ba22-8bbd6d859114"
      },
      "outputs": [
        {
          "output_type": "execute_result",
          "data": {
            "text/plain": [
              "2998"
            ]
          },
          "metadata": {},
          "execution_count": 204
        }
      ],
      "source": [
        "basic_clean_df['Basic clean'].duplicated().sum()"
      ]
    },
    {
      "cell_type": "code",
      "execution_count": 205,
      "metadata": {
        "colab": {
          "base_uri": "https://localhost:8080/"
        },
        "id": "d1P0s8o-5moy",
        "outputId": "0f86ab42-ef31-4416-ea20-b8b4271340f0"
      },
      "outputs": [
        {
          "output_type": "execute_result",
          "data": {
            "text/plain": [
              "(44658, 2)"
            ]
          },
          "metadata": {},
          "execution_count": 205
        }
      ],
      "source": [
        "basic_clean_df.drop_duplicates('Basic clean', inplace = True)\n",
        "# Removed duplicates\n",
        "basic_clean_df.shape"
      ]
    },
    {
      "cell_type": "markdown",
      "source": [
        "Dropping other_cyberbullying"
      ],
      "metadata": {
        "id": "dtAa6KqrXnEn"
      }
    },
    {
      "cell_type": "code",
      "execution_count": 206,
      "metadata": {
        "id": "iVCHqtlg6Jz0"
      },
      "outputs": [],
      "source": [
        "basic_clean_df = basic_clean_df[basic_clean_df['sentiment'] != \"other_cyberbullying\"]"
      ]
    },
    {
      "cell_type": "code",
      "execution_count": 207,
      "metadata": {
        "colab": {
          "base_uri": "https://localhost:8080/"
        },
        "id": "_jmSDH6L51Fe",
        "outputId": "e334a26a-dbef-4928-ff2f-418a7e8710be"
      },
      "outputs": [
        {
          "output_type": "execute_result",
          "data": {
            "text/plain": [
              "religion             7948\n",
              "age                  7898\n",
              "ethnicity            7751\n",
              "not_cyberbullying    7648\n",
              "gender               7616\n",
              "Name: sentiment, dtype: int64"
            ]
          },
          "metadata": {},
          "execution_count": 207
        }
      ],
      "source": [
        "basic_clean_df['sentiment'].value_counts()"
      ]
    },
    {
      "cell_type": "markdown",
      "source": [
        "Creating tweet_length column for basic cleaned tweets"
      ],
      "metadata": {
        "id": "ZRcCrPy1Xwpu"
      }
    },
    {
      "cell_type": "code",
      "execution_count": 208,
      "metadata": {
        "colab": {
          "base_uri": "https://localhost:8080/",
          "height": 310
        },
        "id": "RfKbAj3d6lPc",
        "outputId": "d2d14736-9863-4ccb-a850-3eb6a2763bd7"
      },
      "outputs": [
        {
          "output_type": "stream",
          "name": "stderr",
          "text": [
            "/usr/local/lib/python3.7/dist-packages/ipykernel_launcher.py:6: SettingWithCopyWarning: \n",
            "A value is trying to be set on a copy of a slice from a DataFrame.\n",
            "Try using .loc[row_indexer,col_indexer] = value instead\n",
            "\n",
            "See the caveats in the documentation: https://pandas.pydata.org/pandas-docs/stable/user_guide/indexing.html#returning-a-view-versus-a-copy\n",
            "  \n"
          ]
        },
        {
          "output_type": "execute_result",
          "data": {
            "text/plain": [
              "                                         Basic clean          sentiment  \\\n",
              "0            words katandandre food crapilicious mkr  not_cyberbullying   \n",
              "1  aussietv white mkr theblock today sunrise stud...  not_cyberbullying   \n",
              "2                   classy whore red velvet cupcakes  not_cyberbullying   \n",
              "3  meh p thanks heads concerned another angry dud...  not_cyberbullying   \n",
              "4  isis account pretending kurdish account like i...  not_cyberbullying   \n",
              "\n",
              "   tweet_length  \n",
              "0             5  \n",
              "1            10  \n",
              "2             5  \n",
              "3             9  \n",
              "4             8  "
            ],
            "text/html": [
              "\n",
              "  <div id=\"df-9f2b4b53-1e8c-4798-8f2e-bef24297cf6f\">\n",
              "    <div class=\"colab-df-container\">\n",
              "      <div>\n",
              "<style scoped>\n",
              "    .dataframe tbody tr th:only-of-type {\n",
              "        vertical-align: middle;\n",
              "    }\n",
              "\n",
              "    .dataframe tbody tr th {\n",
              "        vertical-align: top;\n",
              "    }\n",
              "\n",
              "    .dataframe thead th {\n",
              "        text-align: right;\n",
              "    }\n",
              "</style>\n",
              "<table border=\"1\" class=\"dataframe\">\n",
              "  <thead>\n",
              "    <tr style=\"text-align: right;\">\n",
              "      <th></th>\n",
              "      <th>Basic clean</th>\n",
              "      <th>sentiment</th>\n",
              "      <th>tweet_length</th>\n",
              "    </tr>\n",
              "  </thead>\n",
              "  <tbody>\n",
              "    <tr>\n",
              "      <th>0</th>\n",
              "      <td>words katandandre food crapilicious mkr</td>\n",
              "      <td>not_cyberbullying</td>\n",
              "      <td>5</td>\n",
              "    </tr>\n",
              "    <tr>\n",
              "      <th>1</th>\n",
              "      <td>aussietv white mkr theblock today sunrise stud...</td>\n",
              "      <td>not_cyberbullying</td>\n",
              "      <td>10</td>\n",
              "    </tr>\n",
              "    <tr>\n",
              "      <th>2</th>\n",
              "      <td>classy whore red velvet cupcakes</td>\n",
              "      <td>not_cyberbullying</td>\n",
              "      <td>5</td>\n",
              "    </tr>\n",
              "    <tr>\n",
              "      <th>3</th>\n",
              "      <td>meh p thanks heads concerned another angry dud...</td>\n",
              "      <td>not_cyberbullying</td>\n",
              "      <td>9</td>\n",
              "    </tr>\n",
              "    <tr>\n",
              "      <th>4</th>\n",
              "      <td>isis account pretending kurdish account like i...</td>\n",
              "      <td>not_cyberbullying</td>\n",
              "      <td>8</td>\n",
              "    </tr>\n",
              "  </tbody>\n",
              "</table>\n",
              "</div>\n",
              "      <button class=\"colab-df-convert\" onclick=\"convertToInteractive('df-9f2b4b53-1e8c-4798-8f2e-bef24297cf6f')\"\n",
              "              title=\"Convert this dataframe to an interactive table.\"\n",
              "              style=\"display:none;\">\n",
              "        \n",
              "  <svg xmlns=\"http://www.w3.org/2000/svg\" height=\"24px\"viewBox=\"0 0 24 24\"\n",
              "       width=\"24px\">\n",
              "    <path d=\"M0 0h24v24H0V0z\" fill=\"none\"/>\n",
              "    <path d=\"M18.56 5.44l.94 2.06.94-2.06 2.06-.94-2.06-.94-.94-2.06-.94 2.06-2.06.94zm-11 1L8.5 8.5l.94-2.06 2.06-.94-2.06-.94L8.5 2.5l-.94 2.06-2.06.94zm10 10l.94 2.06.94-2.06 2.06-.94-2.06-.94-.94-2.06-.94 2.06-2.06.94z\"/><path d=\"M17.41 7.96l-1.37-1.37c-.4-.4-.92-.59-1.43-.59-.52 0-1.04.2-1.43.59L10.3 9.45l-7.72 7.72c-.78.78-.78 2.05 0 2.83L4 21.41c.39.39.9.59 1.41.59.51 0 1.02-.2 1.41-.59l7.78-7.78 2.81-2.81c.8-.78.8-2.07 0-2.86zM5.41 20L4 18.59l7.72-7.72 1.47 1.35L5.41 20z\"/>\n",
              "  </svg>\n",
              "      </button>\n",
              "      \n",
              "  <style>\n",
              "    .colab-df-container {\n",
              "      display:flex;\n",
              "      flex-wrap:wrap;\n",
              "      gap: 12px;\n",
              "    }\n",
              "\n",
              "    .colab-df-convert {\n",
              "      background-color: #E8F0FE;\n",
              "      border: none;\n",
              "      border-radius: 50%;\n",
              "      cursor: pointer;\n",
              "      display: none;\n",
              "      fill: #1967D2;\n",
              "      height: 32px;\n",
              "      padding: 0 0 0 0;\n",
              "      width: 32px;\n",
              "    }\n",
              "\n",
              "    .colab-df-convert:hover {\n",
              "      background-color: #E2EBFA;\n",
              "      box-shadow: 0px 1px 2px rgba(60, 64, 67, 0.3), 0px 1px 3px 1px rgba(60, 64, 67, 0.15);\n",
              "      fill: #174EA6;\n",
              "    }\n",
              "\n",
              "    [theme=dark] .colab-df-convert {\n",
              "      background-color: #3B4455;\n",
              "      fill: #D2E3FC;\n",
              "    }\n",
              "\n",
              "    [theme=dark] .colab-df-convert:hover {\n",
              "      background-color: #434B5C;\n",
              "      box-shadow: 0px 1px 3px 1px rgba(0, 0, 0, 0.15);\n",
              "      filter: drop-shadow(0px 1px 2px rgba(0, 0, 0, 0.3));\n",
              "      fill: #FFFFFF;\n",
              "    }\n",
              "  </style>\n",
              "\n",
              "      <script>\n",
              "        const buttonEl =\n",
              "          document.querySelector('#df-9f2b4b53-1e8c-4798-8f2e-bef24297cf6f button.colab-df-convert');\n",
              "        buttonEl.style.display =\n",
              "          google.colab.kernel.accessAllowed ? 'block' : 'none';\n",
              "\n",
              "        async function convertToInteractive(key) {\n",
              "          const element = document.querySelector('#df-9f2b4b53-1e8c-4798-8f2e-bef24297cf6f');\n",
              "          const dataTable =\n",
              "            await google.colab.kernel.invokeFunction('convertToInteractive',\n",
              "                                                     [key], {});\n",
              "          if (!dataTable) return;\n",
              "\n",
              "          const docLinkHtml = 'Like what you see? Visit the ' +\n",
              "            '<a target=\"_blank\" href=https://colab.research.google.com/notebooks/data_table.ipynb>data table notebook</a>'\n",
              "            + ' to learn more about interactive tables.';\n",
              "          element.innerHTML = '';\n",
              "          dataTable['output_type'] = 'display_data';\n",
              "          await google.colab.output.renderOutput(dataTable, element);\n",
              "          const docLink = document.createElement('div');\n",
              "          docLink.innerHTML = docLinkHtml;\n",
              "          element.appendChild(docLink);\n",
              "        }\n",
              "      </script>\n",
              "    </div>\n",
              "  </div>\n",
              "  "
            ]
          },
          "metadata": {},
          "execution_count": 208
        }
      ],
      "source": [
        "text_length = []\n",
        "for text in basic_clean_df['Basic clean']:\n",
        "  tweet_length = len(text.split())\n",
        "  text_length.append(tweet_length)\n",
        "\n",
        "basic_clean_df['tweet_length'] = text_length\n",
        "basic_clean_df.head()"
      ]
    },
    {
      "cell_type": "markdown",
      "source": [
        "Showing Count plot of tweets length "
      ],
      "metadata": {
        "id": "pHN__Y40X8aP"
      }
    },
    {
      "cell_type": "code",
      "execution_count": 209,
      "metadata": {
        "colab": {
          "base_uri": "https://localhost:8080/",
          "height": 351
        },
        "id": "4s1EJse67F2w",
        "outputId": "cacddfdb-75ed-461e-a03e-d9ee437e60c6"
      },
      "outputs": [
        {
          "output_type": "display_data",
          "data": {
            "text/plain": [
              "<Figure size 1296x360 with 1 Axes>"
            ],
            "image/png": "[encoded data removed]"
          },
          "metadata": {
            "needs_background": "light"
          }
        }
      ],
      "source": [
        "import matplotlib.pyplot as plt\n",
        "plt.figure(figsize=(18,5))\n",
        "# Using countplot\n",
        "ax = sns.countplot(x='tweet_length', data=basic_clean_df)\n",
        "plt.title('Graph of count of tweets and thier tweet length')\n",
        "plt.ylabel('count')\n",
        "plt.xlabel('Tweet_length')\n",
        "plt.show()"
      ]
    },
    {
      "cell_type": "markdown",
      "source": [
        "From the above graph, we can see the distribution of length of cleaned tweets."
      ],
      "metadata": {
        "id": "6HhQrdkNjJDk"
      }
    },
    {
      "cell_type": "markdown",
      "source": [
        "So, removing tweets of length greater than 100 and less than 1."
      ],
      "metadata": {
        "id": "MhflKmOYk0_v"
      }
    },
    {
      "cell_type": "code",
      "execution_count": 210,
      "metadata": {
        "id": "OTath6pb-NSu"
      },
      "outputs": [],
      "source": [
        "basic_clean_df = basic_clean_df[(basic_clean_df['tweet_length'] <= 100) & (basic_clean_df['tweet_length'] > 0)]"
      ]
    },
    {
      "cell_type": "code",
      "source": [
        "basic_clean_df.shape"
      ],
      "metadata": {
        "colab": {
          "base_uri": "https://localhost:8080/"
        },
        "id": "vWKkJr5gb1Lx",
        "outputId": "432e144f-2075-48e3-b563-8428ce3cdb4b"
      },
      "execution_count": 211,
      "outputs": [
        {
          "output_type": "execute_result",
          "data": {
            "text/plain": [
              "(38851, 3)"
            ]
          },
          "metadata": {},
          "execution_count": 211
        }
      ]
    },
    {
      "cell_type": "code",
      "execution_count": 212,
      "metadata": {
        "colab": {
          "base_uri": "https://localhost:8080/"
        },
        "id": "JunkHLzF-U2l",
        "outputId": "bc5fa995-30cc-45bb-abea-b12f2dfcd4c5"
      },
      "outputs": [
        {
          "output_type": "stream",
          "name": "stdout",
          "text": [
            "Maximum length of tweet: 79\n"
          ]
        }
      ],
      "source": [
        "max_length = np.max(basic_clean_df['tweet_length'])\n",
        "print(\"Maximum length of tweet:\",max_length)"
      ]
    },
    {
      "cell_type": "markdown",
      "source": [
        "### Proceeding towards Stemming and Lemmatization techniques."
      ],
      "metadata": {
        "id": "2-cLtAiZhB8D"
      }
    },
    {
      "cell_type": "markdown",
      "source": [
        "For further cleaning in this section, we will be generating three columns.\n",
        "\n",
        "1.   Stemming of basic cleaned tweets\n",
        "2.   Lemmatization of basic cleaned tweets\n",
        "3.   Lemmatization followed by Stemming of cleaned tweets.\n",
        "\n",
        "We will select one techinique from above three based on thier performance.\n"
      ],
      "metadata": {
        "id": "M3wcUhVdoQbo"
      }
    },
    {
      "cell_type": "code",
      "source": [
        "nltk.download('wordnet')"
      ],
      "metadata": {
        "colab": {
          "base_uri": "https://localhost:8080/"
        },
        "id": "MRVc9gzTpu14",
        "outputId": "465ad351-7582-487d-c7cc-27f23ed6e65a"
      },
      "execution_count": 213,
      "outputs": [
        {
          "output_type": "stream",
          "name": "stdout",
          "text": [
            "[nltk_data] Downloading package wordnet to /root/nltk_data...\n",
            "[nltk_data]   Package wordnet is already up-to-date!\n"
          ]
        },
        {
          "output_type": "execute_result",
          "data": {
            "text/plain": [
              "True"
            ]
          },
          "metadata": {},
          "execution_count": 213
        }
      ]
    },
    {
      "cell_type": "code",
      "source": [
        "# We will use SnowballStemmer\n",
        "\n",
        "from nltk.stem import WordNetLemmatizer,SnowballStemmer\n",
        "\n",
        "def stemming(text):\n",
        "  tokenized = nltk.word_tokenize(text)\n",
        "  sb = SnowballStemmer(language = 'english')\n",
        "  return ' '.join([sb.stem(words) for words in tokenized])\n",
        "\n",
        "\n",
        "def lemmatize(text):\n",
        "  tokenized = nltk.word_tokenize(text)\n",
        "  lm = WordNetLemmatizer()\n",
        "  return ' '.join([lm.lemmatize(words) for words in tokenized])"
      ],
      "metadata": {
        "id": "5-Rdwwe4dsfb"
      },
      "execution_count": 214,
      "outputs": []
    },
    {
      "cell_type": "markdown",
      "source": [
        "Using above functions to do stemming and lemmatization on basic clean tweets"
      ],
      "metadata": {
        "id": "S5lA5dIjlRmD"
      }
    },
    {
      "cell_type": "code",
      "source": [
        "# For stemming and lemmatization\n",
        "stem_tweets = []\n",
        "lemma_tweets = []\n",
        "lemma_stem_tweets = [];\n",
        "\n",
        "# For stemming and lemmatization\n",
        "for text in basic_clean_df['Basic clean']:\n",
        "  stem_tweets.append(stemming(text));      # Stemming\n",
        "  lemma_tweets.append(lemmatize(text));    # Lemmatize\n",
        "\n",
        "# For lemmatization followed by stemming\n",
        "for text in lemma_tweets:\n",
        "  lemma_stem_tweets.append(stemming(text));"
      ],
      "metadata": {
        "id": "9tNmgPOOleuh"
      },
      "execution_count": 215,
      "outputs": []
    },
    {
      "cell_type": "markdown",
      "source": [
        "Showing three results of Stemming, Lemmatization and Lemma+Stemming"
      ],
      "metadata": {
        "id": "kk5ot3CDqTqX"
      }
    },
    {
      "cell_type": "code",
      "source": [
        "basic_clean_df['Stemming'] = stem_tweets;\n",
        "basic_clean_df['Lemmatization'] = lemma_tweets;\n",
        "basic_clean_df['Lemma_Stemming'] = lemma_stem_tweets;\n",
        "basic_clean_df.head()\n",
        "\n",
        "# We can see that in stemming is just removing last few characters of words.\n",
        "# Whereas lemmatization is considering context of words and converting to its\n",
        "# meaningful baseform."
      ],
      "metadata": {
        "colab": {
          "base_uri": "https://localhost:8080/",
          "height": 302
        },
        "id": "JuI8KAC5qD5H",
        "outputId": "29446ef0-f042-446f-dca5-5eded6307d36"
      },
      "execution_count": 216,
      "outputs": [
        {
          "output_type": "execute_result",
          "data": {
            "text/plain": [
              "                                         Basic clean          sentiment  \\\n",
              "0            words katandandre food crapilicious mkr  not_cyberbullying   \n",
              "1  aussietv white mkr theblock today sunrise stud...  not_cyberbullying   \n",
              "2                   classy whore red velvet cupcakes  not_cyberbullying   \n",
              "3  meh p thanks heads concerned another angry dud...  not_cyberbullying   \n",
              "4  isis account pretending kurdish account like i...  not_cyberbullying   \n",
              "\n",
              "   tweet_length                                           Stemming  \\\n",
              "0             5                 word katandandr food crapilici mkr   \n",
              "1            10  aussietv white mkr theblock today sunris studi...   \n",
              "2             5                     classi whore red velvet cupcak   \n",
              "3             9  meh p thank head concern anoth angri dude twitter   \n",
              "4             8  isi account pretend kurdish account like islam...   \n",
              "\n",
              "                                       Lemmatization  \\\n",
              "0             word katandandre food crapilicious mkr   \n",
              "1  aussietv white mkr theblock today sunrise stud...   \n",
              "2                    classy whore red velvet cupcake   \n",
              "3  meh p thanks head concerned another angry dude...   \n",
              "4  isi account pretending kurdish account like is...   \n",
              "\n",
              "                                      Lemma_Stemming  \n",
              "0                 word katandandr food crapilici mkr  \n",
              "1  aussietv white mkr theblock today sunris studi...  \n",
              "2                     classi whore red velvet cupcak  \n",
              "3  meh p thank head concern anoth angri dude twitter  \n",
              "4  isi account pretend kurdish account like islam...  "
            ],
            "text/html": [
              "\n",
              "  <div id=\"df-7472e6cd-2607-42d1-b933-92c65909654f\">\n",
              "    <div class=\"colab-df-container\">\n",
              "      <div>\n",
              "<style scoped>\n",
              "    .dataframe tbody tr th:only-of-type {\n",
              "        vertical-align: middle;\n",
              "    }\n",
              "\n",
              "    .dataframe tbody tr th {\n",
              "        vertical-align: top;\n",
              "    }\n",
              "\n",
              "    .dataframe thead th {\n",
              "        text-align: right;\n",
              "    }\n",
              "</style>\n",
              "<table border=\"1\" class=\"dataframe\">\n",
              "  <thead>\n",
              "    <tr style=\"text-align: right;\">\n",
              "      <th></th>\n",
              "      <th>Basic clean</th>\n",
              "      <th>sentiment</th>\n",
              "      <th>tweet_length</th>\n",
              "      <th>Stemming</th>\n",
              "      <th>Lemmatization</th>\n",
              "      <th>Lemma_Stemming</th>\n",
              "    </tr>\n",
              "  </thead>\n",
              "  <tbody>\n",
              "    <tr>\n",
              "      <th>0</th>\n",
              "      <td>words katandandre food crapilicious mkr</td>\n",
              "      <td>not_cyberbullying</td>\n",
              "      <td>5</td>\n",
              "      <td>word katandandr food crapilici mkr</td>\n",
              "      <td>word katandandre food crapilicious mkr</td>\n",
              "      <td>word katandandr food crapilici mkr</td>\n",
              "    </tr>\n",
              "    <tr>\n",
              "      <th>1</th>\n",
              "      <td>aussietv white mkr theblock today sunrise stud...</td>\n",
              "      <td>not_cyberbullying</td>\n",
              "      <td>10</td>\n",
              "      <td>aussietv white mkr theblock today sunris studi...</td>\n",
              "      <td>aussietv white mkr theblock today sunrise stud...</td>\n",
              "      <td>aussietv white mkr theblock today sunris studi...</td>\n",
              "    </tr>\n",
              "    <tr>\n",
              "      <th>2</th>\n",
              "      <td>classy whore red velvet cupcakes</td>\n",
              "      <td>not_cyberbullying</td>\n",
              "      <td>5</td>\n",
              "      <td>classi whore red velvet cupcak</td>\n",
              "      <td>classy whore red velvet cupcake</td>\n",
              "      <td>classi whore red velvet cupcak</td>\n",
              "    </tr>\n",
              "    <tr>\n",
              "      <th>3</th>\n",
              "      <td>meh p thanks heads concerned another angry dud...</td>\n",
              "      <td>not_cyberbullying</td>\n",
              "      <td>9</td>\n",
              "      <td>meh p thank head concern anoth angri dude twitter</td>\n",
              "      <td>meh p thanks head concerned another angry dude...</td>\n",
              "      <td>meh p thank head concern anoth angri dude twitter</td>\n",
              "    </tr>\n",
              "    <tr>\n",
              "      <th>4</th>\n",
              "      <td>isis account pretending kurdish account like i...</td>\n",
              "      <td>not_cyberbullying</td>\n",
              "      <td>8</td>\n",
              "      <td>isi account pretend kurdish account like islam...</td>\n",
              "      <td>isi account pretending kurdish account like is...</td>\n",
              "      <td>isi account pretend kurdish account like islam...</td>\n",
              "    </tr>\n",
              "  </tbody>\n",
              "</table>\n",
              "</div>\n",
              "      <button class=\"colab-df-convert\" onclick=\"convertToInteractive('df-7472e6cd-2607-42d1-b933-92c65909654f')\"\n",
              "              title=\"Convert this dataframe to an interactive table.\"\n",
              "              style=\"display:none;\">\n",
              "        \n",
              "  <svg xmlns=\"http://www.w3.org/2000/svg\" height=\"24px\"viewBox=\"0 0 24 24\"\n",
              "       width=\"24px\">\n",
              "    <path d=\"M0 0h24v24H0V0z\" fill=\"none\"/>\n",
              "    <path d=\"M18.56 5.44l.94 2.06.94-2.06 2.06-.94-2.06-.94-.94-2.06-.94 2.06-2.06.94zm-11 1L8.5 8.5l.94-2.06 2.06-.94-2.06-.94L8.5 2.5l-.94 2.06-2.06.94zm10 10l.94 2.06.94-2.06 2.06-.94-2.06-.94-.94-2.06-.94 2.06-2.06.94z\"/><path d=\"M17.41 7.96l-1.37-1.37c-.4-.4-.92-.59-1.43-.59-.52 0-1.04.2-1.43.59L10.3 9.45l-7.72 7.72c-.78.78-.78 2.05 0 2.83L4 21.41c.39.39.9.59 1.41.59.51 0 1.02-.2 1.41-.59l7.78-7.78 2.81-2.81c.8-.78.8-2.07 0-2.86zM5.41 20L4 18.59l7.72-7.72 1.47 1.35L5.41 20z\"/>\n",
              "  </svg>\n",
              "      </button>\n",
              "      \n",
              "  <style>\n",
              "    .colab-df-container {\n",
              "      display:flex;\n",
              "      flex-wrap:wrap;\n",
              "      gap: 12px;\n",
              "    }\n",
              "\n",
              "    .colab-df-convert {\n",
              "      background-color: #E8F0FE;\n",
              "      border: none;\n",
              "      border-radius: 50%;\n",
              "      cursor: pointer;\n",
              "      display: none;\n",
              "      fill: #1967D2;\n",
              "      height: 32px;\n",
              "      padding: 0 0 0 0;\n",
              "      width: 32px;\n",
              "    }\n",
              "\n",
              "    .colab-df-convert:hover {\n",
              "      background-color: #E2EBFA;\n",
              "      box-shadow: 0px 1px 2px rgba(60, 64, 67, 0.3), 0px 1px 3px 1px rgba(60, 64, 67, 0.15);\n",
              "      fill: #174EA6;\n",
              "    }\n",
              "\n",
              "    [theme=dark] .colab-df-convert {\n",
              "      background-color: #3B4455;\n",
              "      fill: #D2E3FC;\n",
              "    }\n",
              "\n",
              "    [theme=dark] .colab-df-convert:hover {\n",
              "      background-color: #434B5C;\n",
              "      box-shadow: 0px 1px 3px 1px rgba(0, 0, 0, 0.15);\n",
              "      filter: drop-shadow(0px 1px 2px rgba(0, 0, 0, 0.3));\n",
              "      fill: #FFFFFF;\n",
              "    }\n",
              "  </style>\n",
              "\n",
              "      <script>\n",
              "        const buttonEl =\n",
              "          document.querySelector('#df-7472e6cd-2607-42d1-b933-92c65909654f button.colab-df-convert');\n",
              "        buttonEl.style.display =\n",
              "          google.colab.kernel.accessAllowed ? 'block' : 'none';\n",
              "\n",
              "        async function convertToInteractive(key) {\n",
              "          const element = document.querySelector('#df-7472e6cd-2607-42d1-b933-92c65909654f');\n",
              "          const dataTable =\n",
              "            await google.colab.kernel.invokeFunction('convertToInteractive',\n",
              "                                                     [key], {});\n",
              "          if (!dataTable) return;\n",
              "\n",
              "          const docLinkHtml = 'Like what you see? Visit the ' +\n",
              "            '<a target=\"_blank\" href=https://colab.research.google.com/notebooks/data_table.ipynb>data table notebook</a>'\n",
              "            + ' to learn more about interactive tables.';\n",
              "          element.innerHTML = '';\n",
              "          dataTable['output_type'] = 'display_data';\n",
              "          await google.colab.output.renderOutput(dataTable, element);\n",
              "          const docLink = document.createElement('div');\n",
              "          docLink.innerHTML = docLinkHtml;\n",
              "          element.appendChild(docLink);\n",
              "        }\n",
              "      </script>\n",
              "    </div>\n",
              "  </div>\n",
              "  "
            ]
          },
          "metadata": {},
          "execution_count": 216
        }
      ]
    },
    {
      "cell_type": "markdown",
      "source": [
        "Encoding the sentiment column."
      ],
      "metadata": {
        "id": "c9H2qB3-bS3u"
      }
    },
    {
      "cell_type": "code",
      "source": [
        "basic_clean_df['sentiment'] = basic_clean_df['sentiment'].replace({'religion':0,'age':1,'ethnicity':2,'gender':3,'not_cyberbullying':4})"
      ],
      "metadata": {
        "id": "rdLsARD4bSSt"
      },
      "execution_count": 217,
      "outputs": []
    },
    {
      "cell_type": "markdown",
      "source": [
        "Word Cloud for religion sentiment"
      ],
      "metadata": {
        "id": "YMUIoubmDyTq"
      }
    },
    {
      "cell_type": "code",
      "source": [
        "import matplotlib.pyplot as plt\n",
        "from wordcloud import WordCloud\n",
        "\n",
        "text = basic_clean_df[basic_clean_df['sentiment']==0]['Stemming'].values\n",
        "wordCloud = WordCloud().generate(str(text))\n",
        "plt.imshow(wordCloud)\n",
        "plt.savefig('religion.png')"
      ],
      "metadata": {
        "id": "2yc52qnNAdXu",
        "outputId": "b66a4d06-f411-463f-ce44-60f79d9effc5",
        "colab": {
          "base_uri": "https://localhost:8080/",
          "height": 219
        }
      },
      "execution_count": 218,
      "outputs": [
        {
          "output_type": "display_data",
          "data": {
            "text/plain": [
              "<Figure size 432x288 with 1 Axes>"
            ],
            "image/png": "[encoded data removed]"
          },
          "metadata": {
            "needs_background": "light"
          }
        }
      ]
    },
    {
      "cell_type": "markdown",
      "source": [
        "Word Cloud for age sentiment"
      ],
      "metadata": {
        "id": "LSIIqHO7D9s-"
      }
    },
    {
      "cell_type": "code",
      "source": [
        "text = basic_clean_df[basic_clean_df['sentiment']==1]['Stemming'].values\n",
        "wordCloud = WordCloud().generate(str(text))\n",
        "plt.imshow(wordCloud)\n",
        "plt.savefig('age.png')"
      ],
      "metadata": {
        "id": "TIWA1Y2ZD3w9",
        "outputId": "7eb0d9bf-4231-4d89-db6b-4e59563f8fe8",
        "colab": {
          "base_uri": "https://localhost:8080/",
          "height": 219
        }
      },
      "execution_count": 219,
      "outputs": [
        {
          "output_type": "display_data",
          "data": {
            "text/plain": [
              "<Figure size 432x288 with 1 Axes>"
            ],
            "image/png": "[encoded data removed]"
          },
          "metadata": {
            "needs_background": "light"
          }
        }
      ]
    },
    {
      "cell_type": "markdown",
      "source": [
        "Word Cloud for ethnicity sentiment"
      ],
      "metadata": {
        "id": "vTDgbE_2ECaO"
      }
    },
    {
      "cell_type": "code",
      "source": [
        "text = basic_clean_df[basic_clean_df['sentiment']==2]['Stemming'].values\n",
        "wordCloud = WordCloud().generate(str(text))\n",
        "plt.imshow(wordCloud)\n",
        "plt.savefig('ethnicity.png')"
      ],
      "metadata": {
        "id": "ch5ss5GFEIHy",
        "outputId": "a201fb85-d011-43e4-e5dc-78ac726e71ec",
        "colab": {
          "base_uri": "https://localhost:8080/",
          "height": 219
        }
      },
      "execution_count": 220,
      "outputs": [
        {
          "output_type": "display_data",
          "data": {
            "text/plain": [
              "<Figure size 432x288 with 1 Axes>"
            ],
            "image/png": "[encoded data removed]"
          },
          "metadata": {
            "needs_background": "light"
          }
        }
      ]
    },
    {
      "cell_type": "markdown",
      "source": [
        "Word Cloud for not_cyberbullying sentiment"
      ],
      "metadata": {
        "id": "OG18xAVLEOuu"
      }
    },
    {
      "cell_type": "code",
      "source": [
        "text = basic_clean_df[basic_clean_df['sentiment']==3]['Stemming'].values\n",
        "wordCloud = WordCloud().generate(str(text))\n",
        "plt.imshow(wordCloud)\n",
        "plt.savefig('not_cyberbullying.png')"
      ],
      "metadata": {
        "id": "WrovFpxvEUkg",
        "outputId": "c76de56f-dd80-4999-846d-0938311f9f04",
        "colab": {
          "base_uri": "https://localhost:8080/",
          "height": 219
        }
      },
      "execution_count": 221,
      "outputs": [
        {
          "output_type": "display_data",
          "data": {
            "text/plain": [
              "<Figure size 432x288 with 1 Axes>"
            ],
            "image/png": "[encoded data removed]"
          },
          "metadata": {
            "needs_background": "light"
          }
        }
      ]
    },
    {
      "cell_type": "markdown",
      "source": [
        "Word Cloud for gender sentiment"
      ],
      "metadata": {
        "id": "FvZNYuhpEiYv"
      }
    },
    {
      "cell_type": "code",
      "source": [
        "text = basic_clean_df[basic_clean_df['sentiment']==4]['Stemming'].values\n",
        "wordCloud = WordCloud().generate(str(text))\n",
        "plt.imshow(wordCloud)\n",
        "plt.savefig('gender.png')"
      ],
      "metadata": {
        "id": "z0HSEqdvEn4o",
        "outputId": "06acbc97-2df1-49f9-c550-14de590fef4e",
        "colab": {
          "base_uri": "https://localhost:8080/",
          "height": 219
        }
      },
      "execution_count": 222,
      "outputs": [
        {
          "output_type": "display_data",
          "data": {
            "text/plain": [
              "<Figure size 432x288 with 1 Axes>"
            ],
            "image/png": "[encoded data removed]"
          },
          "metadata": {
            "needs_background": "light"
          }
        }
      ]
    },
    {
      "cell_type": "markdown",
      "source": [
        "## Proceeding towards Word embeddings"
      ],
      "metadata": {
        "id": "Vy3x4BjSdT4l"
      }
    },
    {
      "cell_type": "markdown",
      "source": [
        "For further processing, we will convert our results of - \n",
        "\n",
        "*   Stemming\n",
        "*   Lemmatization\n",
        "*   Lemmatization followed by stemming\n",
        "\n",
        "to vectors.\n",
        "To achieve this, we will be using following word-embeddings -\n",
        "\n",
        "\n",
        "1.   Bag of words\n",
        "2.   Tf-idf (Term Frequency-Inverse Document Frequency)\n",
        "3.   GloVe word embedding\n",
        "4.   Word2vec embedding\n",
        "\n",
        "\n",
        "Before going for these, lets first split the dataset in training and testing.\n"
      ],
      "metadata": {
        "id": "KeVgwA8Ydivp"
      }
    },
    {
      "cell_type": "markdown",
      "source": [
        "importing libraries"
      ],
      "metadata": {
        "id": "q9_NEH3fepnc"
      }
    },
    {
      "cell_type": "code",
      "source": [
        "from sklearn.model_selection import train_test_split"
      ],
      "metadata": {
        "id": "XwSyuVhveniE"
      },
      "execution_count": 223,
      "outputs": []
    },
    {
      "cell_type": "code",
      "source": [
        "basic_clean_df['sentiment'].value_counts()"
      ],
      "metadata": {
        "colab": {
          "base_uri": "https://localhost:8080/"
        },
        "id": "XuXppoZ0dLj-",
        "outputId": "06d651d1-95bb-4b2c-89c5-4b62f3c98f3f"
      },
      "execution_count": 224,
      "outputs": [
        {
          "output_type": "execute_result",
          "data": {
            "text/plain": [
              "0    7948\n",
              "1    7897\n",
              "2    7748\n",
              "4    7645\n",
              "3    7613\n",
              "Name: sentiment, dtype: int64"
            ]
          },
          "metadata": {},
          "execution_count": 224
        }
      ]
    },
    {
      "cell_type": "markdown",
      "source": [
        "Train/test split"
      ],
      "metadata": {
        "id": "NkLD2rB5dWK0"
      }
    },
    {
      "cell_type": "code",
      "source": [
        "# For X - dropping sentiment column \n",
        "X = basic_clean_df.drop(columns='sentiment');\n",
        "# y = sentiments\n",
        "y = basic_clean_df['sentiment']\n",
        "# Splitting 20% test and 80% train\n",
        "X_train,X_test,y_train,y_test = train_test_split(X, y, test_size=0.2, stratify=y, random_state = 42);\n",
        "print(X_train.shape, X_test.shape, y_train.shape, y_test.shape);"
      ],
      "metadata": {
        "colab": {
          "base_uri": "https://localhost:8080/"
        },
        "id": "03hUKLEvbLKd",
        "outputId": "95c2634e-b307-400f-dcae-ee4d3882c1fb"
      },
      "execution_count": 225,
      "outputs": [
        {
          "output_type": "stream",
          "name": "stdout",
          "text": [
            "(31080, 5) (7771, 5) (31080,) (7771,)\n"
          ]
        }
      ]
    },
    {
      "cell_type": "markdown",
      "source": [
        "Defining different varaiables for Stemming,lemmatization and lemma_stem\n"
      ],
      "metadata": {
        "id": "nH9sR31jtSe_"
      }
    },
    {
      "cell_type": "code",
      "source": [
        "# For training -\n",
        "X_stem_train = X_train['Stemming']\n",
        "X_lemma_train = X_train['Lemmatization']\n",
        "X_lemmaStem_train = X_train['Lemma_Stemming']\n",
        "\n",
        "# For testing -\n",
        "X_stem_test = X_test['Stemming']\n",
        "X_lemma_test = X_test['Lemmatization']\n",
        "X_lemmaStem_test = X_test['Lemma_Stemming']\n",
        "\n",
        "print(X_stem_train.shape,X_lemma_train.shape,X_lemmaStem_train.shape)\n",
        "print(X_stem_test.shape,X_lemma_test.shape,X_lemmaStem_test.shape)"
      ],
      "metadata": {
        "colab": {
          "base_uri": "https://localhost:8080/"
        },
        "id": "OoGRKtZHtw7x",
        "outputId": "cf858e26-6ca7-40fd-eab2-2cc5bd84a528"
      },
      "execution_count": 226,
      "outputs": [
        {
          "output_type": "stream",
          "name": "stdout",
          "text": [
            "(31080,) (31080,) (31080,)\n",
            "(7771,) (7771,) (7771,)\n"
          ]
        }
      ]
    },
    {
      "cell_type": "markdown",
      "source": [
        "Now, we will use above vairables for different embedings."
      ],
      "metadata": {
        "id": "YvQNE57yuevn"
      }
    },
    {
      "cell_type": "markdown",
      "source": [
        "### Bag of words"
      ],
      "metadata": {
        "id": "6-WZIFUJfBWa"
      }
    },
    {
      "cell_type": "markdown",
      "source": [
        "importing CountVectorizer"
      ],
      "metadata": {
        "id": "AkyzFCYAgHbf"
      }
    },
    {
      "cell_type": "code",
      "source": [
        "from sklearn.feature_extraction.text import CountVectorizer"
      ],
      "metadata": {
        "id": "7Fv6MMUTgGiv"
      },
      "execution_count": 227,
      "outputs": []
    },
    {
      "cell_type": "markdown",
      "source": [
        "Creating objects of CountVectorizer"
      ],
      "metadata": {
        "id": "_q0oM582vBgp"
      }
    },
    {
      "cell_type": "code",
      "source": [
        "bow1 = CountVectorizer();\n",
        "bow2 = CountVectorizer();\n",
        "bow3 = CountVectorizer();\n",
        "# for stemming\n",
        "bow_cv1 = bow1.fit_transform(X_stem_train);\n",
        "# for lemmatization\n",
        "bow_cv2 = bow2.fit_transform(X_lemma_train);\n",
        "# for lemma-stemming\n",
        "bow_cv3 = bow3.fit_transform(X_lemmaStem_train);\n",
        "\n",
        "print(bow_cv1.shape);\n",
        "print(bow_cv2.shape);\n",
        "print(bow_cv3.shape);"
      ],
      "metadata": {
        "id": "g8y5bWgGfQyR",
        "colab": {
          "base_uri": "https://localhost:8080/"
        },
        "outputId": "de77893f-8e8d-48b7-8d4a-36df8ac5cdd1"
      },
      "execution_count": 228,
      "outputs": [
        {
          "output_type": "stream",
          "name": "stdout",
          "text": [
            "(31080, 29153)\n",
            "(31080, 34843)\n",
            "(31080, 28992)\n"
          ]
        }
      ]
    },
    {
      "cell_type": "markdown",
      "source": [
        "### Tf-idf (Term Frequency-Inverse Document Frequency)"
      ],
      "metadata": {
        "id": "BaEUGpJPfF1K"
      }
    },
    {
      "cell_type": "markdown",
      "source": [
        "importing TfidfTransformer"
      ],
      "metadata": {
        "id": "hiaHOCPexV4v"
      }
    },
    {
      "cell_type": "code",
      "source": [
        "from sklearn.feature_extraction.text import TfidfTransformer"
      ],
      "metadata": {
        "id": "yV69lxLSdh7K"
      },
      "execution_count": 229,
      "outputs": []
    },
    {
      "cell_type": "markdown",
      "source": [
        "Creating objects of TfidfTransformer"
      ],
      "metadata": {
        "id": "lIpw0Kajxt8_"
      }
    },
    {
      "cell_type": "code",
      "source": [
        "tfid1 = TfidfTransformer(use_idf=True).fit(bow_cv1)\n",
        "tfid2 = TfidfTransformer(use_idf=True).fit(bow_cv2)\n",
        "tfid3 = TfidfTransformer(use_idf=True).fit(bow_cv3)\n",
        "# for stemming\n",
        "tf_cv1 = tfid1.transform(bow_cv1);\n",
        "# for lemmatization\n",
        "tf_cv2 = tfid2.transform(bow_cv2);\n",
        "# for lemma-stemming\n",
        "tf_cv3 = tfid3.transform(bow_cv3);\n",
        "\n",
        "print(tf_cv1.shape);\n",
        "print(tf_cv2.shape);\n",
        "print(tf_cv3.shape);"
      ],
      "metadata": {
        "id": "D7uEUDGIx6ES",
        "colab": {
          "base_uri": "https://localhost:8080/"
        },
        "outputId": "69365487-d5a9-4158-e95f-b4bb23be4cae"
      },
      "execution_count": 230,
      "outputs": [
        {
          "output_type": "stream",
          "name": "stdout",
          "text": [
            "(31080, 29153)\n",
            "(31080, 34843)\n",
            "(31080, 28992)\n"
          ]
        }
      ]
    },
    {
      "cell_type": "markdown",
      "source": [
        "### GloVe (Global Vectors) Word Embedding"
      ],
      "metadata": {
        "id": "mAtChbWFNQ3-"
      }
    },
    {
      "cell_type": "markdown",
      "source": [
        "Downloading glove python library"
      ],
      "metadata": {
        "id": "zY3w3NPSP4qC"
      }
    },
    {
      "cell_type": "code",
      "source": [
        "! pip install glove-python-binary"
      ],
      "metadata": {
        "id": "ouIy51pgNv5u",
        "outputId": "7de79c18-4ed4-422b-a2a3-b8d865374bfa",
        "colab": {
          "base_uri": "https://localhost:8080/"
        }
      },
      "execution_count": 231,
      "outputs": [
        {
          "output_type": "stream",
          "name": "stdout",
          "text": [
            "Requirement already satisfied: glove-python-binary in /usr/local/lib/python3.7/dist-packages (0.2.0)\n",
            "Requirement already satisfied: numpy in /usr/local/lib/python3.7/dist-packages (from glove-python-binary) (1.21.5)\n",
            "Requirement already satisfied: scipy in /usr/local/lib/python3.7/dist-packages (from glove-python-binary) (1.4.1)\n"
          ]
        }
      ]
    },
    {
      "cell_type": "markdown",
      "source": [
        "Creating two lists- tweet_text and tweet_sentiment to store stemmed tweets and its corresponding sentiment so that we can train glove embeddings."
      ],
      "metadata": {
        "id": "V5F3Q2YQRn2n"
      }
    },
    {
      "cell_type": "code",
      "source": [
        "size = len(basic_clean_df)\n",
        "tweet_text = []\n",
        "tweet_sentiment = []\n",
        "for key, value in basic_clean_df.iterrows():\n",
        "  tweet = value['Stemming'].split()\n",
        "  tweet_text.append(tweet)\n",
        "  tweet_sentiment.append(value['sentiment'])"
      ],
      "metadata": {
        "id": "pLXw_koKQFvf"
      },
      "execution_count": 232,
      "outputs": []
    },
    {
      "cell_type": "markdown",
      "source": [
        "Now training glove to create embeddings"
      ],
      "metadata": {
        "id": "QDukWrtuSnCt"
      }
    },
    {
      "cell_type": "code",
      "source": [
        "from glove import Corpus, Glove\n",
        "\n",
        "corpus = Corpus()  # Creating a corpus object that will generate the co-occurence matrix\n",
        "corpus.fit(tweet_text, window = 10)  # Training the corpus to generate the co-occurence matrix that will be used by GloVe\n",
        "glove = Glove(no_components=500, learning_rate=0.05)  # Creating a glove object that will use the matrix created above to create embeddings\n",
        "glove.fit(corpus.matrix, epochs=30, no_threads=4, verbose=True)  # Training glove to create embeddings\n",
        "glove.add_dictionary(corpus.dictionary)  # Adding corpus dictionary to glove dictionary\n",
        "glove.save('glove.model')  # Saving the model"
      ],
      "metadata": {
        "id": "7pdapjaMSWGG",
        "outputId": "039be7ad-580e-42b0-aa23-deb7e67b525c",
        "colab": {
          "base_uri": "https://localhost:8080/"
        }
      },
      "execution_count": 233,
      "outputs": [
        {
          "output_type": "stream",
          "name": "stdout",
          "text": [
            "Performing 30 training epochs with 4 threads\n",
            "Epoch 0\n",
            "Epoch 1\n",
            "Epoch 2\n",
            "Epoch 3\n",
            "Epoch 4\n",
            "Epoch 5\n",
            "Epoch 6\n",
            "Epoch 7\n",
            "Epoch 8\n",
            "Epoch 9\n",
            "Epoch 10\n",
            "Epoch 11\n",
            "Epoch 12\n",
            "Epoch 13\n",
            "Epoch 14\n",
            "Epoch 15\n",
            "Epoch 16\n",
            "Epoch 17\n",
            "Epoch 18\n",
            "Epoch 19\n",
            "Epoch 20\n",
            "Epoch 21\n",
            "Epoch 22\n",
            "Epoch 23\n",
            "Epoch 24\n",
            "Epoch 25\n",
            "Epoch 26\n",
            "Epoch 27\n",
            "Epoch 28\n",
            "Epoch 29\n"
          ]
        }
      ]
    },
    {
      "cell_type": "markdown",
      "source": [
        "Iterating over stemmed tweets and storing the word embeddings in a list"
      ],
      "metadata": {
        "id": "VJ5ExAOLVQgF"
      }
    },
    {
      "cell_type": "code",
      "source": [
        "word_embeddings = []\n",
        "for key, value in basic_clean_df.iterrows():\n",
        "  words = value['Stemming'].split()\n",
        "  embedding = np.zeros(500)\n",
        "  for j in range(len(words)):  # Iterating over all words in the tweet to calculate mean of GloVe embedding\n",
        "    embedding += np.array(glove.word_vectors[glove.dictionary[words[j]]])\n",
        "  embedding = embedding/len(words)\n",
        "  word_embeddings.append(embedding)"
      ],
      "metadata": {
        "id": "6hKsv5QEU9rV"
      },
      "execution_count": 234,
      "outputs": []
    },
    {
      "cell_type": "markdown",
      "source": [
        "Creating a dataframe for word embeddings and their corresponding sentiment"
      ],
      "metadata": {
        "id": "lbgSXivQWTz7"
      }
    },
    {
      "cell_type": "code",
      "source": [
        "cols = []\n",
        "for i in range(500):\n",
        "  col_name = \"col\"+str(i+1)\n",
        "  cols.append(col_name)\n",
        "embeddings_df = pd.DataFrame(word_embeddings, columns = cols)\n",
        "embeddings_df['sentiments'] = tweet_sentiment\n",
        "embeddings_df"
      ],
      "metadata": {
        "id": "PYUYwnsaWbz9",
        "outputId": "1b1479c8-716f-4e3c-dfe0-332549638e2e",
        "colab": {
          "base_uri": "https://localhost:8080/",
          "height": 487
        }
      },
      "execution_count": 235,
      "outputs": [
        {
          "output_type": "execute_result",
          "data": {
            "text/plain": [
              "           col1      col2      col3      col4      col5      col6      col7  \\\n",
              "0      0.017620 -0.045949  0.027641 -0.015099 -0.036911  0.065511 -0.033598   \n",
              "1      0.024770  0.003134 -0.019945  0.013499  0.005015  0.039600 -0.034763   \n",
              "2      0.000606  0.023224 -0.036432 -0.006879  0.039300  0.005963  0.014782   \n",
              "3      0.052095 -0.000345 -0.025325  0.024106  0.001005  0.062928 -0.060484   \n",
              "4      0.062378 -0.049833 -0.031005  0.044947 -0.037356  0.070446 -0.100920   \n",
              "...         ...       ...       ...       ...       ...       ...       ...   \n",
              "38846  0.056886  0.037808  0.009693  0.030350  0.045865  0.065014 -0.100381   \n",
              "38847  0.042940 -0.002056 -0.020012  0.033228  0.036972  0.051400 -0.056705   \n",
              "38848  0.079001 -0.010405 -0.042070  0.005037  0.075070  0.088937 -0.077794   \n",
              "38849  0.129255  0.053249 -0.047345  0.025493  0.126517  0.148786 -0.131386   \n",
              "38850  0.106762 -0.062990 -0.071946  0.055581  0.088108  0.115380 -0.107620   \n",
              "\n",
              "           col8      col9     col10  ...    col492    col493    col494  \\\n",
              "0     -0.051745 -0.003318 -0.036461  ...  0.039015 -0.015972 -0.067547   \n",
              "1      0.005972 -0.001294 -0.000693  ...  0.015494 -0.027894 -0.012896   \n",
              "2      0.012460  0.005818  0.038212  ...  0.044738  0.012536 -0.013952   \n",
              "3     -0.005904 -0.015513  0.030372  ...  0.027198 -0.028768  0.003147   \n",
              "4     -0.066103  0.056231  0.035485  ...  0.013761  0.057803  0.067806   \n",
              "...         ...       ...       ...  ...       ...       ...       ...   \n",
              "38846  0.009060  0.002336 -0.009727  ...  0.014577 -0.017550  0.033460   \n",
              "38847  0.039131  0.024024  0.017392  ...  0.026516 -0.031763  0.033075   \n",
              "38848  0.039317 -0.034005  0.051951  ...  0.119149  0.004455  0.005304   \n",
              "38849 -0.025104 -0.067584  0.109773  ...  0.204326  0.096785 -0.015117   \n",
              "38850  0.064182 -0.026638  0.080811  ...  0.136884  0.049439  0.004698   \n",
              "\n",
              "         col495    col496    col497    col498    col499    col500  sentiments  \n",
              "0      0.037042  0.003537  0.037056  0.014891  0.084840  0.033808           4  \n",
              "1      0.024738  0.020142  0.016611 -0.009248  0.009545  0.037312           4  \n",
              "2      0.007785  0.012739  0.034177 -0.004895 -0.030770 -0.010691           4  \n",
              "3      0.018618  0.015903  0.034864 -0.039159 -0.001268  0.055096           4  \n",
              "4      0.048598 -0.056312 -0.005884 -0.074486 -0.026147  0.099404           4  \n",
              "...         ...       ...       ...       ...       ...       ...         ...  \n",
              "38846  0.002951 -0.009769 -0.009387 -0.039208 -0.032663  0.092506           2  \n",
              "38847  0.027351  0.010947  0.016374 -0.023395  0.018649  0.055937           2  \n",
              "38848  0.029278  0.066887  0.090983 -0.050600 -0.048889  0.060461           2  \n",
              "38849  0.040217  0.124070  0.116855 -0.091340 -0.112742  0.092449           2  \n",
              "38850  0.020756  0.089194  0.098525 -0.071484 -0.045447  0.075419           2  \n",
              "\n",
              "[38851 rows x 501 columns]"
            ],
            "text/html": [
              "\n",
              "  <div id=\"df-484e146f-c2a1-4fec-b824-1c1863794e44\">\n",
              "    <div class=\"colab-df-container\">\n",
              "      <div>\n",
              "<style scoped>\n",
              "    .dataframe tbody tr th:only-of-type {\n",
              "        vertical-align: middle;\n",
              "    }\n",
              "\n",
              "    .dataframe tbody tr th {\n",
              "        vertical-align: top;\n",
              "    }\n",
              "\n",
              "    .dataframe thead th {\n",
              "        text-align: right;\n",
              "    }\n",
              "</style>\n",
              "<table border=\"1\" class=\"dataframe\">\n",
              "  <thead>\n",
              "    <tr style=\"text-align: right;\">\n",
              "      <th></th>\n",
              "      <th>col1</th>\n",
              "      <th>col2</th>\n",
              "      <th>col3</th>\n",
              "      <th>col4</th>\n",
              "      <th>col5</th>\n",
              "      <th>col6</th>\n",
              "      <th>col7</th>\n",
              "      <th>col8</th>\n",
              "      <th>col9</th>\n",
              "      <th>col10</th>\n",
              "      <th>...</th>\n",
              "      <th>col492</th>\n",
              "      <th>col493</th>\n",
              "      <th>col494</th>\n",
              "      <th>col495</th>\n",
              "      <th>col496</th>\n",
              "      <th>col497</th>\n",
              "      <th>col498</th>\n",
              "      <th>col499</th>\n",
              "      <th>col500</th>\n",
              "      <th>sentiments</th>\n",
              "    </tr>\n",
              "  </thead>\n",
              "  <tbody>\n",
              "    <tr>\n",
              "      <th>0</th>\n",
              "      <td>0.017620</td>\n",
              "      <td>-0.045949</td>\n",
              "      <td>0.027641</td>\n",
              "      <td>-0.015099</td>\n",
              "      <td>-0.036911</td>\n",
              "      <td>0.065511</td>\n",
              "      <td>-0.033598</td>\n",
              "      <td>-0.051745</td>\n",
              "      <td>-0.003318</td>\n",
              "      <td>-0.036461</td>\n",
              "      <td>...</td>\n",
              "      <td>0.039015</td>\n",
              "      <td>-0.015972</td>\n",
              "      <td>-0.067547</td>\n",
              "      <td>0.037042</td>\n",
              "      <td>0.003537</td>\n",
              "      <td>0.037056</td>\n",
              "      <td>0.014891</td>\n",
              "      <td>0.084840</td>\n",
              "      <td>0.033808</td>\n",
              "      <td>4</td>\n",
              "    </tr>\n",
              "    <tr>\n",
              "      <th>1</th>\n",
              "      <td>0.024770</td>\n",
              "      <td>0.003134</td>\n",
              "      <td>-0.019945</td>\n",
              "      <td>0.013499</td>\n",
              "      <td>0.005015</td>\n",
              "      <td>0.039600</td>\n",
              "      <td>-0.034763</td>\n",
              "      <td>0.005972</td>\n",
              "      <td>-0.001294</td>\n",
              "      <td>-0.000693</td>\n",
              "      <td>...</td>\n",
              "      <td>0.015494</td>\n",
              "      <td>-0.027894</td>\n",
              "      <td>-0.012896</td>\n",
              "      <td>0.024738</td>\n",
              "      <td>0.020142</td>\n",
              "      <td>0.016611</td>\n",
              "      <td>-0.009248</td>\n",
              "      <td>0.009545</td>\n",
              "      <td>0.037312</td>\n",
              "      <td>4</td>\n",
              "    </tr>\n",
              "    <tr>\n",
              "      <th>2</th>\n",
              "      <td>0.000606</td>\n",
              "      <td>0.023224</td>\n",
              "      <td>-0.036432</td>\n",
              "      <td>-0.006879</td>\n",
              "      <td>0.039300</td>\n",
              "      <td>0.005963</td>\n",
              "      <td>0.014782</td>\n",
              "      <td>0.012460</td>\n",
              "      <td>0.005818</td>\n",
              "      <td>0.038212</td>\n",
              "      <td>...</td>\n",
              "      <td>0.044738</td>\n",
              "      <td>0.012536</td>\n",
              "      <td>-0.013952</td>\n",
              "      <td>0.007785</td>\n",
              "      <td>0.012739</td>\n",
              "      <td>0.034177</td>\n",
              "      <td>-0.004895</td>\n",
              "      <td>-0.030770</td>\n",
              "      <td>-0.010691</td>\n",
              "      <td>4</td>\n",
              "    </tr>\n",
              "    <tr>\n",
              "      <th>3</th>\n",
              "      <td>0.052095</td>\n",
              "      <td>-0.000345</td>\n",
              "      <td>-0.025325</td>\n",
              "      <td>0.024106</td>\n",
              "      <td>0.001005</td>\n",
              "      <td>0.062928</td>\n",
              "      <td>-0.060484</td>\n",
              "      <td>-0.005904</td>\n",
              "      <td>-0.015513</td>\n",
              "      <td>0.030372</td>\n",
              "      <td>...</td>\n",
              "      <td>0.027198</td>\n",
              "      <td>-0.028768</td>\n",
              "      <td>0.003147</td>\n",
              "      <td>0.018618</td>\n",
              "      <td>0.015903</td>\n",
              "      <td>0.034864</td>\n",
              "      <td>-0.039159</td>\n",
              "      <td>-0.001268</td>\n",
              "      <td>0.055096</td>\n",
              "      <td>4</td>\n",
              "    </tr>\n",
              "    <tr>\n",
              "      <th>4</th>\n",
              "      <td>0.062378</td>\n",
              "      <td>-0.049833</td>\n",
              "      <td>-0.031005</td>\n",
              "      <td>0.044947</td>\n",
              "      <td>-0.037356</td>\n",
              "      <td>0.070446</td>\n",
              "      <td>-0.100920</td>\n",
              "      <td>-0.066103</td>\n",
              "      <td>0.056231</td>\n",
              "      <td>0.035485</td>\n",
              "      <td>...</td>\n",
              "      <td>0.013761</td>\n",
              "      <td>0.057803</td>\n",
              "      <td>0.067806</td>\n",
              "      <td>0.048598</td>\n",
              "      <td>-0.056312</td>\n",
              "      <td>-0.005884</td>\n",
              "      <td>-0.074486</td>\n",
              "      <td>-0.026147</td>\n",
              "      <td>0.099404</td>\n",
              "      <td>4</td>\n",
              "    </tr>\n",
              "    <tr>\n",
              "      <th>...</th>\n",
              "      <td>...</td>\n",
              "      <td>...</td>\n",
              "      <td>...</td>\n",
              "      <td>...</td>\n",
              "      <td>...</td>\n",
              "      <td>...</td>\n",
              "      <td>...</td>\n",
              "      <td>...</td>\n",
              "      <td>...</td>\n",
              "      <td>...</td>\n",
              "      <td>...</td>\n",
              "      <td>...</td>\n",
              "      <td>...</td>\n",
              "      <td>...</td>\n",
              "      <td>...</td>\n",
              "      <td>...</td>\n",
              "      <td>...</td>\n",
              "      <td>...</td>\n",
              "      <td>...</td>\n",
              "      <td>...</td>\n",
              "      <td>...</td>\n",
              "    </tr>\n",
              "    <tr>\n",
              "      <th>38846</th>\n",
              "      <td>0.056886</td>\n",
              "      <td>0.037808</td>\n",
              "      <td>0.009693</td>\n",
              "      <td>0.030350</td>\n",
              "      <td>0.045865</td>\n",
              "      <td>0.065014</td>\n",
              "      <td>-0.100381</td>\n",
              "      <td>0.009060</td>\n",
              "      <td>0.002336</td>\n",
              "      <td>-0.009727</td>\n",
              "      <td>...</td>\n",
              "      <td>0.014577</td>\n",
              "      <td>-0.017550</td>\n",
              "      <td>0.033460</td>\n",
              "      <td>0.002951</td>\n",
              "      <td>-0.009769</td>\n",
              "      <td>-0.009387</td>\n",
              "      <td>-0.039208</td>\n",
              "      <td>-0.032663</td>\n",
              "      <td>0.092506</td>\n",
              "      <td>2</td>\n",
              "    </tr>\n",
              "    <tr>\n",
              "      <th>38847</th>\n",
              "      <td>0.042940</td>\n",
              "      <td>-0.002056</td>\n",
              "      <td>-0.020012</td>\n",
              "      <td>0.033228</td>\n",
              "      <td>0.036972</td>\n",
              "      <td>0.051400</td>\n",
              "      <td>-0.056705</td>\n",
              "      <td>0.039131</td>\n",
              "      <td>0.024024</td>\n",
              "      <td>0.017392</td>\n",
              "      <td>...</td>\n",
              "      <td>0.026516</td>\n",
              "      <td>-0.031763</td>\n",
              "      <td>0.033075</td>\n",
              "      <td>0.027351</td>\n",
              "      <td>0.010947</td>\n",
              "      <td>0.016374</td>\n",
              "      <td>-0.023395</td>\n",
              "      <td>0.018649</td>\n",
              "      <td>0.055937</td>\n",
              "      <td>2</td>\n",
              "    </tr>\n",
              "    <tr>\n",
              "      <th>38848</th>\n",
              "      <td>0.079001</td>\n",
              "      <td>-0.010405</td>\n",
              "      <td>-0.042070</td>\n",
              "      <td>0.005037</td>\n",
              "      <td>0.075070</td>\n",
              "      <td>0.088937</td>\n",
              "      <td>-0.077794</td>\n",
              "      <td>0.039317</td>\n",
              "      <td>-0.034005</td>\n",
              "      <td>0.051951</td>\n",
              "      <td>...</td>\n",
              "      <td>0.119149</td>\n",
              "      <td>0.004455</td>\n",
              "      <td>0.005304</td>\n",
              "      <td>0.029278</td>\n",
              "      <td>0.066887</td>\n",
              "      <td>0.090983</td>\n",
              "      <td>-0.050600</td>\n",
              "      <td>-0.048889</td>\n",
              "      <td>0.060461</td>\n",
              "      <td>2</td>\n",
              "    </tr>\n",
              "    <tr>\n",
              "      <th>38849</th>\n",
              "      <td>0.129255</td>\n",
              "      <td>0.053249</td>\n",
              "      <td>-0.047345</td>\n",
              "      <td>0.025493</td>\n",
              "      <td>0.126517</td>\n",
              "      <td>0.148786</td>\n",
              "      <td>-0.131386</td>\n",
              "      <td>-0.025104</td>\n",
              "      <td>-0.067584</td>\n",
              "      <td>0.109773</td>\n",
              "      <td>...</td>\n",
              "      <td>0.204326</td>\n",
              "      <td>0.096785</td>\n",
              "      <td>-0.015117</td>\n",
              "      <td>0.040217</td>\n",
              "      <td>0.124070</td>\n",
              "      <td>0.116855</td>\n",
              "      <td>-0.091340</td>\n",
              "      <td>-0.112742</td>\n",
              "      <td>0.092449</td>\n",
              "      <td>2</td>\n",
              "    </tr>\n",
              "    <tr>\n",
              "      <th>38850</th>\n",
              "      <td>0.106762</td>\n",
              "      <td>-0.062990</td>\n",
              "      <td>-0.071946</td>\n",
              "      <td>0.055581</td>\n",
              "      <td>0.088108</td>\n",
              "      <td>0.115380</td>\n",
              "      <td>-0.107620</td>\n",
              "      <td>0.064182</td>\n",
              "      <td>-0.026638</td>\n",
              "      <td>0.080811</td>\n",
              "      <td>...</td>\n",
              "      <td>0.136884</td>\n",
              "      <td>0.049439</td>\n",
              "      <td>0.004698</td>\n",
              "      <td>0.020756</td>\n",
              "      <td>0.089194</td>\n",
              "      <td>0.098525</td>\n",
              "      <td>-0.071484</td>\n",
              "      <td>-0.045447</td>\n",
              "      <td>0.075419</td>\n",
              "      <td>2</td>\n",
              "    </tr>\n",
              "  </tbody>\n",
              "</table>\n",
              "<p>38851 rows × 501 columns</p>\n",
              "</div>\n",
              "      <button class=\"colab-df-convert\" onclick=\"convertToInteractive('df-484e146f-c2a1-4fec-b824-1c1863794e44')\"\n",
              "              title=\"Convert this dataframe to an interactive table.\"\n",
              "              style=\"display:none;\">\n",
              "        \n",
              "  <svg xmlns=\"http://www.w3.org/2000/svg\" height=\"24px\"viewBox=\"0 0 24 24\"\n",
              "       width=\"24px\">\n",
              "    <path d=\"M0 0h24v24H0V0z\" fill=\"none\"/>\n",
              "    <path d=\"M18.56 5.44l.94 2.06.94-2.06 2.06-.94-2.06-.94-.94-2.06-.94 2.06-2.06.94zm-11 1L8.5 8.5l.94-2.06 2.06-.94-2.06-.94L8.5 2.5l-.94 2.06-2.06.94zm10 10l.94 2.06.94-2.06 2.06-.94-2.06-.94-.94-2.06-.94 2.06-2.06.94z\"/><path d=\"M17.41 7.96l-1.37-1.37c-.4-.4-.92-.59-1.43-.59-.52 0-1.04.2-1.43.59L10.3 9.45l-7.72 7.72c-.78.78-.78 2.05 0 2.83L4 21.41c.39.39.9.59 1.41.59.51 0 1.02-.2 1.41-.59l7.78-7.78 2.81-2.81c.8-.78.8-2.07 0-2.86zM5.41 20L4 18.59l7.72-7.72 1.47 1.35L5.41 20z\"/>\n",
              "  </svg>\n",
              "      </button>\n",
              "      \n",
              "  <style>\n",
              "    .colab-df-container {\n",
              "      display:flex;\n",
              "      flex-wrap:wrap;\n",
              "      gap: 12px;\n",
              "    }\n",
              "\n",
              "    .colab-df-convert {\n",
              "      background-color: #E8F0FE;\n",
              "      border: none;\n",
              "      border-radius: 50%;\n",
              "      cursor: pointer;\n",
              "      display: none;\n",
              "      fill: #1967D2;\n",
              "      height: 32px;\n",
              "      padding: 0 0 0 0;\n",
              "      width: 32px;\n",
              "    }\n",
              "\n",
              "    .colab-df-convert:hover {\n",
              "      background-color: #E2EBFA;\n",
              "      box-shadow: 0px 1px 2px rgba(60, 64, 67, 0.3), 0px 1px 3px 1px rgba(60, 64, 67, 0.15);\n",
              "      fill: #174EA6;\n",
              "    }\n",
              "\n",
              "    [theme=dark] .colab-df-convert {\n",
              "      background-color: #3B4455;\n",
              "      fill: #D2E3FC;\n",
              "    }\n",
              "\n",
              "    [theme=dark] .colab-df-convert:hover {\n",
              "      background-color: #434B5C;\n",
              "      box-shadow: 0px 1px 3px 1px rgba(0, 0, 0, 0.15);\n",
              "      filter: drop-shadow(0px 1px 2px rgba(0, 0, 0, 0.3));\n",
              "      fill: #FFFFFF;\n",
              "    }\n",
              "  </style>\n",
              "\n",
              "      <script>\n",
              "        const buttonEl =\n",
              "          document.querySelector('#df-484e146f-c2a1-4fec-b824-1c1863794e44 button.colab-df-convert');\n",
              "        buttonEl.style.display =\n",
              "          google.colab.kernel.accessAllowed ? 'block' : 'none';\n",
              "\n",
              "        async function convertToInteractive(key) {\n",
              "          const element = document.querySelector('#df-484e146f-c2a1-4fec-b824-1c1863794e44');\n",
              "          const dataTable =\n",
              "            await google.colab.kernel.invokeFunction('convertToInteractive',\n",
              "                                                     [key], {});\n",
              "          if (!dataTable) return;\n",
              "\n",
              "          const docLinkHtml = 'Like what you see? Visit the ' +\n",
              "            '<a target=\"_blank\" href=https://colab.research.google.com/notebooks/data_table.ipynb>data table notebook</a>'\n",
              "            + ' to learn more about interactive tables.';\n",
              "          element.innerHTML = '';\n",
              "          dataTable['output_type'] = 'display_data';\n",
              "          await google.colab.output.renderOutput(dataTable, element);\n",
              "          const docLink = document.createElement('div');\n",
              "          docLink.innerHTML = docLinkHtml;\n",
              "          element.appendChild(docLink);\n",
              "        }\n",
              "      </script>\n",
              "    </div>\n",
              "  </div>\n",
              "  "
            ]
          },
          "metadata": {},
          "execution_count": 235
        }
      ]
    },
    {
      "cell_type": "markdown",
      "source": [
        "# Baseline technique - Naive Bayes"
      ],
      "metadata": {
        "id": "mMOo_42f78PK"
      }
    },
    {
      "cell_type": "markdown",
      "source": [
        "## Training Multinomial Naive Bayes using Bag of words and Tf-idf Embedding"
      ],
      "metadata": {
        "id": "cLG86h5arDuA"
      }
    },
    {
      "cell_type": "markdown",
      "source": [
        "Importing multinomial naive bayes"
      ],
      "metadata": {
        "id": "WB0YkX3y8R_b"
      }
    },
    {
      "cell_type": "code",
      "source": [
        "from sklearn.naive_bayes import MultinomialNB,GaussianNB"
      ],
      "metadata": {
        "id": "HbG47j9K8syz"
      },
      "execution_count": 236,
      "outputs": []
    },
    {
      "cell_type": "markdown",
      "source": [
        "Importing evaluation metrics"
      ],
      "metadata": {
        "id": "nYAbIyWZEvVt"
      }
    },
    {
      "cell_type": "code",
      "source": [
        "from sklearn.metrics import classification_report,accuracy_score\n"
      ],
      "metadata": {
        "id": "sIe8QBYNBfhq"
      },
      "execution_count": 237,
      "outputs": []
    },
    {
      "cell_type": "markdown",
      "source": [
        "k fold cross validation (k=5)"
      ],
      "metadata": {
        "id": "SzFNNQ6vBFPs"
      }
    },
    {
      "cell_type": "code",
      "source": [
        "from sklearn.model_selection import KFold"
      ],
      "metadata": {
        "id": "xeZ4EssuUz5M"
      },
      "execution_count": 238,
      "outputs": []
    },
    {
      "cell_type": "markdown",
      "source": [
        "For bag of words\n"
      ],
      "metadata": {
        "id": "R4dJcHgoV9yT"
      }
    },
    {
      "cell_type": "code",
      "source": [
        "y_train = np.array(y_train)\n",
        "model = 1\n",
        "accuracy_val = 0\n",
        "accuracy_train = 0\n",
        "kf = KFold(n_splits = 5)\n",
        "for train_index, val_index in kf.split(bow_cv1):\n",
        "  X_KFold_train, X_KFold_val = bow_cv1[train_index], bow_cv1[val_index]\n",
        "  Y_KFold_train, Y_KFold_val = y_train[train_index], y_train[val_index]\n",
        "  mnb = MultinomialNB()\n",
        "  mnb.fit(X_KFold_train, Y_KFold_train)\n",
        "  Y_pred = mnb.predict(X_KFold_val)\n",
        "  YY_pred = mnb.predict(X_KFold_train)\n",
        "  print(\"Classification report for K-Fold model \"+str(model))\n",
        "  print(\"For validation set -\")\n",
        "  print(classification_report(Y_KFold_val, Y_pred))\n",
        "  print(\"For training set -\")\n",
        "  accuracy_val += accuracy_score(Y_KFold_val, Y_pred)\n",
        "  print(classification_report(Y_KFold_train, YY_pred))\n",
        "  accuracy_train += accuracy_score(Y_KFold_train, YY_pred)\n",
        "  model += 1"
      ],
      "metadata": {
        "colab": {
          "base_uri": "https://localhost:8080/"
        },
        "id": "hGqiJAiBU5Q0",
        "outputId": "e20f8e77-365a-40ed-f756-844ec83b409d"
      },
      "execution_count": 239,
      "outputs": [
        {
          "output_type": "stream",
          "name": "stdout",
          "text": [
            "Classification report for K-Fold model 1\n",
            "For validation set -\n",
            "              precision    recall  f1-score   support\n",
            "\n",
            "           0       0.83      0.97      0.90      1241\n",
            "           1       0.78      0.99      0.87      1221\n",
            "           2       0.89      0.95      0.92      1266\n",
            "           3       0.88      0.82      0.85      1252\n",
            "           4       0.84      0.48      0.61      1236\n",
            "\n",
            "    accuracy                           0.84      6216\n",
            "   macro avg       0.85      0.84      0.83      6216\n",
            "weighted avg       0.85      0.84      0.83      6216\n",
            "\n",
            "For training set -\n",
            "              precision    recall  f1-score   support\n",
            "\n",
            "           0       0.88      0.99      0.93      5117\n",
            "           1       0.84      0.99      0.91      5097\n",
            "           2       0.92      0.98      0.95      4932\n",
            "           3       0.92      0.88      0.90      4838\n",
            "           4       0.90      0.61      0.73      4880\n",
            "\n",
            "    accuracy                           0.89     24864\n",
            "   macro avg       0.89      0.89      0.88     24864\n",
            "weighted avg       0.89      0.89      0.88     24864\n",
            "\n",
            "Classification report for K-Fold model 2\n",
            "For validation set -\n",
            "              precision    recall  f1-score   support\n",
            "\n",
            "           0       0.84      0.98      0.90      1311\n",
            "           1       0.81      0.99      0.89      1306\n",
            "           2       0.88      0.95      0.92      1173\n",
            "           3       0.88      0.82      0.85      1211\n",
            "           4       0.84      0.48      0.61      1215\n",
            "\n",
            "    accuracy                           0.85      6216\n",
            "   macro avg       0.85      0.84      0.83      6216\n",
            "weighted avg       0.85      0.85      0.83      6216\n",
            "\n",
            "For training set -\n",
            "              precision    recall  f1-score   support\n",
            "\n",
            "           0       0.88      0.98      0.93      5047\n",
            "           1       0.85      0.99      0.91      5012\n",
            "           2       0.92      0.98      0.95      5025\n",
            "           3       0.93      0.88      0.90      4879\n",
            "           4       0.90      0.62      0.73      4901\n",
            "\n",
            "    accuracy                           0.89     24864\n",
            "   macro avg       0.89      0.89      0.88     24864\n",
            "weighted avg       0.89      0.89      0.89     24864\n",
            "\n",
            "Classification report for K-Fold model 3\n",
            "For validation set -\n",
            "              precision    recall  f1-score   support\n",
            "\n",
            "           0       0.84      0.98      0.90      1249\n",
            "           1       0.79      0.99      0.88      1252\n",
            "           2       0.89      0.93      0.91      1273\n",
            "           3       0.90      0.84      0.87      1235\n",
            "           4       0.84      0.48      0.61      1207\n",
            "\n",
            "    accuracy                           0.85      6216\n",
            "   macro avg       0.85      0.84      0.83      6216\n",
            "weighted avg       0.85      0.85      0.84      6216\n",
            "\n",
            "For training set -\n",
            "              precision    recall  f1-score   support\n",
            "\n",
            "           0       0.88      0.98      0.93      5109\n",
            "           1       0.85      0.99      0.91      5066\n",
            "           2       0.92      0.98      0.95      4925\n",
            "           3       0.92      0.88      0.90      4855\n",
            "           4       0.90      0.61      0.73      4909\n",
            "\n",
            "    accuracy                           0.89     24864\n",
            "   macro avg       0.89      0.89      0.88     24864\n",
            "weighted avg       0.89      0.89      0.88     24864\n",
            "\n",
            "Classification report for K-Fold model 4\n",
            "For validation set -\n",
            "              precision    recall  f1-score   support\n",
            "\n",
            "           0       0.85      0.98      0.91      1292\n",
            "           1       0.81      0.99      0.89      1253\n",
            "           2       0.88      0.95      0.92      1226\n",
            "           3       0.87      0.82      0.84      1216\n",
            "           4       0.84      0.51      0.63      1229\n",
            "\n",
            "    accuracy                           0.85      6216\n",
            "   macro avg       0.85      0.85      0.84      6216\n",
            "weighted avg       0.85      0.85      0.84      6216\n",
            "\n",
            "For training set -\n",
            "              precision    recall  f1-score   support\n",
            "\n",
            "           0       0.88      0.98      0.93      5066\n",
            "           1       0.84      1.00      0.91      5065\n",
            "           2       0.92      0.98      0.95      4972\n",
            "           3       0.92      0.88      0.90      4874\n",
            "           4       0.90      0.60      0.72      4887\n",
            "\n",
            "    accuracy                           0.89     24864\n",
            "   macro avg       0.89      0.89      0.88     24864\n",
            "weighted avg       0.89      0.89      0.88     24864\n",
            "\n",
            "Classification report for K-Fold model 5\n",
            "For validation set -\n",
            "              precision    recall  f1-score   support\n",
            "\n",
            "           0       0.84      0.97      0.90      1265\n",
            "           1       0.81      0.99      0.89      1286\n",
            "           2       0.89      0.95      0.92      1260\n",
            "           3       0.88      0.83      0.86      1176\n",
            "           4       0.82      0.49      0.61      1229\n",
            "\n",
            "    accuracy                           0.85      6216\n",
            "   macro avg       0.85      0.85      0.84      6216\n",
            "weighted avg       0.85      0.85      0.84      6216\n",
            "\n",
            "For training set -\n",
            "              precision    recall  f1-score   support\n",
            "\n",
            "           0       0.88      0.99      0.93      5093\n",
            "           1       0.84      0.99      0.91      5032\n",
            "           2       0.92      0.98      0.95      4938\n",
            "           3       0.92      0.88      0.90      4914\n",
            "           4       0.90      0.61      0.73      4887\n",
            "\n",
            "    accuracy                           0.89     24864\n",
            "   macro avg       0.89      0.89      0.88     24864\n",
            "weighted avg       0.89      0.89      0.88     24864\n",
            "\n"
          ]
        }
      ]
    },
    {
      "cell_type": "code",
      "source": [
        "avg_accuracy1 = accuracy_val/5\n",
        "print(\"Average accuracy obtained on vaidation set= \"+str(avg_accuracy1))\n",
        "avg_accuracy2 = accuracy_train/5\n",
        "print(\"Average accuracy obtained on training set= \"+str(avg_accuracy2))"
      ],
      "metadata": {
        "colab": {
          "base_uri": "https://localhost:8080/"
        },
        "id": "xvSguBRUbZwW",
        "outputId": "343c17bf-7dee-43e8-8dea-7ed7d0232a5e"
      },
      "execution_count": 240,
      "outputs": [
        {
          "output_type": "stream",
          "name": "stdout",
          "text": [
            "Average accuracy obtained on vaidation set= 0.8473294723294723\n",
            "Average accuracy obtained on training set= 0.8905485842985843\n"
          ]
        }
      ]
    },
    {
      "cell_type": "markdown",
      "source": [
        "We can see that, on training set we are getting 89% accuracy and on validation set we are getting 84% accuracy for Bag of words"
      ],
      "metadata": {
        "id": "5gud_zShb7Kq"
      }
    },
    {
      "cell_type": "markdown",
      "source": [
        "For Tf-idf"
      ],
      "metadata": {
        "id": "sMqXxU6OcasB"
      }
    },
    {
      "cell_type": "code",
      "source": [
        "y_train = np.array(y_train)\n",
        "model = 1\n",
        "accuracy_val = 0\n",
        "accuracy_train = 0\n",
        "kf = KFold(n_splits = 5)\n",
        "for train_index, val_index in kf.split(tf_cv1):\n",
        "  X_KFold_train, X_KFold_val = tf_cv1[train_index], tf_cv1[val_index]\n",
        "  Y_KFold_train, Y_KFold_val = y_train[train_index], y_train[val_index]\n",
        "  mnb = MultinomialNB()\n",
        "  mnb.fit(X_KFold_train, Y_KFold_train)\n",
        "  Y_pred = mnb.predict(X_KFold_val)\n",
        "  YY_pred = mnb.predict(X_KFold_train)\n",
        "  print(\"Classification report for K-Fold model \"+str(model))\n",
        "  print(\"For validation set -\")\n",
        "  print(classification_report(Y_KFold_val, Y_pred))\n",
        "  print(\"For training set -\")\n",
        "  accuracy_val += accuracy_score(Y_KFold_val, Y_pred)\n",
        "  print(classification_report(Y_KFold_train, YY_pred))\n",
        "  accuracy_train += accuracy_score(Y_KFold_train, YY_pred)\n",
        "  model += 1"
      ],
      "metadata": {
        "colab": {
          "base_uri": "https://localhost:8080/"
        },
        "id": "_WL24WIycVDp",
        "outputId": "cc22bf4f-ff15-4984-cba2-00a02e6ee05b"
      },
      "execution_count": 241,
      "outputs": [
        {
          "output_type": "stream",
          "name": "stdout",
          "text": [
            "Classification report for K-Fold model 1\n",
            "For validation set -\n",
            "              precision    recall  f1-score   support\n",
            "\n",
            "           0       0.80      0.96      0.88      1241\n",
            "           1       0.74      0.98      0.85      1221\n",
            "           2       0.89      0.92      0.91      1266\n",
            "           3       0.88      0.82      0.85      1252\n",
            "           4       0.86      0.44      0.58      1236\n",
            "\n",
            "    accuracy                           0.83      6216\n",
            "   macro avg       0.84      0.83      0.81      6216\n",
            "weighted avg       0.84      0.83      0.81      6216\n",
            "\n",
            "For training set -\n",
            "              precision    recall  f1-score   support\n",
            "\n",
            "           0       0.86      0.98      0.92      5117\n",
            "           1       0.82      0.99      0.90      5097\n",
            "           2       0.92      0.95      0.94      4932\n",
            "           3       0.93      0.89      0.91      4838\n",
            "           4       0.93      0.59      0.72      4880\n",
            "\n",
            "    accuracy                           0.88     24864\n",
            "   macro avg       0.89      0.88      0.88     24864\n",
            "weighted avg       0.89      0.88      0.88     24864\n",
            "\n",
            "Classification report for K-Fold model 2\n",
            "For validation set -\n",
            "              precision    recall  f1-score   support\n",
            "\n",
            "           0       0.83      0.98      0.89      1311\n",
            "           1       0.78      0.98      0.87      1306\n",
            "           2       0.87      0.93      0.90      1173\n",
            "           3       0.87      0.82      0.84      1211\n",
            "           4       0.85      0.44      0.58      1215\n",
            "\n",
            "    accuracy                           0.83      6216\n",
            "   macro avg       0.84      0.83      0.82      6216\n",
            "weighted avg       0.84      0.83      0.82      6216\n",
            "\n",
            "For training set -\n",
            "              precision    recall  f1-score   support\n",
            "\n",
            "           0       0.87      0.98      0.92      5047\n",
            "           1       0.83      0.99      0.90      5012\n",
            "           2       0.92      0.96      0.94      5025\n",
            "           3       0.93      0.89      0.91      4879\n",
            "           4       0.93      0.60      0.73      4901\n",
            "\n",
            "    accuracy                           0.89     24864\n",
            "   macro avg       0.89      0.89      0.88     24864\n",
            "weighted avg       0.89      0.89      0.88     24864\n",
            "\n",
            "Classification report for K-Fold model 3\n",
            "For validation set -\n",
            "              precision    recall  f1-score   support\n",
            "\n",
            "           0       0.81      0.97      0.88      1249\n",
            "           1       0.75      0.98      0.85      1252\n",
            "           2       0.89      0.90      0.90      1273\n",
            "           3       0.89      0.84      0.87      1235\n",
            "           4       0.87      0.44      0.58      1207\n",
            "\n",
            "    accuracy                           0.83      6216\n",
            "   macro avg       0.84      0.83      0.81      6216\n",
            "weighted avg       0.84      0.83      0.82      6216\n",
            "\n",
            "For training set -\n",
            "              precision    recall  f1-score   support\n",
            "\n",
            "           0       0.86      0.98      0.92      5109\n",
            "           1       0.82      0.99      0.90      5066\n",
            "           2       0.92      0.95      0.94      4925\n",
            "           3       0.93      0.89      0.91      4855\n",
            "           4       0.93      0.60      0.73      4909\n",
            "\n",
            "    accuracy                           0.89     24864\n",
            "   macro avg       0.89      0.88      0.88     24864\n",
            "weighted avg       0.89      0.89      0.88     24864\n",
            "\n",
            "Classification report for K-Fold model 4\n",
            "For validation set -\n",
            "              precision    recall  f1-score   support\n",
            "\n",
            "           0       0.81      0.97      0.88      1292\n",
            "           1       0.78      0.98      0.87      1253\n",
            "           2       0.87      0.91      0.89      1226\n",
            "           3       0.87      0.82      0.84      1216\n",
            "           4       0.88      0.47      0.61      1229\n",
            "\n",
            "    accuracy                           0.83      6216\n",
            "   macro avg       0.84      0.83      0.82      6216\n",
            "weighted avg       0.84      0.83      0.82      6216\n",
            "\n",
            "For training set -\n",
            "              precision    recall  f1-score   support\n",
            "\n",
            "           0       0.86      0.98      0.92      5066\n",
            "           1       0.82      0.99      0.90      5065\n",
            "           2       0.92      0.95      0.94      4972\n",
            "           3       0.92      0.89      0.91      4874\n",
            "           4       0.92      0.59      0.72      4887\n",
            "\n",
            "    accuracy                           0.88     24864\n",
            "   macro avg       0.89      0.88      0.88     24864\n",
            "weighted avg       0.89      0.88      0.88     24864\n",
            "\n",
            "Classification report for K-Fold model 5\n",
            "For validation set -\n",
            "              precision    recall  f1-score   support\n",
            "\n",
            "           0       0.83      0.97      0.89      1265\n",
            "           1       0.77      0.98      0.86      1286\n",
            "           2       0.88      0.92      0.90      1260\n",
            "           3       0.87      0.83      0.85      1176\n",
            "           4       0.84      0.45      0.59      1229\n",
            "\n",
            "    accuracy                           0.83      6216\n",
            "   macro avg       0.84      0.83      0.82      6216\n",
            "weighted avg       0.84      0.83      0.82      6216\n",
            "\n",
            "For training set -\n",
            "              precision    recall  f1-score   support\n",
            "\n",
            "           0       0.86      0.98      0.92      5093\n",
            "           1       0.83      0.99      0.90      5032\n",
            "           2       0.92      0.95      0.94      4938\n",
            "           3       0.92      0.89      0.91      4914\n",
            "           4       0.93      0.60      0.73      4887\n",
            "\n",
            "    accuracy                           0.89     24864\n",
            "   macro avg       0.89      0.88      0.88     24864\n",
            "weighted avg       0.89      0.89      0.88     24864\n",
            "\n"
          ]
        }
      ]
    },
    {
      "cell_type": "code",
      "source": [
        "avg_accuracy1 = accuracy_val/5\n",
        "print(\"Average accuracy obtained on vaidation set= \"+str(avg_accuracy1))\n",
        "avg_accuracy2 = accuracy_train/5\n",
        "print(\"Average accuracy obtained on training set= \"+str(avg_accuracy2))"
      ],
      "metadata": {
        "colab": {
          "base_uri": "https://localhost:8080/"
        },
        "id": "n922ANBWcprF",
        "outputId": "844e0d2b-181e-4289-d038-0606a6f77fa1"
      },
      "execution_count": 242,
      "outputs": [
        {
          "output_type": "stream",
          "name": "stdout",
          "text": [
            "Average accuracy obtained on vaidation set= 0.8308236808236809\n",
            "Average accuracy obtained on training set= 0.8852799227799227\n"
          ]
        }
      ]
    },
    {
      "cell_type": "markdown",
      "source": [
        " Transforming set testing for different word embeddings\n"
      ],
      "metadata": {
        "id": "Z8d8_u0t87Zo"
      }
    },
    {
      "cell_type": "code",
      "source": [
        "# For Bag of words \n",
        "bow_cv1_test = bow1.transform(X_stem_test)\n",
        "bow_cv2_test = bow2.transform(X_lemma_test)\n",
        "bow_cv3_test = bow3.transform(X_lemmaStem_test)\n",
        "\n",
        "# For Tf-idf\n",
        "tf_cv1_test = tfid1.transform(bow_cv1_test);\n",
        "tf_cv2_test = tfid2.transform(bow_cv2_test);\n",
        "tf_cv3_test = tfid3.transform(bow_cv3_test);\n",
        "\n",
        "print(bow_cv1_test.shape,bow_cv2_test.shape,bow_cv3_test.shape);\n",
        "print(tf_cv1_test.shape,tf_cv2_test.shape,tf_cv3_test.shape);"
      ],
      "metadata": {
        "colab": {
          "base_uri": "https://localhost:8080/"
        },
        "id": "71KWnskP9QL1",
        "outputId": "1f6d229d-9fb1-4ee3-f744-cf90591781b5"
      },
      "execution_count": 243,
      "outputs": [
        {
          "output_type": "stream",
          "name": "stdout",
          "text": [
            "(7771, 29153) (7771, 34843) (7771, 28992)\n",
            "(7771, 29153) (7771, 34843) (7771, 28992)\n"
          ]
        }
      ]
    },
    {
      "cell_type": "code",
      "source": [
        "from sklearn.model_selection import learning_curve\n",
        "\n",
        "sizes, training_scores, testing_scores = learning_curve(MultinomialNB(), bow_cv1, y_train, cv=10, scoring='accuracy', train_sizes=np.linspace(100, 27000, 270, dtype=int))\n",
        "  \n",
        "# Mean and Standard Deviation of training scores\n",
        "mean_training = np.mean(training_scores, axis=1)\n",
        "Standard_Deviation_training = np.std(training_scores, axis=1)\n",
        "  \n",
        "# Mean and Standard Deviation of testing scores\n",
        "mean_testing = np.mean(testing_scores, axis=1)\n",
        "Standard_Deviation_testing = np.std(testing_scores, axis=1)\n",
        "  \n",
        "# Dotted blue line is for training scores and green line is for cross-validation score\n",
        "plt.plot(sizes, mean_training, '--', color=\"b\",  label=\"Training score\")\n",
        "plt.plot(sizes, mean_testing, color=\"g\", label=\"Cross-validation score\")\n",
        "  \n",
        "# Drawing plot\n",
        "plt.title(\"Learning Curve for MultinomialNB with bag of words embeddings\")\n",
        "plt.xlabel(\"Training Set Size\"), plt.ylabel(\"Accuracy Score\"), plt.legend(loc=\"best\")\n",
        "plt.tight_layout()\n",
        "plt.show()"
      ],
      "metadata": {
        "id": "ywDeNuz2u0Bv",
        "outputId": "5fa5710a-9766-4be4-a7fa-f87ebc0c5da2",
        "colab": {
          "base_uri": "https://localhost:8080/",
          "height": 297
        }
      },
      "execution_count": 244,
      "outputs": [
        {
          "output_type": "display_data",
          "data": {
            "text/plain": [
              "<Figure size 432x288 with 1 Axes>"
            ],
            "image/png": "[encoded data removed]"
          },
          "metadata": {
            "needs_background": "light"
          }
        }
      ]
    },
    {
      "cell_type": "code",
      "source": [
        "sizes, training_scores, testing_scores = learning_curve(MultinomialNB(), tf_cv1, y_train, cv=10, scoring='accuracy', train_sizes=np.linspace(100, 27000, 270, dtype=int))\n",
        "  \n",
        "# Mean and Standard Deviation of training scores\n",
        "mean_training = np.mean(training_scores, axis=1)\n",
        "Standard_Deviation_training = np.std(training_scores, axis=1)\n",
        "  \n",
        "# Mean and Standard Deviation of testing scores\n",
        "mean_testing = np.mean(testing_scores, axis=1)\n",
        "Standard_Deviation_testing = np.std(testing_scores, axis=1)\n",
        "  \n",
        "# Dotted blue line is for training scores and green line is for cross-validation score\n",
        "plt.plot(sizes, mean_training, '--', color=\"b\",  label=\"Training score\")\n",
        "plt.plot(sizes, mean_testing, color=\"g\", label=\"Cross-validation score\")\n",
        "  \n",
        "# Drawing plot\n",
        "plt.title(\"Learning Curve for MultinomialNB with TF_IDF embeddings\")\n",
        "plt.xlabel(\"Training Set Size\"), plt.ylabel(\"Accuracy Score\"), plt.legend(loc=\"best\")\n",
        "plt.tight_layout()\n",
        "plt.show()"
      ],
      "metadata": {
        "id": "kfp1M84yv_S-",
        "outputId": "4f44f7c9-e684-41f1-c581-c39b7450ab41",
        "colab": {
          "base_uri": "https://localhost:8080/",
          "height": 297
        }
      },
      "execution_count": 245,
      "outputs": [
        {
          "output_type": "display_data",
          "data": {
            "text/plain": [
              "<Figure size 432x288 with 1 Axes>"
            ],
            "image/png": "[encoded data removed]"
          },
          "metadata": {
            "needs_background": "light"
          }
        }
      ]
    },
    {
      "cell_type": "markdown",
      "source": [
        "Creating models"
      ],
      "metadata": {
        "id": "9TmKjke3Acts"
      }
    },
    {
      "cell_type": "code",
      "source": [
        "# For bag of words - \n",
        "nb_bow_stem = MultinomialNB();\n",
        "nb_bow_lemma = MultinomialNB();\n",
        "nb_bow_lemmaStem = MultinomialNB();\n",
        "\n",
        "# for tf-idf - \n",
        "nb_tf_stem = MultinomialNB();\n",
        "nb_tf_lemma = MultinomialNB();\n",
        "nb_tf_lemmaStem = MultinomialNB();"
      ],
      "metadata": {
        "id": "9RnwDAEfAfKm"
      },
      "execution_count": 246,
      "outputs": []
    },
    {
      "cell_type": "markdown",
      "source": [
        "Training the models "
      ],
      "metadata": {
        "id": "p19fAhFvBY2K"
      }
    },
    {
      "cell_type": "code",
      "source": [
        "# For bag of words - \n",
        "nb_bow_stem.fit(bow_cv1,y_train);\n",
        "nb_bow_lemma.fit(bow_cv2,y_train);\n",
        "nb_bow_lemmaStem.fit(bow_cv3,y_train);\n",
        "\n",
        "# For tf-idf - \n",
        "nb_tf_stem.fit(tf_cv1,y_train);\n",
        "nb_tf_lemma.fit(tf_cv1,y_train);\n",
        "nb_tf_lemmaStem.fit(tf_cv1,y_train);"
      ],
      "metadata": {
        "id": "KtQQf0GoBbNI"
      },
      "execution_count": 247,
      "outputs": []
    },
    {
      "cell_type": "markdown",
      "source": [
        "Prediction on test set"
      ],
      "metadata": {
        "id": "sgEl4GQMBKyM"
      }
    },
    {
      "cell_type": "code",
      "source": [
        "# For bag of words - \n",
        "nb_bow_stem_pred = nb_bow_stem.predict(bow_cv1_test);\n",
        "nb_bow_lemma_pred = nb_bow_lemma.predict(bow_cv2_test);\n",
        "nb_bow_lemmaStem_pred = nb_bow_lemmaStem.predict(bow_cv3_test);\n",
        "\n",
        "# For tf-idf - \n",
        "nb_tf_stem_pred = nb_tf_stem.predict(tf_cv1_test);\n",
        "nb_tf_lemma_pred = nb_tf_lemma.predict(tf_cv1_test);\n",
        "nb_tf_lemmaStem_pred = nb_tf_lemmaStem.predict(tf_cv1_test);"
      ],
      "metadata": {
        "id": "XHtfy11NBVAg"
      },
      "execution_count": 248,
      "outputs": []
    },
    {
      "cell_type": "markdown",
      "source": [
        "Evaluation metrics"
      ],
      "metadata": {
        "id": "Udo8WdlVDs1D"
      }
    },
    {
      "cell_type": "code",
      "source": [
        "from sklearn.metrics import classification_report, confusion_matrix"
      ],
      "metadata": {
        "id": "kNy85tb0FPz0"
      },
      "execution_count": 249,
      "outputs": []
    },
    {
      "cell_type": "markdown",
      "source": [
        "Printing reports"
      ],
      "metadata": {
        "id": "0jAJSSxxFTfl"
      }
    },
    {
      "cell_type": "code",
      "source": [
        "# For Bag of words - \n",
        "print('Classification Report for Naive Bayes on bag of word with stemming:\\n',classification_report(y_test, nb_bow_stem_pred))\n",
        "print('Classification Report for Naive Bayes on bag of word with lemmatization:\\n',classification_report(y_test, nb_bow_lemma_pred))\n",
        "print('Classification Report for Naive Bayes on bag of word with lemma_stemming:\\n',classification_report(y_test, nb_bow_lemmaStem_pred))"
      ],
      "metadata": {
        "colab": {
          "base_uri": "https://localhost:8080/"
        },
        "id": "sRGxsrt5EXfm",
        "outputId": "19e14dee-398c-490c-aff7-f515f88763ae"
      },
      "execution_count": 250,
      "outputs": [
        {
          "output_type": "stream",
          "name": "stdout",
          "text": [
            "Classification Report for Naive Bayes on bag of word with stemming:\n",
            "               precision    recall  f1-score   support\n",
            "\n",
            "           0       0.83      0.98      0.90      1590\n",
            "           1       0.81      0.99      0.89      1579\n",
            "           2       0.90      0.95      0.92      1550\n",
            "           3       0.87      0.84      0.86      1523\n",
            "           4       0.86      0.47      0.61      1529\n",
            "\n",
            "    accuracy                           0.85      7771\n",
            "   macro avg       0.85      0.85      0.84      7771\n",
            "weighted avg       0.85      0.85      0.84      7771\n",
            "\n",
            "Classification Report for Naive Bayes on bag of word with lemmatization:\n",
            "               precision    recall  f1-score   support\n",
            "\n",
            "           0       0.82      0.97      0.89      1590\n",
            "           1       0.82      0.99      0.89      1579\n",
            "           2       0.90      0.96      0.93      1550\n",
            "           3       0.87      0.85      0.86      1523\n",
            "           4       0.86      0.48      0.61      1529\n",
            "\n",
            "    accuracy                           0.85      7771\n",
            "   macro avg       0.85      0.85      0.84      7771\n",
            "weighted avg       0.85      0.85      0.84      7771\n",
            "\n",
            "Classification Report for Naive Bayes on bag of word with lemma_stemming:\n",
            "               precision    recall  f1-score   support\n",
            "\n",
            "           0       0.83      0.98      0.90      1590\n",
            "           1       0.81      0.99      0.89      1579\n",
            "           2       0.90      0.95      0.92      1550\n",
            "           3       0.88      0.84      0.86      1523\n",
            "           4       0.85      0.48      0.61      1529\n",
            "\n",
            "    accuracy                           0.85      7771\n",
            "   macro avg       0.85      0.85      0.84      7771\n",
            "weighted avg       0.85      0.85      0.84      7771\n",
            "\n"
          ]
        }
      ]
    },
    {
      "cell_type": "code",
      "source": [
        "# For Tf-idf - \n",
        "print('Classification Report for Naive Bayes on Ti-idf with stemming:\\n',classification_report(y_test, nb_tf_stem_pred))\n",
        "print('Classification Report for Naive Bayes on Ti-idf with lemmatization:\\n',classification_report(y_test, nb_tf_lemma_pred))\n",
        "print('Classification Report for Naive Bayes on Ti-idf with lemma_stemming:\\n',classification_report(y_test, nb_tf_lemmaStem_pred))"
      ],
      "metadata": {
        "colab": {
          "base_uri": "https://localhost:8080/"
        },
        "id": "2SaE0j7covku",
        "outputId": "a1ccbfed-6941-4f98-ce3e-d73bacffdabd"
      },
      "execution_count": 251,
      "outputs": [
        {
          "output_type": "stream",
          "name": "stdout",
          "text": [
            "Classification Report for Naive Bayes on Ti-idf with stemming:\n",
            "               precision    recall  f1-score   support\n",
            "\n",
            "           0       0.80      0.97      0.88      1590\n",
            "           1       0.77      0.98      0.86      1579\n",
            "           2       0.89      0.91      0.90      1550\n",
            "           3       0.87      0.84      0.86      1523\n",
            "           4       0.87      0.43      0.58      1529\n",
            "\n",
            "    accuracy                           0.83      7771\n",
            "   macro avg       0.84      0.83      0.82      7771\n",
            "weighted avg       0.84      0.83      0.82      7771\n",
            "\n",
            "Classification Report for Naive Bayes on Ti-idf with lemmatization:\n",
            "               precision    recall  f1-score   support\n",
            "\n",
            "           0       0.80      0.97      0.88      1590\n",
            "           1       0.77      0.98      0.86      1579\n",
            "           2       0.89      0.91      0.90      1550\n",
            "           3       0.87      0.84      0.86      1523\n",
            "           4       0.87      0.43      0.58      1529\n",
            "\n",
            "    accuracy                           0.83      7771\n",
            "   macro avg       0.84      0.83      0.82      7771\n",
            "weighted avg       0.84      0.83      0.82      7771\n",
            "\n",
            "Classification Report for Naive Bayes on Ti-idf with lemma_stemming:\n",
            "               precision    recall  f1-score   support\n",
            "\n",
            "           0       0.80      0.97      0.88      1590\n",
            "           1       0.77      0.98      0.86      1579\n",
            "           2       0.89      0.91      0.90      1550\n",
            "           3       0.87      0.84      0.86      1523\n",
            "           4       0.87      0.43      0.58      1529\n",
            "\n",
            "    accuracy                           0.83      7771\n",
            "   macro avg       0.84      0.83      0.82      7771\n",
            "weighted avg       0.84      0.83      0.82      7771\n",
            "\n"
          ]
        }
      ]
    },
    {
      "cell_type": "markdown",
      "source": [
        "Analysis about stemming and lemmatization : We can see that accuracy is very less affected by stemming and lemmatization. And since stemming is performing little better than lemmatization and it is much optimized as well, So we will be going for stemming for rest of analysis."
      ],
      "metadata": {
        "id": "AVisoDVMzKC9"
      }
    },
    {
      "cell_type": "markdown",
      "source": [
        "Morever, we can see that test accuracy of bag of words is 85% and that of Tf-idf is 83%."
      ],
      "metadata": {
        "id": "4y6vKr7J0Iyy"
      }
    },
    {
      "cell_type": "markdown",
      "source": [
        "## Training Gaussian Naive Bayes using GloVe Embedding"
      ],
      "metadata": {
        "id": "GB9y06AD4yO3"
      }
    },
    {
      "cell_type": "markdown",
      "source": [
        "Performing train-test split for using Gaussian Naive Bayes on glove embeddings"
      ],
      "metadata": {
        "id": "Qgy1ZmUWYw-C"
      }
    },
    {
      "cell_type": "code",
      "source": [
        "X = embeddings_df.drop(['sentiments'], axis=1)\n",
        "Y = embeddings_df['sentiments']\n",
        "X_train, X_test, Y_train, Y_test = train_test_split(X, Y, test_size = 0.2, random_state = 0)\n",
        "print(X_train.shape, X_test.shape)"
      ],
      "metadata": {
        "id": "g-6auuq-X1WU",
        "outputId": "3b2bb9cf-bdc0-4c88-f9e4-3565de6c68fe",
        "colab": {
          "base_uri": "https://localhost:8080/"
        }
      },
      "execution_count": 252,
      "outputs": [
        {
          "output_type": "stream",
          "name": "stdout",
          "text": [
            "(31080, 500) (7771, 500)\n"
          ]
        }
      ]
    },
    {
      "cell_type": "markdown",
      "source": [
        "Creating an object and training Gaussian Naive Bayes"
      ],
      "metadata": {
        "id": "Bwb9zRkGY-bq"
      }
    },
    {
      "cell_type": "code",
      "source": [
        "gnb = GaussianNB()\n",
        "gnb.fit(X_train, Y_train)"
      ],
      "metadata": {
        "id": "Dgnu0NzeX5bb",
        "outputId": "cba9c9c4-51c8-4da9-8d88-4e24e41a360f",
        "colab": {
          "base_uri": "https://localhost:8080/"
        }
      },
      "execution_count": 253,
      "outputs": [
        {
          "output_type": "execute_result",
          "data": {
            "text/plain": [
              "GaussianNB()"
            ]
          },
          "metadata": {},
          "execution_count": 253
        }
      ]
    },
    {
      "cell_type": "markdown",
      "source": [
        "Performing predictions on the test set"
      ],
      "metadata": {
        "id": "xF7BRavoZL6I"
      }
    },
    {
      "cell_type": "code",
      "source": [
        "Y_pred = gnb.predict(X_test)"
      ],
      "metadata": {
        "id": "rwHvc6IGYhqA"
      },
      "execution_count": 254,
      "outputs": []
    },
    {
      "cell_type": "markdown",
      "source": [
        "Evaluating the performance of the model"
      ],
      "metadata": {
        "id": "xhCdNsPWZpdd"
      }
    },
    {
      "cell_type": "code",
      "source": [
        "from sklearn.metrics import accuracy_score\n",
        "\n",
        "accuracy = accuracy_score(Y_test, Y_pred)\n",
        "print(accuracy)"
      ],
      "metadata": {
        "id": "tAee61E2Yn77",
        "outputId": "3ca3f193-518a-4dd1-e0c6-7afa2c85225d",
        "colab": {
          "base_uri": "https://localhost:8080/"
        }
      },
      "execution_count": 255,
      "outputs": [
        {
          "output_type": "stream",
          "name": "stdout",
          "text": [
            "0.7977094325054691\n"
          ]
        }
      ]
    },
    {
      "cell_type": "markdown",
      "source": [
        "Displaying the classification report"
      ],
      "metadata": {
        "id": "qiV35Q5PZw66"
      }
    },
    {
      "cell_type": "code",
      "source": [
        "from sklearn.metrics import classification_report\n",
        "\n",
        "print(classification_report(Y_test, Y_pred))"
      ],
      "metadata": {
        "id": "8o1fGPlWYtGb",
        "outputId": "a1a85229-458b-4fc2-9130-81e713f0bf49",
        "colab": {
          "base_uri": "https://localhost:8080/"
        }
      },
      "execution_count": 256,
      "outputs": [
        {
          "output_type": "stream",
          "name": "stdout",
          "text": [
            "              precision    recall  f1-score   support\n",
            "\n",
            "           0       0.80      0.92      0.86      1600\n",
            "           1       0.93      0.89      0.91      1598\n",
            "           2       0.90      0.73      0.81      1549\n",
            "           3       0.81      0.72      0.76      1497\n",
            "           4       0.60      0.72      0.65      1527\n",
            "\n",
            "    accuracy                           0.80      7771\n",
            "   macro avg       0.81      0.80      0.80      7771\n",
            "weighted avg       0.81      0.80      0.80      7771\n",
            "\n"
          ]
        }
      ]
    },
    {
      "cell_type": "markdown",
      "source": [
        "Using K-Fold validation on the training set"
      ],
      "metadata": {
        "id": "dUC61jLg54n7"
      }
    },
    {
      "cell_type": "code",
      "source": [
        "from sklearn.model_selection import KFold\n",
        "\n",
        "X_train_numpy = np.array(X_train)\n",
        "Y_train_numpy = np.array(Y_train)\n",
        "\n",
        "model = 1\n",
        "accuracy_val = 0\n",
        "accuracy_train = 0\n",
        "kf = KFold(n_splits = 5)\n",
        "for train_index, val_index in kf.split(X_train_numpy):\n",
        "  X_KFold_train, X_KFold_val = X_train_numpy[train_index], X_train_numpy[val_index]\n",
        "  Y_KFold_train, Y_KFold_val = Y_train_numpy[train_index], Y_train_numpy[val_index]\n",
        "  gnb = GaussianNB()\n",
        "  gnb.fit(X_KFold_train, Y_KFold_train)\n",
        "  Y_pred = gnb.predict(X_KFold_val)\n",
        "  YY_pred = gnb.predict(X_KFold_train)\n",
        "  print(\"Classification report for K-Fold model \"+str(model))\n",
        "  print(\"For validation set -\")\n",
        "  print(classification_report(Y_KFold_val, Y_pred))\n",
        "  print(\"For training set -\")\n",
        "  accuracy_val += accuracy_score(Y_KFold_val, Y_pred)\n",
        "  print(classification_report(Y_KFold_train, YY_pred))\n",
        "  accuracy_train += accuracy_score(Y_KFold_train, YY_pred)\n",
        "  model += 1"
      ],
      "metadata": {
        "id": "OAbMfmiD4tfw",
        "outputId": "187f1202-705d-4da1-b762-8a0ee09b2b23",
        "colab": {
          "base_uri": "https://localhost:8080/"
        }
      },
      "execution_count": 257,
      "outputs": [
        {
          "output_type": "stream",
          "name": "stdout",
          "text": [
            "Classification report for K-Fold model 1\n",
            "For validation set -\n",
            "              precision    recall  f1-score   support\n",
            "\n",
            "           0       0.81      0.92      0.86      1284\n",
            "           1       0.92      0.90      0.91      1284\n",
            "           2       0.91      0.77      0.83      1198\n",
            "           3       0.82      0.71      0.76      1219\n",
            "           4       0.62      0.72      0.67      1231\n",
            "\n",
            "    accuracy                           0.81      6216\n",
            "   macro avg       0.82      0.80      0.81      6216\n",
            "weighted avg       0.82      0.81      0.81      6216\n",
            "\n",
            "For training set -\n",
            "              precision    recall  f1-score   support\n",
            "\n",
            "           0       0.79      0.92      0.85      5064\n",
            "           1       0.93      0.90      0.91      5015\n",
            "           2       0.90      0.74      0.82      5001\n",
            "           3       0.82      0.70      0.76      4897\n",
            "           4       0.61      0.73      0.66      4887\n",
            "\n",
            "    accuracy                           0.80     24864\n",
            "   macro avg       0.81      0.80      0.80     24864\n",
            "weighted avg       0.81      0.80      0.80     24864\n",
            "\n",
            "Classification report for K-Fold model 2\n",
            "For validation set -\n",
            "              precision    recall  f1-score   support\n",
            "\n",
            "           0       0.80      0.91      0.85      1284\n",
            "           1       0.93      0.89      0.91      1252\n",
            "           2       0.91      0.73      0.81      1237\n",
            "           3       0.80      0.71      0.75      1219\n",
            "           4       0.59      0.72      0.65      1224\n",
            "\n",
            "    accuracy                           0.79      6216\n",
            "   macro avg       0.81      0.79      0.80      6216\n",
            "weighted avg       0.81      0.79      0.80      6216\n",
            "\n",
            "For training set -\n",
            "              precision    recall  f1-score   support\n",
            "\n",
            "           0       0.80      0.92      0.86      5064\n",
            "           1       0.92      0.89      0.91      5047\n",
            "           2       0.91      0.74      0.81      4962\n",
            "           3       0.81      0.71      0.76      4897\n",
            "           4       0.61      0.73      0.66      4894\n",
            "\n",
            "    accuracy                           0.80     24864\n",
            "   macro avg       0.81      0.80      0.80     24864\n",
            "weighted avg       0.81      0.80      0.80     24864\n",
            "\n",
            "Classification report for K-Fold model 3\n",
            "For validation set -\n",
            "              precision    recall  f1-score   support\n",
            "\n",
            "           0       0.80      0.92      0.85      1260\n",
            "           1       0.92      0.90      0.91      1261\n",
            "           2       0.90      0.74      0.81      1237\n",
            "           3       0.81      0.70      0.75      1223\n",
            "           4       0.61      0.72      0.66      1235\n",
            "\n",
            "    accuracy                           0.80      6216\n",
            "   macro avg       0.81      0.79      0.80      6216\n",
            "weighted avg       0.81      0.80      0.80      6216\n",
            "\n",
            "For training set -\n",
            "              precision    recall  f1-score   support\n",
            "\n",
            "           0       0.80      0.92      0.86      5088\n",
            "           1       0.92      0.89      0.91      5038\n",
            "           2       0.91      0.74      0.81      4962\n",
            "           3       0.81      0.71      0.76      4893\n",
            "           4       0.61      0.72      0.66      4883\n",
            "\n",
            "    accuracy                           0.80     24864\n",
            "   macro avg       0.81      0.80      0.80     24864\n",
            "weighted avg       0.81      0.80      0.80     24864\n",
            "\n",
            "Classification report for K-Fold model 4\n",
            "For validation set -\n",
            "              precision    recall  f1-score   support\n",
            "\n",
            "           0       0.80      0.93      0.86      1248\n",
            "           1       0.92      0.90      0.91      1270\n",
            "           2       0.91      0.73      0.81      1271\n",
            "           3       0.82      0.70      0.76      1228\n",
            "           4       0.61      0.74      0.66      1199\n",
            "\n",
            "    accuracy                           0.80      6216\n",
            "   macro avg       0.81      0.80      0.80      6216\n",
            "weighted avg       0.81      0.80      0.80      6216\n",
            "\n",
            "For training set -\n",
            "              precision    recall  f1-score   support\n",
            "\n",
            "           0       0.80      0.92      0.85      5100\n",
            "           1       0.93      0.89      0.91      5029\n",
            "           2       0.91      0.74      0.82      4928\n",
            "           3       0.82      0.71      0.76      4888\n",
            "           4       0.60      0.73      0.66      4919\n",
            "\n",
            "    accuracy                           0.80     24864\n",
            "   macro avg       0.81      0.80      0.80     24864\n",
            "weighted avg       0.81      0.80      0.80     24864\n",
            "\n",
            "Classification report for K-Fold model 5\n",
            "For validation set -\n",
            "              precision    recall  f1-score   support\n",
            "\n",
            "           0       0.79      0.92      0.85      1272\n",
            "           1       0.92      0.88      0.90      1232\n",
            "           2       0.90      0.73      0.81      1256\n",
            "           3       0.82      0.72      0.77      1227\n",
            "           4       0.61      0.73      0.67      1229\n",
            "\n",
            "    accuracy                           0.80      6216\n",
            "   macro avg       0.81      0.80      0.80      6216\n",
            "weighted avg       0.81      0.80      0.80      6216\n",
            "\n",
            "For training set -\n",
            "              precision    recall  f1-score   support\n",
            "\n",
            "           0       0.80      0.92      0.86      5076\n",
            "           1       0.93      0.90      0.91      5067\n",
            "           2       0.91      0.74      0.82      4943\n",
            "           3       0.81      0.71      0.76      4889\n",
            "           4       0.61      0.73      0.66      4889\n",
            "\n",
            "    accuracy                           0.80     24864\n",
            "   macro avg       0.81      0.80      0.80     24864\n",
            "weighted avg       0.81      0.80      0.80     24864\n",
            "\n"
          ]
        }
      ]
    },
    {
      "cell_type": "code",
      "source": [
        "avg_accuracy1 = accuracy_val/5\n",
        "print(\"Average accuracy obtained on vaidation set= \"+str(avg_accuracy1))\n",
        "avg_accuracy2 = accuracy_train/5\n",
        "print(\"Average accuracy obtained on training set= \"+str(avg_accuracy2))"
      ],
      "metadata": {
        "colab": {
          "base_uri": "https://localhost:8080/"
        },
        "id": "bugF876vc0Xr",
        "outputId": "53e9cdff-9fb8-4d16-9cde-9e49151fa019"
      },
      "execution_count": 258,
      "outputs": [
        {
          "output_type": "stream",
          "name": "stdout",
          "text": [
            "Average accuracy obtained on vaidation set= 0.7988095238095239\n",
            "Average accuracy obtained on training set= 0.7986808236808237\n"
          ]
        }
      ]
    },
    {
      "cell_type": "code",
      "source": [
        "sizes, training_scores, testing_scores = learning_curve(GaussianNB(), X_train, Y_train, cv=10, scoring='accuracy', train_sizes=np.linspace(100, 27000, 270, dtype=int))\n",
        "  \n",
        "# Mean and Standard Deviation of training scores\n",
        "mean_training = np.mean(training_scores, axis=1)\n",
        "Standard_Deviation_training = np.std(training_scores, axis=1)\n",
        "  \n",
        "# Mean and Standard Deviation of testing scores\n",
        "mean_testing = np.mean(testing_scores, axis=1)\n",
        "Standard_Deviation_testing = np.std(testing_scores, axis=1)\n",
        "  \n",
        "# Dotted blue line is for training scores and green line is for cross-validation score\n",
        "plt.plot(sizes, mean_training, '--', color=\"b\",  label=\"Training score\")\n",
        "plt.plot(sizes, mean_testing, color=\"g\", label=\"Cross-validation score\")\n",
        "  \n",
        "# Drawing plot\n",
        "plt.title(\"Learning Curve for GaussianNB with GloVe embeddings\")\n",
        "plt.xlabel(\"Training Set Size\"), plt.ylabel(\"Accuracy Score\"), plt.legend(loc=\"best\")\n",
        "plt.tight_layout()\n",
        "plt.show()"
      ],
      "metadata": {
        "id": "Bp02R6YhrGFw",
        "outputId": "6ff47fdd-5e60-43b1-a9e3-75ebac511e5c",
        "colab": {
          "base_uri": "https://localhost:8080/",
          "height": 297
        }
      },
      "execution_count": 259,
      "outputs": [
        {
          "output_type": "display_data",
          "data": {
            "text/plain": [
              "<Figure size 432x288 with 1 Axes>"
            ],
            "image/png": "[encoded data removed]"
          },
          "metadata": {
            "needs_background": "light"
          }
        }
      ]
    }
  ],
  "metadata": {
    "colab": {
      "collapsed_sections": [],
      "name": "ML_Project_PreProcessing.ipynb",
      "provenance": []
    },
    "kernelspec": {
      "display_name": "Python 3",
      "language": "python",
      "name": "python3"
    },
    "language_info": {
      "codemirror_mode": {
        "name": "ipython",
        "version": 3
      },
      "file_extension": ".py",
      "mimetype": "text/x-python",
      "name": "python",
      "nbconvert_exporter": "python",
      "pygments_lexer": "ipython3",
      "version": "3.6.9"
    }
  },
  "nbformat": 4,
  "nbformat_minor": 0
}