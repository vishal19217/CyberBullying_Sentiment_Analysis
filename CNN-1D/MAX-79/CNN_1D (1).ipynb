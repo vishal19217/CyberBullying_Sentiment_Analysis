{
  "cells": [
    {
      "cell_type": "markdown",
      "metadata": {
        "id": "vSAQHc-pxZbX"
      },
      "source": [
        "## CNN-1D implementation for CyberBullying text classification problem using sentiment analysis."
      ]
    },
    {
      "cell_type": "code",
      "execution_count": 1,
      "metadata": {
        "id": "6QSR7Ig4fzBH"
      },
      "outputs": [],
      "source": [
        "import numpy as np\n",
        "import pandas as pd\n",
        "from sklearn.model_selection import train_test_split\n",
        "from sklearn import metrics\n",
        "from sklearn import model_selection\n",
        "from sklearn.preprocessing import OneHotEncoder\n",
        "from keras.layers import Embedding\n",
        "from keras import Sequential\n",
        "from keras.layers import Input\n",
        "from keras.layers import Conv1D\n",
        "from keras.layers import MaxPooling1D\n",
        "from keras.layers import Flatten\n",
        "from keras.layers import Dropout\n",
        "from keras.layers import Dense\n",
        "from keras.models import load_model\n",
        "import matplotlib.pyplot as plt"
      ]
    },
    {
      "cell_type": "markdown",
      "metadata": {
        "id": "65RDIKSTxs1S"
      },
      "source": [
        "### Recap about preprocessing step -  \n",
        "\n",
        "\n",
        "*   As we can not use text directly for classification, we have created word embeddings. We created embeddings after cleaning and stemming.\n",
        "*   We have used following word embeddings - \n",
        "    1. Bag of words\n",
        "    2. Tf-idf (Term Frequency-Inverse Document Frequency)\n",
        "    3. GloVe word embedding\n",
        "    4. Word2vec embedding\n",
        "*   We have saved these embeddings in preprocessing step and will be using here.\n",
        "*   We have also encoded vectors for output labels.\n",
        "\n",
        "\n",
        "\n",
        "\n",
        "\n",
        "\n"
      ]
    },
    {
      "cell_type": "markdown",
      "metadata": {
        "id": "4ahIhRrJviWy"
      },
      "source": [
        "Loading Embeddings - "
      ]
    },
    {
      "cell_type": "code",
      "execution_count": 2,
      "metadata": {
        "colab": {
          "base_uri": "https://localhost:8080/"
        },
        "id": "EtXLE4Legxg9",
        "outputId": "ab712362-eaee-4707-929e-ca5e0c13fc4e"
      },
      "outputs": [
        {
          "output_type": "stream",
          "name": "stdout",
          "text": [
            "Mounted at /content/gdrive\n"
          ]
        }
      ],
      "source": [
        "from google.colab import drive\n",
        "drive.mount('/content/gdrive')"
      ]
    },
    {
      "cell_type": "markdown",
      "metadata": {
        "id": "9D4Rx1qOhAeU"
      },
      "source": [
        "**For BAG OF WORDS** -"
      ]
    },
    {
      "cell_type": "code",
      "execution_count": 3,
      "metadata": {
        "id": "fLVbsdi7t5G7"
      },
      "outputs": [],
      "source": [
        "X_train_bows = pd.read_pickle('/content/gdrive/My Drive/Saved_embeddings forCyberBullying/X_train_bow.pkl')\n",
        "y_train_bows = pd.read_pickle('/content/gdrive/My Drive/Saved_embeddings forCyberBullying/y_train_bow.pkl')\n",
        "X_test_bows = pd.read_pickle('/content/gdrive/My Drive/Saved_embeddings forCyberBullying/X_test_bow.pkl')\n",
        "y_test_bows = pd.read_pickle('/content/gdrive/My Drive/Saved_embeddings forCyberBullying/y_test_bow.pkl')"
      ]
    },
    {
      "cell_type": "code",
      "execution_count": 4,
      "metadata": {
        "colab": {
          "base_uri": "https://localhost:8080/"
        },
        "id": "MWbDxRBIh-yd",
        "outputId": "7ecb700a-46ff-4eb8-a8bb-3ffa7ec25269"
      },
      "outputs": [
        {
          "output_type": "stream",
          "name": "stdout",
          "text": [
            "(37791, 500) (37791, 1) (9448, 500) (9448, 1)\n"
          ]
        }
      ],
      "source": [
        "print(X_train_bows.shape,y_train_bows.shape,X_test_bows.shape,y_test_bows.shape)"
      ]
    },
    {
      "cell_type": "markdown",
      "metadata": {
        "id": "qQ87g8tNhJ8q"
      },
      "source": [
        "**For TF-idf -**"
      ]
    },
    {
      "cell_type": "code",
      "execution_count": 5,
      "metadata": {
        "id": "7h50-M4ahJ8s"
      },
      "outputs": [],
      "source": [
        "X_train_tfs = pd.read_pickle('/content/gdrive/My Drive/Saved_embeddings forCyberBullying/X_train_tf.pkl')\n",
        "y_train_tfs = pd.read_pickle('/content/gdrive/My Drive/Saved_embeddings forCyberBullying/y_train_tf.pkl')\n",
        "X_test_tfs = pd.read_pickle('/content/gdrive/My Drive/Saved_embeddings forCyberBullying/X_test_tf.pkl')\n",
        "y_test_tfs = pd.read_pickle('/content/gdrive/My Drive/Saved_embeddings forCyberBullying/y_test_tf.pkl')"
      ]
    },
    {
      "cell_type": "code",
      "execution_count": 6,
      "metadata": {
        "colab": {
          "base_uri": "https://localhost:8080/"
        },
        "id": "6y1pvwF5iNqT",
        "outputId": "25488a21-3a86-47ef-936a-a55099ae7037"
      },
      "outputs": [
        {
          "output_type": "stream",
          "name": "stdout",
          "text": [
            "(37791, 500) (37791, 1) (9448, 500) (9448, 1)\n"
          ]
        }
      ],
      "source": [
        "print(X_train_tfs.shape,y_train_tfs.shape,X_test_tfs.shape,y_test_tfs.shape)"
      ]
    },
    {
      "cell_type": "markdown",
      "metadata": {
        "id": "r429Q-uQhb_5"
      },
      "source": [
        "**For Glove** -"
      ]
    },
    {
      "cell_type": "code",
      "execution_count": 7,
      "metadata": {
        "id": "LgBKHKuihcAL"
      },
      "outputs": [],
      "source": [
        "X_train_gloves = pd.read_pickle('/content/gdrive/My Drive/Saved_embeddings forCyberBullying/X_train_glove.pkl')\n",
        "y_train_gloves = pd.read_pickle('/content/gdrive/My Drive/Saved_embeddings forCyberBullying/y_train_glove.pkl')\n",
        "X_test_gloves = pd.read_pickle('/content/gdrive/My Drive/Saved_embeddings forCyberBullying/X_test_glove.pkl')\n",
        "y_test_gloves = pd.read_pickle('/content/gdrive/My Drive/Saved_embeddings forCyberBullying/y_test_glove.pkl')"
      ]
    },
    {
      "cell_type": "code",
      "execution_count": 8,
      "metadata": {
        "colab": {
          "base_uri": "https://localhost:8080/"
        },
        "id": "62VHZ7trgtag",
        "outputId": "f9b62378-3331-47a1-b02b-7f5037052778"
      },
      "outputs": [
        {
          "output_type": "stream",
          "name": "stdout",
          "text": [
            "(37791, 500) (37791,) (9448, 500) (9448,)\n"
          ]
        }
      ],
      "source": [
        "print(X_train_gloves.shape,y_train_gloves.shape,X_test_gloves.shape,y_test_gloves.shape)"
      ]
    },
    {
      "cell_type": "markdown",
      "metadata": {
        "id": "iBSZgerRKKcs"
      },
      "source": [
        "**For Word2Vector embedding -**"
      ]
    },
    {
      "cell_type": "code",
      "execution_count": 9,
      "metadata": {
        "id": "j-csR8S-KKct"
      },
      "outputs": [],
      "source": [
        "X_train_w2vs = pd.read_pickle('/content/gdrive/My Drive/Saved_embeddings forCyberBullying/X_train_w2v.pkl')\n",
        "y_train_w2vs = pd.read_pickle('/content/gdrive/My Drive/Saved_embeddings forCyberBullying/y_train_w2v.pkl')\n",
        "X_test_w2vs = pd.read_pickle('/content/gdrive/My Drive/Saved_embeddings forCyberBullying/X_test_w2v.pkl')\n",
        "y_test_w2vs = pd.read_pickle('/content/gdrive/My Drive/Saved_embeddings forCyberBullying/y_test_w2v.pkl')"
      ]
    },
    {
      "cell_type": "code",
      "execution_count": 10,
      "metadata": {
        "colab": {
          "base_uri": "https://localhost:8080/"
        },
        "id": "Af9HjJ5VKKct",
        "outputId": "df93ecd6-f694-4442-ab2c-c67b68c870a0"
      },
      "outputs": [
        {
          "output_type": "stream",
          "name": "stdout",
          "text": [
            "(37791, 100) (37791, 1) (9448, 100) (9448, 1)\n"
          ]
        }
      ],
      "source": [
        "print(X_train_w2vs.shape,y_train_w2vs.shape,X_test_w2vs.shape,y_test_w2vs.shape)"
      ]
    },
    {
      "cell_type": "markdown",
      "metadata": {
        "id": "PGhP1hFvi0ip"
      },
      "source": [
        "## CNN-1D"
      ]
    },
    {
      "cell_type": "markdown",
      "metadata": {
        "id": "MYXmNN9sm3cT"
      },
      "source": [
        "CNN - MODEL "
      ]
    },
    {
      "cell_type": "code",
      "execution_count": 11,
      "metadata": {
        "id": "eqOVRCV4iz6J"
      },
      "outputs": [],
      "source": [
        "def MyCNN(input_size):\n",
        "  model = Sequential();\n",
        "  #--------- Layer 2 (After input layer) ----\n",
        "  model.add(Conv1D(32,2,activation = 'relu',padding = 'same', input_shape=(input_size,1)));\n",
        "  model.add(MaxPooling1D(5,padding = 'same'));\n",
        "  # -----------Layer 3-----------------\n",
        "  model.add(Conv1D(64,3,activation = 'relu',padding = 'same'));\n",
        "  model.add(MaxPooling1D(5,padding = 'same'));\n",
        "  # -----------Layer 4-----------------\n",
        "  model.add(Conv1D(64,4,activation = 'relu',padding = 'same'));\n",
        "  model.add(MaxPooling1D(10,padding = 'same'));\n",
        "  #---------Flattening -------------\n",
        "  model.add(Flatten());\n",
        "  #---------Dense layers and Dropouts-------------------\n",
        "  model.add(Dropout(0.25))\n",
        "  model.add(Dense(32, activation='relu'));\n",
        "  model.add(Dropout(0.25))\n",
        "  model.add(Dense(6, activation='softmax'));\n",
        "  #for loss\n",
        "  model.compile(loss='categorical_crossentropy', optimizer='adam', metrics=['accuracy'])\n",
        "  return model;\n"
      ]
    },
    {
      "cell_type": "markdown",
      "metadata": {
        "id": "zfd_q8Em6eKv"
      },
      "source": [
        "Model Summary -"
      ]
    },
    {
      "cell_type": "code",
      "execution_count": 12,
      "metadata": {
        "colab": {
          "base_uri": "https://localhost:8080/"
        },
        "id": "uBGu-epg5NgP",
        "outputId": "e9985803-4d5a-48de-b4a4-a8a938f0af74"
      },
      "outputs": [
        {
          "output_type": "stream",
          "name": "stdout",
          "text": [
            "Model: \"sequential\"\n",
            "_________________________________________________________________\n",
            " Layer (type)                Output Shape              Param #   \n",
            "=================================================================\n",
            " conv1d (Conv1D)             (None, 500, 32)           96        \n",
            "                                                                 \n",
            " max_pooling1d (MaxPooling1D  (None, 100, 32)          0         \n",
            " )                                                               \n",
            "                                                                 \n",
            " conv1d_1 (Conv1D)           (None, 100, 64)           6208      \n",
            "                                                                 \n",
            " max_pooling1d_1 (MaxPooling  (None, 20, 64)           0         \n",
            " 1D)                                                             \n",
            "                                                                 \n",
            " conv1d_2 (Conv1D)           (None, 20, 64)            16448     \n",
            "                                                                 \n",
            " max_pooling1d_2 (MaxPooling  (None, 2, 64)            0         \n",
            " 1D)                                                             \n",
            "                                                                 \n",
            " flatten (Flatten)           (None, 128)               0         \n",
            "                                                                 \n",
            " dropout (Dropout)           (None, 128)               0         \n",
            "                                                                 \n",
            " dense (Dense)               (None, 32)                4128      \n",
            "                                                                 \n",
            " dropout_1 (Dropout)         (None, 32)                0         \n",
            "                                                                 \n",
            " dense_1 (Dense)             (None, 6)                 198       \n",
            "                                                                 \n",
            "=================================================================\n",
            "Total params: 27,078\n",
            "Trainable params: 27,078\n",
            "Non-trainable params: 0\n",
            "_________________________________________________________________\n"
          ]
        }
      ],
      "source": [
        "MyCNN(500).summary()"
      ]
    },
    {
      "cell_type": "code",
      "execution_count": 13,
      "metadata": {
        "id": "OUAwSaehH1OM"
      },
      "outputs": [],
      "source": [
        "def one_hot(y_train):\n",
        "  onehot_encoder = OneHotEncoder(sparse=False)\n",
        "  yy = np.asarray(y_train);\n",
        "  yy = yy.reshape(len(yy),1);\n",
        "  yy= onehot_encoder.fit_transform(yy)\n",
        "  return yy"
      ]
    },
    {
      "cell_type": "markdown",
      "metadata": {
        "id": "uOcWzAE06j42"
      },
      "source": [
        "### Traning CNN 1D for Bag of Words - "
      ]
    },
    {
      "cell_type": "code",
      "execution_count": 14,
      "metadata": {
        "id": "fnYd8IRR5qk0"
      },
      "outputs": [],
      "source": [
        "CNN_bow = MyCNN(500);"
      ]
    },
    {
      "cell_type": "markdown",
      "metadata": {
        "id": "zk5E81dw9FG5"
      },
      "source": [
        "Splitting training dataset to train(80%) and validation set(20%)"
      ]
    },
    {
      "cell_type": "code",
      "execution_count": 15,
      "metadata": {
        "colab": {
          "base_uri": "https://localhost:8080/"
        },
        "id": "jyZQh8ET9CbC",
        "outputId": "950c90c6-fec2-4995-8464-0bee9cf6f1a5"
      },
      "outputs": [
        {
          "output_type": "stream",
          "name": "stdout",
          "text": [
            "(30232, 500) (7559, 500)\n"
          ]
        }
      ],
      "source": [
        "X_train_bow, X_val_bow , y_train_bow, y_val_bow = train_test_split(X_train_bows, y_train_bows, test_size=0.2, stratify=y_train_bows, random_state = 42);\n",
        "print(X_train_bow.shape,X_val_bow.shape)"
      ]
    },
    {
      "cell_type": "code",
      "execution_count": 16,
      "metadata": {
        "id": "uN21rU-EIN3L"
      },
      "outputs": [],
      "source": [
        "y_train_bow = one_hot(y_train_bow);\n",
        "y_val_bow = one_hot(y_val_bow);"
      ]
    },
    {
      "cell_type": "code",
      "execution_count": 17,
      "metadata": {
        "id": "Zo0IeCgoJV5B"
      },
      "outputs": [],
      "source": [
        "X_train_bow = np.asarray(X_train_bow)\n",
        "X_val_bow = np.asarray(X_val_bow)"
      ]
    },
    {
      "cell_type": "markdown",
      "metadata": {
        "id": "leQ-7u4BKWJ3"
      },
      "source": [
        "\n",
        "Fitting - "
      ]
    },
    {
      "cell_type": "code",
      "execution_count": 18,
      "metadata": {
        "colab": {
          "base_uri": "https://localhost:8080/"
        },
        "id": "lwebqG-D8YTX",
        "outputId": "aa158a75-b73e-45c6-e0a3-6c285cb4115f"
      },
      "outputs": [
        {
          "output_type": "stream",
          "name": "stdout",
          "text": [
            "Epoch 1/10\n",
            "3024/3024 - 23s - loss: 1.1293 - accuracy: 0.5430 - val_loss: 0.8724 - val_accuracy: 0.6423 - 23s/epoch - 7ms/step\n",
            "Epoch 2/10\n",
            "3024/3024 - 11s - loss: 0.9465 - accuracy: 0.6168 - val_loss: 0.8298 - val_accuracy: 0.6646 - 11s/epoch - 4ms/step\n",
            "Epoch 3/10\n",
            "3024/3024 - 12s - loss: 0.8892 - accuracy: 0.6391 - val_loss: 0.7986 - val_accuracy: 0.6698 - 12s/epoch - 4ms/step\n",
            "Epoch 4/10\n",
            "3024/3024 - 11s - loss: 0.8562 - accuracy: 0.6515 - val_loss: 0.7863 - val_accuracy: 0.6878 - 11s/epoch - 4ms/step\n",
            "Epoch 5/10\n",
            "3024/3024 - 12s - loss: 0.8299 - accuracy: 0.6627 - val_loss: 0.7534 - val_accuracy: 0.6945 - 12s/epoch - 4ms/step\n",
            "Epoch 6/10\n",
            "3024/3024 - 12s - loss: 0.8098 - accuracy: 0.6706 - val_loss: 0.7483 - val_accuracy: 0.6834 - 12s/epoch - 4ms/step\n",
            "Epoch 7/10\n",
            "3024/3024 - 12s - loss: 0.8024 - accuracy: 0.6780 - val_loss: 0.7515 - val_accuracy: 0.6993 - 12s/epoch - 4ms/step\n",
            "Epoch 8/10\n",
            "3024/3024 - 11s - loss: 0.7900 - accuracy: 0.6813 - val_loss: 0.7157 - val_accuracy: 0.7083 - 11s/epoch - 4ms/step\n",
            "Epoch 9/10\n",
            "3024/3024 - 11s - loss: 0.7856 - accuracy: 0.6831 - val_loss: 0.7129 - val_accuracy: 0.7045 - 11s/epoch - 4ms/step\n",
            "Epoch 10/10\n",
            "3024/3024 - 13s - loss: 0.7742 - accuracy: 0.6875 - val_loss: 0.7240 - val_accuracy: 0.7097 - 13s/epoch - 4ms/step\n"
          ]
        }
      ],
      "source": [
        "history_bow = CNN_bow.fit(X_train_bow, y_train_bow, epochs=10,batch_size = 10, validation_data=(X_val_bow, y_val_bow), verbose=2)"
      ]
    },
    {
      "cell_type": "markdown",
      "metadata": {
        "id": "hQBRghNTSSy-"
      },
      "source": [
        "Plotting accuracy and loss graph for trainng and validation set-"
      ]
    },
    {
      "cell_type": "code",
      "execution_count": 19,
      "metadata": {
        "colab": {
          "base_uri": "https://localhost:8080/",
          "height": 458
        },
        "id": "FELeOcXrMbWP",
        "outputId": "875eb73a-babe-4d3d-f324-6e81fd8beb6f"
      },
      "outputs": [
        {
          "output_type": "display_data",
          "data": {
            "text/plain": [
              "<Figure size 1080x504 with 2 Axes>"
            ],
            "image/png": "[encoded data removed]"
          },
          "metadata": {
            "needs_background": "light"
          }
        }
      ],
      "source": [
        "plt.figure(figsize=(15,7))\n",
        "plt.subplot(1,2,1);\n",
        "plt.plot(history_bow.history['accuracy'])\n",
        "plt.plot(history_bow.history['val_accuracy'])\n",
        "plt.title('Accuracy of Train and Val for Bag of words from CNN-1D')\n",
        "plt.ylabel('Accuracy')\n",
        "plt.xlabel('Epoch')\n",
        "plt.legend(['Train', 'Validation'], loc='upper left')\n",
        "plt.subplot(1,2,2);\n",
        "plt.plot(history_bow.history['loss'])\n",
        "plt.plot(history_bow.history['val_loss'])\n",
        "plt.title('Loss from Train and Val for Bag of words from CNN-1D')\n",
        "plt.ylabel('Loss')\n",
        "plt.xlabel('Epoch')\n",
        "plt.legend(['Train', 'Validation'], loc='upper left')\n",
        "\n",
        "plt.show()"
      ]
    },
    {
      "cell_type": "markdown",
      "metadata": {
        "id": "mPZdu0vbWk9X"
      },
      "source": [
        "Testing on test set -"
      ]
    },
    {
      "cell_type": "code",
      "execution_count": 20,
      "metadata": {
        "colab": {
          "base_uri": "https://localhost:8080/"
        },
        "id": "60gwa0uZWkdu",
        "outputId": "d99ea13e-c2eb-429b-efc5-f99df0c322c1"
      },
      "outputs": [
        {
          "output_type": "stream",
          "name": "stdout",
          "text": [
            "0.7042760252952576\n"
          ]
        }
      ],
      "source": [
        "X_test_bow = np.asarray(X_test_bows);\n",
        "y_test_bow = one_hot(y_test_bows);\n",
        "_, accuracy = CNN_bow.evaluate(X_test_bow, y_test_bow, batch_size=10, verbose=0);\n",
        "print(accuracy)"
      ]
    },
    {
      "cell_type": "markdown",
      "metadata": {
        "id": "YU4wW-YjVYEX"
      },
      "source": [
        "### Traning CNN 1D for Tf-idf - "
      ]
    },
    {
      "cell_type": "code",
      "execution_count": 21,
      "metadata": {
        "id": "93EPTCtFVYEZ"
      },
      "outputs": [],
      "source": [
        "CNN_tf = MyCNN(500);"
      ]
    },
    {
      "cell_type": "markdown",
      "metadata": {
        "id": "aaa1fCwJVYEa"
      },
      "source": [
        "Splitting training dataset to train(80%) and validation set(20%)"
      ]
    },
    {
      "cell_type": "code",
      "execution_count": 22,
      "metadata": {
        "colab": {
          "base_uri": "https://localhost:8080/"
        },
        "id": "VbE0soXGVYEb",
        "outputId": "6e03e169-c6c8-45a4-80ea-a701ae484d55"
      },
      "outputs": [
        {
          "output_type": "stream",
          "name": "stdout",
          "text": [
            "(30232, 500) (7559, 500)\n"
          ]
        }
      ],
      "source": [
        "X_train_tf, X_val_tf , y_train_tf, y_val_tf = train_test_split(X_train_tfs, y_train_tfs, test_size=0.2, stratify=y_train_tfs, random_state = 42);\n",
        "print(X_train_tf.shape,X_val_tf.shape)"
      ]
    },
    {
      "cell_type": "code",
      "execution_count": 23,
      "metadata": {
        "id": "l3YaCakOVYEc"
      },
      "outputs": [],
      "source": [
        "y_train_tf = one_hot(y_train_tf);\n",
        "y_val_tf = one_hot(y_val_tf);"
      ]
    },
    {
      "cell_type": "code",
      "execution_count": 24,
      "metadata": {
        "id": "keNcTB02VYEc"
      },
      "outputs": [],
      "source": [
        "X_train_tf = np.asarray(X_train_tf)\n",
        "X_val_tf = np.asarray(X_val_tf)"
      ]
    },
    {
      "cell_type": "markdown",
      "metadata": {
        "id": "_pQ9A4XqVYEc"
      },
      "source": [
        "Fitting - "
      ]
    },
    {
      "cell_type": "code",
      "execution_count": 25,
      "metadata": {
        "colab": {
          "base_uri": "https://localhost:8080/"
        },
        "id": "gng9WHk3VYEd",
        "outputId": "ea7e193b-ed52-418e-fd1d-0922f5aea531"
      },
      "outputs": [
        {
          "output_type": "stream",
          "name": "stdout",
          "text": [
            "Epoch 1/10\n",
            "3024/3024 - 12s - loss: 1.3434 - accuracy: 0.4500 - val_loss: 0.9548 - val_accuracy: 0.6109 - 12s/epoch - 4ms/step\n",
            "Epoch 2/10\n",
            "3024/3024 - 12s - loss: 0.9881 - accuracy: 0.6010 - val_loss: 0.8556 - val_accuracy: 0.6545 - 12s/epoch - 4ms/step\n",
            "Epoch 3/10\n",
            "3024/3024 - 11s - loss: 0.9013 - accuracy: 0.6390 - val_loss: 0.8014 - val_accuracy: 0.6847 - 11s/epoch - 4ms/step\n",
            "Epoch 4/10\n",
            "3024/3024 - 13s - loss: 0.8570 - accuracy: 0.6549 - val_loss: 0.7589 - val_accuracy: 0.6936 - 13s/epoch - 4ms/step\n",
            "Epoch 5/10\n",
            "3024/3024 - 11s - loss: 0.8287 - accuracy: 0.6678 - val_loss: 0.7307 - val_accuracy: 0.7035 - 11s/epoch - 4ms/step\n",
            "Epoch 6/10\n",
            "3024/3024 - 12s - loss: 0.8091 - accuracy: 0.6778 - val_loss: 0.7110 - val_accuracy: 0.7068 - 12s/epoch - 4ms/step\n",
            "Epoch 7/10\n",
            "3024/3024 - 11s - loss: 0.7920 - accuracy: 0.6819 - val_loss: 0.7308 - val_accuracy: 0.7025 - 11s/epoch - 4ms/step\n",
            "Epoch 8/10\n",
            "3024/3024 - 11s - loss: 0.7842 - accuracy: 0.6869 - val_loss: 0.6914 - val_accuracy: 0.7144 - 11s/epoch - 4ms/step\n",
            "Epoch 9/10\n",
            "3024/3024 - 12s - loss: 0.7690 - accuracy: 0.6942 - val_loss: 0.6957 - val_accuracy: 0.7119 - 12s/epoch - 4ms/step\n",
            "Epoch 10/10\n",
            "3024/3024 - 12s - loss: 0.7592 - accuracy: 0.6944 - val_loss: 0.6788 - val_accuracy: 0.7177 - 12s/epoch - 4ms/step\n"
          ]
        }
      ],
      "source": [
        "history_tf = CNN_tf.fit(X_train_tf, y_train_tf, epochs=10,batch_size = 10, validation_data=(X_val_tf, y_val_tf), verbose=2)"
      ]
    },
    {
      "cell_type": "markdown",
      "metadata": {
        "id": "6FZC3ZdJVYEd"
      },
      "source": [
        "Plotting accuracy and loss graph for trainng and validation set-"
      ]
    },
    {
      "cell_type": "code",
      "execution_count": 26,
      "metadata": {
        "colab": {
          "base_uri": "https://localhost:8080/",
          "height": 458
        },
        "id": "PuPqGXNYVYEe",
        "outputId": "76882a42-f6d3-451e-a231-b469b40f3167"
      },
      "outputs": [
        {
          "output_type": "display_data",
          "data": {
            "text/plain": [
              "<Figure size 1080x504 with 2 Axes>"
            ],
            "image/png": "[encoded data removed]"
          },
          "metadata": {
            "needs_background": "light"
          }
        }
      ],
      "source": [
        "plt.figure(figsize=(15,7))\n",
        "plt.subplot(1,2,1);\n",
        "plt.plot(history_tf.history['accuracy'])\n",
        "plt.plot(history_tf.history['val_accuracy'])\n",
        "plt.title('Accuracy of Train and Val for TF-IDF from CNN-1D')\n",
        "plt.ylabel('Accuracy')\n",
        "plt.xlabel('Epoch')\n",
        "plt.legend(['Train', 'Validation'], loc='upper left')\n",
        "plt.subplot(1,2,2);\n",
        "plt.plot(history_tf.history['loss'])\n",
        "plt.plot(history_tf.history['val_loss'])\n",
        "plt.title('Loss from Train and Val for TF-IDF from CNN-1D')\n",
        "plt.ylabel('Loss')\n",
        "plt.xlabel('Epoch')\n",
        "plt.legend(['Train', 'Validation'], loc='upper left')\n",
        "\n",
        "plt.show()"
      ]
    },
    {
      "cell_type": "markdown",
      "metadata": {
        "id": "PGHynzi4ZtPk"
      },
      "source": [
        "Testing on test set -"
      ]
    },
    {
      "cell_type": "code",
      "execution_count": 27,
      "metadata": {
        "colab": {
          "base_uri": "https://localhost:8080/"
        },
        "id": "EdssfUDxZtPl",
        "outputId": "890843b9-9b1e-4645-fab1-9c8de09120c0"
      },
      "outputs": [
        {
          "output_type": "stream",
          "name": "stdout",
          "text": [
            "0.7113674879074097\n"
          ]
        }
      ],
      "source": [
        "X_test_tf = np.asarray(X_test_tfs);\n",
        "y_test_tf = one_hot(y_test_tfs);\n",
        "_, accuracy = CNN_tf.evaluate(X_test_tf, y_test_tf, batch_size=10, verbose=0);\n",
        "print(accuracy);"
      ]
    },
    {
      "cell_type": "markdown",
      "metadata": {
        "id": "dw5yH_Sdi6fh"
      },
      "source": [
        "### Traning CNN 1D for Glove - "
      ]
    },
    {
      "cell_type": "code",
      "execution_count": 28,
      "metadata": {
        "id": "XC2ncgVmi6fi"
      },
      "outputs": [],
      "source": [
        "CNN_glove = MyCNN(500);"
      ]
    },
    {
      "cell_type": "markdown",
      "metadata": {
        "id": "vulDR_-zi6fi"
      },
      "source": [
        "Splitting training dataset to train(80%) and validation set(20%)"
      ]
    },
    {
      "cell_type": "code",
      "execution_count": 29,
      "metadata": {
        "colab": {
          "base_uri": "https://localhost:8080/"
        },
        "id": "cv3JQctri6fi",
        "outputId": "1d4dc7aa-cf56-4874-8c4a-45e303c7daf4"
      },
      "outputs": [
        {
          "output_type": "stream",
          "name": "stdout",
          "text": [
            "(30232, 500) (7559, 500)\n"
          ]
        }
      ],
      "source": [
        "X_train_glove, X_val_glove , y_train_glove, y_val_glove = train_test_split(X_train_gloves, y_train_gloves, test_size=0.2, stratify=y_train_gloves, random_state = 42);\n",
        "print(X_train_glove.shape,X_val_glove.shape)"
      ]
    },
    {
      "cell_type": "code",
      "execution_count": 30,
      "metadata": {
        "id": "6FPBcFb8i6fj"
      },
      "outputs": [],
      "source": [
        "y_train_glove = one_hot(y_train_glove);\n",
        "y_val_glove = one_hot(y_val_glove);"
      ]
    },
    {
      "cell_type": "code",
      "execution_count": 31,
      "metadata": {
        "id": "fcwakMXRi6fj"
      },
      "outputs": [],
      "source": [
        "X_train_glove = np.asarray(X_train_glove)\n",
        "X_val_glove = np.asarray(X_val_glove)"
      ]
    },
    {
      "cell_type": "markdown",
      "metadata": {
        "id": "rXurFckti6fk"
      },
      "source": [
        "Fitting - "
      ]
    },
    {
      "cell_type": "code",
      "execution_count": 32,
      "metadata": {
        "colab": {
          "base_uri": "https://localhost:8080/"
        },
        "id": "Lil90Ugxi6fk",
        "outputId": "6b707a58-6af3-47c9-aef8-04040dd79642"
      },
      "outputs": [
        {
          "output_type": "stream",
          "name": "stdout",
          "text": [
            "Epoch 1/10\n",
            "3024/3024 - 12s - loss: 0.9400 - accuracy: 0.6230 - val_loss: 0.5993 - val_accuracy: 0.7452 - 12s/epoch - 4ms/step\n",
            "Epoch 2/10\n",
            "3024/3024 - 11s - loss: 0.6327 - accuracy: 0.7497 - val_loss: 0.5699 - val_accuracy: 0.7736 - 11s/epoch - 4ms/step\n",
            "Epoch 3/10\n",
            "3024/3024 - 11s - loss: 0.5936 - accuracy: 0.7649 - val_loss: 0.5335 - val_accuracy: 0.7849 - 11s/epoch - 4ms/step\n",
            "Epoch 4/10\n",
            "3024/3024 - 12s - loss: 0.5731 - accuracy: 0.7713 - val_loss: 0.5237 - val_accuracy: 0.7824 - 12s/epoch - 4ms/step\n",
            "Epoch 5/10\n",
            "3024/3024 - 12s - loss: 0.5513 - accuracy: 0.7805 - val_loss: 0.5241 - val_accuracy: 0.7887 - 12s/epoch - 4ms/step\n",
            "Epoch 6/10\n",
            "3024/3024 - 11s - loss: 0.5446 - accuracy: 0.7816 - val_loss: 0.5011 - val_accuracy: 0.8000 - 11s/epoch - 4ms/step\n",
            "Epoch 7/10\n",
            "3024/3024 - 12s - loss: 0.5307 - accuracy: 0.7890 - val_loss: 0.4907 - val_accuracy: 0.7965 - 12s/epoch - 4ms/step\n",
            "Epoch 8/10\n",
            "3024/3024 - 12s - loss: 0.5206 - accuracy: 0.7909 - val_loss: 0.4946 - val_accuracy: 0.7955 - 12s/epoch - 4ms/step\n",
            "Epoch 9/10\n",
            "3024/3024 - 12s - loss: 0.5175 - accuracy: 0.7933 - val_loss: 0.5008 - val_accuracy: 0.7927 - 12s/epoch - 4ms/step\n",
            "Epoch 10/10\n",
            "3024/3024 - 11s - loss: 0.5113 - accuracy: 0.7918 - val_loss: 0.4869 - val_accuracy: 0.7976 - 11s/epoch - 4ms/step\n"
          ]
        }
      ],
      "source": [
        "history_glove = CNN_glove.fit(X_train_glove, y_train_glove, epochs=10,batch_size = 10, validation_data=(X_val_glove, y_val_glove), verbose=2)"
      ]
    },
    {
      "cell_type": "markdown",
      "metadata": {
        "id": "P807BfGxi6fk"
      },
      "source": [
        "Plotting accuracy and loss graph for trainng and validation set-"
      ]
    },
    {
      "cell_type": "code",
      "execution_count": 33,
      "metadata": {
        "colab": {
          "base_uri": "https://localhost:8080/",
          "height": 458
        },
        "id": "-N-2Ind6i6fl",
        "outputId": "bd11087a-0598-48ef-e201-98e71b525016"
      },
      "outputs": [
        {
          "output_type": "display_data",
          "data": {
            "text/plain": [
              "<Figure size 1080x504 with 2 Axes>"
            ],
            "image/png": "[encoded data removed]"
          },
          "metadata": {
            "needs_background": "light"
          }
        }
      ],
      "source": [
        "plt.figure(figsize=(15,7))\n",
        "plt.subplot(1,2,1);\n",
        "plt.plot(history_glove.history['accuracy'])\n",
        "plt.plot(history_glove.history['val_accuracy'])\n",
        "plt.title('Accuracy of Train and Val for gloVe from CNN-1D')\n",
        "plt.ylabel('Accuracy')\n",
        "plt.xlabel('Epoch')\n",
        "plt.legend(['Train', 'Validation'], loc='upper left')\n",
        "plt.subplot(1,2,2);\n",
        "plt.plot(history_glove.history['loss'])\n",
        "plt.plot(history_glove.history['val_loss'])\n",
        "plt.title('Loss from Train and Val for gloVe from CNN-1D')\n",
        "plt.ylabel('Loss')\n",
        "plt.xlabel('Epoch')\n",
        "plt.legend(['Train', 'Validation'], loc='upper left')\n",
        "\n",
        "plt.show()"
      ]
    },
    {
      "cell_type": "markdown",
      "metadata": {
        "id": "ktzk84ALi6fl"
      },
      "source": [
        "Testing on test set -"
      ]
    },
    {
      "cell_type": "code",
      "execution_count": 34,
      "metadata": {
        "colab": {
          "base_uri": "https://localhost:8080/"
        },
        "id": "uFUYPWfGi6fm",
        "outputId": "7bb5ed1a-bc43-441a-f473-ccdd3c32ae9d"
      },
      "outputs": [
        {
          "output_type": "stream",
          "name": "stdout",
          "text": [
            "0.7970998883247375\n"
          ]
        }
      ],
      "source": [
        "X_test_glove = np.asarray(X_test_gloves);\n",
        "y_test_glove = one_hot(y_test_gloves);\n",
        "_, accuracy = CNN_glove.evaluate(X_test_glove, y_test_glove, batch_size=10, verbose=0);\n",
        "print(accuracy);"
      ]
    },
    {
      "cell_type": "markdown",
      "metadata": {
        "id": "FW6cOucMK5XE"
      },
      "source": [
        "### Traning CNN 1D for Word2Vec - "
      ]
    },
    {
      "cell_type": "code",
      "execution_count": 35,
      "metadata": {
        "id": "0W7dHKL6K5XF"
      },
      "outputs": [],
      "source": [
        "CNN_w2v = MyCNN(100);"
      ]
    },
    {
      "cell_type": "markdown",
      "metadata": {
        "id": "rbdaKediK5XF"
      },
      "source": [
        "Splitting training dataset to train(80%) and validation set(20%)"
      ]
    },
    {
      "cell_type": "code",
      "execution_count": 36,
      "metadata": {
        "colab": {
          "base_uri": "https://localhost:8080/"
        },
        "id": "Muvess2FK5XG",
        "outputId": "c030bfce-c220-4dce-bdb7-95f4fb267716"
      },
      "outputs": [
        {
          "output_type": "stream",
          "name": "stdout",
          "text": [
            "(30232, 100) (7559, 100)\n"
          ]
        }
      ],
      "source": [
        "X_train_w2v, X_val_w2v , y_train_w2v, y_val_w2v = train_test_split(X_train_w2vs, y_train_w2vs, test_size=0.2, stratify=y_train_w2vs, random_state = 42);\n",
        "print(X_train_w2v.shape,X_val_w2v.shape)"
      ]
    },
    {
      "cell_type": "code",
      "execution_count": 37,
      "metadata": {
        "id": "l517Av5lK5XH"
      },
      "outputs": [],
      "source": [
        "y_train_w2v = one_hot(y_train_w2v);\n",
        "y_val_w2v = one_hot(y_val_w2v);"
      ]
    },
    {
      "cell_type": "code",
      "execution_count": 38,
      "metadata": {
        "id": "whvqs6XpK5XH"
      },
      "outputs": [],
      "source": [
        "X_train_w2v = np.asarray(X_train_w2v)\n",
        "X_val_w2v = np.asarray(X_val_w2v)"
      ]
    },
    {
      "cell_type": "markdown",
      "metadata": {
        "id": "HEXIkEgwK5XH"
      },
      "source": [
        "Fitting - "
      ]
    },
    {
      "cell_type": "code",
      "execution_count": 39,
      "metadata": {
        "id": "0m0ygh4TK5XI",
        "colab": {
          "base_uri": "https://localhost:8080/"
        },
        "outputId": "fa8d594d-d40d-447f-9c68-54faa53a44cb"
      },
      "outputs": [
        {
          "output_type": "stream",
          "name": "stdout",
          "text": [
            "Epoch 1/10\n",
            "3024/3024 - 13s - loss: 1.4793 - accuracy: 0.3680 - val_loss: 1.2802 - val_accuracy: 0.4596 - 13s/epoch - 4ms/step\n",
            "Epoch 2/10\n",
            "3024/3024 - 11s - loss: 1.3010 - accuracy: 0.4550 - val_loss: 1.2298 - val_accuracy: 0.4868 - 11s/epoch - 4ms/step\n",
            "Epoch 3/10\n",
            "3024/3024 - 11s - loss: 1.2592 - accuracy: 0.4775 - val_loss: 1.2116 - val_accuracy: 0.5011 - 11s/epoch - 4ms/step\n",
            "Epoch 4/10\n",
            "3024/3024 - 11s - loss: 1.2274 - accuracy: 0.4982 - val_loss: 1.1995 - val_accuracy: 0.5177 - 11s/epoch - 4ms/step\n",
            "Epoch 5/10\n",
            "3024/3024 - 11s - loss: 1.2016 - accuracy: 0.5167 - val_loss: 1.1468 - val_accuracy: 0.5371 - 11s/epoch - 4ms/step\n",
            "Epoch 6/10\n",
            "3024/3024 - 12s - loss: 1.1784 - accuracy: 0.5281 - val_loss: 1.1305 - val_accuracy: 0.5560 - 12s/epoch - 4ms/step\n",
            "Epoch 7/10\n",
            "3024/3024 - 12s - loss: 1.1641 - accuracy: 0.5375 - val_loss: 1.1246 - val_accuracy: 0.5499 - 12s/epoch - 4ms/step\n",
            "Epoch 8/10\n",
            "3024/3024 - 12s - loss: 1.1543 - accuracy: 0.5400 - val_loss: 1.1132 - val_accuracy: 0.5572 - 12s/epoch - 4ms/step\n",
            "Epoch 9/10\n",
            "3024/3024 - 12s - loss: 1.1406 - accuracy: 0.5432 - val_loss: 1.0892 - val_accuracy: 0.5596 - 12s/epoch - 4ms/step\n",
            "Epoch 10/10\n",
            "3024/3024 - 11s - loss: 1.1313 - accuracy: 0.5492 - val_loss: 1.0755 - val_accuracy: 0.5801 - 11s/epoch - 4ms/step\n"
          ]
        }
      ],
      "source": [
        "history_w2v = CNN_w2v.fit(X_train_w2v, y_train_w2v, epochs=10,batch_size = 10, validation_data=(X_val_w2v, y_val_w2v), verbose=2)"
      ]
    },
    {
      "cell_type": "markdown",
      "metadata": {
        "id": "F-o8SBStK5XI"
      },
      "source": [
        "Plotting accuracy and loss graph for trainng and validation set-"
      ]
    },
    {
      "cell_type": "code",
      "execution_count": 40,
      "metadata": {
        "id": "wXawSBx_K5XI",
        "colab": {
          "base_uri": "https://localhost:8080/",
          "height": 458
        },
        "outputId": "ab7f9e31-1e89-46a5-8259-ee6b8a134030"
      },
      "outputs": [
        {
          "output_type": "display_data",
          "data": {
            "text/plain": [
              "<Figure size 1080x504 with 2 Axes>"
            ],
            "image/png": "[encoded data removed]"
          },
          "metadata": {
            "needs_background": "light"
          }
        }
      ],
      "source": [
        "plt.figure(figsize=(15,7))\n",
        "plt.subplot(1,2,1);\n",
        "plt.plot(history_w2v.history['accuracy'])\n",
        "plt.plot(history_w2v.history['val_accuracy'])\n",
        "plt.title('Accuracy of Train and Val for Word2Vec from CNN-1D')\n",
        "plt.ylabel('Accuracy')\n",
        "plt.xlabel('Epoch')\n",
        "plt.legend(['Train', 'Validation'], loc='upper left')\n",
        "plt.subplot(1,2,2);\n",
        "plt.plot(history_w2v.history['loss'])\n",
        "plt.plot(history_w2v.history['val_loss'])\n",
        "plt.title('Loss from Train and Val for Word2Vec from CNN-1D')\n",
        "plt.ylabel('Loss')\n",
        "plt.xlabel('Epoch')\n",
        "plt.legend(['Train', 'Validation'], loc='upper left')\n",
        "\n",
        "plt.show()"
      ]
    },
    {
      "cell_type": "markdown",
      "metadata": {
        "id": "hy5CSUxzK5XJ"
      },
      "source": [
        "Testing on test set -"
      ]
    },
    {
      "cell_type": "code",
      "execution_count": 41,
      "metadata": {
        "id": "ZK8Yz-IpK5XJ",
        "colab": {
          "base_uri": "https://localhost:8080/"
        },
        "outputId": "ee8be4de-7b94-438f-a692-dec82e99ad49"
      },
      "outputs": [
        {
          "output_type": "stream",
          "name": "stdout",
          "text": [
            "0.5796993970870972\n"
          ]
        }
      ],
      "source": [
        "X_test_w2v = np.asarray(X_test_w2vs);\n",
        "y_test_w2v = one_hot(y_test_w2vs);\n",
        "_, accuracy = CNN_w2v.evaluate(X_test_w2v, y_test_w2v, batch_size=10, verbose=0);\n",
        "print(accuracy);"
      ]
    }
  ],
  "metadata": {
    "accelerator": "GPU",
    "colab": {
      "name": "CNN_1D.ipynb",
      "provenance": [],
      "collapsed_sections": []
    },
    "kernelspec": {
      "display_name": "Python 3",
      "name": "python3"
    },
    "language_info": {
      "name": "python"
    }
  },
  "nbformat": 4,
  "nbformat_minor": 0
}