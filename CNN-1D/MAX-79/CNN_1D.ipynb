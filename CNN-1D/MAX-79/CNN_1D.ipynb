{
  "cells": [
    {
      "cell_type": "markdown",
      "metadata": {
        "id": "vSAQHc-pxZbX"
      },
      "source": [
        "## CNN-1D implementation for CyberBullying text classification problem using sentiment analysis."
      ]
    },
    {
      "cell_type": "code",
      "execution_count": 1,
      "metadata": {
        "id": "6QSR7Ig4fzBH"
      },
      "outputs": [],
      "source": [
        "import numpy as np\n",
        "import pandas as pd\n",
        "from sklearn.model_selection import train_test_split\n",
        "from sklearn import metrics\n",
        "from sklearn import model_selection\n",
        "from sklearn.preprocessing import OneHotEncoder\n",
        "from keras.layers import Embedding\n",
        "from keras import Sequential\n",
        "from keras.layers import Input\n",
        "from keras.layers import Conv1D\n",
        "from keras.layers import MaxPooling1D\n",
        "from keras.layers import Flatten\n",
        "from keras.layers import Dropout\n",
        "from keras.layers import Dense\n",
        "from keras.models import load_model\n",
        "import matplotlib.pyplot as plt"
      ]
    },
    {
      "cell_type": "markdown",
      "metadata": {
        "id": "65RDIKSTxs1S"
      },
      "source": [
        "### Recap about preprocessing step -  \n",
        "\n",
        "\n",
        "*   As we can not use text directly for classification, we have created word embeddings. We created embeddings after cleaning and stemming.\n",
        "*   We have used following word embeddings - \n",
        "    1. Bag of words\n",
        "    2. Tf-idf (Term Frequency-Inverse Document Frequency)\n",
        "    3. GloVe word embedding\n",
        "    4. Word2vec embedding\n",
        "*   We have saved these embeddings in preprocessing step and will be using here.\n",
        "*   We have also encoded vectors for output labels.\n",
        "\n",
        "\n",
        "\n",
        "\n",
        "\n",
        "\n"
      ]
    },
    {
      "cell_type": "markdown",
      "metadata": {
        "id": "4ahIhRrJviWy"
      },
      "source": [
        "Loading Embeddings - "
      ]
    },
    {
      "cell_type": "code",
      "execution_count": 3,
      "metadata": {
        "colab": {
          "base_uri": "https://localhost:8080/"
        },
        "id": "EtXLE4Legxg9",
        "outputId": "55254c55-d58d-44eb-f703-cef62c4febd2"
      },
      "outputs": [
        {
          "output_type": "stream",
          "name": "stdout",
          "text": [
            "Mounted at /content/gdrive\n"
          ]
        }
      ],
      "source": [
        "from google.colab import drive\n",
        "drive.mount('/content/gdrive')"
      ]
    },
    {
      "cell_type": "markdown",
      "metadata": {
        "id": "9D4Rx1qOhAeU"
      },
      "source": [
        "**For BAG OF WORDS** -"
      ]
    },
    {
      "cell_type": "code",
      "execution_count": null,
      "metadata": {
        "id": "fLVbsdi7t5G7"
      },
      "outputs": [],
      "source": [
        "X_train_bows = pd.read_pickle('/content/gdrive/My Drive/Saved_embeddings forCyberBullying/X_train_bow.pkl')\n",
        "y_train_bows = pd.read_pickle('/content/gdrive/My Drive/Saved_embeddings forCyberBullying/y_train_bow.pkl')\n",
        "X_test_bows = pd.read_pickle('/content/gdrive/My Drive/Saved_embeddings forCyberBullying/X_test_bow.pkl')\n",
        "y_test_bows = pd.read_pickle('/content/gdrive/My Drive/Saved_embeddings forCyberBullying/y_test_bow.pkl')"
      ]
    },
    {
      "cell_type": "code",
      "execution_count": null,
      "metadata": {
        "colab": {
          "base_uri": "https://localhost:8080/"
        },
        "id": "MWbDxRBIh-yd",
        "outputId": "ed4a89ad-dbaf-443f-ae98-aca068053f1a"
      },
      "outputs": [
        {
          "name": "stdout",
          "output_type": "stream",
          "text": [
            "(37791, 500) (37791,) (9448, 500) (9448,)\n"
          ]
        }
      ],
      "source": [
        "print(X_train_bows.shape,y_train_bows.shape,X_test_bows.shape,y_test_bows.shape)"
      ]
    },
    {
      "cell_type": "markdown",
      "metadata": {
        "id": "qQ87g8tNhJ8q"
      },
      "source": [
        "**For TF-idf -**"
      ]
    },
    {
      "cell_type": "code",
      "execution_count": null,
      "metadata": {
        "id": "7h50-M4ahJ8s"
      },
      "outputs": [],
      "source": [
        "X_train_tfs = pd.read_pickle('/content/gdrive/My Drive/Saved_embeddings forCyberBullying/X_train_tf.pkl')\n",
        "y_train_tfs = pd.read_pickle('/content/gdrive/My Drive/Saved_embeddings forCyberBullying/y_train_tf.pkl')\n",
        "X_test_tfs = pd.read_pickle('/content/gdrive/My Drive/Saved_embeddings forCyberBullying/X_test_tf.pkl')\n",
        "y_test_tfs = pd.read_pickle('/content/gdrive/My Drive/Saved_embeddings forCyberBullying/y_test_tf.pkl')"
      ]
    },
    {
      "cell_type": "code",
      "execution_count": null,
      "metadata": {
        "colab": {
          "base_uri": "https://localhost:8080/"
        },
        "id": "6y1pvwF5iNqT",
        "outputId": "42b69b17-986a-4361-9472-c7e8d82ccaf9"
      },
      "outputs": [
        {
          "name": "stdout",
          "output_type": "stream",
          "text": [
            "(37791, 500) (37791,) (9448, 500) (9448,)\n"
          ]
        }
      ],
      "source": [
        "print(X_train_tfs.shape,y_train_tfs.shape,X_test_tfs.shape,y_test_tfs.shape)"
      ]
    },
    {
      "cell_type": "markdown",
      "metadata": {
        "id": "r429Q-uQhb_5"
      },
      "source": [
        "**For Glove** -"
      ]
    },
    {
      "cell_type": "code",
      "execution_count": null,
      "metadata": {
        "id": "LgBKHKuihcAL"
      },
      "outputs": [],
      "source": [
        "X_train_gloves = pd.read_pickle('/content/gdrive/My Drive/Saved_embeddings forCyberBullying/X_train_glove.pkl')\n",
        "y_train_gloves = pd.read_pickle('/content/gdrive/My Drive/Saved_embeddings forCyberBullying/y_train_glove.pkl')\n",
        "X_test_gloves = pd.read_pickle('/content/gdrive/My Drive/Saved_embeddings forCyberBullying/X_test_glove.pkl')\n",
        "y_test_gloves = pd.read_pickle('/content/gdrive/My Drive/Saved_embeddings forCyberBullying/y_test_glove.pkl')"
      ]
    },
    {
      "cell_type": "code",
      "execution_count": null,
      "metadata": {
        "colab": {
          "base_uri": "https://localhost:8080/"
        },
        "id": "62VHZ7trgtag",
        "outputId": "e82e7558-1f14-4e95-fa57-e8ea057050c6"
      },
      "outputs": [
        {
          "name": "stdout",
          "output_type": "stream",
          "text": [
            "(37791, 500) (37791,) (9448, 500) (9448,)\n"
          ]
        }
      ],
      "source": [
        "print(X_train_gloves.shape,y_train_gloves.shape,X_test_gloves.shape,y_test_gloves.shape)"
      ]
    },
    {
      "cell_type": "markdown",
      "metadata": {
        "id": "iBSZgerRKKcs"
      },
      "source": [
        "**For Word2Vector embedding -**"
      ]
    },
    {
      "cell_type": "code",
      "execution_count": 4,
      "metadata": {
        "id": "j-csR8S-KKct"
      },
      "outputs": [],
      "source": [
        "X_train_w2vs = pd.read_pickle('/content/gdrive/My Drive/Saved_embeddings forCyberBullying/X_train_w2v.pkl')\n",
        "y_train_w2vs = pd.read_pickle('/content/gdrive/My Drive/Saved_embeddings forCyberBullying/y_train_w2v.pkl')\n",
        "X_test_w2vs = pd.read_pickle('/content/gdrive/My Drive/Saved_embeddings forCyberBullying/X_test_w2v.pkl')\n",
        "y_test_w2vs = pd.read_pickle('/content/gdrive/My Drive/Saved_embeddings forCyberBullying/y_test_w2v.pkl')"
      ]
    },
    {
      "cell_type": "code",
      "execution_count": null,
      "metadata": {
        "colab": {
          "base_uri": "https://localhost:8080/"
        },
        "outputId": "e82e7558-1f14-4e95-fa57-e8ea057050c6",
        "id": "Af9HjJ5VKKct"
      },
      "outputs": [
        {
          "name": "stdout",
          "output_type": "stream",
          "text": [
            "(37791, 500) (37791,) (9448, 500) (9448,)\n"
          ]
        }
      ],
      "source": [
        "print(X_train_gloves.shape,y_train_gloves.shape,X_test_gloves.shape,y_test_gloves.shape)"
      ]
    },
    {
      "cell_type": "markdown",
      "metadata": {
        "id": "PGhP1hFvi0ip"
      },
      "source": [
        "## CNN-1D"
      ]
    },
    {
      "cell_type": "markdown",
      "metadata": {
        "id": "MYXmNN9sm3cT"
      },
      "source": [
        "CNN - MODEL "
      ]
    },
    {
      "cell_type": "code",
      "execution_count": 6,
      "metadata": {
        "id": "eqOVRCV4iz6J"
      },
      "outputs": [],
      "source": [
        "def MyCNN(input_size):\n",
        "  model = Sequential();\n",
        "  #--------- Layer 2 (After input layer) ----\n",
        "  model.add(Conv1D(128,3,activation = 'relu', input_shape=(input_size,1)));\n",
        "  model.add(Conv1D(128,3,activation = 'relu'));\n",
        "  model.add(MaxPooling1D(2));\n",
        "  # -----------Layer 3-----------------\n",
        "  model.add(Conv1D(64,3,activation = 'relu'));\n",
        "  model.add(MaxPooling1D(3));\n",
        "  # -----------Layer 4-----------------\n",
        "  model.add(Conv1D(64,3,activation = 'relu'));\n",
        "  model.add(MaxPooling1D(4));\n",
        "  #---------Flattening -------------\n",
        "  model.add(Flatten());\n",
        "  #---------Dense layers and Dropouts-------------------\n",
        "  model.add(Dense(128, activation='relu'));\n",
        "  model.add(Dropout(0.25))\n",
        "  model.add(Dense(32, activation='relu'));\n",
        "  model.add(Dense(6, activation='softmax'));\n",
        "  #for loss\n",
        "  model.compile(loss='categorical_crossentropy', optimizer='adam', metrics=['accuracy'])\n",
        "  return model;\n"
      ]
    },
    {
      "cell_type": "markdown",
      "metadata": {
        "id": "zfd_q8Em6eKv"
      },
      "source": [
        "Model Summary -"
      ]
    },
    {
      "cell_type": "code",
      "execution_count": 7,
      "metadata": {
        "colab": {
          "base_uri": "https://localhost:8080/"
        },
        "id": "uBGu-epg5NgP",
        "outputId": "8f2da9e1-ffd9-4d90-d661-8125f64564b5"
      },
      "outputs": [
        {
          "output_type": "stream",
          "name": "stdout",
          "text": [
            "Model: \"sequential\"\n",
            "_________________________________________________________________\n",
            " Layer (type)                Output Shape              Param #   \n",
            "=================================================================\n",
            " conv1d (Conv1D)             (None, 498, 128)          512       \n",
            "                                                                 \n",
            " conv1d_1 (Conv1D)           (None, 496, 128)          49280     \n",
            "                                                                 \n",
            " max_pooling1d (MaxPooling1D  (None, 248, 128)         0         \n",
            " )                                                               \n",
            "                                                                 \n",
            " conv1d_2 (Conv1D)           (None, 246, 64)           24640     \n",
            "                                                                 \n",
            " max_pooling1d_1 (MaxPooling  (None, 82, 64)           0         \n",
            " 1D)                                                             \n",
            "                                                                 \n",
            " conv1d_3 (Conv1D)           (None, 80, 64)            12352     \n",
            "                                                                 \n",
            " max_pooling1d_2 (MaxPooling  (None, 20, 64)           0         \n",
            " 1D)                                                             \n",
            "                                                                 \n",
            " flatten (Flatten)           (None, 1280)              0         \n",
            "                                                                 \n",
            " dense (Dense)               (None, 128)               163968    \n",
            "                                                                 \n",
            " dropout (Dropout)           (None, 128)               0         \n",
            "                                                                 \n",
            " dense_1 (Dense)             (None, 32)                4128      \n",
            "                                                                 \n",
            " dense_2 (Dense)             (None, 6)                 198       \n",
            "                                                                 \n",
            "=================================================================\n",
            "Total params: 255,078\n",
            "Trainable params: 255,078\n",
            "Non-trainable params: 0\n",
            "_________________________________________________________________\n"
          ]
        }
      ],
      "source": [
        "MyCNN(500).summary()"
      ]
    },
    {
      "cell_type": "code",
      "execution_count": 8,
      "metadata": {
        "id": "OUAwSaehH1OM"
      },
      "outputs": [],
      "source": [
        "def one_hot(y_train):\n",
        "  onehot_encoder = OneHotEncoder(sparse=False)\n",
        "  yy = np.asarray(y_train);\n",
        "  yy = yy.reshape(len(yy),1);\n",
        "  yy= onehot_encoder.fit_transform(yy)\n",
        "  return yy"
      ]
    },
    {
      "cell_type": "markdown",
      "metadata": {
        "id": "uOcWzAE06j42"
      },
      "source": [
        "### Traning CNN 1D for Bag of Words - "
      ]
    },
    {
      "cell_type": "code",
      "execution_count": null,
      "metadata": {
        "id": "fnYd8IRR5qk0"
      },
      "outputs": [],
      "source": [
        "CNN_bow = MyCNN(500);"
      ]
    },
    {
      "cell_type": "markdown",
      "metadata": {
        "id": "zk5E81dw9FG5"
      },
      "source": [
        "Splitting training dataset to train(80%) and validation set(20%)"
      ]
    },
    {
      "cell_type": "code",
      "execution_count": null,
      "metadata": {
        "colab": {
          "base_uri": "https://localhost:8080/"
        },
        "id": "jyZQh8ET9CbC",
        "outputId": "473f5211-5313-4a36-80b7-015aae6a3cff"
      },
      "outputs": [
        {
          "name": "stdout",
          "output_type": "stream",
          "text": [
            "(30232, 500) (7559, 500)\n"
          ]
        }
      ],
      "source": [
        "X_train_bow, X_val_bow , y_train_bow, y_val_bow = train_test_split(X_train_bows, y_train_bows, test_size=0.2, stratify=y_train_bows, random_state = 42);\n",
        "print(X_train_bow.shape,X_val_bow.shape)"
      ]
    },
    {
      "cell_type": "code",
      "execution_count": null,
      "metadata": {
        "id": "uN21rU-EIN3L"
      },
      "outputs": [],
      "source": [
        "y_train_bow = one_hot(y_train_bow);\n",
        "y_val_bow = one_hot(y_val_bow);"
      ]
    },
    {
      "cell_type": "code",
      "execution_count": null,
      "metadata": {
        "id": "Zo0IeCgoJV5B"
      },
      "outputs": [],
      "source": [
        "X_train_bow = np.asarray(X_train_bow)\n",
        "X_val_bow = np.asarray(X_val_bow)"
      ]
    },
    {
      "cell_type": "markdown",
      "metadata": {
        "id": "leQ-7u4BKWJ3"
      },
      "source": [
        "\n",
        "Fitting - "
      ]
    },
    {
      "cell_type": "code",
      "execution_count": null,
      "metadata": {
        "colab": {
          "base_uri": "https://localhost:8080/"
        },
        "id": "lwebqG-D8YTX",
        "outputId": "4babe3f8-6029-480f-b228-190f32d27bbc"
      },
      "outputs": [
        {
          "name": "stdout",
          "output_type": "stream",
          "text": [
            "Epoch 1/15\n",
            "945/945 - 170s - loss: 0.7550 - accuracy: 0.6873 - val_loss: 0.5626 - val_accuracy: 0.7537 - 170s/epoch - 180ms/step\n",
            "Epoch 2/15\n",
            "945/945 - 171s - loss: 0.5089 - accuracy: 0.7900 - val_loss: 0.4934 - val_accuracy: 0.7927 - 171s/epoch - 181ms/step\n",
            "Epoch 3/15\n",
            "945/945 - 175s - loss: 0.4650 - accuracy: 0.8070 - val_loss: 0.4902 - val_accuracy: 0.7894 - 175s/epoch - 185ms/step\n",
            "Epoch 4/15\n",
            "945/945 - 181s - loss: 0.4433 - accuracy: 0.8154 - val_loss: 0.4710 - val_accuracy: 0.7971 - 181s/epoch - 191ms/step\n",
            "Epoch 5/15\n",
            "945/945 - 206s - loss: 0.4136 - accuracy: 0.8253 - val_loss: 0.4717 - val_accuracy: 0.8016 - 206s/epoch - 218ms/step\n",
            "Epoch 6/15\n",
            "945/945 - 189s - loss: 0.3987 - accuracy: 0.8294 - val_loss: 0.4714 - val_accuracy: 0.8049 - 189s/epoch - 200ms/step\n",
            "Epoch 7/15\n",
            "945/945 - 166s - loss: 0.3821 - accuracy: 0.8377 - val_loss: 0.4744 - val_accuracy: 0.8010 - 166s/epoch - 176ms/step\n",
            "Epoch 8/15\n",
            "945/945 - 166s - loss: 0.3623 - accuracy: 0.8448 - val_loss: 0.4898 - val_accuracy: 0.8045 - 166s/epoch - 175ms/step\n",
            "Epoch 9/15\n",
            "945/945 - 167s - loss: 0.3484 - accuracy: 0.8489 - val_loss: 0.5003 - val_accuracy: 0.8028 - 167s/epoch - 177ms/step\n",
            "Epoch 10/15\n",
            "945/945 - 170s - loss: 0.3353 - accuracy: 0.8538 - val_loss: 0.5367 - val_accuracy: 0.7977 - 170s/epoch - 180ms/step\n",
            "Epoch 11/15\n",
            "945/945 - 166s - loss: 0.3185 - accuracy: 0.8623 - val_loss: 0.5367 - val_accuracy: 0.7975 - 166s/epoch - 176ms/step\n",
            "Epoch 12/15\n",
            "945/945 - 169s - loss: 0.3069 - accuracy: 0.8671 - val_loss: 0.5476 - val_accuracy: 0.7936 - 169s/epoch - 179ms/step\n",
            "Epoch 13/15\n",
            "945/945 - 169s - loss: 0.2947 - accuracy: 0.8732 - val_loss: 0.5879 - val_accuracy: 0.7935 - 169s/epoch - 179ms/step\n",
            "Epoch 14/15\n",
            "945/945 - 168s - loss: 0.2871 - accuracy: 0.8750 - val_loss: 0.5834 - val_accuracy: 0.7926 - 168s/epoch - 178ms/step\n",
            "Epoch 15/15\n",
            "945/945 - 170s - loss: 0.2717 - accuracy: 0.8805 - val_loss: 0.6075 - val_accuracy: 0.7903 - 170s/epoch - 180ms/step\n"
          ]
        }
      ],
      "source": [
        "history_bow = CNN_bow.fit(X_train_bow, y_train_bow, epochs=15,batch_size = 32, validation_data=(X_val_bow, y_val_bow), verbose=2)"
      ]
    },
    {
      "cell_type": "markdown",
      "metadata": {
        "id": "hQBRghNTSSy-"
      },
      "source": [
        "Plotting accuracy and loss graph for trainng and validation set-"
      ]
    },
    {
      "cell_type": "code",
      "execution_count": null,
      "metadata": {
        "colab": {
          "base_uri": "https://localhost:8080/",
          "height": 458
        },
        "id": "FELeOcXrMbWP",
        "outputId": "64f132d9-9447-44e8-9b39-f38fbffe0e20"
      },
      "outputs": [
        {
          "data": {
            "image/png": "[encoded data removed]",
            "text/plain": [
              "<Figure size 1080x504 with 2 Axes>"
            ]
          },
          "metadata": {},
          "output_type": "display_data"
        }
      ],
      "source": [
        "plt.figure(figsize=(15,7))\n",
        "plt.subplot(1,2,1);\n",
        "plt.plot(history_bow.history['accuracy'])\n",
        "plt.plot(history_bow.history['val_accuracy'])\n",
        "plt.title('Accuracy of Train and Val for Bag of words from CNN-1D')\n",
        "plt.ylabel('Accuracy')\n",
        "plt.xlabel('Epoch')\n",
        "plt.legend(['Train', 'Validation'], loc='upper left')\n",
        "plt.subplot(1,2,2);\n",
        "plt.plot(history_bow.history['loss'])\n",
        "plt.plot(history_bow.history['val_loss'])\n",
        "plt.title('Loss from Train and Val for Bag of words from CNN-1D')\n",
        "plt.ylabel('Loss')\n",
        "plt.xlabel('Epoch')\n",
        "plt.legend(['Train', 'Validation'], loc='upper left')\n",
        "\n",
        "plt.show()"
      ]
    },
    {
      "cell_type": "markdown",
      "metadata": {
        "id": "mPZdu0vbWk9X"
      },
      "source": [
        "Testing on test set -"
      ]
    },
    {
      "cell_type": "code",
      "execution_count": null,
      "metadata": {
        "colab": {
          "base_uri": "https://localhost:8080/"
        },
        "id": "60gwa0uZWkdu",
        "outputId": "307b261b-b6b5-467a-a9bd-328537759ac4"
      },
      "outputs": [
        {
          "name": "stdout",
          "output_type": "stream",
          "text": [
            "0.7918077707290649\n"
          ]
        }
      ],
      "source": [
        "X_test_bow = np.asarray(X_test_bows);\n",
        "y_test_bow = one_hot(y_test_bows);\n",
        "_, accuracy = CNN_bow.evaluate(X_test_bow, y_test_bow, batch_size=32, verbose=0);\n",
        "print(accuracy)"
      ]
    },
    {
      "cell_type": "markdown",
      "metadata": {
        "id": "YU4wW-YjVYEX"
      },
      "source": [
        "### Traning CNN 1D for Tf-idf - "
      ]
    },
    {
      "cell_type": "code",
      "execution_count": null,
      "metadata": {
        "id": "93EPTCtFVYEZ"
      },
      "outputs": [],
      "source": [
        "CNN_tf = MyCNN(500);"
      ]
    },
    {
      "cell_type": "markdown",
      "metadata": {
        "id": "aaa1fCwJVYEa"
      },
      "source": [
        "Splitting training dataset to train(80%) and validation set(20%)"
      ]
    },
    {
      "cell_type": "code",
      "execution_count": null,
      "metadata": {
        "colab": {
          "base_uri": "https://localhost:8080/"
        },
        "id": "VbE0soXGVYEb",
        "outputId": "c012f3ab-aa73-45e3-bfb8-77b914878413"
      },
      "outputs": [
        {
          "name": "stdout",
          "output_type": "stream",
          "text": [
            "(30232, 500) (7559, 500)\n"
          ]
        }
      ],
      "source": [
        "X_train_tf, X_val_tf , y_train_tf, y_val_tf = train_test_split(X_train_tfs, y_train_tfs, test_size=0.2, stratify=y_train_tfs, random_state = 42);\n",
        "print(X_train_tf.shape,X_val_tf.shape)"
      ]
    },
    {
      "cell_type": "code",
      "execution_count": null,
      "metadata": {
        "id": "l3YaCakOVYEc"
      },
      "outputs": [],
      "source": [
        "y_train_tf = one_hot(y_train_tf);\n",
        "y_val_tf = one_hot(y_val_tf);"
      ]
    },
    {
      "cell_type": "code",
      "execution_count": null,
      "metadata": {
        "id": "keNcTB02VYEc"
      },
      "outputs": [],
      "source": [
        "X_train_tf = np.asarray(X_train_tf)\n",
        "X_val_tf = np.asarray(X_val_tf)"
      ]
    },
    {
      "cell_type": "markdown",
      "metadata": {
        "id": "_pQ9A4XqVYEc"
      },
      "source": [
        "Fitting - "
      ]
    },
    {
      "cell_type": "code",
      "execution_count": null,
      "metadata": {
        "colab": {
          "background_save": true,
          "base_uri": "https://localhost:8080/"
        },
        "id": "gng9WHk3VYEd",
        "outputId": "fc05c141-ce7e-4b2d-89e2-02f9042214b2"
      },
      "outputs": [
        {
          "name": "stdout",
          "output_type": "stream",
          "text": [
            "Epoch 1/15\n",
            "945/945 - 215s - loss: 0.9539 - accuracy: 0.6121 - val_loss: 0.5755 - val_accuracy: 0.7699 - 215s/epoch - 227ms/step\n",
            "Epoch 2/15\n",
            "945/945 - 185s - loss: 0.5585 - accuracy: 0.7788 - val_loss: 0.5433 - val_accuracy: 0.7837 - 185s/epoch - 196ms/step\n",
            "Epoch 3/15\n",
            "945/945 - 171s - loss: 0.5047 - accuracy: 0.7953 - val_loss: 0.5077 - val_accuracy: 0.7889 - 171s/epoch - 181ms/step\n",
            "Epoch 4/15\n",
            "945/945 - 175s - loss: 0.4702 - accuracy: 0.8050 - val_loss: 0.4943 - val_accuracy: 0.7985 - 175s/epoch - 185ms/step\n",
            "Epoch 5/15\n",
            "945/945 - 166s - loss: 0.4408 - accuracy: 0.8189 - val_loss: 0.4902 - val_accuracy: 0.7971 - 166s/epoch - 176ms/step\n",
            "Epoch 6/15\n",
            "945/945 - 169s - loss: 0.4208 - accuracy: 0.8242 - val_loss: 0.4779 - val_accuracy: 0.8009 - 169s/epoch - 179ms/step\n",
            "Epoch 7/15\n",
            "945/945 - 173s - loss: 0.3971 - accuracy: 0.8318 - val_loss: 0.4989 - val_accuracy: 0.8012 - 173s/epoch - 183ms/step\n",
            "Epoch 8/15\n",
            "945/945 - 166s - loss: 0.3739 - accuracy: 0.8414 - val_loss: 0.4929 - val_accuracy: 0.7951 - 166s/epoch - 176ms/step\n",
            "Epoch 9/15\n",
            "945/945 - 166s - loss: 0.3552 - accuracy: 0.8490 - val_loss: 0.5066 - val_accuracy: 0.7993 - 166s/epoch - 175ms/step\n",
            "Epoch 10/15\n",
            "945/945 - 166s - loss: 0.3394 - accuracy: 0.8542 - val_loss: 0.5381 - val_accuracy: 0.8001 - 166s/epoch - 176ms/step\n",
            "Epoch 11/15\n",
            "945/945 - 165s - loss: 0.3198 - accuracy: 0.8611 - val_loss: 0.5503 - val_accuracy: 0.7993 - 165s/epoch - 174ms/step\n",
            "Epoch 12/15\n",
            "945/945 - 165s - loss: 0.3107 - accuracy: 0.8649 - val_loss: 0.5738 - val_accuracy: 0.7943 - 165s/epoch - 175ms/step\n",
            "Epoch 13/15\n",
            "945/945 - 166s - loss: 0.2981 - accuracy: 0.8728 - val_loss: 0.5824 - val_accuracy: 0.7885 - 166s/epoch - 176ms/step\n",
            "Epoch 14/15\n",
            "945/945 - 165s - loss: 0.2851 - accuracy: 0.8768 - val_loss: 0.5988 - val_accuracy: 0.7980 - 165s/epoch - 174ms/step\n",
            "Epoch 15/15\n",
            "945/945 - 166s - loss: 0.2784 - accuracy: 0.8799 - val_loss: 0.5943 - val_accuracy: 0.7936 - 166s/epoch - 176ms/step\n"
          ]
        }
      ],
      "source": [
        "history_tf = CNN_tf.fit(X_train_tf, y_train_tf, epochs=15,batch_size = 32, validation_data=(X_val_tf, y_val_tf), verbose=2)"
      ]
    },
    {
      "cell_type": "markdown",
      "metadata": {
        "id": "6FZC3ZdJVYEd"
      },
      "source": [
        "Plotting accuracy and loss graph for trainng and validation set-"
      ]
    },
    {
      "cell_type": "code",
      "execution_count": null,
      "metadata": {
        "colab": {
          "base_uri": "https://localhost:8080/",
          "height": 458
        },
        "id": "PuPqGXNYVYEe",
        "outputId": "a1b42faa-fa65-4b4e-9c65-63067f5a1ad2"
      },
      "outputs": [
        {
          "output_type": "display_data",
          "data": {
            "text/plain": [
              "<Figure size 1080x504 with 2 Axes>"
            ],
            "image/png": "[encoded data removed]"
          },
          "metadata": {
            "needs_background": "light"
          }
        }
      ],
      "source": [
        "plt.figure(figsize=(15,7))\n",
        "plt.subplot(1,2,1);\n",
        "plt.plot(history_tf.history['accuracy'])\n",
        "plt.plot(history_tf.history['val_accuracy'])\n",
        "plt.title('Accuracy of Train and Val for TF-IDF from CNN-1D')\n",
        "plt.ylabel('Accuracy')\n",
        "plt.xlabel('Epoch')\n",
        "plt.legend(['Train', 'Validation'], loc='upper left')\n",
        "plt.subplot(1,2,2);\n",
        "plt.plot(history_tf.history['loss'])\n",
        "plt.plot(history_tf.history['val_loss'])\n",
        "plt.title('Loss from Train and Val for TF-IDF from CNN-1D')\n",
        "plt.ylabel('Loss')\n",
        "plt.xlabel('Epoch')\n",
        "plt.legend(['Train', 'Validation'], loc='upper left')\n",
        "\n",
        "plt.show()"
      ]
    },
    {
      "cell_type": "markdown",
      "metadata": {
        "id": "PGHynzi4ZtPk"
      },
      "source": [
        "Testing on test set -"
      ]
    },
    {
      "cell_type": "code",
      "execution_count": null,
      "metadata": {
        "id": "EdssfUDxZtPl",
        "colab": {
          "base_uri": "https://localhost:8080/"
        },
        "outputId": "b3a8af0d-4546-43b8-d12a-506cb997dbe1"
      },
      "outputs": [
        {
          "output_type": "stream",
          "name": "stdout",
          "text": [
            "0.7920194864273071\n"
          ]
        }
      ],
      "source": [
        "X_test_tf = np.asarray(X_test_tfs);\n",
        "y_test_tf = one_hot(y_test_tfs);\n",
        "_, accuracy = CNN_tf.evaluate(X_test_tf, y_test_tf, batch_size=32, verbose=0);\n",
        "print(accuracy);"
      ]
    },
    {
      "cell_type": "markdown",
      "metadata": {
        "id": "dw5yH_Sdi6fh"
      },
      "source": [
        "### Traning CNN 1D for Glove - "
      ]
    },
    {
      "cell_type": "code",
      "execution_count": null,
      "metadata": {
        "id": "XC2ncgVmi6fi"
      },
      "outputs": [],
      "source": [
        "CNN_glove = MyCNN(500);"
      ]
    },
    {
      "cell_type": "markdown",
      "metadata": {
        "id": "vulDR_-zi6fi"
      },
      "source": [
        "Splitting training dataset to train(80%) and validation set(20%)"
      ]
    },
    {
      "cell_type": "code",
      "execution_count": null,
      "metadata": {
        "id": "cv3JQctri6fi",
        "colab": {
          "base_uri": "https://localhost:8080/"
        },
        "outputId": "ce651200-07fd-475a-ea89-936116e23538"
      },
      "outputs": [
        {
          "output_type": "stream",
          "name": "stdout",
          "text": [
            "(30232, 500) (7559, 500)\n"
          ]
        }
      ],
      "source": [
        "X_train_glove, X_val_glove , y_train_glove, y_val_glove = train_test_split(X_train_gloves, y_train_gloves, test_size=0.2, stratify=y_train_gloves, random_state = 42);\n",
        "print(X_train_glove.shape,X_val_glove.shape)"
      ]
    },
    {
      "cell_type": "code",
      "execution_count": null,
      "metadata": {
        "id": "6FPBcFb8i6fj"
      },
      "outputs": [],
      "source": [
        "y_train_glove = one_hot(y_train_glove);\n",
        "y_val_glove = one_hot(y_val_glove);"
      ]
    },
    {
      "cell_type": "code",
      "execution_count": null,
      "metadata": {
        "id": "fcwakMXRi6fj"
      },
      "outputs": [],
      "source": [
        "X_train_glove = np.asarray(X_train_glove)\n",
        "X_val_glove = np.asarray(X_val_glove)"
      ]
    },
    {
      "cell_type": "markdown",
      "metadata": {
        "id": "rXurFckti6fk"
      },
      "source": [
        "Fitting - "
      ]
    },
    {
      "cell_type": "code",
      "execution_count": null,
      "metadata": {
        "id": "Lil90Ugxi6fk",
        "colab": {
          "base_uri": "https://localhost:8080/"
        },
        "outputId": "f1e94629-b156-49aa-d64e-50ee352c2965"
      },
      "outputs": [
        {
          "output_type": "stream",
          "name": "stdout",
          "text": [
            "Epoch 1/15\n",
            "945/945 - 175s - loss: 0.6897 - accuracy: 0.7272 - val_loss: 0.4972 - val_accuracy: 0.8017 - 175s/epoch - 186ms/step\n",
            "Epoch 2/15\n",
            "945/945 - 175s - loss: 0.5194 - accuracy: 0.7910 - val_loss: 0.4821 - val_accuracy: 0.8053 - 175s/epoch - 185ms/step\n",
            "Epoch 3/15\n",
            "945/945 - 171s - loss: 0.4932 - accuracy: 0.8004 - val_loss: 0.4631 - val_accuracy: 0.8083 - 171s/epoch - 181ms/step\n",
            "Epoch 4/15\n",
            "945/945 - 169s - loss: 0.4769 - accuracy: 0.8056 - val_loss: 0.4571 - val_accuracy: 0.8116 - 169s/epoch - 179ms/step\n",
            "Epoch 5/15\n",
            "945/945 - 169s - loss: 0.4572 - accuracy: 0.8103 - val_loss: 0.4476 - val_accuracy: 0.8132 - 169s/epoch - 179ms/step\n",
            "Epoch 6/15\n",
            "945/945 - 171s - loss: 0.4459 - accuracy: 0.8160 - val_loss: 0.4764 - val_accuracy: 0.8039 - 171s/epoch - 181ms/step\n",
            "Epoch 7/15\n",
            "945/945 - 169s - loss: 0.4360 - accuracy: 0.8181 - val_loss: 0.4418 - val_accuracy: 0.8226 - 169s/epoch - 179ms/step\n",
            "Epoch 8/15\n",
            "945/945 - 170s - loss: 0.4270 - accuracy: 0.8214 - val_loss: 0.4503 - val_accuracy: 0.8177 - 170s/epoch - 179ms/step\n",
            "Epoch 9/15\n",
            "945/945 - 171s - loss: 0.4130 - accuracy: 0.8281 - val_loss: 0.4659 - val_accuracy: 0.8120 - 171s/epoch - 181ms/step\n",
            "Epoch 10/15\n",
            "945/945 - 169s - loss: 0.4054 - accuracy: 0.8305 - val_loss: 0.4568 - val_accuracy: 0.8168 - 169s/epoch - 179ms/step\n",
            "Epoch 11/15\n",
            "945/945 - 169s - loss: 0.3923 - accuracy: 0.8335 - val_loss: 0.4570 - val_accuracy: 0.8131 - 169s/epoch - 179ms/step\n",
            "Epoch 12/15\n",
            "945/945 - 169s - loss: 0.3841 - accuracy: 0.8372 - val_loss: 0.4561 - val_accuracy: 0.8173 - 169s/epoch - 179ms/step\n",
            "Epoch 13/15\n",
            "945/945 - 170s - loss: 0.3726 - accuracy: 0.8402 - val_loss: 0.4610 - val_accuracy: 0.8129 - 170s/epoch - 179ms/step\n",
            "Epoch 14/15\n",
            "945/945 - 170s - loss: 0.3650 - accuracy: 0.8452 - val_loss: 0.4669 - val_accuracy: 0.8094 - 170s/epoch - 180ms/step\n",
            "Epoch 15/15\n",
            "945/945 - 169s - loss: 0.3568 - accuracy: 0.8473 - val_loss: 0.4764 - val_accuracy: 0.8084 - 169s/epoch - 179ms/step\n"
          ]
        }
      ],
      "source": [
        "history_glove = CNN_glove.fit(X_train_glove, y_train_glove, epochs=15,batch_size = 32, validation_data=(X_val_glove, y_val_glove), verbose=2)"
      ]
    },
    {
      "cell_type": "markdown",
      "metadata": {
        "id": "P807BfGxi6fk"
      },
      "source": [
        "Plotting accuracy and loss graph for trainng and validation set-"
      ]
    },
    {
      "cell_type": "code",
      "execution_count": null,
      "metadata": {
        "id": "-N-2Ind6i6fl",
        "colab": {
          "base_uri": "https://localhost:8080/"
        },
        "outputId": "235cd23b-95f9-4cd3-9667-54343ae038c6"
      },
      "outputs": [
        {
          "output_type": "display_data",
          "data": {
            "text/plain": [
              "<Figure size 1080x504 with 2 Axes>"
            ],
            "image/png": "[encoded data removed]"
          },
          "metadata": {
            "needs_background": "light"
          }
        }
      ],
      "source": [
        "plt.figure(figsize=(15,7))\n",
        "plt.subplot(1,2,1);\n",
        "plt.plot(history_glove.history['accuracy'])\n",
        "plt.plot(history_glove.history['val_accuracy'])\n",
        "plt.title('Accuracy of Train and Val for gloVe from CNN-1D')\n",
        "plt.ylabel('Accuracy')\n",
        "plt.xlabel('Epoch')\n",
        "plt.legend(['Train', 'Validation'], loc='upper left')\n",
        "plt.subplot(1,2,2);\n",
        "plt.plot(history_glove.history['loss'])\n",
        "plt.plot(history_glove.history['val_loss'])\n",
        "plt.title('Loss from Train and Val for gloVe from CNN-1D')\n",
        "plt.ylabel('Loss')\n",
        "plt.xlabel('Epoch')\n",
        "plt.legend(['Train', 'Validation'], loc='upper left')\n",
        "\n",
        "plt.show()"
      ]
    },
    {
      "cell_type": "markdown",
      "metadata": {
        "id": "ktzk84ALi6fl"
      },
      "source": [
        "Testing on test set -"
      ]
    },
    {
      "cell_type": "code",
      "execution_count": null,
      "metadata": {
        "id": "uFUYPWfGi6fm",
        "colab": {
          "base_uri": "https://localhost:8080/"
        },
        "outputId": "c2c71932-51c7-485e-e9f2-aea30f3fbfde"
      },
      "outputs": [
        {
          "output_type": "stream",
          "name": "stdout",
          "text": [
            "0.7959356307983398\n"
          ]
        }
      ],
      "source": [
        "X_test_glove = np.asarray(X_test_gloves);\n",
        "y_test_glove = one_hot(y_test_gloves);\n",
        "_, accuracy = CNN_glove.evaluate(X_test_glove, y_test_glove, batch_size=32, verbose=0);\n",
        "print(accuracy);"
      ]
    },
    {
      "cell_type": "markdown",
      "metadata": {
        "id": "FW6cOucMK5XE"
      },
      "source": [
        "### Traning CNN 1D for Word2Vec - "
      ]
    },
    {
      "cell_type": "code",
      "execution_count": 9,
      "metadata": {
        "id": "0W7dHKL6K5XF"
      },
      "outputs": [],
      "source": [
        "CNN_w2v = MyCNN(100);"
      ]
    },
    {
      "cell_type": "markdown",
      "metadata": {
        "id": "rbdaKediK5XF"
      },
      "source": [
        "Splitting training dataset to train(80%) and validation set(20%)"
      ]
    },
    {
      "cell_type": "code",
      "execution_count": 10,
      "metadata": {
        "colab": {
          "base_uri": "https://localhost:8080/"
        },
        "outputId": "ab92ed2f-a756-4893-ddac-d4f9038ad95b",
        "id": "Muvess2FK5XG"
      },
      "outputs": [
        {
          "output_type": "stream",
          "name": "stdout",
          "text": [
            "(30232, 100) (7559, 100)\n"
          ]
        }
      ],
      "source": [
        "X_train_w2v, X_val_w2v , y_train_w2v, y_val_w2v = train_test_split(X_train_w2vs, y_train_w2vs, test_size=0.2, stratify=y_train_w2vs, random_state = 42);\n",
        "print(X_train_w2v.shape,X_val_w2v.shape)"
      ]
    },
    {
      "cell_type": "code",
      "execution_count": 11,
      "metadata": {
        "id": "l517Av5lK5XH"
      },
      "outputs": [],
      "source": [
        "y_train_w2v = one_hot(y_train_w2v);\n",
        "y_val_w2v = one_hot(y_val_w2v);"
      ]
    },
    {
      "cell_type": "code",
      "execution_count": 12,
      "metadata": {
        "id": "whvqs6XpK5XH"
      },
      "outputs": [],
      "source": [
        "X_train_w2v = np.asarray(X_train_w2v)\n",
        "X_val_w2v = np.asarray(X_val_w2v)"
      ]
    },
    {
      "cell_type": "markdown",
      "metadata": {
        "id": "HEXIkEgwK5XH"
      },
      "source": [
        "Fitting - "
      ]
    },
    {
      "cell_type": "code",
      "execution_count": 13,
      "metadata": {
        "colab": {
          "base_uri": "https://localhost:8080/"
        },
        "outputId": "e4690b53-fc25-4f8e-8ca0-4d5edec10ef8",
        "id": "0m0ygh4TK5XI"
      },
      "outputs": [
        {
          "output_type": "stream",
          "name": "stdout",
          "text": [
            "Epoch 1/15\n",
            "945/945 - 38s - loss: 1.3932 - accuracy: 0.4156 - val_loss: 1.2578 - val_accuracy: 0.4798 - 38s/epoch - 40ms/step\n",
            "Epoch 2/15\n",
            "945/945 - 36s - loss: 1.2272 - accuracy: 0.4995 - val_loss: 1.1825 - val_accuracy: 0.5177 - 36s/epoch - 38ms/step\n",
            "Epoch 3/15\n",
            "945/945 - 40s - loss: 1.1716 - accuracy: 0.5207 - val_loss: 1.2208 - val_accuracy: 0.4995 - 40s/epoch - 42ms/step\n",
            "Epoch 4/15\n",
            "945/945 - 38s - loss: 1.1432 - accuracy: 0.5359 - val_loss: 1.1237 - val_accuracy: 0.5485 - 38s/epoch - 40ms/step\n",
            "Epoch 5/15\n",
            "945/945 - 36s - loss: 1.1152 - accuracy: 0.5500 - val_loss: 1.0711 - val_accuracy: 0.5694 - 36s/epoch - 39ms/step\n",
            "Epoch 6/15\n",
            "945/945 - 36s - loss: 1.0888 - accuracy: 0.5615 - val_loss: 1.0619 - val_accuracy: 0.5745 - 36s/epoch - 39ms/step\n",
            "Epoch 7/15\n",
            "945/945 - 35s - loss: 1.0719 - accuracy: 0.5710 - val_loss: 1.0193 - val_accuracy: 0.5937 - 35s/epoch - 37ms/step\n",
            "Epoch 8/15\n",
            "945/945 - 35s - loss: 1.0522 - accuracy: 0.5822 - val_loss: 1.0183 - val_accuracy: 0.5883 - 35s/epoch - 37ms/step\n",
            "Epoch 9/15\n",
            "945/945 - 35s - loss: 1.0420 - accuracy: 0.5823 - val_loss: 1.0724 - val_accuracy: 0.5634 - 35s/epoch - 38ms/step\n",
            "Epoch 10/15\n",
            "945/945 - 35s - loss: 1.0256 - accuracy: 0.5913 - val_loss: 1.0093 - val_accuracy: 0.6005 - 35s/epoch - 37ms/step\n",
            "Epoch 11/15\n",
            "945/945 - 35s - loss: 1.0146 - accuracy: 0.5967 - val_loss: 0.9992 - val_accuracy: 0.6042 - 35s/epoch - 37ms/step\n",
            "Epoch 12/15\n",
            "945/945 - 35s - loss: 1.0071 - accuracy: 0.6002 - val_loss: 1.0116 - val_accuracy: 0.5944 - 35s/epoch - 37ms/step\n",
            "Epoch 13/15\n",
            "945/945 - 35s - loss: 0.9951 - accuracy: 0.6049 - val_loss: 0.9885 - val_accuracy: 0.6062 - 35s/epoch - 37ms/step\n",
            "Epoch 14/15\n",
            "945/945 - 36s - loss: 0.9849 - accuracy: 0.6049 - val_loss: 1.0028 - val_accuracy: 0.5939 - 36s/epoch - 38ms/step\n",
            "Epoch 15/15\n",
            "945/945 - 35s - loss: 0.9776 - accuracy: 0.6096 - val_loss: 0.9851 - val_accuracy: 0.6079 - 35s/epoch - 37ms/step\n"
          ]
        }
      ],
      "source": [
        "history_w2v = CNN_w2v.fit(X_train_w2v, y_train_w2v, epochs=15,batch_size = 32, validation_data=(X_val_w2v, y_val_w2v), verbose=2)"
      ]
    },
    {
      "cell_type": "markdown",
      "metadata": {
        "id": "F-o8SBStK5XI"
      },
      "source": [
        "Plotting accuracy and loss graph for trainng and validation set-"
      ]
    },
    {
      "cell_type": "code",
      "execution_count": 14,
      "metadata": {
        "colab": {
          "base_uri": "https://localhost:8080/",
          "height": 458
        },
        "outputId": "96a1bc52-9cfe-41b1-bce9-19ba085b7a67",
        "id": "wXawSBx_K5XI"
      },
      "outputs": [
        {
          "output_type": "display_data",
          "data": {
            "text/plain": [
              "<Figure size 1080x504 with 2 Axes>"
            ],
            "image/png": "[encoded data removed]"
          },
          "metadata": {
            "needs_background": "light"
          }
        }
      ],
      "source": [
        "plt.figure(figsize=(15,7))\n",
        "plt.subplot(1,2,1);\n",
        "plt.plot(history_w2v.history['accuracy'])\n",
        "plt.plot(history_w2v.history['val_accuracy'])\n",
        "plt.title('Accuracy of Train and Val for Word2Vec from CNN-1D')\n",
        "plt.ylabel('Accuracy')\n",
        "plt.xlabel('Epoch')\n",
        "plt.legend(['Train', 'Validation'], loc='upper left')\n",
        "plt.subplot(1,2,2);\n",
        "plt.plot(history_w2v.history['loss'])\n",
        "plt.plot(history_w2v.history['val_loss'])\n",
        "plt.title('Loss from Train and Val for Word2Vec from CNN-1D')\n",
        "plt.ylabel('Loss')\n",
        "plt.xlabel('Epoch')\n",
        "plt.legend(['Train', 'Validation'], loc='upper left')\n",
        "\n",
        "plt.show()"
      ]
    },
    {
      "cell_type": "markdown",
      "metadata": {
        "id": "hy5CSUxzK5XJ"
      },
      "source": [
        "Testing on test set -"
      ]
    },
    {
      "cell_type": "code",
      "execution_count": 15,
      "metadata": {
        "colab": {
          "base_uri": "https://localhost:8080/"
        },
        "outputId": "ba92f9ac-11b1-4b35-8c88-2f479fc1b7ce",
        "id": "ZK8Yz-IpK5XJ"
      },
      "outputs": [
        {
          "output_type": "stream",
          "name": "stdout",
          "text": [
            "0.6069009304046631\n"
          ]
        }
      ],
      "source": [
        "X_test_w2v = np.asarray(X_test_w2vs);\n",
        "y_test_w2v = one_hot(y_test_w2vs);\n",
        "_, accuracy = CNN_w2v.evaluate(X_test_w2v, y_test_w2v, batch_size=32, verbose=0);\n",
        "print(accuracy);"
      ]
    }
  ],
  "metadata": {
    "accelerator": "GPU",
    "colab": {
      "name": "CNN-1D.ipynb",
      "provenance": []
    },
    "kernelspec": {
      "display_name": "Python 3",
      "name": "python3"
    },
    "language_info": {
      "name": "python"
    }
  },
  "nbformat": 4,
  "nbformat_minor": 0
}